{
 "cells": [
  {
   "cell_type": "code",
   "execution_count": 1,
   "metadata": {
    "pycharm": {
     "name": "#%%\n"
    }
   },
   "outputs": [],
   "source": [
    "\n",
    "# Import the usual suspects.\n",
    "\n",
    "from __future__ import print_function\n",
    "import pandas as pd\n",
    "import numpy as np\n",
    "import matplotlib.pyplot as plt\n",
    "import seaborn as sns\n",
    "from sklearn.decomposition import PCA\n",
    "from sklearn.model_selection import train_test_split\n",
    "\n",
    "#Import scikit-learn metrics module for accuracy calculation\n",
    "from sklearn import metrics\n",
    "\n",
    "from sklearn.model_selection import cross_val_score\n",
    "from sklearn.metrics import classification_report, confusion_matrix\n",
    "\n",
    "\n",
    "\n",
    "\n",
    "import warnings\n",
    "warnings.filterwarnings('ignore')\n",
    "sns.set_style('whitegrid')\n",
    "sns.set_context('paper')\n",
    "\n",
    "\n",
    "\n",
    "def print_ln():\n",
    "    print('-' * 80, '\\n')\n"
   ]
  },
  {
   "cell_type": "code",
   "execution_count": 29,
   "metadata": {},
   "outputs": [],
   "source": [
    "\n",
    "def model_performance_metrics(model, X, X_test, X_train, y, y_test, y_pred, detailed= False, show_feature_importances= True):\n",
    "\n",
    "    print(\"Accuracy:\",metrics.accuracy_score(y_test, y_pred))\n",
    "    print('Mean Absolute Error:', metrics.mean_absolute_error(y_test, y_pred))\n",
    "    print('Mean Squared Error:', metrics.mean_squared_error(y_test, y_pred))\n",
    "    print('Root Mean Squared Error:', np.sqrt(metrics.mean_squared_error(y_test, y_pred)))\n",
    "    print_ln()\n",
    "\n",
    "\n",
    "    if show_feature_importances:\n",
    "\n",
    "        feature_importances = pd.DataFrame(model.feature_importances_,\n",
    "                                               index =  X_train.columns,\n",
    "                                               columns=['importance']).sort_values('importance', ascending=False)\n",
    "\n",
    "\n",
    "\n",
    "        print(\"=== Feature Importances ===\")\n",
    "        print(feature_importances)\n",
    "\n",
    "\n",
    "\n",
    "    if detailed:\n",
    "        model_score = cross_val_score(model, X, y, cv=10)\n",
    "\n",
    "\n",
    "        print(\"=== Confusion Matrix ===\")\n",
    "        print(confusion_matrix(y_test, y_pred))\n",
    "        print_ln()\n",
    "\n",
    "        print(\"=== Classification Report ===\")\n",
    "        print(classification_report(y_test, y_pred))\n",
    "        print_ln()\n",
    "\n",
    "        print(\"=== All AUC Scores ===\")\n",
    "        print(model_score)\n",
    "\n",
    "        print_ln()\n",
    "\n",
    "        print(\"=== Mean AUC Score ===\")\n",
    "        print(model_score.mean())\n",
    "        print_ln()\n"
   ]
  },
  {
   "cell_type": "code",
   "execution_count": 4,
   "metadata": {},
   "outputs": [
    {
     "data": {
      "text/plain": "   Unnamed: 0    SampleID  NC000962_3.78  NC000962_3.80  NC000962_3.102  \\\n0           0  ERR3129939              0              0               0   \n1           1  ERR3148148              0              0               0   \n2           2  ERR3148149              0              0               0   \n3           3  ERR3148151              0              0               0   \n4           4  ERR3148153              0              0               0   \n\n   NC000962_3.104  NC000962_3.117  NC000962_3.120  NC000962_3.135  \\\n0               0               0               0               0   \n1               0               0               0               0   \n2               0               0               0               0   \n3               0               0               0               0   \n4               0               0               0               0   \n\n   NC000962_3.138  ...  amikacin_resistance  kanamycin_resistance  \\\n0               0  ...                  0.0                   0.0   \n1               0  ...                  0.0                   0.0   \n2               0  ...                  0.0                   0.0   \n3               0  ...                  0.0                   0.0   \n4               0  ...                  0.0                   0.0   \n\n   capreomycin_resistance  ethionamide_resistance  \\\n0                     0.0                     0.0   \n1                     0.0                     0.0   \n2                     0.0                     0.0   \n3                     0.0                     0.0   \n4                     0.0                     0.0   \n\n   para-aminosalicylic_acid_resistance  cycloserine_resistance  \\\n0                                  0.0                     0.0   \n1                                  0.0                     0.0   \n2                                  0.0                     0.0   \n3                                  0.0                     0.0   \n4                                  0.0                     0.0   \n\n   linezolid_resistance  bedaquiline_resistance  clofazimine_resistance  \\\n0                   0.0                     0.0                     0.0   \n1                   0.0                     0.0                     0.0   \n2                   0.0                     0.0                     0.0   \n3                   0.0                     0.0                     0.0   \n4                   0.0                     0.0                     0.0   \n\n   delamanid_resistance  \n0                   0.0  \n1                   0.0  \n2                   0.0  \n3                   0.0  \n4                   0.0  \n\n[5 rows x 118691 columns]",
      "text/html": "<div>\n<style scoped>\n    .dataframe tbody tr th:only-of-type {\n        vertical-align: middle;\n    }\n\n    .dataframe tbody tr th {\n        vertical-align: top;\n    }\n\n    .dataframe thead th {\n        text-align: right;\n    }\n</style>\n<table border=\"1\" class=\"dataframe\">\n  <thead>\n    <tr style=\"text-align: right;\">\n      <th></th>\n      <th>Unnamed: 0</th>\n      <th>SampleID</th>\n      <th>NC000962_3.78</th>\n      <th>NC000962_3.80</th>\n      <th>NC000962_3.102</th>\n      <th>NC000962_3.104</th>\n      <th>NC000962_3.117</th>\n      <th>NC000962_3.120</th>\n      <th>NC000962_3.135</th>\n      <th>NC000962_3.138</th>\n      <th>...</th>\n      <th>amikacin_resistance</th>\n      <th>kanamycin_resistance</th>\n      <th>capreomycin_resistance</th>\n      <th>ethionamide_resistance</th>\n      <th>para-aminosalicylic_acid_resistance</th>\n      <th>cycloserine_resistance</th>\n      <th>linezolid_resistance</th>\n      <th>bedaquiline_resistance</th>\n      <th>clofazimine_resistance</th>\n      <th>delamanid_resistance</th>\n    </tr>\n  </thead>\n  <tbody>\n    <tr>\n      <th>0</th>\n      <td>0</td>\n      <td>ERR3129939</td>\n      <td>0</td>\n      <td>0</td>\n      <td>0</td>\n      <td>0</td>\n      <td>0</td>\n      <td>0</td>\n      <td>0</td>\n      <td>0</td>\n      <td>...</td>\n      <td>0.0</td>\n      <td>0.0</td>\n      <td>0.0</td>\n      <td>0.0</td>\n      <td>0.0</td>\n      <td>0.0</td>\n      <td>0.0</td>\n      <td>0.0</td>\n      <td>0.0</td>\n      <td>0.0</td>\n    </tr>\n    <tr>\n      <th>1</th>\n      <td>1</td>\n      <td>ERR3148148</td>\n      <td>0</td>\n      <td>0</td>\n      <td>0</td>\n      <td>0</td>\n      <td>0</td>\n      <td>0</td>\n      <td>0</td>\n      <td>0</td>\n      <td>...</td>\n      <td>0.0</td>\n      <td>0.0</td>\n      <td>0.0</td>\n      <td>0.0</td>\n      <td>0.0</td>\n      <td>0.0</td>\n      <td>0.0</td>\n      <td>0.0</td>\n      <td>0.0</td>\n      <td>0.0</td>\n    </tr>\n    <tr>\n      <th>2</th>\n      <td>2</td>\n      <td>ERR3148149</td>\n      <td>0</td>\n      <td>0</td>\n      <td>0</td>\n      <td>0</td>\n      <td>0</td>\n      <td>0</td>\n      <td>0</td>\n      <td>0</td>\n      <td>...</td>\n      <td>0.0</td>\n      <td>0.0</td>\n      <td>0.0</td>\n      <td>0.0</td>\n      <td>0.0</td>\n      <td>0.0</td>\n      <td>0.0</td>\n      <td>0.0</td>\n      <td>0.0</td>\n      <td>0.0</td>\n    </tr>\n    <tr>\n      <th>3</th>\n      <td>3</td>\n      <td>ERR3148151</td>\n      <td>0</td>\n      <td>0</td>\n      <td>0</td>\n      <td>0</td>\n      <td>0</td>\n      <td>0</td>\n      <td>0</td>\n      <td>0</td>\n      <td>...</td>\n      <td>0.0</td>\n      <td>0.0</td>\n      <td>0.0</td>\n      <td>0.0</td>\n      <td>0.0</td>\n      <td>0.0</td>\n      <td>0.0</td>\n      <td>0.0</td>\n      <td>0.0</td>\n      <td>0.0</td>\n    </tr>\n    <tr>\n      <th>4</th>\n      <td>4</td>\n      <td>ERR3148153</td>\n      <td>0</td>\n      <td>0</td>\n      <td>0</td>\n      <td>0</td>\n      <td>0</td>\n      <td>0</td>\n      <td>0</td>\n      <td>0</td>\n      <td>...</td>\n      <td>0.0</td>\n      <td>0.0</td>\n      <td>0.0</td>\n      <td>0.0</td>\n      <td>0.0</td>\n      <td>0.0</td>\n      <td>0.0</td>\n      <td>0.0</td>\n      <td>0.0</td>\n      <td>0.0</td>\n    </tr>\n  </tbody>\n</table>\n<p>5 rows × 118691 columns</p>\n</div>"
     },
     "execution_count": 4,
     "metadata": {},
     "output_type": "execute_result"
    }
   ],
   "source": [
    "multi_resistance_df_filledna = pd.read_csv(\"../data/processed/multi_resistance_filledna_df.csv\")\n",
    "\n",
    "multi_resistance_df_filledna.head()"
   ]
  },
  {
   "cell_type": "code",
   "execution_count": 6,
   "metadata": {},
   "outputs": [
    {
     "data": {
      "text/plain": "            NC000962_3.78  NC000962_3.80  NC000962_3.102  NC000962_3.104  \\\nSampleID                                                                   \nERR3129939              0              0               0               0   \nERR3148148              0              0               0               0   \nERR3148149              0              0               0               0   \nERR3148151              0              0               0               0   \nERR3148153              0              0               0               0   \n\n            NC000962_3.117  NC000962_3.120  NC000962_3.135  NC000962_3.138  \\\nSampleID                                                                     \nERR3129939               0               0               0               0   \nERR3148148               0               0               0               0   \nERR3148149               0               0               0               0   \nERR3148151               0               0               0               0   \nERR3148153               0               0               0               0   \n\n            NC000962_3.150  NC000962_3.155  ...  amikacin_resistance  \\\nSampleID                                    ...                        \nERR3129939               0               0  ...                  0.0   \nERR3148148               0               0  ...                  0.0   \nERR3148149               0               0  ...                  0.0   \nERR3148151               0               0  ...                  0.0   \nERR3148153               0               0  ...                  0.0   \n\n            kanamycin_resistance  capreomycin_resistance  \\\nSampleID                                                   \nERR3129939                   0.0                     0.0   \nERR3148148                   0.0                     0.0   \nERR3148149                   0.0                     0.0   \nERR3148151                   0.0                     0.0   \nERR3148153                   0.0                     0.0   \n\n            ethionamide_resistance  para-aminosalicylic_acid_resistance  \\\nSampleID                                                                  \nERR3129939                     0.0                                  0.0   \nERR3148148                     0.0                                  0.0   \nERR3148149                     0.0                                  0.0   \nERR3148151                     0.0                                  0.0   \nERR3148153                     0.0                                  0.0   \n\n            cycloserine_resistance  linezolid_resistance  \\\nSampleID                                                   \nERR3129939                     0.0                   0.0   \nERR3148148                     0.0                   0.0   \nERR3148149                     0.0                   0.0   \nERR3148151                     0.0                   0.0   \nERR3148153                     0.0                   0.0   \n\n            bedaquiline_resistance  clofazimine_resistance  \\\nSampleID                                                     \nERR3129939                     0.0                     0.0   \nERR3148148                     0.0                     0.0   \nERR3148149                     0.0                     0.0   \nERR3148151                     0.0                     0.0   \nERR3148153                     0.0                     0.0   \n\n            delamanid_resistance  \nSampleID                          \nERR3129939                   0.0  \nERR3148148                   0.0  \nERR3148149                   0.0  \nERR3148151                   0.0  \nERR3148153                   0.0  \n\n[5 rows x 118689 columns]",
      "text/html": "<div>\n<style scoped>\n    .dataframe tbody tr th:only-of-type {\n        vertical-align: middle;\n    }\n\n    .dataframe tbody tr th {\n        vertical-align: top;\n    }\n\n    .dataframe thead th {\n        text-align: right;\n    }\n</style>\n<table border=\"1\" class=\"dataframe\">\n  <thead>\n    <tr style=\"text-align: right;\">\n      <th></th>\n      <th>NC000962_3.78</th>\n      <th>NC000962_3.80</th>\n      <th>NC000962_3.102</th>\n      <th>NC000962_3.104</th>\n      <th>NC000962_3.117</th>\n      <th>NC000962_3.120</th>\n      <th>NC000962_3.135</th>\n      <th>NC000962_3.138</th>\n      <th>NC000962_3.150</th>\n      <th>NC000962_3.155</th>\n      <th>...</th>\n      <th>amikacin_resistance</th>\n      <th>kanamycin_resistance</th>\n      <th>capreomycin_resistance</th>\n      <th>ethionamide_resistance</th>\n      <th>para-aminosalicylic_acid_resistance</th>\n      <th>cycloserine_resistance</th>\n      <th>linezolid_resistance</th>\n      <th>bedaquiline_resistance</th>\n      <th>clofazimine_resistance</th>\n      <th>delamanid_resistance</th>\n    </tr>\n    <tr>\n      <th>SampleID</th>\n      <th></th>\n      <th></th>\n      <th></th>\n      <th></th>\n      <th></th>\n      <th></th>\n      <th></th>\n      <th></th>\n      <th></th>\n      <th></th>\n      <th></th>\n      <th></th>\n      <th></th>\n      <th></th>\n      <th></th>\n      <th></th>\n      <th></th>\n      <th></th>\n      <th></th>\n      <th></th>\n      <th></th>\n    </tr>\n  </thead>\n  <tbody>\n    <tr>\n      <th>ERR3129939</th>\n      <td>0</td>\n      <td>0</td>\n      <td>0</td>\n      <td>0</td>\n      <td>0</td>\n      <td>0</td>\n      <td>0</td>\n      <td>0</td>\n      <td>0</td>\n      <td>0</td>\n      <td>...</td>\n      <td>0.0</td>\n      <td>0.0</td>\n      <td>0.0</td>\n      <td>0.0</td>\n      <td>0.0</td>\n      <td>0.0</td>\n      <td>0.0</td>\n      <td>0.0</td>\n      <td>0.0</td>\n      <td>0.0</td>\n    </tr>\n    <tr>\n      <th>ERR3148148</th>\n      <td>0</td>\n      <td>0</td>\n      <td>0</td>\n      <td>0</td>\n      <td>0</td>\n      <td>0</td>\n      <td>0</td>\n      <td>0</td>\n      <td>0</td>\n      <td>0</td>\n      <td>...</td>\n      <td>0.0</td>\n      <td>0.0</td>\n      <td>0.0</td>\n      <td>0.0</td>\n      <td>0.0</td>\n      <td>0.0</td>\n      <td>0.0</td>\n      <td>0.0</td>\n      <td>0.0</td>\n      <td>0.0</td>\n    </tr>\n    <tr>\n      <th>ERR3148149</th>\n      <td>0</td>\n      <td>0</td>\n      <td>0</td>\n      <td>0</td>\n      <td>0</td>\n      <td>0</td>\n      <td>0</td>\n      <td>0</td>\n      <td>0</td>\n      <td>0</td>\n      <td>...</td>\n      <td>0.0</td>\n      <td>0.0</td>\n      <td>0.0</td>\n      <td>0.0</td>\n      <td>0.0</td>\n      <td>0.0</td>\n      <td>0.0</td>\n      <td>0.0</td>\n      <td>0.0</td>\n      <td>0.0</td>\n    </tr>\n    <tr>\n      <th>ERR3148151</th>\n      <td>0</td>\n      <td>0</td>\n      <td>0</td>\n      <td>0</td>\n      <td>0</td>\n      <td>0</td>\n      <td>0</td>\n      <td>0</td>\n      <td>0</td>\n      <td>0</td>\n      <td>...</td>\n      <td>0.0</td>\n      <td>0.0</td>\n      <td>0.0</td>\n      <td>0.0</td>\n      <td>0.0</td>\n      <td>0.0</td>\n      <td>0.0</td>\n      <td>0.0</td>\n      <td>0.0</td>\n      <td>0.0</td>\n    </tr>\n    <tr>\n      <th>ERR3148153</th>\n      <td>0</td>\n      <td>0</td>\n      <td>0</td>\n      <td>0</td>\n      <td>0</td>\n      <td>0</td>\n      <td>0</td>\n      <td>0</td>\n      <td>0</td>\n      <td>0</td>\n      <td>...</td>\n      <td>0.0</td>\n      <td>0.0</td>\n      <td>0.0</td>\n      <td>0.0</td>\n      <td>0.0</td>\n      <td>0.0</td>\n      <td>0.0</td>\n      <td>0.0</td>\n      <td>0.0</td>\n      <td>0.0</td>\n    </tr>\n  </tbody>\n</table>\n<p>5 rows × 118689 columns</p>\n</div>"
     },
     "execution_count": 6,
     "metadata": {},
     "output_type": "execute_result"
    }
   ],
   "source": [
    "multi_resistance_df_filledna = multi_resistance_df_filledna.drop(columns= ['Unnamed: 0']).set_index('SampleID')\n",
    "multi_resistance_df_filledna.head()"
   ]
  },
  {
   "cell_type": "code",
   "execution_count": null,
   "outputs": [],
   "source": [
    "# X = multi_resistance_df_filledna.loc[:, multi_resistance_df_filledna.columns != 'isResistant']\n",
    "# y = multi_resistance_df_filledna.loc[:, 'isResistant']"
   ],
   "metadata": {
    "collapsed": false,
    "pycharm": {
     "name": "#%%\n"
    }
   }
  },
  {
   "cell_type": "markdown",
   "source": [
    "# Experimentation with multi-label datasets\n"
   ],
   "metadata": {
    "collapsed": false,
    "pycharm": {
     "name": "#%% md\n"
    }
   }
  },
  {
   "cell_type": "code",
   "execution_count": 24,
   "outputs": [
    {
     "data": {
      "text/plain": "array([[ 5.,  8.,  3., ...,  3.,  3.,  6.],\n       [ 5.,  8.,  6., ...,  5.,  4., 10.],\n       [ 2.,  7.,  3., ..., 12.,  5., 10.],\n       ...,\n       [ 6.,  9.,  2., ...,  6.,  3.,  5.],\n       [ 4., 12.,  6., ...,  3.,  1.,  9.],\n       [ 2.,  7.,  5., ...,  8.,  4.,  7.]])"
     },
     "execution_count": 24,
     "metadata": {},
     "output_type": "execute_result"
    }
   ],
   "source": [
    "from sklearn.datasets import make_multilabel_classification as make_ml_clf\n",
    "\n",
    "X, y, p_c, p_w_c = make_ml_clf(n_samples=150,\n",
    "            n_features=10,\n",
    "            n_classes=3,\n",
    "            n_labels=2,\n",
    "            allow_unlabeled=False,\n",
    "            return_distributions=True,\n",
    "            random_state=1234)\n",
    "\n",
    "X\n",
    "\n"
   ],
   "metadata": {
    "collapsed": false,
    "pycharm": {
     "name": "#%%\n"
    }
   }
  },
  {
   "cell_type": "code",
   "execution_count": 25,
   "outputs": [
    {
     "data": {
      "text/plain": "array([[0, 0, 1],\n       [1, 1, 1],\n       [0, 1, 1],\n       [0, 1, 0],\n       [1, 1, 0],\n       [1, 0, 0],\n       [1, 1, 1],\n       [0, 0, 1],\n       [0, 1, 1],\n       [0, 1, 0],\n       [1, 1, 1],\n       [0, 1, 1],\n       [0, 0, 1],\n       [1, 0, 1],\n       [1, 1, 1],\n       [1, 1, 1],\n       [0, 1, 1],\n       [0, 1, 1],\n       [1, 1, 1],\n       [0, 1, 1],\n       [1, 1, 1],\n       [1, 1, 1],\n       [0, 0, 1],\n       [0, 0, 1],\n       [0, 1, 1],\n       [0, 1, 1],\n       [0, 1, 1],\n       [1, 0, 1],\n       [0, 1, 1],\n       [0, 1, 1],\n       [0, 1, 1],\n       [1, 0, 0],\n       [0, 1, 1],\n       [0, 0, 1],\n       [1, 1, 1],\n       [1, 1, 1],\n       [1, 1, 1],\n       [0, 1, 1],\n       [1, 1, 1],\n       [1, 1, 1],\n       [0, 1, 0],\n       [0, 1, 0],\n       [0, 1, 0],\n       [1, 1, 0],\n       [0, 1, 1],\n       [0, 1, 0],\n       [1, 0, 0],\n       [1, 1, 1],\n       [1, 1, 1],\n       [0, 0, 1],\n       [0, 1, 0],\n       [1, 1, 0],\n       [0, 1, 1],\n       [1, 1, 1],\n       [0, 1, 1],\n       [0, 1, 1],\n       [1, 1, 0],\n       [1, 1, 1],\n       [1, 1, 1],\n       [0, 1, 0],\n       [1, 1, 0],\n       [1, 1, 0],\n       [1, 0, 0],\n       [0, 1, 1],\n       [0, 0, 1],\n       [1, 0, 0],\n       [1, 1, 1],\n       [1, 1, 1],\n       [0, 1, 0],\n       [1, 0, 0],\n       [0, 1, 1],\n       [1, 1, 1],\n       [0, 1, 1],\n       [0, 1, 0],\n       [0, 1, 0],\n       [0, 1, 1],\n       [0, 0, 1],\n       [1, 1, 1],\n       [1, 1, 0],\n       [0, 1, 0],\n       [1, 1, 1],\n       [0, 1, 1],\n       [1, 1, 1],\n       [0, 0, 1],\n       [0, 1, 0],\n       [0, 1, 0],\n       [0, 1, 1],\n       [0, 1, 1],\n       [1, 0, 1],\n       [0, 1, 0],\n       [0, 1, 0],\n       [0, 0, 1],\n       [1, 0, 1],\n       [0, 0, 1],\n       [0, 1, 1],\n       [0, 1, 1],\n       [0, 1, 1],\n       [0, 1, 0],\n       [0, 1, 1],\n       [0, 1, 1],\n       [0, 1, 0],\n       [0, 1, 1],\n       [1, 1, 0],\n       [1, 0, 0],\n       [1, 1, 1],\n       [0, 0, 1],\n       [1, 1, 1],\n       [1, 0, 0],\n       [1, 1, 1],\n       [1, 1, 0],\n       [0, 0, 1],\n       [0, 1, 0],\n       [1, 1, 0],\n       [1, 1, 1],\n       [1, 1, 1],\n       [0, 1, 1],\n       [1, 1, 1],\n       [0, 1, 0],\n       [1, 1, 1],\n       [0, 1, 0],\n       [1, 1, 1],\n       [1, 1, 1],\n       [1, 1, 0],\n       [1, 1, 1],\n       [0, 1, 1],\n       [1, 0, 0],\n       [0, 0, 1],\n       [1, 0, 1],\n       [0, 1, 0],\n       [1, 1, 1],\n       [0, 1, 0],\n       [0, 1, 1],\n       [1, 0, 0],\n       [0, 1, 1],\n       [1, 1, 1],\n       [1, 0, 1],\n       [1, 0, 1],\n       [1, 1, 1],\n       [0, 0, 1],\n       [1, 1, 1],\n       [0, 1, 1],\n       [0, 1, 1],\n       [0, 1, 0],\n       [1, 1, 0],\n       [1, 1, 1],\n       [0, 1, 1],\n       [1, 1, 1],\n       [0, 1, 0],\n       [0, 0, 1],\n       [1, 1, 1]])"
     },
     "execution_count": 25,
     "metadata": {},
     "output_type": "execute_result"
    }
   ],
   "source": [
    "y\n"
   ],
   "metadata": {
    "collapsed": false,
    "pycharm": {
     "name": "#%%\n"
    }
   }
  },
  {
   "cell_type": "markdown",
   "source": [
    "# Scikit-learn models"
   ],
   "metadata": {
    "collapsed": false
   }
  },
  {
   "cell_type": "code",
   "execution_count": 26,
   "outputs": [],
   "source": [
    "X_train, X_test, y_train, y_test = train_test_split(X, y,\n",
    "                                                    stratify=y,\n",
    "                                                    train_size=0.7,\n",
    "                                                    test_size=0.3,\n",
    "                                                    random_state=100)\n",
    "\n"
   ],
   "metadata": {
    "collapsed": false,
    "pycharm": {
     "name": "#%%\n"
    }
   }
  },
  {
   "cell_type": "code",
   "execution_count": null,
   "outputs": [],
   "source": [
    "from sklearn.svm import LinearSVC\n",
    "\n",
    "model_svm= LinearSVC()\n",
    "\n",
    "model_svm.fit(X_train, y_train)\n",
    "\n",
    "y_pred= model_svm.predict(X_test)\n",
    "\n",
    "\n",
    "model_performance_metrics(model_svm, X, X_test, X_train, y, y_test, y_pred, show_feature_importances= False)\n"
   ],
   "metadata": {
    "collapsed": false,
    "pycharm": {
     "name": "#%%\n"
    }
   }
  },
  {
   "cell_type": "code",
   "execution_count": null,
   "outputs": [],
   "source": [
    "from sklearn.ensemble import RandomForestClassifier\n",
    "\n",
    "\n",
    "\n",
    "model_rf= RandomForestClassifier(n_estimators= 100,\n",
    "                                  random_state = 100,\n",
    "                                  max_depth=5,\n",
    "                                  min_samples_leaf=50,\n",
    "                                  min_samples_split=50)\n",
    "\n",
    "model_rf.fit(X_train, y_train)\n",
    "\n",
    "y_pred= model_rf.predict(X_test)\n",
    "\n",
    "model_performance_metrics(model_rf, X, X_test, X_train, y, y_test, y_pred)"
   ],
   "metadata": {
    "collapsed": false,
    "pycharm": {
     "name": "#%%\n"
    }
   }
  },
  {
   "cell_type": "code",
   "execution_count": null,
   "outputs": [],
   "source": [
    "from sklearn.ensemble import GradientBoostingClassifier\n",
    "\n",
    "model_gb= GradientBoostingClassifier(\n",
    "                                     n_estimators= 100,\n",
    "                                     random_state = 100,\n",
    "                                     max_depth=5\n",
    "                                    )\n",
    "\n",
    "model_gb.fit(X_train, y_train)\n",
    "\n",
    "y_pred= model_gb.predict(X_test)\n",
    "\n",
    "\n",
    "model_performance_metrics(model_gb, X, X_test, X_train, y, y_test, y_pred)"
   ],
   "metadata": {
    "collapsed": false,
    "pycharm": {
     "name": "#%%\n"
    }
   }
  },
  {
   "cell_type": "code",
   "execution_count": null,
   "outputs": [],
   "source": [
    "from sklearn.naive_bayes import GaussianNB\n",
    "# from sklearn.naive_bayes import BernoulliNB\n",
    "\n",
    "model_nb= GaussianNB()\n",
    "# model_nb= BernoulliNB()\n",
    "\n",
    "model_nb.fit(X_train, y_train)\n",
    "\n",
    "y_pred= model_nb.predict(X_test)\n",
    "\n",
    "\n",
    "model_performance_metrics(model_nb, X, X_test, X_train, y, y_test, y_pred, show_feature_importances= False)"
   ],
   "metadata": {
    "collapsed": false,
    "pycharm": {
     "name": "#%%\n"
    }
   }
  },
  {
   "cell_type": "code",
   "execution_count": null,
   "outputs": [],
   "source": [
    "from sklearn.neural_network import MLPClassifier\n",
    "\n",
    "model_mlp = MLPClassifier(\n",
    "                          solver='lbfgs',\n",
    "                          alpha=1e-5,\n",
    "                          hidden_layer_sizes=(5, 2),\n",
    "                          random_state=1\n",
    ")\n",
    "\n",
    "\n",
    "\n",
    "model_mlp.fit(X_train, y_train)\n",
    "\n",
    "y_pred= model_mlp.predict(X_test)\n",
    "\n",
    "model_performance_metrics(model_mlp, X, X_test, X_train, y, y_test, y_pred, show_feature_importances= False)"
   ],
   "metadata": {
    "collapsed": false,
    "pycharm": {
     "name": "#%%\n"
    }
   }
  },
  {
   "cell_type": "code",
   "execution_count": null,
   "outputs": [],
   "source": [
    "from xgboost import XGBClassifier\n",
    "\n",
    "model_xgb = XGBClassifier(\n",
    "                          learning_rate= 0.01,\n",
    "                          random_state= 1\n",
    ")\n",
    "\n",
    "\n",
    "\n",
    "model_xgb.fit(X_train, y_train)\n",
    "\n",
    "y_pred= model_xgb.predict(X_test)\n",
    "\n",
    "model_performance_metrics(model_xgb, X, X_test, X_train, y, y_test, y_pred)"
   ],
   "metadata": {
    "collapsed": false,
    "pycharm": {
     "name": "#%%\n"
    }
   }
  },
  {
   "cell_type": "code",
   "execution_count": null,
   "outputs": [],
   "source": [
    "from sklearn.ensemble import RandomForestClassifier\n",
    "from sklearn.svm import LinearSVC\n",
    "from sklearn.ensemble import StackingClassifier\n",
    "from sklearn.neural_network import MLPClassifier\n",
    "from sklearn.naive_bayes import GaussianNB\n",
    "from xgboost import XGBClassifier\n",
    "from sklearn.ensemble import GradientBoostingClassifier\n",
    "\n",
    "\n",
    "estimators = [\n",
    "    ('rf', RandomForestClassifier()),\n",
    "    ('gb', GradientBoostingClassifier()),\n",
    "    ('svc', LinearSVC()),\n",
    "    ('mlp', MLPClassifier()),\n",
    "    ('nb', GaussianNB()),\n",
    "    ('xgb', XGBClassifier())\n",
    "]\n",
    "\n",
    "model_se = StackingClassifier(\n",
    "    estimators=estimators,\n",
    "    final_estimator=RandomForestClassifier()\n",
    ")\n",
    "\n",
    "model_se.fit(X_train, y_train)\n",
    "\n",
    "y_pred = model_se.predict(X_test)\n",
    "\n",
    "model_performance_metrics(model_se, X, X_test, X_train, y, y_test, y_pred, show_feature_importances= False)"
   ],
   "metadata": {
    "collapsed": false,
    "pycharm": {
     "name": "#%%\n"
    }
   }
  },
  {
   "cell_type": "code",
   "execution_count": null,
   "outputs": [],
   "source": [],
   "metadata": {
    "collapsed": false,
    "pycharm": {
     "name": "#%%\n"
    }
   }
  }
 ],
 "metadata": {
  "kernelspec": {
   "display_name": "PyCharm (drug-resistance-prediction-cambiohack)",
   "language": "python",
   "name": "pycharm-f27e5417"
  },
  "language_info": {
   "codemirror_mode": {
    "name": "ipython",
    "version": 3
   },
   "file_extension": ".py",
   "mimetype": "text/x-python",
   "name": "python",
   "nbconvert_exporter": "python",
   "pygments_lexer": "ipython3",
   "version": "3.7.4"
  }
 },
 "nbformat": 4,
 "nbformat_minor": 1
}