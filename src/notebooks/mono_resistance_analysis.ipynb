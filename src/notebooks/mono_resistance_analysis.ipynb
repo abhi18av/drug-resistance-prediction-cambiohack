{
 "cells": [
  {
   "cell_type": "markdown",
   "source": [
    "# Mono resistance prediction\n",
    "\n",
    "In this POC, we gloss over\n",
    "\n",
    "- the resistance towards distinct drugs\n",
    "- treat the mdr and xdr as simply being resistant\n"
   ],
   "metadata": {
    "collapsed": false,
    "pycharm": {
     "name": "#%% md\n"
    }
   }
  },
  {
   "cell_type": "code",
   "execution_count": 2,
   "metadata": {
    "collapsed": true
   },
   "outputs": [],
   "source": [
    "# Import the usual suspects.\n",
    "import allel\n",
    "import pandas as pd\n"
   ]
  },
  {
   "cell_type": "code",
   "execution_count": null,
   "outputs": [],
   "source": [
    "\n",
    "# see http://alimanfoo.github.io/2017/06/14/read-vcf.html for allel tutorial\n",
    "vcf = allel.read_vcf(\"../data/interim/haplotypeCaller/cohort.bqsr.filter.snps.vcf\")\n",
    "\n",
    "def vcf_get_index(vcf):\n",
    "    \"\"\"Return index as \"CHR.POS\".\"\"\"\n",
    "    return [\n",
    "        \".\".join([chrom, str(pos)]) for chrom, pos in zip(\n",
    "            vcf[\"variants/CHROM\"],\n",
    "            vcf[\"variants/POS\"]\n",
    "        )\n",
    "    ]\n",
    "\n",
    "def vcf_get_columns(vcf):\n",
    "    \"\"\"Return columns as \"SAMPLE_ID\".\"\"\"\n",
    "    return vcf[\"samples\"]\n",
    "\n",
    "def vcf_to_snp_count(vcf):\n",
    "    \"\"\"Yield snp counts per sample, iterating over the snps in vcf.\"\"\"\n",
    "    for gt in vcf[\"calldata/GT\"]:\n",
    "        # GT value per allele is 0 if ref, >0 if alt.\n",
    "        # see https://samtools.github.io/hts-specs/VCFv4.2.pdf section 1.4.2.\n",
    "        n_snps = [sum(allele > 0) for allele in gt]\n",
    "        yield n_snps\n",
    "\n",
    "# TODO implement a function to only tell the nature of GT -> homo (0) or hetero (1)\n",
    "\n",
    "snps_df = pd.DataFrame(\n",
    "    vcf_to_snp_count(vcf),\n",
    "    index=vcf_get_index(vcf),\n",
    "    columns=vcf_get_columns(vcf)\n",
    ")"
   ],
   "metadata": {
    "collapsed": false,
    "pycharm": {
     "name": "#%%\n",
     "is_executing": true
    }
   }
  },
  {
   "cell_type": "code",
   "execution_count": null,
   "outputs": [],
   "source": [
    "snps_df = pd.read_json(\"../data/processed/snps_df.json\")\n",
    "snps_df.head()\n",
    "\n"
   ],
   "metadata": {
    "collapsed": false,
    "pycharm": {
     "name": "#%%\n",
     "is_executing": true
    }
   }
  },
  {
   "cell_type": "code",
   "execution_count": null,
   "outputs": [],
   "source": [
    "# Read the final results file from tb-profiler results\n",
    "\n",
    "tbprofiler_df = pd.read_json(\"../data/raw/tbProfiler/tbprofiler.json\", encoding=\"UTF-8\")\n",
    "tbprofiler_df = tbprofiler_df.transpose()\n",
    "tbprofiler_df.head()\n"
   ],
   "metadata": {
    "collapsed": false,
    "pycharm": {
     "name": "#%%\n"
    }
   }
  },
  {
   "cell_type": "code",
   "execution_count": 8,
   "outputs": [
    {
     "data": {
      "text/plain": "                   rifampicin                         isoniazid  \\\nERR760783    rpoB_p.Ser450Leu                  katG_p.Ser315Thr   \nERR776661    rpoB_p.Ser450Leu                     ahpC_c.-81C>T   \nSRR11098556                 -                                 -   \nERR760911    rpoB_p.Ser450Leu                  katG_p.Ser315Thr   \nSRR9224969   rpoB_p.Ser450Leu  fabG1_c.-15C>T, katG_p.Ser315Thr   \n\n                 pyrazinamide  \\\nERR760783     pncA_p.Gln10Pro   \nERR776661    pncA_p.Met175Val   \nSRR11098556                 -   \nERR760911     pncA_p.Gln10Pro   \nSRR9224969   pncA_p.Gly132Ser   \n\n                                                    ethambutol  \\\nERR760783                                     embB_p.Gly406Ala   \nERR776661    embB_p.Gly406Ser, embB_p.Met306Val, embA_c.-16C>G   \nSRR11098556                                                  -   \nERR760911                                     embB_p.Gly406Ala   \nSRR9224969                                    embB_p.Met306Val   \n\n                                 streptomycin fluoroquinolones moxifloxacin  \\\nERR760783                                   -                -            -   \nERR776661    rpsL_p.Lys43Arg, rpsL_p.Lys88Gln                -            -   \nSRR11098556                                 -                -            -   \nERR760911                                   -                -            -   \nSRR9224969                                  -                -            -   \n\n            ofloxacin levofloxacin ciprofloxacin  ... linezolid bedaquiline  \\\nERR760783           -            -             -  ...         -           -   \nERR776661           -            -             -  ...         -           -   \nSRR11098556         -            -             -  ...         -           -   \nERR760911           -            -             -  ...         -           -   \nSRR9224969          -            -             -  ...         -           -   \n\n            clofazimine delamanid  main_lin          sublin     drtype MDR  \\\nERR760783             -         -  lineage4  lineage4.1.2.1        MDR   R   \nERR776661             -         -  lineage4    lineage4.3.2        MDR   R   \nSRR11098556           -         -  lineage2    lineage2.2.1  Sensitive       \nERR760911             -         -  lineage4  lineage4.1.2.1        MDR   R   \nSRR9224969            -         -  lineage4  lineage4.1.2.1        MDR   R   \n\n            XDR isResistant  \nERR760783                 1  \nERR776661                 1  \nSRR11098556               0  \nERR760911                 1  \nSRR9224969                1  \n\n[5 rows x 27 columns]",
      "text/html": "<div>\n<style scoped>\n    .dataframe tbody tr th:only-of-type {\n        vertical-align: middle;\n    }\n\n    .dataframe tbody tr th {\n        vertical-align: top;\n    }\n\n    .dataframe thead th {\n        text-align: right;\n    }\n</style>\n<table border=\"1\" class=\"dataframe\">\n  <thead>\n    <tr style=\"text-align: right;\">\n      <th></th>\n      <th>rifampicin</th>\n      <th>isoniazid</th>\n      <th>pyrazinamide</th>\n      <th>ethambutol</th>\n      <th>streptomycin</th>\n      <th>fluoroquinolones</th>\n      <th>moxifloxacin</th>\n      <th>ofloxacin</th>\n      <th>levofloxacin</th>\n      <th>ciprofloxacin</th>\n      <th>...</th>\n      <th>linezolid</th>\n      <th>bedaquiline</th>\n      <th>clofazimine</th>\n      <th>delamanid</th>\n      <th>main_lin</th>\n      <th>sublin</th>\n      <th>drtype</th>\n      <th>MDR</th>\n      <th>XDR</th>\n      <th>isResistant</th>\n    </tr>\n  </thead>\n  <tbody>\n    <tr>\n      <th>ERR760783</th>\n      <td>rpoB_p.Ser450Leu</td>\n      <td>katG_p.Ser315Thr</td>\n      <td>pncA_p.Gln10Pro</td>\n      <td>embB_p.Gly406Ala</td>\n      <td>-</td>\n      <td>-</td>\n      <td>-</td>\n      <td>-</td>\n      <td>-</td>\n      <td>-</td>\n      <td>...</td>\n      <td>-</td>\n      <td>-</td>\n      <td>-</td>\n      <td>-</td>\n      <td>lineage4</td>\n      <td>lineage4.1.2.1</td>\n      <td>MDR</td>\n      <td>R</td>\n      <td></td>\n      <td>1</td>\n    </tr>\n    <tr>\n      <th>ERR776661</th>\n      <td>rpoB_p.Ser450Leu</td>\n      <td>ahpC_c.-81C&gt;T</td>\n      <td>pncA_p.Met175Val</td>\n      <td>embB_p.Gly406Ser, embB_p.Met306Val, embA_c.-16C&gt;G</td>\n      <td>rpsL_p.Lys43Arg, rpsL_p.Lys88Gln</td>\n      <td>-</td>\n      <td>-</td>\n      <td>-</td>\n      <td>-</td>\n      <td>-</td>\n      <td>...</td>\n      <td>-</td>\n      <td>-</td>\n      <td>-</td>\n      <td>-</td>\n      <td>lineage4</td>\n      <td>lineage4.3.2</td>\n      <td>MDR</td>\n      <td>R</td>\n      <td></td>\n      <td>1</td>\n    </tr>\n    <tr>\n      <th>SRR11098556</th>\n      <td>-</td>\n      <td>-</td>\n      <td>-</td>\n      <td>-</td>\n      <td>-</td>\n      <td>-</td>\n      <td>-</td>\n      <td>-</td>\n      <td>-</td>\n      <td>-</td>\n      <td>...</td>\n      <td>-</td>\n      <td>-</td>\n      <td>-</td>\n      <td>-</td>\n      <td>lineage2</td>\n      <td>lineage2.2.1</td>\n      <td>Sensitive</td>\n      <td></td>\n      <td></td>\n      <td>0</td>\n    </tr>\n    <tr>\n      <th>ERR760911</th>\n      <td>rpoB_p.Ser450Leu</td>\n      <td>katG_p.Ser315Thr</td>\n      <td>pncA_p.Gln10Pro</td>\n      <td>embB_p.Gly406Ala</td>\n      <td>-</td>\n      <td>-</td>\n      <td>-</td>\n      <td>-</td>\n      <td>-</td>\n      <td>-</td>\n      <td>...</td>\n      <td>-</td>\n      <td>-</td>\n      <td>-</td>\n      <td>-</td>\n      <td>lineage4</td>\n      <td>lineage4.1.2.1</td>\n      <td>MDR</td>\n      <td>R</td>\n      <td></td>\n      <td>1</td>\n    </tr>\n    <tr>\n      <th>SRR9224969</th>\n      <td>rpoB_p.Ser450Leu</td>\n      <td>fabG1_c.-15C&gt;T, katG_p.Ser315Thr</td>\n      <td>pncA_p.Gly132Ser</td>\n      <td>embB_p.Met306Val</td>\n      <td>-</td>\n      <td>-</td>\n      <td>-</td>\n      <td>-</td>\n      <td>-</td>\n      <td>-</td>\n      <td>...</td>\n      <td>-</td>\n      <td>-</td>\n      <td>-</td>\n      <td>-</td>\n      <td>lineage4</td>\n      <td>lineage4.1.2.1</td>\n      <td>MDR</td>\n      <td>R</td>\n      <td></td>\n      <td>1</td>\n    </tr>\n  </tbody>\n</table>\n<p>5 rows × 27 columns</p>\n</div>"
     },
     "execution_count": 8,
     "metadata": {},
     "output_type": "execute_result"
    }
   ],
   "source": [
    "resistance_status_df = tbprofiler_df[['drtype']]\n",
    "resistance_status_df['isResistant'] = resistance_status_df.apply(lambda row: 0 if (row.drtype == 'Sensitive') else 1, axis = 1)\n",
    "resistance_status_df = resistance_status_df.drop(['drtype'], axis=1)\n",
    "resistance_status_df.head()\n"
   ],
   "metadata": {
    "collapsed": false,
    "pycharm": {
     "name": "#%%\n"
    }
   }
  },
  {
   "cell_type": "code",
   "execution_count": 12,
   "outputs": [
    {
     "data": {
      "text/plain": "                                    isoniazid      pyrazinamide  \\\nERR760783                    katG_p.Ser315Thr   pncA_p.Gln10Pro   \nERR776661                       ahpC_c.-81C>T  pncA_p.Met175Val   \nSRR11098556                                 -                 -   \nERR760911                    katG_p.Ser315Thr   pncA_p.Gln10Pro   \nSRR9224969   fabG1_c.-15C>T, katG_p.Ser315Thr  pncA_p.Gly132Ser   \n\n                                                    ethambutol  \\\nERR760783                                     embB_p.Gly406Ala   \nERR776661    embB_p.Gly406Ser, embB_p.Met306Val, embA_c.-16C>G   \nSRR11098556                                                  -   \nERR760911                                     embB_p.Gly406Ala   \nSRR9224969                                    embB_p.Met306Val   \n\n                                 streptomycin fluoroquinolones moxifloxacin  \\\nERR760783                                   -                -            -   \nERR776661    rpsL_p.Lys43Arg, rpsL_p.Lys88Gln                -            -   \nSRR11098556                                 -                -            -   \nERR760911                                   -                -            -   \nSRR9224969                                  -                -            -   \n\n            ofloxacin levofloxacin ciprofloxacin aminoglycosides  ...  \\\nERR760783           -            -             -   rrs_r.1401a>g  ...   \nERR776661           -            -             -               -  ...   \nSRR11098556         -            -             -               -  ...   \nERR760911           -            -             -   rrs_r.1401a>g  ...   \nSRR9224969          -            -             -               -  ...   \n\n            NC000962_3.4410070 NC000962_3.4410276 NC000962_3.4410309  \\\nERR760783                  NaN                NaN                NaN   \nERR776661                  NaN                NaN                NaN   \nSRR11098556                NaN                NaN                NaN   \nERR760911                  NaN                NaN                NaN   \nSRR9224969                 NaN                NaN                NaN   \n\n            NC000962_3.4410847 NC000962_3.4411128 NC000962_3.4411245  \\\nERR760783                  NaN                NaN                NaN   \nERR776661                  NaN                NaN                NaN   \nSRR11098556                NaN                NaN                NaN   \nERR760911                  NaN                NaN                NaN   \nSRR9224969                 NaN                NaN                NaN   \n\n            NC000962_3.4411286 NC000962_3.4411405 NC000962_3.4411518  \\\nERR760783                  NaN                NaN                NaN   \nERR776661                  NaN                NaN                NaN   \nSRR11098556                NaN                NaN                NaN   \nERR760911                  NaN                NaN                NaN   \nSRR9224969                 NaN                NaN                NaN   \n\n                   rifampicin  \nERR760783    rpoB_p.Ser450Leu  \nERR776661    rpoB_p.Ser450Leu  \nSRR11098556                 -  \nERR760911    rpoB_p.Ser450Leu  \nSRR9224969   rpoB_p.Ser450Leu  \n\n[5 rows x 134284 columns]",
      "text/html": "<div>\n<style scoped>\n    .dataframe tbody tr th:only-of-type {\n        vertical-align: middle;\n    }\n\n    .dataframe tbody tr th {\n        vertical-align: top;\n    }\n\n    .dataframe thead th {\n        text-align: right;\n    }\n</style>\n<table border=\"1\" class=\"dataframe\">\n  <thead>\n    <tr style=\"text-align: right;\">\n      <th></th>\n      <th>isoniazid</th>\n      <th>pyrazinamide</th>\n      <th>ethambutol</th>\n      <th>streptomycin</th>\n      <th>fluoroquinolones</th>\n      <th>moxifloxacin</th>\n      <th>ofloxacin</th>\n      <th>levofloxacin</th>\n      <th>ciprofloxacin</th>\n      <th>aminoglycosides</th>\n      <th>...</th>\n      <th>NC000962_3.4410070</th>\n      <th>NC000962_3.4410276</th>\n      <th>NC000962_3.4410309</th>\n      <th>NC000962_3.4410847</th>\n      <th>NC000962_3.4411128</th>\n      <th>NC000962_3.4411245</th>\n      <th>NC000962_3.4411286</th>\n      <th>NC000962_3.4411405</th>\n      <th>NC000962_3.4411518</th>\n      <th>rifampicin</th>\n    </tr>\n  </thead>\n  <tbody>\n    <tr>\n      <th>ERR760783</th>\n      <td>katG_p.Ser315Thr</td>\n      <td>pncA_p.Gln10Pro</td>\n      <td>embB_p.Gly406Ala</td>\n      <td>-</td>\n      <td>-</td>\n      <td>-</td>\n      <td>-</td>\n      <td>-</td>\n      <td>-</td>\n      <td>rrs_r.1401a&gt;g</td>\n      <td>...</td>\n      <td>NaN</td>\n      <td>NaN</td>\n      <td>NaN</td>\n      <td>NaN</td>\n      <td>NaN</td>\n      <td>NaN</td>\n      <td>NaN</td>\n      <td>NaN</td>\n      <td>NaN</td>\n      <td>rpoB_p.Ser450Leu</td>\n    </tr>\n    <tr>\n      <th>ERR776661</th>\n      <td>ahpC_c.-81C&gt;T</td>\n      <td>pncA_p.Met175Val</td>\n      <td>embB_p.Gly406Ser, embB_p.Met306Val, embA_c.-16C&gt;G</td>\n      <td>rpsL_p.Lys43Arg, rpsL_p.Lys88Gln</td>\n      <td>-</td>\n      <td>-</td>\n      <td>-</td>\n      <td>-</td>\n      <td>-</td>\n      <td>-</td>\n      <td>...</td>\n      <td>NaN</td>\n      <td>NaN</td>\n      <td>NaN</td>\n      <td>NaN</td>\n      <td>NaN</td>\n      <td>NaN</td>\n      <td>NaN</td>\n      <td>NaN</td>\n      <td>NaN</td>\n      <td>rpoB_p.Ser450Leu</td>\n    </tr>\n    <tr>\n      <th>SRR11098556</th>\n      <td>-</td>\n      <td>-</td>\n      <td>-</td>\n      <td>-</td>\n      <td>-</td>\n      <td>-</td>\n      <td>-</td>\n      <td>-</td>\n      <td>-</td>\n      <td>-</td>\n      <td>...</td>\n      <td>NaN</td>\n      <td>NaN</td>\n      <td>NaN</td>\n      <td>NaN</td>\n      <td>NaN</td>\n      <td>NaN</td>\n      <td>NaN</td>\n      <td>NaN</td>\n      <td>NaN</td>\n      <td>-</td>\n    </tr>\n    <tr>\n      <th>ERR760911</th>\n      <td>katG_p.Ser315Thr</td>\n      <td>pncA_p.Gln10Pro</td>\n      <td>embB_p.Gly406Ala</td>\n      <td>-</td>\n      <td>-</td>\n      <td>-</td>\n      <td>-</td>\n      <td>-</td>\n      <td>-</td>\n      <td>rrs_r.1401a&gt;g</td>\n      <td>...</td>\n      <td>NaN</td>\n      <td>NaN</td>\n      <td>NaN</td>\n      <td>NaN</td>\n      <td>NaN</td>\n      <td>NaN</td>\n      <td>NaN</td>\n      <td>NaN</td>\n      <td>NaN</td>\n      <td>rpoB_p.Ser450Leu</td>\n    </tr>\n    <tr>\n      <th>SRR9224969</th>\n      <td>fabG1_c.-15C&gt;T, katG_p.Ser315Thr</td>\n      <td>pncA_p.Gly132Ser</td>\n      <td>embB_p.Met306Val</td>\n      <td>-</td>\n      <td>-</td>\n      <td>-</td>\n      <td>-</td>\n      <td>-</td>\n      <td>-</td>\n      <td>-</td>\n      <td>...</td>\n      <td>NaN</td>\n      <td>NaN</td>\n      <td>NaN</td>\n      <td>NaN</td>\n      <td>NaN</td>\n      <td>NaN</td>\n      <td>NaN</td>\n      <td>NaN</td>\n      <td>NaN</td>\n      <td>rpoB_p.Ser450Leu</td>\n    </tr>\n  </tbody>\n</table>\n<p>5 rows × 134284 columns</p>\n</div>"
     },
     "execution_count": 12,
     "metadata": {},
     "output_type": "execute_result"
    }
   ],
   "source": [
    "final_df = resistance_status_df.join(snps_df)\n",
    "cols = list(final_df.columns)\n",
    "cols = [*cols[1:], cols[0]]\n",
    "final_df = final_df[cols]\n",
    "final_df.head()"
   ],
   "metadata": {
    "collapsed": false,
    "pycharm": {
     "name": "#%%\n"
    }
   }
  },
  {
   "cell_type": "code",
   "execution_count": 10,
   "outputs": [
    {
     "data": {
      "text/plain": "    Unnamed: 0  NC000962_3.82  NC000962_3.88  NC000962_3.102  NC000962_3.104  \\\n0  SRR10851707              0              0               0               0   \n1   SRR3732596              2              0               0               0   \n2    ERR751356              0              0               0               0   \n3    ERR751456              0              0               0               0   \n4    ERR751482              0              0               0               0   \n5    ERR751359              0              0               0               0   \n6  SRR11922528              0              0               0               0   \n7    ERR775339              0              0               0               0   \n8    ERR775387              0              0               0               0   \n\n   NC000962_3.108  NC000962_3.117  NC000962_3.120  NC000962_3.135  \\\n0               0               0               0               0   \n1               0               0               0               0   \n2               0               0               0               0   \n3               0               0               0               0   \n4               0               0               0               0   \n5               0               0               0               0   \n6               0               0               0               0   \n7               0               0               0               0   \n8               0               0               0               0   \n\n   NC000962_3.138  ...  NC000962_3.4410847  NC000962_3.4411128  \\\n0               0  ...                   0                   0   \n1               0  ...                   0                   0   \n2               0  ...                   0                   0   \n3               0  ...                   0                   0   \n4               0  ...                   0                   0   \n5               0  ...                   0                   0   \n6               0  ...                   0                   0   \n7               0  ...                   0                   0   \n8               0  ...                   0                   0   \n\n   NC000962_3.4411245  NC000962_3.4411286  NC000962_3.4411405  \\\n0                   2                   0                   0   \n1                   0                   0                   0   \n2                   0                   0                   0   \n3                   0                   0                   0   \n4                   0                   0                   0   \n5                   0                   0                   0   \n6                   0                   0                   0   \n7                   0                   0                   0   \n8                   0                   0                   0   \n\n   NC000962_3.4411518  isResistant  NC000962_3.11  NC000962_3.78  \\\n0                   0            0              0              0   \n1                   0            0              0              0   \n2                   0            1              0              0   \n3                   0            1              0              0   \n4                   0            1              0              0   \n5                   0            1              0              0   \n6                   0            0              0              0   \n7                   0            1              0              0   \n8                   0            1              0              0   \n\n   NC000962_3.80  \n0              0  \n1              0  \n2              0  \n3              0  \n4              0  \n5              0  \n6              0  \n7              0  \n8              0  \n\n[9 rows x 134258 columns]",
      "text/html": "<div>\n<style scoped>\n    .dataframe tbody tr th:only-of-type {\n        vertical-align: middle;\n    }\n\n    .dataframe tbody tr th {\n        vertical-align: top;\n    }\n\n    .dataframe thead th {\n        text-align: right;\n    }\n</style>\n<table border=\"1\" class=\"dataframe\">\n  <thead>\n    <tr style=\"text-align: right;\">\n      <th></th>\n      <th>Unnamed: 0</th>\n      <th>NC000962_3.82</th>\n      <th>NC000962_3.88</th>\n      <th>NC000962_3.102</th>\n      <th>NC000962_3.104</th>\n      <th>NC000962_3.108</th>\n      <th>NC000962_3.117</th>\n      <th>NC000962_3.120</th>\n      <th>NC000962_3.135</th>\n      <th>NC000962_3.138</th>\n      <th>...</th>\n      <th>NC000962_3.4410847</th>\n      <th>NC000962_3.4411128</th>\n      <th>NC000962_3.4411245</th>\n      <th>NC000962_3.4411286</th>\n      <th>NC000962_3.4411405</th>\n      <th>NC000962_3.4411518</th>\n      <th>isResistant</th>\n      <th>NC000962_3.11</th>\n      <th>NC000962_3.78</th>\n      <th>NC000962_3.80</th>\n    </tr>\n  </thead>\n  <tbody>\n    <tr>\n      <th>0</th>\n      <td>SRR10851707</td>\n      <td>0</td>\n      <td>0</td>\n      <td>0</td>\n      <td>0</td>\n      <td>0</td>\n      <td>0</td>\n      <td>0</td>\n      <td>0</td>\n      <td>0</td>\n      <td>...</td>\n      <td>0</td>\n      <td>0</td>\n      <td>2</td>\n      <td>0</td>\n      <td>0</td>\n      <td>0</td>\n      <td>0</td>\n      <td>0</td>\n      <td>0</td>\n      <td>0</td>\n    </tr>\n    <tr>\n      <th>1</th>\n      <td>SRR3732596</td>\n      <td>2</td>\n      <td>0</td>\n      <td>0</td>\n      <td>0</td>\n      <td>0</td>\n      <td>0</td>\n      <td>0</td>\n      <td>0</td>\n      <td>0</td>\n      <td>...</td>\n      <td>0</td>\n      <td>0</td>\n      <td>0</td>\n      <td>0</td>\n      <td>0</td>\n      <td>0</td>\n      <td>0</td>\n      <td>0</td>\n      <td>0</td>\n      <td>0</td>\n    </tr>\n    <tr>\n      <th>2</th>\n      <td>ERR751356</td>\n      <td>0</td>\n      <td>0</td>\n      <td>0</td>\n      <td>0</td>\n      <td>0</td>\n      <td>0</td>\n      <td>0</td>\n      <td>0</td>\n      <td>0</td>\n      <td>...</td>\n      <td>0</td>\n      <td>0</td>\n      <td>0</td>\n      <td>0</td>\n      <td>0</td>\n      <td>0</td>\n      <td>1</td>\n      <td>0</td>\n      <td>0</td>\n      <td>0</td>\n    </tr>\n    <tr>\n      <th>3</th>\n      <td>ERR751456</td>\n      <td>0</td>\n      <td>0</td>\n      <td>0</td>\n      <td>0</td>\n      <td>0</td>\n      <td>0</td>\n      <td>0</td>\n      <td>0</td>\n      <td>0</td>\n      <td>...</td>\n      <td>0</td>\n      <td>0</td>\n      <td>0</td>\n      <td>0</td>\n      <td>0</td>\n      <td>0</td>\n      <td>1</td>\n      <td>0</td>\n      <td>0</td>\n      <td>0</td>\n    </tr>\n    <tr>\n      <th>4</th>\n      <td>ERR751482</td>\n      <td>0</td>\n      <td>0</td>\n      <td>0</td>\n      <td>0</td>\n      <td>0</td>\n      <td>0</td>\n      <td>0</td>\n      <td>0</td>\n      <td>0</td>\n      <td>...</td>\n      <td>0</td>\n      <td>0</td>\n      <td>0</td>\n      <td>0</td>\n      <td>0</td>\n      <td>0</td>\n      <td>1</td>\n      <td>0</td>\n      <td>0</td>\n      <td>0</td>\n    </tr>\n    <tr>\n      <th>5</th>\n      <td>ERR751359</td>\n      <td>0</td>\n      <td>0</td>\n      <td>0</td>\n      <td>0</td>\n      <td>0</td>\n      <td>0</td>\n      <td>0</td>\n      <td>0</td>\n      <td>0</td>\n      <td>...</td>\n      <td>0</td>\n      <td>0</td>\n      <td>0</td>\n      <td>0</td>\n      <td>0</td>\n      <td>0</td>\n      <td>1</td>\n      <td>0</td>\n      <td>0</td>\n      <td>0</td>\n    </tr>\n    <tr>\n      <th>6</th>\n      <td>SRR11922528</td>\n      <td>0</td>\n      <td>0</td>\n      <td>0</td>\n      <td>0</td>\n      <td>0</td>\n      <td>0</td>\n      <td>0</td>\n      <td>0</td>\n      <td>0</td>\n      <td>...</td>\n      <td>0</td>\n      <td>0</td>\n      <td>0</td>\n      <td>0</td>\n      <td>0</td>\n      <td>0</td>\n      <td>0</td>\n      <td>0</td>\n      <td>0</td>\n      <td>0</td>\n    </tr>\n    <tr>\n      <th>7</th>\n      <td>ERR775339</td>\n      <td>0</td>\n      <td>0</td>\n      <td>0</td>\n      <td>0</td>\n      <td>0</td>\n      <td>0</td>\n      <td>0</td>\n      <td>0</td>\n      <td>0</td>\n      <td>...</td>\n      <td>0</td>\n      <td>0</td>\n      <td>0</td>\n      <td>0</td>\n      <td>0</td>\n      <td>0</td>\n      <td>1</td>\n      <td>0</td>\n      <td>0</td>\n      <td>0</td>\n    </tr>\n    <tr>\n      <th>8</th>\n      <td>ERR775387</td>\n      <td>0</td>\n      <td>0</td>\n      <td>0</td>\n      <td>0</td>\n      <td>0</td>\n      <td>0</td>\n      <td>0</td>\n      <td>0</td>\n      <td>0</td>\n      <td>...</td>\n      <td>0</td>\n      <td>0</td>\n      <td>0</td>\n      <td>0</td>\n      <td>0</td>\n      <td>0</td>\n      <td>1</td>\n      <td>0</td>\n      <td>0</td>\n      <td>0</td>\n    </tr>\n  </tbody>\n</table>\n<p>9 rows × 134258 columns</p>\n</div>"
     },
     "execution_count": 10,
     "metadata": {},
     "output_type": "execute_result"
    }
   ],
   "source": [],
   "metadata": {
    "collapsed": false,
    "pycharm": {
     "name": "#%%\n"
    }
   }
  }
 ],
 "metadata": {
  "kernelspec": {
   "name": "pycharm-f27e5417",
   "language": "python",
   "display_name": "PyCharm (drug-resistance-prediction-cambiohack)"
  },
  "language_info": {
   "codemirror_mode": {
    "name": "ipython",
    "version": 2
   },
   "file_extension": ".py",
   "mimetype": "text/x-python",
   "name": "python",
   "nbconvert_exporter": "python",
   "pygments_lexer": "ipython2",
   "version": "2.7.6"
  }
 },
 "nbformat": 4,
 "nbformat_minor": 0
}