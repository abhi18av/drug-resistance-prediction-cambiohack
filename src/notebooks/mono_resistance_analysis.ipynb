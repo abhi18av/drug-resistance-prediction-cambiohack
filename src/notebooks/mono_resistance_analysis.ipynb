{
 "cells": [
  {
   "cell_type": "markdown",
   "metadata": {
    "pycharm": {
     "name": "#%% md\n"
    }
   },
   "source": [
    "# Mono resistance prediction\n",
    "\n",
    "In this POC, we gloss over the resistance towards distinct drugs\n"
   ]
  },
  {
   "cell_type": "code",
   "execution_count": 1,
   "metadata": {},
   "outputs": [],
   "source": [
    "# Import the usual suspects.\n",
    "\n",
    "from __future__ import print_function\n",
    "import pandas as pd\n",
    "import numpy as np"
   ]
  },
  {
   "cell_type": "code",
   "execution_count": 2,
   "metadata": {
    "pycharm": {
     "name": "#%%\n"
    }
   },
   "outputs": [],
   "source": [
    "lineage_column_names = [ 'main_lin', 'sublin' ]\n",
    "\n",
    "resistance_status_column_names = [ 'drtype', 'MDR', 'XDR', 'isResistant' ]\n"
   ]
  },
  {
   "cell_type": "code",
   "execution_count": 3,
   "metadata": {
    "pycharm": {
     "name": "#%%\n"
    }
   },
   "outputs": [],
   "source": [
    "renamed_drug_columns_names = [                     'rifampicin_resistance',\n",
    "                                                   'isoniazid_resistance',\n",
    "                                                   'pyrazinamide_resistance',\n",
    "                                                   'ethambutol_resistance',\n",
    "                                                   'streptomycin_resistance',\n",
    "                                                   'fluoroquinolones_resistance',\n",
    "                                                   'moxifloxacin_resistance',\n",
    "                                                   'ofloxacin_resistance',\n",
    "                                                   'levofloxacin_resistance',\n",
    "                                                   'ciprofloxacin_resistance',\n",
    "                                                   'aminoglycosides_resistance',\n",
    "                                                   'amikacin_resistance',\n",
    "                                                   'kanamycin_resistance',\n",
    "                                                   'capreomycin_resistance',\n",
    "                                                   'ethionamide_resistance',\n",
    "                                                   'para-aminosalicylic_acid_resistance',\n",
    "                                                   'cycloserine_resistance',\n",
    "                                                   'linezolid_resistance',\n",
    "                                                   'bedaquiline_resistance',\n",
    "                                                   'clofazimine_resistance',\n",
    "                                                   'delamanid_resistance']\n"
   ]
  },
  {
   "cell_type": "code",
   "execution_count": null,
   "outputs": [],
   "source": [],
   "metadata": {
    "collapsed": false,
    "pycharm": {
     "name": "#%%\n"
    }
   }
  },
  {
   "cell_type": "code",
   "execution_count": null,
   "outputs": [],
   "source": [
    "\n",
    "binary_unique_snps_df = pd.read_csv(\"../data/processed/binary_unique_snps_df.csv\")\n",
    "binary_unique_snps_df.head()"
   ],
   "metadata": {
    "collapsed": false,
    "pycharm": {
     "name": "#%%\n"
    }
   }
  },
  {
   "cell_type": "code",
   "execution_count": null,
   "outputs": [],
   "source": [
    "# Ensure that every column has atleast one mutation\n",
    "\n",
    "binary_col_mutation_dict = {}\n",
    "\n",
    "for col in binary_unique_snps_df.columns:\n",
    "    sum_of_col = binary_unique_snps_df[col].sum()\n",
    "    if  sum_of_col > 0:\n",
    "        # print('col: ', col, \"\\tsum: \", col_sum)\n",
    "        binary_col_mutation_dict[col] =  dict(binary_unique_snps_df[col].value_counts())\n",
    "\n",
    "binary_col_mutation_dict\n"
   ],
   "metadata": {
    "collapsed": false,
    "pycharm": {
     "name": "#%%\n"
    }
   }
  },
  {
   "cell_type": "code",
   "execution_count": null,
   "outputs": [],
   "source": [
    "binary_unique_snps_df = binary_unique_snps_df.rename({'Unnamed: 0': 'SampleID'}).set_index('SampleID')\n",
    "binary_unique_snps_df.head()\n"
   ],
   "metadata": {
    "collapsed": false,
    "pycharm": {
     "name": "#%%\n"
    }
   }
  },
  {
   "cell_type": "code",
   "execution_count": null,
   "outputs": [],
   "source": [
    "# hetero_binary_vcf_snps_with_mutations_df = pd.read_csv(\"../data/processed/hetero_binary_vcf_snps_with_mutations_df.csv\", index_col='SampleID')\n",
    "\n",
    "hetero_binary_vcf_snps_with_mutations_df = binary_unique_snps_df[list(binary_col_mutation_dict.keys())]\n",
    "\n",
    "hetero_binary_vcf_snps_with_mutations_df.head()\n"
   ],
   "metadata": {
    "collapsed": false,
    "pycharm": {
     "name": "#%%\n"
    }
   }
  },
  {
   "cell_type": "code",
   "execution_count": null,
   "outputs": [],
   "source": [
    "resistance_status_df = pd.read_csv(\"../data/processed/resistance_status_df.csv\").rename(columns={'Unnamed: 0' : 'SampleID'}).set_index('SampleID')\n",
    "\n",
    "resistance_status_df.head()\n"
   ],
   "metadata": {
    "collapsed": false,
    "pycharm": {
     "name": "#%%\n"
    }
   }
  },
  {
   "cell_type": "code",
   "execution_count": null,
   "outputs": [],
   "source": [
    "final_df = hetero_binary_vcf_snps_with_mutations_df.join(resistance_status_df)\n",
    "# cols = list(final_df.columns)\n",
    "# cols = [*cols[1:], cols[0]]\n",
    "# final_df = final_df[cols]\n",
    "final_df.head()"
   ],
   "metadata": {
    "collapsed": false,
    "pycharm": {
     "name": "#%%\n"
    }
   }
  },
  {
   "cell_type": "code",
   "execution_count": null,
   "outputs": [],
   "source": [
    "\n",
    "# final_df['bedaquiline_resistance'].value_counts()"
   ],
   "metadata": {
    "collapsed": false,
    "pycharm": {
     "name": "#%%\n"
    }
   }
  },
  {
   "cell_type": "code",
   "execution_count": null,
   "outputs": [],
   "source": [
    "final_df.to_csv(\"../data/processed/final_df.csv\")"
   ],
   "metadata": {
    "collapsed": false,
    "pycharm": {
     "name": "#%%\n"
    }
   }
  },
  {
   "cell_type": "code",
   "execution_count": null,
   "outputs": [],
   "source": [],
   "metadata": {
    "collapsed": false,
    "pycharm": {
     "name": "#%%\n"
    }
   }
  },
  {
   "cell_type": "code",
   "execution_count": null,
   "outputs": [],
   "source": [
    "final_df = pd.read_csv(\"../data/processed/final_df.csv\")\n",
    "# final_df = pd.read_json(\"../data/processed/final_df.json\")\n",
    "\n",
    "final_df.head()"
   ],
   "metadata": {
    "collapsed": false,
    "pycharm": {
     "name": "#%%\n",
     "is_executing": true
    }
   }
  },
  {
   "cell_type": "code",
   "execution_count": null,
   "outputs": [],
   "source": [
    "\n",
    "final_df.rename(columns = {'Unnamed: 0': 'SampleID'},\n",
    "                            inplace=True)\n",
    "\n",
    "final_df.head()"
   ],
   "metadata": {
    "collapsed": false,
    "pycharm": {
     "name": "#%%\n",
     "is_executing": true
    }
   }
  },
  {
   "cell_type": "code",
   "execution_count": null,
   "outputs": [],
   "source": [
    "final_df = final_df.set_index('SampleID')\n",
    "\n",
    "final_df.head()\n"
   ],
   "metadata": {
    "collapsed": false,
    "pycharm": {
     "name": "#%%\n",
     "is_executing": true
    }
   }
  },
  {
   "cell_type": "code",
   "execution_count": 10,
   "metadata": {
    "pycharm": {
     "name": "#%%\n"
    }
   },
   "outputs": [
    {
     "data": {
      "text/plain": "            NC000962_3.11  NC000962_3.78  NC000962_3.80  NC000962_3.82  \\\nSampleID                                                                 \nERR3129939              0              0              0              0   \nERR3148148              0              0              0              0   \nERR3148149              0              0              0              0   \nERR3148151              0              0              0              0   \nERR3148153              0              0              0              0   \n\n            NC000962_3.88  NC000962_3.102  NC000962_3.104  NC000962_3.108  \\\nSampleID                                                                    \nERR3129939              0               0               0               0   \nERR3148148              0               0               0               0   \nERR3148149              0               0               0               0   \nERR3148151              0               0               0               0   \nERR3148153              0               0               0               0   \n\n            NC000962_3.117  NC000962_3.120  ...  NC000962_3.4410070  \\\nSampleID                                    ...                       \nERR3129939               0               0  ...                   0   \nERR3148148               0               0  ...                   0   \nERR3148149               0               0  ...                   0   \nERR3148151               0               0  ...                   0   \nERR3148153               0               0  ...                   0   \n\n            NC000962_3.4410276  NC000962_3.4410309  NC000962_3.4410847  \\\nSampleID                                                                 \nERR3129939                   0                   0                   0   \nERR3148148                   0                   0                   0   \nERR3148149                   0                   0                   0   \nERR3148151                   0                   0                   0   \nERR3148153                   0                   0                   0   \n\n            NC000962_3.4411128  NC000962_3.4411245  NC000962_3.4411286  \\\nSampleID                                                                 \nERR3129939                   0                   0                   0   \nERR3148148                   0                   0                   0   \nERR3148149                   0                   0                   0   \nERR3148151                   0                   0                   0   \nERR3148153                   0                   0                   0   \n\n            NC000962_3.4411405  NC000962_3.4411518  isResistant  \nSampleID                                                         \nERR3129939                   0                   0          0.0  \nERR3148148                   0                   0          0.0  \nERR3148149                   0                   0          1.0  \nERR3148151                   0                   0          1.0  \nERR3148153                   0                   0          0.0  \n\n[5 rows x 134257 columns]",
      "text/html": "<div>\n<style scoped>\n    .dataframe tbody tr th:only-of-type {\n        vertical-align: middle;\n    }\n\n    .dataframe tbody tr th {\n        vertical-align: top;\n    }\n\n    .dataframe thead th {\n        text-align: right;\n    }\n</style>\n<table border=\"1\" class=\"dataframe\">\n  <thead>\n    <tr style=\"text-align: right;\">\n      <th></th>\n      <th>NC000962_3.11</th>\n      <th>NC000962_3.78</th>\n      <th>NC000962_3.80</th>\n      <th>NC000962_3.82</th>\n      <th>NC000962_3.88</th>\n      <th>NC000962_3.102</th>\n      <th>NC000962_3.104</th>\n      <th>NC000962_3.108</th>\n      <th>NC000962_3.117</th>\n      <th>NC000962_3.120</th>\n      <th>...</th>\n      <th>NC000962_3.4410070</th>\n      <th>NC000962_3.4410276</th>\n      <th>NC000962_3.4410309</th>\n      <th>NC000962_3.4410847</th>\n      <th>NC000962_3.4411128</th>\n      <th>NC000962_3.4411245</th>\n      <th>NC000962_3.4411286</th>\n      <th>NC000962_3.4411405</th>\n      <th>NC000962_3.4411518</th>\n      <th>isResistant</th>\n    </tr>\n    <tr>\n      <th>SampleID</th>\n      <th></th>\n      <th></th>\n      <th></th>\n      <th></th>\n      <th></th>\n      <th></th>\n      <th></th>\n      <th></th>\n      <th></th>\n      <th></th>\n      <th></th>\n      <th></th>\n      <th></th>\n      <th></th>\n      <th></th>\n      <th></th>\n      <th></th>\n      <th></th>\n      <th></th>\n      <th></th>\n      <th></th>\n    </tr>\n  </thead>\n  <tbody>\n    <tr>\n      <th>ERR3129939</th>\n      <td>0</td>\n      <td>0</td>\n      <td>0</td>\n      <td>0</td>\n      <td>0</td>\n      <td>0</td>\n      <td>0</td>\n      <td>0</td>\n      <td>0</td>\n      <td>0</td>\n      <td>...</td>\n      <td>0</td>\n      <td>0</td>\n      <td>0</td>\n      <td>0</td>\n      <td>0</td>\n      <td>0</td>\n      <td>0</td>\n      <td>0</td>\n      <td>0</td>\n      <td>0.0</td>\n    </tr>\n    <tr>\n      <th>ERR3148148</th>\n      <td>0</td>\n      <td>0</td>\n      <td>0</td>\n      <td>0</td>\n      <td>0</td>\n      <td>0</td>\n      <td>0</td>\n      <td>0</td>\n      <td>0</td>\n      <td>0</td>\n      <td>...</td>\n      <td>0</td>\n      <td>0</td>\n      <td>0</td>\n      <td>0</td>\n      <td>0</td>\n      <td>0</td>\n      <td>0</td>\n      <td>0</td>\n      <td>0</td>\n      <td>0.0</td>\n    </tr>\n    <tr>\n      <th>ERR3148149</th>\n      <td>0</td>\n      <td>0</td>\n      <td>0</td>\n      <td>0</td>\n      <td>0</td>\n      <td>0</td>\n      <td>0</td>\n      <td>0</td>\n      <td>0</td>\n      <td>0</td>\n      <td>...</td>\n      <td>0</td>\n      <td>0</td>\n      <td>0</td>\n      <td>0</td>\n      <td>0</td>\n      <td>0</td>\n      <td>0</td>\n      <td>0</td>\n      <td>0</td>\n      <td>1.0</td>\n    </tr>\n    <tr>\n      <th>ERR3148151</th>\n      <td>0</td>\n      <td>0</td>\n      <td>0</td>\n      <td>0</td>\n      <td>0</td>\n      <td>0</td>\n      <td>0</td>\n      <td>0</td>\n      <td>0</td>\n      <td>0</td>\n      <td>...</td>\n      <td>0</td>\n      <td>0</td>\n      <td>0</td>\n      <td>0</td>\n      <td>0</td>\n      <td>0</td>\n      <td>0</td>\n      <td>0</td>\n      <td>0</td>\n      <td>1.0</td>\n    </tr>\n    <tr>\n      <th>ERR3148153</th>\n      <td>0</td>\n      <td>0</td>\n      <td>0</td>\n      <td>0</td>\n      <td>0</td>\n      <td>0</td>\n      <td>0</td>\n      <td>0</td>\n      <td>0</td>\n      <td>0</td>\n      <td>...</td>\n      <td>0</td>\n      <td>0</td>\n      <td>0</td>\n      <td>0</td>\n      <td>0</td>\n      <td>0</td>\n      <td>0</td>\n      <td>0</td>\n      <td>0</td>\n      <td>0.0</td>\n    </tr>\n  </tbody>\n</table>\n<p>5 rows × 134257 columns</p>\n</div>"
     },
     "execution_count": 10,
     "metadata": {},
     "output_type": "execute_result"
    }
   ],
   "source": [
    "mono_resistance_df = final_df.drop(columns=[*lineage_column_names, *renamed_drug_columns_names, 'MDR', 'XDR', 'drtype'])\n",
    "mono_resistance_df.head()\n"
   ]
  },
  {
   "cell_type": "code",
   "execution_count": 12,
   "metadata": {},
   "outputs": [
    {
     "data": {
      "text/html": [
       "<div>\n",
       "<style scoped>\n",
       "    .dataframe tbody tr th:only-of-type {\n",
       "        vertical-align: middle;\n",
       "    }\n",
       "\n",
       "    .dataframe tbody tr th {\n",
       "        vertical-align: top;\n",
       "    }\n",
       "\n",
       "    .dataframe thead th {\n",
       "        text-align: right;\n",
       "    }\n",
       "</style>\n",
       "<table border=\"1\" class=\"dataframe\">\n",
       "  <thead>\n",
       "    <tr style=\"text-align: right;\">\n",
       "      <th></th>\n",
       "      <th>NC000962_3.4410070</th>\n",
       "      <th>NC000962_3.4410276</th>\n",
       "      <th>NC000962_3.4410309</th>\n",
       "      <th>NC000962_3.4410847</th>\n",
       "      <th>NC000962_3.4411128</th>\n",
       "      <th>NC000962_3.4411245</th>\n",
       "      <th>NC000962_3.4411286</th>\n",
       "      <th>NC000962_3.4411405</th>\n",
       "      <th>NC000962_3.4411518</th>\n",
       "      <th>isResistant</th>\n",
       "    </tr>\n",
       "    <tr>\n",
       "      <th>SampleID</th>\n",
       "      <th></th>\n",
       "      <th></th>\n",
       "      <th></th>\n",
       "      <th></th>\n",
       "      <th></th>\n",
       "      <th></th>\n",
       "      <th></th>\n",
       "      <th></th>\n",
       "      <th></th>\n",
       "      <th></th>\n",
       "    </tr>\n",
       "  </thead>\n",
       "  <tbody>\n",
       "    <tr>\n",
       "      <th>ERR3129939</th>\n",
       "      <td>0</td>\n",
       "      <td>0</td>\n",
       "      <td>0</td>\n",
       "      <td>0</td>\n",
       "      <td>0</td>\n",
       "      <td>0</td>\n",
       "      <td>0</td>\n",
       "      <td>0</td>\n",
       "      <td>0</td>\n",
       "      <td>0.0</td>\n",
       "    </tr>\n",
       "    <tr>\n",
       "      <th>ERR3148148</th>\n",
       "      <td>0</td>\n",
       "      <td>0</td>\n",
       "      <td>0</td>\n",
       "      <td>0</td>\n",
       "      <td>0</td>\n",
       "      <td>0</td>\n",
       "      <td>0</td>\n",
       "      <td>0</td>\n",
       "      <td>0</td>\n",
       "      <td>0.0</td>\n",
       "    </tr>\n",
       "    <tr>\n",
       "      <th>ERR3148149</th>\n",
       "      <td>0</td>\n",
       "      <td>0</td>\n",
       "      <td>0</td>\n",
       "      <td>0</td>\n",
       "      <td>0</td>\n",
       "      <td>0</td>\n",
       "      <td>0</td>\n",
       "      <td>0</td>\n",
       "      <td>0</td>\n",
       "      <td>1.0</td>\n",
       "    </tr>\n",
       "    <tr>\n",
       "      <th>ERR3148151</th>\n",
       "      <td>0</td>\n",
       "      <td>0</td>\n",
       "      <td>0</td>\n",
       "      <td>0</td>\n",
       "      <td>0</td>\n",
       "      <td>0</td>\n",
       "      <td>0</td>\n",
       "      <td>0</td>\n",
       "      <td>0</td>\n",
       "      <td>1.0</td>\n",
       "    </tr>\n",
       "    <tr>\n",
       "      <th>ERR3148153</th>\n",
       "      <td>0</td>\n",
       "      <td>0</td>\n",
       "      <td>0</td>\n",
       "      <td>0</td>\n",
       "      <td>0</td>\n",
       "      <td>0</td>\n",
       "      <td>0</td>\n",
       "      <td>0</td>\n",
       "      <td>0</td>\n",
       "      <td>0.0</td>\n",
       "    </tr>\n",
       "  </tbody>\n",
       "</table>\n",
       "</div>"
      ],
      "text/plain": [
       "            NC000962_3.4410070  NC000962_3.4410276  NC000962_3.4410309  \\\n",
       "SampleID                                                                 \n",
       "ERR3129939                   0                   0                   0   \n",
       "ERR3148148                   0                   0                   0   \n",
       "ERR3148149                   0                   0                   0   \n",
       "ERR3148151                   0                   0                   0   \n",
       "ERR3148153                   0                   0                   0   \n",
       "\n",
       "            NC000962_3.4410847  NC000962_3.4411128  NC000962_3.4411245  \\\n",
       "SampleID                                                                 \n",
       "ERR3129939                   0                   0                   0   \n",
       "ERR3148148                   0                   0                   0   \n",
       "ERR3148149                   0                   0                   0   \n",
       "ERR3148151                   0                   0                   0   \n",
       "ERR3148153                   0                   0                   0   \n",
       "\n",
       "            NC000962_3.4411286  NC000962_3.4411405  NC000962_3.4411518  \\\n",
       "SampleID                                                                 \n",
       "ERR3129939                   0                   0                   0   \n",
       "ERR3148148                   0                   0                   0   \n",
       "ERR3148149                   0                   0                   0   \n",
       "ERR3148151                   0                   0                   0   \n",
       "ERR3148153                   0                   0                   0   \n",
       "\n",
       "            isResistant  \n",
       "SampleID                 \n",
       "ERR3129939          0.0  \n",
       "ERR3148148          0.0  \n",
       "ERR3148149          1.0  \n",
       "ERR3148151          1.0  \n",
       "ERR3148153          0.0  "
      ]
     },
     "execution_count": 12,
     "metadata": {},
     "output_type": "execute_result"
    }
   ],
   "source": [
    "mono_resistance_df_small = mono_resistance_df.iloc[:, -10:]\n",
    "mono_resistance_df_small.to_csv(\"../data/processed/mono_resistance_df_small.csv\")\n",
    "mono_resistance_df_small.head()\n"
   ]
  },
  {
   "cell_type": "code",
   "execution_count": 11,
   "metadata": {
    "pycharm": {
     "name": "#%%\n"
    }
   },
   "outputs": [
    {
     "data": {
      "text/plain": "            NC000962_3.11  NC000962_3.78  NC000962_3.80  NC000962_3.82  \\\nSampleID                                                                 \nERR3129939              0              0              0              0   \nERR3148148              0              0              0              0   \nERR3148149              0              0              0              0   \nERR3148151              0              0              0              0   \nERR3148153              0              0              0              0   \n\n            NC000962_3.88  NC000962_3.102  NC000962_3.104  NC000962_3.108  \\\nSampleID                                                                    \nERR3129939              0               0               0               0   \nERR3148148              0               0               0               0   \nERR3148149              0               0               0               0   \nERR3148151              0               0               0               0   \nERR3148153              0               0               0               0   \n\n            NC000962_3.117  NC000962_3.120  ...  NC000962_3.4410070  \\\nSampleID                                    ...                       \nERR3129939               0               0  ...                   0   \nERR3148148               0               0  ...                   0   \nERR3148149               0               0  ...                   0   \nERR3148151               0               0  ...                   0   \nERR3148153               0               0  ...                   0   \n\n            NC000962_3.4410276  NC000962_3.4410309  NC000962_3.4410847  \\\nSampleID                                                                 \nERR3129939                   0                   0                   0   \nERR3148148                   0                   0                   0   \nERR3148149                   0                   0                   0   \nERR3148151                   0                   0                   0   \nERR3148153                   0                   0                   0   \n\n            NC000962_3.4411128  NC000962_3.4411245  NC000962_3.4411286  \\\nSampleID                                                                 \nERR3129939                   0                   0                   0   \nERR3148148                   0                   0                   0   \nERR3148149                   0                   0                   0   \nERR3148151                   0                   0                   0   \nERR3148153                   0                   0                   0   \n\n            NC000962_3.4411405  NC000962_3.4411518  isResistant  \nSampleID                                                         \nERR3129939                   0                   0          0.0  \nERR3148148                   0                   0          0.0  \nERR3148149                   0                   0          1.0  \nERR3148151                   0                   0          1.0  \nERR3148153                   0                   0          0.0  \n\n[5 rows x 134257 columns]",
      "text/html": "<div>\n<style scoped>\n    .dataframe tbody tr th:only-of-type {\n        vertical-align: middle;\n    }\n\n    .dataframe tbody tr th {\n        vertical-align: top;\n    }\n\n    .dataframe thead th {\n        text-align: right;\n    }\n</style>\n<table border=\"1\" class=\"dataframe\">\n  <thead>\n    <tr style=\"text-align: right;\">\n      <th></th>\n      <th>NC000962_3.11</th>\n      <th>NC000962_3.78</th>\n      <th>NC000962_3.80</th>\n      <th>NC000962_3.82</th>\n      <th>NC000962_3.88</th>\n      <th>NC000962_3.102</th>\n      <th>NC000962_3.104</th>\n      <th>NC000962_3.108</th>\n      <th>NC000962_3.117</th>\n      <th>NC000962_3.120</th>\n      <th>...</th>\n      <th>NC000962_3.4410070</th>\n      <th>NC000962_3.4410276</th>\n      <th>NC000962_3.4410309</th>\n      <th>NC000962_3.4410847</th>\n      <th>NC000962_3.4411128</th>\n      <th>NC000962_3.4411245</th>\n      <th>NC000962_3.4411286</th>\n      <th>NC000962_3.4411405</th>\n      <th>NC000962_3.4411518</th>\n      <th>isResistant</th>\n    </tr>\n    <tr>\n      <th>SampleID</th>\n      <th></th>\n      <th></th>\n      <th></th>\n      <th></th>\n      <th></th>\n      <th></th>\n      <th></th>\n      <th></th>\n      <th></th>\n      <th></th>\n      <th></th>\n      <th></th>\n      <th></th>\n      <th></th>\n      <th></th>\n      <th></th>\n      <th></th>\n      <th></th>\n      <th></th>\n      <th></th>\n      <th></th>\n    </tr>\n  </thead>\n  <tbody>\n    <tr>\n      <th>ERR3129939</th>\n      <td>0</td>\n      <td>0</td>\n      <td>0</td>\n      <td>0</td>\n      <td>0</td>\n      <td>0</td>\n      <td>0</td>\n      <td>0</td>\n      <td>0</td>\n      <td>0</td>\n      <td>...</td>\n      <td>0</td>\n      <td>0</td>\n      <td>0</td>\n      <td>0</td>\n      <td>0</td>\n      <td>0</td>\n      <td>0</td>\n      <td>0</td>\n      <td>0</td>\n      <td>0.0</td>\n    </tr>\n    <tr>\n      <th>ERR3148148</th>\n      <td>0</td>\n      <td>0</td>\n      <td>0</td>\n      <td>0</td>\n      <td>0</td>\n      <td>0</td>\n      <td>0</td>\n      <td>0</td>\n      <td>0</td>\n      <td>0</td>\n      <td>...</td>\n      <td>0</td>\n      <td>0</td>\n      <td>0</td>\n      <td>0</td>\n      <td>0</td>\n      <td>0</td>\n      <td>0</td>\n      <td>0</td>\n      <td>0</td>\n      <td>0.0</td>\n    </tr>\n    <tr>\n      <th>ERR3148149</th>\n      <td>0</td>\n      <td>0</td>\n      <td>0</td>\n      <td>0</td>\n      <td>0</td>\n      <td>0</td>\n      <td>0</td>\n      <td>0</td>\n      <td>0</td>\n      <td>0</td>\n      <td>...</td>\n      <td>0</td>\n      <td>0</td>\n      <td>0</td>\n      <td>0</td>\n      <td>0</td>\n      <td>0</td>\n      <td>0</td>\n      <td>0</td>\n      <td>0</td>\n      <td>1.0</td>\n    </tr>\n    <tr>\n      <th>ERR3148151</th>\n      <td>0</td>\n      <td>0</td>\n      <td>0</td>\n      <td>0</td>\n      <td>0</td>\n      <td>0</td>\n      <td>0</td>\n      <td>0</td>\n      <td>0</td>\n      <td>0</td>\n      <td>...</td>\n      <td>0</td>\n      <td>0</td>\n      <td>0</td>\n      <td>0</td>\n      <td>0</td>\n      <td>0</td>\n      <td>0</td>\n      <td>0</td>\n      <td>0</td>\n      <td>1.0</td>\n    </tr>\n    <tr>\n      <th>ERR3148153</th>\n      <td>0</td>\n      <td>0</td>\n      <td>0</td>\n      <td>0</td>\n      <td>0</td>\n      <td>0</td>\n      <td>0</td>\n      <td>0</td>\n      <td>0</td>\n      <td>0</td>\n      <td>...</td>\n      <td>0</td>\n      <td>0</td>\n      <td>0</td>\n      <td>0</td>\n      <td>0</td>\n      <td>0</td>\n      <td>0</td>\n      <td>0</td>\n      <td>0</td>\n      <td>0.0</td>\n    </tr>\n  </tbody>\n</table>\n<p>5 rows × 134257 columns</p>\n</div>"
     },
     "execution_count": 11,
     "metadata": {},
     "output_type": "execute_result"
    }
   ],
   "source": [
    "mono_resistance_df.to_csv(\"../data/processed/mono_resistance_df.csv\")\n",
    "mono_resistance_df.head()\n"
   ]
  },
  {
   "cell_type": "code",
   "execution_count": 37,
   "outputs": [
    {
     "data": {
      "text/plain": "            NC000962_3.11  NC000962_3.78  NC000962_3.80  NC000962_3.82  \\\nSampleID                                                                 \nERR3129939              0              0              0              0   \nERR3148148              0              0              0              0   \nERR3148149              0              0              0              0   \nERR3148151              0              0              0              0   \nERR3148153              0              0              0              0   \n...                   ...            ...            ...            ...   \nSRR9224981              0              0              0              0   \nSRR9224985              0              0              0              0   \nSRR9224986              0              0              0              0   \nSRR9224992              0              0              0              0   \nSRR9224997              0              0              0              0   \n\n            NC000962_3.88  NC000962_3.102  NC000962_3.104  NC000962_3.108  \\\nSampleID                                                                    \nERR3129939              0               0               0               0   \nERR3148148              0               0               0               0   \nERR3148149              0               0               0               0   \nERR3148151              0               0               0               0   \nERR3148153              0               0               0               0   \n...                   ...             ...             ...             ...   \nSRR9224981              0               0               0               0   \nSRR9224985              0               0               0               0   \nSRR9224986              0               0               0               0   \nSRR9224992              0               0               0               0   \nSRR9224997              0               0               0               0   \n\n            NC000962_3.117  NC000962_3.120  ...  NC000962_3.4410070  \\\nSampleID                                    ...                       \nERR3129939               0               0  ...                   0   \nERR3148148               0               0  ...                   0   \nERR3148149               0               0  ...                   0   \nERR3148151               0               0  ...                   0   \nERR3148153               0               0  ...                   0   \n...                    ...             ...  ...                 ...   \nSRR9224981               0               0  ...                   0   \nSRR9224985               0               0  ...                   0   \nSRR9224986               0               0  ...                   0   \nSRR9224992               0               0  ...                   0   \nSRR9224997               0               0  ...                   0   \n\n            NC000962_3.4410276  NC000962_3.4410309  NC000962_3.4410847  \\\nSampleID                                                                 \nERR3129939                   0                   0                   0   \nERR3148148                   0                   0                   0   \nERR3148149                   0                   0                   0   \nERR3148151                   0                   0                   0   \nERR3148153                   0                   0                   0   \n...                        ...                 ...                 ...   \nSRR9224981                   0                   0                   0   \nSRR9224985                   0                   0                   0   \nSRR9224986                   0                   0                   0   \nSRR9224992                   0                   0                   0   \nSRR9224997                   0                   0                   0   \n\n            NC000962_3.4411128  NC000962_3.4411245  NC000962_3.4411286  \\\nSampleID                                                                 \nERR3129939                   0                   0                   0   \nERR3148148                   0                   0                   0   \nERR3148149                   0                   0                   0   \nERR3148151                   0                   0                   0   \nERR3148153                   0                   0                   0   \n...                        ...                 ...                 ...   \nSRR9224981                   0                   0                   0   \nSRR9224985                   0                   0                   0   \nSRR9224986                   0                   0                   0   \nSRR9224992                   0                   0                   0   \nSRR9224997                   0                   0                   0   \n\n            NC000962_3.4411405  NC000962_3.4411518  isResistant  \nSampleID                                                         \nERR3129939                   0                   0          0.0  \nERR3148148                   0                   0          0.0  \nERR3148149                   0                   0          1.0  \nERR3148151                   0                   0          1.0  \nERR3148153                   0                   0          0.0  \n...                        ...                 ...          ...  \nSRR9224981                   0                   0          1.0  \nSRR9224985                   0                   0          1.0  \nSRR9224986                   0                   0          1.0  \nSRR9224992                   0                   0          1.0  \nSRR9224997                   0                   0          1.0  \n\n[301 rows x 134257 columns]",
      "text/html": "<div>\n<style scoped>\n    .dataframe tbody tr th:only-of-type {\n        vertical-align: middle;\n    }\n\n    .dataframe tbody tr th {\n        vertical-align: top;\n    }\n\n    .dataframe thead th {\n        text-align: right;\n    }\n</style>\n<table border=\"1\" class=\"dataframe\">\n  <thead>\n    <tr style=\"text-align: right;\">\n      <th></th>\n      <th>NC000962_3.11</th>\n      <th>NC000962_3.78</th>\n      <th>NC000962_3.80</th>\n      <th>NC000962_3.82</th>\n      <th>NC000962_3.88</th>\n      <th>NC000962_3.102</th>\n      <th>NC000962_3.104</th>\n      <th>NC000962_3.108</th>\n      <th>NC000962_3.117</th>\n      <th>NC000962_3.120</th>\n      <th>...</th>\n      <th>NC000962_3.4410070</th>\n      <th>NC000962_3.4410276</th>\n      <th>NC000962_3.4410309</th>\n      <th>NC000962_3.4410847</th>\n      <th>NC000962_3.4411128</th>\n      <th>NC000962_3.4411245</th>\n      <th>NC000962_3.4411286</th>\n      <th>NC000962_3.4411405</th>\n      <th>NC000962_3.4411518</th>\n      <th>isResistant</th>\n    </tr>\n    <tr>\n      <th>SampleID</th>\n      <th></th>\n      <th></th>\n      <th></th>\n      <th></th>\n      <th></th>\n      <th></th>\n      <th></th>\n      <th></th>\n      <th></th>\n      <th></th>\n      <th></th>\n      <th></th>\n      <th></th>\n      <th></th>\n      <th></th>\n      <th></th>\n      <th></th>\n      <th></th>\n      <th></th>\n      <th></th>\n      <th></th>\n    </tr>\n  </thead>\n  <tbody>\n    <tr>\n      <th>ERR3129939</th>\n      <td>0</td>\n      <td>0</td>\n      <td>0</td>\n      <td>0</td>\n      <td>0</td>\n      <td>0</td>\n      <td>0</td>\n      <td>0</td>\n      <td>0</td>\n      <td>0</td>\n      <td>...</td>\n      <td>0</td>\n      <td>0</td>\n      <td>0</td>\n      <td>0</td>\n      <td>0</td>\n      <td>0</td>\n      <td>0</td>\n      <td>0</td>\n      <td>0</td>\n      <td>0.0</td>\n    </tr>\n    <tr>\n      <th>ERR3148148</th>\n      <td>0</td>\n      <td>0</td>\n      <td>0</td>\n      <td>0</td>\n      <td>0</td>\n      <td>0</td>\n      <td>0</td>\n      <td>0</td>\n      <td>0</td>\n      <td>0</td>\n      <td>...</td>\n      <td>0</td>\n      <td>0</td>\n      <td>0</td>\n      <td>0</td>\n      <td>0</td>\n      <td>0</td>\n      <td>0</td>\n      <td>0</td>\n      <td>0</td>\n      <td>0.0</td>\n    </tr>\n    <tr>\n      <th>ERR3148149</th>\n      <td>0</td>\n      <td>0</td>\n      <td>0</td>\n      <td>0</td>\n      <td>0</td>\n      <td>0</td>\n      <td>0</td>\n      <td>0</td>\n      <td>0</td>\n      <td>0</td>\n      <td>...</td>\n      <td>0</td>\n      <td>0</td>\n      <td>0</td>\n      <td>0</td>\n      <td>0</td>\n      <td>0</td>\n      <td>0</td>\n      <td>0</td>\n      <td>0</td>\n      <td>1.0</td>\n    </tr>\n    <tr>\n      <th>ERR3148151</th>\n      <td>0</td>\n      <td>0</td>\n      <td>0</td>\n      <td>0</td>\n      <td>0</td>\n      <td>0</td>\n      <td>0</td>\n      <td>0</td>\n      <td>0</td>\n      <td>0</td>\n      <td>...</td>\n      <td>0</td>\n      <td>0</td>\n      <td>0</td>\n      <td>0</td>\n      <td>0</td>\n      <td>0</td>\n      <td>0</td>\n      <td>0</td>\n      <td>0</td>\n      <td>1.0</td>\n    </tr>\n    <tr>\n      <th>ERR3148153</th>\n      <td>0</td>\n      <td>0</td>\n      <td>0</td>\n      <td>0</td>\n      <td>0</td>\n      <td>0</td>\n      <td>0</td>\n      <td>0</td>\n      <td>0</td>\n      <td>0</td>\n      <td>...</td>\n      <td>0</td>\n      <td>0</td>\n      <td>0</td>\n      <td>0</td>\n      <td>0</td>\n      <td>0</td>\n      <td>0</td>\n      <td>0</td>\n      <td>0</td>\n      <td>0.0</td>\n    </tr>\n    <tr>\n      <th>...</th>\n      <td>...</td>\n      <td>...</td>\n      <td>...</td>\n      <td>...</td>\n      <td>...</td>\n      <td>...</td>\n      <td>...</td>\n      <td>...</td>\n      <td>...</td>\n      <td>...</td>\n      <td>...</td>\n      <td>...</td>\n      <td>...</td>\n      <td>...</td>\n      <td>...</td>\n      <td>...</td>\n      <td>...</td>\n      <td>...</td>\n      <td>...</td>\n      <td>...</td>\n      <td>...</td>\n    </tr>\n    <tr>\n      <th>SRR9224981</th>\n      <td>0</td>\n      <td>0</td>\n      <td>0</td>\n      <td>0</td>\n      <td>0</td>\n      <td>0</td>\n      <td>0</td>\n      <td>0</td>\n      <td>0</td>\n      <td>0</td>\n      <td>...</td>\n      <td>0</td>\n      <td>0</td>\n      <td>0</td>\n      <td>0</td>\n      <td>0</td>\n      <td>0</td>\n      <td>0</td>\n      <td>0</td>\n      <td>0</td>\n      <td>1.0</td>\n    </tr>\n    <tr>\n      <th>SRR9224985</th>\n      <td>0</td>\n      <td>0</td>\n      <td>0</td>\n      <td>0</td>\n      <td>0</td>\n      <td>0</td>\n      <td>0</td>\n      <td>0</td>\n      <td>0</td>\n      <td>0</td>\n      <td>...</td>\n      <td>0</td>\n      <td>0</td>\n      <td>0</td>\n      <td>0</td>\n      <td>0</td>\n      <td>0</td>\n      <td>0</td>\n      <td>0</td>\n      <td>0</td>\n      <td>1.0</td>\n    </tr>\n    <tr>\n      <th>SRR9224986</th>\n      <td>0</td>\n      <td>0</td>\n      <td>0</td>\n      <td>0</td>\n      <td>0</td>\n      <td>0</td>\n      <td>0</td>\n      <td>0</td>\n      <td>0</td>\n      <td>0</td>\n      <td>...</td>\n      <td>0</td>\n      <td>0</td>\n      <td>0</td>\n      <td>0</td>\n      <td>0</td>\n      <td>0</td>\n      <td>0</td>\n      <td>0</td>\n      <td>0</td>\n      <td>1.0</td>\n    </tr>\n    <tr>\n      <th>SRR9224992</th>\n      <td>0</td>\n      <td>0</td>\n      <td>0</td>\n      <td>0</td>\n      <td>0</td>\n      <td>0</td>\n      <td>0</td>\n      <td>0</td>\n      <td>0</td>\n      <td>0</td>\n      <td>...</td>\n      <td>0</td>\n      <td>0</td>\n      <td>0</td>\n      <td>0</td>\n      <td>0</td>\n      <td>0</td>\n      <td>0</td>\n      <td>0</td>\n      <td>0</td>\n      <td>1.0</td>\n    </tr>\n    <tr>\n      <th>SRR9224997</th>\n      <td>0</td>\n      <td>0</td>\n      <td>0</td>\n      <td>0</td>\n      <td>0</td>\n      <td>0</td>\n      <td>0</td>\n      <td>0</td>\n      <td>0</td>\n      <td>0</td>\n      <td>...</td>\n      <td>0</td>\n      <td>0</td>\n      <td>0</td>\n      <td>0</td>\n      <td>0</td>\n      <td>0</td>\n      <td>0</td>\n      <td>0</td>\n      <td>0</td>\n      <td>1.0</td>\n    </tr>\n  </tbody>\n</table>\n<p>301 rows × 134257 columns</p>\n</div>"
     },
     "execution_count": 37,
     "metadata": {},
     "output_type": "execute_result"
    }
   ],
   "source": [
    "mono_resistance_df"
   ],
   "metadata": {
    "collapsed": false,
    "pycharm": {
     "name": "#%%\n"
    }
   }
  },
  {
   "cell_type": "markdown",
   "source": [
    "# Scikit-learn\n"
   ],
   "metadata": {
    "collapsed": false
   }
  },
  {
   "cell_type": "code",
   "execution_count": 38,
   "outputs": [
    {
     "data": {
      "text/plain": "array([0], dtype=int64)"
     },
     "execution_count": 38,
     "metadata": {},
     "output_type": "execute_result"
    }
   ],
   "source": [
    "mono_resistance_df['NC000962_3.11'].unique()"
   ],
   "metadata": {
    "collapsed": false,
    "pycharm": {
     "name": "#%%\n"
    }
   }
  },
  {
   "cell_type": "code",
   "execution_count": 34,
   "outputs": [
    {
     "data": {
      "text/plain": "            NC000962_3.11  NC000962_3.78  NC000962_3.80  NC000962_3.82  \\\nSampleID                                                                 \nERR3129939            NaN            NaN            NaN            NaN   \nERR3148148            NaN            NaN            NaN            NaN   \nERR3148149            NaN            NaN            NaN            NaN   \nERR3148151            NaN            NaN            NaN            NaN   \nERR3148153            NaN            NaN            NaN            NaN   \n...                   ...            ...            ...            ...   \nSRR9224981            NaN            NaN            NaN            NaN   \nSRR9224985            NaN            NaN            NaN            NaN   \nSRR9224986            NaN            NaN            NaN            NaN   \nSRR9224992            NaN            NaN            NaN            NaN   \nSRR9224997            NaN            NaN            NaN            NaN   \n\n            NC000962_3.88  NC000962_3.102  NC000962_3.104  NC000962_3.108  \\\nSampleID                                                                    \nERR3129939            NaN             NaN             NaN             NaN   \nERR3148148            NaN             NaN             NaN             NaN   \nERR3148149            NaN             NaN             NaN             NaN   \nERR3148151            NaN             NaN             NaN             NaN   \nERR3148153            NaN             NaN             NaN             NaN   \n...                   ...             ...             ...             ...   \nSRR9224981            NaN             NaN             NaN             NaN   \nSRR9224985            NaN             NaN             NaN             NaN   \nSRR9224986            NaN             NaN             NaN             NaN   \nSRR9224992            NaN             NaN             NaN             NaN   \nSRR9224997            NaN             NaN             NaN             NaN   \n\n            NC000962_3.117  NC000962_3.120  ...  NC000962_3.4410070  \\\nSampleID                                    ...                       \nERR3129939             NaN             NaN  ...                 NaN   \nERR3148148             NaN             NaN  ...                 NaN   \nERR3148149             NaN             NaN  ...                 NaN   \nERR3148151             NaN             NaN  ...                 NaN   \nERR3148153             NaN             NaN  ...                 NaN   \n...                    ...             ...  ...                 ...   \nSRR9224981             NaN             NaN  ...                 NaN   \nSRR9224985             NaN             NaN  ...                 NaN   \nSRR9224986             NaN             NaN  ...                 NaN   \nSRR9224992             NaN             NaN  ...                 NaN   \nSRR9224997             NaN             NaN  ...                 NaN   \n\n            NC000962_3.4410276  NC000962_3.4410309  NC000962_3.4410847  \\\nSampleID                                                                 \nERR3129939                 NaN                 NaN                 NaN   \nERR3148148                 NaN                 NaN                 NaN   \nERR3148149                 NaN                 NaN                 NaN   \nERR3148151                 NaN                 NaN                 NaN   \nERR3148153                 NaN                 NaN                 NaN   \n...                        ...                 ...                 ...   \nSRR9224981                 NaN                 NaN                 NaN   \nSRR9224985                 NaN                 NaN                 NaN   \nSRR9224986                 NaN                 NaN                 NaN   \nSRR9224992                 NaN                 NaN                 NaN   \nSRR9224997                 NaN                 NaN                 NaN   \n\n            NC000962_3.4411128  NC000962_3.4411245  NC000962_3.4411286  \\\nSampleID                                                                 \nERR3129939                 NaN                 NaN                 NaN   \nERR3148148                 NaN                 NaN                 NaN   \nERR3148149                 NaN                 NaN                 NaN   \nERR3148151                 NaN                 NaN                 NaN   \nERR3148153                 NaN                 NaN                 NaN   \n...                        ...                 ...                 ...   \nSRR9224981                 NaN                 NaN                 NaN   \nSRR9224985                 NaN                 NaN                 NaN   \nSRR9224986                 NaN                 NaN                 NaN   \nSRR9224992                 NaN                 NaN                 NaN   \nSRR9224997                 NaN                 NaN                 NaN   \n\n            NC000962_3.4411405  NC000962_3.4411518  isResistant  \nSampleID                                                         \nERR3129939                 NaN                 NaN          NaN  \nERR3148148                 NaN                 NaN          NaN  \nERR3148149                 NaN                 NaN          1.0  \nERR3148151                 NaN                 NaN          1.0  \nERR3148153                 NaN                 NaN          NaN  \n...                        ...                 ...          ...  \nSRR9224981                 NaN                 NaN          1.0  \nSRR9224985                 NaN                 NaN          1.0  \nSRR9224986                 NaN                 NaN          1.0  \nSRR9224992                 NaN                 NaN          1.0  \nSRR9224997                 NaN                 NaN          1.0  \n\n[301 rows x 134257 columns]",
      "text/html": "<div>\n<style scoped>\n    .dataframe tbody tr th:only-of-type {\n        vertical-align: middle;\n    }\n\n    .dataframe tbody tr th {\n        vertical-align: top;\n    }\n\n    .dataframe thead th {\n        text-align: right;\n    }\n</style>\n<table border=\"1\" class=\"dataframe\">\n  <thead>\n    <tr style=\"text-align: right;\">\n      <th></th>\n      <th>NC000962_3.11</th>\n      <th>NC000962_3.78</th>\n      <th>NC000962_3.80</th>\n      <th>NC000962_3.82</th>\n      <th>NC000962_3.88</th>\n      <th>NC000962_3.102</th>\n      <th>NC000962_3.104</th>\n      <th>NC000962_3.108</th>\n      <th>NC000962_3.117</th>\n      <th>NC000962_3.120</th>\n      <th>...</th>\n      <th>NC000962_3.4410070</th>\n      <th>NC000962_3.4410276</th>\n      <th>NC000962_3.4410309</th>\n      <th>NC000962_3.4410847</th>\n      <th>NC000962_3.4411128</th>\n      <th>NC000962_3.4411245</th>\n      <th>NC000962_3.4411286</th>\n      <th>NC000962_3.4411405</th>\n      <th>NC000962_3.4411518</th>\n      <th>isResistant</th>\n    </tr>\n    <tr>\n      <th>SampleID</th>\n      <th></th>\n      <th></th>\n      <th></th>\n      <th></th>\n      <th></th>\n      <th></th>\n      <th></th>\n      <th></th>\n      <th></th>\n      <th></th>\n      <th></th>\n      <th></th>\n      <th></th>\n      <th></th>\n      <th></th>\n      <th></th>\n      <th></th>\n      <th></th>\n      <th></th>\n      <th></th>\n      <th></th>\n    </tr>\n  </thead>\n  <tbody>\n    <tr>\n      <th>ERR3129939</th>\n      <td>NaN</td>\n      <td>NaN</td>\n      <td>NaN</td>\n      <td>NaN</td>\n      <td>NaN</td>\n      <td>NaN</td>\n      <td>NaN</td>\n      <td>NaN</td>\n      <td>NaN</td>\n      <td>NaN</td>\n      <td>...</td>\n      <td>NaN</td>\n      <td>NaN</td>\n      <td>NaN</td>\n      <td>NaN</td>\n      <td>NaN</td>\n      <td>NaN</td>\n      <td>NaN</td>\n      <td>NaN</td>\n      <td>NaN</td>\n      <td>NaN</td>\n    </tr>\n    <tr>\n      <th>ERR3148148</th>\n      <td>NaN</td>\n      <td>NaN</td>\n      <td>NaN</td>\n      <td>NaN</td>\n      <td>NaN</td>\n      <td>NaN</td>\n      <td>NaN</td>\n      <td>NaN</td>\n      <td>NaN</td>\n      <td>NaN</td>\n      <td>...</td>\n      <td>NaN</td>\n      <td>NaN</td>\n      <td>NaN</td>\n      <td>NaN</td>\n      <td>NaN</td>\n      <td>NaN</td>\n      <td>NaN</td>\n      <td>NaN</td>\n      <td>NaN</td>\n      <td>NaN</td>\n    </tr>\n    <tr>\n      <th>ERR3148149</th>\n      <td>NaN</td>\n      <td>NaN</td>\n      <td>NaN</td>\n      <td>NaN</td>\n      <td>NaN</td>\n      <td>NaN</td>\n      <td>NaN</td>\n      <td>NaN</td>\n      <td>NaN</td>\n      <td>NaN</td>\n      <td>...</td>\n      <td>NaN</td>\n      <td>NaN</td>\n      <td>NaN</td>\n      <td>NaN</td>\n      <td>NaN</td>\n      <td>NaN</td>\n      <td>NaN</td>\n      <td>NaN</td>\n      <td>NaN</td>\n      <td>1.0</td>\n    </tr>\n    <tr>\n      <th>ERR3148151</th>\n      <td>NaN</td>\n      <td>NaN</td>\n      <td>NaN</td>\n      <td>NaN</td>\n      <td>NaN</td>\n      <td>NaN</td>\n      <td>NaN</td>\n      <td>NaN</td>\n      <td>NaN</td>\n      <td>NaN</td>\n      <td>...</td>\n      <td>NaN</td>\n      <td>NaN</td>\n      <td>NaN</td>\n      <td>NaN</td>\n      <td>NaN</td>\n      <td>NaN</td>\n      <td>NaN</td>\n      <td>NaN</td>\n      <td>NaN</td>\n      <td>1.0</td>\n    </tr>\n    <tr>\n      <th>ERR3148153</th>\n      <td>NaN</td>\n      <td>NaN</td>\n      <td>NaN</td>\n      <td>NaN</td>\n      <td>NaN</td>\n      <td>NaN</td>\n      <td>NaN</td>\n      <td>NaN</td>\n      <td>NaN</td>\n      <td>NaN</td>\n      <td>...</td>\n      <td>NaN</td>\n      <td>NaN</td>\n      <td>NaN</td>\n      <td>NaN</td>\n      <td>NaN</td>\n      <td>NaN</td>\n      <td>NaN</td>\n      <td>NaN</td>\n      <td>NaN</td>\n      <td>NaN</td>\n    </tr>\n    <tr>\n      <th>...</th>\n      <td>...</td>\n      <td>...</td>\n      <td>...</td>\n      <td>...</td>\n      <td>...</td>\n      <td>...</td>\n      <td>...</td>\n      <td>...</td>\n      <td>...</td>\n      <td>...</td>\n      <td>...</td>\n      <td>...</td>\n      <td>...</td>\n      <td>...</td>\n      <td>...</td>\n      <td>...</td>\n      <td>...</td>\n      <td>...</td>\n      <td>...</td>\n      <td>...</td>\n      <td>...</td>\n    </tr>\n    <tr>\n      <th>SRR9224981</th>\n      <td>NaN</td>\n      <td>NaN</td>\n      <td>NaN</td>\n      <td>NaN</td>\n      <td>NaN</td>\n      <td>NaN</td>\n      <td>NaN</td>\n      <td>NaN</td>\n      <td>NaN</td>\n      <td>NaN</td>\n      <td>...</td>\n      <td>NaN</td>\n      <td>NaN</td>\n      <td>NaN</td>\n      <td>NaN</td>\n      <td>NaN</td>\n      <td>NaN</td>\n      <td>NaN</td>\n      <td>NaN</td>\n      <td>NaN</td>\n      <td>1.0</td>\n    </tr>\n    <tr>\n      <th>SRR9224985</th>\n      <td>NaN</td>\n      <td>NaN</td>\n      <td>NaN</td>\n      <td>NaN</td>\n      <td>NaN</td>\n      <td>NaN</td>\n      <td>NaN</td>\n      <td>NaN</td>\n      <td>NaN</td>\n      <td>NaN</td>\n      <td>...</td>\n      <td>NaN</td>\n      <td>NaN</td>\n      <td>NaN</td>\n      <td>NaN</td>\n      <td>NaN</td>\n      <td>NaN</td>\n      <td>NaN</td>\n      <td>NaN</td>\n      <td>NaN</td>\n      <td>1.0</td>\n    </tr>\n    <tr>\n      <th>SRR9224986</th>\n      <td>NaN</td>\n      <td>NaN</td>\n      <td>NaN</td>\n      <td>NaN</td>\n      <td>NaN</td>\n      <td>NaN</td>\n      <td>NaN</td>\n      <td>NaN</td>\n      <td>NaN</td>\n      <td>NaN</td>\n      <td>...</td>\n      <td>NaN</td>\n      <td>NaN</td>\n      <td>NaN</td>\n      <td>NaN</td>\n      <td>NaN</td>\n      <td>NaN</td>\n      <td>NaN</td>\n      <td>NaN</td>\n      <td>NaN</td>\n      <td>1.0</td>\n    </tr>\n    <tr>\n      <th>SRR9224992</th>\n      <td>NaN</td>\n      <td>NaN</td>\n      <td>NaN</td>\n      <td>NaN</td>\n      <td>NaN</td>\n      <td>NaN</td>\n      <td>NaN</td>\n      <td>NaN</td>\n      <td>NaN</td>\n      <td>NaN</td>\n      <td>...</td>\n      <td>NaN</td>\n      <td>NaN</td>\n      <td>NaN</td>\n      <td>NaN</td>\n      <td>NaN</td>\n      <td>NaN</td>\n      <td>NaN</td>\n      <td>NaN</td>\n      <td>NaN</td>\n      <td>1.0</td>\n    </tr>\n    <tr>\n      <th>SRR9224997</th>\n      <td>NaN</td>\n      <td>NaN</td>\n      <td>NaN</td>\n      <td>NaN</td>\n      <td>NaN</td>\n      <td>NaN</td>\n      <td>NaN</td>\n      <td>NaN</td>\n      <td>NaN</td>\n      <td>NaN</td>\n      <td>...</td>\n      <td>NaN</td>\n      <td>NaN</td>\n      <td>NaN</td>\n      <td>NaN</td>\n      <td>NaN</td>\n      <td>NaN</td>\n      <td>NaN</td>\n      <td>NaN</td>\n      <td>NaN</td>\n      <td>1.0</td>\n    </tr>\n  </tbody>\n</table>\n<p>301 rows × 134257 columns</p>\n</div>"
     },
     "execution_count": 34,
     "metadata": {},
     "output_type": "execute_result"
    }
   ],
   "source": [
    "non_zero_mono_resistance_df = mono_resistance_df[mono_resistance_df > 0]\n",
    "non_zero_mono_resistance_df"
   ],
   "metadata": {
    "collapsed": false,
    "pycharm": {
     "name": "#%%\n"
    }
   }
  },
  {
   "cell_type": "code",
   "execution_count": 35,
   "outputs": [
    {
     "data": {
      "text/plain": "            NC000962_3.11  NC000962_3.78  NC000962_3.80  NC000962_3.82  \\\nSampleID                                                                 \nERR3129939            0.0            0.0            0.0            0.0   \nERR3148148            0.0            0.0            0.0            0.0   \nERR3148149            0.0            0.0            0.0            0.0   \nERR3148151            0.0            0.0            0.0            0.0   \nERR3148153            0.0            0.0            0.0            0.0   \n...                   ...            ...            ...            ...   \nSRR9224981            0.0            0.0            0.0            0.0   \nSRR9224985            0.0            0.0            0.0            0.0   \nSRR9224986            0.0            0.0            0.0            0.0   \nSRR9224992            0.0            0.0            0.0            0.0   \nSRR9224997            0.0            0.0            0.0            0.0   \n\n            NC000962_3.88  NC000962_3.102  NC000962_3.104  NC000962_3.108  \\\nSampleID                                                                    \nERR3129939            0.0             0.0             0.0             0.0   \nERR3148148            0.0             0.0             0.0             0.0   \nERR3148149            0.0             0.0             0.0             0.0   \nERR3148151            0.0             0.0             0.0             0.0   \nERR3148153            0.0             0.0             0.0             0.0   \n...                   ...             ...             ...             ...   \nSRR9224981            0.0             0.0             0.0             0.0   \nSRR9224985            0.0             0.0             0.0             0.0   \nSRR9224986            0.0             0.0             0.0             0.0   \nSRR9224992            0.0             0.0             0.0             0.0   \nSRR9224997            0.0             0.0             0.0             0.0   \n\n            NC000962_3.117  NC000962_3.120  ...  NC000962_3.4410070  \\\nSampleID                                    ...                       \nERR3129939             0.0             0.0  ...                 0.0   \nERR3148148             0.0             0.0  ...                 0.0   \nERR3148149             0.0             0.0  ...                 0.0   \nERR3148151             0.0             0.0  ...                 0.0   \nERR3148153             0.0             0.0  ...                 0.0   \n...                    ...             ...  ...                 ...   \nSRR9224981             0.0             0.0  ...                 0.0   \nSRR9224985             0.0             0.0  ...                 0.0   \nSRR9224986             0.0             0.0  ...                 0.0   \nSRR9224992             0.0             0.0  ...                 0.0   \nSRR9224997             0.0             0.0  ...                 0.0   \n\n            NC000962_3.4410276  NC000962_3.4410309  NC000962_3.4410847  \\\nSampleID                                                                 \nERR3129939                 0.0                 0.0                 0.0   \nERR3148148                 0.0                 0.0                 0.0   \nERR3148149                 0.0                 0.0                 0.0   \nERR3148151                 0.0                 0.0                 0.0   \nERR3148153                 0.0                 0.0                 0.0   \n...                        ...                 ...                 ...   \nSRR9224981                 0.0                 0.0                 0.0   \nSRR9224985                 0.0                 0.0                 0.0   \nSRR9224986                 0.0                 0.0                 0.0   \nSRR9224992                 0.0                 0.0                 0.0   \nSRR9224997                 0.0                 0.0                 0.0   \n\n            NC000962_3.4411128  NC000962_3.4411245  NC000962_3.4411286  \\\nSampleID                                                                 \nERR3129939                 0.0                 0.0                 0.0   \nERR3148148                 0.0                 0.0                 0.0   \nERR3148149                 0.0                 0.0                 0.0   \nERR3148151                 0.0                 0.0                 0.0   \nERR3148153                 0.0                 0.0                 0.0   \n...                        ...                 ...                 ...   \nSRR9224981                 0.0                 0.0                 0.0   \nSRR9224985                 0.0                 0.0                 0.0   \nSRR9224986                 0.0                 0.0                 0.0   \nSRR9224992                 0.0                 0.0                 0.0   \nSRR9224997                 0.0                 0.0                 0.0   \n\n            NC000962_3.4411405  NC000962_3.4411518  isResistant  \nSampleID                                                         \nERR3129939                 0.0                 0.0          0.0  \nERR3148148                 0.0                 0.0          0.0  \nERR3148149                 0.0                 0.0          1.0  \nERR3148151                 0.0                 0.0          1.0  \nERR3148153                 0.0                 0.0          0.0  \n...                        ...                 ...          ...  \nSRR9224981                 0.0                 0.0          1.0  \nSRR9224985                 0.0                 0.0          1.0  \nSRR9224986                 0.0                 0.0          1.0  \nSRR9224992                 0.0                 0.0          1.0  \nSRR9224997                 0.0                 0.0          1.0  \n\n[301 rows x 134257 columns]",
      "text/html": "<div>\n<style scoped>\n    .dataframe tbody tr th:only-of-type {\n        vertical-align: middle;\n    }\n\n    .dataframe tbody tr th {\n        vertical-align: top;\n    }\n\n    .dataframe thead th {\n        text-align: right;\n    }\n</style>\n<table border=\"1\" class=\"dataframe\">\n  <thead>\n    <tr style=\"text-align: right;\">\n      <th></th>\n      <th>NC000962_3.11</th>\n      <th>NC000962_3.78</th>\n      <th>NC000962_3.80</th>\n      <th>NC000962_3.82</th>\n      <th>NC000962_3.88</th>\n      <th>NC000962_3.102</th>\n      <th>NC000962_3.104</th>\n      <th>NC000962_3.108</th>\n      <th>NC000962_3.117</th>\n      <th>NC000962_3.120</th>\n      <th>...</th>\n      <th>NC000962_3.4410070</th>\n      <th>NC000962_3.4410276</th>\n      <th>NC000962_3.4410309</th>\n      <th>NC000962_3.4410847</th>\n      <th>NC000962_3.4411128</th>\n      <th>NC000962_3.4411245</th>\n      <th>NC000962_3.4411286</th>\n      <th>NC000962_3.4411405</th>\n      <th>NC000962_3.4411518</th>\n      <th>isResistant</th>\n    </tr>\n    <tr>\n      <th>SampleID</th>\n      <th></th>\n      <th></th>\n      <th></th>\n      <th></th>\n      <th></th>\n      <th></th>\n      <th></th>\n      <th></th>\n      <th></th>\n      <th></th>\n      <th></th>\n      <th></th>\n      <th></th>\n      <th></th>\n      <th></th>\n      <th></th>\n      <th></th>\n      <th></th>\n      <th></th>\n      <th></th>\n      <th></th>\n    </tr>\n  </thead>\n  <tbody>\n    <tr>\n      <th>ERR3129939</th>\n      <td>0.0</td>\n      <td>0.0</td>\n      <td>0.0</td>\n      <td>0.0</td>\n      <td>0.0</td>\n      <td>0.0</td>\n      <td>0.0</td>\n      <td>0.0</td>\n      <td>0.0</td>\n      <td>0.0</td>\n      <td>...</td>\n      <td>0.0</td>\n      <td>0.0</td>\n      <td>0.0</td>\n      <td>0.0</td>\n      <td>0.0</td>\n      <td>0.0</td>\n      <td>0.0</td>\n      <td>0.0</td>\n      <td>0.0</td>\n      <td>0.0</td>\n    </tr>\n    <tr>\n      <th>ERR3148148</th>\n      <td>0.0</td>\n      <td>0.0</td>\n      <td>0.0</td>\n      <td>0.0</td>\n      <td>0.0</td>\n      <td>0.0</td>\n      <td>0.0</td>\n      <td>0.0</td>\n      <td>0.0</td>\n      <td>0.0</td>\n      <td>...</td>\n      <td>0.0</td>\n      <td>0.0</td>\n      <td>0.0</td>\n      <td>0.0</td>\n      <td>0.0</td>\n      <td>0.0</td>\n      <td>0.0</td>\n      <td>0.0</td>\n      <td>0.0</td>\n      <td>0.0</td>\n    </tr>\n    <tr>\n      <th>ERR3148149</th>\n      <td>0.0</td>\n      <td>0.0</td>\n      <td>0.0</td>\n      <td>0.0</td>\n      <td>0.0</td>\n      <td>0.0</td>\n      <td>0.0</td>\n      <td>0.0</td>\n      <td>0.0</td>\n      <td>0.0</td>\n      <td>...</td>\n      <td>0.0</td>\n      <td>0.0</td>\n      <td>0.0</td>\n      <td>0.0</td>\n      <td>0.0</td>\n      <td>0.0</td>\n      <td>0.0</td>\n      <td>0.0</td>\n      <td>0.0</td>\n      <td>1.0</td>\n    </tr>\n    <tr>\n      <th>ERR3148151</th>\n      <td>0.0</td>\n      <td>0.0</td>\n      <td>0.0</td>\n      <td>0.0</td>\n      <td>0.0</td>\n      <td>0.0</td>\n      <td>0.0</td>\n      <td>0.0</td>\n      <td>0.0</td>\n      <td>0.0</td>\n      <td>...</td>\n      <td>0.0</td>\n      <td>0.0</td>\n      <td>0.0</td>\n      <td>0.0</td>\n      <td>0.0</td>\n      <td>0.0</td>\n      <td>0.0</td>\n      <td>0.0</td>\n      <td>0.0</td>\n      <td>1.0</td>\n    </tr>\n    <tr>\n      <th>ERR3148153</th>\n      <td>0.0</td>\n      <td>0.0</td>\n      <td>0.0</td>\n      <td>0.0</td>\n      <td>0.0</td>\n      <td>0.0</td>\n      <td>0.0</td>\n      <td>0.0</td>\n      <td>0.0</td>\n      <td>0.0</td>\n      <td>...</td>\n      <td>0.0</td>\n      <td>0.0</td>\n      <td>0.0</td>\n      <td>0.0</td>\n      <td>0.0</td>\n      <td>0.0</td>\n      <td>0.0</td>\n      <td>0.0</td>\n      <td>0.0</td>\n      <td>0.0</td>\n    </tr>\n    <tr>\n      <th>...</th>\n      <td>...</td>\n      <td>...</td>\n      <td>...</td>\n      <td>...</td>\n      <td>...</td>\n      <td>...</td>\n      <td>...</td>\n      <td>...</td>\n      <td>...</td>\n      <td>...</td>\n      <td>...</td>\n      <td>...</td>\n      <td>...</td>\n      <td>...</td>\n      <td>...</td>\n      <td>...</td>\n      <td>...</td>\n      <td>...</td>\n      <td>...</td>\n      <td>...</td>\n      <td>...</td>\n    </tr>\n    <tr>\n      <th>SRR9224981</th>\n      <td>0.0</td>\n      <td>0.0</td>\n      <td>0.0</td>\n      <td>0.0</td>\n      <td>0.0</td>\n      <td>0.0</td>\n      <td>0.0</td>\n      <td>0.0</td>\n      <td>0.0</td>\n      <td>0.0</td>\n      <td>...</td>\n      <td>0.0</td>\n      <td>0.0</td>\n      <td>0.0</td>\n      <td>0.0</td>\n      <td>0.0</td>\n      <td>0.0</td>\n      <td>0.0</td>\n      <td>0.0</td>\n      <td>0.0</td>\n      <td>1.0</td>\n    </tr>\n    <tr>\n      <th>SRR9224985</th>\n      <td>0.0</td>\n      <td>0.0</td>\n      <td>0.0</td>\n      <td>0.0</td>\n      <td>0.0</td>\n      <td>0.0</td>\n      <td>0.0</td>\n      <td>0.0</td>\n      <td>0.0</td>\n      <td>0.0</td>\n      <td>...</td>\n      <td>0.0</td>\n      <td>0.0</td>\n      <td>0.0</td>\n      <td>0.0</td>\n      <td>0.0</td>\n      <td>0.0</td>\n      <td>0.0</td>\n      <td>0.0</td>\n      <td>0.0</td>\n      <td>1.0</td>\n    </tr>\n    <tr>\n      <th>SRR9224986</th>\n      <td>0.0</td>\n      <td>0.0</td>\n      <td>0.0</td>\n      <td>0.0</td>\n      <td>0.0</td>\n      <td>0.0</td>\n      <td>0.0</td>\n      <td>0.0</td>\n      <td>0.0</td>\n      <td>0.0</td>\n      <td>...</td>\n      <td>0.0</td>\n      <td>0.0</td>\n      <td>0.0</td>\n      <td>0.0</td>\n      <td>0.0</td>\n      <td>0.0</td>\n      <td>0.0</td>\n      <td>0.0</td>\n      <td>0.0</td>\n      <td>1.0</td>\n    </tr>\n    <tr>\n      <th>SRR9224992</th>\n      <td>0.0</td>\n      <td>0.0</td>\n      <td>0.0</td>\n      <td>0.0</td>\n      <td>0.0</td>\n      <td>0.0</td>\n      <td>0.0</td>\n      <td>0.0</td>\n      <td>0.0</td>\n      <td>0.0</td>\n      <td>...</td>\n      <td>0.0</td>\n      <td>0.0</td>\n      <td>0.0</td>\n      <td>0.0</td>\n      <td>0.0</td>\n      <td>0.0</td>\n      <td>0.0</td>\n      <td>0.0</td>\n      <td>0.0</td>\n      <td>1.0</td>\n    </tr>\n    <tr>\n      <th>SRR9224997</th>\n      <td>0.0</td>\n      <td>0.0</td>\n      <td>0.0</td>\n      <td>0.0</td>\n      <td>0.0</td>\n      <td>0.0</td>\n      <td>0.0</td>\n      <td>0.0</td>\n      <td>0.0</td>\n      <td>0.0</td>\n      <td>...</td>\n      <td>0.0</td>\n      <td>0.0</td>\n      <td>0.0</td>\n      <td>0.0</td>\n      <td>0.0</td>\n      <td>0.0</td>\n      <td>0.0</td>\n      <td>0.0</td>\n      <td>0.0</td>\n      <td>1.0</td>\n    </tr>\n  </tbody>\n</table>\n<p>301 rows × 134257 columns</p>\n</div>"
     },
     "execution_count": 35,
     "metadata": {},
     "output_type": "execute_result"
    }
   ],
   "source": [
    "non_zero_mono_resistance_df = non_zero_mono_resistance_df.fillna(0)\n",
    "non_zero_mono_resistance_df\n",
    "\n"
   ],
   "metadata": {
    "collapsed": false,
    "pycharm": {
     "name": "#%%\n"
    }
   }
  },
  {
   "cell_type": "code",
   "execution_count": 36,
   "outputs": [
    {
     "data": {
      "text/plain": "NC000962_3.11           0.0\nNC000962_3.78           0.0\nNC000962_3.80           0.0\nNC000962_3.82           0.0\nNC000962_3.88           0.0\n                      ...  \nNC000962_3.4411245      0.0\nNC000962_3.4411286      0.0\nNC000962_3.4411405      0.0\nNC000962_3.4411518      0.0\nisResistant           239.0\nLength: 134257, dtype: float64"
     },
     "execution_count": 36,
     "metadata": {},
     "output_type": "execute_result"
    }
   ],
   "source": [
    "non_zero_mono_resistance_df.sum()\n",
    "\n"
   ],
   "metadata": {
    "collapsed": false,
    "pycharm": {
     "name": "#%%\n"
    }
   }
  },
  {
   "cell_type": "code",
   "execution_count": 21,
   "outputs": [
    {
     "ename": "KeyError",
     "evalue": "\"None of [Index(['ERR3129939'], dtype='object')] are in the [columns]\"",
     "output_type": "error",
     "traceback": [
      "\u001B[1;31m---------------------------------------------------------------------------\u001B[0m",
      "\u001B[1;31mKeyError\u001B[0m                                  Traceback (most recent call last)",
      "\u001B[1;32m<ipython-input-21-392795c7a15a>\u001B[0m in \u001B[0;36m<module>\u001B[1;34m\u001B[0m\n\u001B[1;32m----> 1\u001B[1;33m \u001B[0mmono_resistance_df\u001B[0m\u001B[1;33m[\u001B[0m\u001B[1;33m[\u001B[0m\u001B[1;34m'ERR3129939'\u001B[0m\u001B[1;33m]\u001B[0m\u001B[1;33m]\u001B[0m\u001B[1;33m\u001B[0m\u001B[1;33m\u001B[0m\u001B[0m\n\u001B[0m\u001B[0;32m      2\u001B[0m \u001B[1;33m\u001B[0m\u001B[0m\n",
      "\u001B[1;32mC:\\tools\\miniconda3\\lib\\site-packages\\pandas\\core\\frame.py\u001B[0m in \u001B[0;36m__getitem__\u001B[1;34m(self, key)\u001B[0m\n\u001B[0;32m   2804\u001B[0m             \u001B[1;32mif\u001B[0m \u001B[0mis_iterator\u001B[0m\u001B[1;33m(\u001B[0m\u001B[0mkey\u001B[0m\u001B[1;33m)\u001B[0m\u001B[1;33m:\u001B[0m\u001B[1;33m\u001B[0m\u001B[1;33m\u001B[0m\u001B[0m\n\u001B[0;32m   2805\u001B[0m                 \u001B[0mkey\u001B[0m \u001B[1;33m=\u001B[0m \u001B[0mlist\u001B[0m\u001B[1;33m(\u001B[0m\u001B[0mkey\u001B[0m\u001B[1;33m)\u001B[0m\u001B[1;33m\u001B[0m\u001B[1;33m\u001B[0m\u001B[0m\n\u001B[1;32m-> 2806\u001B[1;33m             \u001B[0mindexer\u001B[0m \u001B[1;33m=\u001B[0m \u001B[0mself\u001B[0m\u001B[1;33m.\u001B[0m\u001B[0mloc\u001B[0m\u001B[1;33m.\u001B[0m\u001B[0m_get_listlike_indexer\u001B[0m\u001B[1;33m(\u001B[0m\u001B[0mkey\u001B[0m\u001B[1;33m,\u001B[0m \u001B[0maxis\u001B[0m\u001B[1;33m=\u001B[0m\u001B[1;36m1\u001B[0m\u001B[1;33m,\u001B[0m \u001B[0mraise_missing\u001B[0m\u001B[1;33m=\u001B[0m\u001B[1;32mTrue\u001B[0m\u001B[1;33m)\u001B[0m\u001B[1;33m[\u001B[0m\u001B[1;36m1\u001B[0m\u001B[1;33m]\u001B[0m\u001B[1;33m\u001B[0m\u001B[1;33m\u001B[0m\u001B[0m\n\u001B[0m\u001B[0;32m   2807\u001B[0m \u001B[1;33m\u001B[0m\u001B[0m\n\u001B[0;32m   2808\u001B[0m         \u001B[1;31m# take() does not accept boolean indexers\u001B[0m\u001B[1;33m\u001B[0m\u001B[1;33m\u001B[0m\u001B[1;33m\u001B[0m\u001B[0m\n",
      "\u001B[1;32mC:\\tools\\miniconda3\\lib\\site-packages\\pandas\\core\\indexing.py\u001B[0m in \u001B[0;36m_get_listlike_indexer\u001B[1;34m(self, key, axis, raise_missing)\u001B[0m\n\u001B[0;32m   1551\u001B[0m \u001B[1;33m\u001B[0m\u001B[0m\n\u001B[0;32m   1552\u001B[0m         self._validate_read_indexer(\n\u001B[1;32m-> 1553\u001B[1;33m             \u001B[0mkeyarr\u001B[0m\u001B[1;33m,\u001B[0m \u001B[0mindexer\u001B[0m\u001B[1;33m,\u001B[0m \u001B[0mo\u001B[0m\u001B[1;33m.\u001B[0m\u001B[0m_get_axis_number\u001B[0m\u001B[1;33m(\u001B[0m\u001B[0maxis\u001B[0m\u001B[1;33m)\u001B[0m\u001B[1;33m,\u001B[0m \u001B[0mraise_missing\u001B[0m\u001B[1;33m=\u001B[0m\u001B[0mraise_missing\u001B[0m\u001B[1;33m\u001B[0m\u001B[1;33m\u001B[0m\u001B[0m\n\u001B[0m\u001B[0;32m   1554\u001B[0m         )\n\u001B[0;32m   1555\u001B[0m         \u001B[1;32mreturn\u001B[0m \u001B[0mkeyarr\u001B[0m\u001B[1;33m,\u001B[0m \u001B[0mindexer\u001B[0m\u001B[1;33m\u001B[0m\u001B[1;33m\u001B[0m\u001B[0m\n",
      "\u001B[1;32mC:\\tools\\miniconda3\\lib\\site-packages\\pandas\\core\\indexing.py\u001B[0m in \u001B[0;36m_validate_read_indexer\u001B[1;34m(self, key, indexer, axis, raise_missing)\u001B[0m\n\u001B[0;32m   1638\u001B[0m             \u001B[1;32mif\u001B[0m \u001B[0mmissing\u001B[0m \u001B[1;33m==\u001B[0m \u001B[0mlen\u001B[0m\u001B[1;33m(\u001B[0m\u001B[0mindexer\u001B[0m\u001B[1;33m)\u001B[0m\u001B[1;33m:\u001B[0m\u001B[1;33m\u001B[0m\u001B[1;33m\u001B[0m\u001B[0m\n\u001B[0;32m   1639\u001B[0m                 \u001B[0maxis_name\u001B[0m \u001B[1;33m=\u001B[0m \u001B[0mself\u001B[0m\u001B[1;33m.\u001B[0m\u001B[0mobj\u001B[0m\u001B[1;33m.\u001B[0m\u001B[0m_get_axis_name\u001B[0m\u001B[1;33m(\u001B[0m\u001B[0maxis\u001B[0m\u001B[1;33m)\u001B[0m\u001B[1;33m\u001B[0m\u001B[1;33m\u001B[0m\u001B[0m\n\u001B[1;32m-> 1640\u001B[1;33m                 \u001B[1;32mraise\u001B[0m \u001B[0mKeyError\u001B[0m\u001B[1;33m(\u001B[0m\u001B[1;34mf\"None of [{key}] are in the [{axis_name}]\"\u001B[0m\u001B[1;33m)\u001B[0m\u001B[1;33m\u001B[0m\u001B[1;33m\u001B[0m\u001B[0m\n\u001B[0m\u001B[0;32m   1641\u001B[0m \u001B[1;33m\u001B[0m\u001B[0m\n\u001B[0;32m   1642\u001B[0m             \u001B[1;31m# We (temporarily) allow for some missing keys with .loc, except in\u001B[0m\u001B[1;33m\u001B[0m\u001B[1;33m\u001B[0m\u001B[1;33m\u001B[0m\u001B[0m\n",
      "\u001B[1;31mKeyError\u001B[0m: \"None of [Index(['ERR3129939'], dtype='object')] are in the [columns]\""
     ]
    }
   ],
   "source": [
    "mono_resistance_df['ERR3129939']"
   ],
   "metadata": {
    "collapsed": false,
    "pycharm": {
     "name": "#%%\n"
    }
   }
  },
  {
   "cell_type": "markdown",
   "source": [
    "# H2O"
   ],
   "metadata": {
    "collapsed": false,
    "pycharm": {
     "name": "#%% md\n"
    }
   }
  },
  {
   "cell_type": "code",
   "execution_count": 13,
   "metadata": {
    "pycharm": {
     "name": "#%%\n"
    }
   },
   "outputs": [
    {
     "name": "stdout",
     "output_type": "stream",
     "text": [
      "Checking whether there is an H2O instance running at http://localhost:54321 ..... not found.\n",
      "Attempting to start a local H2O server...\n",
      "; OpenJDK 64-Bit Server VM (build 11.0.2-BellSoft+7, mixed mode)\n",
      "  Starting server from C:\\tools\\miniconda3\\lib\\site-packages\\h2o\\backend\\bin\\h2o.jar\n",
      "  Ice root: C:\\Users\\abhi1\\AppData\\Local\\Temp\\tmpaomo4u0a\n",
      "  JVM stdout: C:\\Users\\abhi1\\AppData\\Local\\Temp\\tmpaomo4u0a\\h2o_abhi1_started_from_python.out\n",
      "  JVM stderr: C:\\Users\\abhi1\\AppData\\Local\\Temp\\tmpaomo4u0a\\h2o_abhi1_started_from_python.err\n",
      "  Server is running at http://127.0.0.1:54321\n",
      "Connecting to H2O server at http://127.0.0.1:54321 ... successful.\n",
      "Warning: Your H2O cluster version is too old (3 months and 27 days)! Please download and install the latest version from http://h2o.ai/download/\n"
     ]
    },
    {
     "data": {
      "text/html": [
       "<div style=\"overflow:auto\"><table style=\"width:50%\"><tr><td>H2O_cluster_uptime:</td>\n",
       "<td>06 secs</td></tr>\n",
       "<tr><td>H2O_cluster_timezone:</td>\n",
       "<td>Asia/Kolkata</td></tr>\n",
       "<tr><td>H2O_data_parsing_timezone:</td>\n",
       "<td>UTC</td></tr>\n",
       "<tr><td>H2O_cluster_version:</td>\n",
       "<td>3.30.0.4</td></tr>\n",
       "<tr><td>H2O_cluster_version_age:</td>\n",
       "<td>3 months and 27 days !!!</td></tr>\n",
       "<tr><td>H2O_cluster_name:</td>\n",
       "<td>H2O_from_python_abhi1_m58c2e</td></tr>\n",
       "<tr><td>H2O_cluster_total_nodes:</td>\n",
       "<td>1</td></tr>\n",
       "<tr><td>H2O_cluster_free_memory:</td>\n",
       "<td>12 Gb</td></tr>\n",
       "<tr><td>H2O_cluster_total_cores:</td>\n",
       "<td>12</td></tr>\n",
       "<tr><td>H2O_cluster_allowed_cores:</td>\n",
       "<td>12</td></tr>\n",
       "<tr><td>H2O_cluster_status:</td>\n",
       "<td>accepting new members, healthy</td></tr>\n",
       "<tr><td>H2O_connection_url:</td>\n",
       "<td>http://127.0.0.1:54321</td></tr>\n",
       "<tr><td>H2O_connection_proxy:</td>\n",
       "<td>{\"http\": null, \"https\": null}</td></tr>\n",
       "<tr><td>H2O_internal_security:</td>\n",
       "<td>False</td></tr>\n",
       "<tr><td>H2O_API_Extensions:</td>\n",
       "<td>Amazon S3, Algos, AutoML, Core V3, TargetEncoder, Core V4</td></tr>\n",
       "<tr><td>Python_version:</td>\n",
       "<td>3.7.4 final</td></tr></table></div>"
      ],
      "text/plain": [
       "--------------------------  ---------------------------------------------------------\n",
       "H2O_cluster_uptime:         06 secs\n",
       "H2O_cluster_timezone:       Asia/Kolkata\n",
       "H2O_data_parsing_timezone:  UTC\n",
       "H2O_cluster_version:        3.30.0.4\n",
       "H2O_cluster_version_age:    3 months and 27 days !!!\n",
       "H2O_cluster_name:           H2O_from_python_abhi1_m58c2e\n",
       "H2O_cluster_total_nodes:    1\n",
       "H2O_cluster_free_memory:    12 Gb\n",
       "H2O_cluster_total_cores:    12\n",
       "H2O_cluster_allowed_cores:  12\n",
       "H2O_cluster_status:         accepting new members, healthy\n",
       "H2O_connection_url:         http://127.0.0.1:54321\n",
       "H2O_connection_proxy:       {\"http\": null, \"https\": null}\n",
       "H2O_internal_security:      False\n",
       "H2O_API_Extensions:         Amazon S3, Algos, AutoML, Core V3, TargetEncoder, Core V4\n",
       "Python_version:             3.7.4 final\n",
       "--------------------------  ---------------------------------------------------------"
      ]
     },
     "metadata": {},
     "output_type": "display_data"
    }
   ],
   "source": [
    "# NOTE: here onwards this is the first iteration for the stacked ensemble\n",
    "\n",
    "import h2o\n",
    "from h2o.estimators.random_forest import H2ORandomForestEstimator\n",
    "from h2o.estimators.gbm import H2OGradientBoostingEstimator\n",
    "from h2o.estimators.stackedensemble import H2OStackedEnsembleEstimator\n",
    "from h2o.estimators import H2OGeneralizedLowRankEstimator\n",
    "from h2o.grid.grid_search import H2OGridSearch\n",
    "h2o.init(min_mem_size='12G')\n",
    "\n"
   ]
  },
  {
   "cell_type": "code",
   "execution_count": 5,
   "metadata": {
    "pycharm": {
     "name": "#%%\n"
    },
    "scrolled": true
   },
   "outputs": [
    {
     "data": {
      "text/plain": "            NC000962_3.4410070  NC000962_3.4410276  NC000962_3.4410309  \\\nSampleID                                                                 \nERR3129939                   0                   0                   0   \nERR3148148                   0                   0                   0   \nERR3148149                   0                   0                   0   \nERR3148151                   0                   0                   0   \nERR3148153                   0                   0                   0   \n\n            NC000962_3.4410847  NC000962_3.4411128  NC000962_3.4411245  \\\nSampleID                                                                 \nERR3129939                   0                   0                   0   \nERR3148148                   0                   0                   0   \nERR3148149                   0                   0                   0   \nERR3148151                   0                   0                   0   \nERR3148153                   0                   0                   0   \n\n            NC000962_3.4411286  NC000962_3.4411405  NC000962_3.4411518  \\\nSampleID                                                                 \nERR3129939                   0                   0                   0   \nERR3148148                   0                   0                   0   \nERR3148149                   0                   0                   0   \nERR3148151                   0                   0                   0   \nERR3148153                   0                   0                   0   \n\n            isResistant  \nSampleID                 \nERR3129939          0.0  \nERR3148148          0.0  \nERR3148149          1.0  \nERR3148151          1.0  \nERR3148153          0.0  ",
      "text/html": "<div>\n<style scoped>\n    .dataframe tbody tr th:only-of-type {\n        vertical-align: middle;\n    }\n\n    .dataframe tbody tr th {\n        vertical-align: top;\n    }\n\n    .dataframe thead th {\n        text-align: right;\n    }\n</style>\n<table border=\"1\" class=\"dataframe\">\n  <thead>\n    <tr style=\"text-align: right;\">\n      <th></th>\n      <th>NC000962_3.4410070</th>\n      <th>NC000962_3.4410276</th>\n      <th>NC000962_3.4410309</th>\n      <th>NC000962_3.4410847</th>\n      <th>NC000962_3.4411128</th>\n      <th>NC000962_3.4411245</th>\n      <th>NC000962_3.4411286</th>\n      <th>NC000962_3.4411405</th>\n      <th>NC000962_3.4411518</th>\n      <th>isResistant</th>\n    </tr>\n    <tr>\n      <th>SampleID</th>\n      <th></th>\n      <th></th>\n      <th></th>\n      <th></th>\n      <th></th>\n      <th></th>\n      <th></th>\n      <th></th>\n      <th></th>\n      <th></th>\n    </tr>\n  </thead>\n  <tbody>\n    <tr>\n      <th>ERR3129939</th>\n      <td>0</td>\n      <td>0</td>\n      <td>0</td>\n      <td>0</td>\n      <td>0</td>\n      <td>0</td>\n      <td>0</td>\n      <td>0</td>\n      <td>0</td>\n      <td>0.0</td>\n    </tr>\n    <tr>\n      <th>ERR3148148</th>\n      <td>0</td>\n      <td>0</td>\n      <td>0</td>\n      <td>0</td>\n      <td>0</td>\n      <td>0</td>\n      <td>0</td>\n      <td>0</td>\n      <td>0</td>\n      <td>0.0</td>\n    </tr>\n    <tr>\n      <th>ERR3148149</th>\n      <td>0</td>\n      <td>0</td>\n      <td>0</td>\n      <td>0</td>\n      <td>0</td>\n      <td>0</td>\n      <td>0</td>\n      <td>0</td>\n      <td>0</td>\n      <td>1.0</td>\n    </tr>\n    <tr>\n      <th>ERR3148151</th>\n      <td>0</td>\n      <td>0</td>\n      <td>0</td>\n      <td>0</td>\n      <td>0</td>\n      <td>0</td>\n      <td>0</td>\n      <td>0</td>\n      <td>0</td>\n      <td>1.0</td>\n    </tr>\n    <tr>\n      <th>ERR3148153</th>\n      <td>0</td>\n      <td>0</td>\n      <td>0</td>\n      <td>0</td>\n      <td>0</td>\n      <td>0</td>\n      <td>0</td>\n      <td>0</td>\n      <td>0</td>\n      <td>0.0</td>\n    </tr>\n  </tbody>\n</table>\n</div>"
     },
     "execution_count": 5,
     "metadata": {},
     "output_type": "execute_result"
    }
   ],
   "source": [
    "mono_resistance_df = pd.read_csv(\"../data/processed/mono_resistance_df.csv\", index_col='SampleID')\n",
    "mono_resistance_df.head()"
   ]
  },
  {
   "cell_type": "code",
   "execution_count": 36,
   "metadata": {},
   "outputs": [
    {
     "data": {
      "text/html": [
       "<div>\n",
       "<style scoped>\n",
       "    .dataframe tbody tr th:only-of-type {\n",
       "        vertical-align: middle;\n",
       "    }\n",
       "\n",
       "    .dataframe tbody tr th {\n",
       "        vertical-align: top;\n",
       "    }\n",
       "\n",
       "    .dataframe thead th {\n",
       "        text-align: right;\n",
       "    }\n",
       "</style>\n",
       "<table border=\"1\" class=\"dataframe\">\n",
       "  <thead>\n",
       "    <tr style=\"text-align: right;\">\n",
       "      <th></th>\n",
       "      <th>NC000962_3.4410070</th>\n",
       "      <th>NC000962_3.4410276</th>\n",
       "      <th>NC000962_3.4410309</th>\n",
       "      <th>NC000962_3.4410847</th>\n",
       "      <th>NC000962_3.4411128</th>\n",
       "      <th>NC000962_3.4411245</th>\n",
       "      <th>NC000962_3.4411286</th>\n",
       "      <th>NC000962_3.4411405</th>\n",
       "      <th>NC000962_3.4411518</th>\n",
       "      <th>isResistant</th>\n",
       "    </tr>\n",
       "    <tr>\n",
       "      <th>SampleID</th>\n",
       "      <th></th>\n",
       "      <th></th>\n",
       "      <th></th>\n",
       "      <th></th>\n",
       "      <th></th>\n",
       "      <th></th>\n",
       "      <th></th>\n",
       "      <th></th>\n",
       "      <th></th>\n",
       "      <th></th>\n",
       "    </tr>\n",
       "  </thead>\n",
       "  <tbody>\n",
       "    <tr>\n",
       "      <th>ERR3129939</th>\n",
       "      <td>0</td>\n",
       "      <td>0</td>\n",
       "      <td>0</td>\n",
       "      <td>0</td>\n",
       "      <td>0</td>\n",
       "      <td>0</td>\n",
       "      <td>0</td>\n",
       "      <td>0</td>\n",
       "      <td>0</td>\n",
       "      <td>0.0</td>\n",
       "    </tr>\n",
       "    <tr>\n",
       "      <th>ERR3148148</th>\n",
       "      <td>0</td>\n",
       "      <td>0</td>\n",
       "      <td>0</td>\n",
       "      <td>0</td>\n",
       "      <td>0</td>\n",
       "      <td>0</td>\n",
       "      <td>0</td>\n",
       "      <td>0</td>\n",
       "      <td>0</td>\n",
       "      <td>0.0</td>\n",
       "    </tr>\n",
       "    <tr>\n",
       "      <th>ERR3148149</th>\n",
       "      <td>0</td>\n",
       "      <td>0</td>\n",
       "      <td>0</td>\n",
       "      <td>0</td>\n",
       "      <td>0</td>\n",
       "      <td>0</td>\n",
       "      <td>0</td>\n",
       "      <td>0</td>\n",
       "      <td>0</td>\n",
       "      <td>1.0</td>\n",
       "    </tr>\n",
       "    <tr>\n",
       "      <th>ERR3148151</th>\n",
       "      <td>0</td>\n",
       "      <td>0</td>\n",
       "      <td>0</td>\n",
       "      <td>0</td>\n",
       "      <td>0</td>\n",
       "      <td>0</td>\n",
       "      <td>0</td>\n",
       "      <td>0</td>\n",
       "      <td>0</td>\n",
       "      <td>1.0</td>\n",
       "    </tr>\n",
       "    <tr>\n",
       "      <th>ERR3148153</th>\n",
       "      <td>0</td>\n",
       "      <td>0</td>\n",
       "      <td>0</td>\n",
       "      <td>0</td>\n",
       "      <td>0</td>\n",
       "      <td>0</td>\n",
       "      <td>0</td>\n",
       "      <td>0</td>\n",
       "      <td>0</td>\n",
       "      <td>0.0</td>\n",
       "    </tr>\n",
       "  </tbody>\n",
       "</table>\n",
       "</div>"
      ],
      "text/plain": [
       "            NC000962_3.4410070  NC000962_3.4410276  NC000962_3.4410309  \\\n",
       "SampleID                                                                 \n",
       "ERR3129939                   0                   0                   0   \n",
       "ERR3148148                   0                   0                   0   \n",
       "ERR3148149                   0                   0                   0   \n",
       "ERR3148151                   0                   0                   0   \n",
       "ERR3148153                   0                   0                   0   \n",
       "\n",
       "            NC000962_3.4410847  NC000962_3.4411128  NC000962_3.4411245  \\\n",
       "SampleID                                                                 \n",
       "ERR3129939                   0                   0                   0   \n",
       "ERR3148148                   0                   0                   0   \n",
       "ERR3148149                   0                   0                   0   \n",
       "ERR3148151                   0                   0                   0   \n",
       "ERR3148153                   0                   0                   0   \n",
       "\n",
       "            NC000962_3.4411286  NC000962_3.4411405  NC000962_3.4411518  \\\n",
       "SampleID                                                                 \n",
       "ERR3129939                   0                   0                   0   \n",
       "ERR3148148                   0                   0                   0   \n",
       "ERR3148149                   0                   0                   0   \n",
       "ERR3148151                   0                   0                   0   \n",
       "ERR3148153                   0                   0                   0   \n",
       "\n",
       "            isResistant  \n",
       "SampleID                 \n",
       "ERR3129939          0.0  \n",
       "ERR3148148          0.0  \n",
       "ERR3148149          1.0  \n",
       "ERR3148151          1.0  \n",
       "ERR3148153          0.0  "
      ]
     },
     "execution_count": 36,
     "metadata": {},
     "output_type": "execute_result"
    }
   ],
   "source": [
    "# SMALL\n",
    "mono_resistance_df = pd.read_csv(\"C:/Users/abhi1/Projects/code/drug-resistance-prediction-cambiohack/src/data/processed/mono_resistance_df_small.csv\", index_col='SampleID')\n",
    "mono_resistance_df.head()"
   ]
  },
  {
   "cell_type": "code",
   "execution_count": 47,
   "metadata": {},
   "outputs": [
    {
     "name": "stdout",
     "output_type": "stream",
     "text": [
      "Parse progress: |█████████████████████████████████████████████████████████| 100%\n"
     ]
    },
    {
     "data": {
      "text/html": [
       "<table>\n",
       "<thead>\n",
       "<tr><th style=\"text-align: right;\">  NC000962_3.11</th><th style=\"text-align: right;\">  NC000962_3.78</th><th style=\"text-align: right;\">  NC000962_3.80</th><th style=\"text-align: right;\">  NC000962_3.82</th><th style=\"text-align: right;\">  NC000962_3.88</th><th style=\"text-align: right;\">  NC000962_3.102</th><th style=\"text-align: right;\">  NC000962_3.104</th><th style=\"text-align: right;\">  NC000962_3.108</th><th style=\"text-align: right;\">  NC000962_3.117</th><th style=\"text-align: right;\">  NC000962_3.120</th><th style=\"text-align: right;\">  NC000962_3.135</th><th style=\"text-align: right;\">  NC000962_3.138</th><th style=\"text-align: right;\">  NC000962_3.150</th><th style=\"text-align: right;\">  NC000962_3.155</th><th style=\"text-align: right;\">  NC000962_3.156</th><th style=\"text-align: right;\">  NC000962_3.159</th><th style=\"text-align: right;\">  NC000962_3.160</th><th style=\"text-align: right;\">  NC000962_3.187</th><th style=\"text-align: right;\">  NC000962_3.189</th><th style=\"text-align: right;\">  NC000962_3.192</th><th style=\"text-align: right;\">  NC000962_3.204</th><th style=\"text-align: right;\">  NC000962_3.207</th><th style=\"text-align: right;\">  NC000962_3.210</th><th style=\"text-align: right;\">  NC000962_3.213</th><th style=\"text-align: right;\">  NC000962_3.219</th><th style=\"text-align: right;\">  NC000962_3.225</th><th style=\"text-align: right;\">  NC000962_3.228</th><th style=\"text-align: right;\">  NC000962_3.231</th><th style=\"text-align: right;\">  NC000962_3.237</th><th style=\"text-align: right;\">  NC000962_3.246</th><th style=\"text-align: right;\">  NC000962_3.255</th><th style=\"text-align: right;\">  NC000962_3.267</th><th style=\"text-align: right;\">  NC000962_3.270</th><th style=\"text-align: right;\">  NC000962_3.273</th><th style=\"text-align: right;\">  NC000962_3.333</th><th style=\"text-align: right;\">  NC000962_3.371</th><th style=\"text-align: right;\">  NC000962_3.467</th><th style=\"text-align: right;\">  NC000962_3.571</th><th style=\"text-align: right;\">  NC000962_3.576</th><th style=\"text-align: right;\">  NC000962_3.582</th><th style=\"text-align: right;\">  NC000962_3.591</th><th style=\"text-align: right;\">  NC000962_3.600</th><th style=\"text-align: right;\">  NC000962_3.609</th><th style=\"text-align: right;\">  NC000962_3.610</th><th style=\"text-align: right;\">  NC000962_3.636</th><th style=\"text-align: right;\">  NC000962_3.645</th><th style=\"text-align: right;\">  NC000962_3.654</th><th style=\"text-align: right;\">  NC000962_3.660</th><th style=\"text-align: right;\">  NC000962_3.663</th><th style=\"text-align: right;\">  NC000962_3.669</th><th style=\"text-align: right;\">  NC000962_3.672</th><th style=\"text-align: right;\">  NC000962_3.675</th><th style=\"text-align: right;\">  NC000962_3.678</th><th style=\"text-align: right;\">  NC000962_3.682</th><th style=\"text-align: right;\">  NC000962_3.684</th><th style=\"text-align: right;\">  NC000962_3.690</th><th style=\"text-align: right;\">  NC000962_3.693</th><th style=\"text-align: right;\">  NC000962_3.705</th><th style=\"text-align: right;\">  NC000962_3.708</th><th style=\"text-align: right;\">  NC000962_3.741</th><th style=\"text-align: right;\">  NC000962_3.750</th><th style=\"text-align: right;\">  NC000962_3.756</th><th style=\"text-align: right;\">  NC000962_3.771</th><th style=\"text-align: right;\">  NC000962_3.777</th><th style=\"text-align: right;\">  NC000962_3.786</th><th style=\"text-align: right;\">  NC000962_3.795</th><th style=\"text-align: right;\">  NC000962_3.805</th><th style=\"text-align: right;\">  NC000962_3.813</th><th style=\"text-align: right;\">  NC000962_3.822</th><th style=\"text-align: right;\">  NC000962_3.828</th><th style=\"text-align: right;\">  NC000962_3.831</th><th style=\"text-align: right;\">  NC000962_3.837</th><th style=\"text-align: right;\">  NC000962_3.840</th><th style=\"text-align: right;\">  NC000962_3.843</th><th style=\"text-align: right;\">  NC000962_3.846</th><th style=\"text-align: right;\">  NC000962_3.849</th><th style=\"text-align: right;\">  NC000962_3.876</th><th style=\"text-align: right;\">  NC000962_3.877</th><th style=\"text-align: right;\">  NC000962_3.885</th><th style=\"text-align: right;\">  NC000962_3.897</th><th style=\"text-align: right;\">  NC000962_3.903</th><th style=\"text-align: right;\">  NC000962_3.909</th><th style=\"text-align: right;\">  NC000962_3.912</th><th style=\"text-align: right;\">  NC000962_3.918</th><th style=\"text-align: right;\">  NC000962_3.921</th><th style=\"text-align: right;\">  NC000962_3.927</th><th style=\"text-align: right;\">  NC000962_3.933</th><th style=\"text-align: right;\">  NC000962_3.942</th><th style=\"text-align: right;\">  NC000962_3.945</th><th style=\"text-align: right;\">  NC000962_3.955</th><th style=\"text-align: right;\">  NC000962_3.963</th><th style=\"text-align: right;\">  NC000962_3.966</th><th style=\"text-align: right;\">  NC000962_3.975</th><th style=\"text-align: right;\">  NC000962_3.984</th><th style=\"text-align: right;\">  NC000962_3.990</th><th style=\"text-align: right;\">  NC000962_3.993</th><th style=\"text-align: right;\">  NC000962_3.996</th><th style=\"text-align: right;\">  NC000962_3.1002</th><th style=\"text-align: right;\">  NC000962_3.1005</th><th style=\"text-align: right;\">  NC000962_3.1008</th><th style=\"text-align: right;\">  NC000962_3.1020</th><th style=\"text-align: right;\">  NC000962_3.1024</th><th style=\"text-align: right;\">  NC000962_3.1035</th><th style=\"text-align: right;\">  NC000962_3.1047</th><th style=\"text-align: right;\">  NC000962_3.1050</th><th style=\"text-align: right;\">  NC000962_3.1053</th><th style=\"text-align: right;\">  NC000962_3.1059</th><th style=\"text-align: right;\">  NC000962_3.1068</th><th style=\"text-align: right;\">  NC000962_3.1071</th><th style=\"text-align: right;\">  NC000962_3.1074</th><th style=\"text-align: right;\">  NC000962_3.1092</th><th style=\"text-align: right;\">  NC000962_3.1098</th><th style=\"text-align: right;\">  NC000962_3.1104</th><th style=\"text-align: right;\">  NC000962_3.1110</th><th style=\"text-align: right;\">  NC000962_3.1125</th><th style=\"text-align: right;\">  NC000962_3.1152</th><th style=\"text-align: right;\">  NC000962_3.1153</th><th style=\"text-align: right;\">  NC000962_3.1161</th><th style=\"text-align: right;\">  NC000962_3.1164</th><th style=\"text-align: right;\">  NC000962_3.1167</th><th style=\"text-align: right;\">  NC000962_3.1176</th><th style=\"text-align: right;\">  NC000962_3.1177</th><th style=\"text-align: right;\">  NC000962_3.1191</th><th style=\"text-align: right;\">  NC000962_3.1197</th><th style=\"text-align: right;\">  NC000962_3.1204</th><th style=\"text-align: right;\">  NC000962_3.1220</th><th style=\"text-align: right;\">  NC000962_3.1230</th><th style=\"text-align: right;\">  NC000962_3.1242</th><th style=\"text-align: right;\">  NC000962_3.1245</th><th style=\"text-align: right;\">  NC000962_3.1254</th><th style=\"text-align: right;\">  NC000962_3.1278</th><th style=\"text-align: right;\">  NC000962_3.1287</th><th style=\"text-align: right;\">  NC000962_3.1290</th><th style=\"text-align: right;\">  NC000962_3.1293</th><th style=\"text-align: right;\">  NC000962_3.1364</th><th style=\"text-align: right;\">  NC000962_3.1365</th><th style=\"text-align: right;\">  NC000962_3.1371</th><th style=\"text-align: right;\">  NC000962_3.1375</th><th style=\"text-align: right;\">  NC000962_3.1383</th><th style=\"text-align: right;\">  NC000962_3.1389</th><th style=\"text-align: right;\">  NC000962_3.1392</th><th style=\"text-align: right;\">  NC000962_3.1395</th><th style=\"text-align: right;\">  NC000962_3.1404</th><th style=\"text-align: right;\">  NC000962_3.1407</th><th style=\"text-align: right;\">  NC000962_3.1413</th><th style=\"text-align: right;\">  NC000962_3.1416</th><th style=\"text-align: right;\">  NC000962_3.1419</th><th style=\"text-align: right;\">  NC000962_3.1422</th><th style=\"text-align: right;\">  NC000962_3.1431</th><th style=\"text-align: right;\">  NC000962_3.1456</th><th style=\"text-align: right;\">  NC000962_3.1461</th><th style=\"text-align: right;\">  NC000962_3.1464</th><th style=\"text-align: right;\">  NC000962_3.1470</th><th style=\"text-align: right;\">  NC000962_3.1473</th><th style=\"text-align: right;\">  NC000962_3.1478</th><th style=\"text-align: right;\">  NC000962_3.1485</th><th style=\"text-align: right;\">  NC000962_3.1488</th><th style=\"text-align: right;\">  NC000962_3.1503</th><th style=\"text-align: right;\">  NC000962_3.1590</th><th style=\"text-align: right;\">  NC000962_3.1662</th><th style=\"text-align: right;\">  NC000962_3.1701</th><th style=\"text-align: right;\">  NC000962_3.1763</th><th style=\"text-align: right;\">  NC000962_3.1821</th><th style=\"text-align: right;\">  NC000962_3.1849</th><th style=\"text-align: right;\">  NC000962_3.1928</th><th style=\"text-align: right;\">  NC000962_3.1977</th><th style=\"text-align: right;\">  NC000962_3.1993</th><th style=\"text-align: right;\">  NC000962_3.2092</th><th style=\"text-align: right;\">  NC000962_3.2097</th><th style=\"text-align: right;\">  NC000962_3.2103</th><th style=\"text-align: right;\">  NC000962_3.2105</th><th style=\"text-align: right;\">  NC000962_3.2108</th><th style=\"text-align: right;\">  NC000962_3.2123</th><th style=\"text-align: right;\">  NC000962_3.2141</th><th style=\"text-align: right;\">  NC000962_3.2144</th><th style=\"text-align: right;\">  NC000962_3.2146</th><th style=\"text-align: right;\">  NC000962_3.2147</th><th style=\"text-align: right;\">  NC000962_3.2153</th><th style=\"text-align: right;\">  NC000962_3.2159</th><th style=\"text-align: right;\">  NC000962_3.2183</th><th style=\"text-align: right;\">  NC000962_3.2187</th><th style=\"text-align: right;\">  NC000962_3.2190</th><th style=\"text-align: right;\">  NC000962_3.2193</th><th style=\"text-align: right;\">  NC000962_3.2199</th><th style=\"text-align: right;\">  NC000962_3.2201</th><th style=\"text-align: right;\">  NC000962_3.2205</th><th style=\"text-align: right;\">  NC000962_3.2207</th><th style=\"text-align: right;\">  NC000962_3.2210</th><th style=\"text-align: right;\">  NC000962_3.2213</th><th style=\"text-align: right;\">  NC000962_3.2216</th><th style=\"text-align: right;\">  NC000962_3.2219</th><th style=\"text-align: right;\">  NC000962_3.2249</th><th style=\"text-align: right;\">  NC000962_3.2264</th><th style=\"text-align: right;\">  NC000962_3.2270</th><th style=\"text-align: right;\">  NC000962_3.2272</th><th style=\"text-align: right;\">  NC000962_3.2279</th><th style=\"text-align: right;\">  NC000962_3.2285</th><th style=\"text-align: right;\">  NC000962_3.2291</th><th style=\"text-align: right;\">  NC000962_3.2294</th><th style=\"text-align: right;\">  NC000962_3.2297</th></tr>\n",
       "</thead>\n",
       "<tbody>\n",
       "<tr><td style=\"text-align: right;\">              0</td><td style=\"text-align: right;\">              0</td><td style=\"text-align: right;\">              0</td><td style=\"text-align: right;\">              0</td><td style=\"text-align: right;\">              0</td><td style=\"text-align: right;\">               0</td><td style=\"text-align: right;\">               0</td><td style=\"text-align: right;\">               0</td><td style=\"text-align: right;\">               0</td><td style=\"text-align: right;\">               0</td><td style=\"text-align: right;\">               0</td><td style=\"text-align: right;\">               0</td><td style=\"text-align: right;\">               0</td><td style=\"text-align: right;\">               0</td><td style=\"text-align: right;\">               0</td><td style=\"text-align: right;\">               0</td><td style=\"text-align: right;\">               0</td><td style=\"text-align: right;\">               0</td><td style=\"text-align: right;\">               0</td><td style=\"text-align: right;\">               0</td><td style=\"text-align: right;\">               0</td><td style=\"text-align: right;\">               0</td><td style=\"text-align: right;\">               0</td><td style=\"text-align: right;\">               0</td><td style=\"text-align: right;\">               0</td><td style=\"text-align: right;\">               0</td><td style=\"text-align: right;\">               0</td><td style=\"text-align: right;\">               0</td><td style=\"text-align: right;\">               0</td><td style=\"text-align: right;\">               0</td><td style=\"text-align: right;\">               0</td><td style=\"text-align: right;\">               0</td><td style=\"text-align: right;\">               0</td><td style=\"text-align: right;\">               0</td><td style=\"text-align: right;\">               0</td><td style=\"text-align: right;\">               0</td><td style=\"text-align: right;\">               0</td><td style=\"text-align: right;\">               0</td><td style=\"text-align: right;\">               0</td><td style=\"text-align: right;\">               0</td><td style=\"text-align: right;\">               0</td><td style=\"text-align: right;\">               0</td><td style=\"text-align: right;\">               0</td><td style=\"text-align: right;\">               0</td><td style=\"text-align: right;\">               0</td><td style=\"text-align: right;\">               0</td><td style=\"text-align: right;\">               0</td><td style=\"text-align: right;\">               0</td><td style=\"text-align: right;\">               0</td><td style=\"text-align: right;\">               0</td><td style=\"text-align: right;\">               0</td><td style=\"text-align: right;\">               0</td><td style=\"text-align: right;\">               0</td><td style=\"text-align: right;\">               0</td><td style=\"text-align: right;\">               0</td><td style=\"text-align: right;\">               0</td><td style=\"text-align: right;\">               0</td><td style=\"text-align: right;\">               0</td><td style=\"text-align: right;\">               0</td><td style=\"text-align: right;\">               0</td><td style=\"text-align: right;\">               0</td><td style=\"text-align: right;\">               0</td><td style=\"text-align: right;\">               0</td><td style=\"text-align: right;\">               0</td><td style=\"text-align: right;\">               0</td><td style=\"text-align: right;\">               0</td><td style=\"text-align: right;\">               0</td><td style=\"text-align: right;\">               0</td><td style=\"text-align: right;\">               0</td><td style=\"text-align: right;\">               0</td><td style=\"text-align: right;\">               0</td><td style=\"text-align: right;\">               0</td><td style=\"text-align: right;\">               0</td><td style=\"text-align: right;\">               0</td><td style=\"text-align: right;\">               0</td><td style=\"text-align: right;\">               0</td><td style=\"text-align: right;\">               0</td><td style=\"text-align: right;\">               0</td><td style=\"text-align: right;\">               0</td><td style=\"text-align: right;\">               0</td><td style=\"text-align: right;\">               0</td><td style=\"text-align: right;\">               0</td><td style=\"text-align: right;\">               0</td><td style=\"text-align: right;\">               0</td><td style=\"text-align: right;\">               0</td><td style=\"text-align: right;\">               0</td><td style=\"text-align: right;\">               0</td><td style=\"text-align: right;\">               0</td><td style=\"text-align: right;\">               0</td><td style=\"text-align: right;\">               0</td><td style=\"text-align: right;\">               0</td><td style=\"text-align: right;\">               0</td><td style=\"text-align: right;\">               0</td><td style=\"text-align: right;\">               0</td><td style=\"text-align: right;\">               0</td><td style=\"text-align: right;\">               0</td><td style=\"text-align: right;\">               0</td><td style=\"text-align: right;\">                0</td><td style=\"text-align: right;\">                0</td><td style=\"text-align: right;\">                0</td><td style=\"text-align: right;\">                0</td><td style=\"text-align: right;\">                0</td><td style=\"text-align: right;\">                0</td><td style=\"text-align: right;\">                0</td><td style=\"text-align: right;\">                0</td><td style=\"text-align: right;\">                0</td><td style=\"text-align: right;\">                0</td><td style=\"text-align: right;\">                0</td><td style=\"text-align: right;\">                0</td><td style=\"text-align: right;\">                0</td><td style=\"text-align: right;\">                0</td><td style=\"text-align: right;\">                0</td><td style=\"text-align: right;\">                0</td><td style=\"text-align: right;\">                0</td><td style=\"text-align: right;\">                0</td><td style=\"text-align: right;\">                0</td><td style=\"text-align: right;\">                0</td><td style=\"text-align: right;\">                0</td><td style=\"text-align: right;\">                0</td><td style=\"text-align: right;\">                0</td><td style=\"text-align: right;\">                0</td><td style=\"text-align: right;\">                0</td><td style=\"text-align: right;\">                0</td><td style=\"text-align: right;\">                0</td><td style=\"text-align: right;\">                0</td><td style=\"text-align: right;\">                0</td><td style=\"text-align: right;\">                0</td><td style=\"text-align: right;\">                0</td><td style=\"text-align: right;\">                0</td><td style=\"text-align: right;\">                0</td><td style=\"text-align: right;\">                0</td><td style=\"text-align: right;\">                0</td><td style=\"text-align: right;\">                0</td><td style=\"text-align: right;\">                0</td><td style=\"text-align: right;\">                0</td><td style=\"text-align: right;\">                0</td><td style=\"text-align: right;\">                0</td><td style=\"text-align: right;\">                0</td><td style=\"text-align: right;\">                0</td><td style=\"text-align: right;\">                0</td><td style=\"text-align: right;\">                0</td><td style=\"text-align: right;\">                0</td><td style=\"text-align: right;\">                0</td><td style=\"text-align: right;\">                0</td><td style=\"text-align: right;\">                0</td><td style=\"text-align: right;\">                0</td><td style=\"text-align: right;\">                0</td><td style=\"text-align: right;\">                0</td><td style=\"text-align: right;\">                0</td><td style=\"text-align: right;\">                0</td><td style=\"text-align: right;\">                0</td><td style=\"text-align: right;\">                0</td><td style=\"text-align: right;\">                0</td><td style=\"text-align: right;\">                0</td><td style=\"text-align: right;\">                0</td><td style=\"text-align: right;\">                0</td><td style=\"text-align: right;\">                0</td><td style=\"text-align: right;\">                0</td><td style=\"text-align: right;\">                0</td><td style=\"text-align: right;\">                0</td><td style=\"text-align: right;\">                0</td><td style=\"text-align: right;\">                0</td><td style=\"text-align: right;\">                0</td><td style=\"text-align: right;\">                0</td><td style=\"text-align: right;\">                0</td><td style=\"text-align: right;\">                0</td><td style=\"text-align: right;\">                0</td><td style=\"text-align: right;\">                0</td><td style=\"text-align: right;\">                0</td><td style=\"text-align: right;\">                0</td><td style=\"text-align: right;\">                0</td><td style=\"text-align: right;\">                0</td><td style=\"text-align: right;\">                0</td><td style=\"text-align: right;\">                0</td><td style=\"text-align: right;\">                0</td><td style=\"text-align: right;\">                0</td><td style=\"text-align: right;\">                0</td><td style=\"text-align: right;\">                0</td><td style=\"text-align: right;\">                0</td><td style=\"text-align: right;\">                0</td><td style=\"text-align: right;\">                0</td><td style=\"text-align: right;\">                0</td><td style=\"text-align: right;\">                0</td><td style=\"text-align: right;\">                0</td><td style=\"text-align: right;\">                0</td><td style=\"text-align: right;\">                0</td><td style=\"text-align: right;\">                0</td><td style=\"text-align: right;\">                0</td><td style=\"text-align: right;\">                0</td><td style=\"text-align: right;\">                0</td><td style=\"text-align: right;\">                0</td><td style=\"text-align: right;\">                0</td><td style=\"text-align: right;\">                0</td><td style=\"text-align: right;\">                0</td><td style=\"text-align: right;\">                0</td><td style=\"text-align: right;\">                0</td><td style=\"text-align: right;\">                0</td><td style=\"text-align: right;\">                0</td><td style=\"text-align: right;\">                0</td><td style=\"text-align: right;\">                0</td></tr>\n",
       "<tr><td style=\"text-align: right;\">              0</td><td style=\"text-align: right;\">              0</td><td style=\"text-align: right;\">              0</td><td style=\"text-align: right;\">              0</td><td style=\"text-align: right;\">              0</td><td style=\"text-align: right;\">               0</td><td style=\"text-align: right;\">               0</td><td style=\"text-align: right;\">               0</td><td style=\"text-align: right;\">               0</td><td style=\"text-align: right;\">               0</td><td style=\"text-align: right;\">               0</td><td style=\"text-align: right;\">               0</td><td style=\"text-align: right;\">               0</td><td style=\"text-align: right;\">               0</td><td style=\"text-align: right;\">               0</td><td style=\"text-align: right;\">               0</td><td style=\"text-align: right;\">               0</td><td style=\"text-align: right;\">               0</td><td style=\"text-align: right;\">               0</td><td style=\"text-align: right;\">               0</td><td style=\"text-align: right;\">               0</td><td style=\"text-align: right;\">               0</td><td style=\"text-align: right;\">               0</td><td style=\"text-align: right;\">               0</td><td style=\"text-align: right;\">               0</td><td style=\"text-align: right;\">               0</td><td style=\"text-align: right;\">               0</td><td style=\"text-align: right;\">               0</td><td style=\"text-align: right;\">               0</td><td style=\"text-align: right;\">               0</td><td style=\"text-align: right;\">               0</td><td style=\"text-align: right;\">               0</td><td style=\"text-align: right;\">               0</td><td style=\"text-align: right;\">               0</td><td style=\"text-align: right;\">               0</td><td style=\"text-align: right;\">               0</td><td style=\"text-align: right;\">               0</td><td style=\"text-align: right;\">               0</td><td style=\"text-align: right;\">               0</td><td style=\"text-align: right;\">               0</td><td style=\"text-align: right;\">               0</td><td style=\"text-align: right;\">               0</td><td style=\"text-align: right;\">               0</td><td style=\"text-align: right;\">               0</td><td style=\"text-align: right;\">               0</td><td style=\"text-align: right;\">               0</td><td style=\"text-align: right;\">               0</td><td style=\"text-align: right;\">               0</td><td style=\"text-align: right;\">               0</td><td style=\"text-align: right;\">               0</td><td style=\"text-align: right;\">               0</td><td style=\"text-align: right;\">               0</td><td style=\"text-align: right;\">               0</td><td style=\"text-align: right;\">               0</td><td style=\"text-align: right;\">               0</td><td style=\"text-align: right;\">               0</td><td style=\"text-align: right;\">               0</td><td style=\"text-align: right;\">               0</td><td style=\"text-align: right;\">               0</td><td style=\"text-align: right;\">               0</td><td style=\"text-align: right;\">               0</td><td style=\"text-align: right;\">               0</td><td style=\"text-align: right;\">               0</td><td style=\"text-align: right;\">               0</td><td style=\"text-align: right;\">               0</td><td style=\"text-align: right;\">               0</td><td style=\"text-align: right;\">               0</td><td style=\"text-align: right;\">               0</td><td style=\"text-align: right;\">               0</td><td style=\"text-align: right;\">               0</td><td style=\"text-align: right;\">               0</td><td style=\"text-align: right;\">               0</td><td style=\"text-align: right;\">               0</td><td style=\"text-align: right;\">               0</td><td style=\"text-align: right;\">               0</td><td style=\"text-align: right;\">               0</td><td style=\"text-align: right;\">               0</td><td style=\"text-align: right;\">               0</td><td style=\"text-align: right;\">               0</td><td style=\"text-align: right;\">               0</td><td style=\"text-align: right;\">               0</td><td style=\"text-align: right;\">               0</td><td style=\"text-align: right;\">               0</td><td style=\"text-align: right;\">               0</td><td style=\"text-align: right;\">               0</td><td style=\"text-align: right;\">               0</td><td style=\"text-align: right;\">               0</td><td style=\"text-align: right;\">               0</td><td style=\"text-align: right;\">               0</td><td style=\"text-align: right;\">               0</td><td style=\"text-align: right;\">               0</td><td style=\"text-align: right;\">               0</td><td style=\"text-align: right;\">               0</td><td style=\"text-align: right;\">               0</td><td style=\"text-align: right;\">               0</td><td style=\"text-align: right;\">               0</td><td style=\"text-align: right;\">               0</td><td style=\"text-align: right;\">                0</td><td style=\"text-align: right;\">                0</td><td style=\"text-align: right;\">                0</td><td style=\"text-align: right;\">                0</td><td style=\"text-align: right;\">                0</td><td style=\"text-align: right;\">                0</td><td style=\"text-align: right;\">                0</td><td style=\"text-align: right;\">                0</td><td style=\"text-align: right;\">                0</td><td style=\"text-align: right;\">                0</td><td style=\"text-align: right;\">                0</td><td style=\"text-align: right;\">                0</td><td style=\"text-align: right;\">                0</td><td style=\"text-align: right;\">                0</td><td style=\"text-align: right;\">                0</td><td style=\"text-align: right;\">                0</td><td style=\"text-align: right;\">                0</td><td style=\"text-align: right;\">                0</td><td style=\"text-align: right;\">                0</td><td style=\"text-align: right;\">                0</td><td style=\"text-align: right;\">                0</td><td style=\"text-align: right;\">                0</td><td style=\"text-align: right;\">                0</td><td style=\"text-align: right;\">                0</td><td style=\"text-align: right;\">                0</td><td style=\"text-align: right;\">                0</td><td style=\"text-align: right;\">                0</td><td style=\"text-align: right;\">                0</td><td style=\"text-align: right;\">                0</td><td style=\"text-align: right;\">                0</td><td style=\"text-align: right;\">                0</td><td style=\"text-align: right;\">                0</td><td style=\"text-align: right;\">                0</td><td style=\"text-align: right;\">                0</td><td style=\"text-align: right;\">                0</td><td style=\"text-align: right;\">                0</td><td style=\"text-align: right;\">                0</td><td style=\"text-align: right;\">                0</td><td style=\"text-align: right;\">                0</td><td style=\"text-align: right;\">                0</td><td style=\"text-align: right;\">                0</td><td style=\"text-align: right;\">                0</td><td style=\"text-align: right;\">                0</td><td style=\"text-align: right;\">                0</td><td style=\"text-align: right;\">                0</td><td style=\"text-align: right;\">                0</td><td style=\"text-align: right;\">                0</td><td style=\"text-align: right;\">                0</td><td style=\"text-align: right;\">                0</td><td style=\"text-align: right;\">                0</td><td style=\"text-align: right;\">                0</td><td style=\"text-align: right;\">                0</td><td style=\"text-align: right;\">                0</td><td style=\"text-align: right;\">                0</td><td style=\"text-align: right;\">                0</td><td style=\"text-align: right;\">                0</td><td style=\"text-align: right;\">                0</td><td style=\"text-align: right;\">                0</td><td style=\"text-align: right;\">                0</td><td style=\"text-align: right;\">                0</td><td style=\"text-align: right;\">                0</td><td style=\"text-align: right;\">                0</td><td style=\"text-align: right;\">                0</td><td style=\"text-align: right;\">                0</td><td style=\"text-align: right;\">                0</td><td style=\"text-align: right;\">                0</td><td style=\"text-align: right;\">                0</td><td style=\"text-align: right;\">                0</td><td style=\"text-align: right;\">                0</td><td style=\"text-align: right;\">                0</td><td style=\"text-align: right;\">                0</td><td style=\"text-align: right;\">                0</td><td style=\"text-align: right;\">                0</td><td style=\"text-align: right;\">                0</td><td style=\"text-align: right;\">                0</td><td style=\"text-align: right;\">                0</td><td style=\"text-align: right;\">                0</td><td style=\"text-align: right;\">                0</td><td style=\"text-align: right;\">                0</td><td style=\"text-align: right;\">                0</td><td style=\"text-align: right;\">                0</td><td style=\"text-align: right;\">                0</td><td style=\"text-align: right;\">                0</td><td style=\"text-align: right;\">                0</td><td style=\"text-align: right;\">                0</td><td style=\"text-align: right;\">                0</td><td style=\"text-align: right;\">                0</td><td style=\"text-align: right;\">                0</td><td style=\"text-align: right;\">                0</td><td style=\"text-align: right;\">                0</td><td style=\"text-align: right;\">                0</td><td style=\"text-align: right;\">                0</td><td style=\"text-align: right;\">                0</td><td style=\"text-align: right;\">                0</td><td style=\"text-align: right;\">                0</td><td style=\"text-align: right;\">                0</td><td style=\"text-align: right;\">                0</td><td style=\"text-align: right;\">                0</td><td style=\"text-align: right;\">                0</td><td style=\"text-align: right;\">                0</td><td style=\"text-align: right;\">                0</td><td style=\"text-align: right;\">                0</td><td style=\"text-align: right;\">                0</td></tr>\n",
       "<tr><td style=\"text-align: right;\">              0</td><td style=\"text-align: right;\">              0</td><td style=\"text-align: right;\">              0</td><td style=\"text-align: right;\">              0</td><td style=\"text-align: right;\">              0</td><td style=\"text-align: right;\">               0</td><td style=\"text-align: right;\">               0</td><td style=\"text-align: right;\">               0</td><td style=\"text-align: right;\">               0</td><td style=\"text-align: right;\">               0</td><td style=\"text-align: right;\">               0</td><td style=\"text-align: right;\">               0</td><td style=\"text-align: right;\">               0</td><td style=\"text-align: right;\">               0</td><td style=\"text-align: right;\">               0</td><td style=\"text-align: right;\">               0</td><td style=\"text-align: right;\">               0</td><td style=\"text-align: right;\">               0</td><td style=\"text-align: right;\">               0</td><td style=\"text-align: right;\">               0</td><td style=\"text-align: right;\">               0</td><td style=\"text-align: right;\">               0</td><td style=\"text-align: right;\">               0</td><td style=\"text-align: right;\">               0</td><td style=\"text-align: right;\">               0</td><td style=\"text-align: right;\">               0</td><td style=\"text-align: right;\">               0</td><td style=\"text-align: right;\">               0</td><td style=\"text-align: right;\">               0</td><td style=\"text-align: right;\">               0</td><td style=\"text-align: right;\">               0</td><td style=\"text-align: right;\">               0</td><td style=\"text-align: right;\">               0</td><td style=\"text-align: right;\">               0</td><td style=\"text-align: right;\">               0</td><td style=\"text-align: right;\">               0</td><td style=\"text-align: right;\">               0</td><td style=\"text-align: right;\">               0</td><td style=\"text-align: right;\">               0</td><td style=\"text-align: right;\">               0</td><td style=\"text-align: right;\">               0</td><td style=\"text-align: right;\">               0</td><td style=\"text-align: right;\">               0</td><td style=\"text-align: right;\">               0</td><td style=\"text-align: right;\">               0</td><td style=\"text-align: right;\">               0</td><td style=\"text-align: right;\">               0</td><td style=\"text-align: right;\">               0</td><td style=\"text-align: right;\">               0</td><td style=\"text-align: right;\">               0</td><td style=\"text-align: right;\">               0</td><td style=\"text-align: right;\">               0</td><td style=\"text-align: right;\">               0</td><td style=\"text-align: right;\">               0</td><td style=\"text-align: right;\">               0</td><td style=\"text-align: right;\">               0</td><td style=\"text-align: right;\">               0</td><td style=\"text-align: right;\">               0</td><td style=\"text-align: right;\">               0</td><td style=\"text-align: right;\">               0</td><td style=\"text-align: right;\">               0</td><td style=\"text-align: right;\">               0</td><td style=\"text-align: right;\">               0</td><td style=\"text-align: right;\">               0</td><td style=\"text-align: right;\">               0</td><td style=\"text-align: right;\">               0</td><td style=\"text-align: right;\">               0</td><td style=\"text-align: right;\">               0</td><td style=\"text-align: right;\">               0</td><td style=\"text-align: right;\">               0</td><td style=\"text-align: right;\">               0</td><td style=\"text-align: right;\">               0</td><td style=\"text-align: right;\">               0</td><td style=\"text-align: right;\">               0</td><td style=\"text-align: right;\">               0</td><td style=\"text-align: right;\">               0</td><td style=\"text-align: right;\">               0</td><td style=\"text-align: right;\">               0</td><td style=\"text-align: right;\">               0</td><td style=\"text-align: right;\">               0</td><td style=\"text-align: right;\">               0</td><td style=\"text-align: right;\">               0</td><td style=\"text-align: right;\">               0</td><td style=\"text-align: right;\">               0</td><td style=\"text-align: right;\">               0</td><td style=\"text-align: right;\">               0</td><td style=\"text-align: right;\">               0</td><td style=\"text-align: right;\">               0</td><td style=\"text-align: right;\">               0</td><td style=\"text-align: right;\">               0</td><td style=\"text-align: right;\">               0</td><td style=\"text-align: right;\">               0</td><td style=\"text-align: right;\">               0</td><td style=\"text-align: right;\">               0</td><td style=\"text-align: right;\">               0</td><td style=\"text-align: right;\">               0</td><td style=\"text-align: right;\">               0</td><td style=\"text-align: right;\">                0</td><td style=\"text-align: right;\">                0</td><td style=\"text-align: right;\">                0</td><td style=\"text-align: right;\">                0</td><td style=\"text-align: right;\">                0</td><td style=\"text-align: right;\">                0</td><td style=\"text-align: right;\">                0</td><td style=\"text-align: right;\">                0</td><td style=\"text-align: right;\">                0</td><td style=\"text-align: right;\">                0</td><td style=\"text-align: right;\">                0</td><td style=\"text-align: right;\">                0</td><td style=\"text-align: right;\">                0</td><td style=\"text-align: right;\">                0</td><td style=\"text-align: right;\">                0</td><td style=\"text-align: right;\">                0</td><td style=\"text-align: right;\">                0</td><td style=\"text-align: right;\">                0</td><td style=\"text-align: right;\">                0</td><td style=\"text-align: right;\">                0</td><td style=\"text-align: right;\">                0</td><td style=\"text-align: right;\">                0</td><td style=\"text-align: right;\">                0</td><td style=\"text-align: right;\">                0</td><td style=\"text-align: right;\">                0</td><td style=\"text-align: right;\">                0</td><td style=\"text-align: right;\">                0</td><td style=\"text-align: right;\">                0</td><td style=\"text-align: right;\">                0</td><td style=\"text-align: right;\">                0</td><td style=\"text-align: right;\">                0</td><td style=\"text-align: right;\">                0</td><td style=\"text-align: right;\">                0</td><td style=\"text-align: right;\">                0</td><td style=\"text-align: right;\">                0</td><td style=\"text-align: right;\">                0</td><td style=\"text-align: right;\">                0</td><td style=\"text-align: right;\">                0</td><td style=\"text-align: right;\">                0</td><td style=\"text-align: right;\">                0</td><td style=\"text-align: right;\">                0</td><td style=\"text-align: right;\">                0</td><td style=\"text-align: right;\">                0</td><td style=\"text-align: right;\">                0</td><td style=\"text-align: right;\">                0</td><td style=\"text-align: right;\">                0</td><td style=\"text-align: right;\">                0</td><td style=\"text-align: right;\">                0</td><td style=\"text-align: right;\">                0</td><td style=\"text-align: right;\">                0</td><td style=\"text-align: right;\">                0</td><td style=\"text-align: right;\">                0</td><td style=\"text-align: right;\">                0</td><td style=\"text-align: right;\">                0</td><td style=\"text-align: right;\">                0</td><td style=\"text-align: right;\">                0</td><td style=\"text-align: right;\">                0</td><td style=\"text-align: right;\">                0</td><td style=\"text-align: right;\">                0</td><td style=\"text-align: right;\">                0</td><td style=\"text-align: right;\">                0</td><td style=\"text-align: right;\">                0</td><td style=\"text-align: right;\">                0</td><td style=\"text-align: right;\">                0</td><td style=\"text-align: right;\">                0</td><td style=\"text-align: right;\">                0</td><td style=\"text-align: right;\">                0</td><td style=\"text-align: right;\">                0</td><td style=\"text-align: right;\">                0</td><td style=\"text-align: right;\">                0</td><td style=\"text-align: right;\">                0</td><td style=\"text-align: right;\">                0</td><td style=\"text-align: right;\">                0</td><td style=\"text-align: right;\">                0</td><td style=\"text-align: right;\">                0</td><td style=\"text-align: right;\">                0</td><td style=\"text-align: right;\">                0</td><td style=\"text-align: right;\">                0</td><td style=\"text-align: right;\">                0</td><td style=\"text-align: right;\">                0</td><td style=\"text-align: right;\">                0</td><td style=\"text-align: right;\">                0</td><td style=\"text-align: right;\">                0</td><td style=\"text-align: right;\">                0</td><td style=\"text-align: right;\">                0</td><td style=\"text-align: right;\">                0</td><td style=\"text-align: right;\">                0</td><td style=\"text-align: right;\">                0</td><td style=\"text-align: right;\">                0</td><td style=\"text-align: right;\">                0</td><td style=\"text-align: right;\">                0</td><td style=\"text-align: right;\">                0</td><td style=\"text-align: right;\">                0</td><td style=\"text-align: right;\">                0</td><td style=\"text-align: right;\">                0</td><td style=\"text-align: right;\">                0</td><td style=\"text-align: right;\">                0</td><td style=\"text-align: right;\">                0</td><td style=\"text-align: right;\">                0</td><td style=\"text-align: right;\">                0</td><td style=\"text-align: right;\">                0</td><td style=\"text-align: right;\">                0</td><td style=\"text-align: right;\">                0</td></tr>\n",
       "<tr><td style=\"text-align: right;\">              0</td><td style=\"text-align: right;\">              0</td><td style=\"text-align: right;\">              0</td><td style=\"text-align: right;\">              0</td><td style=\"text-align: right;\">              0</td><td style=\"text-align: right;\">               0</td><td style=\"text-align: right;\">               0</td><td style=\"text-align: right;\">               0</td><td style=\"text-align: right;\">               0</td><td style=\"text-align: right;\">               0</td><td style=\"text-align: right;\">               0</td><td style=\"text-align: right;\">               0</td><td style=\"text-align: right;\">               0</td><td style=\"text-align: right;\">               0</td><td style=\"text-align: right;\">               0</td><td style=\"text-align: right;\">               0</td><td style=\"text-align: right;\">               0</td><td style=\"text-align: right;\">               0</td><td style=\"text-align: right;\">               0</td><td style=\"text-align: right;\">               0</td><td style=\"text-align: right;\">               0</td><td style=\"text-align: right;\">               0</td><td style=\"text-align: right;\">               0</td><td style=\"text-align: right;\">               0</td><td style=\"text-align: right;\">               0</td><td style=\"text-align: right;\">               0</td><td style=\"text-align: right;\">               0</td><td style=\"text-align: right;\">               0</td><td style=\"text-align: right;\">               0</td><td style=\"text-align: right;\">               0</td><td style=\"text-align: right;\">               0</td><td style=\"text-align: right;\">               0</td><td style=\"text-align: right;\">               0</td><td style=\"text-align: right;\">               0</td><td style=\"text-align: right;\">               0</td><td style=\"text-align: right;\">               0</td><td style=\"text-align: right;\">               0</td><td style=\"text-align: right;\">               0</td><td style=\"text-align: right;\">               0</td><td style=\"text-align: right;\">               0</td><td style=\"text-align: right;\">               0</td><td style=\"text-align: right;\">               0</td><td style=\"text-align: right;\">               0</td><td style=\"text-align: right;\">               0</td><td style=\"text-align: right;\">               0</td><td style=\"text-align: right;\">               0</td><td style=\"text-align: right;\">               0</td><td style=\"text-align: right;\">               0</td><td style=\"text-align: right;\">               0</td><td style=\"text-align: right;\">               0</td><td style=\"text-align: right;\">               0</td><td style=\"text-align: right;\">               0</td><td style=\"text-align: right;\">               0</td><td style=\"text-align: right;\">               0</td><td style=\"text-align: right;\">               0</td><td style=\"text-align: right;\">               0</td><td style=\"text-align: right;\">               0</td><td style=\"text-align: right;\">               0</td><td style=\"text-align: right;\">               0</td><td style=\"text-align: right;\">               0</td><td style=\"text-align: right;\">               0</td><td style=\"text-align: right;\">               0</td><td style=\"text-align: right;\">               0</td><td style=\"text-align: right;\">               0</td><td style=\"text-align: right;\">               0</td><td style=\"text-align: right;\">               0</td><td style=\"text-align: right;\">               0</td><td style=\"text-align: right;\">               0</td><td style=\"text-align: right;\">               0</td><td style=\"text-align: right;\">               0</td><td style=\"text-align: right;\">               0</td><td style=\"text-align: right;\">               0</td><td style=\"text-align: right;\">               0</td><td style=\"text-align: right;\">               0</td><td style=\"text-align: right;\">               0</td><td style=\"text-align: right;\">               0</td><td style=\"text-align: right;\">               0</td><td style=\"text-align: right;\">               0</td><td style=\"text-align: right;\">               0</td><td style=\"text-align: right;\">               0</td><td style=\"text-align: right;\">               0</td><td style=\"text-align: right;\">               0</td><td style=\"text-align: right;\">               0</td><td style=\"text-align: right;\">               0</td><td style=\"text-align: right;\">               0</td><td style=\"text-align: right;\">               0</td><td style=\"text-align: right;\">               0</td><td style=\"text-align: right;\">               0</td><td style=\"text-align: right;\">               0</td><td style=\"text-align: right;\">               0</td><td style=\"text-align: right;\">               0</td><td style=\"text-align: right;\">               0</td><td style=\"text-align: right;\">               0</td><td style=\"text-align: right;\">               0</td><td style=\"text-align: right;\">               0</td><td style=\"text-align: right;\">               0</td><td style=\"text-align: right;\">               0</td><td style=\"text-align: right;\">                0</td><td style=\"text-align: right;\">                0</td><td style=\"text-align: right;\">                0</td><td style=\"text-align: right;\">                0</td><td style=\"text-align: right;\">                0</td><td style=\"text-align: right;\">                0</td><td style=\"text-align: right;\">                0</td><td style=\"text-align: right;\">                0</td><td style=\"text-align: right;\">                0</td><td style=\"text-align: right;\">                0</td><td style=\"text-align: right;\">                0</td><td style=\"text-align: right;\">                0</td><td style=\"text-align: right;\">                0</td><td style=\"text-align: right;\">                0</td><td style=\"text-align: right;\">                0</td><td style=\"text-align: right;\">                0</td><td style=\"text-align: right;\">                0</td><td style=\"text-align: right;\">                0</td><td style=\"text-align: right;\">                0</td><td style=\"text-align: right;\">                0</td><td style=\"text-align: right;\">                0</td><td style=\"text-align: right;\">                0</td><td style=\"text-align: right;\">                0</td><td style=\"text-align: right;\">                0</td><td style=\"text-align: right;\">                0</td><td style=\"text-align: right;\">                0</td><td style=\"text-align: right;\">                0</td><td style=\"text-align: right;\">                0</td><td style=\"text-align: right;\">                0</td><td style=\"text-align: right;\">                0</td><td style=\"text-align: right;\">                0</td><td style=\"text-align: right;\">                0</td><td style=\"text-align: right;\">                0</td><td style=\"text-align: right;\">                0</td><td style=\"text-align: right;\">                0</td><td style=\"text-align: right;\">                0</td><td style=\"text-align: right;\">                0</td><td style=\"text-align: right;\">                0</td><td style=\"text-align: right;\">                0</td><td style=\"text-align: right;\">                0</td><td style=\"text-align: right;\">                0</td><td style=\"text-align: right;\">                0</td><td style=\"text-align: right;\">                0</td><td style=\"text-align: right;\">                0</td><td style=\"text-align: right;\">                0</td><td style=\"text-align: right;\">                0</td><td style=\"text-align: right;\">                0</td><td style=\"text-align: right;\">                0</td><td style=\"text-align: right;\">                0</td><td style=\"text-align: right;\">                0</td><td style=\"text-align: right;\">                0</td><td style=\"text-align: right;\">                0</td><td style=\"text-align: right;\">                0</td><td style=\"text-align: right;\">                0</td><td style=\"text-align: right;\">                0</td><td style=\"text-align: right;\">                0</td><td style=\"text-align: right;\">                0</td><td style=\"text-align: right;\">                0</td><td style=\"text-align: right;\">                0</td><td style=\"text-align: right;\">                0</td><td style=\"text-align: right;\">                0</td><td style=\"text-align: right;\">                0</td><td style=\"text-align: right;\">                0</td><td style=\"text-align: right;\">                0</td><td style=\"text-align: right;\">                0</td><td style=\"text-align: right;\">                0</td><td style=\"text-align: right;\">                0</td><td style=\"text-align: right;\">                0</td><td style=\"text-align: right;\">                0</td><td style=\"text-align: right;\">                0</td><td style=\"text-align: right;\">                0</td><td style=\"text-align: right;\">                0</td><td style=\"text-align: right;\">                0</td><td style=\"text-align: right;\">                0</td><td style=\"text-align: right;\">                0</td><td style=\"text-align: right;\">                0</td><td style=\"text-align: right;\">                0</td><td style=\"text-align: right;\">                0</td><td style=\"text-align: right;\">                0</td><td style=\"text-align: right;\">                0</td><td style=\"text-align: right;\">                0</td><td style=\"text-align: right;\">                0</td><td style=\"text-align: right;\">                0</td><td style=\"text-align: right;\">                0</td><td style=\"text-align: right;\">                0</td><td style=\"text-align: right;\">                0</td><td style=\"text-align: right;\">                0</td><td style=\"text-align: right;\">                0</td><td style=\"text-align: right;\">                0</td><td style=\"text-align: right;\">                0</td><td style=\"text-align: right;\">                0</td><td style=\"text-align: right;\">                0</td><td style=\"text-align: right;\">                0</td><td style=\"text-align: right;\">                0</td><td style=\"text-align: right;\">                0</td><td style=\"text-align: right;\">                0</td><td style=\"text-align: right;\">                0</td><td style=\"text-align: right;\">                0</td><td style=\"text-align: right;\">                0</td><td style=\"text-align: right;\">                0</td><td style=\"text-align: right;\">                0</td><td style=\"text-align: right;\">                0</td><td style=\"text-align: right;\">                0</td></tr>\n",
       "<tr><td style=\"text-align: right;\">              0</td><td style=\"text-align: right;\">              0</td><td style=\"text-align: right;\">              0</td><td style=\"text-align: right;\">              0</td><td style=\"text-align: right;\">              0</td><td style=\"text-align: right;\">               0</td><td style=\"text-align: right;\">               0</td><td style=\"text-align: right;\">               0</td><td style=\"text-align: right;\">               0</td><td style=\"text-align: right;\">               0</td><td style=\"text-align: right;\">               0</td><td style=\"text-align: right;\">               0</td><td style=\"text-align: right;\">               0</td><td style=\"text-align: right;\">               0</td><td style=\"text-align: right;\">               0</td><td style=\"text-align: right;\">               0</td><td style=\"text-align: right;\">               0</td><td style=\"text-align: right;\">               0</td><td style=\"text-align: right;\">               0</td><td style=\"text-align: right;\">               0</td><td style=\"text-align: right;\">               0</td><td style=\"text-align: right;\">               0</td><td style=\"text-align: right;\">               0</td><td style=\"text-align: right;\">               0</td><td style=\"text-align: right;\">               0</td><td style=\"text-align: right;\">               0</td><td style=\"text-align: right;\">               0</td><td style=\"text-align: right;\">               0</td><td style=\"text-align: right;\">               0</td><td style=\"text-align: right;\">               0</td><td style=\"text-align: right;\">               0</td><td style=\"text-align: right;\">               0</td><td style=\"text-align: right;\">               0</td><td style=\"text-align: right;\">               0</td><td style=\"text-align: right;\">               0</td><td style=\"text-align: right;\">               0</td><td style=\"text-align: right;\">               0</td><td style=\"text-align: right;\">               0</td><td style=\"text-align: right;\">               0</td><td style=\"text-align: right;\">               0</td><td style=\"text-align: right;\">               0</td><td style=\"text-align: right;\">               0</td><td style=\"text-align: right;\">               0</td><td style=\"text-align: right;\">               0</td><td style=\"text-align: right;\">               0</td><td style=\"text-align: right;\">               0</td><td style=\"text-align: right;\">               0</td><td style=\"text-align: right;\">               0</td><td style=\"text-align: right;\">               0</td><td style=\"text-align: right;\">               0</td><td style=\"text-align: right;\">               0</td><td style=\"text-align: right;\">               0</td><td style=\"text-align: right;\">               0</td><td style=\"text-align: right;\">               0</td><td style=\"text-align: right;\">               0</td><td style=\"text-align: right;\">               0</td><td style=\"text-align: right;\">               0</td><td style=\"text-align: right;\">               0</td><td style=\"text-align: right;\">               0</td><td style=\"text-align: right;\">               0</td><td style=\"text-align: right;\">               0</td><td style=\"text-align: right;\">               0</td><td style=\"text-align: right;\">               0</td><td style=\"text-align: right;\">               0</td><td style=\"text-align: right;\">               0</td><td style=\"text-align: right;\">               0</td><td style=\"text-align: right;\">               0</td><td style=\"text-align: right;\">               0</td><td style=\"text-align: right;\">               0</td><td style=\"text-align: right;\">               0</td><td style=\"text-align: right;\">               0</td><td style=\"text-align: right;\">               0</td><td style=\"text-align: right;\">               0</td><td style=\"text-align: right;\">               0</td><td style=\"text-align: right;\">               0</td><td style=\"text-align: right;\">               0</td><td style=\"text-align: right;\">               0</td><td style=\"text-align: right;\">               0</td><td style=\"text-align: right;\">               0</td><td style=\"text-align: right;\">               0</td><td style=\"text-align: right;\">               0</td><td style=\"text-align: right;\">               0</td><td style=\"text-align: right;\">               0</td><td style=\"text-align: right;\">               0</td><td style=\"text-align: right;\">               0</td><td style=\"text-align: right;\">               0</td><td style=\"text-align: right;\">               0</td><td style=\"text-align: right;\">               0</td><td style=\"text-align: right;\">               0</td><td style=\"text-align: right;\">               0</td><td style=\"text-align: right;\">               0</td><td style=\"text-align: right;\">               0</td><td style=\"text-align: right;\">               0</td><td style=\"text-align: right;\">               0</td><td style=\"text-align: right;\">               0</td><td style=\"text-align: right;\">               0</td><td style=\"text-align: right;\">               0</td><td style=\"text-align: right;\">                0</td><td style=\"text-align: right;\">                0</td><td style=\"text-align: right;\">                0</td><td style=\"text-align: right;\">                0</td><td style=\"text-align: right;\">                0</td><td style=\"text-align: right;\">                0</td><td style=\"text-align: right;\">                0</td><td style=\"text-align: right;\">                0</td><td style=\"text-align: right;\">                0</td><td style=\"text-align: right;\">                0</td><td style=\"text-align: right;\">                0</td><td style=\"text-align: right;\">                0</td><td style=\"text-align: right;\">                0</td><td style=\"text-align: right;\">                0</td><td style=\"text-align: right;\">                0</td><td style=\"text-align: right;\">                0</td><td style=\"text-align: right;\">                0</td><td style=\"text-align: right;\">                0</td><td style=\"text-align: right;\">                0</td><td style=\"text-align: right;\">                0</td><td style=\"text-align: right;\">                0</td><td style=\"text-align: right;\">                0</td><td style=\"text-align: right;\">                0</td><td style=\"text-align: right;\">                0</td><td style=\"text-align: right;\">                0</td><td style=\"text-align: right;\">                0</td><td style=\"text-align: right;\">                0</td><td style=\"text-align: right;\">                0</td><td style=\"text-align: right;\">                0</td><td style=\"text-align: right;\">                0</td><td style=\"text-align: right;\">                0</td><td style=\"text-align: right;\">                0</td><td style=\"text-align: right;\">                0</td><td style=\"text-align: right;\">                0</td><td style=\"text-align: right;\">                0</td><td style=\"text-align: right;\">                0</td><td style=\"text-align: right;\">                0</td><td style=\"text-align: right;\">                0</td><td style=\"text-align: right;\">                0</td><td style=\"text-align: right;\">                0</td><td style=\"text-align: right;\">                0</td><td style=\"text-align: right;\">                0</td><td style=\"text-align: right;\">                0</td><td style=\"text-align: right;\">                0</td><td style=\"text-align: right;\">                0</td><td style=\"text-align: right;\">                0</td><td style=\"text-align: right;\">                0</td><td style=\"text-align: right;\">                0</td><td style=\"text-align: right;\">                0</td><td style=\"text-align: right;\">                0</td><td style=\"text-align: right;\">                0</td><td style=\"text-align: right;\">                0</td><td style=\"text-align: right;\">                0</td><td style=\"text-align: right;\">                0</td><td style=\"text-align: right;\">                0</td><td style=\"text-align: right;\">                0</td><td style=\"text-align: right;\">                0</td><td style=\"text-align: right;\">                0</td><td style=\"text-align: right;\">                0</td><td style=\"text-align: right;\">                0</td><td style=\"text-align: right;\">                0</td><td style=\"text-align: right;\">                0</td><td style=\"text-align: right;\">                0</td><td style=\"text-align: right;\">                0</td><td style=\"text-align: right;\">                0</td><td style=\"text-align: right;\">                0</td><td style=\"text-align: right;\">                0</td><td style=\"text-align: right;\">                0</td><td style=\"text-align: right;\">                0</td><td style=\"text-align: right;\">                0</td><td style=\"text-align: right;\">                0</td><td style=\"text-align: right;\">                0</td><td style=\"text-align: right;\">                0</td><td style=\"text-align: right;\">                0</td><td style=\"text-align: right;\">                0</td><td style=\"text-align: right;\">                0</td><td style=\"text-align: right;\">                0</td><td style=\"text-align: right;\">                0</td><td style=\"text-align: right;\">                0</td><td style=\"text-align: right;\">                0</td><td style=\"text-align: right;\">                0</td><td style=\"text-align: right;\">                0</td><td style=\"text-align: right;\">                0</td><td style=\"text-align: right;\">                0</td><td style=\"text-align: right;\">                0</td><td style=\"text-align: right;\">                0</td><td style=\"text-align: right;\">                0</td><td style=\"text-align: right;\">                0</td><td style=\"text-align: right;\">                0</td><td style=\"text-align: right;\">                0</td><td style=\"text-align: right;\">                0</td><td style=\"text-align: right;\">                0</td><td style=\"text-align: right;\">                0</td><td style=\"text-align: right;\">                0</td><td style=\"text-align: right;\">                0</td><td style=\"text-align: right;\">                0</td><td style=\"text-align: right;\">                0</td><td style=\"text-align: right;\">                0</td><td style=\"text-align: right;\">                0</td><td style=\"text-align: right;\">                0</td><td style=\"text-align: right;\">                0</td><td style=\"text-align: right;\">                0</td><td style=\"text-align: right;\">                0</td></tr>\n",
       "<tr><td style=\"text-align: right;\">              0</td><td style=\"text-align: right;\">              0</td><td style=\"text-align: right;\">              0</td><td style=\"text-align: right;\">              0</td><td style=\"text-align: right;\">              0</td><td style=\"text-align: right;\">               0</td><td style=\"text-align: right;\">               0</td><td style=\"text-align: right;\">               0</td><td style=\"text-align: right;\">               0</td><td style=\"text-align: right;\">               0</td><td style=\"text-align: right;\">               0</td><td style=\"text-align: right;\">               0</td><td style=\"text-align: right;\">               0</td><td style=\"text-align: right;\">               0</td><td style=\"text-align: right;\">               0</td><td style=\"text-align: right;\">               0</td><td style=\"text-align: right;\">               0</td><td style=\"text-align: right;\">               0</td><td style=\"text-align: right;\">               0</td><td style=\"text-align: right;\">               0</td><td style=\"text-align: right;\">               0</td><td style=\"text-align: right;\">               0</td><td style=\"text-align: right;\">               0</td><td style=\"text-align: right;\">               0</td><td style=\"text-align: right;\">               0</td><td style=\"text-align: right;\">               0</td><td style=\"text-align: right;\">               0</td><td style=\"text-align: right;\">               0</td><td style=\"text-align: right;\">               0</td><td style=\"text-align: right;\">               0</td><td style=\"text-align: right;\">               0</td><td style=\"text-align: right;\">               0</td><td style=\"text-align: right;\">               0</td><td style=\"text-align: right;\">               0</td><td style=\"text-align: right;\">               0</td><td style=\"text-align: right;\">               0</td><td style=\"text-align: right;\">               0</td><td style=\"text-align: right;\">               0</td><td style=\"text-align: right;\">               0</td><td style=\"text-align: right;\">               0</td><td style=\"text-align: right;\">               0</td><td style=\"text-align: right;\">               0</td><td style=\"text-align: right;\">               0</td><td style=\"text-align: right;\">               0</td><td style=\"text-align: right;\">               0</td><td style=\"text-align: right;\">               0</td><td style=\"text-align: right;\">               0</td><td style=\"text-align: right;\">               0</td><td style=\"text-align: right;\">               0</td><td style=\"text-align: right;\">               0</td><td style=\"text-align: right;\">               0</td><td style=\"text-align: right;\">               0</td><td style=\"text-align: right;\">               0</td><td style=\"text-align: right;\">               0</td><td style=\"text-align: right;\">               0</td><td style=\"text-align: right;\">               0</td><td style=\"text-align: right;\">               0</td><td style=\"text-align: right;\">               0</td><td style=\"text-align: right;\">               0</td><td style=\"text-align: right;\">               0</td><td style=\"text-align: right;\">               0</td><td style=\"text-align: right;\">               0</td><td style=\"text-align: right;\">               0</td><td style=\"text-align: right;\">               0</td><td style=\"text-align: right;\">               0</td><td style=\"text-align: right;\">               0</td><td style=\"text-align: right;\">               0</td><td style=\"text-align: right;\">               0</td><td style=\"text-align: right;\">               0</td><td style=\"text-align: right;\">               0</td><td style=\"text-align: right;\">               0</td><td style=\"text-align: right;\">               0</td><td style=\"text-align: right;\">               0</td><td style=\"text-align: right;\">               0</td><td style=\"text-align: right;\">               0</td><td style=\"text-align: right;\">               0</td><td style=\"text-align: right;\">               0</td><td style=\"text-align: right;\">               0</td><td style=\"text-align: right;\">               0</td><td style=\"text-align: right;\">               0</td><td style=\"text-align: right;\">               0</td><td style=\"text-align: right;\">               0</td><td style=\"text-align: right;\">               0</td><td style=\"text-align: right;\">               0</td><td style=\"text-align: right;\">               0</td><td style=\"text-align: right;\">               0</td><td style=\"text-align: right;\">               0</td><td style=\"text-align: right;\">               0</td><td style=\"text-align: right;\">               0</td><td style=\"text-align: right;\">               0</td><td style=\"text-align: right;\">               0</td><td style=\"text-align: right;\">               0</td><td style=\"text-align: right;\">               0</td><td style=\"text-align: right;\">               0</td><td style=\"text-align: right;\">               0</td><td style=\"text-align: right;\">               0</td><td style=\"text-align: right;\">               0</td><td style=\"text-align: right;\">                0</td><td style=\"text-align: right;\">                0</td><td style=\"text-align: right;\">                0</td><td style=\"text-align: right;\">                0</td><td style=\"text-align: right;\">                0</td><td style=\"text-align: right;\">                0</td><td style=\"text-align: right;\">                0</td><td style=\"text-align: right;\">                0</td><td style=\"text-align: right;\">                0</td><td style=\"text-align: right;\">                0</td><td style=\"text-align: right;\">                0</td><td style=\"text-align: right;\">                0</td><td style=\"text-align: right;\">                0</td><td style=\"text-align: right;\">                0</td><td style=\"text-align: right;\">                0</td><td style=\"text-align: right;\">                0</td><td style=\"text-align: right;\">                0</td><td style=\"text-align: right;\">                0</td><td style=\"text-align: right;\">                0</td><td style=\"text-align: right;\">                0</td><td style=\"text-align: right;\">                0</td><td style=\"text-align: right;\">                0</td><td style=\"text-align: right;\">                0</td><td style=\"text-align: right;\">                0</td><td style=\"text-align: right;\">                0</td><td style=\"text-align: right;\">                0</td><td style=\"text-align: right;\">                0</td><td style=\"text-align: right;\">                0</td><td style=\"text-align: right;\">                0</td><td style=\"text-align: right;\">                0</td><td style=\"text-align: right;\">                0</td><td style=\"text-align: right;\">                0</td><td style=\"text-align: right;\">                0</td><td style=\"text-align: right;\">                0</td><td style=\"text-align: right;\">                0</td><td style=\"text-align: right;\">                0</td><td style=\"text-align: right;\">                0</td><td style=\"text-align: right;\">                0</td><td style=\"text-align: right;\">                0</td><td style=\"text-align: right;\">                0</td><td style=\"text-align: right;\">                0</td><td style=\"text-align: right;\">                0</td><td style=\"text-align: right;\">                0</td><td style=\"text-align: right;\">                0</td><td style=\"text-align: right;\">                0</td><td style=\"text-align: right;\">                0</td><td style=\"text-align: right;\">                0</td><td style=\"text-align: right;\">                0</td><td style=\"text-align: right;\">                0</td><td style=\"text-align: right;\">                0</td><td style=\"text-align: right;\">                0</td><td style=\"text-align: right;\">                0</td><td style=\"text-align: right;\">                0</td><td style=\"text-align: right;\">                0</td><td style=\"text-align: right;\">                0</td><td style=\"text-align: right;\">                0</td><td style=\"text-align: right;\">                0</td><td style=\"text-align: right;\">                0</td><td style=\"text-align: right;\">                0</td><td style=\"text-align: right;\">                0</td><td style=\"text-align: right;\">                0</td><td style=\"text-align: right;\">                0</td><td style=\"text-align: right;\">                0</td><td style=\"text-align: right;\">                0</td><td style=\"text-align: right;\">                0</td><td style=\"text-align: right;\">                0</td><td style=\"text-align: right;\">                0</td><td style=\"text-align: right;\">                0</td><td style=\"text-align: right;\">                0</td><td style=\"text-align: right;\">                0</td><td style=\"text-align: right;\">                0</td><td style=\"text-align: right;\">                0</td><td style=\"text-align: right;\">                0</td><td style=\"text-align: right;\">                0</td><td style=\"text-align: right;\">                0</td><td style=\"text-align: right;\">                0</td><td style=\"text-align: right;\">                0</td><td style=\"text-align: right;\">                0</td><td style=\"text-align: right;\">                0</td><td style=\"text-align: right;\">                0</td><td style=\"text-align: right;\">                0</td><td style=\"text-align: right;\">                0</td><td style=\"text-align: right;\">                0</td><td style=\"text-align: right;\">                0</td><td style=\"text-align: right;\">                0</td><td style=\"text-align: right;\">                0</td><td style=\"text-align: right;\">                0</td><td style=\"text-align: right;\">                0</td><td style=\"text-align: right;\">                0</td><td style=\"text-align: right;\">                0</td><td style=\"text-align: right;\">                0</td><td style=\"text-align: right;\">                0</td><td style=\"text-align: right;\">                0</td><td style=\"text-align: right;\">                0</td><td style=\"text-align: right;\">                0</td><td style=\"text-align: right;\">                0</td><td style=\"text-align: right;\">                0</td><td style=\"text-align: right;\">                0</td><td style=\"text-align: right;\">                0</td><td style=\"text-align: right;\">                0</td><td style=\"text-align: right;\">                0</td><td style=\"text-align: right;\">                0</td><td style=\"text-align: right;\">                0</td></tr>\n",
       "<tr><td style=\"text-align: right;\">              0</td><td style=\"text-align: right;\">              0</td><td style=\"text-align: right;\">              0</td><td style=\"text-align: right;\">              0</td><td style=\"text-align: right;\">              0</td><td style=\"text-align: right;\">               0</td><td style=\"text-align: right;\">               0</td><td style=\"text-align: right;\">               0</td><td style=\"text-align: right;\">               0</td><td style=\"text-align: right;\">               0</td><td style=\"text-align: right;\">               0</td><td style=\"text-align: right;\">               0</td><td style=\"text-align: right;\">               0</td><td style=\"text-align: right;\">               0</td><td style=\"text-align: right;\">               0</td><td style=\"text-align: right;\">               0</td><td style=\"text-align: right;\">               0</td><td style=\"text-align: right;\">               0</td><td style=\"text-align: right;\">               0</td><td style=\"text-align: right;\">               0</td><td style=\"text-align: right;\">               0</td><td style=\"text-align: right;\">               0</td><td style=\"text-align: right;\">               0</td><td style=\"text-align: right;\">               0</td><td style=\"text-align: right;\">               0</td><td style=\"text-align: right;\">               0</td><td style=\"text-align: right;\">               0</td><td style=\"text-align: right;\">               0</td><td style=\"text-align: right;\">               0</td><td style=\"text-align: right;\">               0</td><td style=\"text-align: right;\">               0</td><td style=\"text-align: right;\">               0</td><td style=\"text-align: right;\">               0</td><td style=\"text-align: right;\">               0</td><td style=\"text-align: right;\">               0</td><td style=\"text-align: right;\">               0</td><td style=\"text-align: right;\">               0</td><td style=\"text-align: right;\">               0</td><td style=\"text-align: right;\">               0</td><td style=\"text-align: right;\">               0</td><td style=\"text-align: right;\">               0</td><td style=\"text-align: right;\">               0</td><td style=\"text-align: right;\">               0</td><td style=\"text-align: right;\">               0</td><td style=\"text-align: right;\">               0</td><td style=\"text-align: right;\">               0</td><td style=\"text-align: right;\">               0</td><td style=\"text-align: right;\">               0</td><td style=\"text-align: right;\">               0</td><td style=\"text-align: right;\">               0</td><td style=\"text-align: right;\">               0</td><td style=\"text-align: right;\">               0</td><td style=\"text-align: right;\">               0</td><td style=\"text-align: right;\">               0</td><td style=\"text-align: right;\">               0</td><td style=\"text-align: right;\">               0</td><td style=\"text-align: right;\">               0</td><td style=\"text-align: right;\">               0</td><td style=\"text-align: right;\">               0</td><td style=\"text-align: right;\">               0</td><td style=\"text-align: right;\">               0</td><td style=\"text-align: right;\">               0</td><td style=\"text-align: right;\">               0</td><td style=\"text-align: right;\">               0</td><td style=\"text-align: right;\">               0</td><td style=\"text-align: right;\">               0</td><td style=\"text-align: right;\">               0</td><td style=\"text-align: right;\">               0</td><td style=\"text-align: right;\">               0</td><td style=\"text-align: right;\">               0</td><td style=\"text-align: right;\">               0</td><td style=\"text-align: right;\">               0</td><td style=\"text-align: right;\">               0</td><td style=\"text-align: right;\">               0</td><td style=\"text-align: right;\">               0</td><td style=\"text-align: right;\">               0</td><td style=\"text-align: right;\">               0</td><td style=\"text-align: right;\">               0</td><td style=\"text-align: right;\">               0</td><td style=\"text-align: right;\">               0</td><td style=\"text-align: right;\">               0</td><td style=\"text-align: right;\">               0</td><td style=\"text-align: right;\">               0</td><td style=\"text-align: right;\">               0</td><td style=\"text-align: right;\">               0</td><td style=\"text-align: right;\">               0</td><td style=\"text-align: right;\">               0</td><td style=\"text-align: right;\">               0</td><td style=\"text-align: right;\">               0</td><td style=\"text-align: right;\">               0</td><td style=\"text-align: right;\">               0</td><td style=\"text-align: right;\">               0</td><td style=\"text-align: right;\">               0</td><td style=\"text-align: right;\">               0</td><td style=\"text-align: right;\">               0</td><td style=\"text-align: right;\">               0</td><td style=\"text-align: right;\">               0</td><td style=\"text-align: right;\">                0</td><td style=\"text-align: right;\">                0</td><td style=\"text-align: right;\">                0</td><td style=\"text-align: right;\">                0</td><td style=\"text-align: right;\">                0</td><td style=\"text-align: right;\">                0</td><td style=\"text-align: right;\">                0</td><td style=\"text-align: right;\">                0</td><td style=\"text-align: right;\">                0</td><td style=\"text-align: right;\">                0</td><td style=\"text-align: right;\">                0</td><td style=\"text-align: right;\">                0</td><td style=\"text-align: right;\">                0</td><td style=\"text-align: right;\">                0</td><td style=\"text-align: right;\">                0</td><td style=\"text-align: right;\">                0</td><td style=\"text-align: right;\">                0</td><td style=\"text-align: right;\">                0</td><td style=\"text-align: right;\">                0</td><td style=\"text-align: right;\">                0</td><td style=\"text-align: right;\">                0</td><td style=\"text-align: right;\">                0</td><td style=\"text-align: right;\">                0</td><td style=\"text-align: right;\">                0</td><td style=\"text-align: right;\">                0</td><td style=\"text-align: right;\">                0</td><td style=\"text-align: right;\">                0</td><td style=\"text-align: right;\">                0</td><td style=\"text-align: right;\">                0</td><td style=\"text-align: right;\">                0</td><td style=\"text-align: right;\">                0</td><td style=\"text-align: right;\">                0</td><td style=\"text-align: right;\">                0</td><td style=\"text-align: right;\">                0</td><td style=\"text-align: right;\">                0</td><td style=\"text-align: right;\">                0</td><td style=\"text-align: right;\">                0</td><td style=\"text-align: right;\">                0</td><td style=\"text-align: right;\">                0</td><td style=\"text-align: right;\">                0</td><td style=\"text-align: right;\">                0</td><td style=\"text-align: right;\">                0</td><td style=\"text-align: right;\">                0</td><td style=\"text-align: right;\">                0</td><td style=\"text-align: right;\">                0</td><td style=\"text-align: right;\">                0</td><td style=\"text-align: right;\">                0</td><td style=\"text-align: right;\">                0</td><td style=\"text-align: right;\">                0</td><td style=\"text-align: right;\">                0</td><td style=\"text-align: right;\">                0</td><td style=\"text-align: right;\">                0</td><td style=\"text-align: right;\">                0</td><td style=\"text-align: right;\">                0</td><td style=\"text-align: right;\">                0</td><td style=\"text-align: right;\">                0</td><td style=\"text-align: right;\">                0</td><td style=\"text-align: right;\">                0</td><td style=\"text-align: right;\">                0</td><td style=\"text-align: right;\">                0</td><td style=\"text-align: right;\">                0</td><td style=\"text-align: right;\">                0</td><td style=\"text-align: right;\">                0</td><td style=\"text-align: right;\">                0</td><td style=\"text-align: right;\">                0</td><td style=\"text-align: right;\">                0</td><td style=\"text-align: right;\">                0</td><td style=\"text-align: right;\">                0</td><td style=\"text-align: right;\">                0</td><td style=\"text-align: right;\">                0</td><td style=\"text-align: right;\">                0</td><td style=\"text-align: right;\">                0</td><td style=\"text-align: right;\">                0</td><td style=\"text-align: right;\">                0</td><td style=\"text-align: right;\">                0</td><td style=\"text-align: right;\">                0</td><td style=\"text-align: right;\">                0</td><td style=\"text-align: right;\">                0</td><td style=\"text-align: right;\">                0</td><td style=\"text-align: right;\">                0</td><td style=\"text-align: right;\">                0</td><td style=\"text-align: right;\">                0</td><td style=\"text-align: right;\">                0</td><td style=\"text-align: right;\">                0</td><td style=\"text-align: right;\">                0</td><td style=\"text-align: right;\">                0</td><td style=\"text-align: right;\">                0</td><td style=\"text-align: right;\">                0</td><td style=\"text-align: right;\">                0</td><td style=\"text-align: right;\">                0</td><td style=\"text-align: right;\">                0</td><td style=\"text-align: right;\">                0</td><td style=\"text-align: right;\">                0</td><td style=\"text-align: right;\">                0</td><td style=\"text-align: right;\">                0</td><td style=\"text-align: right;\">                0</td><td style=\"text-align: right;\">                0</td><td style=\"text-align: right;\">                0</td><td style=\"text-align: right;\">                0</td><td style=\"text-align: right;\">                0</td><td style=\"text-align: right;\">                0</td><td style=\"text-align: right;\">                0</td><td style=\"text-align: right;\">                0</td></tr>\n",
       "<tr><td style=\"text-align: right;\">              0</td><td style=\"text-align: right;\">              0</td><td style=\"text-align: right;\">              0</td><td style=\"text-align: right;\">              0</td><td style=\"text-align: right;\">              0</td><td style=\"text-align: right;\">               0</td><td style=\"text-align: right;\">               0</td><td style=\"text-align: right;\">               0</td><td style=\"text-align: right;\">               0</td><td style=\"text-align: right;\">               0</td><td style=\"text-align: right;\">               0</td><td style=\"text-align: right;\">               0</td><td style=\"text-align: right;\">               0</td><td style=\"text-align: right;\">               0</td><td style=\"text-align: right;\">               0</td><td style=\"text-align: right;\">               0</td><td style=\"text-align: right;\">               0</td><td style=\"text-align: right;\">               0</td><td style=\"text-align: right;\">               0</td><td style=\"text-align: right;\">               0</td><td style=\"text-align: right;\">               0</td><td style=\"text-align: right;\">               0</td><td style=\"text-align: right;\">               0</td><td style=\"text-align: right;\">               0</td><td style=\"text-align: right;\">               0</td><td style=\"text-align: right;\">               0</td><td style=\"text-align: right;\">               0</td><td style=\"text-align: right;\">               0</td><td style=\"text-align: right;\">               0</td><td style=\"text-align: right;\">               0</td><td style=\"text-align: right;\">               0</td><td style=\"text-align: right;\">               0</td><td style=\"text-align: right;\">               0</td><td style=\"text-align: right;\">               0</td><td style=\"text-align: right;\">               0</td><td style=\"text-align: right;\">               0</td><td style=\"text-align: right;\">               0</td><td style=\"text-align: right;\">               0</td><td style=\"text-align: right;\">               0</td><td style=\"text-align: right;\">               0</td><td style=\"text-align: right;\">               0</td><td style=\"text-align: right;\">               0</td><td style=\"text-align: right;\">               0</td><td style=\"text-align: right;\">               0</td><td style=\"text-align: right;\">               0</td><td style=\"text-align: right;\">               0</td><td style=\"text-align: right;\">               0</td><td style=\"text-align: right;\">               0</td><td style=\"text-align: right;\">               0</td><td style=\"text-align: right;\">               0</td><td style=\"text-align: right;\">               0</td><td style=\"text-align: right;\">               0</td><td style=\"text-align: right;\">               0</td><td style=\"text-align: right;\">               0</td><td style=\"text-align: right;\">               0</td><td style=\"text-align: right;\">               0</td><td style=\"text-align: right;\">               0</td><td style=\"text-align: right;\">               0</td><td style=\"text-align: right;\">               0</td><td style=\"text-align: right;\">               0</td><td style=\"text-align: right;\">               0</td><td style=\"text-align: right;\">               0</td><td style=\"text-align: right;\">               0</td><td style=\"text-align: right;\">               0</td><td style=\"text-align: right;\">               0</td><td style=\"text-align: right;\">               0</td><td style=\"text-align: right;\">               0</td><td style=\"text-align: right;\">               0</td><td style=\"text-align: right;\">               0</td><td style=\"text-align: right;\">               0</td><td style=\"text-align: right;\">               0</td><td style=\"text-align: right;\">               0</td><td style=\"text-align: right;\">               0</td><td style=\"text-align: right;\">               0</td><td style=\"text-align: right;\">               0</td><td style=\"text-align: right;\">               0</td><td style=\"text-align: right;\">               0</td><td style=\"text-align: right;\">               0</td><td style=\"text-align: right;\">               0</td><td style=\"text-align: right;\">               0</td><td style=\"text-align: right;\">               0</td><td style=\"text-align: right;\">               0</td><td style=\"text-align: right;\">               0</td><td style=\"text-align: right;\">               0</td><td style=\"text-align: right;\">               0</td><td style=\"text-align: right;\">               0</td><td style=\"text-align: right;\">               0</td><td style=\"text-align: right;\">               0</td><td style=\"text-align: right;\">               0</td><td style=\"text-align: right;\">               0</td><td style=\"text-align: right;\">               0</td><td style=\"text-align: right;\">               0</td><td style=\"text-align: right;\">               0</td><td style=\"text-align: right;\">               0</td><td style=\"text-align: right;\">               0</td><td style=\"text-align: right;\">               0</td><td style=\"text-align: right;\">               0</td><td style=\"text-align: right;\">                0</td><td style=\"text-align: right;\">                0</td><td style=\"text-align: right;\">                0</td><td style=\"text-align: right;\">                0</td><td style=\"text-align: right;\">                0</td><td style=\"text-align: right;\">                0</td><td style=\"text-align: right;\">                0</td><td style=\"text-align: right;\">                0</td><td style=\"text-align: right;\">                0</td><td style=\"text-align: right;\">                0</td><td style=\"text-align: right;\">                0</td><td style=\"text-align: right;\">                0</td><td style=\"text-align: right;\">                0</td><td style=\"text-align: right;\">                0</td><td style=\"text-align: right;\">                0</td><td style=\"text-align: right;\">                0</td><td style=\"text-align: right;\">                0</td><td style=\"text-align: right;\">                0</td><td style=\"text-align: right;\">                0</td><td style=\"text-align: right;\">                0</td><td style=\"text-align: right;\">                0</td><td style=\"text-align: right;\">                0</td><td style=\"text-align: right;\">                0</td><td style=\"text-align: right;\">                0</td><td style=\"text-align: right;\">                0</td><td style=\"text-align: right;\">                0</td><td style=\"text-align: right;\">                0</td><td style=\"text-align: right;\">                0</td><td style=\"text-align: right;\">                0</td><td style=\"text-align: right;\">                0</td><td style=\"text-align: right;\">                0</td><td style=\"text-align: right;\">                0</td><td style=\"text-align: right;\">                0</td><td style=\"text-align: right;\">                0</td><td style=\"text-align: right;\">                0</td><td style=\"text-align: right;\">                0</td><td style=\"text-align: right;\">                0</td><td style=\"text-align: right;\">                0</td><td style=\"text-align: right;\">                0</td><td style=\"text-align: right;\">                0</td><td style=\"text-align: right;\">                0</td><td style=\"text-align: right;\">                0</td><td style=\"text-align: right;\">                0</td><td style=\"text-align: right;\">                0</td><td style=\"text-align: right;\">                0</td><td style=\"text-align: right;\">                0</td><td style=\"text-align: right;\">                0</td><td style=\"text-align: right;\">                0</td><td style=\"text-align: right;\">                0</td><td style=\"text-align: right;\">                0</td><td style=\"text-align: right;\">                0</td><td style=\"text-align: right;\">                0</td><td style=\"text-align: right;\">                0</td><td style=\"text-align: right;\">                0</td><td style=\"text-align: right;\">                0</td><td style=\"text-align: right;\">                0</td><td style=\"text-align: right;\">                0</td><td style=\"text-align: right;\">                0</td><td style=\"text-align: right;\">                0</td><td style=\"text-align: right;\">                0</td><td style=\"text-align: right;\">                0</td><td style=\"text-align: right;\">                0</td><td style=\"text-align: right;\">                0</td><td style=\"text-align: right;\">                0</td><td style=\"text-align: right;\">                0</td><td style=\"text-align: right;\">                0</td><td style=\"text-align: right;\">                0</td><td style=\"text-align: right;\">                0</td><td style=\"text-align: right;\">                0</td><td style=\"text-align: right;\">                0</td><td style=\"text-align: right;\">                0</td><td style=\"text-align: right;\">                0</td><td style=\"text-align: right;\">                0</td><td style=\"text-align: right;\">                0</td><td style=\"text-align: right;\">                0</td><td style=\"text-align: right;\">                0</td><td style=\"text-align: right;\">                0</td><td style=\"text-align: right;\">                0</td><td style=\"text-align: right;\">                0</td><td style=\"text-align: right;\">                0</td><td style=\"text-align: right;\">                0</td><td style=\"text-align: right;\">                0</td><td style=\"text-align: right;\">                0</td><td style=\"text-align: right;\">                0</td><td style=\"text-align: right;\">                0</td><td style=\"text-align: right;\">                0</td><td style=\"text-align: right;\">                0</td><td style=\"text-align: right;\">                0</td><td style=\"text-align: right;\">                0</td><td style=\"text-align: right;\">                0</td><td style=\"text-align: right;\">                0</td><td style=\"text-align: right;\">                0</td><td style=\"text-align: right;\">                0</td><td style=\"text-align: right;\">                0</td><td style=\"text-align: right;\">                0</td><td style=\"text-align: right;\">                0</td><td style=\"text-align: right;\">                0</td><td style=\"text-align: right;\">                0</td><td style=\"text-align: right;\">                0</td><td style=\"text-align: right;\">                0</td><td style=\"text-align: right;\">                0</td><td style=\"text-align: right;\">                0</td><td style=\"text-align: right;\">                0</td></tr>\n",
       "<tr><td style=\"text-align: right;\">              0</td><td style=\"text-align: right;\">              0</td><td style=\"text-align: right;\">              0</td><td style=\"text-align: right;\">              0</td><td style=\"text-align: right;\">              0</td><td style=\"text-align: right;\">               0</td><td style=\"text-align: right;\">               0</td><td style=\"text-align: right;\">               0</td><td style=\"text-align: right;\">               0</td><td style=\"text-align: right;\">               0</td><td style=\"text-align: right;\">               0</td><td style=\"text-align: right;\">               0</td><td style=\"text-align: right;\">               0</td><td style=\"text-align: right;\">               0</td><td style=\"text-align: right;\">               0</td><td style=\"text-align: right;\">               0</td><td style=\"text-align: right;\">               0</td><td style=\"text-align: right;\">               0</td><td style=\"text-align: right;\">               0</td><td style=\"text-align: right;\">               0</td><td style=\"text-align: right;\">               0</td><td style=\"text-align: right;\">               0</td><td style=\"text-align: right;\">               0</td><td style=\"text-align: right;\">               0</td><td style=\"text-align: right;\">               0</td><td style=\"text-align: right;\">               0</td><td style=\"text-align: right;\">               0</td><td style=\"text-align: right;\">               0</td><td style=\"text-align: right;\">               0</td><td style=\"text-align: right;\">               0</td><td style=\"text-align: right;\">               0</td><td style=\"text-align: right;\">               0</td><td style=\"text-align: right;\">               0</td><td style=\"text-align: right;\">               0</td><td style=\"text-align: right;\">               0</td><td style=\"text-align: right;\">               0</td><td style=\"text-align: right;\">               0</td><td style=\"text-align: right;\">               0</td><td style=\"text-align: right;\">               0</td><td style=\"text-align: right;\">               0</td><td style=\"text-align: right;\">               0</td><td style=\"text-align: right;\">               0</td><td style=\"text-align: right;\">               0</td><td style=\"text-align: right;\">               0</td><td style=\"text-align: right;\">               0</td><td style=\"text-align: right;\">               0</td><td style=\"text-align: right;\">               0</td><td style=\"text-align: right;\">               0</td><td style=\"text-align: right;\">               0</td><td style=\"text-align: right;\">               0</td><td style=\"text-align: right;\">               0</td><td style=\"text-align: right;\">               0</td><td style=\"text-align: right;\">               0</td><td style=\"text-align: right;\">               0</td><td style=\"text-align: right;\">               0</td><td style=\"text-align: right;\">               0</td><td style=\"text-align: right;\">               0</td><td style=\"text-align: right;\">               0</td><td style=\"text-align: right;\">               0</td><td style=\"text-align: right;\">               0</td><td style=\"text-align: right;\">               0</td><td style=\"text-align: right;\">               0</td><td style=\"text-align: right;\">               0</td><td style=\"text-align: right;\">               0</td><td style=\"text-align: right;\">               0</td><td style=\"text-align: right;\">               0</td><td style=\"text-align: right;\">               0</td><td style=\"text-align: right;\">               0</td><td style=\"text-align: right;\">               0</td><td style=\"text-align: right;\">               0</td><td style=\"text-align: right;\">               0</td><td style=\"text-align: right;\">               0</td><td style=\"text-align: right;\">               0</td><td style=\"text-align: right;\">               0</td><td style=\"text-align: right;\">               0</td><td style=\"text-align: right;\">               0</td><td style=\"text-align: right;\">               0</td><td style=\"text-align: right;\">               0</td><td style=\"text-align: right;\">               0</td><td style=\"text-align: right;\">               0</td><td style=\"text-align: right;\">               0</td><td style=\"text-align: right;\">               0</td><td style=\"text-align: right;\">               0</td><td style=\"text-align: right;\">               0</td><td style=\"text-align: right;\">               0</td><td style=\"text-align: right;\">               0</td><td style=\"text-align: right;\">               0</td><td style=\"text-align: right;\">               0</td><td style=\"text-align: right;\">               0</td><td style=\"text-align: right;\">               0</td><td style=\"text-align: right;\">               0</td><td style=\"text-align: right;\">               0</td><td style=\"text-align: right;\">               0</td><td style=\"text-align: right;\">               0</td><td style=\"text-align: right;\">               0</td><td style=\"text-align: right;\">               0</td><td style=\"text-align: right;\">               0</td><td style=\"text-align: right;\">                0</td><td style=\"text-align: right;\">                0</td><td style=\"text-align: right;\">                0</td><td style=\"text-align: right;\">                0</td><td style=\"text-align: right;\">                0</td><td style=\"text-align: right;\">                0</td><td style=\"text-align: right;\">                0</td><td style=\"text-align: right;\">                0</td><td style=\"text-align: right;\">                0</td><td style=\"text-align: right;\">                0</td><td style=\"text-align: right;\">                0</td><td style=\"text-align: right;\">                0</td><td style=\"text-align: right;\">                0</td><td style=\"text-align: right;\">                0</td><td style=\"text-align: right;\">                0</td><td style=\"text-align: right;\">                0</td><td style=\"text-align: right;\">                0</td><td style=\"text-align: right;\">                0</td><td style=\"text-align: right;\">                0</td><td style=\"text-align: right;\">                0</td><td style=\"text-align: right;\">                0</td><td style=\"text-align: right;\">                0</td><td style=\"text-align: right;\">                0</td><td style=\"text-align: right;\">                0</td><td style=\"text-align: right;\">                0</td><td style=\"text-align: right;\">                0</td><td style=\"text-align: right;\">                0</td><td style=\"text-align: right;\">                0</td><td style=\"text-align: right;\">                0</td><td style=\"text-align: right;\">                0</td><td style=\"text-align: right;\">                0</td><td style=\"text-align: right;\">                0</td><td style=\"text-align: right;\">                0</td><td style=\"text-align: right;\">                0</td><td style=\"text-align: right;\">                0</td><td style=\"text-align: right;\">                0</td><td style=\"text-align: right;\">                0</td><td style=\"text-align: right;\">                0</td><td style=\"text-align: right;\">                0</td><td style=\"text-align: right;\">                0</td><td style=\"text-align: right;\">                0</td><td style=\"text-align: right;\">                0</td><td style=\"text-align: right;\">                0</td><td style=\"text-align: right;\">                0</td><td style=\"text-align: right;\">                0</td><td style=\"text-align: right;\">                0</td><td style=\"text-align: right;\">                0</td><td style=\"text-align: right;\">                0</td><td style=\"text-align: right;\">                0</td><td style=\"text-align: right;\">                0</td><td style=\"text-align: right;\">                0</td><td style=\"text-align: right;\">                0</td><td style=\"text-align: right;\">                0</td><td style=\"text-align: right;\">                0</td><td style=\"text-align: right;\">                0</td><td style=\"text-align: right;\">                0</td><td style=\"text-align: right;\">                0</td><td style=\"text-align: right;\">                0</td><td style=\"text-align: right;\">                0</td><td style=\"text-align: right;\">                0</td><td style=\"text-align: right;\">                0</td><td style=\"text-align: right;\">                0</td><td style=\"text-align: right;\">                0</td><td style=\"text-align: right;\">                0</td><td style=\"text-align: right;\">                0</td><td style=\"text-align: right;\">                0</td><td style=\"text-align: right;\">                0</td><td style=\"text-align: right;\">                0</td><td style=\"text-align: right;\">                0</td><td style=\"text-align: right;\">                0</td><td style=\"text-align: right;\">                0</td><td style=\"text-align: right;\">                0</td><td style=\"text-align: right;\">                0</td><td style=\"text-align: right;\">                0</td><td style=\"text-align: right;\">                0</td><td style=\"text-align: right;\">                0</td><td style=\"text-align: right;\">                0</td><td style=\"text-align: right;\">                0</td><td style=\"text-align: right;\">                0</td><td style=\"text-align: right;\">                0</td><td style=\"text-align: right;\">                0</td><td style=\"text-align: right;\">                0</td><td style=\"text-align: right;\">                0</td><td style=\"text-align: right;\">                0</td><td style=\"text-align: right;\">                0</td><td style=\"text-align: right;\">                0</td><td style=\"text-align: right;\">                0</td><td style=\"text-align: right;\">                0</td><td style=\"text-align: right;\">                0</td><td style=\"text-align: right;\">                0</td><td style=\"text-align: right;\">                0</td><td style=\"text-align: right;\">                0</td><td style=\"text-align: right;\">                0</td><td style=\"text-align: right;\">                0</td><td style=\"text-align: right;\">                0</td><td style=\"text-align: right;\">                0</td><td style=\"text-align: right;\">                0</td><td style=\"text-align: right;\">                0</td><td style=\"text-align: right;\">                0</td><td style=\"text-align: right;\">                0</td><td style=\"text-align: right;\">                0</td><td style=\"text-align: right;\">                0</td><td style=\"text-align: right;\">                0</td></tr>\n",
       "<tr><td style=\"text-align: right;\">              0</td><td style=\"text-align: right;\">              0</td><td style=\"text-align: right;\">              0</td><td style=\"text-align: right;\">              0</td><td style=\"text-align: right;\">              0</td><td style=\"text-align: right;\">               0</td><td style=\"text-align: right;\">               0</td><td style=\"text-align: right;\">               0</td><td style=\"text-align: right;\">               0</td><td style=\"text-align: right;\">               0</td><td style=\"text-align: right;\">               0</td><td style=\"text-align: right;\">               0</td><td style=\"text-align: right;\">               0</td><td style=\"text-align: right;\">               0</td><td style=\"text-align: right;\">               0</td><td style=\"text-align: right;\">               0</td><td style=\"text-align: right;\">               0</td><td style=\"text-align: right;\">               0</td><td style=\"text-align: right;\">               0</td><td style=\"text-align: right;\">               0</td><td style=\"text-align: right;\">               0</td><td style=\"text-align: right;\">               0</td><td style=\"text-align: right;\">               0</td><td style=\"text-align: right;\">               0</td><td style=\"text-align: right;\">               0</td><td style=\"text-align: right;\">               0</td><td style=\"text-align: right;\">               0</td><td style=\"text-align: right;\">               0</td><td style=\"text-align: right;\">               0</td><td style=\"text-align: right;\">               0</td><td style=\"text-align: right;\">               0</td><td style=\"text-align: right;\">               0</td><td style=\"text-align: right;\">               0</td><td style=\"text-align: right;\">               0</td><td style=\"text-align: right;\">               0</td><td style=\"text-align: right;\">               0</td><td style=\"text-align: right;\">               0</td><td style=\"text-align: right;\">               0</td><td style=\"text-align: right;\">               0</td><td style=\"text-align: right;\">               0</td><td style=\"text-align: right;\">               0</td><td style=\"text-align: right;\">               0</td><td style=\"text-align: right;\">               0</td><td style=\"text-align: right;\">               0</td><td style=\"text-align: right;\">               0</td><td style=\"text-align: right;\">               0</td><td style=\"text-align: right;\">               0</td><td style=\"text-align: right;\">               0</td><td style=\"text-align: right;\">               0</td><td style=\"text-align: right;\">               0</td><td style=\"text-align: right;\">               0</td><td style=\"text-align: right;\">               0</td><td style=\"text-align: right;\">               0</td><td style=\"text-align: right;\">               0</td><td style=\"text-align: right;\">               0</td><td style=\"text-align: right;\">               0</td><td style=\"text-align: right;\">               0</td><td style=\"text-align: right;\">               0</td><td style=\"text-align: right;\">               0</td><td style=\"text-align: right;\">               0</td><td style=\"text-align: right;\">               0</td><td style=\"text-align: right;\">               0</td><td style=\"text-align: right;\">               0</td><td style=\"text-align: right;\">               0</td><td style=\"text-align: right;\">               0</td><td style=\"text-align: right;\">               0</td><td style=\"text-align: right;\">               0</td><td style=\"text-align: right;\">               0</td><td style=\"text-align: right;\">               0</td><td style=\"text-align: right;\">               0</td><td style=\"text-align: right;\">               0</td><td style=\"text-align: right;\">               0</td><td style=\"text-align: right;\">               0</td><td style=\"text-align: right;\">               0</td><td style=\"text-align: right;\">               0</td><td style=\"text-align: right;\">               0</td><td style=\"text-align: right;\">               0</td><td style=\"text-align: right;\">               0</td><td style=\"text-align: right;\">               0</td><td style=\"text-align: right;\">               0</td><td style=\"text-align: right;\">               0</td><td style=\"text-align: right;\">               0</td><td style=\"text-align: right;\">               0</td><td style=\"text-align: right;\">               0</td><td style=\"text-align: right;\">               0</td><td style=\"text-align: right;\">               0</td><td style=\"text-align: right;\">               0</td><td style=\"text-align: right;\">               0</td><td style=\"text-align: right;\">               0</td><td style=\"text-align: right;\">               0</td><td style=\"text-align: right;\">               0</td><td style=\"text-align: right;\">               0</td><td style=\"text-align: right;\">               0</td><td style=\"text-align: right;\">               0</td><td style=\"text-align: right;\">               0</td><td style=\"text-align: right;\">               0</td><td style=\"text-align: right;\">               0</td><td style=\"text-align: right;\">                0</td><td style=\"text-align: right;\">                0</td><td style=\"text-align: right;\">                0</td><td style=\"text-align: right;\">                0</td><td style=\"text-align: right;\">                0</td><td style=\"text-align: right;\">                0</td><td style=\"text-align: right;\">                0</td><td style=\"text-align: right;\">                0</td><td style=\"text-align: right;\">                0</td><td style=\"text-align: right;\">                0</td><td style=\"text-align: right;\">                0</td><td style=\"text-align: right;\">                0</td><td style=\"text-align: right;\">                0</td><td style=\"text-align: right;\">                0</td><td style=\"text-align: right;\">                0</td><td style=\"text-align: right;\">                0</td><td style=\"text-align: right;\">                0</td><td style=\"text-align: right;\">                0</td><td style=\"text-align: right;\">                0</td><td style=\"text-align: right;\">                0</td><td style=\"text-align: right;\">                0</td><td style=\"text-align: right;\">                0</td><td style=\"text-align: right;\">                0</td><td style=\"text-align: right;\">                0</td><td style=\"text-align: right;\">                0</td><td style=\"text-align: right;\">                0</td><td style=\"text-align: right;\">                0</td><td style=\"text-align: right;\">                0</td><td style=\"text-align: right;\">                0</td><td style=\"text-align: right;\">                0</td><td style=\"text-align: right;\">                0</td><td style=\"text-align: right;\">                0</td><td style=\"text-align: right;\">                0</td><td style=\"text-align: right;\">                0</td><td style=\"text-align: right;\">                0</td><td style=\"text-align: right;\">                0</td><td style=\"text-align: right;\">                0</td><td style=\"text-align: right;\">                0</td><td style=\"text-align: right;\">                0</td><td style=\"text-align: right;\">                0</td><td style=\"text-align: right;\">                0</td><td style=\"text-align: right;\">                0</td><td style=\"text-align: right;\">                0</td><td style=\"text-align: right;\">                0</td><td style=\"text-align: right;\">                0</td><td style=\"text-align: right;\">                0</td><td style=\"text-align: right;\">                0</td><td style=\"text-align: right;\">                0</td><td style=\"text-align: right;\">                0</td><td style=\"text-align: right;\">                0</td><td style=\"text-align: right;\">                0</td><td style=\"text-align: right;\">                0</td><td style=\"text-align: right;\">                0</td><td style=\"text-align: right;\">                0</td><td style=\"text-align: right;\">                0</td><td style=\"text-align: right;\">                0</td><td style=\"text-align: right;\">                0</td><td style=\"text-align: right;\">                0</td><td style=\"text-align: right;\">                0</td><td style=\"text-align: right;\">                0</td><td style=\"text-align: right;\">                0</td><td style=\"text-align: right;\">                0</td><td style=\"text-align: right;\">                0</td><td style=\"text-align: right;\">                0</td><td style=\"text-align: right;\">                0</td><td style=\"text-align: right;\">                0</td><td style=\"text-align: right;\">                0</td><td style=\"text-align: right;\">                0</td><td style=\"text-align: right;\">                0</td><td style=\"text-align: right;\">                0</td><td style=\"text-align: right;\">                0</td><td style=\"text-align: right;\">                0</td><td style=\"text-align: right;\">                0</td><td style=\"text-align: right;\">                0</td><td style=\"text-align: right;\">                0</td><td style=\"text-align: right;\">                0</td><td style=\"text-align: right;\">                0</td><td style=\"text-align: right;\">                0</td><td style=\"text-align: right;\">                0</td><td style=\"text-align: right;\">                0</td><td style=\"text-align: right;\">                0</td><td style=\"text-align: right;\">                0</td><td style=\"text-align: right;\">                0</td><td style=\"text-align: right;\">                0</td><td style=\"text-align: right;\">                0</td><td style=\"text-align: right;\">                0</td><td style=\"text-align: right;\">                0</td><td style=\"text-align: right;\">                0</td><td style=\"text-align: right;\">                0</td><td style=\"text-align: right;\">                0</td><td style=\"text-align: right;\">                0</td><td style=\"text-align: right;\">                0</td><td style=\"text-align: right;\">                0</td><td style=\"text-align: right;\">                0</td><td style=\"text-align: right;\">                0</td><td style=\"text-align: right;\">                0</td><td style=\"text-align: right;\">                0</td><td style=\"text-align: right;\">                0</td><td style=\"text-align: right;\">                0</td><td style=\"text-align: right;\">                0</td><td style=\"text-align: right;\">                0</td><td style=\"text-align: right;\">                0</td><td style=\"text-align: right;\">                0</td></tr>\n",
       "</tbody>\n",
       "</table>"
      ]
     },
     "metadata": {},
     "output_type": "display_data"
    },
    {
     "data": {
      "text/plain": []
     },
     "execution_count": 47,
     "metadata": {},
     "output_type": "execute_result"
    }
   ],
   "source": [
    "mono_resistance_frame = h2o.H2OFrame(mono_resistance_df)\n",
    "mono_resistance_frame.head()"
   ]
  },
  {
   "cell_type": "code",
   "execution_count": 8,
   "metadata": {},
   "outputs": [
    {
     "data": {
      "text/plain": [
       "'isResistant'"
      ]
     },
     "execution_count": 8,
     "metadata": {},
     "output_type": "execute_result"
    }
   ],
   "source": [
    "mono_resistance_df.columns[-1]"
   ]
  },
  {
   "cell_type": "code",
   "execution_count": 6,
   "metadata": {},
   "outputs": [
    {
     "data": {
      "text/html": [
       "<table>\n",
       "<thead>\n",
       "<tr><th style=\"text-align: right;\">  isResistant</th></tr>\n",
       "</thead>\n",
       "<tbody>\n",
       "<tr><td style=\"text-align: right;\">            0</td></tr>\n",
       "<tr><td style=\"text-align: right;\">            0</td></tr>\n",
       "<tr><td style=\"text-align: right;\">            1</td></tr>\n",
       "<tr><td style=\"text-align: right;\">            1</td></tr>\n",
       "<tr><td style=\"text-align: right;\">            0</td></tr>\n",
       "<tr><td style=\"text-align: right;\">            0</td></tr>\n",
       "<tr><td style=\"text-align: right;\">            1</td></tr>\n",
       "<tr><td style=\"text-align: right;\">            1</td></tr>\n",
       "<tr><td style=\"text-align: right;\">            1</td></tr>\n",
       "<tr><td style=\"text-align: right;\">            1</td></tr>\n",
       "</tbody>\n",
       "</table>"
      ]
     },
     "metadata": {},
     "output_type": "display_data"
    },
    {
     "data": {
      "text/plain": []
     },
     "execution_count": 6,
     "metadata": {},
     "output_type": "execute_result"
    }
   ],
   "source": [
    "mono_resistance_df['isResistant'].head()"
   ]
  },
  {
   "cell_type": "code",
   "execution_count": 16,
   "metadata": {
    "pycharm": {
     "name": "#%%\n"
    }
   },
   "outputs": [],
   "source": [
    "train, test = mono_resistance_frame.split_frame(ratios=[.70], seed=1234)"
   ]
  },
  {
   "cell_type": "code",
   "execution_count": 17,
   "metadata": {
    "pycharm": {
     "name": "#%%\n"
    }
   },
   "outputs": [
    {
     "data": {
      "text/html": [
       "<table>\n",
       "<thead>\n",
       "<tr><th style=\"text-align: right;\">  NC000962_3.4410070</th><th style=\"text-align: right;\">  NC000962_3.4410276</th><th style=\"text-align: right;\">  NC000962_3.4410309</th><th style=\"text-align: right;\">  NC000962_3.4410847</th><th style=\"text-align: right;\">  NC000962_3.4411128</th><th style=\"text-align: right;\">  NC000962_3.4411245</th><th style=\"text-align: right;\">  NC000962_3.4411286</th><th style=\"text-align: right;\">  NC000962_3.4411405</th><th style=\"text-align: right;\">  NC000962_3.4411518</th><th style=\"text-align: right;\">  isResistant</th></tr>\n",
       "</thead>\n",
       "<tbody>\n",
       "<tr><td style=\"text-align: right;\">                   0</td><td style=\"text-align: right;\">                   0</td><td style=\"text-align: right;\">                   0</td><td style=\"text-align: right;\">                   0</td><td style=\"text-align: right;\">                   0</td><td style=\"text-align: right;\">                   0</td><td style=\"text-align: right;\">                   0</td><td style=\"text-align: right;\">                   0</td><td style=\"text-align: right;\">                   0</td><td style=\"text-align: right;\">            0</td></tr>\n",
       "<tr><td style=\"text-align: right;\">                   0</td><td style=\"text-align: right;\">                   0</td><td style=\"text-align: right;\">                   0</td><td style=\"text-align: right;\">                   0</td><td style=\"text-align: right;\">                   0</td><td style=\"text-align: right;\">                   0</td><td style=\"text-align: right;\">                   0</td><td style=\"text-align: right;\">                   0</td><td style=\"text-align: right;\">                   0</td><td style=\"text-align: right;\">            1</td></tr>\n",
       "<tr><td style=\"text-align: right;\">                   0</td><td style=\"text-align: right;\">                   0</td><td style=\"text-align: right;\">                   0</td><td style=\"text-align: right;\">                   0</td><td style=\"text-align: right;\">                   0</td><td style=\"text-align: right;\">                   0</td><td style=\"text-align: right;\">                   0</td><td style=\"text-align: right;\">                   0</td><td style=\"text-align: right;\">                   0</td><td style=\"text-align: right;\">            1</td></tr>\n",
       "<tr><td style=\"text-align: right;\">                   0</td><td style=\"text-align: right;\">                   0</td><td style=\"text-align: right;\">                   0</td><td style=\"text-align: right;\">                   0</td><td style=\"text-align: right;\">                   0</td><td style=\"text-align: right;\">                   0</td><td style=\"text-align: right;\">                   0</td><td style=\"text-align: right;\">                   0</td><td style=\"text-align: right;\">                   0</td><td style=\"text-align: right;\">            1</td></tr>\n",
       "<tr><td style=\"text-align: right;\">                   0</td><td style=\"text-align: right;\">                   0</td><td style=\"text-align: right;\">                   0</td><td style=\"text-align: right;\">                   0</td><td style=\"text-align: right;\">                   0</td><td style=\"text-align: right;\">                   0</td><td style=\"text-align: right;\">                   0</td><td style=\"text-align: right;\">                   0</td><td style=\"text-align: right;\">                   0</td><td style=\"text-align: right;\">            1</td></tr>\n",
       "<tr><td style=\"text-align: right;\">                   0</td><td style=\"text-align: right;\">                   0</td><td style=\"text-align: right;\">                   0</td><td style=\"text-align: right;\">                   0</td><td style=\"text-align: right;\">                   0</td><td style=\"text-align: right;\">                   0</td><td style=\"text-align: right;\">                   0</td><td style=\"text-align: right;\">                   0</td><td style=\"text-align: right;\">                   0</td><td style=\"text-align: right;\">            1</td></tr>\n",
       "<tr><td style=\"text-align: right;\">                   0</td><td style=\"text-align: right;\">                   0</td><td style=\"text-align: right;\">                   0</td><td style=\"text-align: right;\">                   0</td><td style=\"text-align: right;\">                   0</td><td style=\"text-align: right;\">                   0</td><td style=\"text-align: right;\">                   0</td><td style=\"text-align: right;\">                   0</td><td style=\"text-align: right;\">                   0</td><td style=\"text-align: right;\">            1</td></tr>\n",
       "<tr><td style=\"text-align: right;\">                   0</td><td style=\"text-align: right;\">                   0</td><td style=\"text-align: right;\">                   0</td><td style=\"text-align: right;\">                   0</td><td style=\"text-align: right;\">                   0</td><td style=\"text-align: right;\">                   0</td><td style=\"text-align: right;\">                   0</td><td style=\"text-align: right;\">                   0</td><td style=\"text-align: right;\">                   0</td><td style=\"text-align: right;\">            1</td></tr>\n",
       "<tr><td style=\"text-align: right;\">                   0</td><td style=\"text-align: right;\">                   0</td><td style=\"text-align: right;\">                   0</td><td style=\"text-align: right;\">                   0</td><td style=\"text-align: right;\">                   0</td><td style=\"text-align: right;\">                   0</td><td style=\"text-align: right;\">                   0</td><td style=\"text-align: right;\">                   0</td><td style=\"text-align: right;\">                   0</td><td style=\"text-align: right;\">            0</td></tr>\n",
       "<tr><td style=\"text-align: right;\">                   0</td><td style=\"text-align: right;\">                   0</td><td style=\"text-align: right;\">                   0</td><td style=\"text-align: right;\">                   0</td><td style=\"text-align: right;\">                   0</td><td style=\"text-align: right;\">                   0</td><td style=\"text-align: right;\">                   0</td><td style=\"text-align: right;\">                   0</td><td style=\"text-align: right;\">                   0</td><td style=\"text-align: right;\">            1</td></tr>\n",
       "</tbody>\n",
       "</table>"
      ]
     },
     "metadata": {},
     "output_type": "display_data"
    },
    {
     "data": {
      "text/plain": []
     },
     "execution_count": 17,
     "metadata": {},
     "output_type": "execute_result"
    }
   ],
   "source": [
    "test.head()\n"
   ]
  },
  {
   "cell_type": "code",
   "execution_count": 18,
   "metadata": {
    "pycharm": {
     "name": "#%%\n"
    },
    "scrolled": true
   },
   "outputs": [
    {
     "data": {
      "text/html": [
       "<table>\n",
       "<thead>\n",
       "<tr><th style=\"text-align: right;\">  NC000962_3.4410070</th><th style=\"text-align: right;\">  NC000962_3.4410276</th><th style=\"text-align: right;\">  NC000962_3.4410309</th><th style=\"text-align: right;\">  NC000962_3.4410847</th><th style=\"text-align: right;\">  NC000962_3.4411128</th><th style=\"text-align: right;\">  NC000962_3.4411245</th><th style=\"text-align: right;\">  NC000962_3.4411286</th><th style=\"text-align: right;\">  NC000962_3.4411405</th><th style=\"text-align: right;\">  NC000962_3.4411518</th><th style=\"text-align: right;\">  isResistant</th></tr>\n",
       "</thead>\n",
       "<tbody>\n",
       "<tr><td style=\"text-align: right;\">                   0</td><td style=\"text-align: right;\">                   0</td><td style=\"text-align: right;\">                   0</td><td style=\"text-align: right;\">                   0</td><td style=\"text-align: right;\">                   0</td><td style=\"text-align: right;\">                   0</td><td style=\"text-align: right;\">                   0</td><td style=\"text-align: right;\">                   0</td><td style=\"text-align: right;\">                   0</td><td style=\"text-align: right;\">            0</td></tr>\n",
       "<tr><td style=\"text-align: right;\">                   0</td><td style=\"text-align: right;\">                   0</td><td style=\"text-align: right;\">                   0</td><td style=\"text-align: right;\">                   0</td><td style=\"text-align: right;\">                   0</td><td style=\"text-align: right;\">                   0</td><td style=\"text-align: right;\">                   0</td><td style=\"text-align: right;\">                   0</td><td style=\"text-align: right;\">                   0</td><td style=\"text-align: right;\">            1</td></tr>\n",
       "<tr><td style=\"text-align: right;\">                   0</td><td style=\"text-align: right;\">                   0</td><td style=\"text-align: right;\">                   0</td><td style=\"text-align: right;\">                   0</td><td style=\"text-align: right;\">                   0</td><td style=\"text-align: right;\">                   0</td><td style=\"text-align: right;\">                   0</td><td style=\"text-align: right;\">                   0</td><td style=\"text-align: right;\">                   0</td><td style=\"text-align: right;\">            0</td></tr>\n",
       "<tr><td style=\"text-align: right;\">                   0</td><td style=\"text-align: right;\">                   0</td><td style=\"text-align: right;\">                   0</td><td style=\"text-align: right;\">                   0</td><td style=\"text-align: right;\">                   0</td><td style=\"text-align: right;\">                   0</td><td style=\"text-align: right;\">                   0</td><td style=\"text-align: right;\">                   0</td><td style=\"text-align: right;\">                   0</td><td style=\"text-align: right;\">            0</td></tr>\n",
       "<tr><td style=\"text-align: right;\">                   0</td><td style=\"text-align: right;\">                   0</td><td style=\"text-align: right;\">                   0</td><td style=\"text-align: right;\">                   0</td><td style=\"text-align: right;\">                   0</td><td style=\"text-align: right;\">                   0</td><td style=\"text-align: right;\">                   0</td><td style=\"text-align: right;\">                   0</td><td style=\"text-align: right;\">                   0</td><td style=\"text-align: right;\">            1</td></tr>\n",
       "<tr><td style=\"text-align: right;\">                   0</td><td style=\"text-align: right;\">                   0</td><td style=\"text-align: right;\">                   0</td><td style=\"text-align: right;\">                   0</td><td style=\"text-align: right;\">                   0</td><td style=\"text-align: right;\">                   0</td><td style=\"text-align: right;\">                   0</td><td style=\"text-align: right;\">                   0</td><td style=\"text-align: right;\">                   0</td><td style=\"text-align: right;\">            1</td></tr>\n",
       "<tr><td style=\"text-align: right;\">                   0</td><td style=\"text-align: right;\">                   0</td><td style=\"text-align: right;\">                   0</td><td style=\"text-align: right;\">                   0</td><td style=\"text-align: right;\">                   0</td><td style=\"text-align: right;\">                   0</td><td style=\"text-align: right;\">                   0</td><td style=\"text-align: right;\">                   0</td><td style=\"text-align: right;\">                   0</td><td style=\"text-align: right;\">            1</td></tr>\n",
       "<tr><td style=\"text-align: right;\">                   0</td><td style=\"text-align: right;\">                   0</td><td style=\"text-align: right;\">                   0</td><td style=\"text-align: right;\">                   0</td><td style=\"text-align: right;\">                   0</td><td style=\"text-align: right;\">                   0</td><td style=\"text-align: right;\">                   0</td><td style=\"text-align: right;\">                   0</td><td style=\"text-align: right;\">                   0</td><td style=\"text-align: right;\">            1</td></tr>\n",
       "<tr><td style=\"text-align: right;\">                   0</td><td style=\"text-align: right;\">                   0</td><td style=\"text-align: right;\">                   0</td><td style=\"text-align: right;\">                   0</td><td style=\"text-align: right;\">                   0</td><td style=\"text-align: right;\">                   0</td><td style=\"text-align: right;\">                   0</td><td style=\"text-align: right;\">                   0</td><td style=\"text-align: right;\">                   0</td><td style=\"text-align: right;\">            1</td></tr>\n",
       "<tr><td style=\"text-align: right;\">                   0</td><td style=\"text-align: right;\">                   0</td><td style=\"text-align: right;\">                   0</td><td style=\"text-align: right;\">                   0</td><td style=\"text-align: right;\">                   0</td><td style=\"text-align: right;\">                   0</td><td style=\"text-align: right;\">                   0</td><td style=\"text-align: right;\">                   0</td><td style=\"text-align: right;\">                   0</td><td style=\"text-align: right;\">            1</td></tr>\n",
       "</tbody>\n",
       "</table>"
      ]
     },
     "metadata": {},
     "output_type": "display_data"
    },
    {
     "data": {
      "text/plain": []
     },
     "execution_count": 18,
     "metadata": {},
     "output_type": "execute_result"
    }
   ],
   "source": [
    "train.head()\n"
   ]
  },
  {
   "cell_type": "code",
   "execution_count": null,
   "metadata": {},
   "outputs": [
    {
     "name": "stdout",
     "output_type": "stream",
     "text": [
      "Export File progress: |██"
     ]
    }
   ],
   "source": [
    "h2o.export_file(mono_resistance_frame, \"../data/processed/mono_resistance_frame.csv\")"
   ]
  },
  {
   "cell_type": "code",
   "execution_count": 27,
   "metadata": {
    "pycharm": {
     "name": "#%%\n"
    }
   },
   "outputs": [
    {
     "name": "stdout",
     "output_type": "stream",
     "text": [
      "Parse progress: |█████████████████████████████████████████████████████████| 100%\n",
      "Parse progress: |█████████████████████████████████████████████████████████| 100%\n"
     ]
    }
   ],
   "source": [
    "# Import a sample binary outcome train/test set into H2O\n",
    "train_higgs = h2o.import_file(\"../data/external/higgs_train_10k.csv\")\n",
    "test_higgs = h2o.import_file(\"../data/external/higgs_test_5k.csv\")\n"
   ]
  },
  {
   "cell_type": "code",
   "execution_count": 28,
   "metadata": {
    "pycharm": {
     "name": "#%%\n"
    },
    "scrolled": true
   },
   "outputs": [
    {
     "data": {
      "text/html": [
       "<table>\n",
       "<thead>\n",
       "<tr><th style=\"text-align: right;\">   x1</th><th style=\"text-align: right;\">    x2</th><th style=\"text-align: right;\">      x3</th><th style=\"text-align: right;\">   x4</th><th style=\"text-align: right;\">    x5</th><th style=\"text-align: right;\">   x6</th><th style=\"text-align: right;\">     x7</th><th style=\"text-align: right;\">     x8</th><th style=\"text-align: right;\">  x9</th><th style=\"text-align: right;\">  x10</th><th style=\"text-align: right;\">   x11</th><th style=\"text-align: right;\">   x12</th><th style=\"text-align: right;\">  x13</th><th style=\"text-align: right;\">  x14</th><th style=\"text-align: right;\">    x15</th><th style=\"text-align: right;\">   x16</th><th style=\"text-align: right;\">  x17</th><th style=\"text-align: right;\">  x18</th><th style=\"text-align: right;\">    x19</th><th style=\"text-align: right;\">      x20</th><th style=\"text-align: right;\">  x21</th><th style=\"text-align: right;\">  x22</th><th style=\"text-align: right;\">  x23</th><th style=\"text-align: right;\">  x24</th><th style=\"text-align: right;\">  x25</th><th style=\"text-align: right;\">  x26</th><th style=\"text-align: right;\">  x27</th><th style=\"text-align: right;\">  x28</th><th style=\"text-align: right;\">  response</th></tr>\n",
       "</thead>\n",
       "<tbody>\n",
       "<tr><td style=\"text-align: right;\">0.869</td><td style=\"text-align: right;\">-0.635</td><td style=\"text-align: right;\"> 0.226  </td><td style=\"text-align: right;\">0.327</td><td style=\"text-align: right;\">-0.69 </td><td style=\"text-align: right;\">0.754</td><td style=\"text-align: right;\">-0.249 </td><td style=\"text-align: right;\">-1.09  </td><td style=\"text-align: right;\">0   </td><td style=\"text-align: right;\">1.37 </td><td style=\"text-align: right;\">-0.654</td><td style=\"text-align: right;\"> 0.93 </td><td style=\"text-align: right;\"> 1.11</td><td style=\"text-align: right;\">1.14 </td><td style=\"text-align: right;\">-1.58  </td><td style=\"text-align: right;\">-1.05 </td><td style=\"text-align: right;\"> 0   </td><td style=\"text-align: right;\">0.658</td><td style=\"text-align: right;\">-0.0105</td><td style=\"text-align: right;\">-0.0458  </td><td style=\"text-align: right;\">  3.1</td><td style=\"text-align: right;\">1.35 </td><td style=\"text-align: right;\">0.98 </td><td style=\"text-align: right;\">0.978</td><td style=\"text-align: right;\">0.92 </td><td style=\"text-align: right;\">0.722</td><td style=\"text-align: right;\">0.989</td><td style=\"text-align: right;\">0.877</td><td style=\"text-align: right;\">         1</td></tr>\n",
       "<tr><td style=\"text-align: right;\">0.908</td><td style=\"text-align: right;\"> 0.329</td><td style=\"text-align: right;\"> 0.359  </td><td style=\"text-align: right;\">1.5  </td><td style=\"text-align: right;\">-0.313</td><td style=\"text-align: right;\">1.1  </td><td style=\"text-align: right;\">-0.558 </td><td style=\"text-align: right;\">-1.59  </td><td style=\"text-align: right;\">2.17</td><td style=\"text-align: right;\">0.813</td><td style=\"text-align: right;\">-0.214</td><td style=\"text-align: right;\"> 1.27 </td><td style=\"text-align: right;\"> 2.21</td><td style=\"text-align: right;\">0.5  </td><td style=\"text-align: right;\">-1.26  </td><td style=\"text-align: right;\"> 0.732</td><td style=\"text-align: right;\"> 0   </td><td style=\"text-align: right;\">0.399</td><td style=\"text-align: right;\">-1.14  </td><td style=\"text-align: right;\">-0.000819</td><td style=\"text-align: right;\">  0  </td><td style=\"text-align: right;\">0.302</td><td style=\"text-align: right;\">0.833</td><td style=\"text-align: right;\">0.986</td><td style=\"text-align: right;\">0.978</td><td style=\"text-align: right;\">0.78 </td><td style=\"text-align: right;\">0.992</td><td style=\"text-align: right;\">0.798</td><td style=\"text-align: right;\">         1</td></tr>\n",
       "<tr><td style=\"text-align: right;\">0.799</td><td style=\"text-align: right;\"> 1.47 </td><td style=\"text-align: right;\">-1.64   </td><td style=\"text-align: right;\">0.454</td><td style=\"text-align: right;\"> 0.426</td><td style=\"text-align: right;\">1.1  </td><td style=\"text-align: right;\"> 1.28  </td><td style=\"text-align: right;\"> 1.38  </td><td style=\"text-align: right;\">0   </td><td style=\"text-align: right;\">0.852</td><td style=\"text-align: right;\"> 1.54 </td><td style=\"text-align: right;\">-0.82 </td><td style=\"text-align: right;\"> 2.21</td><td style=\"text-align: right;\">0.993</td><td style=\"text-align: right;\"> 0.356 </td><td style=\"text-align: right;\">-0.209</td><td style=\"text-align: right;\"> 2.55</td><td style=\"text-align: right;\">1.26 </td><td style=\"text-align: right;\"> 1.13  </td><td style=\"text-align: right;\"> 0.9     </td><td style=\"text-align: right;\">  0  </td><td style=\"text-align: right;\">0.91 </td><td style=\"text-align: right;\">1.11 </td><td style=\"text-align: right;\">0.986</td><td style=\"text-align: right;\">0.951</td><td style=\"text-align: right;\">0.803</td><td style=\"text-align: right;\">0.866</td><td style=\"text-align: right;\">0.78 </td><td style=\"text-align: right;\">         1</td></tr>\n",
       "<tr><td style=\"text-align: right;\">1.34 </td><td style=\"text-align: right;\">-0.877</td><td style=\"text-align: right;\"> 0.936  </td><td style=\"text-align: right;\">1.99 </td><td style=\"text-align: right;\"> 0.882</td><td style=\"text-align: right;\">1.79 </td><td style=\"text-align: right;\">-1.65  </td><td style=\"text-align: right;\">-0.942 </td><td style=\"text-align: right;\">0   </td><td style=\"text-align: right;\">2.42 </td><td style=\"text-align: right;\">-0.676</td><td style=\"text-align: right;\"> 0.736</td><td style=\"text-align: right;\"> 2.21</td><td style=\"text-align: right;\">1.3  </td><td style=\"text-align: right;\">-1.43  </td><td style=\"text-align: right;\">-0.365</td><td style=\"text-align: right;\"> 0   </td><td style=\"text-align: right;\">0.745</td><td style=\"text-align: right;\">-0.678 </td><td style=\"text-align: right;\">-1.36    </td><td style=\"text-align: right;\">  0  </td><td style=\"text-align: right;\">0.947</td><td style=\"text-align: right;\">1.03 </td><td style=\"text-align: right;\">0.999</td><td style=\"text-align: right;\">0.728</td><td style=\"text-align: right;\">0.869</td><td style=\"text-align: right;\">1.03 </td><td style=\"text-align: right;\">0.958</td><td style=\"text-align: right;\">         0</td></tr>\n",
       "<tr><td style=\"text-align: right;\">1.11 </td><td style=\"text-align: right;\"> 0.321</td><td style=\"text-align: right;\"> 1.52   </td><td style=\"text-align: right;\">0.883</td><td style=\"text-align: right;\">-1.21 </td><td style=\"text-align: right;\">0.681</td><td style=\"text-align: right;\">-1.07  </td><td style=\"text-align: right;\">-0.922 </td><td style=\"text-align: right;\">0   </td><td style=\"text-align: right;\">0.801</td><td style=\"text-align: right;\"> 1.02 </td><td style=\"text-align: right;\"> 0.971</td><td style=\"text-align: right;\"> 2.21</td><td style=\"text-align: right;\">0.597</td><td style=\"text-align: right;\">-0.35  </td><td style=\"text-align: right;\"> 0.631</td><td style=\"text-align: right;\"> 0   </td><td style=\"text-align: right;\">0.48 </td><td style=\"text-align: right;\">-0.374 </td><td style=\"text-align: right;\"> 0.113   </td><td style=\"text-align: right;\">  0  </td><td style=\"text-align: right;\">0.756</td><td style=\"text-align: right;\">1.36 </td><td style=\"text-align: right;\">0.987</td><td style=\"text-align: right;\">0.838</td><td style=\"text-align: right;\">1.13 </td><td style=\"text-align: right;\">0.872</td><td style=\"text-align: right;\">0.808</td><td style=\"text-align: right;\">         1</td></tr>\n",
       "<tr><td style=\"text-align: right;\">1.6  </td><td style=\"text-align: right;\">-0.608</td><td style=\"text-align: right;\"> 0.00707</td><td style=\"text-align: right;\">1.82 </td><td style=\"text-align: right;\">-0.112</td><td style=\"text-align: right;\">0.848</td><td style=\"text-align: right;\">-0.566 </td><td style=\"text-align: right;\"> 1.58  </td><td style=\"text-align: right;\">2.17</td><td style=\"text-align: right;\">0.755</td><td style=\"text-align: right;\"> 0.643</td><td style=\"text-align: right;\"> 1.43 </td><td style=\"text-align: right;\"> 0   </td><td style=\"text-align: right;\">0.922</td><td style=\"text-align: right;\">-1.19  </td><td style=\"text-align: right;\">-1.62 </td><td style=\"text-align: right;\"> 0   </td><td style=\"text-align: right;\">0.651</td><td style=\"text-align: right;\">-0.654 </td><td style=\"text-align: right;\">-1.27    </td><td style=\"text-align: right;\">  3.1</td><td style=\"text-align: right;\">0.824</td><td style=\"text-align: right;\">0.938</td><td style=\"text-align: right;\">0.972</td><td style=\"text-align: right;\">0.789</td><td style=\"text-align: right;\">0.431</td><td style=\"text-align: right;\">0.961</td><td style=\"text-align: right;\">0.958</td><td style=\"text-align: right;\">         0</td></tr>\n",
       "<tr><td style=\"text-align: right;\">0.409</td><td style=\"text-align: right;\">-1.88 </td><td style=\"text-align: right;\">-1.03   </td><td style=\"text-align: right;\">1.67 </td><td style=\"text-align: right;\">-1.6  </td><td style=\"text-align: right;\">1.34 </td><td style=\"text-align: right;\"> 0.0554</td><td style=\"text-align: right;\"> 0.0135</td><td style=\"text-align: right;\">2.17</td><td style=\"text-align: right;\">0.51 </td><td style=\"text-align: right;\">-1.04 </td><td style=\"text-align: right;\"> 0.708</td><td style=\"text-align: right;\"> 0   </td><td style=\"text-align: right;\">0.747</td><td style=\"text-align: right;\">-0.358 </td><td style=\"text-align: right;\">-1.65 </td><td style=\"text-align: right;\"> 0   </td><td style=\"text-align: right;\">0.367</td><td style=\"text-align: right;\"> 0.0695</td><td style=\"text-align: right;\"> 1.38    </td><td style=\"text-align: right;\">  3.1</td><td style=\"text-align: right;\">0.869</td><td style=\"text-align: right;\">1.22 </td><td style=\"text-align: right;\">1    </td><td style=\"text-align: right;\">0.545</td><td style=\"text-align: right;\">0.699</td><td style=\"text-align: right;\">0.977</td><td style=\"text-align: right;\">0.829</td><td style=\"text-align: right;\">         1</td></tr>\n",
       "<tr><td style=\"text-align: right;\">0.934</td><td style=\"text-align: right;\"> 0.629</td><td style=\"text-align: right;\"> 0.528  </td><td style=\"text-align: right;\">0.238</td><td style=\"text-align: right;\">-0.967</td><td style=\"text-align: right;\">0.548</td><td style=\"text-align: right;\">-0.0594</td><td style=\"text-align: right;\">-1.71  </td><td style=\"text-align: right;\">2.17</td><td style=\"text-align: right;\">0.941</td><td style=\"text-align: right;\">-2.65 </td><td style=\"text-align: right;\">-0.157</td><td style=\"text-align: right;\"> 0   </td><td style=\"text-align: right;\">1.03 </td><td style=\"text-align: right;\">-0.176 </td><td style=\"text-align: right;\"> 0.523</td><td style=\"text-align: right;\"> 2.55</td><td style=\"text-align: right;\">1.37 </td><td style=\"text-align: right;\"> 1.29  </td><td style=\"text-align: right;\">-1.47    </td><td style=\"text-align: right;\">  0  </td><td style=\"text-align: right;\">0.902</td><td style=\"text-align: right;\">1.08 </td><td style=\"text-align: right;\">0.98 </td><td style=\"text-align: right;\">0.783</td><td style=\"text-align: right;\">0.849</td><td style=\"text-align: right;\">0.894</td><td style=\"text-align: right;\">0.775</td><td style=\"text-align: right;\">         1</td></tr>\n",
       "<tr><td style=\"text-align: right;\">1.41 </td><td style=\"text-align: right;\"> 0.537</td><td style=\"text-align: right;\"> 0.69   </td><td style=\"text-align: right;\">1.18 </td><td style=\"text-align: right;\">-0.11 </td><td style=\"text-align: right;\">3.2  </td><td style=\"text-align: right;\">-1.53  </td><td style=\"text-align: right;\">-1.58  </td><td style=\"text-align: right;\">0   </td><td style=\"text-align: right;\">2.93 </td><td style=\"text-align: right;\"> 0.567</td><td style=\"text-align: right;\">-0.13 </td><td style=\"text-align: right;\"> 2.21</td><td style=\"text-align: right;\">1.79 </td><td style=\"text-align: right;\"> 0.899 </td><td style=\"text-align: right;\"> 0.585</td><td style=\"text-align: right;\"> 2.55</td><td style=\"text-align: right;\">0.402</td><td style=\"text-align: right;\">-0.151 </td><td style=\"text-align: right;\"> 1.16    </td><td style=\"text-align: right;\">  0  </td><td style=\"text-align: right;\">1.67 </td><td style=\"text-align: right;\">4.04 </td><td style=\"text-align: right;\">1.18 </td><td style=\"text-align: right;\">1.05 </td><td style=\"text-align: right;\">1.54 </td><td style=\"text-align: right;\">3.53 </td><td style=\"text-align: right;\">2.74 </td><td style=\"text-align: right;\">         1</td></tr>\n",
       "<tr><td style=\"text-align: right;\">1.18 </td><td style=\"text-align: right;\"> 0.104</td><td style=\"text-align: right;\"> 1.4    </td><td style=\"text-align: right;\">0.48 </td><td style=\"text-align: right;\"> 0.266</td><td style=\"text-align: right;\">1.14 </td><td style=\"text-align: right;\"> 1.53  </td><td style=\"text-align: right;\">-0.253 </td><td style=\"text-align: right;\">0   </td><td style=\"text-align: right;\">1.03 </td><td style=\"text-align: right;\"> 0.534</td><td style=\"text-align: right;\"> 1.18 </td><td style=\"text-align: right;\"> 0   </td><td style=\"text-align: right;\">2.41 </td><td style=\"text-align: right;\"> 0.0876</td><td style=\"text-align: right;\">-0.977</td><td style=\"text-align: right;\"> 2.55</td><td style=\"text-align: right;\">1.25 </td><td style=\"text-align: right;\"> 0.269 </td><td style=\"text-align: right;\"> 0.53    </td><td style=\"text-align: right;\">  0  </td><td style=\"text-align: right;\">0.833</td><td style=\"text-align: right;\">0.774</td><td style=\"text-align: right;\">0.986</td><td style=\"text-align: right;\">1.1  </td><td style=\"text-align: right;\">0.849</td><td style=\"text-align: right;\">0.937</td><td style=\"text-align: right;\">0.812</td><td style=\"text-align: right;\">         1</td></tr>\n",
       "</tbody>\n",
       "</table>"
      ]
     },
     "metadata": {},
     "output_type": "display_data"
    },
    {
     "data": {
      "text/plain": []
     },
     "execution_count": 28,
     "metadata": {},
     "output_type": "execute_result"
    }
   ],
   "source": [
    "train = train_higgs\n",
    "train_higgs.head()"
   ]
  },
  {
   "cell_type": "code",
   "execution_count": 29,
   "metadata": {
    "pycharm": {
     "name": "#%%\n"
    },
    "scrolled": true
   },
   "outputs": [
    {
     "data": {
      "text/html": [
       "<table>\n",
       "<thead>\n",
       "<tr><th style=\"text-align: right;\">      x1</th><th style=\"text-align: right;\">       x2</th><th style=\"text-align: right;\">       x3</th><th style=\"text-align: right;\">      x4</th><th style=\"text-align: right;\">        x5</th><th style=\"text-align: right;\">      x6</th><th style=\"text-align: right;\">        x7</th><th style=\"text-align: right;\">       x8</th><th style=\"text-align: right;\">     x9</th><th style=\"text-align: right;\">     x10</th><th style=\"text-align: right;\">        x11</th><th style=\"text-align: right;\">       x12</th><th style=\"text-align: right;\">    x13</th><th style=\"text-align: right;\">     x14</th><th style=\"text-align: right;\">       x15</th><th style=\"text-align: right;\">      x16</th><th style=\"text-align: right;\">    x17</th><th style=\"text-align: right;\">     x18</th><th style=\"text-align: right;\">        x19</th><th style=\"text-align: right;\">       x20</th><th style=\"text-align: right;\">    x21</th><th style=\"text-align: right;\">     x22</th><th style=\"text-align: right;\">     x23</th><th style=\"text-align: right;\">     x24</th><th style=\"text-align: right;\">     x25</th><th style=\"text-align: right;\">     x26</th><th style=\"text-align: right;\">     x27</th><th style=\"text-align: right;\">     x28</th><th style=\"text-align: right;\">  response</th></tr>\n",
       "</thead>\n",
       "<tbody>\n",
       "<tr><td style=\"text-align: right;\">0.623878</td><td style=\"text-align: right;\"> 0.459659</td><td style=\"text-align: right;\">-0.316512</td><td style=\"text-align: right;\">1.55701 </td><td style=\"text-align: right;\"> 0.644784 </td><td style=\"text-align: right;\">0.455929</td><td style=\"text-align: right;\">-2.24983  </td><td style=\"text-align: right;\">-0.361949</td><td style=\"text-align: right;\">0      </td><td style=\"text-align: right;\">0.832978</td><td style=\"text-align: right;\"> 1.41147   </td><td style=\"text-align: right;\"> 1.52846  </td><td style=\"text-align: right;\">0      </td><td style=\"text-align: right;\">0.722857</td><td style=\"text-align: right;\"> 1.00964  </td><td style=\"text-align: right;\"> 0.999539</td><td style=\"text-align: right;\">0      </td><td style=\"text-align: right;\">1.19099 </td><td style=\"text-align: right;\"> 0.81404   </td><td style=\"text-align: right;\">-0.879803 </td><td style=\"text-align: right;\">3.10196</td><td style=\"text-align: right;\">0.583344</td><td style=\"text-align: right;\">0.790246</td><td style=\"text-align: right;\">1.04087 </td><td style=\"text-align: right;\">0.848858</td><td style=\"text-align: right;\">0.229702</td><td style=\"text-align: right;\">0.65594 </td><td style=\"text-align: right;\">0.677857</td><td style=\"text-align: right;\">         0</td></tr>\n",
       "<tr><td style=\"text-align: right;\">1.68204 </td><td style=\"text-align: right;\"> 0.774251</td><td style=\"text-align: right;\"> 1.32875 </td><td style=\"text-align: right;\">0.234729</td><td style=\"text-align: right;\">-0.55783  </td><td style=\"text-align: right;\">0.442921</td><td style=\"text-align: right;\">-0.0832048</td><td style=\"text-align: right;\"> 1.08119 </td><td style=\"text-align: right;\">2.17308</td><td style=\"text-align: right;\">1.14585 </td><td style=\"text-align: right;\"> 0.16228   </td><td style=\"text-align: right;\">-0.268187 </td><td style=\"text-align: right;\">0      </td><td style=\"text-align: right;\">1.21407 </td><td style=\"text-align: right;\"> 0.194966 </td><td style=\"text-align: right;\">-1.15627 </td><td style=\"text-align: right;\">2.54822</td><td style=\"text-align: right;\">1.01915 </td><td style=\"text-align: right;\">-0.759163  </td><td style=\"text-align: right;\"> 0.136347 </td><td style=\"text-align: right;\">0      </td><td style=\"text-align: right;\">0.94183 </td><td style=\"text-align: right;\">0.941976</td><td style=\"text-align: right;\">0.98816 </td><td style=\"text-align: right;\">0.86435 </td><td style=\"text-align: right;\">0.835132</td><td style=\"text-align: right;\">0.767871</td><td style=\"text-align: right;\">0.833013</td><td style=\"text-align: right;\">         0</td></tr>\n",
       "<tr><td style=\"text-align: right;\">1.09403 </td><td style=\"text-align: right;\">-0.88734 </td><td style=\"text-align: right;\"> 0.949229</td><td style=\"text-align: right;\">0.410261</td><td style=\"text-align: right;\">-1.55868  </td><td style=\"text-align: right;\">0.523352</td><td style=\"text-align: right;\"> 0.131675 </td><td style=\"text-align: right;\"> 0.304513</td><td style=\"text-align: right;\">0      </td><td style=\"text-align: right;\">1.11916 </td><td style=\"text-align: right;\"> 1.09383   </td><td style=\"text-align: right;\">-0.396352 </td><td style=\"text-align: right;\">2.21487</td><td style=\"text-align: right;\">0.6289  </td><td style=\"text-align: right;\"> 0.628245 </td><td style=\"text-align: right;\"> 1.45775 </td><td style=\"text-align: right;\">0      </td><td style=\"text-align: right;\">0.523082</td><td style=\"text-align: right;\"> 0.508394  </td><td style=\"text-align: right;\"> 0.988137 </td><td style=\"text-align: right;\">0      </td><td style=\"text-align: right;\">0.929989</td><td style=\"text-align: right;\">0.973742</td><td style=\"text-align: right;\">0.989141</td><td style=\"text-align: right;\">0.780519</td><td style=\"text-align: right;\">0.749821</td><td style=\"text-align: right;\">0.887545</td><td style=\"text-align: right;\">0.925278</td><td style=\"text-align: right;\">         1</td></tr>\n",
       "<tr><td style=\"text-align: right;\">1.33871 </td><td style=\"text-align: right;\">-0.899027</td><td style=\"text-align: right;\">-1.25534 </td><td style=\"text-align: right;\">0.884285</td><td style=\"text-align: right;\">-0.747925 </td><td style=\"text-align: right;\">0.547445</td><td style=\"text-align: right;\">-0.79518  </td><td style=\"text-align: right;\"> 0.174235</td><td style=\"text-align: right;\">2.17308</td><td style=\"text-align: right;\">0.771663</td><td style=\"text-align: right;\">-0.31855   </td><td style=\"text-align: right;\"> 1.02356  </td><td style=\"text-align: right;\">2.21487</td><td style=\"text-align: right;\">0.408495</td><td style=\"text-align: right;\">-1.1431   </td><td style=\"text-align: right;\"> 0.139699</td><td style=\"text-align: right;\">0      </td><td style=\"text-align: right;\">1.29395 </td><td style=\"text-align: right;\">-1.34131   </td><td style=\"text-align: right;\"> 1.61685  </td><td style=\"text-align: right;\">0      </td><td style=\"text-align: right;\">0.79204 </td><td style=\"text-align: right;\">0.76921 </td><td style=\"text-align: right;\">0.984082</td><td style=\"text-align: right;\">1.06928 </td><td style=\"text-align: right;\">0.700852</td><td style=\"text-align: right;\">0.83083 </td><td style=\"text-align: right;\">0.71671 </td><td style=\"text-align: right;\">         0</td></tr>\n",
       "<tr><td style=\"text-align: right;\">0.699095</td><td style=\"text-align: right;\"> 1.43363 </td><td style=\"text-align: right;\">-1.72253 </td><td style=\"text-align: right;\">0.650113</td><td style=\"text-align: right;\">-0.167574 </td><td style=\"text-align: right;\">0.967464</td><td style=\"text-align: right;\"> 0.737696 </td><td style=\"text-align: right;\">-0.886391</td><td style=\"text-align: right;\">2.17308</td><td style=\"text-align: right;\">1.66797 </td><td style=\"text-align: right;\"> 0.446892  </td><td style=\"text-align: right;\"> 0.851008 </td><td style=\"text-align: right;\">0      </td><td style=\"text-align: right;\">0.59641 </td><td style=\"text-align: right;\"> 0.156736 </td><td style=\"text-align: right;\"> 0.340513</td><td style=\"text-align: right;\">0      </td><td style=\"text-align: right;\">0.694684</td><td style=\"text-align: right;\">-0.00046069</td><td style=\"text-align: right;\">-1.14949  </td><td style=\"text-align: right;\">3.10196</td><td style=\"text-align: right;\">0.714182</td><td style=\"text-align: right;\">0.839843</td><td style=\"text-align: right;\">0.984067</td><td style=\"text-align: right;\">0.917766</td><td style=\"text-align: right;\">0.388553</td><td style=\"text-align: right;\">0.91664 </td><td style=\"text-align: right;\">0.886331</td><td style=\"text-align: right;\">         0</td></tr>\n",
       "<tr><td style=\"text-align: right;\">0.842208</td><td style=\"text-align: right;\">-0.144202</td><td style=\"text-align: right;\">-1.702   </td><td style=\"text-align: right;\">0.685875</td><td style=\"text-align: right;\"> 0.544338 </td><td style=\"text-align: right;\">0.578774</td><td style=\"text-align: right;\">-0.221837 </td><td style=\"text-align: right;\">-0.586474</td><td style=\"text-align: right;\">1.08654</td><td style=\"text-align: right;\">0.909401</td><td style=\"text-align: right;\"> 2.81316   </td><td style=\"text-align: right;\">-0.0706666</td><td style=\"text-align: right;\">0      </td><td style=\"text-align: right;\">1.54986 </td><td style=\"text-align: right;\">-0.85182  </td><td style=\"text-align: right;\"> 1.58811 </td><td style=\"text-align: right;\">0      </td><td style=\"text-align: right;\">1.14986 </td><td style=\"text-align: right;\"> 0.590011  </td><td style=\"text-align: right;\"> 0.0597691</td><td style=\"text-align: right;\">0      </td><td style=\"text-align: right;\">0.872279</td><td style=\"text-align: right;\">0.684341</td><td style=\"text-align: right;\">0.99032 </td><td style=\"text-align: right;\">0.510151</td><td style=\"text-align: right;\">0.720446</td><td style=\"text-align: right;\">0.555454</td><td style=\"text-align: right;\">0.535795</td><td style=\"text-align: right;\">         1</td></tr>\n",
       "<tr><td style=\"text-align: right;\">0.456242</td><td style=\"text-align: right;\"> 1.74043 </td><td style=\"text-align: right;\"> 0.258427</td><td style=\"text-align: right;\">1.45223 </td><td style=\"text-align: right;\">-0.0513728</td><td style=\"text-align: right;\">0.675328</td><td style=\"text-align: right;\">-0.797161 </td><td style=\"text-align: right;\">-1.34763 </td><td style=\"text-align: right;\">2.17308</td><td style=\"text-align: right;\">0.56858 </td><td style=\"text-align: right;\">-0.482712  </td><td style=\"text-align: right;\">-1.73738  </td><td style=\"text-align: right;\">0      </td><td style=\"text-align: right;\">0.539333</td><td style=\"text-align: right;\"> 1.17621  </td><td style=\"text-align: right;\"> 1.06666 </td><td style=\"text-align: right;\">0      </td><td style=\"text-align: right;\">0.980687</td><td style=\"text-align: right;\">-0.125384  </td><td style=\"text-align: right;\"> 0.0869598</td><td style=\"text-align: right;\">3.10196</td><td style=\"text-align: right;\">0.994118</td><td style=\"text-align: right;\">0.960552</td><td style=\"text-align: right;\">1.00353 </td><td style=\"text-align: right;\">0.57609 </td><td style=\"text-align: right;\">0.876509</td><td style=\"text-align: right;\">0.85138 </td><td style=\"text-align: right;\">0.801164</td><td style=\"text-align: right;\">         1</td></tr>\n",
       "<tr><td style=\"text-align: right;\">0.933712</td><td style=\"text-align: right;\"> 1.35084 </td><td style=\"text-align: right;\"> 0.773338</td><td style=\"text-align: right;\">0.532638</td><td style=\"text-align: right;\">-0.679537 </td><td style=\"text-align: right;\">0.718017</td><td style=\"text-align: right;\"> 0.745618 </td><td style=\"text-align: right;\">-1.4962  </td><td style=\"text-align: right;\">1.08654</td><td style=\"text-align: right;\">0.274218</td><td style=\"text-align: right;\"> 1.07537   </td><td style=\"text-align: right;\"> 1.56341  </td><td style=\"text-align: right;\">0      </td><td style=\"text-align: right;\">0.39146 </td><td style=\"text-align: right;\">-0.59422  </td><td style=\"text-align: right;\"> 0.170209</td><td style=\"text-align: right;\">2.54822</td><td style=\"text-align: right;\">0.573711</td><td style=\"text-align: right;\"> 2.12157   </td><td style=\"text-align: right;\"> 0.256763 </td><td style=\"text-align: right;\">0      </td><td style=\"text-align: right;\">0.625972</td><td style=\"text-align: right;\">0.773067</td><td style=\"text-align: right;\">0.987348</td><td style=\"text-align: right;\">0.674946</td><td style=\"text-align: right;\">0.829309</td><td style=\"text-align: right;\">0.645423</td><td style=\"text-align: right;\">0.597715</td><td style=\"text-align: right;\">         0</td></tr>\n",
       "<tr><td style=\"text-align: right;\">0.7335  </td><td style=\"text-align: right;\">-0.998372</td><td style=\"text-align: right;\">-1.68702 </td><td style=\"text-align: right;\">0.951169</td><td style=\"text-align: right;\">-0.591779 </td><td style=\"text-align: right;\">1.14912 </td><td style=\"text-align: right;\">-0.942724 </td><td style=\"text-align: right;\">-0.424039</td><td style=\"text-align: right;\">2.17308</td><td style=\"text-align: right;\">1.04185 </td><td style=\"text-align: right;\"> 1.10063   </td><td style=\"text-align: right;\"> 1.27434  </td><td style=\"text-align: right;\">0      </td><td style=\"text-align: right;\">0.713549</td><td style=\"text-align: right;\"> 0.0201984</td><td style=\"text-align: right;\"> 0.343287</td><td style=\"text-align: right;\">2.54822</td><td style=\"text-align: right;\">1.44706 </td><td style=\"text-align: right;\"> 0.165271  </td><td style=\"text-align: right;\"> 1.40599  </td><td style=\"text-align: right;\">0      </td><td style=\"text-align: right;\">0.798081</td><td style=\"text-align: right;\">0.852638</td><td style=\"text-align: right;\">0.990337</td><td style=\"text-align: right;\">0.799596</td><td style=\"text-align: right;\">0.918739</td><td style=\"text-align: right;\">1.27283 </td><td style=\"text-align: right;\">1.07795 </td><td style=\"text-align: right;\">         0</td></tr>\n",
       "<tr><td style=\"text-align: right;\">0.968118</td><td style=\"text-align: right;\"> 1.719   </td><td style=\"text-align: right;\"> 0.030934</td><td style=\"text-align: right;\">1.80122 </td><td style=\"text-align: right;\">-0.867323 </td><td style=\"text-align: right;\">0.631357</td><td style=\"text-align: right;\">-0.810034 </td><td style=\"text-align: right;\"> 1.20648 </td><td style=\"text-align: right;\">0      </td><td style=\"text-align: right;\">0.88699 </td><td style=\"text-align: right;\"> 0.00103165</td><td style=\"text-align: right;\"> 1.57395  </td><td style=\"text-align: right;\">0      </td><td style=\"text-align: right;\">1.02721 </td><td style=\"text-align: right;\"> 0.512643 </td><td style=\"text-align: right;\"> 0.381009</td><td style=\"text-align: right;\">2.54822</td><td style=\"text-align: right;\">1.08511 </td><td style=\"text-align: right;\"> 0.54837   </td><td style=\"text-align: right;\">-0.86704  </td><td style=\"text-align: right;\">3.10196</td><td style=\"text-align: right;\">0.844315</td><td style=\"text-align: right;\">1.03113 </td><td style=\"text-align: right;\">1.32327 </td><td style=\"text-align: right;\">1.11639 </td><td style=\"text-align: right;\">0.728902</td><td style=\"text-align: right;\">0.805447</td><td style=\"text-align: right;\">1.19234 </td><td style=\"text-align: right;\">         0</td></tr>\n",
       "</tbody>\n",
       "</table>"
      ]
     },
     "metadata": {},
     "output_type": "display_data"
    },
    {
     "data": {
      "text/plain": []
     },
     "execution_count": 29,
     "metadata": {},
     "output_type": "execute_result"
    }
   ],
   "source": [
    "test = test_higgs\n",
    "test_higgs.head()\n"
   ]
  },
  {
   "cell_type": "code",
   "execution_count": 19,
   "metadata": {
    "pycharm": {
     "name": "#%%\n"
    }
   },
   "outputs": [],
   "source": [
    "# Identify predictors and response\n",
    "x = train.columns\n",
    "y = \"isResistant\"\n",
    "# y = \"response\"\n",
    "x.remove(y)"
   ]
  },
  {
   "cell_type": "code",
   "execution_count": 20,
   "metadata": {
    "pycharm": {
     "name": "#%%\n"
    }
   },
   "outputs": [
    {
     "data": {
      "text/plain": [
       "['NC000962_3.4410070',\n",
       " 'NC000962_3.4410276',\n",
       " 'NC000962_3.4410309',\n",
       " 'NC000962_3.4410847',\n",
       " 'NC000962_3.4411128',\n",
       " 'NC000962_3.4411245',\n",
       " 'NC000962_3.4411286',\n",
       " 'NC000962_3.4411405',\n",
       " 'NC000962_3.4411518']"
      ]
     },
     "execution_count": 20,
     "metadata": {},
     "output_type": "execute_result"
    }
   ],
   "source": [
    "x[:10]\n",
    "\n"
   ]
  },
  {
   "cell_type": "code",
   "execution_count": 21,
   "metadata": {
    "pycharm": {
     "name": "#%%\n"
    },
    "scrolled": true
   },
   "outputs": [
    {
     "data": {
      "text/plain": [
       "'isResistant'"
      ]
     },
     "execution_count": 21,
     "metadata": {},
     "output_type": "execute_result"
    }
   ],
   "source": [
    "y\n"
   ]
  },
  {
   "cell_type": "code",
   "execution_count": 22,
   "metadata": {
    "pycharm": {
     "name": "#%%\n"
    }
   },
   "outputs": [],
   "source": [
    "# For binary classification, response should be a factor\n",
    "train[y] = train[y].asfactor()\n",
    "test[y] = test[y].asfactor()\n"
   ]
  },
  {
   "cell_type": "code",
   "execution_count": 28,
   "metadata": {},
   "outputs": [],
   "source": [
    "for x in train.columns:\n",
    "    train[x] = train[x].asfactor()\n",
    "    train[y] = train[y].asfactor()"
   ]
  },
  {
   "cell_type": "code",
   "execution_count": 29,
   "metadata": {
    "pycharm": {
     "name": "#%%\n"
    }
   },
   "outputs": [
    {
     "data": {
      "text/html": [
       "<table>\n",
       "<thead>\n",
       "<tr><th style=\"text-align: right;\">  isResistant</th></tr>\n",
       "</thead>\n",
       "<tbody>\n",
       "<tr><td style=\"text-align: right;\">            0</td></tr>\n",
       "<tr><td style=\"text-align: right;\">            1</td></tr>\n",
       "<tr><td style=\"text-align: right;\">            0</td></tr>\n",
       "<tr><td style=\"text-align: right;\">            0</td></tr>\n",
       "<tr><td style=\"text-align: right;\">            1</td></tr>\n",
       "<tr><td style=\"text-align: right;\">            1</td></tr>\n",
       "<tr><td style=\"text-align: right;\">            1</td></tr>\n",
       "<tr><td style=\"text-align: right;\">            1</td></tr>\n",
       "<tr><td style=\"text-align: right;\">            1</td></tr>\n",
       "<tr><td style=\"text-align: right;\">            1</td></tr>\n",
       "</tbody>\n",
       "</table>"
      ]
     },
     "metadata": {},
     "output_type": "display_data"
    },
    {
     "data": {
      "text/plain": []
     },
     "execution_count": 29,
     "metadata": {},
     "output_type": "execute_result"
    }
   ],
   "source": [
    "train[y].head()"
   ]
  },
  {
   "cell_type": "code",
   "execution_count": 30,
   "metadata": {
    "pycharm": {
     "name": "#%%\n"
    }
   },
   "outputs": [
    {
     "data": {
      "text/html": [
       "<table>\n",
       "<thead>\n",
       "<tr><th style=\"text-align: right;\">  isResistant</th></tr>\n",
       "</thead>\n",
       "<tbody>\n",
       "<tr><td style=\"text-align: right;\">            0</td></tr>\n",
       "<tr><td style=\"text-align: right;\">            1</td></tr>\n",
       "<tr><td style=\"text-align: right;\">            1</td></tr>\n",
       "<tr><td style=\"text-align: right;\">            1</td></tr>\n",
       "<tr><td style=\"text-align: right;\">            1</td></tr>\n",
       "<tr><td style=\"text-align: right;\">            1</td></tr>\n",
       "<tr><td style=\"text-align: right;\">            1</td></tr>\n",
       "<tr><td style=\"text-align: right;\">            1</td></tr>\n",
       "<tr><td style=\"text-align: right;\">            0</td></tr>\n",
       "<tr><td style=\"text-align: right;\">            1</td></tr>\n",
       "</tbody>\n",
       "</table>"
      ]
     },
     "metadata": {},
     "output_type": "display_data"
    },
    {
     "data": {
      "text/plain": []
     },
     "execution_count": 30,
     "metadata": {},
     "output_type": "execute_result"
    }
   ],
   "source": [
    "test[y].head()"
   ]
  },
  {
   "cell_type": "code",
   "execution_count": 25,
   "metadata": {
    "pycharm": {
     "name": "#%%\n"
    }
   },
   "outputs": [],
   "source": [
    "# Number of CV folds (to generate level-one data for stacking)\n",
    "nfolds = 5\n",
    "\n",
    "# There are a few ways to assemble a list of models to stack together:\n",
    "# 1. Train individual models and put them in a list\n",
    "# 2. Train a grid of models\n",
    "# 3. Train several grids of models\n",
    "# Note: All base models must have the same cross-validation folds and\n",
    "# the cross-validated predicted values must be kept.\n",
    "\n",
    "\n",
    "# 1. Generate a 2-model ensemble (GBM + RF)\n"
   ]
  },
  {
   "cell_type": "code",
   "execution_count": 31,
   "metadata": {},
   "outputs": [
    {
     "ename": "H2OResponseError",
     "evalue": "ModelBuilderErrorV3  (water.exceptions.H2OModelBuilderIllegalArgumentException):\n    timestamp = 1601345808209\n    error_url = '/3/ModelBuilders/glrm'\n    msg = 'Illegal argument(s) for GLRM model: GLRM_model_python_1601345407067_2.  Details: ERRR on field: _train: _train must have more than one column'\n    dev_msg = 'Illegal argument(s) for GLRM model: GLRM_model_python_1601345407067_2.  Details: ERRR on field: _train: _train must have more than one column'\n    http_status = 412\n    values = {'messages': [{'_log_level': 5, '_field_name': '_keep_cross_validation_models', '_message': 'Only for cross-validation.'}, {'_log_level': 5, '_field_name': '_keep_cross_validation_predictions', '_message': 'Only for cross-validation.'}, {'_log_level': 5, '_field_name': '_keep_cross_validation_fold_assignment', '_message': 'Only for cross-validation.'}, {'_log_level': 5, '_field_name': '_fold_assignment', '_message': 'Only for cross-validation.'}, {'_log_level': 5, '_field_name': '_tweedie_power', '_message': 'Only for Tweedie Distribution.'}, {'_log_level': 2, '_field_name': '_train', '_message': 'Dropping bad and constant columns: [NC000962_3.4410309, NC000962_3.4410847, NC000962_3.4411518, NC000962_3.4410070, NC000962_3.4411405, NC000962_3.4411128, NC000962_3.4411245, NC000962_3.4411286, NC000962_3.4410276]'}, {'_log_level': 5, '_field_name': '_response_column', '_message': 'Ignored for unsupervised methods.'}, {'_log_level': 5, '_field_name': '_balance_classes', '_message': 'Ignored for unsupervised methods.'}, {'_log_level': 5, '_field_name': '_class_sampling_factors', '_message': 'Ignored for unsupervised methods.'}, {'_log_level': 5, '_field_name': '_max_after_balance_size', '_message': 'Ignored for unsupervised methods.'}, {'_log_level': 5, '_field_name': '_max_confusion_matrix_size', '_message': 'Ignored for unsupervised methods.'}, {'_log_level': 1, '_field_name': '_train', '_message': '_train must have more than one column'}], 'algo': 'GLRM', 'parameters': {'_train': {'name': 'py_32_sid_8096', 'type': 'Key'}, '_valid': None, '_nfolds': 0, '_keep_cross_validation_models': True, '_keep_cross_validation_predictions': False, '_keep_cross_validation_fold_assignment': False, '_parallelize_cross_validation': True, '_auto_rebalance': True, '_seed': -1, '_fold_assignment': 'AUTO', '_categorical_encoding': 'AUTO', '_max_categorical_levels': 10, '_distribution': 'AUTO', '_tweedie_power': 1.5, '_quantile_alpha': 0.5, '_huber_alpha': 0.9, '_ignored_columns': None, '_ignore_const_cols': True, '_weights_column': None, '_offset_column': None, '_fold_column': None, '_check_constant_response': True, '_is_cv_model': False, '_score_each_iteration': False, '_max_runtime_secs': 0.0, '_stopping_rounds': 0, '_stopping_metric': 'AUTO', '_stopping_tolerance': 0.001, '_response_column': None, '_balance_classes': False, '_max_after_balance_size': 5.0, '_class_sampling_factors': None, '_max_confusion_matrix_size': 20, '_checkpoint': None, '_pretrained_autoencoder': None, '_custom_metric_func': None, '_custom_distribution_func': None, '_export_checkpoints_dir': None, '_transform': 'STANDARDIZE', '_k': 2, '_init': 'SVD', '_svd_method': 'Randomized', '_user_y': None, '_user_x': None, '_expand_user_y': True, '_loss': 'Quadratic', '_multi_loss': 'Categorical', '_period': 1, '_loss_by_col': None, '_loss_by_col_idx': None, '_regularization_x': 'None', '_regularization_y': 'None', '_gamma_x': 0.5, '_gamma_y': 0.5, '_max_iterations': 700, '_max_updates': 2000, '_init_step_size': 1.0, '_min_step_size': 0.0001, '_representation_name': None, '_recover_svd': True, '_impute_original': False, '_verbose': True}, 'error_count': 2}\n    exception_msg = 'Illegal argument(s) for GLRM model: GLRM_model_python_1601345407067_2.  Details: ERRR on field: _train: _train must have more than one column'\n    stacktrace =\n        water.exceptions.H2OModelBuilderIllegalArgumentException: Illegal argument(s) for GLRM model: GLRM_model_python_1601345407067_2.  Details: ERRR on field: _train: _train must have more than one column\n        water.exceptions.H2OModelBuilderIllegalArgumentException.makeFromBuilder(H2OModelBuilderIllegalArgumentException.java:19)\n        hex.ModelBuilder.trainModelOnH2ONode(ModelBuilder.java:319)\n        water.api.ModelBuilderHandler.handle(ModelBuilderHandler.java:51)\n        water.api.ModelBuilderHandler.handle(ModelBuilderHandler.java:16)\n        water.api.RequestServer.serve(RequestServer.java:470)\n        water.api.RequestServer.doGeneric(RequestServer.java:301)\n        water.api.RequestServer.doPost(RequestServer.java:227)\n        javax.servlet.http.HttpServlet.service(HttpServlet.java:755)\n        javax.servlet.http.HttpServlet.service(HttpServlet.java:848)\n        org.eclipse.jetty.servlet.ServletHolder.handle(ServletHolder.java:684)\n        org.eclipse.jetty.servlet.ServletHandler.doHandle(ServletHandler.java:501)\n        org.eclipse.jetty.server.handler.ContextHandler.doHandle(ContextHandler.java:1086)\n        org.eclipse.jetty.servlet.ServletHandler.doScope(ServletHandler.java:427)\n        org.eclipse.jetty.server.handler.ContextHandler.doScope(ContextHandler.java:1020)\n        org.eclipse.jetty.server.handler.ScopedHandler.handle(ScopedHandler.java:135)\n        org.eclipse.jetty.server.handler.HandlerCollection.handle(HandlerCollection.java:154)\n        org.eclipse.jetty.server.handler.HandlerWrapper.handle(HandlerWrapper.java:116)\n        water.webserver.jetty8.Jetty8ServerAdapter$LoginHandler.handle(Jetty8ServerAdapter.java:119)\n        org.eclipse.jetty.server.handler.HandlerCollection.handle(HandlerCollection.java:154)\n        org.eclipse.jetty.server.handler.HandlerWrapper.handle(HandlerWrapper.java:116)\n        org.eclipse.jetty.server.Server.handle(Server.java:370)\n        org.eclipse.jetty.server.AbstractHttpConnection.handleRequest(AbstractHttpConnection.java:494)\n        org.eclipse.jetty.server.BlockingHttpConnection.handleRequest(BlockingHttpConnection.java:53)\n        org.eclipse.jetty.server.AbstractHttpConnection.content(AbstractHttpConnection.java:984)\n        org.eclipse.jetty.server.AbstractHttpConnection$RequestHandler.content(AbstractHttpConnection.java:1045)\n        org.eclipse.jetty.http.HttpParser.parseNext(HttpParser.java:861)\n        org.eclipse.jetty.http.HttpParser.parseAvailable(HttpParser.java:236)\n        org.eclipse.jetty.server.BlockingHttpConnection.handle(BlockingHttpConnection.java:72)\n        org.eclipse.jetty.server.bio.SocketConnector$ConnectorEndPoint.run(SocketConnector.java:264)\n        org.eclipse.jetty.util.thread.QueuedThreadPool.runJob(QueuedThreadPool.java:608)\n        org.eclipse.jetty.util.thread.QueuedThreadPool$3.run(QueuedThreadPool.java:543)\n        java.base/java.lang.Thread.run(Thread.java:834)\n    parameters = {'__meta': {'schema_version': 3, 'schema_name': 'GLRMParametersV3', 'schema_type': 'GLRMParameters'}, 'model_id': None, 'training_frame': {'__meta': {'schema_version': 3, 'schema_name': 'FrameKeyV3', 'schema_type': 'Key<Frame>'}, 'name': 'py_32_sid_8096', 'type': 'Key<Frame>', 'URL': '/3/Frames/py_32_sid_8096'}, 'validation_frame': None, 'nfolds': 0, 'keep_cross_validation_models': True, 'keep_cross_validation_predictions': False, 'keep_cross_validation_fold_assignment': False, 'parallelize_cross_validation': True, 'distribution': 'AUTO', 'tweedie_power': 1.5, 'quantile_alpha': 0.5, 'huber_alpha': 0.9, 'response_column': None, 'weights_column': None, 'offset_column': None, 'fold_column': None, 'fold_assignment': 'AUTO', 'categorical_encoding': 'AUTO', 'max_categorical_levels': 10, 'ignored_columns': None, 'ignore_const_cols': True, 'score_each_iteration': False, 'checkpoint': None, 'stopping_rounds': 0, 'max_runtime_secs': 0.0, 'stopping_metric': 'AUTO', 'stopping_tolerance': 0.001, 'custom_metric_func': None, 'custom_distribution_func': None, 'export_checkpoints_dir': None, 'transform': 'STANDARDIZE', 'k': 2, 'loss': 'Quadratic', 'multi_loss': 'Categorical', 'loss_by_col': None, 'loss_by_col_idx': None, 'period': 1, 'regularization_x': 'None', 'regularization_y': 'None', 'gamma_x': 0.5, 'gamma_y': 0.5, 'max_iterations': 700, 'max_updates': 2000, 'init_step_size': 1.0, 'min_step_size': 0.0001, 'seed': -1, 'init': 'SVD', 'svd_method': 'Randomized', 'user_y': None, 'user_x': None, 'loading_name': None, 'expand_user_y': True, 'impute_original': False, 'recover_svd': True}\n    messages = [{'__meta': {'schema_version': 3, 'schema_name': 'ValidationMessageV3', 'schema_type': 'ValidationMessage'}, 'message_type': 'TRACE', 'field_name': 'keep_cross_validation_models', 'message': 'Only for cross-validation.'}, {'__meta': {'schema_version': 3, 'schema_name': 'ValidationMessageV3', 'schema_type': 'ValidationMessage'}, 'message_type': 'TRACE', 'field_name': 'keep_cross_validation_predictions', 'message': 'Only for cross-validation.'}, {'__meta': {'schema_version': 3, 'schema_name': 'ValidationMessageV3', 'schema_type': 'ValidationMessage'}, 'message_type': 'TRACE', 'field_name': 'keep_cross_validation_fold_assignment', 'message': 'Only for cross-validation.'}, {'__meta': {'schema_version': 3, 'schema_name': 'ValidationMessageV3', 'schema_type': 'ValidationMessage'}, 'message_type': 'TRACE', 'field_name': 'fold_assignment', 'message': 'Only for cross-validation.'}, {'__meta': {'schema_version': 3, 'schema_name': 'ValidationMessageV3', 'schema_type': 'ValidationMessage'}, 'message_type': 'TRACE', 'field_name': 'tweedie_power', 'message': 'Only for Tweedie Distribution.'}, {'__meta': {'schema_version': 3, 'schema_name': 'ValidationMessageV3', 'schema_type': 'ValidationMessage'}, 'message_type': 'WARN', 'field_name': 'train', 'message': 'Dropping bad and constant columns: [NC000962_3.4410309, NC000962_3.4410847, NC000962_3.4411518, NC000962_3.4410070, NC000962_3.4411405, NC000962_3.4411128, NC000962_3.4411245, NC000962_3.4411286, NC000962_3.4410276]'}, {'__meta': {'schema_version': 3, 'schema_name': 'ValidationMessageV3', 'schema_type': 'ValidationMessage'}, 'message_type': 'TRACE', 'field_name': 'response_column', 'message': 'Ignored for unsupervised methods.'}, {'__meta': {'schema_version': 3, 'schema_name': 'ValidationMessageV3', 'schema_type': 'ValidationMessage'}, 'message_type': 'TRACE', 'field_name': 'balance_classes', 'message': 'Ignored for unsupervised methods.'}, {'__meta': {'schema_version': 3, 'schema_name': 'ValidationMessageV3', 'schema_type': 'ValidationMessage'}, 'message_type': 'TRACE', 'field_name': 'class_sampling_factors', 'message': 'Ignored for unsupervised methods.'}, {'__meta': {'schema_version': 3, 'schema_name': 'ValidationMessageV3', 'schema_type': 'ValidationMessage'}, 'message_type': 'TRACE', 'field_name': 'max_after_balance_size', 'message': 'Ignored for unsupervised methods.'}, {'__meta': {'schema_version': 3, 'schema_name': 'ValidationMessageV3', 'schema_type': 'ValidationMessage'}, 'message_type': 'TRACE', 'field_name': 'max_confusion_matrix_size', 'message': 'Ignored for unsupervised methods.'}, {'__meta': {'schema_version': 3, 'schema_name': 'ValidationMessageV3', 'schema_type': 'ValidationMessage'}, 'message_type': 'ERRR', 'field_name': 'train', 'message': '_train must have more than one column'}]\n    error_count = 2\n",
     "output_type": "error",
     "traceback": [
      "\u001B[1;31m---------------------------------------------------------------------------\u001B[0m",
      "\u001B[1;31mH2OResponseError\u001B[0m                          Traceback (most recent call last)",
      "\u001B[1;32m<ipython-input-31-cfc6307fcb84>\u001B[0m in \u001B[0;36m<module>\u001B[1;34m\u001B[0m\n\u001B[0;32m      8\u001B[0m                                             \u001B[0minit\u001B[0m \u001B[1;33m=\u001B[0m \u001B[1;34m\"SVD\"\u001B[0m\u001B[1;33m,\u001B[0m\u001B[1;33m\u001B[0m\u001B[1;33m\u001B[0m\u001B[0m\n\u001B[0;32m      9\u001B[0m                                             transform = \"standardize\")\n\u001B[1;32m---> 10\u001B[1;33m \u001B[0mglrm_model\u001B[0m\u001B[1;33m.\u001B[0m\u001B[0mtrain\u001B[0m\u001B[1;33m(\u001B[0m\u001B[0mtraining_frame\u001B[0m\u001B[1;33m=\u001B[0m\u001B[0mtrain\u001B[0m\u001B[1;33m)\u001B[0m\u001B[1;33m\u001B[0m\u001B[1;33m\u001B[0m\u001B[0m\n\u001B[0m",
      "\u001B[1;32mC:\\tools\\miniconda3\\lib\\site-packages\\h2o\\estimators\\estimator_base.py\u001B[0m in \u001B[0;36mtrain\u001B[1;34m(self, x, y, training_frame, offset_column, fold_column, weights_column, validation_frame, max_runtime_secs, ignored_columns, model_id, verbose)\u001B[0m\n\u001B[0;32m    113\u001B[0m                                  \u001B[0mvalidation_frame\u001B[0m\u001B[1;33m=\u001B[0m\u001B[0mvalidation_frame\u001B[0m\u001B[1;33m,\u001B[0m \u001B[0mmax_runtime_secs\u001B[0m\u001B[1;33m=\u001B[0m\u001B[0mmax_runtime_secs\u001B[0m\u001B[1;33m,\u001B[0m\u001B[1;33m\u001B[0m\u001B[1;33m\u001B[0m\u001B[0m\n\u001B[0;32m    114\u001B[0m                                  ignored_columns=ignored_columns, model_id=model_id, verbose=verbose)\n\u001B[1;32m--> 115\u001B[1;33m         \u001B[0mself\u001B[0m\u001B[1;33m.\u001B[0m\u001B[0m_train\u001B[0m\u001B[1;33m(\u001B[0m\u001B[0mparms\u001B[0m\u001B[1;33m,\u001B[0m \u001B[0mverbose\u001B[0m\u001B[1;33m=\u001B[0m\u001B[0mverbose\u001B[0m\u001B[1;33m)\u001B[0m\u001B[1;33m\u001B[0m\u001B[1;33m\u001B[0m\u001B[0m\n\u001B[0m\u001B[0;32m    116\u001B[0m \u001B[1;33m\u001B[0m\u001B[0m\n\u001B[0;32m    117\u001B[0m     def train_segments(self, x=None, y=None, training_frame=None, offset_column=None, fold_column=None,\n",
      "\u001B[1;32mC:\\tools\\miniconda3\\lib\\site-packages\\h2o\\estimators\\estimator_base.py\u001B[0m in \u001B[0;36m_train\u001B[1;34m(self, parms, verbose)\u001B[0m\n\u001B[0;32m    192\u001B[0m \u001B[1;33m\u001B[0m\u001B[0m\n\u001B[0;32m    193\u001B[0m         \u001B[0mrest_ver\u001B[0m \u001B[1;33m=\u001B[0m \u001B[0mself\u001B[0m\u001B[1;33m.\u001B[0m\u001B[0m_get_rest_version\u001B[0m\u001B[1;33m(\u001B[0m\u001B[0mparms\u001B[0m\u001B[1;33m)\u001B[0m\u001B[1;33m\u001B[0m\u001B[1;33m\u001B[0m\u001B[0m\n\u001B[1;32m--> 194\u001B[1;33m         \u001B[0mmodel_builder_json\u001B[0m \u001B[1;33m=\u001B[0m \u001B[0mh2o\u001B[0m\u001B[1;33m.\u001B[0m\u001B[0mapi\u001B[0m\u001B[1;33m(\u001B[0m\u001B[1;34m\"POST /%d/ModelBuilders/%s\"\u001B[0m \u001B[1;33m%\u001B[0m \u001B[1;33m(\u001B[0m\u001B[0mrest_ver\u001B[0m\u001B[1;33m,\u001B[0m \u001B[0mself\u001B[0m\u001B[1;33m.\u001B[0m\u001B[0malgo\u001B[0m\u001B[1;33m)\u001B[0m\u001B[1;33m,\u001B[0m \u001B[0mdata\u001B[0m\u001B[1;33m=\u001B[0m\u001B[0mparms\u001B[0m\u001B[1;33m)\u001B[0m\u001B[1;33m\u001B[0m\u001B[1;33m\u001B[0m\u001B[0m\n\u001B[0m\u001B[0;32m    195\u001B[0m         \u001B[0mjob\u001B[0m \u001B[1;33m=\u001B[0m \u001B[0mH2OJob\u001B[0m\u001B[1;33m(\u001B[0m\u001B[0mmodel_builder_json\u001B[0m\u001B[1;33m,\u001B[0m \u001B[0mjob_type\u001B[0m\u001B[1;33m=\u001B[0m\u001B[1;33m(\u001B[0m\u001B[0mself\u001B[0m\u001B[1;33m.\u001B[0m\u001B[0malgo\u001B[0m \u001B[1;33m+\u001B[0m \u001B[1;34m\" Model Build\"\u001B[0m\u001B[1;33m)\u001B[0m\u001B[1;33m)\u001B[0m\u001B[1;33m\u001B[0m\u001B[1;33m\u001B[0m\u001B[0m\n\u001B[0;32m    196\u001B[0m \u001B[1;33m\u001B[0m\u001B[0m\n",
      "\u001B[1;32mC:\\tools\\miniconda3\\lib\\site-packages\\h2o\\h2o.py\u001B[0m in \u001B[0;36mapi\u001B[1;34m(endpoint, data, json, filename, save_to)\u001B[0m\n\u001B[0;32m    107\u001B[0m     \u001B[1;31m# type checks are performed in H2OConnection class\u001B[0m\u001B[1;33m\u001B[0m\u001B[1;33m\u001B[0m\u001B[1;33m\u001B[0m\u001B[0m\n\u001B[0;32m    108\u001B[0m     \u001B[0m_check_connection\u001B[0m\u001B[1;33m(\u001B[0m\u001B[1;33m)\u001B[0m\u001B[1;33m\u001B[0m\u001B[1;33m\u001B[0m\u001B[0m\n\u001B[1;32m--> 109\u001B[1;33m     \u001B[1;32mreturn\u001B[0m \u001B[0mh2oconn\u001B[0m\u001B[1;33m.\u001B[0m\u001B[0mrequest\u001B[0m\u001B[1;33m(\u001B[0m\u001B[0mendpoint\u001B[0m\u001B[1;33m,\u001B[0m \u001B[0mdata\u001B[0m\u001B[1;33m=\u001B[0m\u001B[0mdata\u001B[0m\u001B[1;33m,\u001B[0m \u001B[0mjson\u001B[0m\u001B[1;33m=\u001B[0m\u001B[0mjson\u001B[0m\u001B[1;33m,\u001B[0m \u001B[0mfilename\u001B[0m\u001B[1;33m=\u001B[0m\u001B[0mfilename\u001B[0m\u001B[1;33m,\u001B[0m \u001B[0msave_to\u001B[0m\u001B[1;33m=\u001B[0m\u001B[0msave_to\u001B[0m\u001B[1;33m)\u001B[0m\u001B[1;33m\u001B[0m\u001B[1;33m\u001B[0m\u001B[0m\n\u001B[0m\u001B[0;32m    110\u001B[0m \u001B[1;33m\u001B[0m\u001B[0m\n\u001B[0;32m    111\u001B[0m \u001B[1;33m\u001B[0m\u001B[0m\n",
      "\u001B[1;32mC:\\tools\\miniconda3\\lib\\site-packages\\h2o\\backend\\connection.py\u001B[0m in \u001B[0;36mrequest\u001B[1;34m(self, endpoint, data, json, filename, save_to)\u001B[0m\n\u001B[0;32m    476\u001B[0m                 \u001B[0msave_to\u001B[0m \u001B[1;33m=\u001B[0m \u001B[0msave_to\u001B[0m\u001B[1;33m(\u001B[0m\u001B[0mresp\u001B[0m\u001B[1;33m)\u001B[0m\u001B[1;33m\u001B[0m\u001B[1;33m\u001B[0m\u001B[0m\n\u001B[0;32m    477\u001B[0m             \u001B[0mself\u001B[0m\u001B[1;33m.\u001B[0m\u001B[0m_log_end_transaction\u001B[0m\u001B[1;33m(\u001B[0m\u001B[0mstart_time\u001B[0m\u001B[1;33m,\u001B[0m \u001B[0mresp\u001B[0m\u001B[1;33m)\u001B[0m\u001B[1;33m\u001B[0m\u001B[1;33m\u001B[0m\u001B[0m\n\u001B[1;32m--> 478\u001B[1;33m             \u001B[1;32mreturn\u001B[0m \u001B[0mself\u001B[0m\u001B[1;33m.\u001B[0m\u001B[0m_process_response\u001B[0m\u001B[1;33m(\u001B[0m\u001B[0mresp\u001B[0m\u001B[1;33m,\u001B[0m \u001B[0msave_to\u001B[0m\u001B[1;33m)\u001B[0m\u001B[1;33m\u001B[0m\u001B[1;33m\u001B[0m\u001B[0m\n\u001B[0m\u001B[0;32m    479\u001B[0m \u001B[1;33m\u001B[0m\u001B[0m\n\u001B[0;32m    480\u001B[0m         \u001B[1;32mexcept\u001B[0m \u001B[1;33m(\u001B[0m\u001B[0mrequests\u001B[0m\u001B[1;33m.\u001B[0m\u001B[0mexceptions\u001B[0m\u001B[1;33m.\u001B[0m\u001B[0mConnectionError\u001B[0m\u001B[1;33m,\u001B[0m \u001B[0mrequests\u001B[0m\u001B[1;33m.\u001B[0m\u001B[0mexceptions\u001B[0m\u001B[1;33m.\u001B[0m\u001B[0mHTTPError\u001B[0m\u001B[1;33m)\u001B[0m \u001B[1;32mas\u001B[0m \u001B[0me\u001B[0m\u001B[1;33m:\u001B[0m\u001B[1;33m\u001B[0m\u001B[1;33m\u001B[0m\u001B[0m\n",
      "\u001B[1;32mC:\\tools\\miniconda3\\lib\\site-packages\\h2o\\backend\\connection.py\u001B[0m in \u001B[0;36m_process_response\u001B[1;34m(response, save_to)\u001B[0m\n\u001B[0;32m    822\u001B[0m         \u001B[1;31m# Client errors (400 = \"Bad Request\", 404 = \"Not Found\", 412 = \"Precondition Failed\")\u001B[0m\u001B[1;33m\u001B[0m\u001B[1;33m\u001B[0m\u001B[1;33m\u001B[0m\u001B[0m\n\u001B[0;32m    823\u001B[0m         \u001B[1;32mif\u001B[0m \u001B[0mstatus_code\u001B[0m \u001B[1;32min\u001B[0m \u001B[1;33m{\u001B[0m\u001B[1;36m400\u001B[0m\u001B[1;33m,\u001B[0m \u001B[1;36m404\u001B[0m\u001B[1;33m,\u001B[0m \u001B[1;36m412\u001B[0m\u001B[1;33m}\u001B[0m \u001B[1;32mand\u001B[0m \u001B[0misinstance\u001B[0m\u001B[1;33m(\u001B[0m\u001B[0mdata\u001B[0m\u001B[1;33m,\u001B[0m \u001B[1;33m(\u001B[0m\u001B[0mH2OErrorV3\u001B[0m\u001B[1;33m,\u001B[0m \u001B[0mH2OModelBuilderErrorV3\u001B[0m\u001B[1;33m)\u001B[0m\u001B[1;33m)\u001B[0m\u001B[1;33m:\u001B[0m\u001B[1;33m\u001B[0m\u001B[1;33m\u001B[0m\u001B[0m\n\u001B[1;32m--> 824\u001B[1;33m             \u001B[1;32mraise\u001B[0m \u001B[0mH2OResponseError\u001B[0m\u001B[1;33m(\u001B[0m\u001B[0mdata\u001B[0m\u001B[1;33m)\u001B[0m\u001B[1;33m\u001B[0m\u001B[1;33m\u001B[0m\u001B[0m\n\u001B[0m\u001B[0;32m    825\u001B[0m \u001B[1;33m\u001B[0m\u001B[0m\n\u001B[0;32m    826\u001B[0m         \u001B[1;31m# Server errors (notably 500 = \"Server Error\")\u001B[0m\u001B[1;33m\u001B[0m\u001B[1;33m\u001B[0m\u001B[1;33m\u001B[0m\u001B[0m\n",
      "\u001B[1;31mH2OResponseError\u001B[0m: ModelBuilderErrorV3  (water.exceptions.H2OModelBuilderIllegalArgumentException):\n    timestamp = 1601345808209\n    error_url = '/3/ModelBuilders/glrm'\n    msg = 'Illegal argument(s) for GLRM model: GLRM_model_python_1601345407067_2.  Details: ERRR on field: _train: _train must have more than one column'\n    dev_msg = 'Illegal argument(s) for GLRM model: GLRM_model_python_1601345407067_2.  Details: ERRR on field: _train: _train must have more than one column'\n    http_status = 412\n    values = {'messages': [{'_log_level': 5, '_field_name': '_keep_cross_validation_models', '_message': 'Only for cross-validation.'}, {'_log_level': 5, '_field_name': '_keep_cross_validation_predictions', '_message': 'Only for cross-validation.'}, {'_log_level': 5, '_field_name': '_keep_cross_validation_fold_assignment', '_message': 'Only for cross-validation.'}, {'_log_level': 5, '_field_name': '_fold_assignment', '_message': 'Only for cross-validation.'}, {'_log_level': 5, '_field_name': '_tweedie_power', '_message': 'Only for Tweedie Distribution.'}, {'_log_level': 2, '_field_name': '_train', '_message': 'Dropping bad and constant columns: [NC000962_3.4410309, NC000962_3.4410847, NC000962_3.4411518, NC000962_3.4410070, NC000962_3.4411405, NC000962_3.4411128, NC000962_3.4411245, NC000962_3.4411286, NC000962_3.4410276]'}, {'_log_level': 5, '_field_name': '_response_column', '_message': 'Ignored for unsupervised methods.'}, {'_log_level': 5, '_field_name': '_balance_classes', '_message': 'Ignored for unsupervised methods.'}, {'_log_level': 5, '_field_name': '_class_sampling_factors', '_message': 'Ignored for unsupervised methods.'}, {'_log_level': 5, '_field_name': '_max_after_balance_size', '_message': 'Ignored for unsupervised methods.'}, {'_log_level': 5, '_field_name': '_max_confusion_matrix_size', '_message': 'Ignored for unsupervised methods.'}, {'_log_level': 1, '_field_name': '_train', '_message': '_train must have more than one column'}], 'algo': 'GLRM', 'parameters': {'_train': {'name': 'py_32_sid_8096', 'type': 'Key'}, '_valid': None, '_nfolds': 0, '_keep_cross_validation_models': True, '_keep_cross_validation_predictions': False, '_keep_cross_validation_fold_assignment': False, '_parallelize_cross_validation': True, '_auto_rebalance': True, '_seed': -1, '_fold_assignment': 'AUTO', '_categorical_encoding': 'AUTO', '_max_categorical_levels': 10, '_distribution': 'AUTO', '_tweedie_power': 1.5, '_quantile_alpha': 0.5, '_huber_alpha': 0.9, '_ignored_columns': None, '_ignore_const_cols': True, '_weights_column': None, '_offset_column': None, '_fold_column': None, '_check_constant_response': True, '_is_cv_model': False, '_score_each_iteration': False, '_max_runtime_secs': 0.0, '_stopping_rounds': 0, '_stopping_metric': 'AUTO', '_stopping_tolerance': 0.001, '_response_column': None, '_balance_classes': False, '_max_after_balance_size': 5.0, '_class_sampling_factors': None, '_max_confusion_matrix_size': 20, '_checkpoint': None, '_pretrained_autoencoder': None, '_custom_metric_func': None, '_custom_distribution_func': None, '_export_checkpoints_dir': None, '_transform': 'STANDARDIZE', '_k': 2, '_init': 'SVD', '_svd_method': 'Randomized', '_user_y': None, '_user_x': None, '_expand_user_y': True, '_loss': 'Quadratic', '_multi_loss': 'Categorical', '_period': 1, '_loss_by_col': None, '_loss_by_col_idx': None, '_regularization_x': 'None', '_regularization_y': 'None', '_gamma_x': 0.5, '_gamma_y': 0.5, '_max_iterations': 700, '_max_updates': 2000, '_init_step_size': 1.0, '_min_step_size': 0.0001, '_representation_name': None, '_recover_svd': True, '_impute_original': False, '_verbose': True}, 'error_count': 2}\n    exception_msg = 'Illegal argument(s) for GLRM model: GLRM_model_python_1601345407067_2.  Details: ERRR on field: _train: _train must have more than one column'\n    stacktrace =\n        water.exceptions.H2OModelBuilderIllegalArgumentException: Illegal argument(s) for GLRM model: GLRM_model_python_1601345407067_2.  Details: ERRR on field: _train: _train must have more than one column\n        water.exceptions.H2OModelBuilderIllegalArgumentException.makeFromBuilder(H2OModelBuilderIllegalArgumentException.java:19)\n        hex.ModelBuilder.trainModelOnH2ONode(ModelBuilder.java:319)\n        water.api.ModelBuilderHandler.handle(ModelBuilderHandler.java:51)\n        water.api.ModelBuilderHandler.handle(ModelBuilderHandler.java:16)\n        water.api.RequestServer.serve(RequestServer.java:470)\n        water.api.RequestServer.doGeneric(RequestServer.java:301)\n        water.api.RequestServer.doPost(RequestServer.java:227)\n        javax.servlet.http.HttpServlet.service(HttpServlet.java:755)\n        javax.servlet.http.HttpServlet.service(HttpServlet.java:848)\n        org.eclipse.jetty.servlet.ServletHolder.handle(ServletHolder.java:684)\n        org.eclipse.jetty.servlet.ServletHandler.doHandle(ServletHandler.java:501)\n        org.eclipse.jetty.server.handler.ContextHandler.doHandle(ContextHandler.java:1086)\n        org.eclipse.jetty.servlet.ServletHandler.doScope(ServletHandler.java:427)\n        org.eclipse.jetty.server.handler.ContextHandler.doScope(ContextHandler.java:1020)\n        org.eclipse.jetty.server.handler.ScopedHandler.handle(ScopedHandler.java:135)\n        org.eclipse.jetty.server.handler.HandlerCollection.handle(HandlerCollection.java:154)\n        org.eclipse.jetty.server.handler.HandlerWrapper.handle(HandlerWrapper.java:116)\n        water.webserver.jetty8.Jetty8ServerAdapter$LoginHandler.handle(Jetty8ServerAdapter.java:119)\n        org.eclipse.jetty.server.handler.HandlerCollection.handle(HandlerCollection.java:154)\n        org.eclipse.jetty.server.handler.HandlerWrapper.handle(HandlerWrapper.java:116)\n        org.eclipse.jetty.server.Server.handle(Server.java:370)\n        org.eclipse.jetty.server.AbstractHttpConnection.handleRequest(AbstractHttpConnection.java:494)\n        org.eclipse.jetty.server.BlockingHttpConnection.handleRequest(BlockingHttpConnection.java:53)\n        org.eclipse.jetty.server.AbstractHttpConnection.content(AbstractHttpConnection.java:984)\n        org.eclipse.jetty.server.AbstractHttpConnection$RequestHandler.content(AbstractHttpConnection.java:1045)\n        org.eclipse.jetty.http.HttpParser.parseNext(HttpParser.java:861)\n        org.eclipse.jetty.http.HttpParser.parseAvailable(HttpParser.java:236)\n        org.eclipse.jetty.server.BlockingHttpConnection.handle(BlockingHttpConnection.java:72)\n        org.eclipse.jetty.server.bio.SocketConnector$ConnectorEndPoint.run(SocketConnector.java:264)\n        org.eclipse.jetty.util.thread.QueuedThreadPool.runJob(QueuedThreadPool.java:608)\n        org.eclipse.jetty.util.thread.QueuedThreadPool$3.run(QueuedThreadPool.java:543)\n        java.base/java.lang.Thread.run(Thread.java:834)\n    parameters = {'__meta': {'schema_version': 3, 'schema_name': 'GLRMParametersV3', 'schema_type': 'GLRMParameters'}, 'model_id': None, 'training_frame': {'__meta': {'schema_version': 3, 'schema_name': 'FrameKeyV3', 'schema_type': 'Key<Frame>'}, 'name': 'py_32_sid_8096', 'type': 'Key<Frame>', 'URL': '/3/Frames/py_32_sid_8096'}, 'validation_frame': None, 'nfolds': 0, 'keep_cross_validation_models': True, 'keep_cross_validation_predictions': False, 'keep_cross_validation_fold_assignment': False, 'parallelize_cross_validation': True, 'distribution': 'AUTO', 'tweedie_power': 1.5, 'quantile_alpha': 0.5, 'huber_alpha': 0.9, 'response_column': None, 'weights_column': None, 'offset_column': None, 'fold_column': None, 'fold_assignment': 'AUTO', 'categorical_encoding': 'AUTO', 'max_categorical_levels': 10, 'ignored_columns': None, 'ignore_const_cols': True, 'score_each_iteration': False, 'checkpoint': None, 'stopping_rounds': 0, 'max_runtime_secs': 0.0, 'stopping_metric': 'AUTO', 'stopping_tolerance': 0.001, 'custom_metric_func': None, 'custom_distribution_func': None, 'export_checkpoints_dir': None, 'transform': 'STANDARDIZE', 'k': 2, 'loss': 'Quadratic', 'multi_loss': 'Categorical', 'loss_by_col': None, 'loss_by_col_idx': None, 'period': 1, 'regularization_x': 'None', 'regularization_y': 'None', 'gamma_x': 0.5, 'gamma_y': 0.5, 'max_iterations': 700, 'max_updates': 2000, 'init_step_size': 1.0, 'min_step_size': 0.0001, 'seed': -1, 'init': 'SVD', 'svd_method': 'Randomized', 'user_y': None, 'user_x': None, 'loading_name': None, 'expand_user_y': True, 'impute_original': False, 'recover_svd': True}\n    messages = [{'__meta': {'schema_version': 3, 'schema_name': 'ValidationMessageV3', 'schema_type': 'ValidationMessage'}, 'message_type': 'TRACE', 'field_name': 'keep_cross_validation_models', 'message': 'Only for cross-validation.'}, {'__meta': {'schema_version': 3, 'schema_name': 'ValidationMessageV3', 'schema_type': 'ValidationMessage'}, 'message_type': 'TRACE', 'field_name': 'keep_cross_validation_predictions', 'message': 'Only for cross-validation.'}, {'__meta': {'schema_version': 3, 'schema_name': 'ValidationMessageV3', 'schema_type': 'ValidationMessage'}, 'message_type': 'TRACE', 'field_name': 'keep_cross_validation_fold_assignment', 'message': 'Only for cross-validation.'}, {'__meta': {'schema_version': 3, 'schema_name': 'ValidationMessageV3', 'schema_type': 'ValidationMessage'}, 'message_type': 'TRACE', 'field_name': 'fold_assignment', 'message': 'Only for cross-validation.'}, {'__meta': {'schema_version': 3, 'schema_name': 'ValidationMessageV3', 'schema_type': 'ValidationMessage'}, 'message_type': 'TRACE', 'field_name': 'tweedie_power', 'message': 'Only for Tweedie Distribution.'}, {'__meta': {'schema_version': 3, 'schema_name': 'ValidationMessageV3', 'schema_type': 'ValidationMessage'}, 'message_type': 'WARN', 'field_name': 'train', 'message': 'Dropping bad and constant columns: [NC000962_3.4410309, NC000962_3.4410847, NC000962_3.4411518, NC000962_3.4410070, NC000962_3.4411405, NC000962_3.4411128, NC000962_3.4411245, NC000962_3.4411286, NC000962_3.4410276]'}, {'__meta': {'schema_version': 3, 'schema_name': 'ValidationMessageV3', 'schema_type': 'ValidationMessage'}, 'message_type': 'TRACE', 'field_name': 'response_column', 'message': 'Ignored for unsupervised methods.'}, {'__meta': {'schema_version': 3, 'schema_name': 'ValidationMessageV3', 'schema_type': 'ValidationMessage'}, 'message_type': 'TRACE', 'field_name': 'balance_classes', 'message': 'Ignored for unsupervised methods.'}, {'__meta': {'schema_version': 3, 'schema_name': 'ValidationMessageV3', 'schema_type': 'ValidationMessage'}, 'message_type': 'TRACE', 'field_name': 'class_sampling_factors', 'message': 'Ignored for unsupervised methods.'}, {'__meta': {'schema_version': 3, 'schema_name': 'ValidationMessageV3', 'schema_type': 'ValidationMessage'}, 'message_type': 'TRACE', 'field_name': 'max_after_balance_size', 'message': 'Ignored for unsupervised methods.'}, {'__meta': {'schema_version': 3, 'schema_name': 'ValidationMessageV3', 'schema_type': 'ValidationMessage'}, 'message_type': 'TRACE', 'field_name': 'max_confusion_matrix_size', 'message': 'Ignored for unsupervised methods.'}, {'__meta': {'schema_version': 3, 'schema_name': 'ValidationMessageV3', 'schema_type': 'ValidationMessage'}, 'message_type': 'ERRR', 'field_name': 'train', 'message': '_train must have more than one column'}]\n    error_count = 2\n"
     ]
    }
   ],
   "source": [
    "\n",
    "# Build and train the model:\n",
    "glrm_model = H2OGeneralizedLowRankEstimator(k = 2,\n",
    "                                            loss = \"quadratic\",\n",
    "                                            gamma_x = 0.5,\n",
    "                                            gamma_y = 0.5,\n",
    "                                            max_iterations = 700,\n",
    "                                            recover_svd = True,\n",
    "                                            init = \"SVD\",\n",
    "                                            transform = \"standardize\")\n",
    "glrm_model.train(training_frame=train)"
   ]
  },
  {
   "cell_type": "code",
   "execution_count": 38,
   "metadata": {},
   "outputs": [
    {
     "name": "stdout",
     "output_type": "stream",
     "text": [
      "gbm Model Build progress: |███████████████████████████████████████████████| 100%\n"
     ]
    }
   ],
   "source": [
    "\n",
    "# Train and cross-validate a GBM\n",
    "my_gbm = H2OGradientBoostingEstimator(distribution=\"bernoulli\",\n",
    "                                      ntrees=10,\n",
    "                                      max_depth=3,\n",
    "                                      min_rows=2,\n",
    "                                      learn_rate=0.2,\n",
    "                                      nfolds=nfolds,\n",
    "                                      fold_assignment=\"Modulo\",\n",
    "                                      keep_cross_validation_predictions=True,\n",
    "                                      seed=1)\n",
    "\n",
    "my_gbm.train(x=x, y=y, training_frame=train)\n"
   ]
  },
  {
   "cell_type": "code",
   "execution_count": 39,
   "metadata": {
    "pycharm": {
     "name": "#%%\n"
    }
   },
   "outputs": [
    {
     "name": "stdout",
     "output_type": "stream",
     "text": [
      "drf Model Build progress: |███████████████████████████████████████████████| 100%\n"
     ]
    }
   ],
   "source": [
    "\n",
    "# Train and cross-validate a RF\n",
    "my_rf = H2ORandomForestEstimator(ntrees=50,\n",
    "                                 nfolds=nfolds,\n",
    "                                 fold_assignment=\"Modulo\",\n",
    "                                 keep_cross_validation_predictions=True,\n",
    "                                 seed=1)\n",
    "\n",
    "my_rf.train(x=x, y=y, training_frame=train)\n"
   ]
  },
  {
   "cell_type": "code",
   "execution_count": 40,
   "metadata": {
    "pycharm": {
     "name": "#%%\n"
    }
   },
   "outputs": [
    {
     "name": "stdout",
     "output_type": "stream",
     "text": [
      "stackedensemble Model Build progress: |███████████████████████████████████| 100%\n",
      "Best Base-learner Test AUC:  0.7702913152422667\n",
      "Ensemble Test AUC:  0.7745421930491371\n",
      "stackedensemble prediction progress: |████████████████████████████████████| 100%\n",
      "gbm Grid Build progress: |████████████████████████████████████████████████| 100%\n",
      "stackedensemble Model Build progress: |███████████████████████████████████| 100%\n",
      "Best Base-learner Test AUC:  0.7477238156143039\n",
      "Ensemble Test AUC:  0.7490942802788068\n",
      "stackedensemble prediction progress: |████████████████████████████████████| 100%\n"
     ]
    }
   ],
   "source": [
    "# Train a stacked ensemble using the GBM and GLM above\n",
    "ensemble = H2OStackedEnsembleEstimator(model_id=\"my_ensemble_binomial\",\n",
    "                                       base_models=[my_gbm, my_rf])\n",
    "ensemble.train(x=x, y=y, training_frame=train)\n",
    "\n",
    "# Eval ensemble performance on the test data\n",
    "perf_stack_test = ensemble.model_performance(test)\n",
    "\n",
    "# Compare to base learner performance on the test set\n",
    "perf_gbm_test = my_gbm.model_performance(test)\n",
    "perf_rf_test = my_rf.model_performance(test)\n",
    "baselearner_best_auc_test = max(perf_gbm_test.auc(), perf_rf_test.auc())\n",
    "stack_auc_test = perf_stack_test.auc()\n",
    "print(\"Best Base-learner Test AUC:  {0}\".format(baselearner_best_auc_test))\n",
    "print(\"Ensemble Test AUC:  {0}\".format(stack_auc_test))\n",
    "\n",
    "# Generate predictions on a test set (if neccessary)\n",
    "pred = ensemble.predict(test)\n",
    "\n",
    "\n",
    "# 2. Generate a random grid of models and stack them together\n",
    "\n",
    "# Specify GBM hyperparameters for the grid\n",
    "hyper_params = {\"learn_rate\": [0.01, 0.03],\n",
    "                \"max_depth\": [3, 4, 5, 6, 9],\n",
    "                \"sample_rate\": [0.7, 0.8, 0.9, 1.0],\n",
    "                \"col_sample_rate\": [0.2, 0.3, 0.4, 0.5, 0.6, 0.7, 0.8]}\n",
    "search_criteria = {\"strategy\": \"RandomDiscrete\", \"max_models\": 3, \"seed\": 1}\n",
    "\n",
    "# Train the grid\n",
    "grid = H2OGridSearch(model=H2OGradientBoostingEstimator(ntrees=10,\n",
    "                                                        seed=1,\n",
    "                                                        nfolds=nfolds,\n",
    "                                                        fold_assignment=\"Modulo\",\n",
    "                                                        keep_cross_validation_predictions=True),\n",
    "                     hyper_params=hyper_params,\n",
    "                     search_criteria=search_criteria,\n",
    "                     grid_id=\"gbm_grid_binomial\")\n",
    "grid.train(x=x, y=y, training_frame=train)\n",
    "\n",
    "# Train a stacked ensemble using the GBM grid\n",
    "ensemble = H2OStackedEnsembleEstimator(model_id=\"my_ensemble_gbm_grid_binomial\",\n",
    "                                       base_models=grid.model_ids)\n",
    "ensemble.train(x=x, y=y, training_frame=train)\n",
    "\n",
    "# Eval ensemble performance on the test data\n",
    "perf_stack_test = ensemble.model_performance(test)\n",
    "\n",
    "# Compare to base learner performance on the test set\n",
    "baselearner_best_auc_test = max([h2o.get_model(model).model_performance(test_data=test).auc() for model in grid.model_ids])\n",
    "stack_auc_test = perf_stack_test.auc()\n",
    "print(\"Best Base-learner Test AUC:  {0}\".format(baselearner_best_auc_test))\n",
    "print(\"Ensemble Test AUC:  {0}\".format(stack_auc_test))\n",
    "\n",
    "# Generate predictions on a test set (if neccessary)\n",
    "pred = ensemble.predict(test)\n"
   ]
  },
  {
   "cell_type": "code",
   "execution_count": null,
   "metadata": {},
   "outputs": [],
   "source": []
  }
 ],
 "metadata": {
  "kernelspec": {
   "display_name": "PyCharm (drug-resistance-prediction-cambiohack)",
   "language": "python",
   "name": "pycharm-f27e5417"
  },
  "language_info": {
   "codemirror_mode": {
    "name": "ipython",
    "version": 3
   },
   "file_extension": ".py",
   "mimetype": "text/x-python",
   "name": "python",
   "nbconvert_exporter": "python",
   "pygments_lexer": "ipython3",
   "version": "3.7.4"
  }
 },
 "nbformat": 4,
 "nbformat_minor": 1
}