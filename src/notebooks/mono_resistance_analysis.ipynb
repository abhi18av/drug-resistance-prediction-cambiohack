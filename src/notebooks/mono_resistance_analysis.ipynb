{
 "cells": [
  {
   "cell_type": "markdown",
   "source": [
    "# Mono resistance prediction\n",
    "\n",
    "In this POC, we gloss over\n",
    "\n",
    "- the resistance towards distinct drugs\n",
    "- treat the mdr and xdr as simply being resistant\n"
   ],
   "metadata": {
    "collapsed": false,
    "pycharm": {
     "name": "#%% md\n"
    }
   }
  },
  {
   "cell_type": "code",
   "execution_count": 1,
   "metadata": {
    "collapsed": true
   },
   "outputs": [],
   "source": [
    "# Import the usual suspects.\n",
    "import allel\n",
    "import pandas as pd\n"
   ]
  },
  {
   "cell_type": "code",
   "execution_count": 3,
   "outputs": [],
   "source": [
    "# Code to create a custom snp_df\n",
    "\"\"\"\n",
    "\n",
    "# see http://alimanfoo.github.io/2017/06/14/read-vcf.html for allel tutorial\n",
    "vcf = allel.read_vcf(\"../data/interim/haplotypeCaller/cohort.bqsr.filter.snps.vcf\")\n",
    "\n",
    "def vcf_get_index(vcf):\n",
    "    \"\"\"Return index as \"CHR.POS\".\"\"\"\n",
    "    return [\n",
    "        \".\".join([chrom, str(pos)]) for chrom, pos in zip(\n",
    "            vcf[\"variants/CHROM\"],\n",
    "            vcf[\"variants/POS\"]\n",
    "        )\n",
    "    ]\n",
    "\n",
    "def vcf_get_columns(vcf):\n",
    "    \"\"\"Return columns as \"SAMPLE_ID\".\"\"\"\n",
    "    return vcf[\"samples\"]\n",
    "\n",
    "def vcf_to_snp_count(vcf):\n",
    "    \"\"\"Yield snp counts per sample, iterating over the snps in vcf.\"\"\"\n",
    "    for gt in vcf[\"calldata/GT\"]:\n",
    "        # GT value per allele is 0 if ref, >0 if alt.\n",
    "        # see https://samtools.github.io/hts-specs/VCFv4.2.pdf section 1.4.2.\n",
    "        n_snps = [sum(allele > 0) for allele in gt]\n",
    "        yield n_snps\n",
    "\n",
    "# TODO implement a function to only tell the nature of GT -> homo (0) or hetero (1)\n",
    "\n",
    "snps_df = pd.DataFrame(\n",
    "    vcf_to_snp_count(vcf),\n",
    "    index=vcf_get_index(vcf),\n",
    "    columns=vcf_get_columns(vcf)\n",
    ")\n",
    "\n",
    "\"\"\""
   ],
   "metadata": {
    "collapsed": false,
    "pycharm": {
     "name": "#%%\n"
    }
   }
  },
  {
   "cell_type": "code",
   "execution_count": 11,
   "outputs": [
    {
     "data": {
      "text/plain": "            NC000962_3.11  NC000962_3.78  NC000962_3.80  NC000962_3.82  \\\nERR3129939              0              0              0              0   \nERR3148148              0              0              0              0   \nERR3148149              0              0              0              0   \nERR3148151              0              0              0              0   \nERR3148153              0              0              0              0   \n\n            NC000962_3.88  NC000962_3.102  NC000962_3.104  NC000962_3.108  \\\nERR3129939              0               0               0               0   \nERR3148148              0               0               0               0   \nERR3148149              0               0               0               0   \nERR3148151              0               0               0               0   \nERR3148153              0               0               0               0   \n\n            NC000962_3.117  NC000962_3.120  ...  NC000962_3.4410066  \\\nERR3129939               0               0  ...                   0   \nERR3148148               0               0  ...                   0   \nERR3148149               0               0  ...                   0   \nERR3148151               0               0  ...                   0   \nERR3148153               0               0  ...                   0   \n\n            NC000962_3.4410070  NC000962_3.4410276  NC000962_3.4410309  \\\nERR3129939                   0                   0                   0   \nERR3148148                   0                   0                   0   \nERR3148149                   0                   0                   0   \nERR3148151                   0                   0                   0   \nERR3148153                   0                   0                   0   \n\n            NC000962_3.4410847  NC000962_3.4411128  NC000962_3.4411245  \\\nERR3129939                   0                   0                   0   \nERR3148148                   0                   0                   0   \nERR3148149                   0                   0                   0   \nERR3148151                   0                   0                   0   \nERR3148153                   0                   0                   0   \n\n            NC000962_3.4411286  NC000962_3.4411405  NC000962_3.4411518  \nERR3129939                   0                   0                   0  \nERR3148148                   0                   0                   0  \nERR3148149                   0                   0                   0  \nERR3148151                   0                   0                   0  \nERR3148153                   0                   0                   0  \n\n[5 rows x 134256 columns]",
      "text/html": "<div>\n<style scoped>\n    .dataframe tbody tr th:only-of-type {\n        vertical-align: middle;\n    }\n\n    .dataframe tbody tr th {\n        vertical-align: top;\n    }\n\n    .dataframe thead th {\n        text-align: right;\n    }\n</style>\n<table border=\"1\" class=\"dataframe\">\n  <thead>\n    <tr style=\"text-align: right;\">\n      <th></th>\n      <th>NC000962_3.11</th>\n      <th>NC000962_3.78</th>\n      <th>NC000962_3.80</th>\n      <th>NC000962_3.82</th>\n      <th>NC000962_3.88</th>\n      <th>NC000962_3.102</th>\n      <th>NC000962_3.104</th>\n      <th>NC000962_3.108</th>\n      <th>NC000962_3.117</th>\n      <th>NC000962_3.120</th>\n      <th>...</th>\n      <th>NC000962_3.4410066</th>\n      <th>NC000962_3.4410070</th>\n      <th>NC000962_3.4410276</th>\n      <th>NC000962_3.4410309</th>\n      <th>NC000962_3.4410847</th>\n      <th>NC000962_3.4411128</th>\n      <th>NC000962_3.4411245</th>\n      <th>NC000962_3.4411286</th>\n      <th>NC000962_3.4411405</th>\n      <th>NC000962_3.4411518</th>\n    </tr>\n  </thead>\n  <tbody>\n    <tr>\n      <th>ERR3129939</th>\n      <td>0</td>\n      <td>0</td>\n      <td>0</td>\n      <td>0</td>\n      <td>0</td>\n      <td>0</td>\n      <td>0</td>\n      <td>0</td>\n      <td>0</td>\n      <td>0</td>\n      <td>...</td>\n      <td>0</td>\n      <td>0</td>\n      <td>0</td>\n      <td>0</td>\n      <td>0</td>\n      <td>0</td>\n      <td>0</td>\n      <td>0</td>\n      <td>0</td>\n      <td>0</td>\n    </tr>\n    <tr>\n      <th>ERR3148148</th>\n      <td>0</td>\n      <td>0</td>\n      <td>0</td>\n      <td>0</td>\n      <td>0</td>\n      <td>0</td>\n      <td>0</td>\n      <td>0</td>\n      <td>0</td>\n      <td>0</td>\n      <td>...</td>\n      <td>0</td>\n      <td>0</td>\n      <td>0</td>\n      <td>0</td>\n      <td>0</td>\n      <td>0</td>\n      <td>0</td>\n      <td>0</td>\n      <td>0</td>\n      <td>0</td>\n    </tr>\n    <tr>\n      <th>ERR3148149</th>\n      <td>0</td>\n      <td>0</td>\n      <td>0</td>\n      <td>0</td>\n      <td>0</td>\n      <td>0</td>\n      <td>0</td>\n      <td>0</td>\n      <td>0</td>\n      <td>0</td>\n      <td>...</td>\n      <td>0</td>\n      <td>0</td>\n      <td>0</td>\n      <td>0</td>\n      <td>0</td>\n      <td>0</td>\n      <td>0</td>\n      <td>0</td>\n      <td>0</td>\n      <td>0</td>\n    </tr>\n    <tr>\n      <th>ERR3148151</th>\n      <td>0</td>\n      <td>0</td>\n      <td>0</td>\n      <td>0</td>\n      <td>0</td>\n      <td>0</td>\n      <td>0</td>\n      <td>0</td>\n      <td>0</td>\n      <td>0</td>\n      <td>...</td>\n      <td>0</td>\n      <td>0</td>\n      <td>0</td>\n      <td>0</td>\n      <td>0</td>\n      <td>0</td>\n      <td>0</td>\n      <td>0</td>\n      <td>0</td>\n      <td>0</td>\n    </tr>\n    <tr>\n      <th>ERR3148153</th>\n      <td>0</td>\n      <td>0</td>\n      <td>0</td>\n      <td>0</td>\n      <td>0</td>\n      <td>0</td>\n      <td>0</td>\n      <td>0</td>\n      <td>0</td>\n      <td>0</td>\n      <td>...</td>\n      <td>0</td>\n      <td>0</td>\n      <td>0</td>\n      <td>0</td>\n      <td>0</td>\n      <td>0</td>\n      <td>0</td>\n      <td>0</td>\n      <td>0</td>\n      <td>0</td>\n    </tr>\n  </tbody>\n</table>\n<p>5 rows × 134256 columns</p>\n</div>"
     },
     "execution_count": 11,
     "metadata": {},
     "output_type": "execute_result"
    }
   ],
   "source": [
    "snps_df = pd.read_json(\"../data/processed/snps_df.json\")\n",
    "snps_df.head()\n",
    "\n"
   ],
   "metadata": {
    "collapsed": false,
    "pycharm": {
     "name": "#%%\n"
    }
   }
  },
  {
   "cell_type": "code",
   "execution_count": 3,
   "outputs": [
    {
     "data": {
      "text/plain": "                   rifampicin                         isoniazid  \\\nERR760783    rpoB_p.Ser450Leu                  katG_p.Ser315Thr   \nERR776661    rpoB_p.Ser450Leu                     ahpC_c.-81C>T   \nSRR11098556                 -                                 -   \nERR760911    rpoB_p.Ser450Leu                  katG_p.Ser315Thr   \nSRR9224969   rpoB_p.Ser450Leu  fabG1_c.-15C>T, katG_p.Ser315Thr   \n\n                 pyrazinamide  \\\nERR760783     pncA_p.Gln10Pro   \nERR776661    pncA_p.Met175Val   \nSRR11098556                 -   \nERR760911     pncA_p.Gln10Pro   \nSRR9224969   pncA_p.Gly132Ser   \n\n                                                    ethambutol  \\\nERR760783                                     embB_p.Gly406Ala   \nERR776661    embB_p.Gly406Ser, embB_p.Met306Val, embA_c.-16C>G   \nSRR11098556                                                  -   \nERR760911                                     embB_p.Gly406Ala   \nSRR9224969                                    embB_p.Met306Val   \n\n                                 streptomycin fluoroquinolones moxifloxacin  \\\nERR760783                                   -                -            -   \nERR776661    rpsL_p.Lys43Arg, rpsL_p.Lys88Gln                -            -   \nSRR11098556                                 -                -            -   \nERR760911                                   -                -            -   \nSRR9224969                                  -                -            -   \n\n            ofloxacin levofloxacin ciprofloxacin  ... cycloserine linezolid  \\\nERR760783           -            -             -  ...           -         -   \nERR776661           -            -             -  ...           -         -   \nSRR11098556         -            -             -  ...           -         -   \nERR760911           -            -             -  ...           -         -   \nSRR9224969          -            -             -  ...           -         -   \n\n            bedaquiline clofazimine delamanid  main_lin          sublin  \\\nERR760783             -           -         -  lineage4  lineage4.1.2.1   \nERR776661             -           -         -  lineage4    lineage4.3.2   \nSRR11098556           -           -         -  lineage2    lineage2.2.1   \nERR760911             -           -         -  lineage4  lineage4.1.2.1   \nSRR9224969            -           -         -  lineage4  lineage4.1.2.1   \n\n                drtype MDR XDR  \nERR760783          MDR   R      \nERR776661          MDR   R      \nSRR11098556  Sensitive          \nERR760911          MDR   R      \nSRR9224969         MDR   R      \n\n[5 rows x 26 columns]",
      "text/html": "<div>\n<style scoped>\n    .dataframe tbody tr th:only-of-type {\n        vertical-align: middle;\n    }\n\n    .dataframe tbody tr th {\n        vertical-align: top;\n    }\n\n    .dataframe thead th {\n        text-align: right;\n    }\n</style>\n<table border=\"1\" class=\"dataframe\">\n  <thead>\n    <tr style=\"text-align: right;\">\n      <th></th>\n      <th>rifampicin</th>\n      <th>isoniazid</th>\n      <th>pyrazinamide</th>\n      <th>ethambutol</th>\n      <th>streptomycin</th>\n      <th>fluoroquinolones</th>\n      <th>moxifloxacin</th>\n      <th>ofloxacin</th>\n      <th>levofloxacin</th>\n      <th>ciprofloxacin</th>\n      <th>...</th>\n      <th>cycloserine</th>\n      <th>linezolid</th>\n      <th>bedaquiline</th>\n      <th>clofazimine</th>\n      <th>delamanid</th>\n      <th>main_lin</th>\n      <th>sublin</th>\n      <th>drtype</th>\n      <th>MDR</th>\n      <th>XDR</th>\n    </tr>\n  </thead>\n  <tbody>\n    <tr>\n      <th>ERR760783</th>\n      <td>rpoB_p.Ser450Leu</td>\n      <td>katG_p.Ser315Thr</td>\n      <td>pncA_p.Gln10Pro</td>\n      <td>embB_p.Gly406Ala</td>\n      <td>-</td>\n      <td>-</td>\n      <td>-</td>\n      <td>-</td>\n      <td>-</td>\n      <td>-</td>\n      <td>...</td>\n      <td>-</td>\n      <td>-</td>\n      <td>-</td>\n      <td>-</td>\n      <td>-</td>\n      <td>lineage4</td>\n      <td>lineage4.1.2.1</td>\n      <td>MDR</td>\n      <td>R</td>\n      <td></td>\n    </tr>\n    <tr>\n      <th>ERR776661</th>\n      <td>rpoB_p.Ser450Leu</td>\n      <td>ahpC_c.-81C&gt;T</td>\n      <td>pncA_p.Met175Val</td>\n      <td>embB_p.Gly406Ser, embB_p.Met306Val, embA_c.-16C&gt;G</td>\n      <td>rpsL_p.Lys43Arg, rpsL_p.Lys88Gln</td>\n      <td>-</td>\n      <td>-</td>\n      <td>-</td>\n      <td>-</td>\n      <td>-</td>\n      <td>...</td>\n      <td>-</td>\n      <td>-</td>\n      <td>-</td>\n      <td>-</td>\n      <td>-</td>\n      <td>lineage4</td>\n      <td>lineage4.3.2</td>\n      <td>MDR</td>\n      <td>R</td>\n      <td></td>\n    </tr>\n    <tr>\n      <th>SRR11098556</th>\n      <td>-</td>\n      <td>-</td>\n      <td>-</td>\n      <td>-</td>\n      <td>-</td>\n      <td>-</td>\n      <td>-</td>\n      <td>-</td>\n      <td>-</td>\n      <td>-</td>\n      <td>...</td>\n      <td>-</td>\n      <td>-</td>\n      <td>-</td>\n      <td>-</td>\n      <td>-</td>\n      <td>lineage2</td>\n      <td>lineage2.2.1</td>\n      <td>Sensitive</td>\n      <td></td>\n      <td></td>\n    </tr>\n    <tr>\n      <th>ERR760911</th>\n      <td>rpoB_p.Ser450Leu</td>\n      <td>katG_p.Ser315Thr</td>\n      <td>pncA_p.Gln10Pro</td>\n      <td>embB_p.Gly406Ala</td>\n      <td>-</td>\n      <td>-</td>\n      <td>-</td>\n      <td>-</td>\n      <td>-</td>\n      <td>-</td>\n      <td>...</td>\n      <td>-</td>\n      <td>-</td>\n      <td>-</td>\n      <td>-</td>\n      <td>-</td>\n      <td>lineage4</td>\n      <td>lineage4.1.2.1</td>\n      <td>MDR</td>\n      <td>R</td>\n      <td></td>\n    </tr>\n    <tr>\n      <th>SRR9224969</th>\n      <td>rpoB_p.Ser450Leu</td>\n      <td>fabG1_c.-15C&gt;T, katG_p.Ser315Thr</td>\n      <td>pncA_p.Gly132Ser</td>\n      <td>embB_p.Met306Val</td>\n      <td>-</td>\n      <td>-</td>\n      <td>-</td>\n      <td>-</td>\n      <td>-</td>\n      <td>-</td>\n      <td>...</td>\n      <td>-</td>\n      <td>-</td>\n      <td>-</td>\n      <td>-</td>\n      <td>-</td>\n      <td>lineage4</td>\n      <td>lineage4.1.2.1</td>\n      <td>MDR</td>\n      <td>R</td>\n      <td></td>\n    </tr>\n  </tbody>\n</table>\n<p>5 rows × 26 columns</p>\n</div>"
     },
     "execution_count": 3,
     "metadata": {},
     "output_type": "execute_result"
    }
   ],
   "source": [
    "\"\"\"\n",
    "# Read the final results file from tb-profiler results\n",
    "\n",
    "tbprofiler_df = pd.read_json(\"../data/raw/tbProfiler/tbprofiler.json\", encoding=\"UTF-8\")\n",
    "tbprofiler_df = tbprofiler_df.transpose()\n",
    "tbprofiler_df.head()\n",
    "\"\"\""
   ],
   "metadata": {
    "collapsed": false,
    "pycharm": {
     "name": "#%%\n"
    }
   }
  },
  {
   "cell_type": "code",
   "execution_count": 4,
   "outputs": [
    {
     "name": "stderr",
     "output_type": "stream",
     "text": [
      "C:\\tools\\miniconda3\\lib\\site-packages\\ipykernel_launcher.py:2: SettingWithCopyWarning: \n",
      "A value is trying to be set on a copy of a slice from a DataFrame.\n",
      "Try using .loc[row_indexer,col_indexer] = value instead\n",
      "\n",
      "See the caveats in the documentation: https://pandas.pydata.org/pandas-docs/stable/user_guide/indexing.html#returning-a-view-versus-a-copy\n",
      "  \n"
     ]
    },
    {
     "data": {
      "text/plain": "             isResistant\nERR760783              1\nERR776661              1\nSRR11098556            0\nERR760911              1\nSRR9224969             1",
      "text/html": "<div>\n<style scoped>\n    .dataframe tbody tr th:only-of-type {\n        vertical-align: middle;\n    }\n\n    .dataframe tbody tr th {\n        vertical-align: top;\n    }\n\n    .dataframe thead th {\n        text-align: right;\n    }\n</style>\n<table border=\"1\" class=\"dataframe\">\n  <thead>\n    <tr style=\"text-align: right;\">\n      <th></th>\n      <th>isResistant</th>\n    </tr>\n  </thead>\n  <tbody>\n    <tr>\n      <th>ERR760783</th>\n      <td>1</td>\n    </tr>\n    <tr>\n      <th>ERR776661</th>\n      <td>1</td>\n    </tr>\n    <tr>\n      <th>SRR11098556</th>\n      <td>0</td>\n    </tr>\n    <tr>\n      <th>ERR760911</th>\n      <td>1</td>\n    </tr>\n    <tr>\n      <th>SRR9224969</th>\n      <td>1</td>\n    </tr>\n  </tbody>\n</table>\n</div>"
     },
     "execution_count": 4,
     "metadata": {},
     "output_type": "execute_result"
    }
   ],
   "source": [
    "\"\"\"\n",
    "resistance_status_df = tbprofiler_df[['drtype']]\n",
    "resistance_status_df['isResistant'] = resistance_status_df.apply(lambda row: 0 if (row.drtype == 'Sensitive') else 1, axis = 1)\n",
    "resistance_status_df = resistance_status_df.drop(['drtype'], axis=1)\n",
    "resistance_status_df.head()\n",
    "\"\"\""
   ],
   "metadata": {
    "collapsed": false,
    "pycharm": {
     "name": "#%%\n"
    }
   }
  },
  {
   "cell_type": "code",
   "execution_count": 8,
   "outputs": [
    {
     "data": {
      "text/plain": "            isResistant\nERR3087504            0\nERR3129939            0\nERR3129940            0\nERR3148147            1\nERR3148148            0",
      "text/html": "<div>\n<style scoped>\n    .dataframe tbody tr th:only-of-type {\n        vertical-align: middle;\n    }\n\n    .dataframe tbody tr th {\n        vertical-align: top;\n    }\n\n    .dataframe thead th {\n        text-align: right;\n    }\n</style>\n<table border=\"1\" class=\"dataframe\">\n  <thead>\n    <tr style=\"text-align: right;\">\n      <th></th>\n      <th>isResistant</th>\n    </tr>\n  </thead>\n  <tbody>\n    <tr>\n      <th>ERR3087504</th>\n      <td>0</td>\n    </tr>\n    <tr>\n      <th>ERR3129939</th>\n      <td>0</td>\n    </tr>\n    <tr>\n      <th>ERR3129940</th>\n      <td>0</td>\n    </tr>\n    <tr>\n      <th>ERR3148147</th>\n      <td>1</td>\n    </tr>\n    <tr>\n      <th>ERR3148148</th>\n      <td>0</td>\n    </tr>\n  </tbody>\n</table>\n</div>"
     },
     "execution_count": 8,
     "metadata": {},
     "output_type": "execute_result"
    }
   ],
   "source": [
    "resistance_status_df = pd.read_json(\"../data/processed/resistance_status_df.json\")\n",
    "resistance_status_df.head()"
   ],
   "metadata": {
    "collapsed": false,
    "pycharm": {
     "name": "#%%\n"
    }
   }
  },
  {
   "cell_type": "code",
   "execution_count": 17,
   "outputs": [],
   "source": [
    "# mono_resistance_df = snps_df.join(resistance_status_df)\n",
    "# mono_resistance_df.to_json(\"../data/processed/mono_resistance_df.json\")\n",
    "\n",
    "mono_resistance_df = pd.read_json(\"../data/processed/mono_resistance_df.json\")"
   ],
   "metadata": {
    "collapsed": false,
    "pycharm": {
     "name": "#%%\n"
    }
   }
  },
  {
   "cell_type": "code",
   "execution_count": 18,
   "outputs": [
    {
     "data": {
      "text/plain": "            NC000962_3.11  NC000962_3.78  NC000962_3.80  NC000962_3.82  \\\nERR3129939              0              0              0              0   \nERR3148148              0              0              0              0   \nERR3148149              0              0              0              0   \nERR3148151              0              0              0              0   \nERR3148153              0              0              0              0   \n\n            NC000962_3.88  NC000962_3.102  NC000962_3.104  NC000962_3.108  \\\nERR3129939              0               0               0               0   \nERR3148148              0               0               0               0   \nERR3148149              0               0               0               0   \nERR3148151              0               0               0               0   \nERR3148153              0               0               0               0   \n\n            NC000962_3.117  NC000962_3.120  ...  NC000962_3.4410070  \\\nERR3129939               0               0  ...                   0   \nERR3148148               0               0  ...                   0   \nERR3148149               0               0  ...                   0   \nERR3148151               0               0  ...                   0   \nERR3148153               0               0  ...                   0   \n\n            NC000962_3.4410276  NC000962_3.4410309  NC000962_3.4410847  \\\nERR3129939                   0                   0                   0   \nERR3148148                   0                   0                   0   \nERR3148149                   0                   0                   0   \nERR3148151                   0                   0                   0   \nERR3148153                   0                   0                   0   \n\n            NC000962_3.4411128  NC000962_3.4411245  NC000962_3.4411286  \\\nERR3129939                   0                   0                   0   \nERR3148148                   0                   0                   0   \nERR3148149                   0                   0                   0   \nERR3148151                   0                   0                   0   \nERR3148153                   0                   0                   0   \n\n            NC000962_3.4411405  NC000962_3.4411518  isResistant  \nERR3129939                   0                   0          0.0  \nERR3148148                   0                   0          0.0  \nERR3148149                   0                   0          1.0  \nERR3148151                   0                   0          1.0  \nERR3148153                   0                   0          0.0  \n\n[5 rows x 134257 columns]",
      "text/html": "<div>\n<style scoped>\n    .dataframe tbody tr th:only-of-type {\n        vertical-align: middle;\n    }\n\n    .dataframe tbody tr th {\n        vertical-align: top;\n    }\n\n    .dataframe thead th {\n        text-align: right;\n    }\n</style>\n<table border=\"1\" class=\"dataframe\">\n  <thead>\n    <tr style=\"text-align: right;\">\n      <th></th>\n      <th>NC000962_3.11</th>\n      <th>NC000962_3.78</th>\n      <th>NC000962_3.80</th>\n      <th>NC000962_3.82</th>\n      <th>NC000962_3.88</th>\n      <th>NC000962_3.102</th>\n      <th>NC000962_3.104</th>\n      <th>NC000962_3.108</th>\n      <th>NC000962_3.117</th>\n      <th>NC000962_3.120</th>\n      <th>...</th>\n      <th>NC000962_3.4410070</th>\n      <th>NC000962_3.4410276</th>\n      <th>NC000962_3.4410309</th>\n      <th>NC000962_3.4410847</th>\n      <th>NC000962_3.4411128</th>\n      <th>NC000962_3.4411245</th>\n      <th>NC000962_3.4411286</th>\n      <th>NC000962_3.4411405</th>\n      <th>NC000962_3.4411518</th>\n      <th>isResistant</th>\n    </tr>\n  </thead>\n  <tbody>\n    <tr>\n      <th>ERR3129939</th>\n      <td>0</td>\n      <td>0</td>\n      <td>0</td>\n      <td>0</td>\n      <td>0</td>\n      <td>0</td>\n      <td>0</td>\n      <td>0</td>\n      <td>0</td>\n      <td>0</td>\n      <td>...</td>\n      <td>0</td>\n      <td>0</td>\n      <td>0</td>\n      <td>0</td>\n      <td>0</td>\n      <td>0</td>\n      <td>0</td>\n      <td>0</td>\n      <td>0</td>\n      <td>0.0</td>\n    </tr>\n    <tr>\n      <th>ERR3148148</th>\n      <td>0</td>\n      <td>0</td>\n      <td>0</td>\n      <td>0</td>\n      <td>0</td>\n      <td>0</td>\n      <td>0</td>\n      <td>0</td>\n      <td>0</td>\n      <td>0</td>\n      <td>...</td>\n      <td>0</td>\n      <td>0</td>\n      <td>0</td>\n      <td>0</td>\n      <td>0</td>\n      <td>0</td>\n      <td>0</td>\n      <td>0</td>\n      <td>0</td>\n      <td>0.0</td>\n    </tr>\n    <tr>\n      <th>ERR3148149</th>\n      <td>0</td>\n      <td>0</td>\n      <td>0</td>\n      <td>0</td>\n      <td>0</td>\n      <td>0</td>\n      <td>0</td>\n      <td>0</td>\n      <td>0</td>\n      <td>0</td>\n      <td>...</td>\n      <td>0</td>\n      <td>0</td>\n      <td>0</td>\n      <td>0</td>\n      <td>0</td>\n      <td>0</td>\n      <td>0</td>\n      <td>0</td>\n      <td>0</td>\n      <td>1.0</td>\n    </tr>\n    <tr>\n      <th>ERR3148151</th>\n      <td>0</td>\n      <td>0</td>\n      <td>0</td>\n      <td>0</td>\n      <td>0</td>\n      <td>0</td>\n      <td>0</td>\n      <td>0</td>\n      <td>0</td>\n      <td>0</td>\n      <td>...</td>\n      <td>0</td>\n      <td>0</td>\n      <td>0</td>\n      <td>0</td>\n      <td>0</td>\n      <td>0</td>\n      <td>0</td>\n      <td>0</td>\n      <td>0</td>\n      <td>1.0</td>\n    </tr>\n    <tr>\n      <th>ERR3148153</th>\n      <td>0</td>\n      <td>0</td>\n      <td>0</td>\n      <td>0</td>\n      <td>0</td>\n      <td>0</td>\n      <td>0</td>\n      <td>0</td>\n      <td>0</td>\n      <td>0</td>\n      <td>...</td>\n      <td>0</td>\n      <td>0</td>\n      <td>0</td>\n      <td>0</td>\n      <td>0</td>\n      <td>0</td>\n      <td>0</td>\n      <td>0</td>\n      <td>0</td>\n      <td>0.0</td>\n    </tr>\n  </tbody>\n</table>\n<p>5 rows × 134257 columns</p>\n</div>"
     },
     "execution_count": 18,
     "metadata": {},
     "output_type": "execute_result"
    }
   ],
   "source": [
    "mono_resistance_df.head()"
   ],
   "metadata": {
    "collapsed": false,
    "pycharm": {
     "name": "#%%\n"
    }
   }
  },
  {
   "cell_type": "code",
   "execution_count": 20,
   "outputs": [
    {
     "data": {
      "text/plain": "(301, 134257)"
     },
     "execution_count": 20,
     "metadata": {},
     "output_type": "execute_result"
    }
   ],
   "source": [
    "# mono_resistance_df.shape"
   ],
   "metadata": {
    "collapsed": false,
    "pycharm": {
     "name": "#%%\n"
    }
   }
  },
  {
   "cell_type": "code",
   "execution_count": 26,
   "outputs": [
    {
     "ename": "AttributeError",
     "evalue": "'Series' object has no attribute 'value_count'",
     "output_type": "error",
     "traceback": [
      "\u001B[1;31m---------------------------------------------------------------------------\u001B[0m",
      "\u001B[1;31mAttributeError\u001B[0m                            Traceback (most recent call last)",
      "\u001B[1;32m<ipython-input-26-8c07b41bf93a>\u001B[0m in \u001B[0;36m<module>\u001B[1;34m\u001B[0m\n\u001B[1;32m----> 1\u001B[1;33m \u001B[0mmono_resistance_df\u001B[0m\u001B[1;33m[\u001B[0m\u001B[1;34m'isResistant'\u001B[0m\u001B[1;33m]\u001B[0m\u001B[1;33m.\u001B[0m\u001B[0mvalue_count\u001B[0m\u001B[1;33m(\u001B[0m\u001B[1;33m)\u001B[0m\u001B[1;33m\u001B[0m\u001B[1;33m\u001B[0m\u001B[0m\n\u001B[0m",
      "\u001B[1;32mC:\\tools\\miniconda3\\lib\\site-packages\\pandas\\core\\generic.py\u001B[0m in \u001B[0;36m__getattr__\u001B[1;34m(self, name)\u001B[0m\n\u001B[0;32m   5272\u001B[0m             \u001B[1;32mif\u001B[0m \u001B[0mself\u001B[0m\u001B[1;33m.\u001B[0m\u001B[0m_info_axis\u001B[0m\u001B[1;33m.\u001B[0m\u001B[0m_can_hold_identifiers_and_holds_name\u001B[0m\u001B[1;33m(\u001B[0m\u001B[0mname\u001B[0m\u001B[1;33m)\u001B[0m\u001B[1;33m:\u001B[0m\u001B[1;33m\u001B[0m\u001B[1;33m\u001B[0m\u001B[0m\n\u001B[0;32m   5273\u001B[0m                 \u001B[1;32mreturn\u001B[0m \u001B[0mself\u001B[0m\u001B[1;33m[\u001B[0m\u001B[0mname\u001B[0m\u001B[1;33m]\u001B[0m\u001B[1;33m\u001B[0m\u001B[1;33m\u001B[0m\u001B[0m\n\u001B[1;32m-> 5274\u001B[1;33m             \u001B[1;32mreturn\u001B[0m \u001B[0mobject\u001B[0m\u001B[1;33m.\u001B[0m\u001B[0m__getattribute__\u001B[0m\u001B[1;33m(\u001B[0m\u001B[0mself\u001B[0m\u001B[1;33m,\u001B[0m \u001B[0mname\u001B[0m\u001B[1;33m)\u001B[0m\u001B[1;33m\u001B[0m\u001B[1;33m\u001B[0m\u001B[0m\n\u001B[0m\u001B[0;32m   5275\u001B[0m \u001B[1;33m\u001B[0m\u001B[0m\n\u001B[0;32m   5276\u001B[0m     \u001B[1;32mdef\u001B[0m \u001B[0m__setattr__\u001B[0m\u001B[1;33m(\u001B[0m\u001B[0mself\u001B[0m\u001B[1;33m,\u001B[0m \u001B[0mname\u001B[0m\u001B[1;33m:\u001B[0m \u001B[0mstr\u001B[0m\u001B[1;33m,\u001B[0m \u001B[0mvalue\u001B[0m\u001B[1;33m)\u001B[0m \u001B[1;33m->\u001B[0m \u001B[1;32mNone\u001B[0m\u001B[1;33m:\u001B[0m\u001B[1;33m\u001B[0m\u001B[1;33m\u001B[0m\u001B[0m\n",
      "\u001B[1;31mAttributeError\u001B[0m: 'Series' object has no attribute 'value_count'"
     ]
    }
   ],
   "source": [
    "mono_resistance_df['isResistant'].value_count()"
   ],
   "metadata": {
    "collapsed": false,
    "pycharm": {
     "name": "#%%\n"
    }
   }
  }
 ],
 "metadata": {
  "kernelspec": {
   "name": "pycharm-f27e5417",
   "language": "python",
   "display_name": "PyCharm (drug-resistance-prediction-cambiohack)"
  },
  "language_info": {
   "codemirror_mode": {
    "name": "ipython",
    "version": 2
   },
   "file_extension": ".py",
   "mimetype": "text/x-python",
   "name": "python",
   "nbconvert_exporter": "python",
   "pygments_lexer": "ipython2",
   "version": "2.7.6"
  }
 },
 "nbformat": 4,
 "nbformat_minor": 0
}