{
 "cells": [
  {
   "cell_type": "markdown",
   "source": [
    "# Mono resistance prediction\n",
    "\n",
    "In this POC, we gloss over the resistance towards distinct drugs\n"
   ],
   "metadata": {
    "collapsed": false
   }
  },
  {
   "cell_type": "code",
   "execution_count": 13,
   "outputs": [],
   "source": [
    "# Import the usual suspects.\n",
    "\n",
    "from __future__ import print_function\n",
    "import pandas as pd\n",
    "import numpy as np"
   ],
   "metadata": {
    "collapsed": false,
    "pycharm": {
     "name": "#%%\n"
    }
   }
  },
  {
   "cell_type": "code",
   "execution_count": 11,
   "outputs": [],
   "source": [
    "lineage_column_names = [ 'main_lin', 'sublin' ]\n",
    "\n",
    "resistance_status_column_names = [ 'drtype', 'MDR', 'XDR', 'isResistant' ]\n"
   ],
   "metadata": {
    "collapsed": false,
    "pycharm": {
     "name": "#%%\n"
    }
   }
  },
  {
   "cell_type": "code",
   "execution_count": 12,
   "outputs": [],
   "source": [
    "renamed_drug_columns_names = [                     'rifampicin_resistance',\n",
    "                                                   'isoniazid_resistance',\n",
    "                                                   'pyrazinamide_resistance',\n",
    "                                                   'ethambutol_resistance',\n",
    "                                                   'streptomycin_resistance',\n",
    "                                                   'fluoroquinolones_resistance',\n",
    "                                                   'moxifloxacin_resistance',\n",
    "                                                   'ofloxacin_resistance',\n",
    "                                                   'levofloxacin_resistance',\n",
    "                                                   'ciprofloxacin_resistance',\n",
    "                                                   'aminoglycosides_resistance',\n",
    "                                                   'amikacin_resistance',\n",
    "                                                   'kanamycin_resistance',\n",
    "                                                   'capreomycin_resistance',\n",
    "                                                   'ethionamide_resistance',\n",
    "                                                   'para-aminosalicylic_acid_resistance',\n",
    "                                                   'cycloserine_resistance',\n",
    "                                                   'linezolid_resistance',\n",
    "                                                   'bedaquiline_resistance',\n",
    "                                                   'clofazimine_resistance',\n",
    "                                                   'delamanid_resistance']\n"
   ],
   "metadata": {
    "collapsed": false,
    "pycharm": {
     "name": "#%%\n"
    }
   }
  },
  {
   "cell_type": "code",
   "execution_count": null,
   "outputs": [],
   "source": [
    "\n",
    "binary_unique_snps_df = pd.read_csv(\"../data/processed/binary_unique_snps_df.csv\")\n",
    "binary_unique_snps_df.head()"
   ],
   "metadata": {
    "collapsed": false,
    "pycharm": {
     "name": "#%%\n"
    }
   }
  },
  {
   "cell_type": "code",
   "execution_count": null,
   "outputs": [],
   "source": [
    "# Ensure that every column has atleast one mutation\n",
    "\n",
    "binary_col_mutation_dict = {}\n",
    "\n",
    "for col in binary_unique_snps_df.columns:\n",
    "    sum_of_col = binary_unique_snps_df[col].sum()\n",
    "    if  sum_of_col > 0:\n",
    "        # print('col: ', col, \"\\tsum: \", col_sum)\n",
    "        binary_col_mutation_dict[col] =  dict(binary_unique_snps_df[col].value_counts())\n",
    "\n",
    "binary_col_mutation_dict\n"
   ],
   "metadata": {
    "collapsed": false,
    "pycharm": {
     "name": "#%%\n"
    }
   }
  },
  {
   "cell_type": "code",
   "execution_count": null,
   "outputs": [],
   "source": [
    "binary_unique_snps_df = binary_unique_snps_df.rename({'Unnamed: 0': 'SampleID'}).set_index('SampleID')\n",
    "binary_unique_snps_df.head()\n"
   ],
   "metadata": {
    "collapsed": false,
    "pycharm": {
     "name": "#%%\n"
    }
   }
  },
  {
   "cell_type": "code",
   "execution_count": null,
   "outputs": [],
   "source": [
    "# hetero_binary_vcf_snps_with_mutations_df = pd.read_csv(\"../data/processed/hetero_binary_vcf_snps_with_mutations_df.csv\", index_col='SampleID')\n",
    "\n",
    "hetero_binary_vcf_snps_with_mutations_df = binary_unique_snps_df[list(binary_col_mutation_dict.keys())]\n",
    "\n",
    "hetero_binary_vcf_snps_with_mutations_df.head()\n"
   ],
   "metadata": {
    "collapsed": false,
    "pycharm": {
     "name": "#%%\n"
    }
   }
  },
  {
   "cell_type": "code",
   "execution_count": 8,
   "outputs": [
    {
     "data": {
      "text/plain": "            rifampicin_resistance              isoniazid_resistance  \\\nSampleID                                                              \nERR760783        rpoB_p.Ser450Leu                  katG_p.Ser315Thr   \nERR776661        rpoB_p.Ser450Leu                     ahpC_c.-81C>T   \nSRR11098556                     -                                 -   \nERR760911        rpoB_p.Ser450Leu                  katG_p.Ser315Thr   \nSRR9224969       rpoB_p.Ser450Leu  fabG1_c.-15C>T, katG_p.Ser315Thr   \n\n            pyrazinamide_resistance  \\\nSampleID                              \nERR760783           pncA_p.Gln10Pro   \nERR776661          pncA_p.Met175Val   \nSRR11098556                       -   \nERR760911           pncA_p.Gln10Pro   \nSRR9224969         pncA_p.Gly132Ser   \n\n                                         ethambutol_resistance  \\\nSampleID                                                         \nERR760783                                     embB_p.Gly406Ala   \nERR776661    embB_p.Gly406Ser, embB_p.Met306Val, embA_c.-16C>G   \nSRR11098556                                                  -   \nERR760911                                     embB_p.Gly406Ala   \nSRR9224969                                    embB_p.Met306Val   \n\n                      streptomycin_resistance fluoroquinolones_resistance  \\\nSampleID                                                                    \nERR760783                                   -                           -   \nERR776661    rpsL_p.Lys43Arg, rpsL_p.Lys88Gln                           -   \nSRR11098556                                 -                           -   \nERR760911                                   -                           -   \nSRR9224969                                  -                           -   \n\n            moxifloxacin_resistance ofloxacin_resistance  \\\nSampleID                                                   \nERR760783                         -                    -   \nERR776661                         -                    -   \nSRR11098556                       -                    -   \nERR760911                         -                    -   \nSRR9224969                        -                    -   \n\n            levofloxacin_resistance ciprofloxacin_resistance  ...  \\\nSampleID                                                      ...   \nERR760783                         -                        -  ...   \nERR776661                         -                        -  ...   \nSRR11098556                       -                        -  ...   \nERR760911                         -                        -  ...   \nSRR9224969                        -                        -  ...   \n\n            linezolid_resistance bedaquiline_resistance  \\\nSampleID                                                  \nERR760783                      -                      -   \nERR776661                      -                      -   \nSRR11098556                    -                      -   \nERR760911                      -                      -   \nSRR9224969                     -                      -   \n\n            clofazimine_resistance delamanid_resistance  main_lin  \\\nSampleID                                                            \nERR760783                        -                    -  lineage4   \nERR776661                        -                    -  lineage4   \nSRR11098556                      -                    -  lineage2   \nERR760911                        -                    -  lineage4   \nSRR9224969                       -                    -  lineage4   \n\n                     sublin     drtype  MDR  XDR Resistance_Status  \nSampleID                                                            \nERR760783    lineage4.1.2.1        MDR    R  NaN         Resistant  \nERR776661      lineage4.3.2        MDR    R  NaN         Resistant  \nSRR11098556    lineage2.2.1  Sensitive  NaN  NaN         Sensitive  \nERR760911    lineage4.1.2.1        MDR    R  NaN         Resistant  \nSRR9224969   lineage4.1.2.1        MDR    R  NaN         Resistant  \n\n[5 rows x 27 columns]",
      "text/html": "<div>\n<style scoped>\n    .dataframe tbody tr th:only-of-type {\n        vertical-align: middle;\n    }\n\n    .dataframe tbody tr th {\n        vertical-align: top;\n    }\n\n    .dataframe thead th {\n        text-align: right;\n    }\n</style>\n<table border=\"1\" class=\"dataframe\">\n  <thead>\n    <tr style=\"text-align: right;\">\n      <th></th>\n      <th>rifampicin_resistance</th>\n      <th>isoniazid_resistance</th>\n      <th>pyrazinamide_resistance</th>\n      <th>ethambutol_resistance</th>\n      <th>streptomycin_resistance</th>\n      <th>fluoroquinolones_resistance</th>\n      <th>moxifloxacin_resistance</th>\n      <th>ofloxacin_resistance</th>\n      <th>levofloxacin_resistance</th>\n      <th>ciprofloxacin_resistance</th>\n      <th>...</th>\n      <th>linezolid_resistance</th>\n      <th>bedaquiline_resistance</th>\n      <th>clofazimine_resistance</th>\n      <th>delamanid_resistance</th>\n      <th>main_lin</th>\n      <th>sublin</th>\n      <th>drtype</th>\n      <th>MDR</th>\n      <th>XDR</th>\n      <th>Resistance_Status</th>\n    </tr>\n    <tr>\n      <th>SampleID</th>\n      <th></th>\n      <th></th>\n      <th></th>\n      <th></th>\n      <th></th>\n      <th></th>\n      <th></th>\n      <th></th>\n      <th></th>\n      <th></th>\n      <th></th>\n      <th></th>\n      <th></th>\n      <th></th>\n      <th></th>\n      <th></th>\n      <th></th>\n      <th></th>\n      <th></th>\n      <th></th>\n      <th></th>\n    </tr>\n  </thead>\n  <tbody>\n    <tr>\n      <th>ERR760783</th>\n      <td>rpoB_p.Ser450Leu</td>\n      <td>katG_p.Ser315Thr</td>\n      <td>pncA_p.Gln10Pro</td>\n      <td>embB_p.Gly406Ala</td>\n      <td>-</td>\n      <td>-</td>\n      <td>-</td>\n      <td>-</td>\n      <td>-</td>\n      <td>-</td>\n      <td>...</td>\n      <td>-</td>\n      <td>-</td>\n      <td>-</td>\n      <td>-</td>\n      <td>lineage4</td>\n      <td>lineage4.1.2.1</td>\n      <td>MDR</td>\n      <td>R</td>\n      <td>NaN</td>\n      <td>Resistant</td>\n    </tr>\n    <tr>\n      <th>ERR776661</th>\n      <td>rpoB_p.Ser450Leu</td>\n      <td>ahpC_c.-81C&gt;T</td>\n      <td>pncA_p.Met175Val</td>\n      <td>embB_p.Gly406Ser, embB_p.Met306Val, embA_c.-16C&gt;G</td>\n      <td>rpsL_p.Lys43Arg, rpsL_p.Lys88Gln</td>\n      <td>-</td>\n      <td>-</td>\n      <td>-</td>\n      <td>-</td>\n      <td>-</td>\n      <td>...</td>\n      <td>-</td>\n      <td>-</td>\n      <td>-</td>\n      <td>-</td>\n      <td>lineage4</td>\n      <td>lineage4.3.2</td>\n      <td>MDR</td>\n      <td>R</td>\n      <td>NaN</td>\n      <td>Resistant</td>\n    </tr>\n    <tr>\n      <th>SRR11098556</th>\n      <td>-</td>\n      <td>-</td>\n      <td>-</td>\n      <td>-</td>\n      <td>-</td>\n      <td>-</td>\n      <td>-</td>\n      <td>-</td>\n      <td>-</td>\n      <td>-</td>\n      <td>...</td>\n      <td>-</td>\n      <td>-</td>\n      <td>-</td>\n      <td>-</td>\n      <td>lineage2</td>\n      <td>lineage2.2.1</td>\n      <td>Sensitive</td>\n      <td>NaN</td>\n      <td>NaN</td>\n      <td>Sensitive</td>\n    </tr>\n    <tr>\n      <th>ERR760911</th>\n      <td>rpoB_p.Ser450Leu</td>\n      <td>katG_p.Ser315Thr</td>\n      <td>pncA_p.Gln10Pro</td>\n      <td>embB_p.Gly406Ala</td>\n      <td>-</td>\n      <td>-</td>\n      <td>-</td>\n      <td>-</td>\n      <td>-</td>\n      <td>-</td>\n      <td>...</td>\n      <td>-</td>\n      <td>-</td>\n      <td>-</td>\n      <td>-</td>\n      <td>lineage4</td>\n      <td>lineage4.1.2.1</td>\n      <td>MDR</td>\n      <td>R</td>\n      <td>NaN</td>\n      <td>Resistant</td>\n    </tr>\n    <tr>\n      <th>SRR9224969</th>\n      <td>rpoB_p.Ser450Leu</td>\n      <td>fabG1_c.-15C&gt;T, katG_p.Ser315Thr</td>\n      <td>pncA_p.Gly132Ser</td>\n      <td>embB_p.Met306Val</td>\n      <td>-</td>\n      <td>-</td>\n      <td>-</td>\n      <td>-</td>\n      <td>-</td>\n      <td>-</td>\n      <td>...</td>\n      <td>-</td>\n      <td>-</td>\n      <td>-</td>\n      <td>-</td>\n      <td>lineage4</td>\n      <td>lineage4.1.2.1</td>\n      <td>MDR</td>\n      <td>R</td>\n      <td>NaN</td>\n      <td>Resistant</td>\n    </tr>\n  </tbody>\n</table>\n<p>5 rows × 27 columns</p>\n</div>"
     },
     "execution_count": 8,
     "metadata": {},
     "output_type": "execute_result"
    }
   ],
   "source": [
    "resistance_status_df = pd.read_csv(\"../data/processed/resistance_status_df.csv\").rename(columns={'Unnamed: 0' : 'SampleID'}).set_index('SampleID')\n",
    "\n",
    "resistance_status_df.head()\n",
    "\n"
   ],
   "metadata": {
    "collapsed": false,
    "pycharm": {
     "name": "#%%\n"
    }
   }
  },
  {
   "cell_type": "code",
   "execution_count": null,
   "outputs": [],
   "source": [
    "resistance_status_df\n"
   ],
   "metadata": {
    "collapsed": false,
    "pycharm": {
     "name": "#%%\n"
    }
   }
  },
  {
   "cell_type": "code",
   "execution_count": null,
   "outputs": [],
   "source": [],
   "metadata": {
    "collapsed": false,
    "pycharm": {
     "name": "#%%\n"
    }
   }
  },
  {
   "cell_type": "code",
   "execution_count": null,
   "outputs": [],
   "source": [],
   "metadata": {
    "collapsed": false,
    "pycharm": {
     "name": "#%%\n"
    }
   }
  },
  {
   "cell_type": "code",
   "execution_count": null,
   "outputs": [],
   "source": [
    "final_df = hetero_binary_vcf_snps_with_mutations_df.join(resistance_status_df)\n",
    "# cols = list(final_df.columns)\n",
    "# cols = [*cols[1:], cols[0]]\n",
    "# final_df = final_df[cols]\n",
    "final_df.head()"
   ],
   "metadata": {
    "collapsed": false,
    "pycharm": {
     "name": "#%%\n"
    }
   }
  },
  {
   "cell_type": "code",
   "execution_count": null,
   "outputs": [],
   "source": [
    "\n",
    "# final_df['bedaquiline_resistance'].value_counts()"
   ],
   "metadata": {
    "collapsed": false,
    "pycharm": {
     "name": "#%%\n"
    }
   }
  },
  {
   "cell_type": "code",
   "execution_count": null,
   "outputs": [],
   "source": [
    "# final_df.to_csv(\"../data/processed/final_df.csv\")"
   ],
   "metadata": {
    "collapsed": false,
    "pycharm": {
     "name": "#%%\n"
    }
   }
  },
  {
   "cell_type": "code",
   "execution_count": null,
   "outputs": [],
   "source": [],
   "metadata": {
    "collapsed": false,
    "pycharm": {
     "name": "#%%\n"
    }
   }
  },
  {
   "cell_type": "code",
   "execution_count": 128,
   "outputs": [
    {
     "name": "stderr",
     "output_type": "stream",
     "text": [
      "C:\\tools\\miniconda3\\lib\\site-packages\\IPython\\core\\interactiveshell.py:3146: DtypeWarning: Columns (118693,118694) have mixed types.Specify dtype option on import or set low_memory=False.\n",
      "  interactivity=interactivity, compiler=compiler, result=result)\n"
     ]
    },
    {
     "data": {
      "text/plain": "     SampleID  NC000962_3.78  NC000962_3.80  NC000962_3.102  NC000962_3.104  \\\n0  ERR3129939              0              0               0               0   \n1  ERR3148148              0              0               0               0   \n2  ERR3148149              0              0               0               0   \n3  ERR3148151              0              0               0               0   \n4  ERR3148153              0              0               0               0   \n\n   NC000962_3.117  NC000962_3.120  NC000962_3.135  NC000962_3.138  \\\n0               0               0               0               0   \n1               0               0               0               0   \n2               0               0               0               0   \n3               0               0               0               0   \n4               0               0               0               0   \n\n   NC000962_3.150  ...  linezolid_resistance  bedaquiline_resistance  \\\n0               0  ...                     -                       -   \n1               0  ...                     -                       -   \n2               0  ...                     -                       -   \n3               0  ...                     -                       -   \n4               0  ...                     -                       -   \n\n   clofazimine_resistance  delamanid_resistance  main_lin          sublin  \\\n0                       -                     -  lineage4  lineage4.1.1.3   \n1                       -                     -  lineage4  lineage4.1.2.1   \n2                       -                     -  lineage4      lineage4.1   \n3                       -                     -  lineage4  lineage4.1.1.3   \n4                       -                     -  lineage4  lineage4.1.2.1   \n\n           drtype  MDR  XDR  Resistance_Status  \n0       Sensitive  NaN  NaN          Sensitive  \n1       Sensitive  NaN  NaN          Sensitive  \n2  Drug-resistant  NaN  NaN          Resistant  \n3             MDR    R  NaN          Resistant  \n4       Sensitive  NaN  NaN          Sensitive  \n\n[5 rows x 118696 columns]",
      "text/html": "<div>\n<style scoped>\n    .dataframe tbody tr th:only-of-type {\n        vertical-align: middle;\n    }\n\n    .dataframe tbody tr th {\n        vertical-align: top;\n    }\n\n    .dataframe thead th {\n        text-align: right;\n    }\n</style>\n<table border=\"1\" class=\"dataframe\">\n  <thead>\n    <tr style=\"text-align: right;\">\n      <th></th>\n      <th>SampleID</th>\n      <th>NC000962_3.78</th>\n      <th>NC000962_3.80</th>\n      <th>NC000962_3.102</th>\n      <th>NC000962_3.104</th>\n      <th>NC000962_3.117</th>\n      <th>NC000962_3.120</th>\n      <th>NC000962_3.135</th>\n      <th>NC000962_3.138</th>\n      <th>NC000962_3.150</th>\n      <th>...</th>\n      <th>linezolid_resistance</th>\n      <th>bedaquiline_resistance</th>\n      <th>clofazimine_resistance</th>\n      <th>delamanid_resistance</th>\n      <th>main_lin</th>\n      <th>sublin</th>\n      <th>drtype</th>\n      <th>MDR</th>\n      <th>XDR</th>\n      <th>Resistance_Status</th>\n    </tr>\n  </thead>\n  <tbody>\n    <tr>\n      <th>0</th>\n      <td>ERR3129939</td>\n      <td>0</td>\n      <td>0</td>\n      <td>0</td>\n      <td>0</td>\n      <td>0</td>\n      <td>0</td>\n      <td>0</td>\n      <td>0</td>\n      <td>0</td>\n      <td>...</td>\n      <td>-</td>\n      <td>-</td>\n      <td>-</td>\n      <td>-</td>\n      <td>lineage4</td>\n      <td>lineage4.1.1.3</td>\n      <td>Sensitive</td>\n      <td>NaN</td>\n      <td>NaN</td>\n      <td>Sensitive</td>\n    </tr>\n    <tr>\n      <th>1</th>\n      <td>ERR3148148</td>\n      <td>0</td>\n      <td>0</td>\n      <td>0</td>\n      <td>0</td>\n      <td>0</td>\n      <td>0</td>\n      <td>0</td>\n      <td>0</td>\n      <td>0</td>\n      <td>...</td>\n      <td>-</td>\n      <td>-</td>\n      <td>-</td>\n      <td>-</td>\n      <td>lineage4</td>\n      <td>lineage4.1.2.1</td>\n      <td>Sensitive</td>\n      <td>NaN</td>\n      <td>NaN</td>\n      <td>Sensitive</td>\n    </tr>\n    <tr>\n      <th>2</th>\n      <td>ERR3148149</td>\n      <td>0</td>\n      <td>0</td>\n      <td>0</td>\n      <td>0</td>\n      <td>0</td>\n      <td>0</td>\n      <td>0</td>\n      <td>0</td>\n      <td>0</td>\n      <td>...</td>\n      <td>-</td>\n      <td>-</td>\n      <td>-</td>\n      <td>-</td>\n      <td>lineage4</td>\n      <td>lineage4.1</td>\n      <td>Drug-resistant</td>\n      <td>NaN</td>\n      <td>NaN</td>\n      <td>Resistant</td>\n    </tr>\n    <tr>\n      <th>3</th>\n      <td>ERR3148151</td>\n      <td>0</td>\n      <td>0</td>\n      <td>0</td>\n      <td>0</td>\n      <td>0</td>\n      <td>0</td>\n      <td>0</td>\n      <td>0</td>\n      <td>0</td>\n      <td>...</td>\n      <td>-</td>\n      <td>-</td>\n      <td>-</td>\n      <td>-</td>\n      <td>lineage4</td>\n      <td>lineage4.1.1.3</td>\n      <td>MDR</td>\n      <td>R</td>\n      <td>NaN</td>\n      <td>Resistant</td>\n    </tr>\n    <tr>\n      <th>4</th>\n      <td>ERR3148153</td>\n      <td>0</td>\n      <td>0</td>\n      <td>0</td>\n      <td>0</td>\n      <td>0</td>\n      <td>0</td>\n      <td>0</td>\n      <td>0</td>\n      <td>0</td>\n      <td>...</td>\n      <td>-</td>\n      <td>-</td>\n      <td>-</td>\n      <td>-</td>\n      <td>lineage4</td>\n      <td>lineage4.1.2.1</td>\n      <td>Sensitive</td>\n      <td>NaN</td>\n      <td>NaN</td>\n      <td>Sensitive</td>\n    </tr>\n  </tbody>\n</table>\n<p>5 rows × 118696 columns</p>\n</div>"
     },
     "execution_count": 128,
     "metadata": {},
     "output_type": "execute_result"
    }
   ],
   "source": [
    "final_df = pd.read_csv(\"../data/processed/final_df.csv\")\n",
    "# final_df = pd.read_json(\"../data/processed/final_df.json\")\n",
    "\n",
    "final_df.head()"
   ],
   "metadata": {
    "collapsed": false,
    "pycharm": {
     "name": "#%%\n"
    }
   }
  },
  {
   "cell_type": "code",
   "execution_count": 129,
   "outputs": [
    {
     "data": {
      "text/plain": "     SampleID  NC000962_3.78  NC000962_3.80  NC000962_3.102  NC000962_3.104  \\\n0  ERR3129939              0              0               0               0   \n1  ERR3148148              0              0               0               0   \n2  ERR3148149              0              0               0               0   \n3  ERR3148151              0              0               0               0   \n4  ERR3148153              0              0               0               0   \n\n   NC000962_3.117  NC000962_3.120  NC000962_3.135  NC000962_3.138  \\\n0               0               0               0               0   \n1               0               0               0               0   \n2               0               0               0               0   \n3               0               0               0               0   \n4               0               0               0               0   \n\n   NC000962_3.150  ...  linezolid_resistance  bedaquiline_resistance  \\\n0               0  ...                     -                       -   \n1               0  ...                     -                       -   \n2               0  ...                     -                       -   \n3               0  ...                     -                       -   \n4               0  ...                     -                       -   \n\n   clofazimine_resistance  delamanid_resistance  main_lin          sublin  \\\n0                       -                     -  lineage4  lineage4.1.1.3   \n1                       -                     -  lineage4  lineage4.1.2.1   \n2                       -                     -  lineage4      lineage4.1   \n3                       -                     -  lineage4  lineage4.1.1.3   \n4                       -                     -  lineage4  lineage4.1.2.1   \n\n           drtype  MDR  XDR  Resistance_Status  \n0       Sensitive  NaN  NaN          Sensitive  \n1       Sensitive  NaN  NaN          Sensitive  \n2  Drug-resistant  NaN  NaN          Resistant  \n3             MDR    R  NaN          Resistant  \n4       Sensitive  NaN  NaN          Sensitive  \n\n[5 rows x 118696 columns]",
      "text/html": "<div>\n<style scoped>\n    .dataframe tbody tr th:only-of-type {\n        vertical-align: middle;\n    }\n\n    .dataframe tbody tr th {\n        vertical-align: top;\n    }\n\n    .dataframe thead th {\n        text-align: right;\n    }\n</style>\n<table border=\"1\" class=\"dataframe\">\n  <thead>\n    <tr style=\"text-align: right;\">\n      <th></th>\n      <th>SampleID</th>\n      <th>NC000962_3.78</th>\n      <th>NC000962_3.80</th>\n      <th>NC000962_3.102</th>\n      <th>NC000962_3.104</th>\n      <th>NC000962_3.117</th>\n      <th>NC000962_3.120</th>\n      <th>NC000962_3.135</th>\n      <th>NC000962_3.138</th>\n      <th>NC000962_3.150</th>\n      <th>...</th>\n      <th>linezolid_resistance</th>\n      <th>bedaquiline_resistance</th>\n      <th>clofazimine_resistance</th>\n      <th>delamanid_resistance</th>\n      <th>main_lin</th>\n      <th>sublin</th>\n      <th>drtype</th>\n      <th>MDR</th>\n      <th>XDR</th>\n      <th>Resistance_Status</th>\n    </tr>\n  </thead>\n  <tbody>\n    <tr>\n      <th>0</th>\n      <td>ERR3129939</td>\n      <td>0</td>\n      <td>0</td>\n      <td>0</td>\n      <td>0</td>\n      <td>0</td>\n      <td>0</td>\n      <td>0</td>\n      <td>0</td>\n      <td>0</td>\n      <td>...</td>\n      <td>-</td>\n      <td>-</td>\n      <td>-</td>\n      <td>-</td>\n      <td>lineage4</td>\n      <td>lineage4.1.1.3</td>\n      <td>Sensitive</td>\n      <td>NaN</td>\n      <td>NaN</td>\n      <td>Sensitive</td>\n    </tr>\n    <tr>\n      <th>1</th>\n      <td>ERR3148148</td>\n      <td>0</td>\n      <td>0</td>\n      <td>0</td>\n      <td>0</td>\n      <td>0</td>\n      <td>0</td>\n      <td>0</td>\n      <td>0</td>\n      <td>0</td>\n      <td>...</td>\n      <td>-</td>\n      <td>-</td>\n      <td>-</td>\n      <td>-</td>\n      <td>lineage4</td>\n      <td>lineage4.1.2.1</td>\n      <td>Sensitive</td>\n      <td>NaN</td>\n      <td>NaN</td>\n      <td>Sensitive</td>\n    </tr>\n    <tr>\n      <th>2</th>\n      <td>ERR3148149</td>\n      <td>0</td>\n      <td>0</td>\n      <td>0</td>\n      <td>0</td>\n      <td>0</td>\n      <td>0</td>\n      <td>0</td>\n      <td>0</td>\n      <td>0</td>\n      <td>...</td>\n      <td>-</td>\n      <td>-</td>\n      <td>-</td>\n      <td>-</td>\n      <td>lineage4</td>\n      <td>lineage4.1</td>\n      <td>Drug-resistant</td>\n      <td>NaN</td>\n      <td>NaN</td>\n      <td>Resistant</td>\n    </tr>\n    <tr>\n      <th>3</th>\n      <td>ERR3148151</td>\n      <td>0</td>\n      <td>0</td>\n      <td>0</td>\n      <td>0</td>\n      <td>0</td>\n      <td>0</td>\n      <td>0</td>\n      <td>0</td>\n      <td>0</td>\n      <td>...</td>\n      <td>-</td>\n      <td>-</td>\n      <td>-</td>\n      <td>-</td>\n      <td>lineage4</td>\n      <td>lineage4.1.1.3</td>\n      <td>MDR</td>\n      <td>R</td>\n      <td>NaN</td>\n      <td>Resistant</td>\n    </tr>\n    <tr>\n      <th>4</th>\n      <td>ERR3148153</td>\n      <td>0</td>\n      <td>0</td>\n      <td>0</td>\n      <td>0</td>\n      <td>0</td>\n      <td>0</td>\n      <td>0</td>\n      <td>0</td>\n      <td>0</td>\n      <td>...</td>\n      <td>-</td>\n      <td>-</td>\n      <td>-</td>\n      <td>-</td>\n      <td>lineage4</td>\n      <td>lineage4.1.2.1</td>\n      <td>Sensitive</td>\n      <td>NaN</td>\n      <td>NaN</td>\n      <td>Sensitive</td>\n    </tr>\n  </tbody>\n</table>\n<p>5 rows × 118696 columns</p>\n</div>"
     },
     "execution_count": 129,
     "metadata": {},
     "output_type": "execute_result"
    }
   ],
   "source": [
    "\n",
    "final_df.rename(columns = {'Unnamed: 0': 'SampleID'},\n",
    "                            inplace=True)\n",
    "\n",
    "final_df.head()"
   ],
   "metadata": {
    "collapsed": false,
    "pycharm": {
     "name": "#%%\n"
    }
   }
  },
  {
   "cell_type": "code",
   "execution_count": 130,
   "outputs": [
    {
     "data": {
      "text/plain": "            NC000962_3.78  NC000962_3.80  NC000962_3.102  NC000962_3.104  \\\nSampleID                                                                   \nERR3129939              0              0               0               0   \nERR3148148              0              0               0               0   \nERR3148149              0              0               0               0   \nERR3148151              0              0               0               0   \nERR3148153              0              0               0               0   \n\n            NC000962_3.117  NC000962_3.120  NC000962_3.135  NC000962_3.138  \\\nSampleID                                                                     \nERR3129939               0               0               0               0   \nERR3148148               0               0               0               0   \nERR3148149               0               0               0               0   \nERR3148151               0               0               0               0   \nERR3148153               0               0               0               0   \n\n            NC000962_3.150  NC000962_3.155  ...  linezolid_resistance  \\\nSampleID                                    ...                         \nERR3129939               0               0  ...                     -   \nERR3148148               0               0  ...                     -   \nERR3148149               0               0  ...                     -   \nERR3148151               0               0  ...                     -   \nERR3148153               0               0  ...                     -   \n\n            bedaquiline_resistance  clofazimine_resistance  \\\nSampleID                                                     \nERR3129939                       -                       -   \nERR3148148                       -                       -   \nERR3148149                       -                       -   \nERR3148151                       -                       -   \nERR3148153                       -                       -   \n\n            delamanid_resistance  main_lin          sublin          drtype  \\\nSampleID                                                                     \nERR3129939                     -  lineage4  lineage4.1.1.3       Sensitive   \nERR3148148                     -  lineage4  lineage4.1.2.1       Sensitive   \nERR3148149                     -  lineage4      lineage4.1  Drug-resistant   \nERR3148151                     -  lineage4  lineage4.1.1.3             MDR   \nERR3148153                     -  lineage4  lineage4.1.2.1       Sensitive   \n\n            MDR  XDR  Resistance_Status  \nSampleID                                 \nERR3129939  NaN  NaN          Sensitive  \nERR3148148  NaN  NaN          Sensitive  \nERR3148149  NaN  NaN          Resistant  \nERR3148151    R  NaN          Resistant  \nERR3148153  NaN  NaN          Sensitive  \n\n[5 rows x 118695 columns]",
      "text/html": "<div>\n<style scoped>\n    .dataframe tbody tr th:only-of-type {\n        vertical-align: middle;\n    }\n\n    .dataframe tbody tr th {\n        vertical-align: top;\n    }\n\n    .dataframe thead th {\n        text-align: right;\n    }\n</style>\n<table border=\"1\" class=\"dataframe\">\n  <thead>\n    <tr style=\"text-align: right;\">\n      <th></th>\n      <th>NC000962_3.78</th>\n      <th>NC000962_3.80</th>\n      <th>NC000962_3.102</th>\n      <th>NC000962_3.104</th>\n      <th>NC000962_3.117</th>\n      <th>NC000962_3.120</th>\n      <th>NC000962_3.135</th>\n      <th>NC000962_3.138</th>\n      <th>NC000962_3.150</th>\n      <th>NC000962_3.155</th>\n      <th>...</th>\n      <th>linezolid_resistance</th>\n      <th>bedaquiline_resistance</th>\n      <th>clofazimine_resistance</th>\n      <th>delamanid_resistance</th>\n      <th>main_lin</th>\n      <th>sublin</th>\n      <th>drtype</th>\n      <th>MDR</th>\n      <th>XDR</th>\n      <th>Resistance_Status</th>\n    </tr>\n    <tr>\n      <th>SampleID</th>\n      <th></th>\n      <th></th>\n      <th></th>\n      <th></th>\n      <th></th>\n      <th></th>\n      <th></th>\n      <th></th>\n      <th></th>\n      <th></th>\n      <th></th>\n      <th></th>\n      <th></th>\n      <th></th>\n      <th></th>\n      <th></th>\n      <th></th>\n      <th></th>\n      <th></th>\n      <th></th>\n      <th></th>\n    </tr>\n  </thead>\n  <tbody>\n    <tr>\n      <th>ERR3129939</th>\n      <td>0</td>\n      <td>0</td>\n      <td>0</td>\n      <td>0</td>\n      <td>0</td>\n      <td>0</td>\n      <td>0</td>\n      <td>0</td>\n      <td>0</td>\n      <td>0</td>\n      <td>...</td>\n      <td>-</td>\n      <td>-</td>\n      <td>-</td>\n      <td>-</td>\n      <td>lineage4</td>\n      <td>lineage4.1.1.3</td>\n      <td>Sensitive</td>\n      <td>NaN</td>\n      <td>NaN</td>\n      <td>Sensitive</td>\n    </tr>\n    <tr>\n      <th>ERR3148148</th>\n      <td>0</td>\n      <td>0</td>\n      <td>0</td>\n      <td>0</td>\n      <td>0</td>\n      <td>0</td>\n      <td>0</td>\n      <td>0</td>\n      <td>0</td>\n      <td>0</td>\n      <td>...</td>\n      <td>-</td>\n      <td>-</td>\n      <td>-</td>\n      <td>-</td>\n      <td>lineage4</td>\n      <td>lineage4.1.2.1</td>\n      <td>Sensitive</td>\n      <td>NaN</td>\n      <td>NaN</td>\n      <td>Sensitive</td>\n    </tr>\n    <tr>\n      <th>ERR3148149</th>\n      <td>0</td>\n      <td>0</td>\n      <td>0</td>\n      <td>0</td>\n      <td>0</td>\n      <td>0</td>\n      <td>0</td>\n      <td>0</td>\n      <td>0</td>\n      <td>0</td>\n      <td>...</td>\n      <td>-</td>\n      <td>-</td>\n      <td>-</td>\n      <td>-</td>\n      <td>lineage4</td>\n      <td>lineage4.1</td>\n      <td>Drug-resistant</td>\n      <td>NaN</td>\n      <td>NaN</td>\n      <td>Resistant</td>\n    </tr>\n    <tr>\n      <th>ERR3148151</th>\n      <td>0</td>\n      <td>0</td>\n      <td>0</td>\n      <td>0</td>\n      <td>0</td>\n      <td>0</td>\n      <td>0</td>\n      <td>0</td>\n      <td>0</td>\n      <td>0</td>\n      <td>...</td>\n      <td>-</td>\n      <td>-</td>\n      <td>-</td>\n      <td>-</td>\n      <td>lineage4</td>\n      <td>lineage4.1.1.3</td>\n      <td>MDR</td>\n      <td>R</td>\n      <td>NaN</td>\n      <td>Resistant</td>\n    </tr>\n    <tr>\n      <th>ERR3148153</th>\n      <td>0</td>\n      <td>0</td>\n      <td>0</td>\n      <td>0</td>\n      <td>0</td>\n      <td>0</td>\n      <td>0</td>\n      <td>0</td>\n      <td>0</td>\n      <td>0</td>\n      <td>...</td>\n      <td>-</td>\n      <td>-</td>\n      <td>-</td>\n      <td>-</td>\n      <td>lineage4</td>\n      <td>lineage4.1.2.1</td>\n      <td>Sensitive</td>\n      <td>NaN</td>\n      <td>NaN</td>\n      <td>Sensitive</td>\n    </tr>\n  </tbody>\n</table>\n<p>5 rows × 118695 columns</p>\n</div>"
     },
     "execution_count": 130,
     "metadata": {},
     "output_type": "execute_result"
    }
   ],
   "source": [
    "final_df = final_df.set_index('SampleID')\n",
    "\n",
    "final_df.head()\n",
    "\n"
   ],
   "metadata": {
    "collapsed": false,
    "pycharm": {
     "name": "#%%\n"
    }
   }
  },
  {
   "cell_type": "markdown",
   "source": [
    "# Mono drug-resistance dataframe"
   ],
   "metadata": {
    "collapsed": false
   }
  },
  {
   "cell_type": "code",
   "execution_count": null,
   "outputs": [],
   "source": [
    "mono_resistance_df = final_df.drop(columns=[*lineage_column_names, *renamed_drug_columns_names, 'MDR', 'XDR', 'drtype'])\n",
    "mono_resistance_df.head()\n"
   ],
   "metadata": {
    "collapsed": false,
    "pycharm": {
     "name": "#%%\n"
    }
   }
  },
  {
   "cell_type": "code",
   "execution_count": null,
   "outputs": [],
   "source": [
    "mono_resistance_df_small = mono_resistance_df.iloc[:, -10:]\n",
    "mono_resistance_df_small.to_csv(\"../data/processed/mono_resistance_df_small.csv\")\n",
    "mono_resistance_df_small.head()\n"
   ],
   "metadata": {
    "collapsed": false,
    "pycharm": {
     "name": "#%%\n"
    }
   }
  },
  {
   "cell_type": "code",
   "execution_count": null,
   "outputs": [],
   "source": [
    "mono_resistance_df.to_csv(\"../data/processed/mono_resistance_df.csv\")\n",
    "mono_resistance_df.head()\n"
   ],
   "metadata": {
    "collapsed": false,
    "pycharm": {
     "name": "#%%\n"
    }
   }
  },
  {
   "cell_type": "markdown",
   "source": [
    "# Multi drug-resistance dataframe\n",
    "\n",
    "\n"
   ],
   "metadata": {
    "collapsed": false
   }
  },
  {
   "cell_type": "code",
   "execution_count": 105,
   "outputs": [],
   "source": [
    "# final_df[renamed_drug_columns_names] = final_df[renamed_drug_columns_names].fillna(0)"
   ],
   "metadata": {
    "collapsed": false,
    "pycharm": {
     "name": "#%%\n"
    }
   }
  },
  {
   "cell_type": "code",
   "execution_count": 147,
   "outputs": [
    {
     "data": {
      "text/plain": "           rifampicin_resistance  isoniazid_resistance  \\\nSampleID                                                 \nERR760605                    0.0                   1.0   \nERR760609                    1.0                   1.0   \nERR760611                    1.0                   1.0   \nERR760733                    0.0                   0.0   \nERR760742                    1.0                   1.0   \n\n           pyrazinamide_resistance  ethambutol_resistance  \\\nSampleID                                                    \nERR760605                      0.0                    0.0   \nERR760609                      1.0                    1.0   \nERR760611                      1.0                    1.0   \nERR760733                      0.0                    0.0   \nERR760742                      1.0                    1.0   \n\n           streptomycin_resistance  fluoroquinolones_resistance  \\\nSampleID                                                          \nERR760605                      0.0                          0.0   \nERR760609                      0.0                          0.0   \nERR760611                      0.0                          0.0   \nERR760733                      0.0                          0.0   \nERR760742                      0.0                          0.0   \n\n           moxifloxacin_resistance  ofloxacin_resistance  \\\nSampleID                                                   \nERR760605                      0.0                   0.0   \nERR760609                      0.0                   0.0   \nERR760611                      0.0                   0.0   \nERR760733                      0.0                   0.0   \nERR760742                      0.0                   0.0   \n\n           levofloxacin_resistance  ciprofloxacin_resistance  ...  \\\nSampleID                                                      ...   \nERR760605                      0.0                       0.0  ...   \nERR760609                      0.0                       0.0  ...   \nERR760611                      0.0                       0.0  ...   \nERR760733                      0.0                       0.0  ...   \nERR760742                      0.0                       0.0  ...   \n\n           amikacin_resistance  kanamycin_resistance  capreomycin_resistance  \\\nSampleID                                                                       \nERR760605                  0.0                   0.0                     0.0   \nERR760609                  1.0                   1.0                     1.0   \nERR760611                  1.0                   1.0                     1.0   \nERR760733                  0.0                   0.0                     0.0   \nERR760742                  1.0                   1.0                     1.0   \n\n           ethionamide_resistance  para-aminosalicylic_acid_resistance  \\\nSampleID                                                                 \nERR760605                     0.0                                  0.0   \nERR760609                     0.0                                  0.0   \nERR760611                     0.0                                  0.0   \nERR760733                     0.0                                  0.0   \nERR760742                     0.0                                  0.0   \n\n           cycloserine_resistance  linezolid_resistance  \\\nSampleID                                                  \nERR760605                     0.0                   0.0   \nERR760609                     0.0                   0.0   \nERR760611                     0.0                   0.0   \nERR760733                     0.0                   0.0   \nERR760742                     0.0                   0.0   \n\n           bedaquiline_resistance  clofazimine_resistance  \\\nSampleID                                                    \nERR760605                     0.0                     0.0   \nERR760609                     0.0                     0.0   \nERR760611                     0.0                     0.0   \nERR760733                     0.0                     0.0   \nERR760742                     0.0                     0.0   \n\n           delamanid_resistance  \nSampleID                         \nERR760605                   0.0  \nERR760609                   0.0  \nERR760611                   0.0  \nERR760733                   0.0  \nERR760742                   0.0  \n\n[5 rows x 21 columns]",
      "text/html": "<div>\n<style scoped>\n    .dataframe tbody tr th:only-of-type {\n        vertical-align: middle;\n    }\n\n    .dataframe tbody tr th {\n        vertical-align: top;\n    }\n\n    .dataframe thead th {\n        text-align: right;\n    }\n</style>\n<table border=\"1\" class=\"dataframe\">\n  <thead>\n    <tr style=\"text-align: right;\">\n      <th></th>\n      <th>rifampicin_resistance</th>\n      <th>isoniazid_resistance</th>\n      <th>pyrazinamide_resistance</th>\n      <th>ethambutol_resistance</th>\n      <th>streptomycin_resistance</th>\n      <th>fluoroquinolones_resistance</th>\n      <th>moxifloxacin_resistance</th>\n      <th>ofloxacin_resistance</th>\n      <th>levofloxacin_resistance</th>\n      <th>ciprofloxacin_resistance</th>\n      <th>...</th>\n      <th>amikacin_resistance</th>\n      <th>kanamycin_resistance</th>\n      <th>capreomycin_resistance</th>\n      <th>ethionamide_resistance</th>\n      <th>para-aminosalicylic_acid_resistance</th>\n      <th>cycloserine_resistance</th>\n      <th>linezolid_resistance</th>\n      <th>bedaquiline_resistance</th>\n      <th>clofazimine_resistance</th>\n      <th>delamanid_resistance</th>\n    </tr>\n    <tr>\n      <th>SampleID</th>\n      <th></th>\n      <th></th>\n      <th></th>\n      <th></th>\n      <th></th>\n      <th></th>\n      <th></th>\n      <th></th>\n      <th></th>\n      <th></th>\n      <th></th>\n      <th></th>\n      <th></th>\n      <th></th>\n      <th></th>\n      <th></th>\n      <th></th>\n      <th></th>\n      <th></th>\n      <th></th>\n      <th></th>\n    </tr>\n  </thead>\n  <tbody>\n    <tr>\n      <th>ERR760605</th>\n      <td>0.0</td>\n      <td>1.0</td>\n      <td>0.0</td>\n      <td>0.0</td>\n      <td>0.0</td>\n      <td>0.0</td>\n      <td>0.0</td>\n      <td>0.0</td>\n      <td>0.0</td>\n      <td>0.0</td>\n      <td>...</td>\n      <td>0.0</td>\n      <td>0.0</td>\n      <td>0.0</td>\n      <td>0.0</td>\n      <td>0.0</td>\n      <td>0.0</td>\n      <td>0.0</td>\n      <td>0.0</td>\n      <td>0.0</td>\n      <td>0.0</td>\n    </tr>\n    <tr>\n      <th>ERR760609</th>\n      <td>1.0</td>\n      <td>1.0</td>\n      <td>1.0</td>\n      <td>1.0</td>\n      <td>0.0</td>\n      <td>0.0</td>\n      <td>0.0</td>\n      <td>0.0</td>\n      <td>0.0</td>\n      <td>0.0</td>\n      <td>...</td>\n      <td>1.0</td>\n      <td>1.0</td>\n      <td>1.0</td>\n      <td>0.0</td>\n      <td>0.0</td>\n      <td>0.0</td>\n      <td>0.0</td>\n      <td>0.0</td>\n      <td>0.0</td>\n      <td>0.0</td>\n    </tr>\n    <tr>\n      <th>ERR760611</th>\n      <td>1.0</td>\n      <td>1.0</td>\n      <td>1.0</td>\n      <td>1.0</td>\n      <td>0.0</td>\n      <td>0.0</td>\n      <td>0.0</td>\n      <td>0.0</td>\n      <td>0.0</td>\n      <td>0.0</td>\n      <td>...</td>\n      <td>1.0</td>\n      <td>1.0</td>\n      <td>1.0</td>\n      <td>0.0</td>\n      <td>0.0</td>\n      <td>0.0</td>\n      <td>0.0</td>\n      <td>0.0</td>\n      <td>0.0</td>\n      <td>0.0</td>\n    </tr>\n    <tr>\n      <th>ERR760733</th>\n      <td>0.0</td>\n      <td>0.0</td>\n      <td>0.0</td>\n      <td>0.0</td>\n      <td>0.0</td>\n      <td>0.0</td>\n      <td>0.0</td>\n      <td>0.0</td>\n      <td>0.0</td>\n      <td>0.0</td>\n      <td>...</td>\n      <td>0.0</td>\n      <td>0.0</td>\n      <td>0.0</td>\n      <td>0.0</td>\n      <td>0.0</td>\n      <td>0.0</td>\n      <td>0.0</td>\n      <td>0.0</td>\n      <td>0.0</td>\n      <td>0.0</td>\n    </tr>\n    <tr>\n      <th>ERR760742</th>\n      <td>1.0</td>\n      <td>1.0</td>\n      <td>1.0</td>\n      <td>1.0</td>\n      <td>0.0</td>\n      <td>0.0</td>\n      <td>0.0</td>\n      <td>0.0</td>\n      <td>0.0</td>\n      <td>0.0</td>\n      <td>...</td>\n      <td>1.0</td>\n      <td>1.0</td>\n      <td>1.0</td>\n      <td>0.0</td>\n      <td>0.0</td>\n      <td>0.0</td>\n      <td>0.0</td>\n      <td>0.0</td>\n      <td>0.0</td>\n      <td>0.0</td>\n    </tr>\n  </tbody>\n</table>\n<p>5 rows × 21 columns</p>\n</div>"
     },
     "execution_count": 147,
     "metadata": {},
     "output_type": "execute_result"
    }
   ],
   "source": [
    "# final_df[renamed_drug_columns_names].head(10)\n",
    "final_df[renamed_drug_columns_names].iloc[155:160]"
   ],
   "metadata": {
    "collapsed": false,
    "pycharm": {
     "name": "#%%\n"
    }
   }
  },
  {
   "cell_type": "code",
   "execution_count": 131,
   "outputs": [],
   "source": [
    "def binarize_multi_drug_resistance_vector(row):\n",
    "    try:\n",
    "        for resistance_status in row:\n",
    "            return 1 if resistance_status != '-' else 0\n",
    "    except:\n",
    "        pass\n"
   ],
   "metadata": {
    "collapsed": false,
    "pycharm": {
     "name": "#%%\n"
    }
   }
  },
  {
   "cell_type": "code",
   "execution_count": 125,
   "outputs": [
    {
     "data": {
      "text/plain": "           rifampicin_resistance  isoniazid_resistance  \\\nSampleID                                                 \nERR757149                    0.0                   1.0   \nERR757150                    1.0                   1.0   \nERR757169                    1.0                   1.0   \nERR757172                    1.0                   1.0   \nERR757185                    1.0                   1.0   \nERR760605                    0.0                   1.0   \nERR760609                    1.0                   1.0   \nERR760611                    1.0                   1.0   \nERR760733                    0.0                   0.0   \nERR760742                    1.0                   1.0   \nERR760752                    1.0                   1.0   \nERR760755                    1.0                   1.0   \nERR760758                    1.0                   1.0   \nERR760761                    1.0                   1.0   \nERR760778                    1.0                   1.0   \nERR760783                    1.0                   1.0   \nERR760789                    1.0                   1.0   \nERR760793                    1.0                   1.0   \nERR760795                    1.0                   1.0   \nERR760796                    1.0                   1.0   \n\n           pyrazinamide_resistance  ethambutol_resistance  \\\nSampleID                                                    \nERR757149                      0.0                    0.0   \nERR757150                      1.0                    1.0   \nERR757169                      1.0                    1.0   \nERR757172                      1.0                    1.0   \nERR757185                      1.0                    1.0   \nERR760605                      0.0                    0.0   \nERR760609                      1.0                    1.0   \nERR760611                      1.0                    1.0   \nERR760733                      0.0                    0.0   \nERR760742                      1.0                    1.0   \nERR760752                      1.0                    1.0   \nERR760755                      1.0                    1.0   \nERR760758                      1.0                    1.0   \nERR760761                      1.0                    1.0   \nERR760778                      1.0                    1.0   \nERR760783                      1.0                    1.0   \nERR760789                      1.0                    1.0   \nERR760793                      1.0                    1.0   \nERR760795                      1.0                    1.0   \nERR760796                      1.0                    1.0   \n\n           streptomycin_resistance  fluoroquinolones_resistance  \\\nSampleID                                                          \nERR757149                      0.0                          0.0   \nERR757150                      0.0                          0.0   \nERR757169                      0.0                          0.0   \nERR757172                      0.0                          0.0   \nERR757185                      0.0                          0.0   \nERR760605                      0.0                          0.0   \nERR760609                      0.0                          0.0   \nERR760611                      0.0                          0.0   \nERR760733                      0.0                          0.0   \nERR760742                      0.0                          0.0   \nERR760752                      0.0                          0.0   \nERR760755                      0.0                          0.0   \nERR760758                      0.0                          0.0   \nERR760761                      0.0                          0.0   \nERR760778                      0.0                          0.0   \nERR760783                      0.0                          0.0   \nERR760789                      0.0                          0.0   \nERR760793                      0.0                          0.0   \nERR760795                      0.0                          1.0   \nERR760796                      0.0                          0.0   \n\n           moxifloxacin_resistance  ofloxacin_resistance  \\\nSampleID                                                   \nERR757149                      0.0                   0.0   \nERR757150                      0.0                   0.0   \nERR757169                      0.0                   0.0   \nERR757172                      0.0                   0.0   \nERR757185                      0.0                   0.0   \nERR760605                      0.0                   0.0   \nERR760609                      0.0                   0.0   \nERR760611                      0.0                   0.0   \nERR760733                      0.0                   0.0   \nERR760742                      0.0                   0.0   \nERR760752                      0.0                   0.0   \nERR760755                      0.0                   0.0   \nERR760758                      0.0                   0.0   \nERR760761                      0.0                   0.0   \nERR760778                      0.0                   0.0   \nERR760783                      0.0                   0.0   \nERR760789                      0.0                   0.0   \nERR760793                      0.0                   0.0   \nERR760795                      1.0                   1.0   \nERR760796                      0.0                   0.0   \n\n           levofloxacin_resistance  ciprofloxacin_resistance  ...  \\\nSampleID                                                      ...   \nERR757149                      0.0                       0.0  ...   \nERR757150                      0.0                       0.0  ...   \nERR757169                      0.0                       0.0  ...   \nERR757172                      0.0                       0.0  ...   \nERR757185                      0.0                       0.0  ...   \nERR760605                      0.0                       0.0  ...   \nERR760609                      0.0                       0.0  ...   \nERR760611                      0.0                       0.0  ...   \nERR760733                      0.0                       0.0  ...   \nERR760742                      0.0                       0.0  ...   \nERR760752                      0.0                       0.0  ...   \nERR760755                      0.0                       0.0  ...   \nERR760758                      0.0                       0.0  ...   \nERR760761                      0.0                       0.0  ...   \nERR760778                      0.0                       0.0  ...   \nERR760783                      0.0                       0.0  ...   \nERR760789                      0.0                       0.0  ...   \nERR760793                      0.0                       0.0  ...   \nERR760795                      1.0                       1.0  ...   \nERR760796                      0.0                       0.0  ...   \n\n           amikacin_resistance  kanamycin_resistance  capreomycin_resistance  \\\nSampleID                                                                       \nERR757149                  0.0                   0.0                     0.0   \nERR757150                  1.0                   1.0                     1.0   \nERR757169                  1.0                   1.0                     1.0   \nERR757172                  1.0                   1.0                     1.0   \nERR757185                  1.0                   1.0                     1.0   \nERR760605                  0.0                   0.0                     0.0   \nERR760609                  1.0                   1.0                     1.0   \nERR760611                  1.0                   1.0                     1.0   \nERR760733                  0.0                   0.0                     0.0   \nERR760742                  1.0                   1.0                     1.0   \nERR760752                  1.0                   1.0                     1.0   \nERR760755                  1.0                   1.0                     1.0   \nERR760758                  1.0                   1.0                     1.0   \nERR760761                  1.0                   1.0                     1.0   \nERR760778                  1.0                   1.0                     1.0   \nERR760783                  1.0                   1.0                     1.0   \nERR760789                  1.0                   1.0                     1.0   \nERR760793                  1.0                   1.0                     1.0   \nERR760795                  1.0                   1.0                     1.0   \nERR760796                  1.0                   1.0                     1.0   \n\n           ethionamide_resistance  para-aminosalicylic_acid_resistance  \\\nSampleID                                                                 \nERR757149                     0.0                                  0.0   \nERR757150                     0.0                                  0.0   \nERR757169                     0.0                                  0.0   \nERR757172                     0.0                                  0.0   \nERR757185                     0.0                                  0.0   \nERR760605                     0.0                                  0.0   \nERR760609                     0.0                                  0.0   \nERR760611                     0.0                                  0.0   \nERR760733                     0.0                                  0.0   \nERR760742                     0.0                                  0.0   \nERR760752                     0.0                                  0.0   \nERR760755                     0.0                                  0.0   \nERR760758                     0.0                                  0.0   \nERR760761                     0.0                                  0.0   \nERR760778                     0.0                                  0.0   \nERR760783                     0.0                                  0.0   \nERR760789                     0.0                                  0.0   \nERR760793                     0.0                                  0.0   \nERR760795                     1.0                                  0.0   \nERR760796                     0.0                                  0.0   \n\n           cycloserine_resistance  linezolid_resistance  \\\nSampleID                                                  \nERR757149                     0.0                   0.0   \nERR757150                     0.0                   0.0   \nERR757169                     0.0                   0.0   \nERR757172                     0.0                   0.0   \nERR757185                     0.0                   0.0   \nERR760605                     0.0                   0.0   \nERR760609                     0.0                   0.0   \nERR760611                     0.0                   0.0   \nERR760733                     0.0                   0.0   \nERR760742                     0.0                   0.0   \nERR760752                     0.0                   0.0   \nERR760755                     0.0                   0.0   \nERR760758                     0.0                   0.0   \nERR760761                     0.0                   0.0   \nERR760778                     0.0                   0.0   \nERR760783                     0.0                   0.0   \nERR760789                     0.0                   0.0   \nERR760793                     0.0                   0.0   \nERR760795                     0.0                   0.0   \nERR760796                     0.0                   0.0   \n\n           bedaquiline_resistance  clofazimine_resistance  \\\nSampleID                                                    \nERR757149                     0.0                     0.0   \nERR757150                     0.0                     0.0   \nERR757169                     0.0                     0.0   \nERR757172                     0.0                     0.0   \nERR757185                     0.0                     0.0   \nERR760605                     0.0                     0.0   \nERR760609                     0.0                     0.0   \nERR760611                     0.0                     0.0   \nERR760733                     0.0                     0.0   \nERR760742                     0.0                     0.0   \nERR760752                     0.0                     0.0   \nERR760755                     0.0                     0.0   \nERR760758                     0.0                     0.0   \nERR760761                     0.0                     0.0   \nERR760778                     0.0                     0.0   \nERR760783                     0.0                     0.0   \nERR760789                     0.0                     0.0   \nERR760793                     0.0                     0.0   \nERR760795                     0.0                     0.0   \nERR760796                     0.0                     0.0   \n\n           delamanid_resistance  \nSampleID                         \nERR757149                   0.0  \nERR757150                   0.0  \nERR757169                   0.0  \nERR757172                   0.0  \nERR757185                   0.0  \nERR760605                   0.0  \nERR760609                   0.0  \nERR760611                   0.0  \nERR760733                   0.0  \nERR760742                   0.0  \nERR760752                   0.0  \nERR760755                   0.0  \nERR760758                   0.0  \nERR760761                   0.0  \nERR760778                   0.0  \nERR760783                   0.0  \nERR760789                   0.0  \nERR760793                   0.0  \nERR760795                   0.0  \nERR760796                   0.0  \n\n[20 rows x 21 columns]",
      "text/html": "<div>\n<style scoped>\n    .dataframe tbody tr th:only-of-type {\n        vertical-align: middle;\n    }\n\n    .dataframe tbody tr th {\n        vertical-align: top;\n    }\n\n    .dataframe thead th {\n        text-align: right;\n    }\n</style>\n<table border=\"1\" class=\"dataframe\">\n  <thead>\n    <tr style=\"text-align: right;\">\n      <th></th>\n      <th>rifampicin_resistance</th>\n      <th>isoniazid_resistance</th>\n      <th>pyrazinamide_resistance</th>\n      <th>ethambutol_resistance</th>\n      <th>streptomycin_resistance</th>\n      <th>fluoroquinolones_resistance</th>\n      <th>moxifloxacin_resistance</th>\n      <th>ofloxacin_resistance</th>\n      <th>levofloxacin_resistance</th>\n      <th>ciprofloxacin_resistance</th>\n      <th>...</th>\n      <th>amikacin_resistance</th>\n      <th>kanamycin_resistance</th>\n      <th>capreomycin_resistance</th>\n      <th>ethionamide_resistance</th>\n      <th>para-aminosalicylic_acid_resistance</th>\n      <th>cycloserine_resistance</th>\n      <th>linezolid_resistance</th>\n      <th>bedaquiline_resistance</th>\n      <th>clofazimine_resistance</th>\n      <th>delamanid_resistance</th>\n    </tr>\n    <tr>\n      <th>SampleID</th>\n      <th></th>\n      <th></th>\n      <th></th>\n      <th></th>\n      <th></th>\n      <th></th>\n      <th></th>\n      <th></th>\n      <th></th>\n      <th></th>\n      <th></th>\n      <th></th>\n      <th></th>\n      <th></th>\n      <th></th>\n      <th></th>\n      <th></th>\n      <th></th>\n      <th></th>\n      <th></th>\n      <th></th>\n    </tr>\n  </thead>\n  <tbody>\n    <tr>\n      <th>ERR757149</th>\n      <td>0.0</td>\n      <td>1.0</td>\n      <td>0.0</td>\n      <td>0.0</td>\n      <td>0.0</td>\n      <td>0.0</td>\n      <td>0.0</td>\n      <td>0.0</td>\n      <td>0.0</td>\n      <td>0.0</td>\n      <td>...</td>\n      <td>0.0</td>\n      <td>0.0</td>\n      <td>0.0</td>\n      <td>0.0</td>\n      <td>0.0</td>\n      <td>0.0</td>\n      <td>0.0</td>\n      <td>0.0</td>\n      <td>0.0</td>\n      <td>0.0</td>\n    </tr>\n    <tr>\n      <th>ERR757150</th>\n      <td>1.0</td>\n      <td>1.0</td>\n      <td>1.0</td>\n      <td>1.0</td>\n      <td>0.0</td>\n      <td>0.0</td>\n      <td>0.0</td>\n      <td>0.0</td>\n      <td>0.0</td>\n      <td>0.0</td>\n      <td>...</td>\n      <td>1.0</td>\n      <td>1.0</td>\n      <td>1.0</td>\n      <td>0.0</td>\n      <td>0.0</td>\n      <td>0.0</td>\n      <td>0.0</td>\n      <td>0.0</td>\n      <td>0.0</td>\n      <td>0.0</td>\n    </tr>\n    <tr>\n      <th>ERR757169</th>\n      <td>1.0</td>\n      <td>1.0</td>\n      <td>1.0</td>\n      <td>1.0</td>\n      <td>0.0</td>\n      <td>0.0</td>\n      <td>0.0</td>\n      <td>0.0</td>\n      <td>0.0</td>\n      <td>0.0</td>\n      <td>...</td>\n      <td>1.0</td>\n      <td>1.0</td>\n      <td>1.0</td>\n      <td>0.0</td>\n      <td>0.0</td>\n      <td>0.0</td>\n      <td>0.0</td>\n      <td>0.0</td>\n      <td>0.0</td>\n      <td>0.0</td>\n    </tr>\n    <tr>\n      <th>ERR757172</th>\n      <td>1.0</td>\n      <td>1.0</td>\n      <td>1.0</td>\n      <td>1.0</td>\n      <td>0.0</td>\n      <td>0.0</td>\n      <td>0.0</td>\n      <td>0.0</td>\n      <td>0.0</td>\n      <td>0.0</td>\n      <td>...</td>\n      <td>1.0</td>\n      <td>1.0</td>\n      <td>1.0</td>\n      <td>0.0</td>\n      <td>0.0</td>\n      <td>0.0</td>\n      <td>0.0</td>\n      <td>0.0</td>\n      <td>0.0</td>\n      <td>0.0</td>\n    </tr>\n    <tr>\n      <th>ERR757185</th>\n      <td>1.0</td>\n      <td>1.0</td>\n      <td>1.0</td>\n      <td>1.0</td>\n      <td>0.0</td>\n      <td>0.0</td>\n      <td>0.0</td>\n      <td>0.0</td>\n      <td>0.0</td>\n      <td>0.0</td>\n      <td>...</td>\n      <td>1.0</td>\n      <td>1.0</td>\n      <td>1.0</td>\n      <td>0.0</td>\n      <td>0.0</td>\n      <td>0.0</td>\n      <td>0.0</td>\n      <td>0.0</td>\n      <td>0.0</td>\n      <td>0.0</td>\n    </tr>\n    <tr>\n      <th>ERR760605</th>\n      <td>0.0</td>\n      <td>1.0</td>\n      <td>0.0</td>\n      <td>0.0</td>\n      <td>0.0</td>\n      <td>0.0</td>\n      <td>0.0</td>\n      <td>0.0</td>\n      <td>0.0</td>\n      <td>0.0</td>\n      <td>...</td>\n      <td>0.0</td>\n      <td>0.0</td>\n      <td>0.0</td>\n      <td>0.0</td>\n      <td>0.0</td>\n      <td>0.0</td>\n      <td>0.0</td>\n      <td>0.0</td>\n      <td>0.0</td>\n      <td>0.0</td>\n    </tr>\n    <tr>\n      <th>ERR760609</th>\n      <td>1.0</td>\n      <td>1.0</td>\n      <td>1.0</td>\n      <td>1.0</td>\n      <td>0.0</td>\n      <td>0.0</td>\n      <td>0.0</td>\n      <td>0.0</td>\n      <td>0.0</td>\n      <td>0.0</td>\n      <td>...</td>\n      <td>1.0</td>\n      <td>1.0</td>\n      <td>1.0</td>\n      <td>0.0</td>\n      <td>0.0</td>\n      <td>0.0</td>\n      <td>0.0</td>\n      <td>0.0</td>\n      <td>0.0</td>\n      <td>0.0</td>\n    </tr>\n    <tr>\n      <th>ERR760611</th>\n      <td>1.0</td>\n      <td>1.0</td>\n      <td>1.0</td>\n      <td>1.0</td>\n      <td>0.0</td>\n      <td>0.0</td>\n      <td>0.0</td>\n      <td>0.0</td>\n      <td>0.0</td>\n      <td>0.0</td>\n      <td>...</td>\n      <td>1.0</td>\n      <td>1.0</td>\n      <td>1.0</td>\n      <td>0.0</td>\n      <td>0.0</td>\n      <td>0.0</td>\n      <td>0.0</td>\n      <td>0.0</td>\n      <td>0.0</td>\n      <td>0.0</td>\n    </tr>\n    <tr>\n      <th>ERR760733</th>\n      <td>0.0</td>\n      <td>0.0</td>\n      <td>0.0</td>\n      <td>0.0</td>\n      <td>0.0</td>\n      <td>0.0</td>\n      <td>0.0</td>\n      <td>0.0</td>\n      <td>0.0</td>\n      <td>0.0</td>\n      <td>...</td>\n      <td>0.0</td>\n      <td>0.0</td>\n      <td>0.0</td>\n      <td>0.0</td>\n      <td>0.0</td>\n      <td>0.0</td>\n      <td>0.0</td>\n      <td>0.0</td>\n      <td>0.0</td>\n      <td>0.0</td>\n    </tr>\n    <tr>\n      <th>ERR760742</th>\n      <td>1.0</td>\n      <td>1.0</td>\n      <td>1.0</td>\n      <td>1.0</td>\n      <td>0.0</td>\n      <td>0.0</td>\n      <td>0.0</td>\n      <td>0.0</td>\n      <td>0.0</td>\n      <td>0.0</td>\n      <td>...</td>\n      <td>1.0</td>\n      <td>1.0</td>\n      <td>1.0</td>\n      <td>0.0</td>\n      <td>0.0</td>\n      <td>0.0</td>\n      <td>0.0</td>\n      <td>0.0</td>\n      <td>0.0</td>\n      <td>0.0</td>\n    </tr>\n    <tr>\n      <th>ERR760752</th>\n      <td>1.0</td>\n      <td>1.0</td>\n      <td>1.0</td>\n      <td>1.0</td>\n      <td>0.0</td>\n      <td>0.0</td>\n      <td>0.0</td>\n      <td>0.0</td>\n      <td>0.0</td>\n      <td>0.0</td>\n      <td>...</td>\n      <td>1.0</td>\n      <td>1.0</td>\n      <td>1.0</td>\n      <td>0.0</td>\n      <td>0.0</td>\n      <td>0.0</td>\n      <td>0.0</td>\n      <td>0.0</td>\n      <td>0.0</td>\n      <td>0.0</td>\n    </tr>\n    <tr>\n      <th>ERR760755</th>\n      <td>1.0</td>\n      <td>1.0</td>\n      <td>1.0</td>\n      <td>1.0</td>\n      <td>0.0</td>\n      <td>0.0</td>\n      <td>0.0</td>\n      <td>0.0</td>\n      <td>0.0</td>\n      <td>0.0</td>\n      <td>...</td>\n      <td>1.0</td>\n      <td>1.0</td>\n      <td>1.0</td>\n      <td>0.0</td>\n      <td>0.0</td>\n      <td>0.0</td>\n      <td>0.0</td>\n      <td>0.0</td>\n      <td>0.0</td>\n      <td>0.0</td>\n    </tr>\n    <tr>\n      <th>ERR760758</th>\n      <td>1.0</td>\n      <td>1.0</td>\n      <td>1.0</td>\n      <td>1.0</td>\n      <td>0.0</td>\n      <td>0.0</td>\n      <td>0.0</td>\n      <td>0.0</td>\n      <td>0.0</td>\n      <td>0.0</td>\n      <td>...</td>\n      <td>1.0</td>\n      <td>1.0</td>\n      <td>1.0</td>\n      <td>0.0</td>\n      <td>0.0</td>\n      <td>0.0</td>\n      <td>0.0</td>\n      <td>0.0</td>\n      <td>0.0</td>\n      <td>0.0</td>\n    </tr>\n    <tr>\n      <th>ERR760761</th>\n      <td>1.0</td>\n      <td>1.0</td>\n      <td>1.0</td>\n      <td>1.0</td>\n      <td>0.0</td>\n      <td>0.0</td>\n      <td>0.0</td>\n      <td>0.0</td>\n      <td>0.0</td>\n      <td>0.0</td>\n      <td>...</td>\n      <td>1.0</td>\n      <td>1.0</td>\n      <td>1.0</td>\n      <td>0.0</td>\n      <td>0.0</td>\n      <td>0.0</td>\n      <td>0.0</td>\n      <td>0.0</td>\n      <td>0.0</td>\n      <td>0.0</td>\n    </tr>\n    <tr>\n      <th>ERR760778</th>\n      <td>1.0</td>\n      <td>1.0</td>\n      <td>1.0</td>\n      <td>1.0</td>\n      <td>0.0</td>\n      <td>0.0</td>\n      <td>0.0</td>\n      <td>0.0</td>\n      <td>0.0</td>\n      <td>0.0</td>\n      <td>...</td>\n      <td>1.0</td>\n      <td>1.0</td>\n      <td>1.0</td>\n      <td>0.0</td>\n      <td>0.0</td>\n      <td>0.0</td>\n      <td>0.0</td>\n      <td>0.0</td>\n      <td>0.0</td>\n      <td>0.0</td>\n    </tr>\n    <tr>\n      <th>ERR760783</th>\n      <td>1.0</td>\n      <td>1.0</td>\n      <td>1.0</td>\n      <td>1.0</td>\n      <td>0.0</td>\n      <td>0.0</td>\n      <td>0.0</td>\n      <td>0.0</td>\n      <td>0.0</td>\n      <td>0.0</td>\n      <td>...</td>\n      <td>1.0</td>\n      <td>1.0</td>\n      <td>1.0</td>\n      <td>0.0</td>\n      <td>0.0</td>\n      <td>0.0</td>\n      <td>0.0</td>\n      <td>0.0</td>\n      <td>0.0</td>\n      <td>0.0</td>\n    </tr>\n    <tr>\n      <th>ERR760789</th>\n      <td>1.0</td>\n      <td>1.0</td>\n      <td>1.0</td>\n      <td>1.0</td>\n      <td>0.0</td>\n      <td>0.0</td>\n      <td>0.0</td>\n      <td>0.0</td>\n      <td>0.0</td>\n      <td>0.0</td>\n      <td>...</td>\n      <td>1.0</td>\n      <td>1.0</td>\n      <td>1.0</td>\n      <td>0.0</td>\n      <td>0.0</td>\n      <td>0.0</td>\n      <td>0.0</td>\n      <td>0.0</td>\n      <td>0.0</td>\n      <td>0.0</td>\n    </tr>\n    <tr>\n      <th>ERR760793</th>\n      <td>1.0</td>\n      <td>1.0</td>\n      <td>1.0</td>\n      <td>1.0</td>\n      <td>0.0</td>\n      <td>0.0</td>\n      <td>0.0</td>\n      <td>0.0</td>\n      <td>0.0</td>\n      <td>0.0</td>\n      <td>...</td>\n      <td>1.0</td>\n      <td>1.0</td>\n      <td>1.0</td>\n      <td>0.0</td>\n      <td>0.0</td>\n      <td>0.0</td>\n      <td>0.0</td>\n      <td>0.0</td>\n      <td>0.0</td>\n      <td>0.0</td>\n    </tr>\n    <tr>\n      <th>ERR760795</th>\n      <td>1.0</td>\n      <td>1.0</td>\n      <td>1.0</td>\n      <td>1.0</td>\n      <td>0.0</td>\n      <td>1.0</td>\n      <td>1.0</td>\n      <td>1.0</td>\n      <td>1.0</td>\n      <td>1.0</td>\n      <td>...</td>\n      <td>1.0</td>\n      <td>1.0</td>\n      <td>1.0</td>\n      <td>1.0</td>\n      <td>0.0</td>\n      <td>0.0</td>\n      <td>0.0</td>\n      <td>0.0</td>\n      <td>0.0</td>\n      <td>0.0</td>\n    </tr>\n    <tr>\n      <th>ERR760796</th>\n      <td>1.0</td>\n      <td>1.0</td>\n      <td>1.0</td>\n      <td>1.0</td>\n      <td>0.0</td>\n      <td>0.0</td>\n      <td>0.0</td>\n      <td>0.0</td>\n      <td>0.0</td>\n      <td>0.0</td>\n      <td>...</td>\n      <td>1.0</td>\n      <td>1.0</td>\n      <td>1.0</td>\n      <td>0.0</td>\n      <td>0.0</td>\n      <td>0.0</td>\n      <td>0.0</td>\n      <td>0.0</td>\n      <td>0.0</td>\n      <td>0.0</td>\n    </tr>\n  </tbody>\n</table>\n<p>20 rows × 21 columns</p>\n</div>"
     },
     "execution_count": 125,
     "metadata": {},
     "output_type": "execute_result"
    }
   ],
   "source": [
    "# final_df[renamed_drug_columns_names].iloc[150:170] \\\n",
    "#                                     .apply(lambda x : list(map(binarize_multi_drug_resistance_vector, x))) \\\n",
    "#                                     .fillna(0.0)"
   ],
   "metadata": {
    "collapsed": false,
    "pycharm": {
     "name": "#%%\n"
    }
   }
  },
  {
   "cell_type": "code",
   "execution_count": 132,
   "outputs": [
    {
     "data": {
      "text/plain": "            rifampicin_resistance  isoniazid_resistance  \\\nSampleID                                                  \nERR3129939                    0.0                   0.0   \nERR3148148                    0.0                   0.0   \nERR3148149                    1.0                   0.0   \nERR3148151                    1.0                   1.0   \nERR3148153                    0.0                   0.0   \n\n            pyrazinamide_resistance  ethambutol_resistance  \\\nSampleID                                                     \nERR3129939                      0.0                    0.0   \nERR3148148                      0.0                    0.0   \nERR3148149                      0.0                    0.0   \nERR3148151                      1.0                    0.0   \nERR3148153                      0.0                    0.0   \n\n            streptomycin_resistance  fluoroquinolones_resistance  \\\nSampleID                                                           \nERR3129939                      0.0                          0.0   \nERR3148148                      0.0                          0.0   \nERR3148149                      0.0                          0.0   \nERR3148151                      0.0                          0.0   \nERR3148153                      0.0                          0.0   \n\n            moxifloxacin_resistance  ofloxacin_resistance  \\\nSampleID                                                    \nERR3129939                      0.0                   0.0   \nERR3148148                      0.0                   0.0   \nERR3148149                      0.0                   0.0   \nERR3148151                      0.0                   0.0   \nERR3148153                      0.0                   0.0   \n\n            levofloxacin_resistance  ciprofloxacin_resistance  ...  \\\nSampleID                                                       ...   \nERR3129939                      0.0                       0.0  ...   \nERR3148148                      0.0                       0.0  ...   \nERR3148149                      0.0                       0.0  ...   \nERR3148151                      0.0                       0.0  ...   \nERR3148153                      0.0                       0.0  ...   \n\n            amikacin_resistance  kanamycin_resistance  capreomycin_resistance  \\\nSampleID                                                                        \nERR3129939                  0.0                   0.0                     0.0   \nERR3148148                  0.0                   0.0                     0.0   \nERR3148149                  0.0                   0.0                     0.0   \nERR3148151                  0.0                   0.0                     0.0   \nERR3148153                  0.0                   0.0                     0.0   \n\n            ethionamide_resistance  para-aminosalicylic_acid_resistance  \\\nSampleID                                                                  \nERR3129939                     0.0                                  0.0   \nERR3148148                     0.0                                  0.0   \nERR3148149                     0.0                                  0.0   \nERR3148151                     0.0                                  0.0   \nERR3148153                     0.0                                  0.0   \n\n            cycloserine_resistance  linezolid_resistance  \\\nSampleID                                                   \nERR3129939                     0.0                   0.0   \nERR3148148                     0.0                   0.0   \nERR3148149                     0.0                   0.0   \nERR3148151                     0.0                   0.0   \nERR3148153                     0.0                   0.0   \n\n            bedaquiline_resistance  clofazimine_resistance  \\\nSampleID                                                     \nERR3129939                     0.0                     0.0   \nERR3148148                     0.0                     0.0   \nERR3148149                     0.0                     0.0   \nERR3148151                     0.0                     0.0   \nERR3148153                     0.0                     0.0   \n\n            delamanid_resistance  \nSampleID                          \nERR3129939                   0.0  \nERR3148148                   0.0  \nERR3148149                   0.0  \nERR3148151                   0.0  \nERR3148153                   0.0  \n\n[5 rows x 21 columns]",
      "text/html": "<div>\n<style scoped>\n    .dataframe tbody tr th:only-of-type {\n        vertical-align: middle;\n    }\n\n    .dataframe tbody tr th {\n        vertical-align: top;\n    }\n\n    .dataframe thead th {\n        text-align: right;\n    }\n</style>\n<table border=\"1\" class=\"dataframe\">\n  <thead>\n    <tr style=\"text-align: right;\">\n      <th></th>\n      <th>rifampicin_resistance</th>\n      <th>isoniazid_resistance</th>\n      <th>pyrazinamide_resistance</th>\n      <th>ethambutol_resistance</th>\n      <th>streptomycin_resistance</th>\n      <th>fluoroquinolones_resistance</th>\n      <th>moxifloxacin_resistance</th>\n      <th>ofloxacin_resistance</th>\n      <th>levofloxacin_resistance</th>\n      <th>ciprofloxacin_resistance</th>\n      <th>...</th>\n      <th>amikacin_resistance</th>\n      <th>kanamycin_resistance</th>\n      <th>capreomycin_resistance</th>\n      <th>ethionamide_resistance</th>\n      <th>para-aminosalicylic_acid_resistance</th>\n      <th>cycloserine_resistance</th>\n      <th>linezolid_resistance</th>\n      <th>bedaquiline_resistance</th>\n      <th>clofazimine_resistance</th>\n      <th>delamanid_resistance</th>\n    </tr>\n    <tr>\n      <th>SampleID</th>\n      <th></th>\n      <th></th>\n      <th></th>\n      <th></th>\n      <th></th>\n      <th></th>\n      <th></th>\n      <th></th>\n      <th></th>\n      <th></th>\n      <th></th>\n      <th></th>\n      <th></th>\n      <th></th>\n      <th></th>\n      <th></th>\n      <th></th>\n      <th></th>\n      <th></th>\n      <th></th>\n      <th></th>\n    </tr>\n  </thead>\n  <tbody>\n    <tr>\n      <th>ERR3129939</th>\n      <td>0.0</td>\n      <td>0.0</td>\n      <td>0.0</td>\n      <td>0.0</td>\n      <td>0.0</td>\n      <td>0.0</td>\n      <td>0.0</td>\n      <td>0.0</td>\n      <td>0.0</td>\n      <td>0.0</td>\n      <td>...</td>\n      <td>0.0</td>\n      <td>0.0</td>\n      <td>0.0</td>\n      <td>0.0</td>\n      <td>0.0</td>\n      <td>0.0</td>\n      <td>0.0</td>\n      <td>0.0</td>\n      <td>0.0</td>\n      <td>0.0</td>\n    </tr>\n    <tr>\n      <th>ERR3148148</th>\n      <td>0.0</td>\n      <td>0.0</td>\n      <td>0.0</td>\n      <td>0.0</td>\n      <td>0.0</td>\n      <td>0.0</td>\n      <td>0.0</td>\n      <td>0.0</td>\n      <td>0.0</td>\n      <td>0.0</td>\n      <td>...</td>\n      <td>0.0</td>\n      <td>0.0</td>\n      <td>0.0</td>\n      <td>0.0</td>\n      <td>0.0</td>\n      <td>0.0</td>\n      <td>0.0</td>\n      <td>0.0</td>\n      <td>0.0</td>\n      <td>0.0</td>\n    </tr>\n    <tr>\n      <th>ERR3148149</th>\n      <td>1.0</td>\n      <td>0.0</td>\n      <td>0.0</td>\n      <td>0.0</td>\n      <td>0.0</td>\n      <td>0.0</td>\n      <td>0.0</td>\n      <td>0.0</td>\n      <td>0.0</td>\n      <td>0.0</td>\n      <td>...</td>\n      <td>0.0</td>\n      <td>0.0</td>\n      <td>0.0</td>\n      <td>0.0</td>\n      <td>0.0</td>\n      <td>0.0</td>\n      <td>0.0</td>\n      <td>0.0</td>\n      <td>0.0</td>\n      <td>0.0</td>\n    </tr>\n    <tr>\n      <th>ERR3148151</th>\n      <td>1.0</td>\n      <td>1.0</td>\n      <td>1.0</td>\n      <td>0.0</td>\n      <td>0.0</td>\n      <td>0.0</td>\n      <td>0.0</td>\n      <td>0.0</td>\n      <td>0.0</td>\n      <td>0.0</td>\n      <td>...</td>\n      <td>0.0</td>\n      <td>0.0</td>\n      <td>0.0</td>\n      <td>0.0</td>\n      <td>0.0</td>\n      <td>0.0</td>\n      <td>0.0</td>\n      <td>0.0</td>\n      <td>0.0</td>\n      <td>0.0</td>\n    </tr>\n    <tr>\n      <th>ERR3148153</th>\n      <td>0.0</td>\n      <td>0.0</td>\n      <td>0.0</td>\n      <td>0.0</td>\n      <td>0.0</td>\n      <td>0.0</td>\n      <td>0.0</td>\n      <td>0.0</td>\n      <td>0.0</td>\n      <td>0.0</td>\n      <td>...</td>\n      <td>0.0</td>\n      <td>0.0</td>\n      <td>0.0</td>\n      <td>0.0</td>\n      <td>0.0</td>\n      <td>0.0</td>\n      <td>0.0</td>\n      <td>0.0</td>\n      <td>0.0</td>\n      <td>0.0</td>\n    </tr>\n  </tbody>\n</table>\n<p>5 rows × 21 columns</p>\n</div>"
     },
     "execution_count": 132,
     "metadata": {},
     "output_type": "execute_result"
    }
   ],
   "source": [
    "final_df[renamed_drug_columns_names] = final_df[renamed_drug_columns_names] \\\n",
    "                                              .apply(lambda x : list(map(binarize_multi_drug_resistance_vector, x))) \\\n",
    "                                              .fillna(0)\n",
    "final_df[renamed_drug_columns_names].head()"
   ],
   "metadata": {
    "collapsed": false,
    "pycharm": {
     "name": "#%%\n"
    }
   }
  },
  {
   "cell_type": "code",
   "execution_count": 133,
   "outputs": [
    {
     "data": {
      "text/plain": "            NC000962_3.78  NC000962_3.80  NC000962_3.102  NC000962_3.104  \\\nSampleID                                                                   \nERR3129939              0              0               0               0   \nERR3148148              0              0               0               0   \nERR3148149              0              0               0               0   \nERR3148151              0              0               0               0   \nERR3148153              0              0               0               0   \n\n            NC000962_3.117  NC000962_3.120  NC000962_3.135  NC000962_3.138  \\\nSampleID                                                                     \nERR3129939               0               0               0               0   \nERR3148148               0               0               0               0   \nERR3148149               0               0               0               0   \nERR3148151               0               0               0               0   \nERR3148153               0               0               0               0   \n\n            NC000962_3.150  NC000962_3.155  ...  linezolid_resistance  \\\nSampleID                                    ...                         \nERR3129939               0               0  ...                   0.0   \nERR3148148               0               0  ...                   0.0   \nERR3148149               0               0  ...                   0.0   \nERR3148151               0               0  ...                   0.0   \nERR3148153               0               0  ...                   0.0   \n\n            bedaquiline_resistance  clofazimine_resistance  \\\nSampleID                                                     \nERR3129939                     0.0                     0.0   \nERR3148148                     0.0                     0.0   \nERR3148149                     0.0                     0.0   \nERR3148151                     0.0                     0.0   \nERR3148153                     0.0                     0.0   \n\n            delamanid_resistance  main_lin          sublin          drtype  \\\nSampleID                                                                     \nERR3129939                   0.0  lineage4  lineage4.1.1.3       Sensitive   \nERR3148148                   0.0  lineage4  lineage4.1.2.1       Sensitive   \nERR3148149                   0.0  lineage4      lineage4.1  Drug-resistant   \nERR3148151                   0.0  lineage4  lineage4.1.1.3             MDR   \nERR3148153                   0.0  lineage4  lineage4.1.2.1       Sensitive   \n\n            MDR  XDR  Resistance_Status  \nSampleID                                 \nERR3129939  NaN  NaN          Sensitive  \nERR3148148  NaN  NaN          Sensitive  \nERR3148149  NaN  NaN          Resistant  \nERR3148151    R  NaN          Resistant  \nERR3148153  NaN  NaN          Sensitive  \n\n[5 rows x 118695 columns]",
      "text/html": "<div>\n<style scoped>\n    .dataframe tbody tr th:only-of-type {\n        vertical-align: middle;\n    }\n\n    .dataframe tbody tr th {\n        vertical-align: top;\n    }\n\n    .dataframe thead th {\n        text-align: right;\n    }\n</style>\n<table border=\"1\" class=\"dataframe\">\n  <thead>\n    <tr style=\"text-align: right;\">\n      <th></th>\n      <th>NC000962_3.78</th>\n      <th>NC000962_3.80</th>\n      <th>NC000962_3.102</th>\n      <th>NC000962_3.104</th>\n      <th>NC000962_3.117</th>\n      <th>NC000962_3.120</th>\n      <th>NC000962_3.135</th>\n      <th>NC000962_3.138</th>\n      <th>NC000962_3.150</th>\n      <th>NC000962_3.155</th>\n      <th>...</th>\n      <th>linezolid_resistance</th>\n      <th>bedaquiline_resistance</th>\n      <th>clofazimine_resistance</th>\n      <th>delamanid_resistance</th>\n      <th>main_lin</th>\n      <th>sublin</th>\n      <th>drtype</th>\n      <th>MDR</th>\n      <th>XDR</th>\n      <th>Resistance_Status</th>\n    </tr>\n    <tr>\n      <th>SampleID</th>\n      <th></th>\n      <th></th>\n      <th></th>\n      <th></th>\n      <th></th>\n      <th></th>\n      <th></th>\n      <th></th>\n      <th></th>\n      <th></th>\n      <th></th>\n      <th></th>\n      <th></th>\n      <th></th>\n      <th></th>\n      <th></th>\n      <th></th>\n      <th></th>\n      <th></th>\n      <th></th>\n      <th></th>\n    </tr>\n  </thead>\n  <tbody>\n    <tr>\n      <th>ERR3129939</th>\n      <td>0</td>\n      <td>0</td>\n      <td>0</td>\n      <td>0</td>\n      <td>0</td>\n      <td>0</td>\n      <td>0</td>\n      <td>0</td>\n      <td>0</td>\n      <td>0</td>\n      <td>...</td>\n      <td>0.0</td>\n      <td>0.0</td>\n      <td>0.0</td>\n      <td>0.0</td>\n      <td>lineage4</td>\n      <td>lineage4.1.1.3</td>\n      <td>Sensitive</td>\n      <td>NaN</td>\n      <td>NaN</td>\n      <td>Sensitive</td>\n    </tr>\n    <tr>\n      <th>ERR3148148</th>\n      <td>0</td>\n      <td>0</td>\n      <td>0</td>\n      <td>0</td>\n      <td>0</td>\n      <td>0</td>\n      <td>0</td>\n      <td>0</td>\n      <td>0</td>\n      <td>0</td>\n      <td>...</td>\n      <td>0.0</td>\n      <td>0.0</td>\n      <td>0.0</td>\n      <td>0.0</td>\n      <td>lineage4</td>\n      <td>lineage4.1.2.1</td>\n      <td>Sensitive</td>\n      <td>NaN</td>\n      <td>NaN</td>\n      <td>Sensitive</td>\n    </tr>\n    <tr>\n      <th>ERR3148149</th>\n      <td>0</td>\n      <td>0</td>\n      <td>0</td>\n      <td>0</td>\n      <td>0</td>\n      <td>0</td>\n      <td>0</td>\n      <td>0</td>\n      <td>0</td>\n      <td>0</td>\n      <td>...</td>\n      <td>0.0</td>\n      <td>0.0</td>\n      <td>0.0</td>\n      <td>0.0</td>\n      <td>lineage4</td>\n      <td>lineage4.1</td>\n      <td>Drug-resistant</td>\n      <td>NaN</td>\n      <td>NaN</td>\n      <td>Resistant</td>\n    </tr>\n    <tr>\n      <th>ERR3148151</th>\n      <td>0</td>\n      <td>0</td>\n      <td>0</td>\n      <td>0</td>\n      <td>0</td>\n      <td>0</td>\n      <td>0</td>\n      <td>0</td>\n      <td>0</td>\n      <td>0</td>\n      <td>...</td>\n      <td>0.0</td>\n      <td>0.0</td>\n      <td>0.0</td>\n      <td>0.0</td>\n      <td>lineage4</td>\n      <td>lineage4.1.1.3</td>\n      <td>MDR</td>\n      <td>R</td>\n      <td>NaN</td>\n      <td>Resistant</td>\n    </tr>\n    <tr>\n      <th>ERR3148153</th>\n      <td>0</td>\n      <td>0</td>\n      <td>0</td>\n      <td>0</td>\n      <td>0</td>\n      <td>0</td>\n      <td>0</td>\n      <td>0</td>\n      <td>0</td>\n      <td>0</td>\n      <td>...</td>\n      <td>0.0</td>\n      <td>0.0</td>\n      <td>0.0</td>\n      <td>0.0</td>\n      <td>lineage4</td>\n      <td>lineage4.1.2.1</td>\n      <td>Sensitive</td>\n      <td>NaN</td>\n      <td>NaN</td>\n      <td>Sensitive</td>\n    </tr>\n  </tbody>\n</table>\n<p>5 rows × 118695 columns</p>\n</div>"
     },
     "execution_count": 133,
     "metadata": {},
     "output_type": "execute_result"
    }
   ],
   "source": [
    "\n",
    "multi_resistance_df = final_df\n",
    "multi_resistance_df.head()"
   ],
   "metadata": {
    "collapsed": false,
    "pycharm": {
     "name": "#%%\n"
    }
   }
  },
  {
   "cell_type": "code",
   "execution_count": 135,
   "outputs": [
    {
     "data": {
      "text/plain": "            NC000962_3.78  NC000962_3.80  NC000962_3.102  NC000962_3.104  \\\nSampleID                                                                   \nERR3129939              0              0               0               0   \nERR3148148              0              0               0               0   \nERR3148149              0              0               0               0   \nERR3148151              0              0               0               0   \nERR3148153              0              0               0               0   \n\n            NC000962_3.117  NC000962_3.120  NC000962_3.135  NC000962_3.138  \\\nSampleID                                                                     \nERR3129939               0               0               0               0   \nERR3148148               0               0               0               0   \nERR3148149               0               0               0               0   \nERR3148151               0               0               0               0   \nERR3148153               0               0               0               0   \n\n            NC000962_3.150  NC000962_3.155  ...  capreomycin_resistance  \\\nSampleID                                    ...                           \nERR3129939               0               0  ...                     0.0   \nERR3148148               0               0  ...                     0.0   \nERR3148149               0               0  ...                     0.0   \nERR3148151               0               0  ...                     0.0   \nERR3148153               0               0  ...                     0.0   \n\n            ethionamide_resistance  para-aminosalicylic_acid_resistance  \\\nSampleID                                                                  \nERR3129939                     0.0                                  0.0   \nERR3148148                     0.0                                  0.0   \nERR3148149                     0.0                                  0.0   \nERR3148151                     0.0                                  0.0   \nERR3148153                     0.0                                  0.0   \n\n            cycloserine_resistance  linezolid_resistance  \\\nSampleID                                                   \nERR3129939                     0.0                   0.0   \nERR3148148                     0.0                   0.0   \nERR3148149                     0.0                   0.0   \nERR3148151                     0.0                   0.0   \nERR3148153                     0.0                   0.0   \n\n            bedaquiline_resistance  clofazimine_resistance  \\\nSampleID                                                     \nERR3129939                     0.0                     0.0   \nERR3148148                     0.0                     0.0   \nERR3148149                     0.0                     0.0   \nERR3148151                     0.0                     0.0   \nERR3148153                     0.0                     0.0   \n\n            delamanid_resistance          drtype  Resistance_Status  \nSampleID                                                             \nERR3129939                   0.0       Sensitive          Sensitive  \nERR3148148                   0.0       Sensitive          Sensitive  \nERR3148149                   0.0  Drug-resistant          Resistant  \nERR3148151                   0.0             MDR          Resistant  \nERR3148153                   0.0       Sensitive          Sensitive  \n\n[5 rows x 118691 columns]",
      "text/html": "<div>\n<style scoped>\n    .dataframe tbody tr th:only-of-type {\n        vertical-align: middle;\n    }\n\n    .dataframe tbody tr th {\n        vertical-align: top;\n    }\n\n    .dataframe thead th {\n        text-align: right;\n    }\n</style>\n<table border=\"1\" class=\"dataframe\">\n  <thead>\n    <tr style=\"text-align: right;\">\n      <th></th>\n      <th>NC000962_3.78</th>\n      <th>NC000962_3.80</th>\n      <th>NC000962_3.102</th>\n      <th>NC000962_3.104</th>\n      <th>NC000962_3.117</th>\n      <th>NC000962_3.120</th>\n      <th>NC000962_3.135</th>\n      <th>NC000962_3.138</th>\n      <th>NC000962_3.150</th>\n      <th>NC000962_3.155</th>\n      <th>...</th>\n      <th>capreomycin_resistance</th>\n      <th>ethionamide_resistance</th>\n      <th>para-aminosalicylic_acid_resistance</th>\n      <th>cycloserine_resistance</th>\n      <th>linezolid_resistance</th>\n      <th>bedaquiline_resistance</th>\n      <th>clofazimine_resistance</th>\n      <th>delamanid_resistance</th>\n      <th>drtype</th>\n      <th>Resistance_Status</th>\n    </tr>\n    <tr>\n      <th>SampleID</th>\n      <th></th>\n      <th></th>\n      <th></th>\n      <th></th>\n      <th></th>\n      <th></th>\n      <th></th>\n      <th></th>\n      <th></th>\n      <th></th>\n      <th></th>\n      <th></th>\n      <th></th>\n      <th></th>\n      <th></th>\n      <th></th>\n      <th></th>\n      <th></th>\n      <th></th>\n      <th></th>\n      <th></th>\n    </tr>\n  </thead>\n  <tbody>\n    <tr>\n      <th>ERR3129939</th>\n      <td>0</td>\n      <td>0</td>\n      <td>0</td>\n      <td>0</td>\n      <td>0</td>\n      <td>0</td>\n      <td>0</td>\n      <td>0</td>\n      <td>0</td>\n      <td>0</td>\n      <td>...</td>\n      <td>0.0</td>\n      <td>0.0</td>\n      <td>0.0</td>\n      <td>0.0</td>\n      <td>0.0</td>\n      <td>0.0</td>\n      <td>0.0</td>\n      <td>0.0</td>\n      <td>Sensitive</td>\n      <td>Sensitive</td>\n    </tr>\n    <tr>\n      <th>ERR3148148</th>\n      <td>0</td>\n      <td>0</td>\n      <td>0</td>\n      <td>0</td>\n      <td>0</td>\n      <td>0</td>\n      <td>0</td>\n      <td>0</td>\n      <td>0</td>\n      <td>0</td>\n      <td>...</td>\n      <td>0.0</td>\n      <td>0.0</td>\n      <td>0.0</td>\n      <td>0.0</td>\n      <td>0.0</td>\n      <td>0.0</td>\n      <td>0.0</td>\n      <td>0.0</td>\n      <td>Sensitive</td>\n      <td>Sensitive</td>\n    </tr>\n    <tr>\n      <th>ERR3148149</th>\n      <td>0</td>\n      <td>0</td>\n      <td>0</td>\n      <td>0</td>\n      <td>0</td>\n      <td>0</td>\n      <td>0</td>\n      <td>0</td>\n      <td>0</td>\n      <td>0</td>\n      <td>...</td>\n      <td>0.0</td>\n      <td>0.0</td>\n      <td>0.0</td>\n      <td>0.0</td>\n      <td>0.0</td>\n      <td>0.0</td>\n      <td>0.0</td>\n      <td>0.0</td>\n      <td>Drug-resistant</td>\n      <td>Resistant</td>\n    </tr>\n    <tr>\n      <th>ERR3148151</th>\n      <td>0</td>\n      <td>0</td>\n      <td>0</td>\n      <td>0</td>\n      <td>0</td>\n      <td>0</td>\n      <td>0</td>\n      <td>0</td>\n      <td>0</td>\n      <td>0</td>\n      <td>...</td>\n      <td>0.0</td>\n      <td>0.0</td>\n      <td>0.0</td>\n      <td>0.0</td>\n      <td>0.0</td>\n      <td>0.0</td>\n      <td>0.0</td>\n      <td>0.0</td>\n      <td>MDR</td>\n      <td>Resistant</td>\n    </tr>\n    <tr>\n      <th>ERR3148153</th>\n      <td>0</td>\n      <td>0</td>\n      <td>0</td>\n      <td>0</td>\n      <td>0</td>\n      <td>0</td>\n      <td>0</td>\n      <td>0</td>\n      <td>0</td>\n      <td>0</td>\n      <td>...</td>\n      <td>0.0</td>\n      <td>0.0</td>\n      <td>0.0</td>\n      <td>0.0</td>\n      <td>0.0</td>\n      <td>0.0</td>\n      <td>0.0</td>\n      <td>0.0</td>\n      <td>Sensitive</td>\n      <td>Sensitive</td>\n    </tr>\n  </tbody>\n</table>\n<p>5 rows × 118691 columns</p>\n</div>"
     },
     "execution_count": 135,
     "metadata": {},
     "output_type": "execute_result"
    }
   ],
   "source": [
    "multi_resistance_df = multi_resistance_df.drop(columns= [*lineage_column_names, 'MDR', 'XDR', 'drtype', 'Resistance_Status'])\n",
    "multi_resistance_df.head()\n",
    "\n"
   ],
   "metadata": {
    "collapsed": false,
    "pycharm": {
     "name": "#%%\n"
    }
   }
  },
  {
   "cell_type": "code",
   "execution_count": 139,
   "outputs": [
    {
     "data": {
      "text/plain": "     SampleID  NC000962_3.78  NC000962_3.80  NC000962_3.102  NC000962_3.104  \\\n0  ERR3129939              0              0               0               0   \n1  ERR3148148              0              0               0               0   \n2  ERR3148149              0              0               0               0   \n3  ERR3148151              0              0               0               0   \n4  ERR3148153              0              0               0               0   \n\n   NC000962_3.117  NC000962_3.120  NC000962_3.135  NC000962_3.138  \\\n0               0               0               0               0   \n1               0               0               0               0   \n2               0               0               0               0   \n3               0               0               0               0   \n4               0               0               0               0   \n\n   NC000962_3.150  ...  capreomycin_resistance  ethionamide_resistance  \\\n0               0  ...                     0.0                     0.0   \n1               0  ...                     0.0                     0.0   \n2               0  ...                     0.0                     0.0   \n3               0  ...                     0.0                     0.0   \n4               0  ...                     0.0                     0.0   \n\n   para-aminosalicylic_acid_resistance  cycloserine_resistance  \\\n0                                  0.0                     0.0   \n1                                  0.0                     0.0   \n2                                  0.0                     0.0   \n3                                  0.0                     0.0   \n4                                  0.0                     0.0   \n\n   linezolid_resistance  bedaquiline_resistance  clofazimine_resistance  \\\n0                   0.0                     0.0                     0.0   \n1                   0.0                     0.0                     0.0   \n2                   0.0                     0.0                     0.0   \n3                   0.0                     0.0                     0.0   \n4                   0.0                     0.0                     0.0   \n\n   delamanid_resistance          drtype  Resistance_Status  \n0                   0.0       Sensitive          Sensitive  \n1                   0.0       Sensitive          Sensitive  \n2                   0.0  Drug-resistant          Resistant  \n3                   0.0             MDR          Resistant  \n4                   0.0       Sensitive          Sensitive  \n\n[5 rows x 118692 columns]",
      "text/html": "<div>\n<style scoped>\n    .dataframe tbody tr th:only-of-type {\n        vertical-align: middle;\n    }\n\n    .dataframe tbody tr th {\n        vertical-align: top;\n    }\n\n    .dataframe thead th {\n        text-align: right;\n    }\n</style>\n<table border=\"1\" class=\"dataframe\">\n  <thead>\n    <tr style=\"text-align: right;\">\n      <th></th>\n      <th>SampleID</th>\n      <th>NC000962_3.78</th>\n      <th>NC000962_3.80</th>\n      <th>NC000962_3.102</th>\n      <th>NC000962_3.104</th>\n      <th>NC000962_3.117</th>\n      <th>NC000962_3.120</th>\n      <th>NC000962_3.135</th>\n      <th>NC000962_3.138</th>\n      <th>NC000962_3.150</th>\n      <th>...</th>\n      <th>capreomycin_resistance</th>\n      <th>ethionamide_resistance</th>\n      <th>para-aminosalicylic_acid_resistance</th>\n      <th>cycloserine_resistance</th>\n      <th>linezolid_resistance</th>\n      <th>bedaquiline_resistance</th>\n      <th>clofazimine_resistance</th>\n      <th>delamanid_resistance</th>\n      <th>drtype</th>\n      <th>Resistance_Status</th>\n    </tr>\n  </thead>\n  <tbody>\n    <tr>\n      <th>0</th>\n      <td>ERR3129939</td>\n      <td>0</td>\n      <td>0</td>\n      <td>0</td>\n      <td>0</td>\n      <td>0</td>\n      <td>0</td>\n      <td>0</td>\n      <td>0</td>\n      <td>0</td>\n      <td>...</td>\n      <td>0.0</td>\n      <td>0.0</td>\n      <td>0.0</td>\n      <td>0.0</td>\n      <td>0.0</td>\n      <td>0.0</td>\n      <td>0.0</td>\n      <td>0.0</td>\n      <td>Sensitive</td>\n      <td>Sensitive</td>\n    </tr>\n    <tr>\n      <th>1</th>\n      <td>ERR3148148</td>\n      <td>0</td>\n      <td>0</td>\n      <td>0</td>\n      <td>0</td>\n      <td>0</td>\n      <td>0</td>\n      <td>0</td>\n      <td>0</td>\n      <td>0</td>\n      <td>...</td>\n      <td>0.0</td>\n      <td>0.0</td>\n      <td>0.0</td>\n      <td>0.0</td>\n      <td>0.0</td>\n      <td>0.0</td>\n      <td>0.0</td>\n      <td>0.0</td>\n      <td>Sensitive</td>\n      <td>Sensitive</td>\n    </tr>\n    <tr>\n      <th>2</th>\n      <td>ERR3148149</td>\n      <td>0</td>\n      <td>0</td>\n      <td>0</td>\n      <td>0</td>\n      <td>0</td>\n      <td>0</td>\n      <td>0</td>\n      <td>0</td>\n      <td>0</td>\n      <td>...</td>\n      <td>0.0</td>\n      <td>0.0</td>\n      <td>0.0</td>\n      <td>0.0</td>\n      <td>0.0</td>\n      <td>0.0</td>\n      <td>0.0</td>\n      <td>0.0</td>\n      <td>Drug-resistant</td>\n      <td>Resistant</td>\n    </tr>\n    <tr>\n      <th>3</th>\n      <td>ERR3148151</td>\n      <td>0</td>\n      <td>0</td>\n      <td>0</td>\n      <td>0</td>\n      <td>0</td>\n      <td>0</td>\n      <td>0</td>\n      <td>0</td>\n      <td>0</td>\n      <td>...</td>\n      <td>0.0</td>\n      <td>0.0</td>\n      <td>0.0</td>\n      <td>0.0</td>\n      <td>0.0</td>\n      <td>0.0</td>\n      <td>0.0</td>\n      <td>0.0</td>\n      <td>MDR</td>\n      <td>Resistant</td>\n    </tr>\n    <tr>\n      <th>4</th>\n      <td>ERR3148153</td>\n      <td>0</td>\n      <td>0</td>\n      <td>0</td>\n      <td>0</td>\n      <td>0</td>\n      <td>0</td>\n      <td>0</td>\n      <td>0</td>\n      <td>0</td>\n      <td>...</td>\n      <td>0.0</td>\n      <td>0.0</td>\n      <td>0.0</td>\n      <td>0.0</td>\n      <td>0.0</td>\n      <td>0.0</td>\n      <td>0.0</td>\n      <td>0.0</td>\n      <td>Sensitive</td>\n      <td>Sensitive</td>\n    </tr>\n  </tbody>\n</table>\n<p>5 rows × 118692 columns</p>\n</div>"
     },
     "execution_count": 139,
     "metadata": {},
     "output_type": "execute_result"
    }
   ],
   "source": [
    "# multi_resistance_df.to_csv(\"../data/processed/multi_resistance_df.csv\")\n",
    "multi_resistance_df = pd.read_csv(\"../data/processed/multi_resistance_df.csv\")\n"
   ],
   "metadata": {
    "collapsed": false,
    "pycharm": {
     "name": "#%%\n"
    }
   }
  },
  {
   "cell_type": "code",
   "execution_count": 142,
   "outputs": [
    {
     "data": {
      "text/plain": "     SampleID  NC000962_3.78  NC000962_3.80  NC000962_3.102  NC000962_3.104  \\\n0  ERR3129939              0              0               0               0   \n1  ERR3148148              0              0               0               0   \n2  ERR3148149              0              0               0               0   \n3  ERR3148151              0              0               0               0   \n4  ERR3148153              0              0               0               0   \n5  ERR3148155              0              0               0               0   \n6  ERR3148159              0              0               0               0   \n7  ERR3148163              0              0               0               0   \n8  ERR3148164              0              0               0               0   \n9  ERR3148166              0              0               0               0   \n\n   NC000962_3.117  NC000962_3.120  NC000962_3.135  NC000962_3.138  \\\n0               0               0               0               0   \n1               0               0               0               0   \n2               0               0               0               0   \n3               0               0               0               0   \n4               0               0               0               0   \n5               0               0               0               0   \n6               0               0               0               0   \n7               0               0               0               0   \n8               0               0               0               0   \n9               0               0               0               0   \n\n   NC000962_3.150  ...  amikacin_resistance  kanamycin_resistance  \\\n0               0  ...                  0.0                   0.0   \n1               0  ...                  0.0                   0.0   \n2               0  ...                  0.0                   0.0   \n3               0  ...                  0.0                   0.0   \n4               0  ...                  0.0                   0.0   \n5               0  ...                  0.0                   0.0   \n6               0  ...                  0.0                   0.0   \n7               0  ...                  0.0                   0.0   \n8               0  ...                  0.0                   0.0   \n9               0  ...                  0.0                   0.0   \n\n   capreomycin_resistance  ethionamide_resistance  \\\n0                     0.0                     0.0   \n1                     0.0                     0.0   \n2                     0.0                     0.0   \n3                     0.0                     0.0   \n4                     0.0                     0.0   \n5                     0.0                     0.0   \n6                     0.0                     1.0   \n7                     0.0                     0.0   \n8                     0.0                     0.0   \n9                     0.0                     0.0   \n\n   para-aminosalicylic_acid_resistance  cycloserine_resistance  \\\n0                                  0.0                     0.0   \n1                                  0.0                     0.0   \n2                                  0.0                     0.0   \n3                                  0.0                     0.0   \n4                                  0.0                     0.0   \n5                                  0.0                     0.0   \n6                                  0.0                     0.0   \n7                                  0.0                     0.0   \n8                                  0.0                     0.0   \n9                                  0.0                     0.0   \n\n   linezolid_resistance  bedaquiline_resistance  clofazimine_resistance  \\\n0                   0.0                     0.0                     0.0   \n1                   0.0                     0.0                     0.0   \n2                   0.0                     0.0                     0.0   \n3                   0.0                     0.0                     0.0   \n4                   0.0                     0.0                     0.0   \n5                   0.0                     0.0                     0.0   \n6                   0.0                     0.0                     0.0   \n7                   0.0                     0.0                     0.0   \n8                   0.0                     0.0                     0.0   \n9                   0.0                     0.0                     0.0   \n\n   delamanid_resistance  \n0                   0.0  \n1                   0.0  \n2                   0.0  \n3                   0.0  \n4                   0.0  \n5                   0.0  \n6                   0.0  \n7                   0.0  \n8                   0.0  \n9                   0.0  \n\n[10 rows x 118690 columns]",
      "text/html": "<div>\n<style scoped>\n    .dataframe tbody tr th:only-of-type {\n        vertical-align: middle;\n    }\n\n    .dataframe tbody tr th {\n        vertical-align: top;\n    }\n\n    .dataframe thead th {\n        text-align: right;\n    }\n</style>\n<table border=\"1\" class=\"dataframe\">\n  <thead>\n    <tr style=\"text-align: right;\">\n      <th></th>\n      <th>SampleID</th>\n      <th>NC000962_3.78</th>\n      <th>NC000962_3.80</th>\n      <th>NC000962_3.102</th>\n      <th>NC000962_3.104</th>\n      <th>NC000962_3.117</th>\n      <th>NC000962_3.120</th>\n      <th>NC000962_3.135</th>\n      <th>NC000962_3.138</th>\n      <th>NC000962_3.150</th>\n      <th>...</th>\n      <th>amikacin_resistance</th>\n      <th>kanamycin_resistance</th>\n      <th>capreomycin_resistance</th>\n      <th>ethionamide_resistance</th>\n      <th>para-aminosalicylic_acid_resistance</th>\n      <th>cycloserine_resistance</th>\n      <th>linezolid_resistance</th>\n      <th>bedaquiline_resistance</th>\n      <th>clofazimine_resistance</th>\n      <th>delamanid_resistance</th>\n    </tr>\n  </thead>\n  <tbody>\n    <tr>\n      <th>0</th>\n      <td>ERR3129939</td>\n      <td>0</td>\n      <td>0</td>\n      <td>0</td>\n      <td>0</td>\n      <td>0</td>\n      <td>0</td>\n      <td>0</td>\n      <td>0</td>\n      <td>0</td>\n      <td>...</td>\n      <td>0.0</td>\n      <td>0.0</td>\n      <td>0.0</td>\n      <td>0.0</td>\n      <td>0.0</td>\n      <td>0.0</td>\n      <td>0.0</td>\n      <td>0.0</td>\n      <td>0.0</td>\n      <td>0.0</td>\n    </tr>\n    <tr>\n      <th>1</th>\n      <td>ERR3148148</td>\n      <td>0</td>\n      <td>0</td>\n      <td>0</td>\n      <td>0</td>\n      <td>0</td>\n      <td>0</td>\n      <td>0</td>\n      <td>0</td>\n      <td>0</td>\n      <td>...</td>\n      <td>0.0</td>\n      <td>0.0</td>\n      <td>0.0</td>\n      <td>0.0</td>\n      <td>0.0</td>\n      <td>0.0</td>\n      <td>0.0</td>\n      <td>0.0</td>\n      <td>0.0</td>\n      <td>0.0</td>\n    </tr>\n    <tr>\n      <th>2</th>\n      <td>ERR3148149</td>\n      <td>0</td>\n      <td>0</td>\n      <td>0</td>\n      <td>0</td>\n      <td>0</td>\n      <td>0</td>\n      <td>0</td>\n      <td>0</td>\n      <td>0</td>\n      <td>...</td>\n      <td>0.0</td>\n      <td>0.0</td>\n      <td>0.0</td>\n      <td>0.0</td>\n      <td>0.0</td>\n      <td>0.0</td>\n      <td>0.0</td>\n      <td>0.0</td>\n      <td>0.0</td>\n      <td>0.0</td>\n    </tr>\n    <tr>\n      <th>3</th>\n      <td>ERR3148151</td>\n      <td>0</td>\n      <td>0</td>\n      <td>0</td>\n      <td>0</td>\n      <td>0</td>\n      <td>0</td>\n      <td>0</td>\n      <td>0</td>\n      <td>0</td>\n      <td>...</td>\n      <td>0.0</td>\n      <td>0.0</td>\n      <td>0.0</td>\n      <td>0.0</td>\n      <td>0.0</td>\n      <td>0.0</td>\n      <td>0.0</td>\n      <td>0.0</td>\n      <td>0.0</td>\n      <td>0.0</td>\n    </tr>\n    <tr>\n      <th>4</th>\n      <td>ERR3148153</td>\n      <td>0</td>\n      <td>0</td>\n      <td>0</td>\n      <td>0</td>\n      <td>0</td>\n      <td>0</td>\n      <td>0</td>\n      <td>0</td>\n      <td>0</td>\n      <td>...</td>\n      <td>0.0</td>\n      <td>0.0</td>\n      <td>0.0</td>\n      <td>0.0</td>\n      <td>0.0</td>\n      <td>0.0</td>\n      <td>0.0</td>\n      <td>0.0</td>\n      <td>0.0</td>\n      <td>0.0</td>\n    </tr>\n    <tr>\n      <th>5</th>\n      <td>ERR3148155</td>\n      <td>0</td>\n      <td>0</td>\n      <td>0</td>\n      <td>0</td>\n      <td>0</td>\n      <td>0</td>\n      <td>0</td>\n      <td>0</td>\n      <td>0</td>\n      <td>...</td>\n      <td>0.0</td>\n      <td>0.0</td>\n      <td>0.0</td>\n      <td>0.0</td>\n      <td>0.0</td>\n      <td>0.0</td>\n      <td>0.0</td>\n      <td>0.0</td>\n      <td>0.0</td>\n      <td>0.0</td>\n    </tr>\n    <tr>\n      <th>6</th>\n      <td>ERR3148159</td>\n      <td>0</td>\n      <td>0</td>\n      <td>0</td>\n      <td>0</td>\n      <td>0</td>\n      <td>0</td>\n      <td>0</td>\n      <td>0</td>\n      <td>0</td>\n      <td>...</td>\n      <td>0.0</td>\n      <td>0.0</td>\n      <td>0.0</td>\n      <td>1.0</td>\n      <td>0.0</td>\n      <td>0.0</td>\n      <td>0.0</td>\n      <td>0.0</td>\n      <td>0.0</td>\n      <td>0.0</td>\n    </tr>\n    <tr>\n      <th>7</th>\n      <td>ERR3148163</td>\n      <td>0</td>\n      <td>0</td>\n      <td>0</td>\n      <td>0</td>\n      <td>0</td>\n      <td>0</td>\n      <td>0</td>\n      <td>0</td>\n      <td>0</td>\n      <td>...</td>\n      <td>0.0</td>\n      <td>0.0</td>\n      <td>0.0</td>\n      <td>0.0</td>\n      <td>0.0</td>\n      <td>0.0</td>\n      <td>0.0</td>\n      <td>0.0</td>\n      <td>0.0</td>\n      <td>0.0</td>\n    </tr>\n    <tr>\n      <th>8</th>\n      <td>ERR3148164</td>\n      <td>0</td>\n      <td>0</td>\n      <td>0</td>\n      <td>0</td>\n      <td>0</td>\n      <td>0</td>\n      <td>0</td>\n      <td>0</td>\n      <td>0</td>\n      <td>...</td>\n      <td>0.0</td>\n      <td>0.0</td>\n      <td>0.0</td>\n      <td>0.0</td>\n      <td>0.0</td>\n      <td>0.0</td>\n      <td>0.0</td>\n      <td>0.0</td>\n      <td>0.0</td>\n      <td>0.0</td>\n    </tr>\n    <tr>\n      <th>9</th>\n      <td>ERR3148166</td>\n      <td>0</td>\n      <td>0</td>\n      <td>0</td>\n      <td>0</td>\n      <td>0</td>\n      <td>0</td>\n      <td>0</td>\n      <td>0</td>\n      <td>0</td>\n      <td>...</td>\n      <td>0.0</td>\n      <td>0.0</td>\n      <td>0.0</td>\n      <td>0.0</td>\n      <td>0.0</td>\n      <td>0.0</td>\n      <td>0.0</td>\n      <td>0.0</td>\n      <td>0.0</td>\n      <td>0.0</td>\n    </tr>\n  </tbody>\n</table>\n<p>10 rows × 118690 columns</p>\n</div>"
     },
     "execution_count": 142,
     "metadata": {},
     "output_type": "execute_result"
    }
   ],
   "source": [
    "multi_resistance_df.head(10)\n",
    "\n"
   ],
   "metadata": {
    "collapsed": false,
    "pycharm": {
     "name": "#%%\n"
    }
   }
  },
  {
   "cell_type": "code",
   "execution_count": 144,
   "outputs": [
    {
     "data": {
      "text/plain": "True"
     },
     "execution_count": 144,
     "metadata": {},
     "output_type": "execute_result"
    }
   ],
   "source": [
    "multi_resistance_df.isnull().values.any()"
   ],
   "metadata": {
    "collapsed": false,
    "pycharm": {
     "name": "#%%\n"
    }
   }
  },
  {
   "cell_type": "code",
   "execution_count": 146,
   "outputs": [
    {
     "data": {
      "text/plain": "     SampleID  NC000962_3.78  NC000962_3.80  NC000962_3.102  NC000962_3.104  \\\n0  ERR3129939              0              0               0               0   \n1  ERR3148148              0              0               0               0   \n2  ERR3148149              0              0               0               0   \n3  ERR3148151              0              0               0               0   \n4  ERR3148153              0              0               0               0   \n5  ERR3148155              0              0               0               0   \n6  ERR3148159              0              0               0               0   \n7  ERR3148163              0              0               0               0   \n8  ERR3148164              0              0               0               0   \n9  ERR3148166              0              0               0               0   \n\n   NC000962_3.117  NC000962_3.120  NC000962_3.135  NC000962_3.138  \\\n0               0               0               0               0   \n1               0               0               0               0   \n2               0               0               0               0   \n3               0               0               0               0   \n4               0               0               0               0   \n5               0               0               0               0   \n6               0               0               0               0   \n7               0               0               0               0   \n8               0               0               0               0   \n9               0               0               0               0   \n\n   NC000962_3.150  ...  amikacin_resistance  kanamycin_resistance  \\\n0               0  ...                  0.0                   0.0   \n1               0  ...                  0.0                   0.0   \n2               0  ...                  0.0                   0.0   \n3               0  ...                  0.0                   0.0   \n4               0  ...                  0.0                   0.0   \n5               0  ...                  0.0                   0.0   \n6               0  ...                  0.0                   0.0   \n7               0  ...                  0.0                   0.0   \n8               0  ...                  0.0                   0.0   \n9               0  ...                  0.0                   0.0   \n\n   capreomycin_resistance  ethionamide_resistance  \\\n0                     0.0                     0.0   \n1                     0.0                     0.0   \n2                     0.0                     0.0   \n3                     0.0                     0.0   \n4                     0.0                     0.0   \n5                     0.0                     0.0   \n6                     0.0                     1.0   \n7                     0.0                     0.0   \n8                     0.0                     0.0   \n9                     0.0                     0.0   \n\n   para-aminosalicylic_acid_resistance  cycloserine_resistance  \\\n0                                  0.0                     0.0   \n1                                  0.0                     0.0   \n2                                  0.0                     0.0   \n3                                  0.0                     0.0   \n4                                  0.0                     0.0   \n5                                  0.0                     0.0   \n6                                  0.0                     0.0   \n7                                  0.0                     0.0   \n8                                  0.0                     0.0   \n9                                  0.0                     0.0   \n\n   linezolid_resistance  bedaquiline_resistance  clofazimine_resistance  \\\n0                   0.0                     0.0                     0.0   \n1                   0.0                     0.0                     0.0   \n2                   0.0                     0.0                     0.0   \n3                   0.0                     0.0                     0.0   \n4                   0.0                     0.0                     0.0   \n5                   0.0                     0.0                     0.0   \n6                   0.0                     0.0                     0.0   \n7                   0.0                     0.0                     0.0   \n8                   0.0                     0.0                     0.0   \n9                   0.0                     0.0                     0.0   \n\n   delamanid_resistance  \n0                   0.0  \n1                   0.0  \n2                   0.0  \n3                   0.0  \n4                   0.0  \n5                   0.0  \n6                   0.0  \n7                   0.0  \n8                   0.0  \n9                   0.0  \n\n[10 rows x 118690 columns]",
      "text/html": "<div>\n<style scoped>\n    .dataframe tbody tr th:only-of-type {\n        vertical-align: middle;\n    }\n\n    .dataframe tbody tr th {\n        vertical-align: top;\n    }\n\n    .dataframe thead th {\n        text-align: right;\n    }\n</style>\n<table border=\"1\" class=\"dataframe\">\n  <thead>\n    <tr style=\"text-align: right;\">\n      <th></th>\n      <th>SampleID</th>\n      <th>NC000962_3.78</th>\n      <th>NC000962_3.80</th>\n      <th>NC000962_3.102</th>\n      <th>NC000962_3.104</th>\n      <th>NC000962_3.117</th>\n      <th>NC000962_3.120</th>\n      <th>NC000962_3.135</th>\n      <th>NC000962_3.138</th>\n      <th>NC000962_3.150</th>\n      <th>...</th>\n      <th>amikacin_resistance</th>\n      <th>kanamycin_resistance</th>\n      <th>capreomycin_resistance</th>\n      <th>ethionamide_resistance</th>\n      <th>para-aminosalicylic_acid_resistance</th>\n      <th>cycloserine_resistance</th>\n      <th>linezolid_resistance</th>\n      <th>bedaquiline_resistance</th>\n      <th>clofazimine_resistance</th>\n      <th>delamanid_resistance</th>\n    </tr>\n  </thead>\n  <tbody>\n    <tr>\n      <th>0</th>\n      <td>ERR3129939</td>\n      <td>0</td>\n      <td>0</td>\n      <td>0</td>\n      <td>0</td>\n      <td>0</td>\n      <td>0</td>\n      <td>0</td>\n      <td>0</td>\n      <td>0</td>\n      <td>...</td>\n      <td>0.0</td>\n      <td>0.0</td>\n      <td>0.0</td>\n      <td>0.0</td>\n      <td>0.0</td>\n      <td>0.0</td>\n      <td>0.0</td>\n      <td>0.0</td>\n      <td>0.0</td>\n      <td>0.0</td>\n    </tr>\n    <tr>\n      <th>1</th>\n      <td>ERR3148148</td>\n      <td>0</td>\n      <td>0</td>\n      <td>0</td>\n      <td>0</td>\n      <td>0</td>\n      <td>0</td>\n      <td>0</td>\n      <td>0</td>\n      <td>0</td>\n      <td>...</td>\n      <td>0.0</td>\n      <td>0.0</td>\n      <td>0.0</td>\n      <td>0.0</td>\n      <td>0.0</td>\n      <td>0.0</td>\n      <td>0.0</td>\n      <td>0.0</td>\n      <td>0.0</td>\n      <td>0.0</td>\n    </tr>\n    <tr>\n      <th>2</th>\n      <td>ERR3148149</td>\n      <td>0</td>\n      <td>0</td>\n      <td>0</td>\n      <td>0</td>\n      <td>0</td>\n      <td>0</td>\n      <td>0</td>\n      <td>0</td>\n      <td>0</td>\n      <td>...</td>\n      <td>0.0</td>\n      <td>0.0</td>\n      <td>0.0</td>\n      <td>0.0</td>\n      <td>0.0</td>\n      <td>0.0</td>\n      <td>0.0</td>\n      <td>0.0</td>\n      <td>0.0</td>\n      <td>0.0</td>\n    </tr>\n    <tr>\n      <th>3</th>\n      <td>ERR3148151</td>\n      <td>0</td>\n      <td>0</td>\n      <td>0</td>\n      <td>0</td>\n      <td>0</td>\n      <td>0</td>\n      <td>0</td>\n      <td>0</td>\n      <td>0</td>\n      <td>...</td>\n      <td>0.0</td>\n      <td>0.0</td>\n      <td>0.0</td>\n      <td>0.0</td>\n      <td>0.0</td>\n      <td>0.0</td>\n      <td>0.0</td>\n      <td>0.0</td>\n      <td>0.0</td>\n      <td>0.0</td>\n    </tr>\n    <tr>\n      <th>4</th>\n      <td>ERR3148153</td>\n      <td>0</td>\n      <td>0</td>\n      <td>0</td>\n      <td>0</td>\n      <td>0</td>\n      <td>0</td>\n      <td>0</td>\n      <td>0</td>\n      <td>0</td>\n      <td>...</td>\n      <td>0.0</td>\n      <td>0.0</td>\n      <td>0.0</td>\n      <td>0.0</td>\n      <td>0.0</td>\n      <td>0.0</td>\n      <td>0.0</td>\n      <td>0.0</td>\n      <td>0.0</td>\n      <td>0.0</td>\n    </tr>\n    <tr>\n      <th>5</th>\n      <td>ERR3148155</td>\n      <td>0</td>\n      <td>0</td>\n      <td>0</td>\n      <td>0</td>\n      <td>0</td>\n      <td>0</td>\n      <td>0</td>\n      <td>0</td>\n      <td>0</td>\n      <td>...</td>\n      <td>0.0</td>\n      <td>0.0</td>\n      <td>0.0</td>\n      <td>0.0</td>\n      <td>0.0</td>\n      <td>0.0</td>\n      <td>0.0</td>\n      <td>0.0</td>\n      <td>0.0</td>\n      <td>0.0</td>\n    </tr>\n    <tr>\n      <th>6</th>\n      <td>ERR3148159</td>\n      <td>0</td>\n      <td>0</td>\n      <td>0</td>\n      <td>0</td>\n      <td>0</td>\n      <td>0</td>\n      <td>0</td>\n      <td>0</td>\n      <td>0</td>\n      <td>...</td>\n      <td>0.0</td>\n      <td>0.0</td>\n      <td>0.0</td>\n      <td>1.0</td>\n      <td>0.0</td>\n      <td>0.0</td>\n      <td>0.0</td>\n      <td>0.0</td>\n      <td>0.0</td>\n      <td>0.0</td>\n    </tr>\n    <tr>\n      <th>7</th>\n      <td>ERR3148163</td>\n      <td>0</td>\n      <td>0</td>\n      <td>0</td>\n      <td>0</td>\n      <td>0</td>\n      <td>0</td>\n      <td>0</td>\n      <td>0</td>\n      <td>0</td>\n      <td>...</td>\n      <td>0.0</td>\n      <td>0.0</td>\n      <td>0.0</td>\n      <td>0.0</td>\n      <td>0.0</td>\n      <td>0.0</td>\n      <td>0.0</td>\n      <td>0.0</td>\n      <td>0.0</td>\n      <td>0.0</td>\n    </tr>\n    <tr>\n      <th>8</th>\n      <td>ERR3148164</td>\n      <td>0</td>\n      <td>0</td>\n      <td>0</td>\n      <td>0</td>\n      <td>0</td>\n      <td>0</td>\n      <td>0</td>\n      <td>0</td>\n      <td>0</td>\n      <td>...</td>\n      <td>0.0</td>\n      <td>0.0</td>\n      <td>0.0</td>\n      <td>0.0</td>\n      <td>0.0</td>\n      <td>0.0</td>\n      <td>0.0</td>\n      <td>0.0</td>\n      <td>0.0</td>\n      <td>0.0</td>\n    </tr>\n    <tr>\n      <th>9</th>\n      <td>ERR3148166</td>\n      <td>0</td>\n      <td>0</td>\n      <td>0</td>\n      <td>0</td>\n      <td>0</td>\n      <td>0</td>\n      <td>0</td>\n      <td>0</td>\n      <td>0</td>\n      <td>...</td>\n      <td>0.0</td>\n      <td>0.0</td>\n      <td>0.0</td>\n      <td>0.0</td>\n      <td>0.0</td>\n      <td>0.0</td>\n      <td>0.0</td>\n      <td>0.0</td>\n      <td>0.0</td>\n      <td>0.0</td>\n    </tr>\n  </tbody>\n</table>\n<p>10 rows × 118690 columns</p>\n</div>"
     },
     "execution_count": 146,
     "metadata": {},
     "output_type": "execute_result"
    }
   ],
   "source": [
    "multi_resistance_filledna_df =  multi_resistance_df.fillna(0.0)\n",
    "multi_resistance_filledna_df.to_csv(\"../data/processed/multi_resistance_filledna_df.csv\")\n",
    "multi_resistance_filledna_df.head(10)\n",
    "\n"
   ],
   "metadata": {
    "collapsed": false,
    "pycharm": {
     "name": "#%%\n"
    }
   }
  }
 ],
 "metadata": {
  "kernelspec": {
   "display_name": "PyCharm (drug-resistance-prediction-cambiohack)",
   "language": "python",
   "name": "pycharm-f27e5417"
  },
  "language_info": {
   "codemirror_mode": {
    "name": "ipython",
    "version": 3
   },
   "file_extension": ".py",
   "mimetype": "text/x-python",
   "name": "python",
   "nbconvert_exporter": "python",
   "pygments_lexer": "ipython3",
   "version": "3.7.4"
  }
 },
 "nbformat": 4,
 "nbformat_minor": 1
}