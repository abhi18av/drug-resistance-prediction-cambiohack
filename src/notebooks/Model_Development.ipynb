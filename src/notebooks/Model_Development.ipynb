{
 "cells": [
  {
   "cell_type": "markdown",
   "source": [
    "# Multi-drug resistance prediction\n",
    "\n"
   ],
   "metadata": {
    "collapsed": false
   }
  }
 ],
 "metadata": {
  "kernelspec": {
   "name": "pycharm-f27e5417",
   "language": "python",
   "display_name": "PyCharm (drug-resistance-prediction-cambiohack)"
  }
 },
 "nbformat": 4,
 "nbformat_minor": 4
}