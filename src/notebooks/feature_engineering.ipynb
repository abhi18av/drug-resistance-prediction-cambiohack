{
 "cells": [
  {
   "cell_type": "code",
   "execution_count": 208,
   "metadata": {
    "pycharm": {
     "name": "#%%\n"
    }
   },
   "outputs": [],
   "source": [
    "# Import the usual suspects.\n",
    "import pandas as pd\n",
    "import numpy as np\n",
    "import dask\n",
    "import dask.dataframe as dd\n",
    "import matplotlib.pyplot as plt\n",
    "import seaborn as sns\n",
    "\n",
    "sns.set()\n"
   ]
  },
  {
   "cell_type": "code",
   "execution_count": 23,
   "outputs": [
    {
     "data": {
      "text/plain": "                   rifampicin                         isoniazid  \\\nERR760783    rpoB_p.Ser450Leu                  katG_p.Ser315Thr   \nERR776661    rpoB_p.Ser450Leu                     ahpC_c.-81C>T   \nSRR11098556                 -                                 -   \nERR760911    rpoB_p.Ser450Leu                  katG_p.Ser315Thr   \nSRR9224969   rpoB_p.Ser450Leu  fabG1_c.-15C>T, katG_p.Ser315Thr   \n\n                 pyrazinamide  \\\nERR760783     pncA_p.Gln10Pro   \nERR776661    pncA_p.Met175Val   \nSRR11098556                 -   \nERR760911     pncA_p.Gln10Pro   \nSRR9224969   pncA_p.Gly132Ser   \n\n                                                    ethambutol  \\\nERR760783                                     embB_p.Gly406Ala   \nERR776661    embB_p.Gly406Ser, embB_p.Met306Val, embA_c.-16C>G   \nSRR11098556                                                  -   \nERR760911                                     embB_p.Gly406Ala   \nSRR9224969                                    embB_p.Met306Val   \n\n                                 streptomycin fluoroquinolones moxifloxacin  \\\nERR760783                                   -                -            -   \nERR776661    rpsL_p.Lys43Arg, rpsL_p.Lys88Gln                -            -   \nSRR11098556                                 -                -            -   \nERR760911                                   -                -            -   \nSRR9224969                                  -                -            -   \n\n            ofloxacin levofloxacin ciprofloxacin  ... cycloserine linezolid  \\\nERR760783           -            -             -  ...           -         -   \nERR776661           -            -             -  ...           -         -   \nSRR11098556         -            -             -  ...           -         -   \nERR760911           -            -             -  ...           -         -   \nSRR9224969          -            -             -  ...           -         -   \n\n            bedaquiline clofazimine delamanid  main_lin          sublin  \\\nERR760783             -           -         -  lineage4  lineage4.1.2.1   \nERR776661             -           -         -  lineage4    lineage4.3.2   \nSRR11098556           -           -         -  lineage2    lineage2.2.1   \nERR760911             -           -         -  lineage4  lineage4.1.2.1   \nSRR9224969            -           -         -  lineage4  lineage4.1.2.1   \n\n                drtype MDR XDR  \nERR760783          MDR   R      \nERR776661          MDR   R      \nSRR11098556  Sensitive          \nERR760911          MDR   R      \nSRR9224969         MDR   R      \n\n[5 rows x 26 columns]",
      "text/html": "<div>\n<style scoped>\n    .dataframe tbody tr th:only-of-type {\n        vertical-align: middle;\n    }\n\n    .dataframe tbody tr th {\n        vertical-align: top;\n    }\n\n    .dataframe thead th {\n        text-align: right;\n    }\n</style>\n<table border=\"1\" class=\"dataframe\">\n  <thead>\n    <tr style=\"text-align: right;\">\n      <th></th>\n      <th>rifampicin</th>\n      <th>isoniazid</th>\n      <th>pyrazinamide</th>\n      <th>ethambutol</th>\n      <th>streptomycin</th>\n      <th>fluoroquinolones</th>\n      <th>moxifloxacin</th>\n      <th>ofloxacin</th>\n      <th>levofloxacin</th>\n      <th>ciprofloxacin</th>\n      <th>...</th>\n      <th>cycloserine</th>\n      <th>linezolid</th>\n      <th>bedaquiline</th>\n      <th>clofazimine</th>\n      <th>delamanid</th>\n      <th>main_lin</th>\n      <th>sublin</th>\n      <th>drtype</th>\n      <th>MDR</th>\n      <th>XDR</th>\n    </tr>\n  </thead>\n  <tbody>\n    <tr>\n      <th>ERR760783</th>\n      <td>rpoB_p.Ser450Leu</td>\n      <td>katG_p.Ser315Thr</td>\n      <td>pncA_p.Gln10Pro</td>\n      <td>embB_p.Gly406Ala</td>\n      <td>-</td>\n      <td>-</td>\n      <td>-</td>\n      <td>-</td>\n      <td>-</td>\n      <td>-</td>\n      <td>...</td>\n      <td>-</td>\n      <td>-</td>\n      <td>-</td>\n      <td>-</td>\n      <td>-</td>\n      <td>lineage4</td>\n      <td>lineage4.1.2.1</td>\n      <td>MDR</td>\n      <td>R</td>\n      <td></td>\n    </tr>\n    <tr>\n      <th>ERR776661</th>\n      <td>rpoB_p.Ser450Leu</td>\n      <td>ahpC_c.-81C&gt;T</td>\n      <td>pncA_p.Met175Val</td>\n      <td>embB_p.Gly406Ser, embB_p.Met306Val, embA_c.-16C&gt;G</td>\n      <td>rpsL_p.Lys43Arg, rpsL_p.Lys88Gln</td>\n      <td>-</td>\n      <td>-</td>\n      <td>-</td>\n      <td>-</td>\n      <td>-</td>\n      <td>...</td>\n      <td>-</td>\n      <td>-</td>\n      <td>-</td>\n      <td>-</td>\n      <td>-</td>\n      <td>lineage4</td>\n      <td>lineage4.3.2</td>\n      <td>MDR</td>\n      <td>R</td>\n      <td></td>\n    </tr>\n    <tr>\n      <th>SRR11098556</th>\n      <td>-</td>\n      <td>-</td>\n      <td>-</td>\n      <td>-</td>\n      <td>-</td>\n      <td>-</td>\n      <td>-</td>\n      <td>-</td>\n      <td>-</td>\n      <td>-</td>\n      <td>...</td>\n      <td>-</td>\n      <td>-</td>\n      <td>-</td>\n      <td>-</td>\n      <td>-</td>\n      <td>lineage2</td>\n      <td>lineage2.2.1</td>\n      <td>Sensitive</td>\n      <td></td>\n      <td></td>\n    </tr>\n    <tr>\n      <th>ERR760911</th>\n      <td>rpoB_p.Ser450Leu</td>\n      <td>katG_p.Ser315Thr</td>\n      <td>pncA_p.Gln10Pro</td>\n      <td>embB_p.Gly406Ala</td>\n      <td>-</td>\n      <td>-</td>\n      <td>-</td>\n      <td>-</td>\n      <td>-</td>\n      <td>-</td>\n      <td>...</td>\n      <td>-</td>\n      <td>-</td>\n      <td>-</td>\n      <td>-</td>\n      <td>-</td>\n      <td>lineage4</td>\n      <td>lineage4.1.2.1</td>\n      <td>MDR</td>\n      <td>R</td>\n      <td></td>\n    </tr>\n    <tr>\n      <th>SRR9224969</th>\n      <td>rpoB_p.Ser450Leu</td>\n      <td>fabG1_c.-15C&gt;T, katG_p.Ser315Thr</td>\n      <td>pncA_p.Gly132Ser</td>\n      <td>embB_p.Met306Val</td>\n      <td>-</td>\n      <td>-</td>\n      <td>-</td>\n      <td>-</td>\n      <td>-</td>\n      <td>-</td>\n      <td>...</td>\n      <td>-</td>\n      <td>-</td>\n      <td>-</td>\n      <td>-</td>\n      <td>-</td>\n      <td>lineage4</td>\n      <td>lineage4.1.2.1</td>\n      <td>MDR</td>\n      <td>R</td>\n      <td></td>\n    </tr>\n  </tbody>\n</table>\n<p>5 rows × 26 columns</p>\n</div>"
     },
     "execution_count": 23,
     "metadata": {},
     "output_type": "execute_result"
    }
   ],
   "source": [
    "# tbprofiler_df = pd.read_json(\"../data/raw/tbProfiler/tbprofiler.json\", encoding=\"UTF-8\")\n",
    "# tbprofiler_df = tbprofiler_df.transpose()\n",
    "# tbprofiler_df.head()\n"
   ],
   "metadata": {
    "collapsed": false,
    "pycharm": {
     "name": "#%%\n"
    }
   }
  },
  {
   "cell_type": "code",
   "execution_count": 27,
   "outputs": [
    {
     "data": {
      "text/plain": "                   rifampicin                         isoniazid  \\\nERR760783    rpoB_p.Ser450Leu                  katG_p.Ser315Thr   \nERR776661    rpoB_p.Ser450Leu                     ahpC_c.-81C>T   \nSRR11098556                 -                                 -   \nERR760911    rpoB_p.Ser450Leu                  katG_p.Ser315Thr   \nSRR9224969   rpoB_p.Ser450Leu  fabG1_c.-15C>T, katG_p.Ser315Thr   \n\n                 pyrazinamide  \\\nERR760783     pncA_p.Gln10Pro   \nERR776661    pncA_p.Met175Val   \nSRR11098556                 -   \nERR760911     pncA_p.Gln10Pro   \nSRR9224969   pncA_p.Gly132Ser   \n\n                                                    ethambutol  \\\nERR760783                                     embB_p.Gly406Ala   \nERR776661    embB_p.Gly406Ser, embB_p.Met306Val, embA_c.-16C>G   \nSRR11098556                                                  -   \nERR760911                                     embB_p.Gly406Ala   \nSRR9224969                                    embB_p.Met306Val   \n\n                                 streptomycin fluoroquinolones moxifloxacin  \\\nERR760783                                   -                -            -   \nERR776661    rpsL_p.Lys43Arg, rpsL_p.Lys88Gln                -            -   \nSRR11098556                                 -                -            -   \nERR760911                                   -                -            -   \nSRR9224969                                  -                -            -   \n\n            ofloxacin levofloxacin ciprofloxacin  ... linezolid bedaquiline  \\\nERR760783           -            -             -  ...         -           -   \nERR776661           -            -             -  ...         -           -   \nSRR11098556         -            -             -  ...         -           -   \nERR760911           -            -             -  ...         -           -   \nSRR9224969          -            -             -  ...         -           -   \n\n            clofazimine delamanid  main_lin          sublin     drtype MDR  \\\nERR760783             -         -  lineage4  lineage4.1.2.1        MDR   R   \nERR776661             -         -  lineage4    lineage4.3.2        MDR   R   \nSRR11098556           -         -  lineage2    lineage2.2.1  Sensitive       \nERR760911             -         -  lineage4  lineage4.1.2.1        MDR   R   \nSRR9224969            -         -  lineage4  lineage4.1.2.1        MDR   R   \n\n            XDR isResistant  \nERR760783                 1  \nERR776661                 1  \nSRR11098556               0  \nERR760911                 1  \nSRR9224969                1  \n\n[5 rows x 27 columns]",
      "text/html": "<div>\n<style scoped>\n    .dataframe tbody tr th:only-of-type {\n        vertical-align: middle;\n    }\n\n    .dataframe tbody tr th {\n        vertical-align: top;\n    }\n\n    .dataframe thead th {\n        text-align: right;\n    }\n</style>\n<table border=\"1\" class=\"dataframe\">\n  <thead>\n    <tr style=\"text-align: right;\">\n      <th></th>\n      <th>rifampicin</th>\n      <th>isoniazid</th>\n      <th>pyrazinamide</th>\n      <th>ethambutol</th>\n      <th>streptomycin</th>\n      <th>fluoroquinolones</th>\n      <th>moxifloxacin</th>\n      <th>ofloxacin</th>\n      <th>levofloxacin</th>\n      <th>ciprofloxacin</th>\n      <th>...</th>\n      <th>linezolid</th>\n      <th>bedaquiline</th>\n      <th>clofazimine</th>\n      <th>delamanid</th>\n      <th>main_lin</th>\n      <th>sublin</th>\n      <th>drtype</th>\n      <th>MDR</th>\n      <th>XDR</th>\n      <th>isResistant</th>\n    </tr>\n  </thead>\n  <tbody>\n    <tr>\n      <th>ERR760783</th>\n      <td>rpoB_p.Ser450Leu</td>\n      <td>katG_p.Ser315Thr</td>\n      <td>pncA_p.Gln10Pro</td>\n      <td>embB_p.Gly406Ala</td>\n      <td>-</td>\n      <td>-</td>\n      <td>-</td>\n      <td>-</td>\n      <td>-</td>\n      <td>-</td>\n      <td>...</td>\n      <td>-</td>\n      <td>-</td>\n      <td>-</td>\n      <td>-</td>\n      <td>lineage4</td>\n      <td>lineage4.1.2.1</td>\n      <td>MDR</td>\n      <td>R</td>\n      <td></td>\n      <td>1</td>\n    </tr>\n    <tr>\n      <th>ERR776661</th>\n      <td>rpoB_p.Ser450Leu</td>\n      <td>ahpC_c.-81C&gt;T</td>\n      <td>pncA_p.Met175Val</td>\n      <td>embB_p.Gly406Ser, embB_p.Met306Val, embA_c.-16C&gt;G</td>\n      <td>rpsL_p.Lys43Arg, rpsL_p.Lys88Gln</td>\n      <td>-</td>\n      <td>-</td>\n      <td>-</td>\n      <td>-</td>\n      <td>-</td>\n      <td>...</td>\n      <td>-</td>\n      <td>-</td>\n      <td>-</td>\n      <td>-</td>\n      <td>lineage4</td>\n      <td>lineage4.3.2</td>\n      <td>MDR</td>\n      <td>R</td>\n      <td></td>\n      <td>1</td>\n    </tr>\n    <tr>\n      <th>SRR11098556</th>\n      <td>-</td>\n      <td>-</td>\n      <td>-</td>\n      <td>-</td>\n      <td>-</td>\n      <td>-</td>\n      <td>-</td>\n      <td>-</td>\n      <td>-</td>\n      <td>-</td>\n      <td>...</td>\n      <td>-</td>\n      <td>-</td>\n      <td>-</td>\n      <td>-</td>\n      <td>lineage2</td>\n      <td>lineage2.2.1</td>\n      <td>Sensitive</td>\n      <td></td>\n      <td></td>\n      <td>0</td>\n    </tr>\n    <tr>\n      <th>ERR760911</th>\n      <td>rpoB_p.Ser450Leu</td>\n      <td>katG_p.Ser315Thr</td>\n      <td>pncA_p.Gln10Pro</td>\n      <td>embB_p.Gly406Ala</td>\n      <td>-</td>\n      <td>-</td>\n      <td>-</td>\n      <td>-</td>\n      <td>-</td>\n      <td>-</td>\n      <td>...</td>\n      <td>-</td>\n      <td>-</td>\n      <td>-</td>\n      <td>-</td>\n      <td>lineage4</td>\n      <td>lineage4.1.2.1</td>\n      <td>MDR</td>\n      <td>R</td>\n      <td></td>\n      <td>1</td>\n    </tr>\n    <tr>\n      <th>SRR9224969</th>\n      <td>rpoB_p.Ser450Leu</td>\n      <td>fabG1_c.-15C&gt;T, katG_p.Ser315Thr</td>\n      <td>pncA_p.Gly132Ser</td>\n      <td>embB_p.Met306Val</td>\n      <td>-</td>\n      <td>-</td>\n      <td>-</td>\n      <td>-</td>\n      <td>-</td>\n      <td>-</td>\n      <td>...</td>\n      <td>-</td>\n      <td>-</td>\n      <td>-</td>\n      <td>-</td>\n      <td>lineage4</td>\n      <td>lineage4.1.2.1</td>\n      <td>MDR</td>\n      <td>R</td>\n      <td></td>\n      <td>1</td>\n    </tr>\n  </tbody>\n</table>\n<p>5 rows × 27 columns</p>\n</div>"
     },
     "execution_count": 27,
     "metadata": {},
     "output_type": "execute_result"
    }
   ],
   "source": [
    "# resistance_status_df = tbprofiler_df\n",
    "# resistance_status_df['isResistant'] = resistance_status_df.apply(lambda row: 0 if (row.drtype == 'Sensitive') else 1, axis = 1)\n",
    "# resistance_status_df.head()"
   ],
   "metadata": {
    "collapsed": false,
    "pycharm": {
     "name": "#%%\n"
    }
   }
  },
  {
   "cell_type": "code",
   "execution_count": 209,
   "outputs": [
    {
     "data": {
      "text/plain": "                   rifampicin                         isoniazid  \\\nERR760783    rpoB_p.Ser450Leu                  katG_p.Ser315Thr   \nERR776661    rpoB_p.Ser450Leu                     ahpC_c.-81C>T   \nSRR11098556                 -                                 -   \nERR760911    rpoB_p.Ser450Leu                  katG_p.Ser315Thr   \nSRR9224969   rpoB_p.Ser450Leu  fabG1_c.-15C>T, katG_p.Ser315Thr   \n\n                 pyrazinamide  \\\nERR760783     pncA_p.Gln10Pro   \nERR776661    pncA_p.Met175Val   \nSRR11098556                 -   \nERR760911     pncA_p.Gln10Pro   \nSRR9224969   pncA_p.Gly132Ser   \n\n                                                    ethambutol  \\\nERR760783                                     embB_p.Gly406Ala   \nERR776661    embB_p.Gly406Ser, embB_p.Met306Val, embA_c.-16C>G   \nSRR11098556                                                  -   \nERR760911                                     embB_p.Gly406Ala   \nSRR9224969                                    embB_p.Met306Val   \n\n                                 streptomycin fluoroquinolones moxifloxacin  \\\nERR760783                                   -                -            -   \nERR776661    rpsL_p.Lys43Arg, rpsL_p.Lys88Gln                -            -   \nSRR11098556                                 -                -            -   \nERR760911                                   -                -            -   \nSRR9224969                                  -                -            -   \n\n            ofloxacin levofloxacin ciprofloxacin  ... linezolid bedaquiline  \\\nERR760783           -            -             -  ...         -           -   \nERR776661           -            -             -  ...         -           -   \nSRR11098556         -            -             -  ...         -           -   \nERR760911           -            -             -  ...         -           -   \nSRR9224969          -            -             -  ...         -           -   \n\n            clofazimine delamanid  main_lin          sublin     drtype MDR  \\\nERR760783             -         -  lineage4  lineage4.1.2.1        MDR   R   \nERR776661             -         -  lineage4    lineage4.3.2        MDR   R   \nSRR11098556           -         -  lineage2    lineage2.2.1  Sensitive       \nERR760911             -         -  lineage4  lineage4.1.2.1        MDR   R   \nSRR9224969            -         -  lineage4  lineage4.1.2.1        MDR   R   \n\n            XDR isResistant  \nERR760783                 1  \nERR776661                 1  \nSRR11098556               0  \nERR760911                 1  \nSRR9224969                1  \n\n[5 rows x 27 columns]",
      "text/html": "<div>\n<style scoped>\n    .dataframe tbody tr th:only-of-type {\n        vertical-align: middle;\n    }\n\n    .dataframe tbody tr th {\n        vertical-align: top;\n    }\n\n    .dataframe thead th {\n        text-align: right;\n    }\n</style>\n<table border=\"1\" class=\"dataframe\">\n  <thead>\n    <tr style=\"text-align: right;\">\n      <th></th>\n      <th>rifampicin</th>\n      <th>isoniazid</th>\n      <th>pyrazinamide</th>\n      <th>ethambutol</th>\n      <th>streptomycin</th>\n      <th>fluoroquinolones</th>\n      <th>moxifloxacin</th>\n      <th>ofloxacin</th>\n      <th>levofloxacin</th>\n      <th>ciprofloxacin</th>\n      <th>...</th>\n      <th>linezolid</th>\n      <th>bedaquiline</th>\n      <th>clofazimine</th>\n      <th>delamanid</th>\n      <th>main_lin</th>\n      <th>sublin</th>\n      <th>drtype</th>\n      <th>MDR</th>\n      <th>XDR</th>\n      <th>isResistant</th>\n    </tr>\n  </thead>\n  <tbody>\n    <tr>\n      <th>ERR760783</th>\n      <td>rpoB_p.Ser450Leu</td>\n      <td>katG_p.Ser315Thr</td>\n      <td>pncA_p.Gln10Pro</td>\n      <td>embB_p.Gly406Ala</td>\n      <td>-</td>\n      <td>-</td>\n      <td>-</td>\n      <td>-</td>\n      <td>-</td>\n      <td>-</td>\n      <td>...</td>\n      <td>-</td>\n      <td>-</td>\n      <td>-</td>\n      <td>-</td>\n      <td>lineage4</td>\n      <td>lineage4.1.2.1</td>\n      <td>MDR</td>\n      <td>R</td>\n      <td></td>\n      <td>1</td>\n    </tr>\n    <tr>\n      <th>ERR776661</th>\n      <td>rpoB_p.Ser450Leu</td>\n      <td>ahpC_c.-81C&gt;T</td>\n      <td>pncA_p.Met175Val</td>\n      <td>embB_p.Gly406Ser, embB_p.Met306Val, embA_c.-16C&gt;G</td>\n      <td>rpsL_p.Lys43Arg, rpsL_p.Lys88Gln</td>\n      <td>-</td>\n      <td>-</td>\n      <td>-</td>\n      <td>-</td>\n      <td>-</td>\n      <td>...</td>\n      <td>-</td>\n      <td>-</td>\n      <td>-</td>\n      <td>-</td>\n      <td>lineage4</td>\n      <td>lineage4.3.2</td>\n      <td>MDR</td>\n      <td>R</td>\n      <td></td>\n      <td>1</td>\n    </tr>\n    <tr>\n      <th>SRR11098556</th>\n      <td>-</td>\n      <td>-</td>\n      <td>-</td>\n      <td>-</td>\n      <td>-</td>\n      <td>-</td>\n      <td>-</td>\n      <td>-</td>\n      <td>-</td>\n      <td>-</td>\n      <td>...</td>\n      <td>-</td>\n      <td>-</td>\n      <td>-</td>\n      <td>-</td>\n      <td>lineage2</td>\n      <td>lineage2.2.1</td>\n      <td>Sensitive</td>\n      <td></td>\n      <td></td>\n      <td>0</td>\n    </tr>\n    <tr>\n      <th>ERR760911</th>\n      <td>rpoB_p.Ser450Leu</td>\n      <td>katG_p.Ser315Thr</td>\n      <td>pncA_p.Gln10Pro</td>\n      <td>embB_p.Gly406Ala</td>\n      <td>-</td>\n      <td>-</td>\n      <td>-</td>\n      <td>-</td>\n      <td>-</td>\n      <td>-</td>\n      <td>...</td>\n      <td>-</td>\n      <td>-</td>\n      <td>-</td>\n      <td>-</td>\n      <td>lineage4</td>\n      <td>lineage4.1.2.1</td>\n      <td>MDR</td>\n      <td>R</td>\n      <td></td>\n      <td>1</td>\n    </tr>\n    <tr>\n      <th>SRR9224969</th>\n      <td>rpoB_p.Ser450Leu</td>\n      <td>fabG1_c.-15C&gt;T, katG_p.Ser315Thr</td>\n      <td>pncA_p.Gly132Ser</td>\n      <td>embB_p.Met306Val</td>\n      <td>-</td>\n      <td>-</td>\n      <td>-</td>\n      <td>-</td>\n      <td>-</td>\n      <td>-</td>\n      <td>...</td>\n      <td>-</td>\n      <td>-</td>\n      <td>-</td>\n      <td>-</td>\n      <td>lineage4</td>\n      <td>lineage4.1.2.1</td>\n      <td>MDR</td>\n      <td>R</td>\n      <td></td>\n      <td>1</td>\n    </tr>\n  </tbody>\n</table>\n<p>5 rows × 27 columns</p>\n</div>"
     },
     "execution_count": 209,
     "metadata": {},
     "output_type": "execute_result"
    }
   ],
   "source": [
    "resistance_status_df = pd.read_json(\"../data/processed/resistance_status_df.json\")\n",
    "resistance_status_df.head()\n"
   ],
   "metadata": {
    "collapsed": false,
    "pycharm": {
     "name": "#%%\n"
    }
   }
  },
  {
   "cell_type": "code",
   "execution_count": 212,
   "outputs": [],
   "source": [
    "drugs_column_names = ['rifampicin',\n",
    "                      'isoniazid',\n",
    "                      'pyrazinamide',\n",
    "                      'ethambutol',\n",
    "                      'streptomycin',\n",
    "                      'fluoroquinolones',\n",
    "                      'moxifloxacin',\n",
    "                      'ofloxacin',\n",
    "                      'levofloxacin',\n",
    "                      'ciprofloxacin',\n",
    "                      'aminoglycosides',\n",
    "                      'amikacin',\n",
    "                      'kanamycin',\n",
    "                      'capreomycin',\n",
    "                      'ethionamide',\n",
    "                      'para-aminosalicylic_acid',\n",
    "                      'cycloserine',\n",
    "                      'linezolid',\n",
    "                      'bedaquiline',\n",
    "                      'clofazimine',\n",
    "                      'delamanid']\n",
    "\n",
    "\n",
    "lineage_column_names = [ 'main_lin', 'sublin' ]\n",
    "\n",
    "resistance_status_column_names = [ 'drtype', 'MDR', 'XDR', 'isResistant' ]\n"
   ],
   "metadata": {
    "collapsed": false,
    "pycharm": {
     "name": "#%%\n"
    }
   }
  },
  {
   "cell_type": "code",
   "execution_count": 213,
   "outputs": [],
   "source": [
    "renamed_drug_columns_names = [                     'rifampicin_resistance',\n",
    "                                                   'isoniazid_resistance',\n",
    "                                                   'pyrazinamide_resistance',\n",
    "                                                   'ethambutol_resistance',\n",
    "                                                   'streptomycin_resistance',\n",
    "                                                   'fluoroquinolones_resistance',\n",
    "                                                   'moxifloxacin_resistance',\n",
    "                                                   'ofloxacin_resistance',\n",
    "                                                   'levofloxacin_resistance',\n",
    "                                                   'ciprofloxacin_resistance',\n",
    "                                                   'aminoglycosides_resistance',\n",
    "                                                   'amikacin_resistance',\n",
    "                                                   'kanamycin_resistance',\n",
    "                                                   'capreomycin_resistance',\n",
    "                                                   'ethionamide_resistance',\n",
    "                                                   'para-aminosalicylic_acid_resistance',\n",
    "                                                   'cycloserine_resistance',\n",
    "                                                   'linezolid_resistance',\n",
    "                                                   'bedaquiline_resistance',\n",
    "                                                   'clofazimine_resistance',\n",
    "                                                   'delamanid_resistance']\n",
    "\n",
    "\n",
    "renamed_drug_columns_names_dict = {\n",
    "                         'rifampicin': 'rifampicin_resistance',\n",
    "                         'isoniazid': 'isoniazid_resistance',\n",
    "                         'pyrazinamide': 'pyrazinamide_resistance',\n",
    "                         'ethambutol': 'ethambutol_resistance',\n",
    "                         'streptomycin': 'streptomycin_resistance',\n",
    "                         'fluoroquinolones': 'fluoroquinolones_resistance',\n",
    "                         'moxifloxacin': 'moxifloxacin_resistance',\n",
    "                         'ofloxacin': 'ofloxacin_resistance',\n",
    "                         'levofloxacin': 'levofloxacin_resistance',\n",
    "                         'ciprofloxacin': 'ciprofloxacin_resistance',\n",
    "                         'aminoglycosides': 'aminoglycosides_resistance',\n",
    "                         'amikacin': 'amikacin_resistance',\n",
    "                         'kanamycin': 'kanamycin_resistance',\n",
    "                         'capreomycin': 'capreomycin_resistance',\n",
    "                         'ethionamide': 'ethionamide_resistance',\n",
    "                         'para-aminosalicylic_acid': 'para-aminosalicylic_acid_resistance',\n",
    "                         'cycloserine': 'cycloserine_resistance',\n",
    "                         'linezolid': 'linezolid_resistance',\n",
    "                         'bedaquiline': 'bedaquiline_resistance',\n",
    "                         'clofazimine': 'clofazimine_resistance',\n",
    "                         'delamanid': 'delamanid_resistance'\n",
    "}"
   ],
   "metadata": {
    "collapsed": false,
    "pycharm": {
     "name": "#%%\n"
    }
   }
  },
  {
   "cell_type": "code",
   "execution_count": 214,
   "outputs": [
    {
     "data": {
      "text/plain": "            rifampicin_resistance              isoniazid_resistance  \\\nERR760783        rpoB_p.Ser450Leu                  katG_p.Ser315Thr   \nERR776661        rpoB_p.Ser450Leu                     ahpC_c.-81C>T   \nSRR11098556                     -                                 -   \nERR760911        rpoB_p.Ser450Leu                  katG_p.Ser315Thr   \nSRR9224969       rpoB_p.Ser450Leu  fabG1_c.-15C>T, katG_p.Ser315Thr   \n\n            pyrazinamide_resistance  \\\nERR760783           pncA_p.Gln10Pro   \nERR776661          pncA_p.Met175Val   \nSRR11098556                       -   \nERR760911           pncA_p.Gln10Pro   \nSRR9224969         pncA_p.Gly132Ser   \n\n                                         ethambutol_resistance  \\\nERR760783                                     embB_p.Gly406Ala   \nERR776661    embB_p.Gly406Ser, embB_p.Met306Val, embA_c.-16C>G   \nSRR11098556                                                  -   \nERR760911                                     embB_p.Gly406Ala   \nSRR9224969                                    embB_p.Met306Val   \n\n                      streptomycin_resistance fluoroquinolones_resistance  \\\nERR760783                                   -                           -   \nERR776661    rpsL_p.Lys43Arg, rpsL_p.Lys88Gln                           -   \nSRR11098556                                 -                           -   \nERR760911                                   -                           -   \nSRR9224969                                  -                           -   \n\n            moxifloxacin_resistance ofloxacin_resistance  \\\nERR760783                         -                    -   \nERR776661                         -                    -   \nSRR11098556                       -                    -   \nERR760911                         -                    -   \nSRR9224969                        -                    -   \n\n            levofloxacin_resistance ciprofloxacin_resistance  ...  \\\nERR760783                         -                        -  ...   \nERR776661                         -                        -  ...   \nSRR11098556                       -                        -  ...   \nERR760911                         -                        -  ...   \nSRR9224969                        -                        -  ...   \n\n            linezolid_resistance bedaquiline_resistance  \\\nERR760783                      -                      -   \nERR776661                      -                      -   \nSRR11098556                    -                      -   \nERR760911                      -                      -   \nSRR9224969                     -                      -   \n\n            clofazimine_resistance delamanid_resistance  main_lin  \\\nERR760783                        -                    -  lineage4   \nERR776661                        -                    -  lineage4   \nSRR11098556                      -                    -  lineage2   \nERR760911                        -                    -  lineage4   \nSRR9224969                       -                    -  lineage4   \n\n                     sublin     drtype MDR XDR isResistant  \nERR760783    lineage4.1.2.1        MDR   R               1  \nERR776661      lineage4.3.2        MDR   R               1  \nSRR11098556    lineage2.2.1  Sensitive                   0  \nERR760911    lineage4.1.2.1        MDR   R               1  \nSRR9224969   lineage4.1.2.1        MDR   R               1  \n\n[5 rows x 27 columns]",
      "text/html": "<div>\n<style scoped>\n    .dataframe tbody tr th:only-of-type {\n        vertical-align: middle;\n    }\n\n    .dataframe tbody tr th {\n        vertical-align: top;\n    }\n\n    .dataframe thead th {\n        text-align: right;\n    }\n</style>\n<table border=\"1\" class=\"dataframe\">\n  <thead>\n    <tr style=\"text-align: right;\">\n      <th></th>\n      <th>rifampicin_resistance</th>\n      <th>isoniazid_resistance</th>\n      <th>pyrazinamide_resistance</th>\n      <th>ethambutol_resistance</th>\n      <th>streptomycin_resistance</th>\n      <th>fluoroquinolones_resistance</th>\n      <th>moxifloxacin_resistance</th>\n      <th>ofloxacin_resistance</th>\n      <th>levofloxacin_resistance</th>\n      <th>ciprofloxacin_resistance</th>\n      <th>...</th>\n      <th>linezolid_resistance</th>\n      <th>bedaquiline_resistance</th>\n      <th>clofazimine_resistance</th>\n      <th>delamanid_resistance</th>\n      <th>main_lin</th>\n      <th>sublin</th>\n      <th>drtype</th>\n      <th>MDR</th>\n      <th>XDR</th>\n      <th>isResistant</th>\n    </tr>\n  </thead>\n  <tbody>\n    <tr>\n      <th>ERR760783</th>\n      <td>rpoB_p.Ser450Leu</td>\n      <td>katG_p.Ser315Thr</td>\n      <td>pncA_p.Gln10Pro</td>\n      <td>embB_p.Gly406Ala</td>\n      <td>-</td>\n      <td>-</td>\n      <td>-</td>\n      <td>-</td>\n      <td>-</td>\n      <td>-</td>\n      <td>...</td>\n      <td>-</td>\n      <td>-</td>\n      <td>-</td>\n      <td>-</td>\n      <td>lineage4</td>\n      <td>lineage4.1.2.1</td>\n      <td>MDR</td>\n      <td>R</td>\n      <td></td>\n      <td>1</td>\n    </tr>\n    <tr>\n      <th>ERR776661</th>\n      <td>rpoB_p.Ser450Leu</td>\n      <td>ahpC_c.-81C&gt;T</td>\n      <td>pncA_p.Met175Val</td>\n      <td>embB_p.Gly406Ser, embB_p.Met306Val, embA_c.-16C&gt;G</td>\n      <td>rpsL_p.Lys43Arg, rpsL_p.Lys88Gln</td>\n      <td>-</td>\n      <td>-</td>\n      <td>-</td>\n      <td>-</td>\n      <td>-</td>\n      <td>...</td>\n      <td>-</td>\n      <td>-</td>\n      <td>-</td>\n      <td>-</td>\n      <td>lineage4</td>\n      <td>lineage4.3.2</td>\n      <td>MDR</td>\n      <td>R</td>\n      <td></td>\n      <td>1</td>\n    </tr>\n    <tr>\n      <th>SRR11098556</th>\n      <td>-</td>\n      <td>-</td>\n      <td>-</td>\n      <td>-</td>\n      <td>-</td>\n      <td>-</td>\n      <td>-</td>\n      <td>-</td>\n      <td>-</td>\n      <td>-</td>\n      <td>...</td>\n      <td>-</td>\n      <td>-</td>\n      <td>-</td>\n      <td>-</td>\n      <td>lineage2</td>\n      <td>lineage2.2.1</td>\n      <td>Sensitive</td>\n      <td></td>\n      <td></td>\n      <td>0</td>\n    </tr>\n    <tr>\n      <th>ERR760911</th>\n      <td>rpoB_p.Ser450Leu</td>\n      <td>katG_p.Ser315Thr</td>\n      <td>pncA_p.Gln10Pro</td>\n      <td>embB_p.Gly406Ala</td>\n      <td>-</td>\n      <td>-</td>\n      <td>-</td>\n      <td>-</td>\n      <td>-</td>\n      <td>-</td>\n      <td>...</td>\n      <td>-</td>\n      <td>-</td>\n      <td>-</td>\n      <td>-</td>\n      <td>lineage4</td>\n      <td>lineage4.1.2.1</td>\n      <td>MDR</td>\n      <td>R</td>\n      <td></td>\n      <td>1</td>\n    </tr>\n    <tr>\n      <th>SRR9224969</th>\n      <td>rpoB_p.Ser450Leu</td>\n      <td>fabG1_c.-15C&gt;T, katG_p.Ser315Thr</td>\n      <td>pncA_p.Gly132Ser</td>\n      <td>embB_p.Met306Val</td>\n      <td>-</td>\n      <td>-</td>\n      <td>-</td>\n      <td>-</td>\n      <td>-</td>\n      <td>-</td>\n      <td>...</td>\n      <td>-</td>\n      <td>-</td>\n      <td>-</td>\n      <td>-</td>\n      <td>lineage4</td>\n      <td>lineage4.1.2.1</td>\n      <td>MDR</td>\n      <td>R</td>\n      <td></td>\n      <td>1</td>\n    </tr>\n  </tbody>\n</table>\n<p>5 rows × 27 columns</p>\n</div>"
     },
     "execution_count": 214,
     "metadata": {},
     "output_type": "execute_result"
    }
   ],
   "source": [
    "resistance_status_df.rename(columns = renamed_drug_columns_names_dict,\n",
    "                            inplace=True)\n",
    "\n",
    "resistance_status_df.head()\n"
   ],
   "metadata": {
    "collapsed": false,
    "pycharm": {
     "name": "#%%\n"
    }
   }
  },
  {
   "cell_type": "code",
   "execution_count": 257,
   "outputs": [
    {
     "data": {
      "text/plain": "             rifampicin_resistance  isoniazid_resistance  \\\nERR760783                        1                     1   \nERR776661                        1                     1   \nSRR11098556                      0                     0   \nERR760911                        1                     1   \nSRR9224969                       1                     1   \n\n             pyrazinamide_resistance  ethambutol_resistance  \\\nERR760783                          1                      1   \nERR776661                          1                      1   \nSRR11098556                        0                      0   \nERR760911                          1                      1   \nSRR9224969                         1                      1   \n\n             streptomycin_resistance  fluoroquinolones_resistance  \\\nERR760783                          0                            0   \nERR776661                          1                            0   \nSRR11098556                        0                            0   \nERR760911                          0                            0   \nSRR9224969                         0                            0   \n\n             moxifloxacin_resistance  ofloxacin_resistance  \\\nERR760783                          0                     0   \nERR776661                          0                     0   \nSRR11098556                        0                     0   \nERR760911                          0                     0   \nSRR9224969                         0                     0   \n\n             levofloxacin_resistance  ciprofloxacin_resistance  ...  \\\nERR760783                          0                         0  ...   \nERR776661                          0                         0  ...   \nSRR11098556                        0                         0  ...   \nERR760911                          0                         0  ...   \nSRR9224969                         0                         0  ...   \n\n             linezolid_resistance  bedaquiline_resistance  \\\nERR760783                       0                       0   \nERR776661                       0                       0   \nSRR11098556                     0                       0   \nERR760911                       0                       0   \nSRR9224969                      0                       0   \n\n             clofazimine_resistance  delamanid_resistance  main_lin  \\\nERR760783                         0                     0  lineage4   \nERR776661                         0                     0  lineage4   \nSRR11098556                       0                     0  lineage2   \nERR760911                         0                     0  lineage4   \nSRR9224969                        0                     0  lineage4   \n\n                     sublin     drtype  MDR  XDR  isResistant  \nERR760783    lineage4.1.2.1        MDR    R                 1  \nERR776661      lineage4.3.2        MDR    R                 1  \nSRR11098556    lineage2.2.1  Sensitive                      0  \nERR760911    lineage4.1.2.1        MDR    R                 1  \nSRR9224969   lineage4.1.2.1        MDR    R                 1  \n\n[5 rows x 27 columns]",
      "text/html": "<div>\n<style scoped>\n    .dataframe tbody tr th:only-of-type {\n        vertical-align: middle;\n    }\n\n    .dataframe tbody tr th {\n        vertical-align: top;\n    }\n\n    .dataframe thead th {\n        text-align: right;\n    }\n</style>\n<table border=\"1\" class=\"dataframe\">\n  <thead>\n    <tr style=\"text-align: right;\">\n      <th></th>\n      <th>rifampicin_resistance</th>\n      <th>isoniazid_resistance</th>\n      <th>pyrazinamide_resistance</th>\n      <th>ethambutol_resistance</th>\n      <th>streptomycin_resistance</th>\n      <th>fluoroquinolones_resistance</th>\n      <th>moxifloxacin_resistance</th>\n      <th>ofloxacin_resistance</th>\n      <th>levofloxacin_resistance</th>\n      <th>ciprofloxacin_resistance</th>\n      <th>...</th>\n      <th>linezolid_resistance</th>\n      <th>bedaquiline_resistance</th>\n      <th>clofazimine_resistance</th>\n      <th>delamanid_resistance</th>\n      <th>main_lin</th>\n      <th>sublin</th>\n      <th>drtype</th>\n      <th>MDR</th>\n      <th>XDR</th>\n      <th>isResistant</th>\n    </tr>\n  </thead>\n  <tbody>\n    <tr>\n      <th>ERR760783</th>\n      <td>1</td>\n      <td>1</td>\n      <td>1</td>\n      <td>1</td>\n      <td>0</td>\n      <td>0</td>\n      <td>0</td>\n      <td>0</td>\n      <td>0</td>\n      <td>0</td>\n      <td>...</td>\n      <td>0</td>\n      <td>0</td>\n      <td>0</td>\n      <td>0</td>\n      <td>lineage4</td>\n      <td>lineage4.1.2.1</td>\n      <td>MDR</td>\n      <td>R</td>\n      <td></td>\n      <td>1</td>\n    </tr>\n    <tr>\n      <th>ERR776661</th>\n      <td>1</td>\n      <td>1</td>\n      <td>1</td>\n      <td>1</td>\n      <td>1</td>\n      <td>0</td>\n      <td>0</td>\n      <td>0</td>\n      <td>0</td>\n      <td>0</td>\n      <td>...</td>\n      <td>0</td>\n      <td>0</td>\n      <td>0</td>\n      <td>0</td>\n      <td>lineage4</td>\n      <td>lineage4.3.2</td>\n      <td>MDR</td>\n      <td>R</td>\n      <td></td>\n      <td>1</td>\n    </tr>\n    <tr>\n      <th>SRR11098556</th>\n      <td>0</td>\n      <td>0</td>\n      <td>0</td>\n      <td>0</td>\n      <td>0</td>\n      <td>0</td>\n      <td>0</td>\n      <td>0</td>\n      <td>0</td>\n      <td>0</td>\n      <td>...</td>\n      <td>0</td>\n      <td>0</td>\n      <td>0</td>\n      <td>0</td>\n      <td>lineage2</td>\n      <td>lineage2.2.1</td>\n      <td>Sensitive</td>\n      <td></td>\n      <td></td>\n      <td>0</td>\n    </tr>\n    <tr>\n      <th>ERR760911</th>\n      <td>1</td>\n      <td>1</td>\n      <td>1</td>\n      <td>1</td>\n      <td>0</td>\n      <td>0</td>\n      <td>0</td>\n      <td>0</td>\n      <td>0</td>\n      <td>0</td>\n      <td>...</td>\n      <td>0</td>\n      <td>0</td>\n      <td>0</td>\n      <td>0</td>\n      <td>lineage4</td>\n      <td>lineage4.1.2.1</td>\n      <td>MDR</td>\n      <td>R</td>\n      <td></td>\n      <td>1</td>\n    </tr>\n    <tr>\n      <th>SRR9224969</th>\n      <td>1</td>\n      <td>1</td>\n      <td>1</td>\n      <td>1</td>\n      <td>0</td>\n      <td>0</td>\n      <td>0</td>\n      <td>0</td>\n      <td>0</td>\n      <td>0</td>\n      <td>...</td>\n      <td>0</td>\n      <td>0</td>\n      <td>0</td>\n      <td>0</td>\n      <td>lineage4</td>\n      <td>lineage4.1.2.1</td>\n      <td>MDR</td>\n      <td>R</td>\n      <td></td>\n      <td>1</td>\n    </tr>\n  </tbody>\n</table>\n<p>5 rows × 27 columns</p>\n</div>"
     },
     "execution_count": 257,
     "metadata": {},
     "output_type": "execute_result"
    }
   ],
   "source": [
    "for col_name in renamed_drug_columns_names:\n",
    "    resistance_status_df[col_name] = resistance_status_df[col_name].apply(lambda resistance: 0 if resistance is '-' else 1)\n",
    "\n",
    "resistance_status_df.head()\n",
    "\n"
   ],
   "metadata": {
    "collapsed": false,
    "pycharm": {
     "name": "#%%\n"
    }
   }
  },
  {
   "cell_type": "code",
   "execution_count": 259,
   "outputs": [],
   "source": [
    "resistance_status_df.to_json(\"../data/processed/resistance_status_df.json\")\n",
    "resistance_status_df.to_csv(\"../data/processed/resistance_status_df.csv\")\n"
   ],
   "metadata": {
    "collapsed": false,
    "pycharm": {
     "name": "#%%\n"
    }
   }
  },
  {
   "cell_type": "code",
   "execution_count": null,
   "outputs": [],
   "source": [
    "vcf_df = pd.read_csv(\"../data/interim/cohort.bqsr.filter.snps.tsv\", sep='\\t')\n",
    "vcf_df.head()"
   ],
   "metadata": {
    "collapsed": false,
    "pycharm": {
     "name": "#%%\n"
    }
   }
  },
  {
   "cell_type": "code",
   "execution_count": 224,
   "outputs": [
    {
     "data": {
      "text/plain": "        CHROM  POS ERR3129939.GT ERR3148148.GT ERR3148149.GT ERR3148151.GT  \\\n0  NC000962_3   11           A/A           A/A           A/A           A/A   \n1  NC000962_3   78           T/T           T/T           T/T           T/T   \n2  NC000962_3   80           A/A           A/A           A/A           A/A   \n3  NC000962_3   82           G/G           G/G           G/G           G/G   \n4  NC000962_3   88           C/C           C/C           C/C           C/C   \n\n  ERR3148153.GT ERR3148155.GT ERR3148159.GT ERR3148163.GT  ... SRR9224942.GT  \\\n0           A/A           A/A           A/A           A/A  ...           A/A   \n1           T/T           T/T           T/T           T/T  ...           T/T   \n2           A/A           A/A           A/A           A/A  ...           A/A   \n3           G/G           G/G           G/G           G/G  ...           G/G   \n4           C/C           C/C           C/C           C/C  ...           C/C   \n\n  SRR9224952.GT SRR9224958.GT SRR9224968.GT SRR9224981.GT SRR9224985.GT  \\\n0           A/A           A/A           A/A           A/A           A/A   \n1           T/T           T/T           T/T           T/T           T/T   \n2           A/A           A/A           A/A           A/A           A/A   \n3           G/G           G/G           G/G           G/G           G/G   \n4           C/C           C/C           C/C           C/C           C/C   \n\n  SRR9224986.GT SRR9224992.GT SRR9224997.GT      CHROM.POS  \n0           A/A           A/A           A/A  NC000962_3.11  \n1           T/T           T/T           T/T  NC000962_3.78  \n2           A/A           A/A           A/A  NC000962_3.80  \n3           G/G           G/G           G/G  NC000962_3.82  \n4           C/C           C/C           C/C  NC000962_3.88  \n\n[5 rows x 304 columns]",
      "text/html": "<div>\n<style scoped>\n    .dataframe tbody tr th:only-of-type {\n        vertical-align: middle;\n    }\n\n    .dataframe tbody tr th {\n        vertical-align: top;\n    }\n\n    .dataframe thead th {\n        text-align: right;\n    }\n</style>\n<table border=\"1\" class=\"dataframe\">\n  <thead>\n    <tr style=\"text-align: right;\">\n      <th></th>\n      <th>CHROM</th>\n      <th>POS</th>\n      <th>ERR3129939.GT</th>\n      <th>ERR3148148.GT</th>\n      <th>ERR3148149.GT</th>\n      <th>ERR3148151.GT</th>\n      <th>ERR3148153.GT</th>\n      <th>ERR3148155.GT</th>\n      <th>ERR3148159.GT</th>\n      <th>ERR3148163.GT</th>\n      <th>...</th>\n      <th>SRR9224942.GT</th>\n      <th>SRR9224952.GT</th>\n      <th>SRR9224958.GT</th>\n      <th>SRR9224968.GT</th>\n      <th>SRR9224981.GT</th>\n      <th>SRR9224985.GT</th>\n      <th>SRR9224986.GT</th>\n      <th>SRR9224992.GT</th>\n      <th>SRR9224997.GT</th>\n      <th>CHROM.POS</th>\n    </tr>\n  </thead>\n  <tbody>\n    <tr>\n      <th>0</th>\n      <td>NC000962_3</td>\n      <td>11</td>\n      <td>A/A</td>\n      <td>A/A</td>\n      <td>A/A</td>\n      <td>A/A</td>\n      <td>A/A</td>\n      <td>A/A</td>\n      <td>A/A</td>\n      <td>A/A</td>\n      <td>...</td>\n      <td>A/A</td>\n      <td>A/A</td>\n      <td>A/A</td>\n      <td>A/A</td>\n      <td>A/A</td>\n      <td>A/A</td>\n      <td>A/A</td>\n      <td>A/A</td>\n      <td>A/A</td>\n      <td>NC000962_3.11</td>\n    </tr>\n    <tr>\n      <th>1</th>\n      <td>NC000962_3</td>\n      <td>78</td>\n      <td>T/T</td>\n      <td>T/T</td>\n      <td>T/T</td>\n      <td>T/T</td>\n      <td>T/T</td>\n      <td>T/T</td>\n      <td>T/T</td>\n      <td>T/T</td>\n      <td>...</td>\n      <td>T/T</td>\n      <td>T/T</td>\n      <td>T/T</td>\n      <td>T/T</td>\n      <td>T/T</td>\n      <td>T/T</td>\n      <td>T/T</td>\n      <td>T/T</td>\n      <td>T/T</td>\n      <td>NC000962_3.78</td>\n    </tr>\n    <tr>\n      <th>2</th>\n      <td>NC000962_3</td>\n      <td>80</td>\n      <td>A/A</td>\n      <td>A/A</td>\n      <td>A/A</td>\n      <td>A/A</td>\n      <td>A/A</td>\n      <td>A/A</td>\n      <td>A/A</td>\n      <td>A/A</td>\n      <td>...</td>\n      <td>A/A</td>\n      <td>A/A</td>\n      <td>A/A</td>\n      <td>A/A</td>\n      <td>A/A</td>\n      <td>A/A</td>\n      <td>A/A</td>\n      <td>A/A</td>\n      <td>A/A</td>\n      <td>NC000962_3.80</td>\n    </tr>\n    <tr>\n      <th>3</th>\n      <td>NC000962_3</td>\n      <td>82</td>\n      <td>G/G</td>\n      <td>G/G</td>\n      <td>G/G</td>\n      <td>G/G</td>\n      <td>G/G</td>\n      <td>G/G</td>\n      <td>G/G</td>\n      <td>G/G</td>\n      <td>...</td>\n      <td>G/G</td>\n      <td>G/G</td>\n      <td>G/G</td>\n      <td>G/G</td>\n      <td>G/G</td>\n      <td>G/G</td>\n      <td>G/G</td>\n      <td>G/G</td>\n      <td>G/G</td>\n      <td>NC000962_3.82</td>\n    </tr>\n    <tr>\n      <th>4</th>\n      <td>NC000962_3</td>\n      <td>88</td>\n      <td>C/C</td>\n      <td>C/C</td>\n      <td>C/C</td>\n      <td>C/C</td>\n      <td>C/C</td>\n      <td>C/C</td>\n      <td>C/C</td>\n      <td>C/C</td>\n      <td>...</td>\n      <td>C/C</td>\n      <td>C/C</td>\n      <td>C/C</td>\n      <td>C/C</td>\n      <td>C/C</td>\n      <td>C/C</td>\n      <td>C/C</td>\n      <td>C/C</td>\n      <td>C/C</td>\n      <td>NC000962_3.88</td>\n    </tr>\n  </tbody>\n</table>\n<p>5 rows × 304 columns</p>\n</div>"
     },
     "execution_count": 224,
     "metadata": {},
     "output_type": "execute_result"
    }
   ],
   "source": [
    "# vcf_df['CHROM'] + vcf_df['POS']\n",
    "vcf_df['CHROM.POS'] = vcf_df.apply(lambda row: row.CHROM + \".\" + str(row.POS) , axis = 1)\n",
    "\n",
    "vcf_df.head()"
   ],
   "metadata": {
    "collapsed": false,
    "pycharm": {
     "name": "#%%\n"
    }
   }
  },
  {
   "cell_type": "code",
   "execution_count": 225,
   "outputs": [
    {
     "data": {
      "text/plain": "  ERR3129939.GT ERR3148148.GT ERR3148149.GT ERR3148151.GT ERR3148153.GT  \\\n0           A/A           A/A           A/A           A/A           A/A   \n1           T/T           T/T           T/T           T/T           T/T   \n2           A/A           A/A           A/A           A/A           A/A   \n3           G/G           G/G           G/G           G/G           G/G   \n4           C/C           C/C           C/C           C/C           C/C   \n\n  ERR3148155.GT ERR3148159.GT ERR3148163.GT ERR3148164.GT ERR3148166.GT  ...  \\\n0           A/A           A/A           A/A           A/A           A/A  ...   \n1           T/T           T/T           T/T           T/T           T/T  ...   \n2           A/A           A/A           A/A           A/A           A/A  ...   \n3           G/G           G/G           G/G           G/G           G/G  ...   \n4           C/C           C/C           C/C           C/C           C/C  ...   \n\n  SRR9224942.GT SRR9224952.GT SRR9224958.GT SRR9224968.GT SRR9224981.GT  \\\n0           A/A           A/A           A/A           A/A           A/A   \n1           T/T           T/T           T/T           T/T           T/T   \n2           A/A           A/A           A/A           A/A           A/A   \n3           G/G           G/G           G/G           G/G           G/G   \n4           C/C           C/C           C/C           C/C           C/C   \n\n  SRR9224985.GT SRR9224986.GT SRR9224992.GT SRR9224997.GT      CHROM.POS  \n0           A/A           A/A           A/A           A/A  NC000962_3.11  \n1           T/T           T/T           T/T           T/T  NC000962_3.78  \n2           A/A           A/A           A/A           A/A  NC000962_3.80  \n3           G/G           G/G           G/G           G/G  NC000962_3.82  \n4           C/C           C/C           C/C           C/C  NC000962_3.88  \n\n[5 rows x 302 columns]",
      "text/html": "<div>\n<style scoped>\n    .dataframe tbody tr th:only-of-type {\n        vertical-align: middle;\n    }\n\n    .dataframe tbody tr th {\n        vertical-align: top;\n    }\n\n    .dataframe thead th {\n        text-align: right;\n    }\n</style>\n<table border=\"1\" class=\"dataframe\">\n  <thead>\n    <tr style=\"text-align: right;\">\n      <th></th>\n      <th>ERR3129939.GT</th>\n      <th>ERR3148148.GT</th>\n      <th>ERR3148149.GT</th>\n      <th>ERR3148151.GT</th>\n      <th>ERR3148153.GT</th>\n      <th>ERR3148155.GT</th>\n      <th>ERR3148159.GT</th>\n      <th>ERR3148163.GT</th>\n      <th>ERR3148164.GT</th>\n      <th>ERR3148166.GT</th>\n      <th>...</th>\n      <th>SRR9224942.GT</th>\n      <th>SRR9224952.GT</th>\n      <th>SRR9224958.GT</th>\n      <th>SRR9224968.GT</th>\n      <th>SRR9224981.GT</th>\n      <th>SRR9224985.GT</th>\n      <th>SRR9224986.GT</th>\n      <th>SRR9224992.GT</th>\n      <th>SRR9224997.GT</th>\n      <th>CHROM.POS</th>\n    </tr>\n  </thead>\n  <tbody>\n    <tr>\n      <th>0</th>\n      <td>A/A</td>\n      <td>A/A</td>\n      <td>A/A</td>\n      <td>A/A</td>\n      <td>A/A</td>\n      <td>A/A</td>\n      <td>A/A</td>\n      <td>A/A</td>\n      <td>A/A</td>\n      <td>A/A</td>\n      <td>...</td>\n      <td>A/A</td>\n      <td>A/A</td>\n      <td>A/A</td>\n      <td>A/A</td>\n      <td>A/A</td>\n      <td>A/A</td>\n      <td>A/A</td>\n      <td>A/A</td>\n      <td>A/A</td>\n      <td>NC000962_3.11</td>\n    </tr>\n    <tr>\n      <th>1</th>\n      <td>T/T</td>\n      <td>T/T</td>\n      <td>T/T</td>\n      <td>T/T</td>\n      <td>T/T</td>\n      <td>T/T</td>\n      <td>T/T</td>\n      <td>T/T</td>\n      <td>T/T</td>\n      <td>T/T</td>\n      <td>...</td>\n      <td>T/T</td>\n      <td>T/T</td>\n      <td>T/T</td>\n      <td>T/T</td>\n      <td>T/T</td>\n      <td>T/T</td>\n      <td>T/T</td>\n      <td>T/T</td>\n      <td>T/T</td>\n      <td>NC000962_3.78</td>\n    </tr>\n    <tr>\n      <th>2</th>\n      <td>A/A</td>\n      <td>A/A</td>\n      <td>A/A</td>\n      <td>A/A</td>\n      <td>A/A</td>\n      <td>A/A</td>\n      <td>A/A</td>\n      <td>A/A</td>\n      <td>A/A</td>\n      <td>A/A</td>\n      <td>...</td>\n      <td>A/A</td>\n      <td>A/A</td>\n      <td>A/A</td>\n      <td>A/A</td>\n      <td>A/A</td>\n      <td>A/A</td>\n      <td>A/A</td>\n      <td>A/A</td>\n      <td>A/A</td>\n      <td>NC000962_3.80</td>\n    </tr>\n    <tr>\n      <th>3</th>\n      <td>G/G</td>\n      <td>G/G</td>\n      <td>G/G</td>\n      <td>G/G</td>\n      <td>G/G</td>\n      <td>G/G</td>\n      <td>G/G</td>\n      <td>G/G</td>\n      <td>G/G</td>\n      <td>G/G</td>\n      <td>...</td>\n      <td>G/G</td>\n      <td>G/G</td>\n      <td>G/G</td>\n      <td>G/G</td>\n      <td>G/G</td>\n      <td>G/G</td>\n      <td>G/G</td>\n      <td>G/G</td>\n      <td>G/G</td>\n      <td>NC000962_3.82</td>\n    </tr>\n    <tr>\n      <th>4</th>\n      <td>C/C</td>\n      <td>C/C</td>\n      <td>C/C</td>\n      <td>C/C</td>\n      <td>C/C</td>\n      <td>C/C</td>\n      <td>C/C</td>\n      <td>C/C</td>\n      <td>C/C</td>\n      <td>C/C</td>\n      <td>...</td>\n      <td>C/C</td>\n      <td>C/C</td>\n      <td>C/C</td>\n      <td>C/C</td>\n      <td>C/C</td>\n      <td>C/C</td>\n      <td>C/C</td>\n      <td>C/C</td>\n      <td>C/C</td>\n      <td>NC000962_3.88</td>\n    </tr>\n  </tbody>\n</table>\n<p>5 rows × 302 columns</p>\n</div>"
     },
     "execution_count": 225,
     "metadata": {},
     "output_type": "execute_result"
    }
   ],
   "source": [
    "vcf_df.drop(['CHROM', 'POS'], axis=1, inplace= True)\n",
    "vcf_df.head()\n"
   ],
   "metadata": {
    "collapsed": false,
    "pycharm": {
     "name": "#%%\n"
    }
   }
  },
  {
   "cell_type": "code",
   "execution_count": 226,
   "outputs": [
    {
     "data": {
      "text/plain": "              ERR3129939.GT ERR3148148.GT ERR3148149.GT ERR3148151.GT  \\\nCHROM.POS                                                               \nNC000962_3.11           A/A           A/A           A/A           A/A   \nNC000962_3.78           T/T           T/T           T/T           T/T   \nNC000962_3.80           A/A           A/A           A/A           A/A   \nNC000962_3.82           G/G           G/G           G/G           G/G   \nNC000962_3.88           C/C           C/C           C/C           C/C   \n\n              ERR3148153.GT ERR3148155.GT ERR3148159.GT ERR3148163.GT  \\\nCHROM.POS                                                               \nNC000962_3.11           A/A           A/A           A/A           A/A   \nNC000962_3.78           T/T           T/T           T/T           T/T   \nNC000962_3.80           A/A           A/A           A/A           A/A   \nNC000962_3.82           G/G           G/G           G/G           G/G   \nNC000962_3.88           C/C           C/C           C/C           C/C   \n\n              ERR3148164.GT ERR3148166.GT  ... SRR9224941.GT SRR9224942.GT  \\\nCHROM.POS                                  ...                               \nNC000962_3.11           A/A           A/A  ...           A/A           A/A   \nNC000962_3.78           T/T           T/T  ...           T/T           T/T   \nNC000962_3.80           A/A           A/A  ...           A/A           A/A   \nNC000962_3.82           G/G           G/G  ...           G/G           G/G   \nNC000962_3.88           C/C           C/C  ...           C/C           C/C   \n\n              SRR9224952.GT SRR9224958.GT SRR9224968.GT SRR9224981.GT  \\\nCHROM.POS                                                               \nNC000962_3.11           A/A           A/A           A/A           A/A   \nNC000962_3.78           T/T           T/T           T/T           T/T   \nNC000962_3.80           A/A           A/A           A/A           A/A   \nNC000962_3.82           G/G           G/G           G/G           G/G   \nNC000962_3.88           C/C           C/C           C/C           C/C   \n\n              SRR9224985.GT SRR9224986.GT SRR9224992.GT SRR9224997.GT  \nCHROM.POS                                                              \nNC000962_3.11           A/A           A/A           A/A           A/A  \nNC000962_3.78           T/T           T/T           T/T           T/T  \nNC000962_3.80           A/A           A/A           A/A           A/A  \nNC000962_3.82           G/G           G/G           G/G           G/G  \nNC000962_3.88           C/C           C/C           C/C           C/C  \n\n[5 rows x 301 columns]",
      "text/html": "<div>\n<style scoped>\n    .dataframe tbody tr th:only-of-type {\n        vertical-align: middle;\n    }\n\n    .dataframe tbody tr th {\n        vertical-align: top;\n    }\n\n    .dataframe thead th {\n        text-align: right;\n    }\n</style>\n<table border=\"1\" class=\"dataframe\">\n  <thead>\n    <tr style=\"text-align: right;\">\n      <th></th>\n      <th>ERR3129939.GT</th>\n      <th>ERR3148148.GT</th>\n      <th>ERR3148149.GT</th>\n      <th>ERR3148151.GT</th>\n      <th>ERR3148153.GT</th>\n      <th>ERR3148155.GT</th>\n      <th>ERR3148159.GT</th>\n      <th>ERR3148163.GT</th>\n      <th>ERR3148164.GT</th>\n      <th>ERR3148166.GT</th>\n      <th>...</th>\n      <th>SRR9224941.GT</th>\n      <th>SRR9224942.GT</th>\n      <th>SRR9224952.GT</th>\n      <th>SRR9224958.GT</th>\n      <th>SRR9224968.GT</th>\n      <th>SRR9224981.GT</th>\n      <th>SRR9224985.GT</th>\n      <th>SRR9224986.GT</th>\n      <th>SRR9224992.GT</th>\n      <th>SRR9224997.GT</th>\n    </tr>\n    <tr>\n      <th>CHROM.POS</th>\n      <th></th>\n      <th></th>\n      <th></th>\n      <th></th>\n      <th></th>\n      <th></th>\n      <th></th>\n      <th></th>\n      <th></th>\n      <th></th>\n      <th></th>\n      <th></th>\n      <th></th>\n      <th></th>\n      <th></th>\n      <th></th>\n      <th></th>\n      <th></th>\n      <th></th>\n      <th></th>\n      <th></th>\n    </tr>\n  </thead>\n  <tbody>\n    <tr>\n      <th>NC000962_3.11</th>\n      <td>A/A</td>\n      <td>A/A</td>\n      <td>A/A</td>\n      <td>A/A</td>\n      <td>A/A</td>\n      <td>A/A</td>\n      <td>A/A</td>\n      <td>A/A</td>\n      <td>A/A</td>\n      <td>A/A</td>\n      <td>...</td>\n      <td>A/A</td>\n      <td>A/A</td>\n      <td>A/A</td>\n      <td>A/A</td>\n      <td>A/A</td>\n      <td>A/A</td>\n      <td>A/A</td>\n      <td>A/A</td>\n      <td>A/A</td>\n      <td>A/A</td>\n    </tr>\n    <tr>\n      <th>NC000962_3.78</th>\n      <td>T/T</td>\n      <td>T/T</td>\n      <td>T/T</td>\n      <td>T/T</td>\n      <td>T/T</td>\n      <td>T/T</td>\n      <td>T/T</td>\n      <td>T/T</td>\n      <td>T/T</td>\n      <td>T/T</td>\n      <td>...</td>\n      <td>T/T</td>\n      <td>T/T</td>\n      <td>T/T</td>\n      <td>T/T</td>\n      <td>T/T</td>\n      <td>T/T</td>\n      <td>T/T</td>\n      <td>T/T</td>\n      <td>T/T</td>\n      <td>T/T</td>\n    </tr>\n    <tr>\n      <th>NC000962_3.80</th>\n      <td>A/A</td>\n      <td>A/A</td>\n      <td>A/A</td>\n      <td>A/A</td>\n      <td>A/A</td>\n      <td>A/A</td>\n      <td>A/A</td>\n      <td>A/A</td>\n      <td>A/A</td>\n      <td>A/A</td>\n      <td>...</td>\n      <td>A/A</td>\n      <td>A/A</td>\n      <td>A/A</td>\n      <td>A/A</td>\n      <td>A/A</td>\n      <td>A/A</td>\n      <td>A/A</td>\n      <td>A/A</td>\n      <td>A/A</td>\n      <td>A/A</td>\n    </tr>\n    <tr>\n      <th>NC000962_3.82</th>\n      <td>G/G</td>\n      <td>G/G</td>\n      <td>G/G</td>\n      <td>G/G</td>\n      <td>G/G</td>\n      <td>G/G</td>\n      <td>G/G</td>\n      <td>G/G</td>\n      <td>G/G</td>\n      <td>G/G</td>\n      <td>...</td>\n      <td>G/G</td>\n      <td>G/G</td>\n      <td>G/G</td>\n      <td>G/G</td>\n      <td>G/G</td>\n      <td>G/G</td>\n      <td>G/G</td>\n      <td>G/G</td>\n      <td>G/G</td>\n      <td>G/G</td>\n    </tr>\n    <tr>\n      <th>NC000962_3.88</th>\n      <td>C/C</td>\n      <td>C/C</td>\n      <td>C/C</td>\n      <td>C/C</td>\n      <td>C/C</td>\n      <td>C/C</td>\n      <td>C/C</td>\n      <td>C/C</td>\n      <td>C/C</td>\n      <td>C/C</td>\n      <td>...</td>\n      <td>C/C</td>\n      <td>C/C</td>\n      <td>C/C</td>\n      <td>C/C</td>\n      <td>C/C</td>\n      <td>C/C</td>\n      <td>C/C</td>\n      <td>C/C</td>\n      <td>C/C</td>\n      <td>C/C</td>\n    </tr>\n  </tbody>\n</table>\n<p>5 rows × 301 columns</p>\n</div>"
     },
     "execution_count": 226,
     "metadata": {},
     "output_type": "execute_result"
    }
   ],
   "source": [
    "vcf_df.set_index('CHROM.POS', inplace= True)\n",
    "vcf_df.to_json(\"../data/interim/vcf_df.json\")\n",
    "vcf_df.head()\n"
   ],
   "metadata": {
    "collapsed": false,
    "pycharm": {
     "name": "#%%\n"
    }
   }
  },
  {
   "cell_type": "code",
   "execution_count": 195,
   "outputs": [
    {
     "data": {
      "text/plain": "              ERR3129939.GT ERR3148148.GT ERR3148149.GT ERR3148151.GT  \\\nNC000962_3.11           A/A           A/A           A/A           A/A   \nNC000962_3.78           T/T           T/T           T/T           T/T   \nNC000962_3.80           A/A           A/A           A/A           A/A   \nNC000962_3.82           G/G           G/G           G/G           G/G   \nNC000962_3.88           C/C           C/C           C/C           C/C   \n\n              ERR3148153.GT ERR3148155.GT ERR3148159.GT ERR3148163.GT  \\\nNC000962_3.11           A/A           A/A           A/A           A/A   \nNC000962_3.78           T/T           T/T           T/T           T/T   \nNC000962_3.80           A/A           A/A           A/A           A/A   \nNC000962_3.82           G/G           G/G           G/G           G/G   \nNC000962_3.88           C/C           C/C           C/C           C/C   \n\n              ERR3148164.GT ERR3148166.GT  ... SRR9224941.GT SRR9224942.GT  \\\nNC000962_3.11           A/A           A/A  ...           A/A           A/A   \nNC000962_3.78           T/T           T/T  ...           T/T           T/T   \nNC000962_3.80           A/A           A/A  ...           A/A           A/A   \nNC000962_3.82           G/G           G/G  ...           G/G           G/G   \nNC000962_3.88           C/C           C/C  ...           C/C           C/C   \n\n              SRR9224952.GT SRR9224958.GT SRR9224968.GT SRR9224981.GT  \\\nNC000962_3.11           A/A           A/A           A/A           A/A   \nNC000962_3.78           T/T           T/T           T/T           T/T   \nNC000962_3.80           A/A           A/A           A/A           A/A   \nNC000962_3.82           G/G           G/G           G/G           G/G   \nNC000962_3.88           C/C           C/C           C/C           C/C   \n\n              SRR9224985.GT SRR9224986.GT SRR9224992.GT SRR9224997.GT  \nNC000962_3.11           A/A           A/A           A/A           A/A  \nNC000962_3.78           T/T           T/T           T/T           T/T  \nNC000962_3.80           A/A           A/A           A/A           A/A  \nNC000962_3.82           G/G           G/G           G/G           G/G  \nNC000962_3.88           C/C           C/C           C/C           C/C  \n\n[5 rows x 301 columns]",
      "text/html": "<div>\n<style scoped>\n    .dataframe tbody tr th:only-of-type {\n        vertical-align: middle;\n    }\n\n    .dataframe tbody tr th {\n        vertical-align: top;\n    }\n\n    .dataframe thead th {\n        text-align: right;\n    }\n</style>\n<table border=\"1\" class=\"dataframe\">\n  <thead>\n    <tr style=\"text-align: right;\">\n      <th></th>\n      <th>ERR3129939.GT</th>\n      <th>ERR3148148.GT</th>\n      <th>ERR3148149.GT</th>\n      <th>ERR3148151.GT</th>\n      <th>ERR3148153.GT</th>\n      <th>ERR3148155.GT</th>\n      <th>ERR3148159.GT</th>\n      <th>ERR3148163.GT</th>\n      <th>ERR3148164.GT</th>\n      <th>ERR3148166.GT</th>\n      <th>...</th>\n      <th>SRR9224941.GT</th>\n      <th>SRR9224942.GT</th>\n      <th>SRR9224952.GT</th>\n      <th>SRR9224958.GT</th>\n      <th>SRR9224968.GT</th>\n      <th>SRR9224981.GT</th>\n      <th>SRR9224985.GT</th>\n      <th>SRR9224986.GT</th>\n      <th>SRR9224992.GT</th>\n      <th>SRR9224997.GT</th>\n    </tr>\n  </thead>\n  <tbody>\n    <tr>\n      <th>NC000962_3.11</th>\n      <td>A/A</td>\n      <td>A/A</td>\n      <td>A/A</td>\n      <td>A/A</td>\n      <td>A/A</td>\n      <td>A/A</td>\n      <td>A/A</td>\n      <td>A/A</td>\n      <td>A/A</td>\n      <td>A/A</td>\n      <td>...</td>\n      <td>A/A</td>\n      <td>A/A</td>\n      <td>A/A</td>\n      <td>A/A</td>\n      <td>A/A</td>\n      <td>A/A</td>\n      <td>A/A</td>\n      <td>A/A</td>\n      <td>A/A</td>\n      <td>A/A</td>\n    </tr>\n    <tr>\n      <th>NC000962_3.78</th>\n      <td>T/T</td>\n      <td>T/T</td>\n      <td>T/T</td>\n      <td>T/T</td>\n      <td>T/T</td>\n      <td>T/T</td>\n      <td>T/T</td>\n      <td>T/T</td>\n      <td>T/T</td>\n      <td>T/T</td>\n      <td>...</td>\n      <td>T/T</td>\n      <td>T/T</td>\n      <td>T/T</td>\n      <td>T/T</td>\n      <td>T/T</td>\n      <td>T/T</td>\n      <td>T/T</td>\n      <td>T/T</td>\n      <td>T/T</td>\n      <td>T/T</td>\n    </tr>\n    <tr>\n      <th>NC000962_3.80</th>\n      <td>A/A</td>\n      <td>A/A</td>\n      <td>A/A</td>\n      <td>A/A</td>\n      <td>A/A</td>\n      <td>A/A</td>\n      <td>A/A</td>\n      <td>A/A</td>\n      <td>A/A</td>\n      <td>A/A</td>\n      <td>...</td>\n      <td>A/A</td>\n      <td>A/A</td>\n      <td>A/A</td>\n      <td>A/A</td>\n      <td>A/A</td>\n      <td>A/A</td>\n      <td>A/A</td>\n      <td>A/A</td>\n      <td>A/A</td>\n      <td>A/A</td>\n    </tr>\n    <tr>\n      <th>NC000962_3.82</th>\n      <td>G/G</td>\n      <td>G/G</td>\n      <td>G/G</td>\n      <td>G/G</td>\n      <td>G/G</td>\n      <td>G/G</td>\n      <td>G/G</td>\n      <td>G/G</td>\n      <td>G/G</td>\n      <td>G/G</td>\n      <td>...</td>\n      <td>G/G</td>\n      <td>G/G</td>\n      <td>G/G</td>\n      <td>G/G</td>\n      <td>G/G</td>\n      <td>G/G</td>\n      <td>G/G</td>\n      <td>G/G</td>\n      <td>G/G</td>\n      <td>G/G</td>\n    </tr>\n    <tr>\n      <th>NC000962_3.88</th>\n      <td>C/C</td>\n      <td>C/C</td>\n      <td>C/C</td>\n      <td>C/C</td>\n      <td>C/C</td>\n      <td>C/C</td>\n      <td>C/C</td>\n      <td>C/C</td>\n      <td>C/C</td>\n      <td>C/C</td>\n      <td>...</td>\n      <td>C/C</td>\n      <td>C/C</td>\n      <td>C/C</td>\n      <td>C/C</td>\n      <td>C/C</td>\n      <td>C/C</td>\n      <td>C/C</td>\n      <td>C/C</td>\n      <td>C/C</td>\n      <td>C/C</td>\n    </tr>\n  </tbody>\n</table>\n<p>5 rows × 301 columns</p>\n</div>"
     },
     "execution_count": 195,
     "metadata": {},
     "output_type": "execute_result"
    }
   ],
   "source": [
    "\n",
    "vcf_df= pd.read_json(\"../data/interim/vcf_df.json\")\n",
    "vcf_df.head()"
   ],
   "metadata": {
    "collapsed": false,
    "pycharm": {
     "name": "#%%\n"
    }
   }
  },
  {
   "cell_type": "code",
   "execution_count": 227,
   "outputs": [
    {
     "data": {
      "text/plain": "              ERR3129939 ERR3148148 ERR3148149 ERR3148151 ERR3148153  \\\nCHROM.POS                                                              \nNC000962_3.11        A/A        A/A        A/A        A/A        A/A   \nNC000962_3.78        T/T        T/T        T/T        T/T        T/T   \nNC000962_3.80        A/A        A/A        A/A        A/A        A/A   \nNC000962_3.82        G/G        G/G        G/G        G/G        G/G   \nNC000962_3.88        C/C        C/C        C/C        C/C        C/C   \n\n              ERR3148155 ERR3148159 ERR3148163 ERR3148164 ERR3148166  ...  \\\nCHROM.POS                                                             ...   \nNC000962_3.11        A/A        A/A        A/A        A/A        A/A  ...   \nNC000962_3.78        T/T        T/T        T/T        T/T        T/T  ...   \nNC000962_3.80        A/A        A/A        A/A        A/A        A/A  ...   \nNC000962_3.82        G/G        G/G        G/G        G/G        G/G  ...   \nNC000962_3.88        C/C        C/C        C/C        C/C        C/C  ...   \n\n              SRR9224941 SRR9224942 SRR9224952 SRR9224958 SRR9224968  \\\nCHROM.POS                                                              \nNC000962_3.11        A/A        A/A        A/A        A/A        A/A   \nNC000962_3.78        T/T        T/T        T/T        T/T        T/T   \nNC000962_3.80        A/A        A/A        A/A        A/A        A/A   \nNC000962_3.82        G/G        G/G        G/G        G/G        G/G   \nNC000962_3.88        C/C        C/C        C/C        C/C        C/C   \n\n              SRR9224981 SRR9224985 SRR9224986 SRR9224992 SRR9224997  \nCHROM.POS                                                             \nNC000962_3.11        A/A        A/A        A/A        A/A        A/A  \nNC000962_3.78        T/T        T/T        T/T        T/T        T/T  \nNC000962_3.80        A/A        A/A        A/A        A/A        A/A  \nNC000962_3.82        G/G        G/G        G/G        G/G        G/G  \nNC000962_3.88        C/C        C/C        C/C        C/C        C/C  \n\n[5 rows x 301 columns]",
      "text/html": "<div>\n<style scoped>\n    .dataframe tbody tr th:only-of-type {\n        vertical-align: middle;\n    }\n\n    .dataframe tbody tr th {\n        vertical-align: top;\n    }\n\n    .dataframe thead th {\n        text-align: right;\n    }\n</style>\n<table border=\"1\" class=\"dataframe\">\n  <thead>\n    <tr style=\"text-align: right;\">\n      <th></th>\n      <th>ERR3129939</th>\n      <th>ERR3148148</th>\n      <th>ERR3148149</th>\n      <th>ERR3148151</th>\n      <th>ERR3148153</th>\n      <th>ERR3148155</th>\n      <th>ERR3148159</th>\n      <th>ERR3148163</th>\n      <th>ERR3148164</th>\n      <th>ERR3148166</th>\n      <th>...</th>\n      <th>SRR9224941</th>\n      <th>SRR9224942</th>\n      <th>SRR9224952</th>\n      <th>SRR9224958</th>\n      <th>SRR9224968</th>\n      <th>SRR9224981</th>\n      <th>SRR9224985</th>\n      <th>SRR9224986</th>\n      <th>SRR9224992</th>\n      <th>SRR9224997</th>\n    </tr>\n    <tr>\n      <th>CHROM.POS</th>\n      <th></th>\n      <th></th>\n      <th></th>\n      <th></th>\n      <th></th>\n      <th></th>\n      <th></th>\n      <th></th>\n      <th></th>\n      <th></th>\n      <th></th>\n      <th></th>\n      <th></th>\n      <th></th>\n      <th></th>\n      <th></th>\n      <th></th>\n      <th></th>\n      <th></th>\n      <th></th>\n      <th></th>\n    </tr>\n  </thead>\n  <tbody>\n    <tr>\n      <th>NC000962_3.11</th>\n      <td>A/A</td>\n      <td>A/A</td>\n      <td>A/A</td>\n      <td>A/A</td>\n      <td>A/A</td>\n      <td>A/A</td>\n      <td>A/A</td>\n      <td>A/A</td>\n      <td>A/A</td>\n      <td>A/A</td>\n      <td>...</td>\n      <td>A/A</td>\n      <td>A/A</td>\n      <td>A/A</td>\n      <td>A/A</td>\n      <td>A/A</td>\n      <td>A/A</td>\n      <td>A/A</td>\n      <td>A/A</td>\n      <td>A/A</td>\n      <td>A/A</td>\n    </tr>\n    <tr>\n      <th>NC000962_3.78</th>\n      <td>T/T</td>\n      <td>T/T</td>\n      <td>T/T</td>\n      <td>T/T</td>\n      <td>T/T</td>\n      <td>T/T</td>\n      <td>T/T</td>\n      <td>T/T</td>\n      <td>T/T</td>\n      <td>T/T</td>\n      <td>...</td>\n      <td>T/T</td>\n      <td>T/T</td>\n      <td>T/T</td>\n      <td>T/T</td>\n      <td>T/T</td>\n      <td>T/T</td>\n      <td>T/T</td>\n      <td>T/T</td>\n      <td>T/T</td>\n      <td>T/T</td>\n    </tr>\n    <tr>\n      <th>NC000962_3.80</th>\n      <td>A/A</td>\n      <td>A/A</td>\n      <td>A/A</td>\n      <td>A/A</td>\n      <td>A/A</td>\n      <td>A/A</td>\n      <td>A/A</td>\n      <td>A/A</td>\n      <td>A/A</td>\n      <td>A/A</td>\n      <td>...</td>\n      <td>A/A</td>\n      <td>A/A</td>\n      <td>A/A</td>\n      <td>A/A</td>\n      <td>A/A</td>\n      <td>A/A</td>\n      <td>A/A</td>\n      <td>A/A</td>\n      <td>A/A</td>\n      <td>A/A</td>\n    </tr>\n    <tr>\n      <th>NC000962_3.82</th>\n      <td>G/G</td>\n      <td>G/G</td>\n      <td>G/G</td>\n      <td>G/G</td>\n      <td>G/G</td>\n      <td>G/G</td>\n      <td>G/G</td>\n      <td>G/G</td>\n      <td>G/G</td>\n      <td>G/G</td>\n      <td>...</td>\n      <td>G/G</td>\n      <td>G/G</td>\n      <td>G/G</td>\n      <td>G/G</td>\n      <td>G/G</td>\n      <td>G/G</td>\n      <td>G/G</td>\n      <td>G/G</td>\n      <td>G/G</td>\n      <td>G/G</td>\n    </tr>\n    <tr>\n      <th>NC000962_3.88</th>\n      <td>C/C</td>\n      <td>C/C</td>\n      <td>C/C</td>\n      <td>C/C</td>\n      <td>C/C</td>\n      <td>C/C</td>\n      <td>C/C</td>\n      <td>C/C</td>\n      <td>C/C</td>\n      <td>C/C</td>\n      <td>...</td>\n      <td>C/C</td>\n      <td>C/C</td>\n      <td>C/C</td>\n      <td>C/C</td>\n      <td>C/C</td>\n      <td>C/C</td>\n      <td>C/C</td>\n      <td>C/C</td>\n      <td>C/C</td>\n      <td>C/C</td>\n    </tr>\n  </tbody>\n</table>\n<p>5 rows × 301 columns</p>\n</div>"
     },
     "execution_count": 227,
     "metadata": {},
     "output_type": "execute_result"
    }
   ],
   "source": [
    "vcf_df.columns = list(map (lambda column: column.split(\".\")[0], vcf_df.columns))\n",
    "vcf_df.head()"
   ],
   "metadata": {
    "collapsed": false,
    "pycharm": {
     "name": "#%%\n"
    }
   }
  },
  {
   "cell_type": "code",
   "execution_count": 228,
   "outputs": [
    {
     "data": {
      "text/plain": "CHROM.POS  NC000962_3.11 NC000962_3.78 NC000962_3.80 NC000962_3.82  \\\nERR3129939           A/A           T/T           A/A           G/G   \nERR3148148           A/A           T/T           A/A           G/G   \nERR3148149           A/A           T/T           A/A           G/G   \nERR3148151           A/A           T/T           A/A           G/G   \nERR3148153           A/A           T/T           A/A           G/G   \n\nCHROM.POS  NC000962_3.88 NC000962_3.102 NC000962_3.104 NC000962_3.108  \\\nERR3129939           C/C            T/T            A/A            C/C   \nERR3148148           C/C            T/T            A/A            C/C   \nERR3148149           C/C            T/T            A/A            C/C   \nERR3148151           C/C            T/T            A/A            C/C   \nERR3148153           C/C            T/T            A/A            C/C   \n\nCHROM.POS  NC000962_3.117 NC000962_3.120  ... NC000962_3.4410066  \\\nERR3129939            G/G            G/G  ...                T/T   \nERR3148148            G/G            G/G  ...                T/T   \nERR3148149            G/G            G/G  ...                T/T   \nERR3148151            G/G            G/G  ...                T/T   \nERR3148153            G/G            G/G  ...                T/T   \n\nCHROM.POS  NC000962_3.4410070 NC000962_3.4410276 NC000962_3.4410309  \\\nERR3129939                G/G                G/G                G/G   \nERR3148148                G/G                G/G                G/G   \nERR3148149                G/G                G/G                G/G   \nERR3148151                G/G                G/G                G/G   \nERR3148153                G/G                G/G                G/G   \n\nCHROM.POS  NC000962_3.4410847 NC000962_3.4411128 NC000962_3.4411245  \\\nERR3129939                C/C                G/G                T/T   \nERR3148148                C/C                G/G                T/T   \nERR3148149                C/C                G/G                T/T   \nERR3148151                C/C                G/G                T/T   \nERR3148153                C/C                G/G                T/T   \n\nCHROM.POS  NC000962_3.4411286 NC000962_3.4411405 NC000962_3.4411518  \nERR3129939                G/G                G/G                C/C  \nERR3148148                G/G                G/G                C/C  \nERR3148149                G/G                G/G                C/C  \nERR3148151                G/G                G/G                C/C  \nERR3148153                G/G                G/G                C/C  \n\n[5 rows x 134256 columns]",
      "text/html": "<div>\n<style scoped>\n    .dataframe tbody tr th:only-of-type {\n        vertical-align: middle;\n    }\n\n    .dataframe tbody tr th {\n        vertical-align: top;\n    }\n\n    .dataframe thead th {\n        text-align: right;\n    }\n</style>\n<table border=\"1\" class=\"dataframe\">\n  <thead>\n    <tr style=\"text-align: right;\">\n      <th>CHROM.POS</th>\n      <th>NC000962_3.11</th>\n      <th>NC000962_3.78</th>\n      <th>NC000962_3.80</th>\n      <th>NC000962_3.82</th>\n      <th>NC000962_3.88</th>\n      <th>NC000962_3.102</th>\n      <th>NC000962_3.104</th>\n      <th>NC000962_3.108</th>\n      <th>NC000962_3.117</th>\n      <th>NC000962_3.120</th>\n      <th>...</th>\n      <th>NC000962_3.4410066</th>\n      <th>NC000962_3.4410070</th>\n      <th>NC000962_3.4410276</th>\n      <th>NC000962_3.4410309</th>\n      <th>NC000962_3.4410847</th>\n      <th>NC000962_3.4411128</th>\n      <th>NC000962_3.4411245</th>\n      <th>NC000962_3.4411286</th>\n      <th>NC000962_3.4411405</th>\n      <th>NC000962_3.4411518</th>\n    </tr>\n  </thead>\n  <tbody>\n    <tr>\n      <th>ERR3129939</th>\n      <td>A/A</td>\n      <td>T/T</td>\n      <td>A/A</td>\n      <td>G/G</td>\n      <td>C/C</td>\n      <td>T/T</td>\n      <td>A/A</td>\n      <td>C/C</td>\n      <td>G/G</td>\n      <td>G/G</td>\n      <td>...</td>\n      <td>T/T</td>\n      <td>G/G</td>\n      <td>G/G</td>\n      <td>G/G</td>\n      <td>C/C</td>\n      <td>G/G</td>\n      <td>T/T</td>\n      <td>G/G</td>\n      <td>G/G</td>\n      <td>C/C</td>\n    </tr>\n    <tr>\n      <th>ERR3148148</th>\n      <td>A/A</td>\n      <td>T/T</td>\n      <td>A/A</td>\n      <td>G/G</td>\n      <td>C/C</td>\n      <td>T/T</td>\n      <td>A/A</td>\n      <td>C/C</td>\n      <td>G/G</td>\n      <td>G/G</td>\n      <td>...</td>\n      <td>T/T</td>\n      <td>G/G</td>\n      <td>G/G</td>\n      <td>G/G</td>\n      <td>C/C</td>\n      <td>G/G</td>\n      <td>T/T</td>\n      <td>G/G</td>\n      <td>G/G</td>\n      <td>C/C</td>\n    </tr>\n    <tr>\n      <th>ERR3148149</th>\n      <td>A/A</td>\n      <td>T/T</td>\n      <td>A/A</td>\n      <td>G/G</td>\n      <td>C/C</td>\n      <td>T/T</td>\n      <td>A/A</td>\n      <td>C/C</td>\n      <td>G/G</td>\n      <td>G/G</td>\n      <td>...</td>\n      <td>T/T</td>\n      <td>G/G</td>\n      <td>G/G</td>\n      <td>G/G</td>\n      <td>C/C</td>\n      <td>G/G</td>\n      <td>T/T</td>\n      <td>G/G</td>\n      <td>G/G</td>\n      <td>C/C</td>\n    </tr>\n    <tr>\n      <th>ERR3148151</th>\n      <td>A/A</td>\n      <td>T/T</td>\n      <td>A/A</td>\n      <td>G/G</td>\n      <td>C/C</td>\n      <td>T/T</td>\n      <td>A/A</td>\n      <td>C/C</td>\n      <td>G/G</td>\n      <td>G/G</td>\n      <td>...</td>\n      <td>T/T</td>\n      <td>G/G</td>\n      <td>G/G</td>\n      <td>G/G</td>\n      <td>C/C</td>\n      <td>G/G</td>\n      <td>T/T</td>\n      <td>G/G</td>\n      <td>G/G</td>\n      <td>C/C</td>\n    </tr>\n    <tr>\n      <th>ERR3148153</th>\n      <td>A/A</td>\n      <td>T/T</td>\n      <td>A/A</td>\n      <td>G/G</td>\n      <td>C/C</td>\n      <td>T/T</td>\n      <td>A/A</td>\n      <td>C/C</td>\n      <td>G/G</td>\n      <td>G/G</td>\n      <td>...</td>\n      <td>T/T</td>\n      <td>G/G</td>\n      <td>G/G</td>\n      <td>G/G</td>\n      <td>C/C</td>\n      <td>G/G</td>\n      <td>T/T</td>\n      <td>G/G</td>\n      <td>G/G</td>\n      <td>C/C</td>\n    </tr>\n  </tbody>\n</table>\n<p>5 rows × 134256 columns</p>\n</div>"
     },
     "execution_count": 228,
     "metadata": {},
     "output_type": "execute_result"
    }
   ],
   "source": [
    "vcf_snps_df = vcf_df.transpose()\n",
    "vcf_snps_df.head()"
   ],
   "metadata": {
    "collapsed": false,
    "pycharm": {
     "name": "#%%\n"
    }
   }
  },
  {
   "cell_type": "code",
   "execution_count": 229,
   "outputs": [],
   "source": [
    "\n",
    "vcf_snps_df.to_json(\"../data/processed/vcf_snps_df.json\")\n",
    "vcf_snps_df.to_csv(\"../data/processed/vcf_snps_df.csv\")\n"
   ],
   "metadata": {
    "collapsed": false,
    "pycharm": {
     "name": "#%%\n"
    }
   }
  },
  {
   "cell_type": "code",
   "execution_count": 196,
   "outputs": [
    {
     "data": {
      "text/plain": "           NC000962_3.11 NC000962_3.78 NC000962_3.80 NC000962_3.82  \\\nERR3129939           A/A           T/T           A/A           G/G   \nERR3148148           A/A           T/T           A/A           G/G   \nERR3148149           A/A           T/T           A/A           G/G   \nERR3148151           A/A           T/T           A/A           G/G   \nERR3148153           A/A           T/T           A/A           G/G   \n\n           NC000962_3.88 NC000962_3.102 NC000962_3.104 NC000962_3.108  \\\nERR3129939           C/C            T/T            A/A            C/C   \nERR3148148           C/C            T/T            A/A            C/C   \nERR3148149           C/C            T/T            A/A            C/C   \nERR3148151           C/C            T/T            A/A            C/C   \nERR3148153           C/C            T/T            A/A            C/C   \n\n           NC000962_3.117 NC000962_3.120  ... NC000962_3.4410066  \\\nERR3129939            G/G            G/G  ...                T/T   \nERR3148148            G/G            G/G  ...                T/T   \nERR3148149            G/G            G/G  ...                T/T   \nERR3148151            G/G            G/G  ...                T/T   \nERR3148153            G/G            G/G  ...                T/T   \n\n           NC000962_3.4410070 NC000962_3.4410276 NC000962_3.4410309  \\\nERR3129939                G/G                G/G                G/G   \nERR3148148                G/G                G/G                G/G   \nERR3148149                G/G                G/G                G/G   \nERR3148151                G/G                G/G                G/G   \nERR3148153                G/G                G/G                G/G   \n\n           NC000962_3.4410847 NC000962_3.4411128 NC000962_3.4411245  \\\nERR3129939                C/C                G/G                T/T   \nERR3148148                C/C                G/G                T/T   \nERR3148149                C/C                G/G                T/T   \nERR3148151                C/C                G/G                T/T   \nERR3148153                C/C                G/G                T/T   \n\n           NC000962_3.4411286 NC000962_3.4411405 NC000962_3.4411518  \nERR3129939                G/G                G/G                C/C  \nERR3148148                G/G                G/G                C/C  \nERR3148149                G/G                G/G                C/C  \nERR3148151                G/G                G/G                C/C  \nERR3148153                G/G                G/G                C/C  \n\n[5 rows x 134256 columns]",
      "text/html": "<div>\n<style scoped>\n    .dataframe tbody tr th:only-of-type {\n        vertical-align: middle;\n    }\n\n    .dataframe tbody tr th {\n        vertical-align: top;\n    }\n\n    .dataframe thead th {\n        text-align: right;\n    }\n</style>\n<table border=\"1\" class=\"dataframe\">\n  <thead>\n    <tr style=\"text-align: right;\">\n      <th></th>\n      <th>NC000962_3.11</th>\n      <th>NC000962_3.78</th>\n      <th>NC000962_3.80</th>\n      <th>NC000962_3.82</th>\n      <th>NC000962_3.88</th>\n      <th>NC000962_3.102</th>\n      <th>NC000962_3.104</th>\n      <th>NC000962_3.108</th>\n      <th>NC000962_3.117</th>\n      <th>NC000962_3.120</th>\n      <th>...</th>\n      <th>NC000962_3.4410066</th>\n      <th>NC000962_3.4410070</th>\n      <th>NC000962_3.4410276</th>\n      <th>NC000962_3.4410309</th>\n      <th>NC000962_3.4410847</th>\n      <th>NC000962_3.4411128</th>\n      <th>NC000962_3.4411245</th>\n      <th>NC000962_3.4411286</th>\n      <th>NC000962_3.4411405</th>\n      <th>NC000962_3.4411518</th>\n    </tr>\n  </thead>\n  <tbody>\n    <tr>\n      <th>ERR3129939</th>\n      <td>A/A</td>\n      <td>T/T</td>\n      <td>A/A</td>\n      <td>G/G</td>\n      <td>C/C</td>\n      <td>T/T</td>\n      <td>A/A</td>\n      <td>C/C</td>\n      <td>G/G</td>\n      <td>G/G</td>\n      <td>...</td>\n      <td>T/T</td>\n      <td>G/G</td>\n      <td>G/G</td>\n      <td>G/G</td>\n      <td>C/C</td>\n      <td>G/G</td>\n      <td>T/T</td>\n      <td>G/G</td>\n      <td>G/G</td>\n      <td>C/C</td>\n    </tr>\n    <tr>\n      <th>ERR3148148</th>\n      <td>A/A</td>\n      <td>T/T</td>\n      <td>A/A</td>\n      <td>G/G</td>\n      <td>C/C</td>\n      <td>T/T</td>\n      <td>A/A</td>\n      <td>C/C</td>\n      <td>G/G</td>\n      <td>G/G</td>\n      <td>...</td>\n      <td>T/T</td>\n      <td>G/G</td>\n      <td>G/G</td>\n      <td>G/G</td>\n      <td>C/C</td>\n      <td>G/G</td>\n      <td>T/T</td>\n      <td>G/G</td>\n      <td>G/G</td>\n      <td>C/C</td>\n    </tr>\n    <tr>\n      <th>ERR3148149</th>\n      <td>A/A</td>\n      <td>T/T</td>\n      <td>A/A</td>\n      <td>G/G</td>\n      <td>C/C</td>\n      <td>T/T</td>\n      <td>A/A</td>\n      <td>C/C</td>\n      <td>G/G</td>\n      <td>G/G</td>\n      <td>...</td>\n      <td>T/T</td>\n      <td>G/G</td>\n      <td>G/G</td>\n      <td>G/G</td>\n      <td>C/C</td>\n      <td>G/G</td>\n      <td>T/T</td>\n      <td>G/G</td>\n      <td>G/G</td>\n      <td>C/C</td>\n    </tr>\n    <tr>\n      <th>ERR3148151</th>\n      <td>A/A</td>\n      <td>T/T</td>\n      <td>A/A</td>\n      <td>G/G</td>\n      <td>C/C</td>\n      <td>T/T</td>\n      <td>A/A</td>\n      <td>C/C</td>\n      <td>G/G</td>\n      <td>G/G</td>\n      <td>...</td>\n      <td>T/T</td>\n      <td>G/G</td>\n      <td>G/G</td>\n      <td>G/G</td>\n      <td>C/C</td>\n      <td>G/G</td>\n      <td>T/T</td>\n      <td>G/G</td>\n      <td>G/G</td>\n      <td>C/C</td>\n    </tr>\n    <tr>\n      <th>ERR3148153</th>\n      <td>A/A</td>\n      <td>T/T</td>\n      <td>A/A</td>\n      <td>G/G</td>\n      <td>C/C</td>\n      <td>T/T</td>\n      <td>A/A</td>\n      <td>C/C</td>\n      <td>G/G</td>\n      <td>G/G</td>\n      <td>...</td>\n      <td>T/T</td>\n      <td>G/G</td>\n      <td>G/G</td>\n      <td>G/G</td>\n      <td>C/C</td>\n      <td>G/G</td>\n      <td>T/T</td>\n      <td>G/G</td>\n      <td>G/G</td>\n      <td>C/C</td>\n    </tr>\n  </tbody>\n</table>\n<p>5 rows × 134256 columns</p>\n</div>"
     },
     "execution_count": 196,
     "metadata": {},
     "output_type": "execute_result"
    }
   ],
   "source": [
    "\n",
    "vcf_snps_df = pd.read_json(\"../data/processed/vcf_snps_df.json\")\n",
    "\n",
    "vcf_snps_df.head()"
   ],
   "metadata": {
    "collapsed": false,
    "pycharm": {
     "name": "#%%\n"
    }
   }
  },
  {
   "cell_type": "code",
   "execution_count": 117,
   "outputs": [
    {
     "data": {
      "text/plain": "['A/A',\n 'T/T',\n 'G/G',\n 'C/C',\n 'G|G',\n 'A|A',\n './.',\n 'G/T',\n 'C|G',\n 'T|T',\n 'A|G',\n 'G|A',\n 'C|T',\n 'T|G',\n 'G|C',\n 'T/C',\n 'T|C',\n 'A|T',\n 'G|T',\n 'G|*',\n 'A|*',\n 'C|*',\n '*|*',\n 'C/*',\n 'G/C',\n 'C|C',\n 'A/T',\n 'T/G',\n 'C|A',\n 'A|C',\n 'C/T',\n 'T|A',\n 'A/C',\n 'A/*',\n '.|.',\n 'C/A',\n 'G/A',\n 'C/G',\n '*/*',\n 'G/*',\n 'A/G']"
     },
     "execution_count": 117,
     "metadata": {},
     "output_type": "execute_result"
    }
   ],
   "source": [
    "# list(vcf_df['ERR3129939'].unique())"
   ],
   "metadata": {
    "collapsed": false,
    "pycharm": {
     "name": "#%%\n"
    }
   }
  },
  {
   "cell_type": "code",
   "execution_count": 230,
   "outputs": [],
   "source": [
    "def split_allele_pair(allele_pair):\n",
    "    first_allele = list(allele_pair)[0]\n",
    "    second_allele = list(allele_pair)[-1]\n",
    "    return [first_allele, second_allele]\n",
    "\n",
    "def compare_alleles(allele_pair):\n",
    "    first_allele, second_allele = split_allele_pair(allele_pair)\n",
    "    return 1 if first_allele != second_allele else 0\n",
    "\n",
    "# NOTE Finalize the rules for reducing the Allele patterns to Homozygous and Heterozygous\n",
    "def is_heterozygous(allele_pair):\n",
    "    return compare_alleles(split_allele_pair(allele_pair))\n",
    "\n",
    "\n",
    "# list(map(lambda allele_pair: is_heterozygous(allele_pair),\n",
    "#          vcf_df['ERR3129939'].unique()))"
   ],
   "metadata": {
    "collapsed": false,
    "pycharm": {
     "name": "#%%\n"
    }
   }
  },
  {
   "cell_type": "code",
   "execution_count": 163,
   "outputs": [
    {
     "data": {
      "text/plain": "           NC000962_3.11 NC000962_3.78 NC000962_3.80 NC000962_3.82  \\\nERR3129939           A/A           T/T           A/A           G/G   \nERR3148148           A/A           T/T           A/A           G/G   \nERR3148149           A/A           T/T           A/A           G/G   \nERR3148151           A/A           T/T           A/A           G/G   \nERR3148153           A/A           T/T           A/A           G/G   \nERR3148155           A/A           T/T           A/A           G/G   \nERR3148159           A/A           T/T           A/A           G/G   \nERR3148163           A/A           T/T           A/A           G/G   \nERR3148164           A/A           T/T           A/A           G/G   \nERR3148166           A/A           T/T           A/A           G/G   \n\n           NC000962_3.88 NC000962_3.102 NC000962_3.104 NC000962_3.108  \\\nERR3129939           C/C            T/T            A/A            C/C   \nERR3148148           C/C            T/T            A/A            C/C   \nERR3148149           C/C            T/T            A/A            C/C   \nERR3148151           C/C            T/T            A/A            C/C   \nERR3148153           C/C            T/T            A/A            C/C   \nERR3148155           C/C            T/T            A/A            C/C   \nERR3148159           C/C            T/T            A/A            C/C   \nERR3148163           C/C            T/T            A/A            C/C   \nERR3148164           C/C            T/T            A/A            C/C   \nERR3148166           C/C            T/T            A/A            C/C   \n\n           NC000962_3.117 NC000962_3.120  \nERR3129939            G/G            G/G  \nERR3148148            G/G            G/G  \nERR3148149            G/G            G/G  \nERR3148151            G/G            G/G  \nERR3148153            G/G            G/G  \nERR3148155            G/G            G/G  \nERR3148159            G/G            G/G  \nERR3148163            G/G            G/G  \nERR3148164            G/G            G/G  \nERR3148166            G/G            G/G  ",
      "text/html": "<div>\n<style scoped>\n    .dataframe tbody tr th:only-of-type {\n        vertical-align: middle;\n    }\n\n    .dataframe tbody tr th {\n        vertical-align: top;\n    }\n\n    .dataframe thead th {\n        text-align: right;\n    }\n</style>\n<table border=\"1\" class=\"dataframe\">\n  <thead>\n    <tr style=\"text-align: right;\">\n      <th></th>\n      <th>NC000962_3.11</th>\n      <th>NC000962_3.78</th>\n      <th>NC000962_3.80</th>\n      <th>NC000962_3.82</th>\n      <th>NC000962_3.88</th>\n      <th>NC000962_3.102</th>\n      <th>NC000962_3.104</th>\n      <th>NC000962_3.108</th>\n      <th>NC000962_3.117</th>\n      <th>NC000962_3.120</th>\n    </tr>\n  </thead>\n  <tbody>\n    <tr>\n      <th>ERR3129939</th>\n      <td>A/A</td>\n      <td>T/T</td>\n      <td>A/A</td>\n      <td>G/G</td>\n      <td>C/C</td>\n      <td>T/T</td>\n      <td>A/A</td>\n      <td>C/C</td>\n      <td>G/G</td>\n      <td>G/G</td>\n    </tr>\n    <tr>\n      <th>ERR3148148</th>\n      <td>A/A</td>\n      <td>T/T</td>\n      <td>A/A</td>\n      <td>G/G</td>\n      <td>C/C</td>\n      <td>T/T</td>\n      <td>A/A</td>\n      <td>C/C</td>\n      <td>G/G</td>\n      <td>G/G</td>\n    </tr>\n    <tr>\n      <th>ERR3148149</th>\n      <td>A/A</td>\n      <td>T/T</td>\n      <td>A/A</td>\n      <td>G/G</td>\n      <td>C/C</td>\n      <td>T/T</td>\n      <td>A/A</td>\n      <td>C/C</td>\n      <td>G/G</td>\n      <td>G/G</td>\n    </tr>\n    <tr>\n      <th>ERR3148151</th>\n      <td>A/A</td>\n      <td>T/T</td>\n      <td>A/A</td>\n      <td>G/G</td>\n      <td>C/C</td>\n      <td>T/T</td>\n      <td>A/A</td>\n      <td>C/C</td>\n      <td>G/G</td>\n      <td>G/G</td>\n    </tr>\n    <tr>\n      <th>ERR3148153</th>\n      <td>A/A</td>\n      <td>T/T</td>\n      <td>A/A</td>\n      <td>G/G</td>\n      <td>C/C</td>\n      <td>T/T</td>\n      <td>A/A</td>\n      <td>C/C</td>\n      <td>G/G</td>\n      <td>G/G</td>\n    </tr>\n    <tr>\n      <th>ERR3148155</th>\n      <td>A/A</td>\n      <td>T/T</td>\n      <td>A/A</td>\n      <td>G/G</td>\n      <td>C/C</td>\n      <td>T/T</td>\n      <td>A/A</td>\n      <td>C/C</td>\n      <td>G/G</td>\n      <td>G/G</td>\n    </tr>\n    <tr>\n      <th>ERR3148159</th>\n      <td>A/A</td>\n      <td>T/T</td>\n      <td>A/A</td>\n      <td>G/G</td>\n      <td>C/C</td>\n      <td>T/T</td>\n      <td>A/A</td>\n      <td>C/C</td>\n      <td>G/G</td>\n      <td>G/G</td>\n    </tr>\n    <tr>\n      <th>ERR3148163</th>\n      <td>A/A</td>\n      <td>T/T</td>\n      <td>A/A</td>\n      <td>G/G</td>\n      <td>C/C</td>\n      <td>T/T</td>\n      <td>A/A</td>\n      <td>C/C</td>\n      <td>G/G</td>\n      <td>G/G</td>\n    </tr>\n    <tr>\n      <th>ERR3148164</th>\n      <td>A/A</td>\n      <td>T/T</td>\n      <td>A/A</td>\n      <td>G/G</td>\n      <td>C/C</td>\n      <td>T/T</td>\n      <td>A/A</td>\n      <td>C/C</td>\n      <td>G/G</td>\n      <td>G/G</td>\n    </tr>\n    <tr>\n      <th>ERR3148166</th>\n      <td>A/A</td>\n      <td>T/T</td>\n      <td>A/A</td>\n      <td>G/G</td>\n      <td>C/C</td>\n      <td>T/T</td>\n      <td>A/A</td>\n      <td>C/C</td>\n      <td>G/G</td>\n      <td>G/G</td>\n    </tr>\n  </tbody>\n</table>\n</div>"
     },
     "execution_count": 163,
     "metadata": {},
     "output_type": "execute_result"
    }
   ],
   "source": [
    "# temp_df = vcf_snps_df.iloc[:10, :10]\n",
    "# temp_df"
   ],
   "metadata": {
    "collapsed": false,
    "pycharm": {
     "name": "#%%\n"
    }
   }
  },
  {
   "cell_type": "code",
   "execution_count": 164,
   "outputs": [
    {
     "data": {
      "text/plain": "           NC000962_3.11 NC000962_3.78 NC000962_3.80 NC000962_3.82  \\\nERR3129939             0             0             0             0   \nERR3148148             0             0             0             0   \nERR3148149             0             0             0             0   \nERR3148151             0             0             0             0   \nERR3148153             0             0             0             0   \nERR3148155             0             0             0             0   \nERR3148159             0             0             0             0   \nERR3148163             0             0             0             0   \nERR3148164             0             0             0             0   \nERR3148166             0             0             0             0   \n\n           NC000962_3.88 NC000962_3.102 NC000962_3.104 NC000962_3.108  \\\nERR3129939             0              0              0              0   \nERR3148148             0              0              0              0   \nERR3148149             0              0              0              0   \nERR3148151             0              0              0              0   \nERR3148153             0              0              0              0   \nERR3148155             0              0              0              0   \nERR3148159             0              0              0              0   \nERR3148163             0              0              0              0   \nERR3148164             0              0              0              0   \nERR3148166             0              0              0              0   \n\n           NC000962_3.117 NC000962_3.120  \nERR3129939              0              0  \nERR3148148              0              0  \nERR3148149              0              0  \nERR3148151              0              0  \nERR3148153              0              0  \nERR3148155              0              0  \nERR3148159              0              0  \nERR3148163              0              0  \nERR3148164              0              0  \nERR3148166              0              0  ",
      "text/html": "<div>\n<style scoped>\n    .dataframe tbody tr th:only-of-type {\n        vertical-align: middle;\n    }\n\n    .dataframe tbody tr th {\n        vertical-align: top;\n    }\n\n    .dataframe thead th {\n        text-align: right;\n    }\n</style>\n<table border=\"1\" class=\"dataframe\">\n  <thead>\n    <tr style=\"text-align: right;\">\n      <th></th>\n      <th>NC000962_3.11</th>\n      <th>NC000962_3.78</th>\n      <th>NC000962_3.80</th>\n      <th>NC000962_3.82</th>\n      <th>NC000962_3.88</th>\n      <th>NC000962_3.102</th>\n      <th>NC000962_3.104</th>\n      <th>NC000962_3.108</th>\n      <th>NC000962_3.117</th>\n      <th>NC000962_3.120</th>\n    </tr>\n  </thead>\n  <tbody>\n    <tr>\n      <th>ERR3129939</th>\n      <td>0</td>\n      <td>0</td>\n      <td>0</td>\n      <td>0</td>\n      <td>0</td>\n      <td>0</td>\n      <td>0</td>\n      <td>0</td>\n      <td>0</td>\n      <td>0</td>\n    </tr>\n    <tr>\n      <th>ERR3148148</th>\n      <td>0</td>\n      <td>0</td>\n      <td>0</td>\n      <td>0</td>\n      <td>0</td>\n      <td>0</td>\n      <td>0</td>\n      <td>0</td>\n      <td>0</td>\n      <td>0</td>\n    </tr>\n    <tr>\n      <th>ERR3148149</th>\n      <td>0</td>\n      <td>0</td>\n      <td>0</td>\n      <td>0</td>\n      <td>0</td>\n      <td>0</td>\n      <td>0</td>\n      <td>0</td>\n      <td>0</td>\n      <td>0</td>\n    </tr>\n    <tr>\n      <th>ERR3148151</th>\n      <td>0</td>\n      <td>0</td>\n      <td>0</td>\n      <td>0</td>\n      <td>0</td>\n      <td>0</td>\n      <td>0</td>\n      <td>0</td>\n      <td>0</td>\n      <td>0</td>\n    </tr>\n    <tr>\n      <th>ERR3148153</th>\n      <td>0</td>\n      <td>0</td>\n      <td>0</td>\n      <td>0</td>\n      <td>0</td>\n      <td>0</td>\n      <td>0</td>\n      <td>0</td>\n      <td>0</td>\n      <td>0</td>\n    </tr>\n    <tr>\n      <th>ERR3148155</th>\n      <td>0</td>\n      <td>0</td>\n      <td>0</td>\n      <td>0</td>\n      <td>0</td>\n      <td>0</td>\n      <td>0</td>\n      <td>0</td>\n      <td>0</td>\n      <td>0</td>\n    </tr>\n    <tr>\n      <th>ERR3148159</th>\n      <td>0</td>\n      <td>0</td>\n      <td>0</td>\n      <td>0</td>\n      <td>0</td>\n      <td>0</td>\n      <td>0</td>\n      <td>0</td>\n      <td>0</td>\n      <td>0</td>\n    </tr>\n    <tr>\n      <th>ERR3148163</th>\n      <td>0</td>\n      <td>0</td>\n      <td>0</td>\n      <td>0</td>\n      <td>0</td>\n      <td>0</td>\n      <td>0</td>\n      <td>0</td>\n      <td>0</td>\n      <td>0</td>\n    </tr>\n    <tr>\n      <th>ERR3148164</th>\n      <td>0</td>\n      <td>0</td>\n      <td>0</td>\n      <td>0</td>\n      <td>0</td>\n      <td>0</td>\n      <td>0</td>\n      <td>0</td>\n      <td>0</td>\n      <td>0</td>\n    </tr>\n    <tr>\n      <th>ERR3148166</th>\n      <td>0</td>\n      <td>0</td>\n      <td>0</td>\n      <td>0</td>\n      <td>0</td>\n      <td>0</td>\n      <td>0</td>\n      <td>0</td>\n      <td>0</td>\n      <td>0</td>\n    </tr>\n  </tbody>\n</table>\n</div>"
     },
     "execution_count": 164,
     "metadata": {},
     "output_type": "execute_result"
    }
   ],
   "source": [
    "# temp_df.apply(is_heterozygous, result_type='broadcast')"
   ],
   "metadata": {
    "collapsed": false,
    "pycharm": {
     "name": "#%%\n"
    }
   }
  },
  {
   "cell_type": "code",
   "execution_count": 231,
   "outputs": [
    {
     "data": {
      "text/plain": "CHROM.POS  NC000962_3.11 NC000962_3.78 NC000962_3.80 NC000962_3.82  \\\nERR3129939             0             0             0             0   \nERR3148148             0             0             0             0   \nERR3148149             0             0             0             0   \nERR3148151             0             0             0             0   \nERR3148153             0             0             0             0   \n\nCHROM.POS  NC000962_3.88 NC000962_3.102 NC000962_3.104 NC000962_3.108  \\\nERR3129939             0              0              0              0   \nERR3148148             0              0              0              0   \nERR3148149             0              0              0              0   \nERR3148151             0              0              0              0   \nERR3148153             0              0              0              0   \n\nCHROM.POS  NC000962_3.117 NC000962_3.120  ... NC000962_3.4410066  \\\nERR3129939              0              0  ...                  0   \nERR3148148              0              0  ...                  0   \nERR3148149              0              0  ...                  0   \nERR3148151              0              0  ...                  0   \nERR3148153              0              0  ...                  0   \n\nCHROM.POS  NC000962_3.4410070 NC000962_3.4410276 NC000962_3.4410309  \\\nERR3129939                  0                  0                  0   \nERR3148148                  0                  0                  0   \nERR3148149                  0                  0                  0   \nERR3148151                  0                  0                  0   \nERR3148153                  0                  0                  0   \n\nCHROM.POS  NC000962_3.4410847 NC000962_3.4411128 NC000962_3.4411245  \\\nERR3129939                  0                  0                  0   \nERR3148148                  0                  0                  0   \nERR3148149                  0                  0                  0   \nERR3148151                  0                  0                  0   \nERR3148153                  0                  0                  0   \n\nCHROM.POS  NC000962_3.4411286 NC000962_3.4411405 NC000962_3.4411518  \nERR3129939                  0                  0                  0  \nERR3148148                  0                  0                  0  \nERR3148149                  0                  0                  0  \nERR3148151                  0                  0                  0  \nERR3148153                  0                  0                  0  \n\n[5 rows x 134256 columns]",
      "text/html": "<div>\n<style scoped>\n    .dataframe tbody tr th:only-of-type {\n        vertical-align: middle;\n    }\n\n    .dataframe tbody tr th {\n        vertical-align: top;\n    }\n\n    .dataframe thead th {\n        text-align: right;\n    }\n</style>\n<table border=\"1\" class=\"dataframe\">\n  <thead>\n    <tr style=\"text-align: right;\">\n      <th>CHROM.POS</th>\n      <th>NC000962_3.11</th>\n      <th>NC000962_3.78</th>\n      <th>NC000962_3.80</th>\n      <th>NC000962_3.82</th>\n      <th>NC000962_3.88</th>\n      <th>NC000962_3.102</th>\n      <th>NC000962_3.104</th>\n      <th>NC000962_3.108</th>\n      <th>NC000962_3.117</th>\n      <th>NC000962_3.120</th>\n      <th>...</th>\n      <th>NC000962_3.4410066</th>\n      <th>NC000962_3.4410070</th>\n      <th>NC000962_3.4410276</th>\n      <th>NC000962_3.4410309</th>\n      <th>NC000962_3.4410847</th>\n      <th>NC000962_3.4411128</th>\n      <th>NC000962_3.4411245</th>\n      <th>NC000962_3.4411286</th>\n      <th>NC000962_3.4411405</th>\n      <th>NC000962_3.4411518</th>\n    </tr>\n  </thead>\n  <tbody>\n    <tr>\n      <th>ERR3129939</th>\n      <td>0</td>\n      <td>0</td>\n      <td>0</td>\n      <td>0</td>\n      <td>0</td>\n      <td>0</td>\n      <td>0</td>\n      <td>0</td>\n      <td>0</td>\n      <td>0</td>\n      <td>...</td>\n      <td>0</td>\n      <td>0</td>\n      <td>0</td>\n      <td>0</td>\n      <td>0</td>\n      <td>0</td>\n      <td>0</td>\n      <td>0</td>\n      <td>0</td>\n      <td>0</td>\n    </tr>\n    <tr>\n      <th>ERR3148148</th>\n      <td>0</td>\n      <td>0</td>\n      <td>0</td>\n      <td>0</td>\n      <td>0</td>\n      <td>0</td>\n      <td>0</td>\n      <td>0</td>\n      <td>0</td>\n      <td>0</td>\n      <td>...</td>\n      <td>0</td>\n      <td>0</td>\n      <td>0</td>\n      <td>0</td>\n      <td>0</td>\n      <td>0</td>\n      <td>0</td>\n      <td>0</td>\n      <td>0</td>\n      <td>0</td>\n    </tr>\n    <tr>\n      <th>ERR3148149</th>\n      <td>0</td>\n      <td>0</td>\n      <td>0</td>\n      <td>0</td>\n      <td>0</td>\n      <td>0</td>\n      <td>0</td>\n      <td>0</td>\n      <td>0</td>\n      <td>0</td>\n      <td>...</td>\n      <td>0</td>\n      <td>0</td>\n      <td>0</td>\n      <td>0</td>\n      <td>0</td>\n      <td>0</td>\n      <td>0</td>\n      <td>0</td>\n      <td>0</td>\n      <td>0</td>\n    </tr>\n    <tr>\n      <th>ERR3148151</th>\n      <td>0</td>\n      <td>0</td>\n      <td>0</td>\n      <td>0</td>\n      <td>0</td>\n      <td>0</td>\n      <td>0</td>\n      <td>0</td>\n      <td>0</td>\n      <td>0</td>\n      <td>...</td>\n      <td>0</td>\n      <td>0</td>\n      <td>0</td>\n      <td>0</td>\n      <td>0</td>\n      <td>0</td>\n      <td>0</td>\n      <td>0</td>\n      <td>0</td>\n      <td>0</td>\n    </tr>\n    <tr>\n      <th>ERR3148153</th>\n      <td>0</td>\n      <td>0</td>\n      <td>0</td>\n      <td>0</td>\n      <td>0</td>\n      <td>0</td>\n      <td>0</td>\n      <td>0</td>\n      <td>0</td>\n      <td>0</td>\n      <td>...</td>\n      <td>0</td>\n      <td>0</td>\n      <td>0</td>\n      <td>0</td>\n      <td>0</td>\n      <td>0</td>\n      <td>0</td>\n      <td>0</td>\n      <td>0</td>\n      <td>0</td>\n    </tr>\n  </tbody>\n</table>\n<p>5 rows × 134256 columns</p>\n</div>"
     },
     "execution_count": 231,
     "metadata": {},
     "output_type": "execute_result"
    }
   ],
   "source": [
    "\n",
    "binary_vcf_snps_df= vcf_snps_df.apply(is_heterozygous, result_type='broadcast')\n",
    "binary_vcf_snps_df.to_csv(\"../data/processed/binary_vcf_snps_df.csv\")\n",
    "binary_vcf_snps_df.head()"
   ],
   "metadata": {
    "collapsed": false,
    "pycharm": {
     "name": "#%%\n"
    }
   }
  },
  {
   "cell_type": "code",
   "execution_count": 176,
   "outputs": [],
   "source": [
    "\n",
    "binary_vcf_snps_df = pd.read_csv(\"../data/processed/binary_vcf_snps_df.csv\")\n",
    "binary_vcf_snps_df.head()"
   ],
   "metadata": {
    "collapsed": false,
    "pycharm": {
     "name": "#%%\n"
    }
   }
  },
  {
   "cell_type": "code",
   "execution_count": 187,
   "outputs": [],
   "source": [
    "# list(binary_vcf_snps_df['NC000962_3.78'].unique())\n",
    "\"\"\"\n",
    "ls = list(map(lambda col: list(binary_vcf_snps_df[col].unique()),\n",
    "         binary_vcf_snps_df.columns))\n",
    "\n",
    "set(tuple(row) for row in ls)\n",
    "\n",
    "\"\"\"\n"
   ],
   "metadata": {
    "collapsed": false,
    "pycharm": {
     "name": "#%%\n"
    }
   }
  },
  {
   "cell_type": "code",
   "execution_count": 260,
   "metadata": {
    "pycharm": {
     "name": "#%%\n"
    }
   },
   "outputs": [
    {
     "data": {
      "text/plain": "           NC000962_3.11 NC000962_3.78 NC000962_3.80 NC000962_3.82  \\\nERR3129939             0             0             0             0   \nERR3148148             0             0             0             0   \nERR3148149             0             0             0             0   \nERR3148151             0             0             0             0   \nERR3148153             0             0             0             0   \n\n           NC000962_3.88 NC000962_3.102 NC000962_3.104 NC000962_3.108  \\\nERR3129939             0              0              0              0   \nERR3148148             0              0              0              0   \nERR3148149             0              0              0              0   \nERR3148151             0              0              0              0   \nERR3148153             0              0              0              0   \n\n           NC000962_3.117 NC000962_3.120  ... linezolid_resistance  \\\nERR3129939              0              0  ...                  0.0   \nERR3148148              0              0  ...                  0.0   \nERR3148149              0              0  ...                  0.0   \nERR3148151              0              0  ...                  0.0   \nERR3148153              0              0  ...                  0.0   \n\n           bedaquiline_resistance clofazimine_resistance delamanid_resistance  \\\nERR3129939                    0.0                    0.0                  0.0   \nERR3148148                    0.0                    0.0                  0.0   \nERR3148149                    0.0                    0.0                  0.0   \nERR3148151                    0.0                    0.0                  0.0   \nERR3148153                    0.0                    0.0                  0.0   \n\n            main_lin          sublin          drtype MDR XDR isResistant  \nERR3129939  lineage4  lineage4.1.1.3       Sensitive                 0.0  \nERR3148148  lineage4  lineage4.1.2.1       Sensitive                 0.0  \nERR3148149  lineage4      lineage4.1  Drug-resistant                 1.0  \nERR3148151  lineage4  lineage4.1.1.3             MDR   R             1.0  \nERR3148153  lineage4  lineage4.1.2.1       Sensitive                 0.0  \n\n[5 rows x 134283 columns]",
      "text/html": "<div>\n<style scoped>\n    .dataframe tbody tr th:only-of-type {\n        vertical-align: middle;\n    }\n\n    .dataframe tbody tr th {\n        vertical-align: top;\n    }\n\n    .dataframe thead th {\n        text-align: right;\n    }\n</style>\n<table border=\"1\" class=\"dataframe\">\n  <thead>\n    <tr style=\"text-align: right;\">\n      <th></th>\n      <th>NC000962_3.11</th>\n      <th>NC000962_3.78</th>\n      <th>NC000962_3.80</th>\n      <th>NC000962_3.82</th>\n      <th>NC000962_3.88</th>\n      <th>NC000962_3.102</th>\n      <th>NC000962_3.104</th>\n      <th>NC000962_3.108</th>\n      <th>NC000962_3.117</th>\n      <th>NC000962_3.120</th>\n      <th>...</th>\n      <th>linezolid_resistance</th>\n      <th>bedaquiline_resistance</th>\n      <th>clofazimine_resistance</th>\n      <th>delamanid_resistance</th>\n      <th>main_lin</th>\n      <th>sublin</th>\n      <th>drtype</th>\n      <th>MDR</th>\n      <th>XDR</th>\n      <th>isResistant</th>\n    </tr>\n  </thead>\n  <tbody>\n    <tr>\n      <th>ERR3129939</th>\n      <td>0</td>\n      <td>0</td>\n      <td>0</td>\n      <td>0</td>\n      <td>0</td>\n      <td>0</td>\n      <td>0</td>\n      <td>0</td>\n      <td>0</td>\n      <td>0</td>\n      <td>...</td>\n      <td>0.0</td>\n      <td>0.0</td>\n      <td>0.0</td>\n      <td>0.0</td>\n      <td>lineage4</td>\n      <td>lineage4.1.1.3</td>\n      <td>Sensitive</td>\n      <td></td>\n      <td></td>\n      <td>0.0</td>\n    </tr>\n    <tr>\n      <th>ERR3148148</th>\n      <td>0</td>\n      <td>0</td>\n      <td>0</td>\n      <td>0</td>\n      <td>0</td>\n      <td>0</td>\n      <td>0</td>\n      <td>0</td>\n      <td>0</td>\n      <td>0</td>\n      <td>...</td>\n      <td>0.0</td>\n      <td>0.0</td>\n      <td>0.0</td>\n      <td>0.0</td>\n      <td>lineage4</td>\n      <td>lineage4.1.2.1</td>\n      <td>Sensitive</td>\n      <td></td>\n      <td></td>\n      <td>0.0</td>\n    </tr>\n    <tr>\n      <th>ERR3148149</th>\n      <td>0</td>\n      <td>0</td>\n      <td>0</td>\n      <td>0</td>\n      <td>0</td>\n      <td>0</td>\n      <td>0</td>\n      <td>0</td>\n      <td>0</td>\n      <td>0</td>\n      <td>...</td>\n      <td>0.0</td>\n      <td>0.0</td>\n      <td>0.0</td>\n      <td>0.0</td>\n      <td>lineage4</td>\n      <td>lineage4.1</td>\n      <td>Drug-resistant</td>\n      <td></td>\n      <td></td>\n      <td>1.0</td>\n    </tr>\n    <tr>\n      <th>ERR3148151</th>\n      <td>0</td>\n      <td>0</td>\n      <td>0</td>\n      <td>0</td>\n      <td>0</td>\n      <td>0</td>\n      <td>0</td>\n      <td>0</td>\n      <td>0</td>\n      <td>0</td>\n      <td>...</td>\n      <td>0.0</td>\n      <td>0.0</td>\n      <td>0.0</td>\n      <td>0.0</td>\n      <td>lineage4</td>\n      <td>lineage4.1.1.3</td>\n      <td>MDR</td>\n      <td>R</td>\n      <td></td>\n      <td>1.0</td>\n    </tr>\n    <tr>\n      <th>ERR3148153</th>\n      <td>0</td>\n      <td>0</td>\n      <td>0</td>\n      <td>0</td>\n      <td>0</td>\n      <td>0</td>\n      <td>0</td>\n      <td>0</td>\n      <td>0</td>\n      <td>0</td>\n      <td>...</td>\n      <td>0.0</td>\n      <td>0.0</td>\n      <td>0.0</td>\n      <td>0.0</td>\n      <td>lineage4</td>\n      <td>lineage4.1.2.1</td>\n      <td>Sensitive</td>\n      <td></td>\n      <td></td>\n      <td>0.0</td>\n    </tr>\n  </tbody>\n</table>\n<p>5 rows × 134283 columns</p>\n</div>"
     },
     "execution_count": 260,
     "metadata": {},
     "output_type": "execute_result"
    }
   ],
   "source": [
    "final_df = binary_vcf_snps_df.join(resistance_status_df)\n",
    "# cols = list(final_df.columns)\n",
    "# cols = [*cols[1:], cols[0]]\n",
    "# final_df = final_df[cols]\n",
    "final_df.head()"
   ]
  },
  {
   "cell_type": "code",
   "execution_count": null,
   "outputs": [],
   "source": [
    "\n",
    "# final_df['bedaquiline_resistance'].value_counts()"
   ],
   "metadata": {
    "collapsed": false,
    "pycharm": {
     "name": "#%%\n"
    }
   }
  },
  {
   "cell_type": "code",
   "execution_count": 261,
   "outputs": [],
   "source": [
    "final_df.to_json(\"../data/processed/final_df.json\")\n",
    "final_df.to_csv(\"../data/processed/final_df.csv\")"
   ],
   "metadata": {
    "collapsed": false,
    "pycharm": {
     "name": "#%%\n"
    }
   }
  },
  {
   "cell_type": "code",
   "execution_count": 199,
   "outputs": [],
   "source": [],
   "metadata": {
    "collapsed": false,
    "pycharm": {
     "name": "#%%\n"
    }
   }
  },
  {
   "cell_type": "code",
   "execution_count": 247,
   "outputs": [
    {
     "data": {
      "text/plain": "            NC000962_3.11  NC000962_3.78  NC000962_3.80  NC000962_3.82  \\\nERR3129939              0              0              0              0   \nERR3148148              0              0              0              0   \nERR3148149              0              0              0              0   \nERR3148151              0              0              0              0   \nERR3148153              0              0              0              0   \n\n            NC000962_3.88  NC000962_3.102  NC000962_3.104  NC000962_3.108  \\\nERR3129939              0               0               0               0   \nERR3148148              0               0               0               0   \nERR3148149              0               0               0               0   \nERR3148151              0               0               0               0   \nERR3148153              0               0               0               0   \n\n            NC000962_3.117  NC000962_3.120  ...  linezolid_resistance  \\\nERR3129939               0               0  ...                     -   \nERR3148148               0               0  ...                     -   \nERR3148149               0               0  ...                     -   \nERR3148151               0               0  ...                     -   \nERR3148153               0               0  ...                     -   \n\n            bedaquiline_resistance  clofazimine_resistance  \\\nERR3129939                       -                       -   \nERR3148148                       -                       -   \nERR3148149                       -                       -   \nERR3148151                       -                       -   \nERR3148153                       -                       -   \n\n            delamanid_resistance  main_lin          sublin          drtype  \\\nERR3129939                     -  lineage4  lineage4.1.1.3       Sensitive   \nERR3148148                     -  lineage4  lineage4.1.2.1       Sensitive   \nERR3148149                     -  lineage4      lineage4.1  Drug-resistant   \nERR3148151                     -  lineage4  lineage4.1.1.3             MDR   \nERR3148153                     -  lineage4  lineage4.1.2.1       Sensitive   \n\n            MDR  XDR  isResistant  \nERR3129939                    0.0  \nERR3148148                    0.0  \nERR3148149                    1.0  \nERR3148151    R               1.0  \nERR3148153                    0.0  \n\n[5 rows x 134283 columns]",
      "text/html": "<div>\n<style scoped>\n    .dataframe tbody tr th:only-of-type {\n        vertical-align: middle;\n    }\n\n    .dataframe tbody tr th {\n        vertical-align: top;\n    }\n\n    .dataframe thead th {\n        text-align: right;\n    }\n</style>\n<table border=\"1\" class=\"dataframe\">\n  <thead>\n    <tr style=\"text-align: right;\">\n      <th></th>\n      <th>NC000962_3.11</th>\n      <th>NC000962_3.78</th>\n      <th>NC000962_3.80</th>\n      <th>NC000962_3.82</th>\n      <th>NC000962_3.88</th>\n      <th>NC000962_3.102</th>\n      <th>NC000962_3.104</th>\n      <th>NC000962_3.108</th>\n      <th>NC000962_3.117</th>\n      <th>NC000962_3.120</th>\n      <th>...</th>\n      <th>linezolid_resistance</th>\n      <th>bedaquiline_resistance</th>\n      <th>clofazimine_resistance</th>\n      <th>delamanid_resistance</th>\n      <th>main_lin</th>\n      <th>sublin</th>\n      <th>drtype</th>\n      <th>MDR</th>\n      <th>XDR</th>\n      <th>isResistant</th>\n    </tr>\n  </thead>\n  <tbody>\n    <tr>\n      <th>ERR3129939</th>\n      <td>0</td>\n      <td>0</td>\n      <td>0</td>\n      <td>0</td>\n      <td>0</td>\n      <td>0</td>\n      <td>0</td>\n      <td>0</td>\n      <td>0</td>\n      <td>0</td>\n      <td>...</td>\n      <td>-</td>\n      <td>-</td>\n      <td>-</td>\n      <td>-</td>\n      <td>lineage4</td>\n      <td>lineage4.1.1.3</td>\n      <td>Sensitive</td>\n      <td></td>\n      <td></td>\n      <td>0.0</td>\n    </tr>\n    <tr>\n      <th>ERR3148148</th>\n      <td>0</td>\n      <td>0</td>\n      <td>0</td>\n      <td>0</td>\n      <td>0</td>\n      <td>0</td>\n      <td>0</td>\n      <td>0</td>\n      <td>0</td>\n      <td>0</td>\n      <td>...</td>\n      <td>-</td>\n      <td>-</td>\n      <td>-</td>\n      <td>-</td>\n      <td>lineage4</td>\n      <td>lineage4.1.2.1</td>\n      <td>Sensitive</td>\n      <td></td>\n      <td></td>\n      <td>0.0</td>\n    </tr>\n    <tr>\n      <th>ERR3148149</th>\n      <td>0</td>\n      <td>0</td>\n      <td>0</td>\n      <td>0</td>\n      <td>0</td>\n      <td>0</td>\n      <td>0</td>\n      <td>0</td>\n      <td>0</td>\n      <td>0</td>\n      <td>...</td>\n      <td>-</td>\n      <td>-</td>\n      <td>-</td>\n      <td>-</td>\n      <td>lineage4</td>\n      <td>lineage4.1</td>\n      <td>Drug-resistant</td>\n      <td></td>\n      <td></td>\n      <td>1.0</td>\n    </tr>\n    <tr>\n      <th>ERR3148151</th>\n      <td>0</td>\n      <td>0</td>\n      <td>0</td>\n      <td>0</td>\n      <td>0</td>\n      <td>0</td>\n      <td>0</td>\n      <td>0</td>\n      <td>0</td>\n      <td>0</td>\n      <td>...</td>\n      <td>-</td>\n      <td>-</td>\n      <td>-</td>\n      <td>-</td>\n      <td>lineage4</td>\n      <td>lineage4.1.1.3</td>\n      <td>MDR</td>\n      <td>R</td>\n      <td></td>\n      <td>1.0</td>\n    </tr>\n    <tr>\n      <th>ERR3148153</th>\n      <td>0</td>\n      <td>0</td>\n      <td>0</td>\n      <td>0</td>\n      <td>0</td>\n      <td>0</td>\n      <td>0</td>\n      <td>0</td>\n      <td>0</td>\n      <td>0</td>\n      <td>...</td>\n      <td>-</td>\n      <td>-</td>\n      <td>-</td>\n      <td>-</td>\n      <td>lineage4</td>\n      <td>lineage4.1.2.1</td>\n      <td>Sensitive</td>\n      <td></td>\n      <td></td>\n      <td>0.0</td>\n    </tr>\n  </tbody>\n</table>\n<p>5 rows × 134283 columns</p>\n</div>"
     },
     "execution_count": 247,
     "metadata": {},
     "output_type": "execute_result"
    }
   ],
   "source": [
    "# final_df = pd.read_csv(\"../data/processed/final_df.csv\")\n",
    "final_df = pd.read_json(\"../data/processed/final_df.json\")\n",
    "\n",
    "final_df.head()"
   ],
   "metadata": {
    "collapsed": false,
    "pycharm": {
     "name": "#%%\n"
    }
   }
  },
  {
   "cell_type": "code",
   "execution_count": 262,
   "metadata": {
    "pycharm": {
     "name": "#%%\n"
    }
   },
   "outputs": [],
   "source": [
    "final_df.head().to_csv(\"../data/processed/final_df_head.csv\")\n"
   ]
  },
  {
   "cell_type": "code",
   "execution_count": null,
   "metadata": {
    "pycharm": {
     "name": "#%%\n"
    }
   },
   "outputs": [],
   "source": []
  },
  {
   "cell_type": "code",
   "execution_count": null,
   "metadata": {
    "pycharm": {
     "name": "#%%\n"
    }
   },
   "outputs": [],
   "source": []
  }
 ],
 "metadata": {
  "kernelspec": {
   "display_name": "PyCharm (drug-resistance-prediction-cambiohack)",
   "language": "python",
   "name": "pycharm-f27e5417"
  },
  "language_info": {
   "codemirror_mode": {
    "name": "ipython",
    "version": 3
   },
   "file_extension": ".py",
   "mimetype": "text/x-python",
   "name": "python",
   "nbconvert_exporter": "python",
   "pygments_lexer": "ipython3",
   "version": "3.7.4"
  }
 },
 "nbformat": 4,
 "nbformat_minor": 1
}