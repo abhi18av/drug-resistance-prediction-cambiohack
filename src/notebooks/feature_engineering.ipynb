{
 "cells": [
  {
   "cell_type": "code",
   "execution_count": 188,
   "metadata": {
    "pycharm": {
     "name": "#%%\n"
    }
   },
   "outputs": [],
   "source": [
    "# Import the usual suspects.\n",
    "import pandas as pd\n",
    "import numpy as np\n",
    "import dask\n",
    "import dask.dataframe as dd\n",
    "import matplotlib.pyplot as plt\n",
    "import seaborn as sns\n",
    "\n",
    "sns.set()\n"
   ]
  },
  {
   "cell_type": "code",
   "execution_count": 23,
   "outputs": [
    {
     "data": {
      "text/plain": "                   rifampicin                         isoniazid  \\\nERR760783    rpoB_p.Ser450Leu                  katG_p.Ser315Thr   \nERR776661    rpoB_p.Ser450Leu                     ahpC_c.-81C>T   \nSRR11098556                 -                                 -   \nERR760911    rpoB_p.Ser450Leu                  katG_p.Ser315Thr   \nSRR9224969   rpoB_p.Ser450Leu  fabG1_c.-15C>T, katG_p.Ser315Thr   \n\n                 pyrazinamide  \\\nERR760783     pncA_p.Gln10Pro   \nERR776661    pncA_p.Met175Val   \nSRR11098556                 -   \nERR760911     pncA_p.Gln10Pro   \nSRR9224969   pncA_p.Gly132Ser   \n\n                                                    ethambutol  \\\nERR760783                                     embB_p.Gly406Ala   \nERR776661    embB_p.Gly406Ser, embB_p.Met306Val, embA_c.-16C>G   \nSRR11098556                                                  -   \nERR760911                                     embB_p.Gly406Ala   \nSRR9224969                                    embB_p.Met306Val   \n\n                                 streptomycin fluoroquinolones moxifloxacin  \\\nERR760783                                   -                -            -   \nERR776661    rpsL_p.Lys43Arg, rpsL_p.Lys88Gln                -            -   \nSRR11098556                                 -                -            -   \nERR760911                                   -                -            -   \nSRR9224969                                  -                -            -   \n\n            ofloxacin levofloxacin ciprofloxacin  ... cycloserine linezolid  \\\nERR760783           -            -             -  ...           -         -   \nERR776661           -            -             -  ...           -         -   \nSRR11098556         -            -             -  ...           -         -   \nERR760911           -            -             -  ...           -         -   \nSRR9224969          -            -             -  ...           -         -   \n\n            bedaquiline clofazimine delamanid  main_lin          sublin  \\\nERR760783             -           -         -  lineage4  lineage4.1.2.1   \nERR776661             -           -         -  lineage4    lineage4.3.2   \nSRR11098556           -           -         -  lineage2    lineage2.2.1   \nERR760911             -           -         -  lineage4  lineage4.1.2.1   \nSRR9224969            -           -         -  lineage4  lineage4.1.2.1   \n\n                drtype MDR XDR  \nERR760783          MDR   R      \nERR776661          MDR   R      \nSRR11098556  Sensitive          \nERR760911          MDR   R      \nSRR9224969         MDR   R      \n\n[5 rows x 26 columns]",
      "text/html": "<div>\n<style scoped>\n    .dataframe tbody tr th:only-of-type {\n        vertical-align: middle;\n    }\n\n    .dataframe tbody tr th {\n        vertical-align: top;\n    }\n\n    .dataframe thead th {\n        text-align: right;\n    }\n</style>\n<table border=\"1\" class=\"dataframe\">\n  <thead>\n    <tr style=\"text-align: right;\">\n      <th></th>\n      <th>rifampicin</th>\n      <th>isoniazid</th>\n      <th>pyrazinamide</th>\n      <th>ethambutol</th>\n      <th>streptomycin</th>\n      <th>fluoroquinolones</th>\n      <th>moxifloxacin</th>\n      <th>ofloxacin</th>\n      <th>levofloxacin</th>\n      <th>ciprofloxacin</th>\n      <th>...</th>\n      <th>cycloserine</th>\n      <th>linezolid</th>\n      <th>bedaquiline</th>\n      <th>clofazimine</th>\n      <th>delamanid</th>\n      <th>main_lin</th>\n      <th>sublin</th>\n      <th>drtype</th>\n      <th>MDR</th>\n      <th>XDR</th>\n    </tr>\n  </thead>\n  <tbody>\n    <tr>\n      <th>ERR760783</th>\n      <td>rpoB_p.Ser450Leu</td>\n      <td>katG_p.Ser315Thr</td>\n      <td>pncA_p.Gln10Pro</td>\n      <td>embB_p.Gly406Ala</td>\n      <td>-</td>\n      <td>-</td>\n      <td>-</td>\n      <td>-</td>\n      <td>-</td>\n      <td>-</td>\n      <td>...</td>\n      <td>-</td>\n      <td>-</td>\n      <td>-</td>\n      <td>-</td>\n      <td>-</td>\n      <td>lineage4</td>\n      <td>lineage4.1.2.1</td>\n      <td>MDR</td>\n      <td>R</td>\n      <td></td>\n    </tr>\n    <tr>\n      <th>ERR776661</th>\n      <td>rpoB_p.Ser450Leu</td>\n      <td>ahpC_c.-81C&gt;T</td>\n      <td>pncA_p.Met175Val</td>\n      <td>embB_p.Gly406Ser, embB_p.Met306Val, embA_c.-16C&gt;G</td>\n      <td>rpsL_p.Lys43Arg, rpsL_p.Lys88Gln</td>\n      <td>-</td>\n      <td>-</td>\n      <td>-</td>\n      <td>-</td>\n      <td>-</td>\n      <td>...</td>\n      <td>-</td>\n      <td>-</td>\n      <td>-</td>\n      <td>-</td>\n      <td>-</td>\n      <td>lineage4</td>\n      <td>lineage4.3.2</td>\n      <td>MDR</td>\n      <td>R</td>\n      <td></td>\n    </tr>\n    <tr>\n      <th>SRR11098556</th>\n      <td>-</td>\n      <td>-</td>\n      <td>-</td>\n      <td>-</td>\n      <td>-</td>\n      <td>-</td>\n      <td>-</td>\n      <td>-</td>\n      <td>-</td>\n      <td>-</td>\n      <td>...</td>\n      <td>-</td>\n      <td>-</td>\n      <td>-</td>\n      <td>-</td>\n      <td>-</td>\n      <td>lineage2</td>\n      <td>lineage2.2.1</td>\n      <td>Sensitive</td>\n      <td></td>\n      <td></td>\n    </tr>\n    <tr>\n      <th>ERR760911</th>\n      <td>rpoB_p.Ser450Leu</td>\n      <td>katG_p.Ser315Thr</td>\n      <td>pncA_p.Gln10Pro</td>\n      <td>embB_p.Gly406Ala</td>\n      <td>-</td>\n      <td>-</td>\n      <td>-</td>\n      <td>-</td>\n      <td>-</td>\n      <td>-</td>\n      <td>...</td>\n      <td>-</td>\n      <td>-</td>\n      <td>-</td>\n      <td>-</td>\n      <td>-</td>\n      <td>lineage4</td>\n      <td>lineage4.1.2.1</td>\n      <td>MDR</td>\n      <td>R</td>\n      <td></td>\n    </tr>\n    <tr>\n      <th>SRR9224969</th>\n      <td>rpoB_p.Ser450Leu</td>\n      <td>fabG1_c.-15C&gt;T, katG_p.Ser315Thr</td>\n      <td>pncA_p.Gly132Ser</td>\n      <td>embB_p.Met306Val</td>\n      <td>-</td>\n      <td>-</td>\n      <td>-</td>\n      <td>-</td>\n      <td>-</td>\n      <td>-</td>\n      <td>...</td>\n      <td>-</td>\n      <td>-</td>\n      <td>-</td>\n      <td>-</td>\n      <td>-</td>\n      <td>lineage4</td>\n      <td>lineage4.1.2.1</td>\n      <td>MDR</td>\n      <td>R</td>\n      <td></td>\n    </tr>\n  </tbody>\n</table>\n<p>5 rows × 26 columns</p>\n</div>"
     },
     "execution_count": 23,
     "metadata": {},
     "output_type": "execute_result"
    }
   ],
   "source": [
    "# tbprofiler_df = pd.read_json(\"../data/raw/tbProfiler/tbprofiler.json\", encoding=\"UTF-8\")\n",
    "# tbprofiler_df = tbprofiler_df.transpose()\n",
    "# tbprofiler_df.head()\n"
   ],
   "metadata": {
    "collapsed": false,
    "pycharm": {
     "name": "#%%\n"
    }
   }
  },
  {
   "cell_type": "code",
   "execution_count": 27,
   "outputs": [
    {
     "data": {
      "text/plain": "                   rifampicin                         isoniazid  \\\nERR760783    rpoB_p.Ser450Leu                  katG_p.Ser315Thr   \nERR776661    rpoB_p.Ser450Leu                     ahpC_c.-81C>T   \nSRR11098556                 -                                 -   \nERR760911    rpoB_p.Ser450Leu                  katG_p.Ser315Thr   \nSRR9224969   rpoB_p.Ser450Leu  fabG1_c.-15C>T, katG_p.Ser315Thr   \n\n                 pyrazinamide  \\\nERR760783     pncA_p.Gln10Pro   \nERR776661    pncA_p.Met175Val   \nSRR11098556                 -   \nERR760911     pncA_p.Gln10Pro   \nSRR9224969   pncA_p.Gly132Ser   \n\n                                                    ethambutol  \\\nERR760783                                     embB_p.Gly406Ala   \nERR776661    embB_p.Gly406Ser, embB_p.Met306Val, embA_c.-16C>G   \nSRR11098556                                                  -   \nERR760911                                     embB_p.Gly406Ala   \nSRR9224969                                    embB_p.Met306Val   \n\n                                 streptomycin fluoroquinolones moxifloxacin  \\\nERR760783                                   -                -            -   \nERR776661    rpsL_p.Lys43Arg, rpsL_p.Lys88Gln                -            -   \nSRR11098556                                 -                -            -   \nERR760911                                   -                -            -   \nSRR9224969                                  -                -            -   \n\n            ofloxacin levofloxacin ciprofloxacin  ... linezolid bedaquiline  \\\nERR760783           -            -             -  ...         -           -   \nERR776661           -            -             -  ...         -           -   \nSRR11098556         -            -             -  ...         -           -   \nERR760911           -            -             -  ...         -           -   \nSRR9224969          -            -             -  ...         -           -   \n\n            clofazimine delamanid  main_lin          sublin     drtype MDR  \\\nERR760783             -         -  lineage4  lineage4.1.2.1        MDR   R   \nERR776661             -         -  lineage4    lineage4.3.2        MDR   R   \nSRR11098556           -         -  lineage2    lineage2.2.1  Sensitive       \nERR760911             -         -  lineage4  lineage4.1.2.1        MDR   R   \nSRR9224969            -         -  lineage4  lineage4.1.2.1        MDR   R   \n\n            XDR isResistant  \nERR760783                 1  \nERR776661                 1  \nSRR11098556               0  \nERR760911                 1  \nSRR9224969                1  \n\n[5 rows x 27 columns]",
      "text/html": "<div>\n<style scoped>\n    .dataframe tbody tr th:only-of-type {\n        vertical-align: middle;\n    }\n\n    .dataframe tbody tr th {\n        vertical-align: top;\n    }\n\n    .dataframe thead th {\n        text-align: right;\n    }\n</style>\n<table border=\"1\" class=\"dataframe\">\n  <thead>\n    <tr style=\"text-align: right;\">\n      <th></th>\n      <th>rifampicin</th>\n      <th>isoniazid</th>\n      <th>pyrazinamide</th>\n      <th>ethambutol</th>\n      <th>streptomycin</th>\n      <th>fluoroquinolones</th>\n      <th>moxifloxacin</th>\n      <th>ofloxacin</th>\n      <th>levofloxacin</th>\n      <th>ciprofloxacin</th>\n      <th>...</th>\n      <th>linezolid</th>\n      <th>bedaquiline</th>\n      <th>clofazimine</th>\n      <th>delamanid</th>\n      <th>main_lin</th>\n      <th>sublin</th>\n      <th>drtype</th>\n      <th>MDR</th>\n      <th>XDR</th>\n      <th>isResistant</th>\n    </tr>\n  </thead>\n  <tbody>\n    <tr>\n      <th>ERR760783</th>\n      <td>rpoB_p.Ser450Leu</td>\n      <td>katG_p.Ser315Thr</td>\n      <td>pncA_p.Gln10Pro</td>\n      <td>embB_p.Gly406Ala</td>\n      <td>-</td>\n      <td>-</td>\n      <td>-</td>\n      <td>-</td>\n      <td>-</td>\n      <td>-</td>\n      <td>...</td>\n      <td>-</td>\n      <td>-</td>\n      <td>-</td>\n      <td>-</td>\n      <td>lineage4</td>\n      <td>lineage4.1.2.1</td>\n      <td>MDR</td>\n      <td>R</td>\n      <td></td>\n      <td>1</td>\n    </tr>\n    <tr>\n      <th>ERR776661</th>\n      <td>rpoB_p.Ser450Leu</td>\n      <td>ahpC_c.-81C&gt;T</td>\n      <td>pncA_p.Met175Val</td>\n      <td>embB_p.Gly406Ser, embB_p.Met306Val, embA_c.-16C&gt;G</td>\n      <td>rpsL_p.Lys43Arg, rpsL_p.Lys88Gln</td>\n      <td>-</td>\n      <td>-</td>\n      <td>-</td>\n      <td>-</td>\n      <td>-</td>\n      <td>...</td>\n      <td>-</td>\n      <td>-</td>\n      <td>-</td>\n      <td>-</td>\n      <td>lineage4</td>\n      <td>lineage4.3.2</td>\n      <td>MDR</td>\n      <td>R</td>\n      <td></td>\n      <td>1</td>\n    </tr>\n    <tr>\n      <th>SRR11098556</th>\n      <td>-</td>\n      <td>-</td>\n      <td>-</td>\n      <td>-</td>\n      <td>-</td>\n      <td>-</td>\n      <td>-</td>\n      <td>-</td>\n      <td>-</td>\n      <td>-</td>\n      <td>...</td>\n      <td>-</td>\n      <td>-</td>\n      <td>-</td>\n      <td>-</td>\n      <td>lineage2</td>\n      <td>lineage2.2.1</td>\n      <td>Sensitive</td>\n      <td></td>\n      <td></td>\n      <td>0</td>\n    </tr>\n    <tr>\n      <th>ERR760911</th>\n      <td>rpoB_p.Ser450Leu</td>\n      <td>katG_p.Ser315Thr</td>\n      <td>pncA_p.Gln10Pro</td>\n      <td>embB_p.Gly406Ala</td>\n      <td>-</td>\n      <td>-</td>\n      <td>-</td>\n      <td>-</td>\n      <td>-</td>\n      <td>-</td>\n      <td>...</td>\n      <td>-</td>\n      <td>-</td>\n      <td>-</td>\n      <td>-</td>\n      <td>lineage4</td>\n      <td>lineage4.1.2.1</td>\n      <td>MDR</td>\n      <td>R</td>\n      <td></td>\n      <td>1</td>\n    </tr>\n    <tr>\n      <th>SRR9224969</th>\n      <td>rpoB_p.Ser450Leu</td>\n      <td>fabG1_c.-15C&gt;T, katG_p.Ser315Thr</td>\n      <td>pncA_p.Gly132Ser</td>\n      <td>embB_p.Met306Val</td>\n      <td>-</td>\n      <td>-</td>\n      <td>-</td>\n      <td>-</td>\n      <td>-</td>\n      <td>-</td>\n      <td>...</td>\n      <td>-</td>\n      <td>-</td>\n      <td>-</td>\n      <td>-</td>\n      <td>lineage4</td>\n      <td>lineage4.1.2.1</td>\n      <td>MDR</td>\n      <td>R</td>\n      <td></td>\n      <td>1</td>\n    </tr>\n  </tbody>\n</table>\n<p>5 rows × 27 columns</p>\n</div>"
     },
     "execution_count": 27,
     "metadata": {},
     "output_type": "execute_result"
    }
   ],
   "source": [
    "# resistance_status_df = tbprofiler_df\n",
    "# resistance_status_df['isResistant'] = resistance_status_df.apply(lambda row: 0 if (row.drtype == 'Sensitive') else 1, axis = 1)\n",
    "# resistance_status_df.head()"
   ],
   "metadata": {
    "collapsed": false,
    "pycharm": {
     "name": "#%%\n"
    }
   }
  },
  {
   "cell_type": "code",
   "execution_count": 189,
   "outputs": [
    {
     "data": {
      "text/plain": "                   rifampicin                         isoniazid  \\\nERR760783    rpoB_p.Ser450Leu                  katG_p.Ser315Thr   \nERR776661    rpoB_p.Ser450Leu                     ahpC_c.-81C>T   \nSRR11098556                 -                                 -   \nERR760911    rpoB_p.Ser450Leu                  katG_p.Ser315Thr   \nSRR9224969   rpoB_p.Ser450Leu  fabG1_c.-15C>T, katG_p.Ser315Thr   \n\n                 pyrazinamide  \\\nERR760783     pncA_p.Gln10Pro   \nERR776661    pncA_p.Met175Val   \nSRR11098556                 -   \nERR760911     pncA_p.Gln10Pro   \nSRR9224969   pncA_p.Gly132Ser   \n\n                                                    ethambutol  \\\nERR760783                                     embB_p.Gly406Ala   \nERR776661    embB_p.Gly406Ser, embB_p.Met306Val, embA_c.-16C>G   \nSRR11098556                                                  -   \nERR760911                                     embB_p.Gly406Ala   \nSRR9224969                                    embB_p.Met306Val   \n\n                                 streptomycin fluoroquinolones moxifloxacin  \\\nERR760783                                   -                -            -   \nERR776661    rpsL_p.Lys43Arg, rpsL_p.Lys88Gln                -            -   \nSRR11098556                                 -                -            -   \nERR760911                                   -                -            -   \nSRR9224969                                  -                -            -   \n\n            ofloxacin levofloxacin ciprofloxacin  ... linezolid bedaquiline  \\\nERR760783           -            -             -  ...         -           -   \nERR776661           -            -             -  ...         -           -   \nSRR11098556         -            -             -  ...         -           -   \nERR760911           -            -             -  ...         -           -   \nSRR9224969          -            -             -  ...         -           -   \n\n            clofazimine delamanid  main_lin          sublin     drtype MDR  \\\nERR760783             -         -  lineage4  lineage4.1.2.1        MDR   R   \nERR776661             -         -  lineage4    lineage4.3.2        MDR   R   \nSRR11098556           -         -  lineage2    lineage2.2.1  Sensitive       \nERR760911             -         -  lineage4  lineage4.1.2.1        MDR   R   \nSRR9224969            -         -  lineage4  lineage4.1.2.1        MDR   R   \n\n            XDR isResistant  \nERR760783                 1  \nERR776661                 1  \nSRR11098556               0  \nERR760911                 1  \nSRR9224969                1  \n\n[5 rows x 27 columns]",
      "text/html": "<div>\n<style scoped>\n    .dataframe tbody tr th:only-of-type {\n        vertical-align: middle;\n    }\n\n    .dataframe tbody tr th {\n        vertical-align: top;\n    }\n\n    .dataframe thead th {\n        text-align: right;\n    }\n</style>\n<table border=\"1\" class=\"dataframe\">\n  <thead>\n    <tr style=\"text-align: right;\">\n      <th></th>\n      <th>rifampicin</th>\n      <th>isoniazid</th>\n      <th>pyrazinamide</th>\n      <th>ethambutol</th>\n      <th>streptomycin</th>\n      <th>fluoroquinolones</th>\n      <th>moxifloxacin</th>\n      <th>ofloxacin</th>\n      <th>levofloxacin</th>\n      <th>ciprofloxacin</th>\n      <th>...</th>\n      <th>linezolid</th>\n      <th>bedaquiline</th>\n      <th>clofazimine</th>\n      <th>delamanid</th>\n      <th>main_lin</th>\n      <th>sublin</th>\n      <th>drtype</th>\n      <th>MDR</th>\n      <th>XDR</th>\n      <th>isResistant</th>\n    </tr>\n  </thead>\n  <tbody>\n    <tr>\n      <th>ERR760783</th>\n      <td>rpoB_p.Ser450Leu</td>\n      <td>katG_p.Ser315Thr</td>\n      <td>pncA_p.Gln10Pro</td>\n      <td>embB_p.Gly406Ala</td>\n      <td>-</td>\n      <td>-</td>\n      <td>-</td>\n      <td>-</td>\n      <td>-</td>\n      <td>-</td>\n      <td>...</td>\n      <td>-</td>\n      <td>-</td>\n      <td>-</td>\n      <td>-</td>\n      <td>lineage4</td>\n      <td>lineage4.1.2.1</td>\n      <td>MDR</td>\n      <td>R</td>\n      <td></td>\n      <td>1</td>\n    </tr>\n    <tr>\n      <th>ERR776661</th>\n      <td>rpoB_p.Ser450Leu</td>\n      <td>ahpC_c.-81C&gt;T</td>\n      <td>pncA_p.Met175Val</td>\n      <td>embB_p.Gly406Ser, embB_p.Met306Val, embA_c.-16C&gt;G</td>\n      <td>rpsL_p.Lys43Arg, rpsL_p.Lys88Gln</td>\n      <td>-</td>\n      <td>-</td>\n      <td>-</td>\n      <td>-</td>\n      <td>-</td>\n      <td>...</td>\n      <td>-</td>\n      <td>-</td>\n      <td>-</td>\n      <td>-</td>\n      <td>lineage4</td>\n      <td>lineage4.3.2</td>\n      <td>MDR</td>\n      <td>R</td>\n      <td></td>\n      <td>1</td>\n    </tr>\n    <tr>\n      <th>SRR11098556</th>\n      <td>-</td>\n      <td>-</td>\n      <td>-</td>\n      <td>-</td>\n      <td>-</td>\n      <td>-</td>\n      <td>-</td>\n      <td>-</td>\n      <td>-</td>\n      <td>-</td>\n      <td>...</td>\n      <td>-</td>\n      <td>-</td>\n      <td>-</td>\n      <td>-</td>\n      <td>lineage2</td>\n      <td>lineage2.2.1</td>\n      <td>Sensitive</td>\n      <td></td>\n      <td></td>\n      <td>0</td>\n    </tr>\n    <tr>\n      <th>ERR760911</th>\n      <td>rpoB_p.Ser450Leu</td>\n      <td>katG_p.Ser315Thr</td>\n      <td>pncA_p.Gln10Pro</td>\n      <td>embB_p.Gly406Ala</td>\n      <td>-</td>\n      <td>-</td>\n      <td>-</td>\n      <td>-</td>\n      <td>-</td>\n      <td>-</td>\n      <td>...</td>\n      <td>-</td>\n      <td>-</td>\n      <td>-</td>\n      <td>-</td>\n      <td>lineage4</td>\n      <td>lineage4.1.2.1</td>\n      <td>MDR</td>\n      <td>R</td>\n      <td></td>\n      <td>1</td>\n    </tr>\n    <tr>\n      <th>SRR9224969</th>\n      <td>rpoB_p.Ser450Leu</td>\n      <td>fabG1_c.-15C&gt;T, katG_p.Ser315Thr</td>\n      <td>pncA_p.Gly132Ser</td>\n      <td>embB_p.Met306Val</td>\n      <td>-</td>\n      <td>-</td>\n      <td>-</td>\n      <td>-</td>\n      <td>-</td>\n      <td>-</td>\n      <td>...</td>\n      <td>-</td>\n      <td>-</td>\n      <td>-</td>\n      <td>-</td>\n      <td>lineage4</td>\n      <td>lineage4.1.2.1</td>\n      <td>MDR</td>\n      <td>R</td>\n      <td></td>\n      <td>1</td>\n    </tr>\n  </tbody>\n</table>\n<p>5 rows × 27 columns</p>\n</div>"
     },
     "execution_count": 189,
     "metadata": {},
     "output_type": "execute_result"
    }
   ],
   "source": [
    "# resistance_status_df.to_json(\"../data/processed/resistance_status_df.json\")\n",
    "\n",
    "resistance_status_df = pd.read_json(\"../data/processed/resistance_status_df.json\")\n",
    "resistance_status_df.head()\n"
   ],
   "metadata": {
    "collapsed": false,
    "pycharm": {
     "name": "#%%\n"
    }
   }
  },
  {
   "cell_type": "code",
   "execution_count": 190,
   "outputs": [
    {
     "data": {
      "text/plain": "Index(['rifampicin', 'isoniazid', 'pyrazinamide', 'ethambutol', 'streptomycin',\n       'fluoroquinolones', 'moxifloxacin', 'ofloxacin', 'levofloxacin',\n       'ciprofloxacin', 'aminoglycosides', 'amikacin', 'kanamycin',\n       'capreomycin', 'ethionamide', 'para-aminosalicylic_acid', 'cycloserine',\n       'linezolid', 'bedaquiline', 'clofazimine', 'delamanid', 'main_lin',\n       'sublin', 'drtype', 'MDR', 'XDR', 'isResistant'],\n      dtype='object')"
     },
     "execution_count": 190,
     "metadata": {},
     "output_type": "execute_result"
    }
   ],
   "source": [
    "resistance_status_df.columns\n",
    "\n"
   ],
   "metadata": {
    "collapsed": false,
    "pycharm": {
     "name": "#%%\n"
    }
   }
  },
  {
   "cell_type": "code",
   "execution_count": 191,
   "outputs": [],
   "source": [
    "drugs_column_names = ['rifampicin', 'isoniazid', 'pyrazinamide', 'ethambutol', 'streptomycin',\n",
    "       'fluoroquinolones', 'moxifloxacin', 'ofloxacin', 'levofloxacin',\n",
    "       'ciprofloxacin', 'aminoglycosides', 'amikacin', 'kanamycin',\n",
    "       'capreomycin', 'ethionamide', 'para-aminosalicylic_acid', 'cycloserine',\n",
    "       'linezolid', 'bedaquiline', 'clofazimine', 'delamanid', ]\n",
    "\n",
    "\n",
    "lineage_column_names = [ 'main_lin', 'sublin' ]\n",
    "\n",
    "resistance_status_column_names = [ 'drtype', 'MDR', 'XDR', 'isResistant' ]\n"
   ],
   "metadata": {
    "collapsed": false,
    "pycharm": {
     "name": "#%%\n"
    }
   }
  },
  {
   "cell_type": "code",
   "execution_count": 194,
   "outputs": [
    {
     "data": {
      "text/plain": "                   rifampicin                         isoniazid  \\\nERR760783    rpoB_p.Ser450Leu                  katG_p.Ser315Thr   \nERR776661    rpoB_p.Ser450Leu                     ahpC_c.-81C>T   \nSRR11098556                 -                                 -   \nERR760911    rpoB_p.Ser450Leu                  katG_p.Ser315Thr   \nSRR9224969   rpoB_p.Ser450Leu  fabG1_c.-15C>T, katG_p.Ser315Thr   \n...                       ...                               ...   \nSRR10851740                 -                  katG_p.Ser315Thr   \nERR751560    rpoB_p.Ser450Leu                  katG_p.Ser315Thr   \nSRR10851694                 -                                 -   \nERR757166    rpoB_p.Ser450Leu                  katG_p.Ser315Thr   \nERR751427    rpoB_p.Ser450Leu                  katG_p.Ser315Thr   \n\n                 pyrazinamide  \\\nERR760783     pncA_p.Gln10Pro   \nERR776661    pncA_p.Met175Val   \nSRR11098556                 -   \nERR760911     pncA_p.Gln10Pro   \nSRR9224969   pncA_p.Gly132Ser   \n...                       ...   \nSRR10851740                 -   \nERR751560     pncA_p.Tyr64Asp   \nSRR10851694                 -   \nERR757166                   -   \nERR751427     pncA_p.His57Leu   \n\n                                                    ethambutol  \\\nERR760783                                     embB_p.Gly406Ala   \nERR776661    embB_p.Gly406Ser, embB_p.Met306Val, embA_c.-16C>G   \nSRR11098556                                                  -   \nERR760911                                     embB_p.Gly406Ala   \nSRR9224969                                    embB_p.Met306Val   \n...                                                        ...   \nSRR10851740                                                  -   \nERR751560                                     embB_p.Gln497Arg   \nSRR10851694                                                  -   \nERR757166                                     embB_p.Gly406Ala   \nERR751427                                        embA_c.-16C>G   \n\n                                 streptomycin fluoroquinolones  \\\nERR760783                                   -                -   \nERR776661    rpsL_p.Lys43Arg, rpsL_p.Lys88Gln                -   \nSRR11098556                                 -                -   \nERR760911                                   -                -   \nSRR9224969                                  -                -   \n...                                       ...              ...   \nSRR10851740                                 -                -   \nERR751560                                   -  gyrA_p.Ala90Val   \nSRR10851694                                 -                -   \nERR757166                                   -                -   \nERR751427                                   -                -   \n\n                moxifloxacin        ofloxacin     levofloxacin  \\\nERR760783                  -                -                -   \nERR776661                  -                -                -   \nSRR11098556                -                -                -   \nERR760911                  -                -                -   \nSRR9224969                 -                -                -   \n...                      ...              ...              ...   \nSRR10851740                -                -                -   \nERR751560    gyrA_p.Ala90Val  gyrA_p.Ala90Val  gyrA_p.Ala90Val   \nSRR10851694                -                -                -   \nERR757166                  -                -                -   \nERR751427                  -                -                -   \n\n               ciprofloxacin  ...      kanamycin    capreomycin  \\\nERR760783                  -  ...  rrs_r.1401a>g  rrs_r.1401a>g   \nERR776661                  -  ...              -              -   \nSRR11098556                -  ...              -              -   \nERR760911                  -  ...  rrs_r.1401a>g  rrs_r.1401a>g   \nSRR9224969                 -  ...              -              -   \n...                      ...  ...            ...            ...   \nSRR10851740                -  ...              -              -   \nERR751560    gyrA_p.Ala90Val  ...              -              -   \nSRR10851694                -  ...              -              -   \nERR757166                  -  ...              -              -   \nERR751427                  -  ...              -              -   \n\n                   ethionamide para-aminosalicylic_acid cycloserine linezolid  \\\nERR760783                    -                        -           -         -   \nERR776661                    -                        -           -         -   \nSRR11098556                  -                        -           -         -   \nERR760911                    -                        -           -         -   \nSRR9224969      fabG1_c.-15C>T                        -           -         -   \n...                        ...                      ...         ...       ...   \nSRR10851740                  -                        -           -         -   \nERR751560    ethA_c.757_757del                        -           -         -   \nSRR10851694                  -                        -           -         -   \nERR757166                    -                        -           -         -   \nERR751427                    -                        -           -         -   \n\n            bedaquiline clofazimine delamanid isResistant  \nERR760783             -           -         -           1  \nERR776661             -           -         -           1  \nSRR11098556           -           -         -           0  \nERR760911             -           -         -           1  \nSRR9224969            -           -         -           1  \n...                 ...         ...       ...         ...  \nSRR10851740           -           -         -           1  \nERR751560             -           -         -           1  \nSRR10851694           -           -         -           0  \nERR757166             -           -         -           1  \nERR751427             -           -         -           1  \n\n[1321 rows x 22 columns]",
      "text/html": "<div>\n<style scoped>\n    .dataframe tbody tr th:only-of-type {\n        vertical-align: middle;\n    }\n\n    .dataframe tbody tr th {\n        vertical-align: top;\n    }\n\n    .dataframe thead th {\n        text-align: right;\n    }\n</style>\n<table border=\"1\" class=\"dataframe\">\n  <thead>\n    <tr style=\"text-align: right;\">\n      <th></th>\n      <th>rifampicin</th>\n      <th>isoniazid</th>\n      <th>pyrazinamide</th>\n      <th>ethambutol</th>\n      <th>streptomycin</th>\n      <th>fluoroquinolones</th>\n      <th>moxifloxacin</th>\n      <th>ofloxacin</th>\n      <th>levofloxacin</th>\n      <th>ciprofloxacin</th>\n      <th>...</th>\n      <th>kanamycin</th>\n      <th>capreomycin</th>\n      <th>ethionamide</th>\n      <th>para-aminosalicylic_acid</th>\n      <th>cycloserine</th>\n      <th>linezolid</th>\n      <th>bedaquiline</th>\n      <th>clofazimine</th>\n      <th>delamanid</th>\n      <th>isResistant</th>\n    </tr>\n  </thead>\n  <tbody>\n    <tr>\n      <th>ERR760783</th>\n      <td>rpoB_p.Ser450Leu</td>\n      <td>katG_p.Ser315Thr</td>\n      <td>pncA_p.Gln10Pro</td>\n      <td>embB_p.Gly406Ala</td>\n      <td>-</td>\n      <td>-</td>\n      <td>-</td>\n      <td>-</td>\n      <td>-</td>\n      <td>-</td>\n      <td>...</td>\n      <td>rrs_r.1401a&gt;g</td>\n      <td>rrs_r.1401a&gt;g</td>\n      <td>-</td>\n      <td>-</td>\n      <td>-</td>\n      <td>-</td>\n      <td>-</td>\n      <td>-</td>\n      <td>-</td>\n      <td>1</td>\n    </tr>\n    <tr>\n      <th>ERR776661</th>\n      <td>rpoB_p.Ser450Leu</td>\n      <td>ahpC_c.-81C&gt;T</td>\n      <td>pncA_p.Met175Val</td>\n      <td>embB_p.Gly406Ser, embB_p.Met306Val, embA_c.-16C&gt;G</td>\n      <td>rpsL_p.Lys43Arg, rpsL_p.Lys88Gln</td>\n      <td>-</td>\n      <td>-</td>\n      <td>-</td>\n      <td>-</td>\n      <td>-</td>\n      <td>...</td>\n      <td>-</td>\n      <td>-</td>\n      <td>-</td>\n      <td>-</td>\n      <td>-</td>\n      <td>-</td>\n      <td>-</td>\n      <td>-</td>\n      <td>-</td>\n      <td>1</td>\n    </tr>\n    <tr>\n      <th>SRR11098556</th>\n      <td>-</td>\n      <td>-</td>\n      <td>-</td>\n      <td>-</td>\n      <td>-</td>\n      <td>-</td>\n      <td>-</td>\n      <td>-</td>\n      <td>-</td>\n      <td>-</td>\n      <td>...</td>\n      <td>-</td>\n      <td>-</td>\n      <td>-</td>\n      <td>-</td>\n      <td>-</td>\n      <td>-</td>\n      <td>-</td>\n      <td>-</td>\n      <td>-</td>\n      <td>0</td>\n    </tr>\n    <tr>\n      <th>ERR760911</th>\n      <td>rpoB_p.Ser450Leu</td>\n      <td>katG_p.Ser315Thr</td>\n      <td>pncA_p.Gln10Pro</td>\n      <td>embB_p.Gly406Ala</td>\n      <td>-</td>\n      <td>-</td>\n      <td>-</td>\n      <td>-</td>\n      <td>-</td>\n      <td>-</td>\n      <td>...</td>\n      <td>rrs_r.1401a&gt;g</td>\n      <td>rrs_r.1401a&gt;g</td>\n      <td>-</td>\n      <td>-</td>\n      <td>-</td>\n      <td>-</td>\n      <td>-</td>\n      <td>-</td>\n      <td>-</td>\n      <td>1</td>\n    </tr>\n    <tr>\n      <th>SRR9224969</th>\n      <td>rpoB_p.Ser450Leu</td>\n      <td>fabG1_c.-15C&gt;T, katG_p.Ser315Thr</td>\n      <td>pncA_p.Gly132Ser</td>\n      <td>embB_p.Met306Val</td>\n      <td>-</td>\n      <td>-</td>\n      <td>-</td>\n      <td>-</td>\n      <td>-</td>\n      <td>-</td>\n      <td>...</td>\n      <td>-</td>\n      <td>-</td>\n      <td>fabG1_c.-15C&gt;T</td>\n      <td>-</td>\n      <td>-</td>\n      <td>-</td>\n      <td>-</td>\n      <td>-</td>\n      <td>-</td>\n      <td>1</td>\n    </tr>\n    <tr>\n      <th>...</th>\n      <td>...</td>\n      <td>...</td>\n      <td>...</td>\n      <td>...</td>\n      <td>...</td>\n      <td>...</td>\n      <td>...</td>\n      <td>...</td>\n      <td>...</td>\n      <td>...</td>\n      <td>...</td>\n      <td>...</td>\n      <td>...</td>\n      <td>...</td>\n      <td>...</td>\n      <td>...</td>\n      <td>...</td>\n      <td>...</td>\n      <td>...</td>\n      <td>...</td>\n      <td>...</td>\n    </tr>\n    <tr>\n      <th>SRR10851740</th>\n      <td>-</td>\n      <td>katG_p.Ser315Thr</td>\n      <td>-</td>\n      <td>-</td>\n      <td>-</td>\n      <td>-</td>\n      <td>-</td>\n      <td>-</td>\n      <td>-</td>\n      <td>-</td>\n      <td>...</td>\n      <td>-</td>\n      <td>-</td>\n      <td>-</td>\n      <td>-</td>\n      <td>-</td>\n      <td>-</td>\n      <td>-</td>\n      <td>-</td>\n      <td>-</td>\n      <td>1</td>\n    </tr>\n    <tr>\n      <th>ERR751560</th>\n      <td>rpoB_p.Ser450Leu</td>\n      <td>katG_p.Ser315Thr</td>\n      <td>pncA_p.Tyr64Asp</td>\n      <td>embB_p.Gln497Arg</td>\n      <td>-</td>\n      <td>gyrA_p.Ala90Val</td>\n      <td>gyrA_p.Ala90Val</td>\n      <td>gyrA_p.Ala90Val</td>\n      <td>gyrA_p.Ala90Val</td>\n      <td>gyrA_p.Ala90Val</td>\n      <td>...</td>\n      <td>-</td>\n      <td>-</td>\n      <td>ethA_c.757_757del</td>\n      <td>-</td>\n      <td>-</td>\n      <td>-</td>\n      <td>-</td>\n      <td>-</td>\n      <td>-</td>\n      <td>1</td>\n    </tr>\n    <tr>\n      <th>SRR10851694</th>\n      <td>-</td>\n      <td>-</td>\n      <td>-</td>\n      <td>-</td>\n      <td>-</td>\n      <td>-</td>\n      <td>-</td>\n      <td>-</td>\n      <td>-</td>\n      <td>-</td>\n      <td>...</td>\n      <td>-</td>\n      <td>-</td>\n      <td>-</td>\n      <td>-</td>\n      <td>-</td>\n      <td>-</td>\n      <td>-</td>\n      <td>-</td>\n      <td>-</td>\n      <td>0</td>\n    </tr>\n    <tr>\n      <th>ERR757166</th>\n      <td>rpoB_p.Ser450Leu</td>\n      <td>katG_p.Ser315Thr</td>\n      <td>-</td>\n      <td>embB_p.Gly406Ala</td>\n      <td>-</td>\n      <td>-</td>\n      <td>-</td>\n      <td>-</td>\n      <td>-</td>\n      <td>-</td>\n      <td>...</td>\n      <td>-</td>\n      <td>-</td>\n      <td>-</td>\n      <td>-</td>\n      <td>-</td>\n      <td>-</td>\n      <td>-</td>\n      <td>-</td>\n      <td>-</td>\n      <td>1</td>\n    </tr>\n    <tr>\n      <th>ERR751427</th>\n      <td>rpoB_p.Ser450Leu</td>\n      <td>katG_p.Ser315Thr</td>\n      <td>pncA_p.His57Leu</td>\n      <td>embA_c.-16C&gt;G</td>\n      <td>-</td>\n      <td>-</td>\n      <td>-</td>\n      <td>-</td>\n      <td>-</td>\n      <td>-</td>\n      <td>...</td>\n      <td>-</td>\n      <td>-</td>\n      <td>-</td>\n      <td>-</td>\n      <td>-</td>\n      <td>-</td>\n      <td>-</td>\n      <td>-</td>\n      <td>-</td>\n      <td>1</td>\n    </tr>\n  </tbody>\n</table>\n<p>1321 rows × 22 columns</p>\n</div>"
     },
     "execution_count": 194,
     "metadata": {},
     "output_type": "execute_result"
    }
   ],
   "source": [
    "\n",
    "# resistance_status_df[[*drugs_column_names, 'isResistant']]"
   ],
   "metadata": {
    "collapsed": false,
    "pycharm": {
     "name": "#%%\n"
    }
   }
  },
  {
   "cell_type": "code",
   "execution_count": 59,
   "outputs": [
    {
     "data": {
      "text/plain": "        CHROM  POS ERR3129939.GT ERR3148148.GT ERR3148149.GT ERR3148151.GT  \\\n0  NC000962_3   11           A/A           A/A           A/A           A/A   \n1  NC000962_3   78           T/T           T/T           T/T           T/T   \n2  NC000962_3   80           A/A           A/A           A/A           A/A   \n3  NC000962_3   82           G/G           G/G           G/G           G/G   \n4  NC000962_3   88           C/C           C/C           C/C           C/C   \n\n  ERR3148153.GT ERR3148155.GT ERR3148159.GT ERR3148163.GT  ... SRR9224941.GT  \\\n0           A/A           A/A           A/A           A/A  ...           A/A   \n1           T/T           T/T           T/T           T/T  ...           T/T   \n2           A/A           A/A           A/A           A/A  ...           A/A   \n3           G/G           G/G           G/G           G/G  ...           G/G   \n4           C/C           C/C           C/C           C/C  ...           C/C   \n\n  SRR9224942.GT SRR9224952.GT SRR9224958.GT SRR9224968.GT SRR9224981.GT  \\\n0           A/A           A/A           A/A           A/A           A/A   \n1           T/T           T/T           T/T           T/T           T/T   \n2           A/A           A/A           A/A           A/A           A/A   \n3           G/G           G/G           G/G           G/G           G/G   \n4           C/C           C/C           C/C           C/C           C/C   \n\n  SRR9224985.GT SRR9224986.GT SRR9224992.GT SRR9224997.GT  \n0           A/A           A/A           A/A           A/A  \n1           T/T           T/T           T/T           T/T  \n2           A/A           A/A           A/A           A/A  \n3           G/G           G/G           G/G           G/G  \n4           C/C           C/C           C/C           C/C  \n\n[5 rows x 303 columns]",
      "text/html": "<div>\n<style scoped>\n    .dataframe tbody tr th:only-of-type {\n        vertical-align: middle;\n    }\n\n    .dataframe tbody tr th {\n        vertical-align: top;\n    }\n\n    .dataframe thead th {\n        text-align: right;\n    }\n</style>\n<table border=\"1\" class=\"dataframe\">\n  <thead>\n    <tr style=\"text-align: right;\">\n      <th></th>\n      <th>CHROM</th>\n      <th>POS</th>\n      <th>ERR3129939.GT</th>\n      <th>ERR3148148.GT</th>\n      <th>ERR3148149.GT</th>\n      <th>ERR3148151.GT</th>\n      <th>ERR3148153.GT</th>\n      <th>ERR3148155.GT</th>\n      <th>ERR3148159.GT</th>\n      <th>ERR3148163.GT</th>\n      <th>...</th>\n      <th>SRR9224941.GT</th>\n      <th>SRR9224942.GT</th>\n      <th>SRR9224952.GT</th>\n      <th>SRR9224958.GT</th>\n      <th>SRR9224968.GT</th>\n      <th>SRR9224981.GT</th>\n      <th>SRR9224985.GT</th>\n      <th>SRR9224986.GT</th>\n      <th>SRR9224992.GT</th>\n      <th>SRR9224997.GT</th>\n    </tr>\n  </thead>\n  <tbody>\n    <tr>\n      <th>0</th>\n      <td>NC000962_3</td>\n      <td>11</td>\n      <td>A/A</td>\n      <td>A/A</td>\n      <td>A/A</td>\n      <td>A/A</td>\n      <td>A/A</td>\n      <td>A/A</td>\n      <td>A/A</td>\n      <td>A/A</td>\n      <td>...</td>\n      <td>A/A</td>\n      <td>A/A</td>\n      <td>A/A</td>\n      <td>A/A</td>\n      <td>A/A</td>\n      <td>A/A</td>\n      <td>A/A</td>\n      <td>A/A</td>\n      <td>A/A</td>\n      <td>A/A</td>\n    </tr>\n    <tr>\n      <th>1</th>\n      <td>NC000962_3</td>\n      <td>78</td>\n      <td>T/T</td>\n      <td>T/T</td>\n      <td>T/T</td>\n      <td>T/T</td>\n      <td>T/T</td>\n      <td>T/T</td>\n      <td>T/T</td>\n      <td>T/T</td>\n      <td>...</td>\n      <td>T/T</td>\n      <td>T/T</td>\n      <td>T/T</td>\n      <td>T/T</td>\n      <td>T/T</td>\n      <td>T/T</td>\n      <td>T/T</td>\n      <td>T/T</td>\n      <td>T/T</td>\n      <td>T/T</td>\n    </tr>\n    <tr>\n      <th>2</th>\n      <td>NC000962_3</td>\n      <td>80</td>\n      <td>A/A</td>\n      <td>A/A</td>\n      <td>A/A</td>\n      <td>A/A</td>\n      <td>A/A</td>\n      <td>A/A</td>\n      <td>A/A</td>\n      <td>A/A</td>\n      <td>...</td>\n      <td>A/A</td>\n      <td>A/A</td>\n      <td>A/A</td>\n      <td>A/A</td>\n      <td>A/A</td>\n      <td>A/A</td>\n      <td>A/A</td>\n      <td>A/A</td>\n      <td>A/A</td>\n      <td>A/A</td>\n    </tr>\n    <tr>\n      <th>3</th>\n      <td>NC000962_3</td>\n      <td>82</td>\n      <td>G/G</td>\n      <td>G/G</td>\n      <td>G/G</td>\n      <td>G/G</td>\n      <td>G/G</td>\n      <td>G/G</td>\n      <td>G/G</td>\n      <td>G/G</td>\n      <td>...</td>\n      <td>G/G</td>\n      <td>G/G</td>\n      <td>G/G</td>\n      <td>G/G</td>\n      <td>G/G</td>\n      <td>G/G</td>\n      <td>G/G</td>\n      <td>G/G</td>\n      <td>G/G</td>\n      <td>G/G</td>\n    </tr>\n    <tr>\n      <th>4</th>\n      <td>NC000962_3</td>\n      <td>88</td>\n      <td>C/C</td>\n      <td>C/C</td>\n      <td>C/C</td>\n      <td>C/C</td>\n      <td>C/C</td>\n      <td>C/C</td>\n      <td>C/C</td>\n      <td>C/C</td>\n      <td>...</td>\n      <td>C/C</td>\n      <td>C/C</td>\n      <td>C/C</td>\n      <td>C/C</td>\n      <td>C/C</td>\n      <td>C/C</td>\n      <td>C/C</td>\n      <td>C/C</td>\n      <td>C/C</td>\n      <td>C/C</td>\n    </tr>\n  </tbody>\n</table>\n<p>5 rows × 303 columns</p>\n</div>"
     },
     "execution_count": 59,
     "metadata": {},
     "output_type": "execute_result"
    }
   ],
   "source": [
    "vcf_df = pd.read_csv(\"../data/interim/cohort.bqsr.filter.snps.tsv\", sep='\\t')\n",
    "vcf_df.head()"
   ],
   "metadata": {
    "collapsed": false,
    "pycharm": {
     "name": "#%%\n"
    }
   }
  },
  {
   "cell_type": "code",
   "execution_count": 60,
   "outputs": [
    {
     "data": {
      "text/plain": "        CHROM  POS ERR3129939.GT ERR3148148.GT ERR3148149.GT ERR3148151.GT  \\\n0  NC000962_3   11           A/A           A/A           A/A           A/A   \n1  NC000962_3   78           T/T           T/T           T/T           T/T   \n2  NC000962_3   80           A/A           A/A           A/A           A/A   \n3  NC000962_3   82           G/G           G/G           G/G           G/G   \n4  NC000962_3   88           C/C           C/C           C/C           C/C   \n\n  ERR3148153.GT ERR3148155.GT ERR3148159.GT ERR3148163.GT  ... SRR9224942.GT  \\\n0           A/A           A/A           A/A           A/A  ...           A/A   \n1           T/T           T/T           T/T           T/T  ...           T/T   \n2           A/A           A/A           A/A           A/A  ...           A/A   \n3           G/G           G/G           G/G           G/G  ...           G/G   \n4           C/C           C/C           C/C           C/C  ...           C/C   \n\n  SRR9224952.GT SRR9224958.GT SRR9224968.GT SRR9224981.GT SRR9224985.GT  \\\n0           A/A           A/A           A/A           A/A           A/A   \n1           T/T           T/T           T/T           T/T           T/T   \n2           A/A           A/A           A/A           A/A           A/A   \n3           G/G           G/G           G/G           G/G           G/G   \n4           C/C           C/C           C/C           C/C           C/C   \n\n  SRR9224986.GT SRR9224992.GT SRR9224997.GT      CHROM.POS  \n0           A/A           A/A           A/A  NC000962_3.11  \n1           T/T           T/T           T/T  NC000962_3.78  \n2           A/A           A/A           A/A  NC000962_3.80  \n3           G/G           G/G           G/G  NC000962_3.82  \n4           C/C           C/C           C/C  NC000962_3.88  \n\n[5 rows x 304 columns]",
      "text/html": "<div>\n<style scoped>\n    .dataframe tbody tr th:only-of-type {\n        vertical-align: middle;\n    }\n\n    .dataframe tbody tr th {\n        vertical-align: top;\n    }\n\n    .dataframe thead th {\n        text-align: right;\n    }\n</style>\n<table border=\"1\" class=\"dataframe\">\n  <thead>\n    <tr style=\"text-align: right;\">\n      <th></th>\n      <th>CHROM</th>\n      <th>POS</th>\n      <th>ERR3129939.GT</th>\n      <th>ERR3148148.GT</th>\n      <th>ERR3148149.GT</th>\n      <th>ERR3148151.GT</th>\n      <th>ERR3148153.GT</th>\n      <th>ERR3148155.GT</th>\n      <th>ERR3148159.GT</th>\n      <th>ERR3148163.GT</th>\n      <th>...</th>\n      <th>SRR9224942.GT</th>\n      <th>SRR9224952.GT</th>\n      <th>SRR9224958.GT</th>\n      <th>SRR9224968.GT</th>\n      <th>SRR9224981.GT</th>\n      <th>SRR9224985.GT</th>\n      <th>SRR9224986.GT</th>\n      <th>SRR9224992.GT</th>\n      <th>SRR9224997.GT</th>\n      <th>CHROM.POS</th>\n    </tr>\n  </thead>\n  <tbody>\n    <tr>\n      <th>0</th>\n      <td>NC000962_3</td>\n      <td>11</td>\n      <td>A/A</td>\n      <td>A/A</td>\n      <td>A/A</td>\n      <td>A/A</td>\n      <td>A/A</td>\n      <td>A/A</td>\n      <td>A/A</td>\n      <td>A/A</td>\n      <td>...</td>\n      <td>A/A</td>\n      <td>A/A</td>\n      <td>A/A</td>\n      <td>A/A</td>\n      <td>A/A</td>\n      <td>A/A</td>\n      <td>A/A</td>\n      <td>A/A</td>\n      <td>A/A</td>\n      <td>NC000962_3.11</td>\n    </tr>\n    <tr>\n      <th>1</th>\n      <td>NC000962_3</td>\n      <td>78</td>\n      <td>T/T</td>\n      <td>T/T</td>\n      <td>T/T</td>\n      <td>T/T</td>\n      <td>T/T</td>\n      <td>T/T</td>\n      <td>T/T</td>\n      <td>T/T</td>\n      <td>...</td>\n      <td>T/T</td>\n      <td>T/T</td>\n      <td>T/T</td>\n      <td>T/T</td>\n      <td>T/T</td>\n      <td>T/T</td>\n      <td>T/T</td>\n      <td>T/T</td>\n      <td>T/T</td>\n      <td>NC000962_3.78</td>\n    </tr>\n    <tr>\n      <th>2</th>\n      <td>NC000962_3</td>\n      <td>80</td>\n      <td>A/A</td>\n      <td>A/A</td>\n      <td>A/A</td>\n      <td>A/A</td>\n      <td>A/A</td>\n      <td>A/A</td>\n      <td>A/A</td>\n      <td>A/A</td>\n      <td>...</td>\n      <td>A/A</td>\n      <td>A/A</td>\n      <td>A/A</td>\n      <td>A/A</td>\n      <td>A/A</td>\n      <td>A/A</td>\n      <td>A/A</td>\n      <td>A/A</td>\n      <td>A/A</td>\n      <td>NC000962_3.80</td>\n    </tr>\n    <tr>\n      <th>3</th>\n      <td>NC000962_3</td>\n      <td>82</td>\n      <td>G/G</td>\n      <td>G/G</td>\n      <td>G/G</td>\n      <td>G/G</td>\n      <td>G/G</td>\n      <td>G/G</td>\n      <td>G/G</td>\n      <td>G/G</td>\n      <td>...</td>\n      <td>G/G</td>\n      <td>G/G</td>\n      <td>G/G</td>\n      <td>G/G</td>\n      <td>G/G</td>\n      <td>G/G</td>\n      <td>G/G</td>\n      <td>G/G</td>\n      <td>G/G</td>\n      <td>NC000962_3.82</td>\n    </tr>\n    <tr>\n      <th>4</th>\n      <td>NC000962_3</td>\n      <td>88</td>\n      <td>C/C</td>\n      <td>C/C</td>\n      <td>C/C</td>\n      <td>C/C</td>\n      <td>C/C</td>\n      <td>C/C</td>\n      <td>C/C</td>\n      <td>C/C</td>\n      <td>...</td>\n      <td>C/C</td>\n      <td>C/C</td>\n      <td>C/C</td>\n      <td>C/C</td>\n      <td>C/C</td>\n      <td>C/C</td>\n      <td>C/C</td>\n      <td>C/C</td>\n      <td>C/C</td>\n      <td>NC000962_3.88</td>\n    </tr>\n  </tbody>\n</table>\n<p>5 rows × 304 columns</p>\n</div>"
     },
     "execution_count": 60,
     "metadata": {},
     "output_type": "execute_result"
    }
   ],
   "source": [
    "# vcf_df['CHROM'] + vcf_df['POS']\n",
    "vcf_df['CHROM.POS'] = vcf_df.apply(lambda row: row.CHROM + \".\" + str(row.POS) , axis = 1)\n",
    "\n",
    "vcf_df.head()"
   ],
   "metadata": {
    "collapsed": false,
    "pycharm": {
     "name": "#%%\n"
    }
   }
  },
  {
   "cell_type": "code",
   "execution_count": 61,
   "outputs": [
    {
     "data": {
      "text/plain": "  ERR3129939.GT ERR3148148.GT ERR3148149.GT ERR3148151.GT ERR3148153.GT  \\\n0           A/A           A/A           A/A           A/A           A/A   \n1           T/T           T/T           T/T           T/T           T/T   \n2           A/A           A/A           A/A           A/A           A/A   \n3           G/G           G/G           G/G           G/G           G/G   \n4           C/C           C/C           C/C           C/C           C/C   \n\n  ERR3148155.GT ERR3148159.GT ERR3148163.GT ERR3148164.GT ERR3148166.GT  ...  \\\n0           A/A           A/A           A/A           A/A           A/A  ...   \n1           T/T           T/T           T/T           T/T           T/T  ...   \n2           A/A           A/A           A/A           A/A           A/A  ...   \n3           G/G           G/G           G/G           G/G           G/G  ...   \n4           C/C           C/C           C/C           C/C           C/C  ...   \n\n  SRR9224942.GT SRR9224952.GT SRR9224958.GT SRR9224968.GT SRR9224981.GT  \\\n0           A/A           A/A           A/A           A/A           A/A   \n1           T/T           T/T           T/T           T/T           T/T   \n2           A/A           A/A           A/A           A/A           A/A   \n3           G/G           G/G           G/G           G/G           G/G   \n4           C/C           C/C           C/C           C/C           C/C   \n\n  SRR9224985.GT SRR9224986.GT SRR9224992.GT SRR9224997.GT      CHROM.POS  \n0           A/A           A/A           A/A           A/A  NC000962_3.11  \n1           T/T           T/T           T/T           T/T  NC000962_3.78  \n2           A/A           A/A           A/A           A/A  NC000962_3.80  \n3           G/G           G/G           G/G           G/G  NC000962_3.82  \n4           C/C           C/C           C/C           C/C  NC000962_3.88  \n\n[5 rows x 302 columns]",
      "text/html": "<div>\n<style scoped>\n    .dataframe tbody tr th:only-of-type {\n        vertical-align: middle;\n    }\n\n    .dataframe tbody tr th {\n        vertical-align: top;\n    }\n\n    .dataframe thead th {\n        text-align: right;\n    }\n</style>\n<table border=\"1\" class=\"dataframe\">\n  <thead>\n    <tr style=\"text-align: right;\">\n      <th></th>\n      <th>ERR3129939.GT</th>\n      <th>ERR3148148.GT</th>\n      <th>ERR3148149.GT</th>\n      <th>ERR3148151.GT</th>\n      <th>ERR3148153.GT</th>\n      <th>ERR3148155.GT</th>\n      <th>ERR3148159.GT</th>\n      <th>ERR3148163.GT</th>\n      <th>ERR3148164.GT</th>\n      <th>ERR3148166.GT</th>\n      <th>...</th>\n      <th>SRR9224942.GT</th>\n      <th>SRR9224952.GT</th>\n      <th>SRR9224958.GT</th>\n      <th>SRR9224968.GT</th>\n      <th>SRR9224981.GT</th>\n      <th>SRR9224985.GT</th>\n      <th>SRR9224986.GT</th>\n      <th>SRR9224992.GT</th>\n      <th>SRR9224997.GT</th>\n      <th>CHROM.POS</th>\n    </tr>\n  </thead>\n  <tbody>\n    <tr>\n      <th>0</th>\n      <td>A/A</td>\n      <td>A/A</td>\n      <td>A/A</td>\n      <td>A/A</td>\n      <td>A/A</td>\n      <td>A/A</td>\n      <td>A/A</td>\n      <td>A/A</td>\n      <td>A/A</td>\n      <td>A/A</td>\n      <td>...</td>\n      <td>A/A</td>\n      <td>A/A</td>\n      <td>A/A</td>\n      <td>A/A</td>\n      <td>A/A</td>\n      <td>A/A</td>\n      <td>A/A</td>\n      <td>A/A</td>\n      <td>A/A</td>\n      <td>NC000962_3.11</td>\n    </tr>\n    <tr>\n      <th>1</th>\n      <td>T/T</td>\n      <td>T/T</td>\n      <td>T/T</td>\n      <td>T/T</td>\n      <td>T/T</td>\n      <td>T/T</td>\n      <td>T/T</td>\n      <td>T/T</td>\n      <td>T/T</td>\n      <td>T/T</td>\n      <td>...</td>\n      <td>T/T</td>\n      <td>T/T</td>\n      <td>T/T</td>\n      <td>T/T</td>\n      <td>T/T</td>\n      <td>T/T</td>\n      <td>T/T</td>\n      <td>T/T</td>\n      <td>T/T</td>\n      <td>NC000962_3.78</td>\n    </tr>\n    <tr>\n      <th>2</th>\n      <td>A/A</td>\n      <td>A/A</td>\n      <td>A/A</td>\n      <td>A/A</td>\n      <td>A/A</td>\n      <td>A/A</td>\n      <td>A/A</td>\n      <td>A/A</td>\n      <td>A/A</td>\n      <td>A/A</td>\n      <td>...</td>\n      <td>A/A</td>\n      <td>A/A</td>\n      <td>A/A</td>\n      <td>A/A</td>\n      <td>A/A</td>\n      <td>A/A</td>\n      <td>A/A</td>\n      <td>A/A</td>\n      <td>A/A</td>\n      <td>NC000962_3.80</td>\n    </tr>\n    <tr>\n      <th>3</th>\n      <td>G/G</td>\n      <td>G/G</td>\n      <td>G/G</td>\n      <td>G/G</td>\n      <td>G/G</td>\n      <td>G/G</td>\n      <td>G/G</td>\n      <td>G/G</td>\n      <td>G/G</td>\n      <td>G/G</td>\n      <td>...</td>\n      <td>G/G</td>\n      <td>G/G</td>\n      <td>G/G</td>\n      <td>G/G</td>\n      <td>G/G</td>\n      <td>G/G</td>\n      <td>G/G</td>\n      <td>G/G</td>\n      <td>G/G</td>\n      <td>NC000962_3.82</td>\n    </tr>\n    <tr>\n      <th>4</th>\n      <td>C/C</td>\n      <td>C/C</td>\n      <td>C/C</td>\n      <td>C/C</td>\n      <td>C/C</td>\n      <td>C/C</td>\n      <td>C/C</td>\n      <td>C/C</td>\n      <td>C/C</td>\n      <td>C/C</td>\n      <td>...</td>\n      <td>C/C</td>\n      <td>C/C</td>\n      <td>C/C</td>\n      <td>C/C</td>\n      <td>C/C</td>\n      <td>C/C</td>\n      <td>C/C</td>\n      <td>C/C</td>\n      <td>C/C</td>\n      <td>NC000962_3.88</td>\n    </tr>\n  </tbody>\n</table>\n<p>5 rows × 302 columns</p>\n</div>"
     },
     "execution_count": 61,
     "metadata": {},
     "output_type": "execute_result"
    }
   ],
   "source": [
    "vcf_df.drop(['CHROM', 'POS'], axis=1, inplace= True)\n",
    "vcf_df.head()\n"
   ],
   "metadata": {
    "collapsed": false,
    "pycharm": {
     "name": "#%%\n"
    }
   }
  },
  {
   "cell_type": "code",
   "execution_count": 62,
   "outputs": [
    {
     "data": {
      "text/plain": "              ERR3129939.GT ERR3148148.GT ERR3148149.GT ERR3148151.GT  \\\nCHROM.POS                                                               \nNC000962_3.11           A/A           A/A           A/A           A/A   \nNC000962_3.78           T/T           T/T           T/T           T/T   \nNC000962_3.80           A/A           A/A           A/A           A/A   \nNC000962_3.82           G/G           G/G           G/G           G/G   \nNC000962_3.88           C/C           C/C           C/C           C/C   \n\n              ERR3148153.GT ERR3148155.GT ERR3148159.GT ERR3148163.GT  \\\nCHROM.POS                                                               \nNC000962_3.11           A/A           A/A           A/A           A/A   \nNC000962_3.78           T/T           T/T           T/T           T/T   \nNC000962_3.80           A/A           A/A           A/A           A/A   \nNC000962_3.82           G/G           G/G           G/G           G/G   \nNC000962_3.88           C/C           C/C           C/C           C/C   \n\n              ERR3148164.GT ERR3148166.GT  ... SRR9224941.GT SRR9224942.GT  \\\nCHROM.POS                                  ...                               \nNC000962_3.11           A/A           A/A  ...           A/A           A/A   \nNC000962_3.78           T/T           T/T  ...           T/T           T/T   \nNC000962_3.80           A/A           A/A  ...           A/A           A/A   \nNC000962_3.82           G/G           G/G  ...           G/G           G/G   \nNC000962_3.88           C/C           C/C  ...           C/C           C/C   \n\n              SRR9224952.GT SRR9224958.GT SRR9224968.GT SRR9224981.GT  \\\nCHROM.POS                                                               \nNC000962_3.11           A/A           A/A           A/A           A/A   \nNC000962_3.78           T/T           T/T           T/T           T/T   \nNC000962_3.80           A/A           A/A           A/A           A/A   \nNC000962_3.82           G/G           G/G           G/G           G/G   \nNC000962_3.88           C/C           C/C           C/C           C/C   \n\n              SRR9224985.GT SRR9224986.GT SRR9224992.GT SRR9224997.GT  \nCHROM.POS                                                              \nNC000962_3.11           A/A           A/A           A/A           A/A  \nNC000962_3.78           T/T           T/T           T/T           T/T  \nNC000962_3.80           A/A           A/A           A/A           A/A  \nNC000962_3.82           G/G           G/G           G/G           G/G  \nNC000962_3.88           C/C           C/C           C/C           C/C  \n\n[5 rows x 301 columns]",
      "text/html": "<div>\n<style scoped>\n    .dataframe tbody tr th:only-of-type {\n        vertical-align: middle;\n    }\n\n    .dataframe tbody tr th {\n        vertical-align: top;\n    }\n\n    .dataframe thead th {\n        text-align: right;\n    }\n</style>\n<table border=\"1\" class=\"dataframe\">\n  <thead>\n    <tr style=\"text-align: right;\">\n      <th></th>\n      <th>ERR3129939.GT</th>\n      <th>ERR3148148.GT</th>\n      <th>ERR3148149.GT</th>\n      <th>ERR3148151.GT</th>\n      <th>ERR3148153.GT</th>\n      <th>ERR3148155.GT</th>\n      <th>ERR3148159.GT</th>\n      <th>ERR3148163.GT</th>\n      <th>ERR3148164.GT</th>\n      <th>ERR3148166.GT</th>\n      <th>...</th>\n      <th>SRR9224941.GT</th>\n      <th>SRR9224942.GT</th>\n      <th>SRR9224952.GT</th>\n      <th>SRR9224958.GT</th>\n      <th>SRR9224968.GT</th>\n      <th>SRR9224981.GT</th>\n      <th>SRR9224985.GT</th>\n      <th>SRR9224986.GT</th>\n      <th>SRR9224992.GT</th>\n      <th>SRR9224997.GT</th>\n    </tr>\n    <tr>\n      <th>CHROM.POS</th>\n      <th></th>\n      <th></th>\n      <th></th>\n      <th></th>\n      <th></th>\n      <th></th>\n      <th></th>\n      <th></th>\n      <th></th>\n      <th></th>\n      <th></th>\n      <th></th>\n      <th></th>\n      <th></th>\n      <th></th>\n      <th></th>\n      <th></th>\n      <th></th>\n      <th></th>\n      <th></th>\n      <th></th>\n    </tr>\n  </thead>\n  <tbody>\n    <tr>\n      <th>NC000962_3.11</th>\n      <td>A/A</td>\n      <td>A/A</td>\n      <td>A/A</td>\n      <td>A/A</td>\n      <td>A/A</td>\n      <td>A/A</td>\n      <td>A/A</td>\n      <td>A/A</td>\n      <td>A/A</td>\n      <td>A/A</td>\n      <td>...</td>\n      <td>A/A</td>\n      <td>A/A</td>\n      <td>A/A</td>\n      <td>A/A</td>\n      <td>A/A</td>\n      <td>A/A</td>\n      <td>A/A</td>\n      <td>A/A</td>\n      <td>A/A</td>\n      <td>A/A</td>\n    </tr>\n    <tr>\n      <th>NC000962_3.78</th>\n      <td>T/T</td>\n      <td>T/T</td>\n      <td>T/T</td>\n      <td>T/T</td>\n      <td>T/T</td>\n      <td>T/T</td>\n      <td>T/T</td>\n      <td>T/T</td>\n      <td>T/T</td>\n      <td>T/T</td>\n      <td>...</td>\n      <td>T/T</td>\n      <td>T/T</td>\n      <td>T/T</td>\n      <td>T/T</td>\n      <td>T/T</td>\n      <td>T/T</td>\n      <td>T/T</td>\n      <td>T/T</td>\n      <td>T/T</td>\n      <td>T/T</td>\n    </tr>\n    <tr>\n      <th>NC000962_3.80</th>\n      <td>A/A</td>\n      <td>A/A</td>\n      <td>A/A</td>\n      <td>A/A</td>\n      <td>A/A</td>\n      <td>A/A</td>\n      <td>A/A</td>\n      <td>A/A</td>\n      <td>A/A</td>\n      <td>A/A</td>\n      <td>...</td>\n      <td>A/A</td>\n      <td>A/A</td>\n      <td>A/A</td>\n      <td>A/A</td>\n      <td>A/A</td>\n      <td>A/A</td>\n      <td>A/A</td>\n      <td>A/A</td>\n      <td>A/A</td>\n      <td>A/A</td>\n    </tr>\n    <tr>\n      <th>NC000962_3.82</th>\n      <td>G/G</td>\n      <td>G/G</td>\n      <td>G/G</td>\n      <td>G/G</td>\n      <td>G/G</td>\n      <td>G/G</td>\n      <td>G/G</td>\n      <td>G/G</td>\n      <td>G/G</td>\n      <td>G/G</td>\n      <td>...</td>\n      <td>G/G</td>\n      <td>G/G</td>\n      <td>G/G</td>\n      <td>G/G</td>\n      <td>G/G</td>\n      <td>G/G</td>\n      <td>G/G</td>\n      <td>G/G</td>\n      <td>G/G</td>\n      <td>G/G</td>\n    </tr>\n    <tr>\n      <th>NC000962_3.88</th>\n      <td>C/C</td>\n      <td>C/C</td>\n      <td>C/C</td>\n      <td>C/C</td>\n      <td>C/C</td>\n      <td>C/C</td>\n      <td>C/C</td>\n      <td>C/C</td>\n      <td>C/C</td>\n      <td>C/C</td>\n      <td>...</td>\n      <td>C/C</td>\n      <td>C/C</td>\n      <td>C/C</td>\n      <td>C/C</td>\n      <td>C/C</td>\n      <td>C/C</td>\n      <td>C/C</td>\n      <td>C/C</td>\n      <td>C/C</td>\n      <td>C/C</td>\n    </tr>\n  </tbody>\n</table>\n<p>5 rows × 301 columns</p>\n</div>"
     },
     "execution_count": 62,
     "metadata": {},
     "output_type": "execute_result"
    }
   ],
   "source": [
    "vcf_df.set_index('CHROM.POS', inplace= True)\n",
    "vcf_df.to_json(\"../data/interim/vcf_df.json\")\n",
    "vcf_df.head()\n"
   ],
   "metadata": {
    "collapsed": false,
    "pycharm": {
     "name": "#%%\n"
    }
   }
  },
  {
   "cell_type": "code",
   "execution_count": 195,
   "outputs": [
    {
     "data": {
      "text/plain": "              ERR3129939.GT ERR3148148.GT ERR3148149.GT ERR3148151.GT  \\\nNC000962_3.11           A/A           A/A           A/A           A/A   \nNC000962_3.78           T/T           T/T           T/T           T/T   \nNC000962_3.80           A/A           A/A           A/A           A/A   \nNC000962_3.82           G/G           G/G           G/G           G/G   \nNC000962_3.88           C/C           C/C           C/C           C/C   \n\n              ERR3148153.GT ERR3148155.GT ERR3148159.GT ERR3148163.GT  \\\nNC000962_3.11           A/A           A/A           A/A           A/A   \nNC000962_3.78           T/T           T/T           T/T           T/T   \nNC000962_3.80           A/A           A/A           A/A           A/A   \nNC000962_3.82           G/G           G/G           G/G           G/G   \nNC000962_3.88           C/C           C/C           C/C           C/C   \n\n              ERR3148164.GT ERR3148166.GT  ... SRR9224941.GT SRR9224942.GT  \\\nNC000962_3.11           A/A           A/A  ...           A/A           A/A   \nNC000962_3.78           T/T           T/T  ...           T/T           T/T   \nNC000962_3.80           A/A           A/A  ...           A/A           A/A   \nNC000962_3.82           G/G           G/G  ...           G/G           G/G   \nNC000962_3.88           C/C           C/C  ...           C/C           C/C   \n\n              SRR9224952.GT SRR9224958.GT SRR9224968.GT SRR9224981.GT  \\\nNC000962_3.11           A/A           A/A           A/A           A/A   \nNC000962_3.78           T/T           T/T           T/T           T/T   \nNC000962_3.80           A/A           A/A           A/A           A/A   \nNC000962_3.82           G/G           G/G           G/G           G/G   \nNC000962_3.88           C/C           C/C           C/C           C/C   \n\n              SRR9224985.GT SRR9224986.GT SRR9224992.GT SRR9224997.GT  \nNC000962_3.11           A/A           A/A           A/A           A/A  \nNC000962_3.78           T/T           T/T           T/T           T/T  \nNC000962_3.80           A/A           A/A           A/A           A/A  \nNC000962_3.82           G/G           G/G           G/G           G/G  \nNC000962_3.88           C/C           C/C           C/C           C/C  \n\n[5 rows x 301 columns]",
      "text/html": "<div>\n<style scoped>\n    .dataframe tbody tr th:only-of-type {\n        vertical-align: middle;\n    }\n\n    .dataframe tbody tr th {\n        vertical-align: top;\n    }\n\n    .dataframe thead th {\n        text-align: right;\n    }\n</style>\n<table border=\"1\" class=\"dataframe\">\n  <thead>\n    <tr style=\"text-align: right;\">\n      <th></th>\n      <th>ERR3129939.GT</th>\n      <th>ERR3148148.GT</th>\n      <th>ERR3148149.GT</th>\n      <th>ERR3148151.GT</th>\n      <th>ERR3148153.GT</th>\n      <th>ERR3148155.GT</th>\n      <th>ERR3148159.GT</th>\n      <th>ERR3148163.GT</th>\n      <th>ERR3148164.GT</th>\n      <th>ERR3148166.GT</th>\n      <th>...</th>\n      <th>SRR9224941.GT</th>\n      <th>SRR9224942.GT</th>\n      <th>SRR9224952.GT</th>\n      <th>SRR9224958.GT</th>\n      <th>SRR9224968.GT</th>\n      <th>SRR9224981.GT</th>\n      <th>SRR9224985.GT</th>\n      <th>SRR9224986.GT</th>\n      <th>SRR9224992.GT</th>\n      <th>SRR9224997.GT</th>\n    </tr>\n  </thead>\n  <tbody>\n    <tr>\n      <th>NC000962_3.11</th>\n      <td>A/A</td>\n      <td>A/A</td>\n      <td>A/A</td>\n      <td>A/A</td>\n      <td>A/A</td>\n      <td>A/A</td>\n      <td>A/A</td>\n      <td>A/A</td>\n      <td>A/A</td>\n      <td>A/A</td>\n      <td>...</td>\n      <td>A/A</td>\n      <td>A/A</td>\n      <td>A/A</td>\n      <td>A/A</td>\n      <td>A/A</td>\n      <td>A/A</td>\n      <td>A/A</td>\n      <td>A/A</td>\n      <td>A/A</td>\n      <td>A/A</td>\n    </tr>\n    <tr>\n      <th>NC000962_3.78</th>\n      <td>T/T</td>\n      <td>T/T</td>\n      <td>T/T</td>\n      <td>T/T</td>\n      <td>T/T</td>\n      <td>T/T</td>\n      <td>T/T</td>\n      <td>T/T</td>\n      <td>T/T</td>\n      <td>T/T</td>\n      <td>...</td>\n      <td>T/T</td>\n      <td>T/T</td>\n      <td>T/T</td>\n      <td>T/T</td>\n      <td>T/T</td>\n      <td>T/T</td>\n      <td>T/T</td>\n      <td>T/T</td>\n      <td>T/T</td>\n      <td>T/T</td>\n    </tr>\n    <tr>\n      <th>NC000962_3.80</th>\n      <td>A/A</td>\n      <td>A/A</td>\n      <td>A/A</td>\n      <td>A/A</td>\n      <td>A/A</td>\n      <td>A/A</td>\n      <td>A/A</td>\n      <td>A/A</td>\n      <td>A/A</td>\n      <td>A/A</td>\n      <td>...</td>\n      <td>A/A</td>\n      <td>A/A</td>\n      <td>A/A</td>\n      <td>A/A</td>\n      <td>A/A</td>\n      <td>A/A</td>\n      <td>A/A</td>\n      <td>A/A</td>\n      <td>A/A</td>\n      <td>A/A</td>\n    </tr>\n    <tr>\n      <th>NC000962_3.82</th>\n      <td>G/G</td>\n      <td>G/G</td>\n      <td>G/G</td>\n      <td>G/G</td>\n      <td>G/G</td>\n      <td>G/G</td>\n      <td>G/G</td>\n      <td>G/G</td>\n      <td>G/G</td>\n      <td>G/G</td>\n      <td>...</td>\n      <td>G/G</td>\n      <td>G/G</td>\n      <td>G/G</td>\n      <td>G/G</td>\n      <td>G/G</td>\n      <td>G/G</td>\n      <td>G/G</td>\n      <td>G/G</td>\n      <td>G/G</td>\n      <td>G/G</td>\n    </tr>\n    <tr>\n      <th>NC000962_3.88</th>\n      <td>C/C</td>\n      <td>C/C</td>\n      <td>C/C</td>\n      <td>C/C</td>\n      <td>C/C</td>\n      <td>C/C</td>\n      <td>C/C</td>\n      <td>C/C</td>\n      <td>C/C</td>\n      <td>C/C</td>\n      <td>...</td>\n      <td>C/C</td>\n      <td>C/C</td>\n      <td>C/C</td>\n      <td>C/C</td>\n      <td>C/C</td>\n      <td>C/C</td>\n      <td>C/C</td>\n      <td>C/C</td>\n      <td>C/C</td>\n      <td>C/C</td>\n    </tr>\n  </tbody>\n</table>\n<p>5 rows × 301 columns</p>\n</div>"
     },
     "execution_count": 195,
     "metadata": {},
     "output_type": "execute_result"
    }
   ],
   "source": [
    "\n",
    "vcf_df= pd.read_json(\"../data/interim/vcf_df.json\")\n",
    "vcf_df.head()"
   ],
   "metadata": {
    "collapsed": false,
    "pycharm": {
     "name": "#%%\n"
    }
   }
  },
  {
   "cell_type": "code",
   "execution_count": 68,
   "outputs": [
    {
     "data": {
      "text/plain": "              ERR3129939 ERR3148148 ERR3148149 ERR3148151 ERR3148153  \\\nNC000962_3.11        A/A        A/A        A/A        A/A        A/A   \nNC000962_3.78        T/T        T/T        T/T        T/T        T/T   \nNC000962_3.80        A/A        A/A        A/A        A/A        A/A   \nNC000962_3.82        G/G        G/G        G/G        G/G        G/G   \nNC000962_3.88        C/C        C/C        C/C        C/C        C/C   \n\n              ERR3148155 ERR3148159 ERR3148163 ERR3148164 ERR3148166  ...  \\\nNC000962_3.11        A/A        A/A        A/A        A/A        A/A  ...   \nNC000962_3.78        T/T        T/T        T/T        T/T        T/T  ...   \nNC000962_3.80        A/A        A/A        A/A        A/A        A/A  ...   \nNC000962_3.82        G/G        G/G        G/G        G/G        G/G  ...   \nNC000962_3.88        C/C        C/C        C/C        C/C        C/C  ...   \n\n              SRR9224941 SRR9224942 SRR9224952 SRR9224958 SRR9224968  \\\nNC000962_3.11        A/A        A/A        A/A        A/A        A/A   \nNC000962_3.78        T/T        T/T        T/T        T/T        T/T   \nNC000962_3.80        A/A        A/A        A/A        A/A        A/A   \nNC000962_3.82        G/G        G/G        G/G        G/G        G/G   \nNC000962_3.88        C/C        C/C        C/C        C/C        C/C   \n\n              SRR9224981 SRR9224985 SRR9224986 SRR9224992 SRR9224997  \nNC000962_3.11        A/A        A/A        A/A        A/A        A/A  \nNC000962_3.78        T/T        T/T        T/T        T/T        T/T  \nNC000962_3.80        A/A        A/A        A/A        A/A        A/A  \nNC000962_3.82        G/G        G/G        G/G        G/G        G/G  \nNC000962_3.88        C/C        C/C        C/C        C/C        C/C  \n\n[5 rows x 301 columns]",
      "text/html": "<div>\n<style scoped>\n    .dataframe tbody tr th:only-of-type {\n        vertical-align: middle;\n    }\n\n    .dataframe tbody tr th {\n        vertical-align: top;\n    }\n\n    .dataframe thead th {\n        text-align: right;\n    }\n</style>\n<table border=\"1\" class=\"dataframe\">\n  <thead>\n    <tr style=\"text-align: right;\">\n      <th></th>\n      <th>ERR3129939</th>\n      <th>ERR3148148</th>\n      <th>ERR3148149</th>\n      <th>ERR3148151</th>\n      <th>ERR3148153</th>\n      <th>ERR3148155</th>\n      <th>ERR3148159</th>\n      <th>ERR3148163</th>\n      <th>ERR3148164</th>\n      <th>ERR3148166</th>\n      <th>...</th>\n      <th>SRR9224941</th>\n      <th>SRR9224942</th>\n      <th>SRR9224952</th>\n      <th>SRR9224958</th>\n      <th>SRR9224968</th>\n      <th>SRR9224981</th>\n      <th>SRR9224985</th>\n      <th>SRR9224986</th>\n      <th>SRR9224992</th>\n      <th>SRR9224997</th>\n    </tr>\n  </thead>\n  <tbody>\n    <tr>\n      <th>NC000962_3.11</th>\n      <td>A/A</td>\n      <td>A/A</td>\n      <td>A/A</td>\n      <td>A/A</td>\n      <td>A/A</td>\n      <td>A/A</td>\n      <td>A/A</td>\n      <td>A/A</td>\n      <td>A/A</td>\n      <td>A/A</td>\n      <td>...</td>\n      <td>A/A</td>\n      <td>A/A</td>\n      <td>A/A</td>\n      <td>A/A</td>\n      <td>A/A</td>\n      <td>A/A</td>\n      <td>A/A</td>\n      <td>A/A</td>\n      <td>A/A</td>\n      <td>A/A</td>\n    </tr>\n    <tr>\n      <th>NC000962_3.78</th>\n      <td>T/T</td>\n      <td>T/T</td>\n      <td>T/T</td>\n      <td>T/T</td>\n      <td>T/T</td>\n      <td>T/T</td>\n      <td>T/T</td>\n      <td>T/T</td>\n      <td>T/T</td>\n      <td>T/T</td>\n      <td>...</td>\n      <td>T/T</td>\n      <td>T/T</td>\n      <td>T/T</td>\n      <td>T/T</td>\n      <td>T/T</td>\n      <td>T/T</td>\n      <td>T/T</td>\n      <td>T/T</td>\n      <td>T/T</td>\n      <td>T/T</td>\n    </tr>\n    <tr>\n      <th>NC000962_3.80</th>\n      <td>A/A</td>\n      <td>A/A</td>\n      <td>A/A</td>\n      <td>A/A</td>\n      <td>A/A</td>\n      <td>A/A</td>\n      <td>A/A</td>\n      <td>A/A</td>\n      <td>A/A</td>\n      <td>A/A</td>\n      <td>...</td>\n      <td>A/A</td>\n      <td>A/A</td>\n      <td>A/A</td>\n      <td>A/A</td>\n      <td>A/A</td>\n      <td>A/A</td>\n      <td>A/A</td>\n      <td>A/A</td>\n      <td>A/A</td>\n      <td>A/A</td>\n    </tr>\n    <tr>\n      <th>NC000962_3.82</th>\n      <td>G/G</td>\n      <td>G/G</td>\n      <td>G/G</td>\n      <td>G/G</td>\n      <td>G/G</td>\n      <td>G/G</td>\n      <td>G/G</td>\n      <td>G/G</td>\n      <td>G/G</td>\n      <td>G/G</td>\n      <td>...</td>\n      <td>G/G</td>\n      <td>G/G</td>\n      <td>G/G</td>\n      <td>G/G</td>\n      <td>G/G</td>\n      <td>G/G</td>\n      <td>G/G</td>\n      <td>G/G</td>\n      <td>G/G</td>\n      <td>G/G</td>\n    </tr>\n    <tr>\n      <th>NC000962_3.88</th>\n      <td>C/C</td>\n      <td>C/C</td>\n      <td>C/C</td>\n      <td>C/C</td>\n      <td>C/C</td>\n      <td>C/C</td>\n      <td>C/C</td>\n      <td>C/C</td>\n      <td>C/C</td>\n      <td>C/C</td>\n      <td>...</td>\n      <td>C/C</td>\n      <td>C/C</td>\n      <td>C/C</td>\n      <td>C/C</td>\n      <td>C/C</td>\n      <td>C/C</td>\n      <td>C/C</td>\n      <td>C/C</td>\n      <td>C/C</td>\n      <td>C/C</td>\n    </tr>\n  </tbody>\n</table>\n<p>5 rows × 301 columns</p>\n</div>"
     },
     "execution_count": 68,
     "metadata": {},
     "output_type": "execute_result"
    }
   ],
   "source": [
    "vcf_df.columns = list(map (lambda column: column.split(\".\")[0], vcf_df.columns))\n",
    "vcf_df.head()"
   ],
   "metadata": {
    "collapsed": false,
    "pycharm": {
     "name": "#%%\n"
    }
   }
  },
  {
   "cell_type": "code",
   "execution_count": 73,
   "outputs": [],
   "source": [
    "vcf_snps_df = vcf_df.transpose()\n",
    "vcf_snps_df.head()"
   ],
   "metadata": {
    "collapsed": false,
    "pycharm": {
     "name": "#%%\n"
    }
   }
  },
  {
   "cell_type": "code",
   "execution_count": 166,
   "outputs": [],
   "source": [
    "\n",
    "# vcf_snps_df.to_json(\"../data/processed/vcf_snps_df.json\")\n",
    "# vcf_snps_df.to_csv(\"../data/processed/vcf_snps_df.csv\")\n"
   ],
   "metadata": {
    "collapsed": false,
    "pycharm": {
     "name": "#%%\n"
    }
   }
  },
  {
   "cell_type": "code",
   "execution_count": 196,
   "outputs": [
    {
     "data": {
      "text/plain": "           NC000962_3.11 NC000962_3.78 NC000962_3.80 NC000962_3.82  \\\nERR3129939           A/A           T/T           A/A           G/G   \nERR3148148           A/A           T/T           A/A           G/G   \nERR3148149           A/A           T/T           A/A           G/G   \nERR3148151           A/A           T/T           A/A           G/G   \nERR3148153           A/A           T/T           A/A           G/G   \n\n           NC000962_3.88 NC000962_3.102 NC000962_3.104 NC000962_3.108  \\\nERR3129939           C/C            T/T            A/A            C/C   \nERR3148148           C/C            T/T            A/A            C/C   \nERR3148149           C/C            T/T            A/A            C/C   \nERR3148151           C/C            T/T            A/A            C/C   \nERR3148153           C/C            T/T            A/A            C/C   \n\n           NC000962_3.117 NC000962_3.120  ... NC000962_3.4410066  \\\nERR3129939            G/G            G/G  ...                T/T   \nERR3148148            G/G            G/G  ...                T/T   \nERR3148149            G/G            G/G  ...                T/T   \nERR3148151            G/G            G/G  ...                T/T   \nERR3148153            G/G            G/G  ...                T/T   \n\n           NC000962_3.4410070 NC000962_3.4410276 NC000962_3.4410309  \\\nERR3129939                G/G                G/G                G/G   \nERR3148148                G/G                G/G                G/G   \nERR3148149                G/G                G/G                G/G   \nERR3148151                G/G                G/G                G/G   \nERR3148153                G/G                G/G                G/G   \n\n           NC000962_3.4410847 NC000962_3.4411128 NC000962_3.4411245  \\\nERR3129939                C/C                G/G                T/T   \nERR3148148                C/C                G/G                T/T   \nERR3148149                C/C                G/G                T/T   \nERR3148151                C/C                G/G                T/T   \nERR3148153                C/C                G/G                T/T   \n\n           NC000962_3.4411286 NC000962_3.4411405 NC000962_3.4411518  \nERR3129939                G/G                G/G                C/C  \nERR3148148                G/G                G/G                C/C  \nERR3148149                G/G                G/G                C/C  \nERR3148151                G/G                G/G                C/C  \nERR3148153                G/G                G/G                C/C  \n\n[5 rows x 134256 columns]",
      "text/html": "<div>\n<style scoped>\n    .dataframe tbody tr th:only-of-type {\n        vertical-align: middle;\n    }\n\n    .dataframe tbody tr th {\n        vertical-align: top;\n    }\n\n    .dataframe thead th {\n        text-align: right;\n    }\n</style>\n<table border=\"1\" class=\"dataframe\">\n  <thead>\n    <tr style=\"text-align: right;\">\n      <th></th>\n      <th>NC000962_3.11</th>\n      <th>NC000962_3.78</th>\n      <th>NC000962_3.80</th>\n      <th>NC000962_3.82</th>\n      <th>NC000962_3.88</th>\n      <th>NC000962_3.102</th>\n      <th>NC000962_3.104</th>\n      <th>NC000962_3.108</th>\n      <th>NC000962_3.117</th>\n      <th>NC000962_3.120</th>\n      <th>...</th>\n      <th>NC000962_3.4410066</th>\n      <th>NC000962_3.4410070</th>\n      <th>NC000962_3.4410276</th>\n      <th>NC000962_3.4410309</th>\n      <th>NC000962_3.4410847</th>\n      <th>NC000962_3.4411128</th>\n      <th>NC000962_3.4411245</th>\n      <th>NC000962_3.4411286</th>\n      <th>NC000962_3.4411405</th>\n      <th>NC000962_3.4411518</th>\n    </tr>\n  </thead>\n  <tbody>\n    <tr>\n      <th>ERR3129939</th>\n      <td>A/A</td>\n      <td>T/T</td>\n      <td>A/A</td>\n      <td>G/G</td>\n      <td>C/C</td>\n      <td>T/T</td>\n      <td>A/A</td>\n      <td>C/C</td>\n      <td>G/G</td>\n      <td>G/G</td>\n      <td>...</td>\n      <td>T/T</td>\n      <td>G/G</td>\n      <td>G/G</td>\n      <td>G/G</td>\n      <td>C/C</td>\n      <td>G/G</td>\n      <td>T/T</td>\n      <td>G/G</td>\n      <td>G/G</td>\n      <td>C/C</td>\n    </tr>\n    <tr>\n      <th>ERR3148148</th>\n      <td>A/A</td>\n      <td>T/T</td>\n      <td>A/A</td>\n      <td>G/G</td>\n      <td>C/C</td>\n      <td>T/T</td>\n      <td>A/A</td>\n      <td>C/C</td>\n      <td>G/G</td>\n      <td>G/G</td>\n      <td>...</td>\n      <td>T/T</td>\n      <td>G/G</td>\n      <td>G/G</td>\n      <td>G/G</td>\n      <td>C/C</td>\n      <td>G/G</td>\n      <td>T/T</td>\n      <td>G/G</td>\n      <td>G/G</td>\n      <td>C/C</td>\n    </tr>\n    <tr>\n      <th>ERR3148149</th>\n      <td>A/A</td>\n      <td>T/T</td>\n      <td>A/A</td>\n      <td>G/G</td>\n      <td>C/C</td>\n      <td>T/T</td>\n      <td>A/A</td>\n      <td>C/C</td>\n      <td>G/G</td>\n      <td>G/G</td>\n      <td>...</td>\n      <td>T/T</td>\n      <td>G/G</td>\n      <td>G/G</td>\n      <td>G/G</td>\n      <td>C/C</td>\n      <td>G/G</td>\n      <td>T/T</td>\n      <td>G/G</td>\n      <td>G/G</td>\n      <td>C/C</td>\n    </tr>\n    <tr>\n      <th>ERR3148151</th>\n      <td>A/A</td>\n      <td>T/T</td>\n      <td>A/A</td>\n      <td>G/G</td>\n      <td>C/C</td>\n      <td>T/T</td>\n      <td>A/A</td>\n      <td>C/C</td>\n      <td>G/G</td>\n      <td>G/G</td>\n      <td>...</td>\n      <td>T/T</td>\n      <td>G/G</td>\n      <td>G/G</td>\n      <td>G/G</td>\n      <td>C/C</td>\n      <td>G/G</td>\n      <td>T/T</td>\n      <td>G/G</td>\n      <td>G/G</td>\n      <td>C/C</td>\n    </tr>\n    <tr>\n      <th>ERR3148153</th>\n      <td>A/A</td>\n      <td>T/T</td>\n      <td>A/A</td>\n      <td>G/G</td>\n      <td>C/C</td>\n      <td>T/T</td>\n      <td>A/A</td>\n      <td>C/C</td>\n      <td>G/G</td>\n      <td>G/G</td>\n      <td>...</td>\n      <td>T/T</td>\n      <td>G/G</td>\n      <td>G/G</td>\n      <td>G/G</td>\n      <td>C/C</td>\n      <td>G/G</td>\n      <td>T/T</td>\n      <td>G/G</td>\n      <td>G/G</td>\n      <td>C/C</td>\n    </tr>\n  </tbody>\n</table>\n<p>5 rows × 134256 columns</p>\n</div>"
     },
     "execution_count": 196,
     "metadata": {},
     "output_type": "execute_result"
    }
   ],
   "source": [
    "\n",
    "vcf_snps_df = pd.read_json(\"../data/processed/vcf_snps_df.json\")\n",
    "\n",
    "vcf_snps_df.head()"
   ],
   "metadata": {
    "collapsed": false,
    "pycharm": {
     "name": "#%%\n"
    }
   }
  },
  {
   "cell_type": "code",
   "execution_count": 117,
   "outputs": [
    {
     "data": {
      "text/plain": "['A/A',\n 'T/T',\n 'G/G',\n 'C/C',\n 'G|G',\n 'A|A',\n './.',\n 'G/T',\n 'C|G',\n 'T|T',\n 'A|G',\n 'G|A',\n 'C|T',\n 'T|G',\n 'G|C',\n 'T/C',\n 'T|C',\n 'A|T',\n 'G|T',\n 'G|*',\n 'A|*',\n 'C|*',\n '*|*',\n 'C/*',\n 'G/C',\n 'C|C',\n 'A/T',\n 'T/G',\n 'C|A',\n 'A|C',\n 'C/T',\n 'T|A',\n 'A/C',\n 'A/*',\n '.|.',\n 'C/A',\n 'G/A',\n 'C/G',\n '*/*',\n 'G/*',\n 'A/G']"
     },
     "execution_count": 117,
     "metadata": {},
     "output_type": "execute_result"
    }
   ],
   "source": [
    "list(vcf_df['ERR3129939'].unique())"
   ],
   "metadata": {
    "collapsed": false,
    "pycharm": {
     "name": "#%%\n"
    }
   }
  },
  {
   "cell_type": "code",
   "execution_count": 113,
   "outputs": [],
   "source": [
    "def split_allele_pair(allele_pair):\n",
    "    first_allele = list(allele_pair)[0]\n",
    "    second_allele = list(allele_pair)[-1]\n",
    "    return [first_allele, second_allele]\n",
    "\n",
    "def compare_alleles(allele_pair):\n",
    "    first_allele, second_allele = split_allele_pair(allele_pair)\n",
    "    return 1 if first_allele != second_allele else 0\n",
    "\n",
    "# NOTE Finalize the rules for reducing the Allele patterns to Homozygous and Heterozygous\n",
    "def is_heterozygous(allele_pair):\n",
    "    return compare_alleles(split_allele_pair(allele_pair))\n",
    "\n",
    "\n",
    "# list(map(lambda allele_pair: is_heterozygous(allele_pair),\n",
    "#          vcf_df['ERR3129939'].unique()))"
   ],
   "metadata": {
    "collapsed": false,
    "pycharm": {
     "name": "#%%\n"
    }
   }
  },
  {
   "cell_type": "code",
   "execution_count": 163,
   "outputs": [
    {
     "data": {
      "text/plain": "           NC000962_3.11 NC000962_3.78 NC000962_3.80 NC000962_3.82  \\\nERR3129939           A/A           T/T           A/A           G/G   \nERR3148148           A/A           T/T           A/A           G/G   \nERR3148149           A/A           T/T           A/A           G/G   \nERR3148151           A/A           T/T           A/A           G/G   \nERR3148153           A/A           T/T           A/A           G/G   \nERR3148155           A/A           T/T           A/A           G/G   \nERR3148159           A/A           T/T           A/A           G/G   \nERR3148163           A/A           T/T           A/A           G/G   \nERR3148164           A/A           T/T           A/A           G/G   \nERR3148166           A/A           T/T           A/A           G/G   \n\n           NC000962_3.88 NC000962_3.102 NC000962_3.104 NC000962_3.108  \\\nERR3129939           C/C            T/T            A/A            C/C   \nERR3148148           C/C            T/T            A/A            C/C   \nERR3148149           C/C            T/T            A/A            C/C   \nERR3148151           C/C            T/T            A/A            C/C   \nERR3148153           C/C            T/T            A/A            C/C   \nERR3148155           C/C            T/T            A/A            C/C   \nERR3148159           C/C            T/T            A/A            C/C   \nERR3148163           C/C            T/T            A/A            C/C   \nERR3148164           C/C            T/T            A/A            C/C   \nERR3148166           C/C            T/T            A/A            C/C   \n\n           NC000962_3.117 NC000962_3.120  \nERR3129939            G/G            G/G  \nERR3148148            G/G            G/G  \nERR3148149            G/G            G/G  \nERR3148151            G/G            G/G  \nERR3148153            G/G            G/G  \nERR3148155            G/G            G/G  \nERR3148159            G/G            G/G  \nERR3148163            G/G            G/G  \nERR3148164            G/G            G/G  \nERR3148166            G/G            G/G  ",
      "text/html": "<div>\n<style scoped>\n    .dataframe tbody tr th:only-of-type {\n        vertical-align: middle;\n    }\n\n    .dataframe tbody tr th {\n        vertical-align: top;\n    }\n\n    .dataframe thead th {\n        text-align: right;\n    }\n</style>\n<table border=\"1\" class=\"dataframe\">\n  <thead>\n    <tr style=\"text-align: right;\">\n      <th></th>\n      <th>NC000962_3.11</th>\n      <th>NC000962_3.78</th>\n      <th>NC000962_3.80</th>\n      <th>NC000962_3.82</th>\n      <th>NC000962_3.88</th>\n      <th>NC000962_3.102</th>\n      <th>NC000962_3.104</th>\n      <th>NC000962_3.108</th>\n      <th>NC000962_3.117</th>\n      <th>NC000962_3.120</th>\n    </tr>\n  </thead>\n  <tbody>\n    <tr>\n      <th>ERR3129939</th>\n      <td>A/A</td>\n      <td>T/T</td>\n      <td>A/A</td>\n      <td>G/G</td>\n      <td>C/C</td>\n      <td>T/T</td>\n      <td>A/A</td>\n      <td>C/C</td>\n      <td>G/G</td>\n      <td>G/G</td>\n    </tr>\n    <tr>\n      <th>ERR3148148</th>\n      <td>A/A</td>\n      <td>T/T</td>\n      <td>A/A</td>\n      <td>G/G</td>\n      <td>C/C</td>\n      <td>T/T</td>\n      <td>A/A</td>\n      <td>C/C</td>\n      <td>G/G</td>\n      <td>G/G</td>\n    </tr>\n    <tr>\n      <th>ERR3148149</th>\n      <td>A/A</td>\n      <td>T/T</td>\n      <td>A/A</td>\n      <td>G/G</td>\n      <td>C/C</td>\n      <td>T/T</td>\n      <td>A/A</td>\n      <td>C/C</td>\n      <td>G/G</td>\n      <td>G/G</td>\n    </tr>\n    <tr>\n      <th>ERR3148151</th>\n      <td>A/A</td>\n      <td>T/T</td>\n      <td>A/A</td>\n      <td>G/G</td>\n      <td>C/C</td>\n      <td>T/T</td>\n      <td>A/A</td>\n      <td>C/C</td>\n      <td>G/G</td>\n      <td>G/G</td>\n    </tr>\n    <tr>\n      <th>ERR3148153</th>\n      <td>A/A</td>\n      <td>T/T</td>\n      <td>A/A</td>\n      <td>G/G</td>\n      <td>C/C</td>\n      <td>T/T</td>\n      <td>A/A</td>\n      <td>C/C</td>\n      <td>G/G</td>\n      <td>G/G</td>\n    </tr>\n    <tr>\n      <th>ERR3148155</th>\n      <td>A/A</td>\n      <td>T/T</td>\n      <td>A/A</td>\n      <td>G/G</td>\n      <td>C/C</td>\n      <td>T/T</td>\n      <td>A/A</td>\n      <td>C/C</td>\n      <td>G/G</td>\n      <td>G/G</td>\n    </tr>\n    <tr>\n      <th>ERR3148159</th>\n      <td>A/A</td>\n      <td>T/T</td>\n      <td>A/A</td>\n      <td>G/G</td>\n      <td>C/C</td>\n      <td>T/T</td>\n      <td>A/A</td>\n      <td>C/C</td>\n      <td>G/G</td>\n      <td>G/G</td>\n    </tr>\n    <tr>\n      <th>ERR3148163</th>\n      <td>A/A</td>\n      <td>T/T</td>\n      <td>A/A</td>\n      <td>G/G</td>\n      <td>C/C</td>\n      <td>T/T</td>\n      <td>A/A</td>\n      <td>C/C</td>\n      <td>G/G</td>\n      <td>G/G</td>\n    </tr>\n    <tr>\n      <th>ERR3148164</th>\n      <td>A/A</td>\n      <td>T/T</td>\n      <td>A/A</td>\n      <td>G/G</td>\n      <td>C/C</td>\n      <td>T/T</td>\n      <td>A/A</td>\n      <td>C/C</td>\n      <td>G/G</td>\n      <td>G/G</td>\n    </tr>\n    <tr>\n      <th>ERR3148166</th>\n      <td>A/A</td>\n      <td>T/T</td>\n      <td>A/A</td>\n      <td>G/G</td>\n      <td>C/C</td>\n      <td>T/T</td>\n      <td>A/A</td>\n      <td>C/C</td>\n      <td>G/G</td>\n      <td>G/G</td>\n    </tr>\n  </tbody>\n</table>\n</div>"
     },
     "execution_count": 163,
     "metadata": {},
     "output_type": "execute_result"
    }
   ],
   "source": [
    "temp_df = vcf_snps_df.iloc[:10, :10]\n",
    "\n",
    "temp_df"
   ],
   "metadata": {
    "collapsed": false,
    "pycharm": {
     "name": "#%%\n"
    }
   }
  },
  {
   "cell_type": "code",
   "execution_count": 164,
   "outputs": [
    {
     "data": {
      "text/plain": "           NC000962_3.11 NC000962_3.78 NC000962_3.80 NC000962_3.82  \\\nERR3129939             0             0             0             0   \nERR3148148             0             0             0             0   \nERR3148149             0             0             0             0   \nERR3148151             0             0             0             0   \nERR3148153             0             0             0             0   \nERR3148155             0             0             0             0   \nERR3148159             0             0             0             0   \nERR3148163             0             0             0             0   \nERR3148164             0             0             0             0   \nERR3148166             0             0             0             0   \n\n           NC000962_3.88 NC000962_3.102 NC000962_3.104 NC000962_3.108  \\\nERR3129939             0              0              0              0   \nERR3148148             0              0              0              0   \nERR3148149             0              0              0              0   \nERR3148151             0              0              0              0   \nERR3148153             0              0              0              0   \nERR3148155             0              0              0              0   \nERR3148159             0              0              0              0   \nERR3148163             0              0              0              0   \nERR3148164             0              0              0              0   \nERR3148166             0              0              0              0   \n\n           NC000962_3.117 NC000962_3.120  \nERR3129939              0              0  \nERR3148148              0              0  \nERR3148149              0              0  \nERR3148151              0              0  \nERR3148153              0              0  \nERR3148155              0              0  \nERR3148159              0              0  \nERR3148163              0              0  \nERR3148164              0              0  \nERR3148166              0              0  ",
      "text/html": "<div>\n<style scoped>\n    .dataframe tbody tr th:only-of-type {\n        vertical-align: middle;\n    }\n\n    .dataframe tbody tr th {\n        vertical-align: top;\n    }\n\n    .dataframe thead th {\n        text-align: right;\n    }\n</style>\n<table border=\"1\" class=\"dataframe\">\n  <thead>\n    <tr style=\"text-align: right;\">\n      <th></th>\n      <th>NC000962_3.11</th>\n      <th>NC000962_3.78</th>\n      <th>NC000962_3.80</th>\n      <th>NC000962_3.82</th>\n      <th>NC000962_3.88</th>\n      <th>NC000962_3.102</th>\n      <th>NC000962_3.104</th>\n      <th>NC000962_3.108</th>\n      <th>NC000962_3.117</th>\n      <th>NC000962_3.120</th>\n    </tr>\n  </thead>\n  <tbody>\n    <tr>\n      <th>ERR3129939</th>\n      <td>0</td>\n      <td>0</td>\n      <td>0</td>\n      <td>0</td>\n      <td>0</td>\n      <td>0</td>\n      <td>0</td>\n      <td>0</td>\n      <td>0</td>\n      <td>0</td>\n    </tr>\n    <tr>\n      <th>ERR3148148</th>\n      <td>0</td>\n      <td>0</td>\n      <td>0</td>\n      <td>0</td>\n      <td>0</td>\n      <td>0</td>\n      <td>0</td>\n      <td>0</td>\n      <td>0</td>\n      <td>0</td>\n    </tr>\n    <tr>\n      <th>ERR3148149</th>\n      <td>0</td>\n      <td>0</td>\n      <td>0</td>\n      <td>0</td>\n      <td>0</td>\n      <td>0</td>\n      <td>0</td>\n      <td>0</td>\n      <td>0</td>\n      <td>0</td>\n    </tr>\n    <tr>\n      <th>ERR3148151</th>\n      <td>0</td>\n      <td>0</td>\n      <td>0</td>\n      <td>0</td>\n      <td>0</td>\n      <td>0</td>\n      <td>0</td>\n      <td>0</td>\n      <td>0</td>\n      <td>0</td>\n    </tr>\n    <tr>\n      <th>ERR3148153</th>\n      <td>0</td>\n      <td>0</td>\n      <td>0</td>\n      <td>0</td>\n      <td>0</td>\n      <td>0</td>\n      <td>0</td>\n      <td>0</td>\n      <td>0</td>\n      <td>0</td>\n    </tr>\n    <tr>\n      <th>ERR3148155</th>\n      <td>0</td>\n      <td>0</td>\n      <td>0</td>\n      <td>0</td>\n      <td>0</td>\n      <td>0</td>\n      <td>0</td>\n      <td>0</td>\n      <td>0</td>\n      <td>0</td>\n    </tr>\n    <tr>\n      <th>ERR3148159</th>\n      <td>0</td>\n      <td>0</td>\n      <td>0</td>\n      <td>0</td>\n      <td>0</td>\n      <td>0</td>\n      <td>0</td>\n      <td>0</td>\n      <td>0</td>\n      <td>0</td>\n    </tr>\n    <tr>\n      <th>ERR3148163</th>\n      <td>0</td>\n      <td>0</td>\n      <td>0</td>\n      <td>0</td>\n      <td>0</td>\n      <td>0</td>\n      <td>0</td>\n      <td>0</td>\n      <td>0</td>\n      <td>0</td>\n    </tr>\n    <tr>\n      <th>ERR3148164</th>\n      <td>0</td>\n      <td>0</td>\n      <td>0</td>\n      <td>0</td>\n      <td>0</td>\n      <td>0</td>\n      <td>0</td>\n      <td>0</td>\n      <td>0</td>\n      <td>0</td>\n    </tr>\n    <tr>\n      <th>ERR3148166</th>\n      <td>0</td>\n      <td>0</td>\n      <td>0</td>\n      <td>0</td>\n      <td>0</td>\n      <td>0</td>\n      <td>0</td>\n      <td>0</td>\n      <td>0</td>\n      <td>0</td>\n    </tr>\n  </tbody>\n</table>\n</div>"
     },
     "execution_count": 164,
     "metadata": {},
     "output_type": "execute_result"
    }
   ],
   "source": [
    "temp_df.apply(is_heterozygous, result_type='broadcast')"
   ],
   "metadata": {
    "collapsed": false,
    "pycharm": {
     "name": "#%%\n"
    }
   }
  },
  {
   "cell_type": "code",
   "execution_count": 167,
   "outputs": [
    {
     "data": {
      "text/plain": "           NC000962_3.11 NC000962_3.78 NC000962_3.80 NC000962_3.82  \\\nERR3129939             0             0             0             0   \nERR3148148             0             0             0             0   \nERR3148149             0             0             0             0   \nERR3148151             0             0             0             0   \nERR3148153             0             0             0             0   \n\n           NC000962_3.88 NC000962_3.102 NC000962_3.104 NC000962_3.108  \\\nERR3129939             0              0              0              0   \nERR3148148             0              0              0              0   \nERR3148149             0              0              0              0   \nERR3148151             0              0              0              0   \nERR3148153             0              0              0              0   \n\n           NC000962_3.117 NC000962_3.120  ... NC000962_3.4410066  \\\nERR3129939              0              0  ...                  0   \nERR3148148              0              0  ...                  0   \nERR3148149              0              0  ...                  0   \nERR3148151              0              0  ...                  0   \nERR3148153              0              0  ...                  0   \n\n           NC000962_3.4410070 NC000962_3.4410276 NC000962_3.4410309  \\\nERR3129939                  0                  0                  0   \nERR3148148                  0                  0                  0   \nERR3148149                  0                  0                  0   \nERR3148151                  0                  0                  0   \nERR3148153                  0                  0                  0   \n\n           NC000962_3.4410847 NC000962_3.4411128 NC000962_3.4411245  \\\nERR3129939                  0                  0                  0   \nERR3148148                  0                  0                  0   \nERR3148149                  0                  0                  0   \nERR3148151                  0                  0                  0   \nERR3148153                  0                  0                  0   \n\n           NC000962_3.4411286 NC000962_3.4411405 NC000962_3.4411518  \nERR3129939                  0                  0                  0  \nERR3148148                  0                  0                  0  \nERR3148149                  0                  0                  0  \nERR3148151                  0                  0                  0  \nERR3148153                  0                  0                  0  \n\n[5 rows x 134256 columns]",
      "text/html": "<div>\n<style scoped>\n    .dataframe tbody tr th:only-of-type {\n        vertical-align: middle;\n    }\n\n    .dataframe tbody tr th {\n        vertical-align: top;\n    }\n\n    .dataframe thead th {\n        text-align: right;\n    }\n</style>\n<table border=\"1\" class=\"dataframe\">\n  <thead>\n    <tr style=\"text-align: right;\">\n      <th></th>\n      <th>NC000962_3.11</th>\n      <th>NC000962_3.78</th>\n      <th>NC000962_3.80</th>\n      <th>NC000962_3.82</th>\n      <th>NC000962_3.88</th>\n      <th>NC000962_3.102</th>\n      <th>NC000962_3.104</th>\n      <th>NC000962_3.108</th>\n      <th>NC000962_3.117</th>\n      <th>NC000962_3.120</th>\n      <th>...</th>\n      <th>NC000962_3.4410066</th>\n      <th>NC000962_3.4410070</th>\n      <th>NC000962_3.4410276</th>\n      <th>NC000962_3.4410309</th>\n      <th>NC000962_3.4410847</th>\n      <th>NC000962_3.4411128</th>\n      <th>NC000962_3.4411245</th>\n      <th>NC000962_3.4411286</th>\n      <th>NC000962_3.4411405</th>\n      <th>NC000962_3.4411518</th>\n    </tr>\n  </thead>\n  <tbody>\n    <tr>\n      <th>ERR3129939</th>\n      <td>0</td>\n      <td>0</td>\n      <td>0</td>\n      <td>0</td>\n      <td>0</td>\n      <td>0</td>\n      <td>0</td>\n      <td>0</td>\n      <td>0</td>\n      <td>0</td>\n      <td>...</td>\n      <td>0</td>\n      <td>0</td>\n      <td>0</td>\n      <td>0</td>\n      <td>0</td>\n      <td>0</td>\n      <td>0</td>\n      <td>0</td>\n      <td>0</td>\n      <td>0</td>\n    </tr>\n    <tr>\n      <th>ERR3148148</th>\n      <td>0</td>\n      <td>0</td>\n      <td>0</td>\n      <td>0</td>\n      <td>0</td>\n      <td>0</td>\n      <td>0</td>\n      <td>0</td>\n      <td>0</td>\n      <td>0</td>\n      <td>...</td>\n      <td>0</td>\n      <td>0</td>\n      <td>0</td>\n      <td>0</td>\n      <td>0</td>\n      <td>0</td>\n      <td>0</td>\n      <td>0</td>\n      <td>0</td>\n      <td>0</td>\n    </tr>\n    <tr>\n      <th>ERR3148149</th>\n      <td>0</td>\n      <td>0</td>\n      <td>0</td>\n      <td>0</td>\n      <td>0</td>\n      <td>0</td>\n      <td>0</td>\n      <td>0</td>\n      <td>0</td>\n      <td>0</td>\n      <td>...</td>\n      <td>0</td>\n      <td>0</td>\n      <td>0</td>\n      <td>0</td>\n      <td>0</td>\n      <td>0</td>\n      <td>0</td>\n      <td>0</td>\n      <td>0</td>\n      <td>0</td>\n    </tr>\n    <tr>\n      <th>ERR3148151</th>\n      <td>0</td>\n      <td>0</td>\n      <td>0</td>\n      <td>0</td>\n      <td>0</td>\n      <td>0</td>\n      <td>0</td>\n      <td>0</td>\n      <td>0</td>\n      <td>0</td>\n      <td>...</td>\n      <td>0</td>\n      <td>0</td>\n      <td>0</td>\n      <td>0</td>\n      <td>0</td>\n      <td>0</td>\n      <td>0</td>\n      <td>0</td>\n      <td>0</td>\n      <td>0</td>\n    </tr>\n    <tr>\n      <th>ERR3148153</th>\n      <td>0</td>\n      <td>0</td>\n      <td>0</td>\n      <td>0</td>\n      <td>0</td>\n      <td>0</td>\n      <td>0</td>\n      <td>0</td>\n      <td>0</td>\n      <td>0</td>\n      <td>...</td>\n      <td>0</td>\n      <td>0</td>\n      <td>0</td>\n      <td>0</td>\n      <td>0</td>\n      <td>0</td>\n      <td>0</td>\n      <td>0</td>\n      <td>0</td>\n      <td>0</td>\n    </tr>\n  </tbody>\n</table>\n<p>5 rows × 134256 columns</p>\n</div>"
     },
     "execution_count": 167,
     "metadata": {},
     "output_type": "execute_result"
    }
   ],
   "source": [
    "\n",
    "binary_vcf_snps_df= vcf_snps_df.apply(is_heterozygous, result_type='broadcast')\n",
    "binary_vcf_snps_df.head()"
   ],
   "metadata": {
    "collapsed": false,
    "pycharm": {
     "name": "#%%\n"
    }
   }
  },
  {
   "cell_type": "code",
   "execution_count": 176,
   "outputs": [],
   "source": [
    "\n",
    "binary_vcf_snps_df.to_csv(\"../data/processed/binary_vcf_snps_df.csv\")\n"
   ],
   "metadata": {
    "collapsed": false,
    "pycharm": {
     "name": "#%%\n"
    }
   }
  },
  {
   "cell_type": "code",
   "execution_count": 187,
   "outputs": [],
   "source": [
    "# list(binary_vcf_snps_df['NC000962_3.78'].unique())\n",
    "\n",
    "ls = list(map(lambda col: list(binary_vcf_snps_df[col].unique()),\n",
    "         binary_vcf_snps_df.columns))\n"
   ],
   "metadata": {
    "collapsed": false,
    "pycharm": {
     "name": "#%%\n"
    }
   }
  },
  {
   "cell_type": "code",
   "execution_count": 179,
   "outputs": [
    {
     "data": {
      "text/plain": "{(0,), (1,)}"
     },
     "execution_count": 179,
     "metadata": {},
     "output_type": "execute_result"
    }
   ],
   "source": [
    "set(tuple(row) for row in ls)\n"
   ],
   "metadata": {
    "collapsed": false,
    "pycharm": {
     "name": "#%%\n"
    }
   }
  },
  {
   "cell_type": "code",
   "execution_count": 182,
   "outputs": [
    {
     "data": {
      "text/plain": "Index(['ERR760783', 'ERR776661', 'SRR11098556', 'ERR760911', 'SRR9224969',\n       'SRR3724983', 'ERR760896', 'SRR7517815', 'ERR775379', 'ERR760742',\n       ...\n       'ERR772265', 'ERR3129939', 'SRR10851603', 'ERR775362', 'ERR775365',\n       'SRR10851740', 'ERR751560', 'SRR10851694', 'ERR757166', 'ERR751427'],\n      dtype='object', length=1321)"
     },
     "execution_count": 182,
     "metadata": {},
     "output_type": "execute_result"
    }
   ],
   "source": [
    "resistance_status_df.index\n"
   ],
   "metadata": {
    "collapsed": false,
    "pycharm": {
     "name": "#%%\n"
    }
   }
  },
  {
   "cell_type": "code",
   "execution_count": 184,
   "outputs": [
    {
     "data": {
      "text/plain": "{'ERR3129939',\n 'ERR3148148',\n 'ERR3148149',\n 'ERR3148151',\n 'ERR3148153',\n 'ERR3148155',\n 'ERR3148159',\n 'ERR3148163',\n 'ERR3148164',\n 'ERR3148166',\n 'ERR3148171',\n 'ERR3148173',\n 'ERR3148176',\n 'ERR3148179',\n 'ERR3148180',\n 'ERR3148182',\n 'ERR3148184',\n 'ERR3148187',\n 'ERR3148188',\n 'ERR3148190',\n 'ERR3148192',\n 'ERR3148196',\n 'ERR3148198',\n 'ERR3148199',\n 'ERR3148200',\n 'ERR3148205',\n 'ERR3148206',\n 'ERR3148207',\n 'ERR3148209',\n 'ERR3148211',\n 'ERR3148215',\n 'ERR3148217',\n 'ERR3148220',\n 'ERR3148222',\n 'ERR3148224',\n 'ERR3148225',\n 'ERR3148226',\n 'ERR3148227',\n 'ERR3148230',\n 'ERR751350',\n 'ERR751351',\n 'ERR751352',\n 'ERR751353',\n 'ERR751356',\n 'ERR751359',\n 'ERR751361',\n 'ERR751362',\n 'ERR751363',\n 'ERR751366',\n 'ERR751367',\n 'ERR751369',\n 'ERR751370',\n 'ERR751373',\n 'ERR751375',\n 'ERR751382',\n 'ERR751384',\n 'ERR751389',\n 'ERR751392',\n 'ERR751393',\n 'ERR751394',\n 'ERR751396',\n 'ERR751397',\n 'ERR751398',\n 'ERR751399',\n 'ERR751400',\n 'ERR751402',\n 'ERR751403',\n 'ERR751405',\n 'ERR751406',\n 'ERR751410',\n 'ERR751412',\n 'ERR751418',\n 'ERR751419',\n 'ERR751420',\n 'ERR751422',\n 'ERR751425',\n 'ERR751426',\n 'ERR751428',\n 'ERR751432',\n 'ERR751434',\n 'ERR751435',\n 'ERR751436',\n 'ERR751438',\n 'ERR751439',\n 'ERR751440',\n 'ERR751443',\n 'ERR751446',\n 'ERR751447',\n 'ERR751450',\n 'ERR751451',\n 'ERR751452',\n 'ERR751454',\n 'ERR751455',\n 'ERR751456',\n 'ERR751458',\n 'ERR751459',\n 'ERR751465',\n 'ERR751468',\n 'ERR751469',\n 'ERR751470',\n 'ERR751472',\n 'ERR751473',\n 'ERR751474',\n 'ERR751476',\n 'ERR751477',\n 'ERR751479',\n 'ERR751481',\n 'ERR751482',\n 'ERR751483',\n 'ERR751484',\n 'ERR751485',\n 'ERR751489',\n 'ERR751490',\n 'ERR751492',\n 'ERR751493',\n 'ERR751496',\n 'ERR751501',\n 'ERR751502',\n 'ERR751503',\n 'ERR751504',\n 'ERR751505',\n 'ERR751509',\n 'ERR751510',\n 'ERR751511',\n 'ERR751516',\n 'ERR751517',\n 'ERR751518',\n 'ERR751519',\n 'ERR751521',\n 'ERR751523',\n 'ERR751524',\n 'ERR751525',\n 'ERR751526',\n 'ERR751527',\n 'ERR751528',\n 'ERR751532',\n 'ERR751533',\n 'ERR751535',\n 'ERR751544',\n 'ERR751560',\n 'ERR751567',\n 'ERR751576',\n 'ERR751587',\n 'ERR751591',\n 'ERR751602',\n 'ERR751605',\n 'ERR751613',\n 'ERR751624',\n 'ERR751626',\n 'ERR751630',\n 'ERR757149',\n 'ERR757150',\n 'ERR757169',\n 'ERR757172',\n 'ERR757185',\n 'ERR760605',\n 'ERR760609',\n 'ERR760611',\n 'ERR760733',\n 'ERR760742',\n 'ERR760752',\n 'ERR760755',\n 'ERR760758',\n 'ERR760761',\n 'ERR760778',\n 'ERR760783',\n 'ERR760789',\n 'ERR760793',\n 'ERR760795',\n 'ERR760796',\n 'ERR760803',\n 'ERR760821',\n 'ERR760822',\n 'ERR760837',\n 'ERR760838',\n 'ERR760856',\n 'ERR760868',\n 'ERR760880',\n 'ERR760885',\n 'ERR760897',\n 'ERR760919',\n 'ERR760922',\n 'ERR760924',\n 'ERR760926',\n 'ERR760927',\n 'ERR772255',\n 'ERR772257',\n 'ERR775296',\n 'ERR775299',\n 'ERR775303',\n 'ERR775305',\n 'ERR775307',\n 'ERR775308',\n 'ERR775312',\n 'ERR775316',\n 'ERR775324',\n 'ERR775328',\n 'ERR775329',\n 'ERR775333',\n 'ERR775336',\n 'ERR775339',\n 'ERR775341',\n 'ERR775345',\n 'ERR775346',\n 'ERR775357',\n 'ERR775360',\n 'ERR775363',\n 'ERR775368',\n 'ERR775387',\n 'ERR776454',\n 'ERR776464',\n 'ERR776470',\n 'ERR776669',\n 'ERR779848',\n 'ERR779851',\n 'ERR779857',\n 'ERR779859',\n 'ERR779860',\n 'ERR779866',\n 'ERR779875',\n 'ERR779878',\n 'ERR779885',\n 'ERR779889',\n 'ERR779894',\n 'ERR779909',\n 'ERR779914',\n 'ERR779915',\n 'ERR779923',\n 'ERR845307',\n 'ERR845935',\n 'ERR850262',\n 'SRR10851590',\n 'SRR10851592',\n 'SRR10851598',\n 'SRR10851606',\n 'SRR10851607',\n 'SRR10851627',\n 'SRR10851628',\n 'SRR10851632',\n 'SRR10851639',\n 'SRR10851660',\n 'SRR10851674',\n 'SRR10851691',\n 'SRR10851696',\n 'SRR10851699',\n 'SRR10851701',\n 'SRR10851704',\n 'SRR10851707',\n 'SRR10851720',\n 'SRR10851726',\n 'SRR10851730',\n 'SRR10851732',\n 'SRR10851738',\n 'SRR11098560',\n 'SRR11922492',\n 'SRR11922528',\n 'SRR11947360',\n 'SRR11947378',\n 'SRR11947384',\n 'SRR11947396',\n 'SRR1765874',\n 'SRR3724972',\n 'SRR3724983',\n 'SRR3724984',\n 'SRR3732577',\n 'SRR3732579',\n 'SRR3732584',\n 'SRR3732596',\n 'SRR3732621',\n 'SRR3732645',\n 'SRR3732651',\n 'SRR3732678',\n 'SRR3732712',\n 'SRR5535711',\n 'SRR5535780',\n 'SRR6389903',\n 'SRR7517767',\n 'SRR7517813',\n 'SRR7517816',\n 'SRR8698480',\n 'SRR8698482',\n 'SRR8698491',\n 'SRR8698504',\n 'SRR8698506',\n 'SRR9224908',\n 'SRR9224927',\n 'SRR9224928',\n 'SRR9224929',\n 'SRR9224930',\n 'SRR9224933',\n 'SRR9224936',\n 'SRR9224941',\n 'SRR9224942',\n 'SRR9224952',\n 'SRR9224958',\n 'SRR9224968',\n 'SRR9224981',\n 'SRR9224985',\n 'SRR9224986',\n 'SRR9224992',\n 'SRR9224997'}"
     },
     "execution_count": 184,
     "metadata": {},
     "output_type": "execute_result"
    }
   ],
   "source": [
    "binary_vcf_snps_df.index"
   ],
   "metadata": {
    "collapsed": false,
    "pycharm": {
     "name": "#%%\n"
    }
   }
  },
  {
   "cell_type": "code",
   "execution_count": 197,
   "metadata": {
    "pycharm": {
     "name": "#%%\n"
    }
   },
   "outputs": [
    {
     "data": {
      "text/plain": "           NC000962_3.11 NC000962_3.78 NC000962_3.80 NC000962_3.82  \\\nERR3129939             0             0             0             0   \nERR3148148             0             0             0             0   \nERR3148149             0             0             0             0   \nERR3148151             0             0             0             0   \nERR3148153             0             0             0             0   \n\n           NC000962_3.88 NC000962_3.102 NC000962_3.104 NC000962_3.108  \\\nERR3129939             0              0              0              0   \nERR3148148             0              0              0              0   \nERR3148149             0              0              0              0   \nERR3148151             0              0              0              0   \nERR3148153             0              0              0              0   \n\n           NC000962_3.117 NC000962_3.120  ... linezolid bedaquiline  \\\nERR3129939              0              0  ...         -           -   \nERR3148148              0              0  ...         -           -   \nERR3148149              0              0  ...         -           -   \nERR3148151              0              0  ...         -           -   \nERR3148153              0              0  ...         -           -   \n\n           clofazimine delamanid  main_lin          sublin          drtype  \\\nERR3129939           -         -  lineage4  lineage4.1.1.3       Sensitive   \nERR3148148           -         -  lineage4  lineage4.1.2.1       Sensitive   \nERR3148149           -         -  lineage4      lineage4.1  Drug-resistant   \nERR3148151           -         -  lineage4  lineage4.1.1.3             MDR   \nERR3148153           -         -  lineage4  lineage4.1.2.1       Sensitive   \n\n           MDR XDR isResistant  \nERR3129939                 0.0  \nERR3148148                 0.0  \nERR3148149                 1.0  \nERR3148151   R             1.0  \nERR3148153                 0.0  \n\n[5 rows x 134283 columns]",
      "text/html": "<div>\n<style scoped>\n    .dataframe tbody tr th:only-of-type {\n        vertical-align: middle;\n    }\n\n    .dataframe tbody tr th {\n        vertical-align: top;\n    }\n\n    .dataframe thead th {\n        text-align: right;\n    }\n</style>\n<table border=\"1\" class=\"dataframe\">\n  <thead>\n    <tr style=\"text-align: right;\">\n      <th></th>\n      <th>NC000962_3.11</th>\n      <th>NC000962_3.78</th>\n      <th>NC000962_3.80</th>\n      <th>NC000962_3.82</th>\n      <th>NC000962_3.88</th>\n      <th>NC000962_3.102</th>\n      <th>NC000962_3.104</th>\n      <th>NC000962_3.108</th>\n      <th>NC000962_3.117</th>\n      <th>NC000962_3.120</th>\n      <th>...</th>\n      <th>linezolid</th>\n      <th>bedaquiline</th>\n      <th>clofazimine</th>\n      <th>delamanid</th>\n      <th>main_lin</th>\n      <th>sublin</th>\n      <th>drtype</th>\n      <th>MDR</th>\n      <th>XDR</th>\n      <th>isResistant</th>\n    </tr>\n  </thead>\n  <tbody>\n    <tr>\n      <th>ERR3129939</th>\n      <td>0</td>\n      <td>0</td>\n      <td>0</td>\n      <td>0</td>\n      <td>0</td>\n      <td>0</td>\n      <td>0</td>\n      <td>0</td>\n      <td>0</td>\n      <td>0</td>\n      <td>...</td>\n      <td>-</td>\n      <td>-</td>\n      <td>-</td>\n      <td>-</td>\n      <td>lineage4</td>\n      <td>lineage4.1.1.3</td>\n      <td>Sensitive</td>\n      <td></td>\n      <td></td>\n      <td>0.0</td>\n    </tr>\n    <tr>\n      <th>ERR3148148</th>\n      <td>0</td>\n      <td>0</td>\n      <td>0</td>\n      <td>0</td>\n      <td>0</td>\n      <td>0</td>\n      <td>0</td>\n      <td>0</td>\n      <td>0</td>\n      <td>0</td>\n      <td>...</td>\n      <td>-</td>\n      <td>-</td>\n      <td>-</td>\n      <td>-</td>\n      <td>lineage4</td>\n      <td>lineage4.1.2.1</td>\n      <td>Sensitive</td>\n      <td></td>\n      <td></td>\n      <td>0.0</td>\n    </tr>\n    <tr>\n      <th>ERR3148149</th>\n      <td>0</td>\n      <td>0</td>\n      <td>0</td>\n      <td>0</td>\n      <td>0</td>\n      <td>0</td>\n      <td>0</td>\n      <td>0</td>\n      <td>0</td>\n      <td>0</td>\n      <td>...</td>\n      <td>-</td>\n      <td>-</td>\n      <td>-</td>\n      <td>-</td>\n      <td>lineage4</td>\n      <td>lineage4.1</td>\n      <td>Drug-resistant</td>\n      <td></td>\n      <td></td>\n      <td>1.0</td>\n    </tr>\n    <tr>\n      <th>ERR3148151</th>\n      <td>0</td>\n      <td>0</td>\n      <td>0</td>\n      <td>0</td>\n      <td>0</td>\n      <td>0</td>\n      <td>0</td>\n      <td>0</td>\n      <td>0</td>\n      <td>0</td>\n      <td>...</td>\n      <td>-</td>\n      <td>-</td>\n      <td>-</td>\n      <td>-</td>\n      <td>lineage4</td>\n      <td>lineage4.1.1.3</td>\n      <td>MDR</td>\n      <td>R</td>\n      <td></td>\n      <td>1.0</td>\n    </tr>\n    <tr>\n      <th>ERR3148153</th>\n      <td>0</td>\n      <td>0</td>\n      <td>0</td>\n      <td>0</td>\n      <td>0</td>\n      <td>0</td>\n      <td>0</td>\n      <td>0</td>\n      <td>0</td>\n      <td>0</td>\n      <td>...</td>\n      <td>-</td>\n      <td>-</td>\n      <td>-</td>\n      <td>-</td>\n      <td>lineage4</td>\n      <td>lineage4.1.2.1</td>\n      <td>Sensitive</td>\n      <td></td>\n      <td></td>\n      <td>0.0</td>\n    </tr>\n  </tbody>\n</table>\n<p>5 rows × 134283 columns</p>\n</div>"
     },
     "execution_count": 197,
     "metadata": {},
     "output_type": "execute_result"
    }
   ],
   "source": [
    "final_df = binary_vcf_snps_df.join(resistance_status_df)\n",
    "# cols = list(final_df.columns)\n",
    "# cols = [*cols[1:], cols[0]]\n",
    "# final_df = final_df[cols]\n",
    "final_df.head()"
   ]
  },
  {
   "cell_type": "code",
   "execution_count": 198,
   "metadata": {
    "pycharm": {
     "name": "#%%\n"
    }
   },
   "outputs": [],
   "source": [
    "\n",
    "final_df.to_json(\"../data/processed/final_df.json\")\n"
   ]
  },
  {
   "cell_type": "code",
   "execution_count": 199,
   "outputs": [],
   "source": [
    "final_df.to_csv(\"../data/processed/final_df.csv\")"
   ],
   "metadata": {
    "collapsed": false,
    "pycharm": {
     "name": "#%%\n"
    }
   }
  },
  {
   "cell_type": "code",
   "execution_count": null,
   "outputs": [],
   "source": [
    "# final_df = pd.read_csv(\"../data/processed/final_df.csv\")\n",
    "# final_df = pd.read_json(\"../data/processed/final_df.json\")\n"
   ],
   "metadata": {
    "collapsed": false,
    "pycharm": {
     "name": "#%%\n"
    }
   }
  },
  {
   "cell_type": "code",
   "execution_count": 200,
   "metadata": {
    "pycharm": {
     "name": "#%%\n"
    }
   },
   "outputs": [
    {
     "data": {
      "text/plain": "           NC000962_3.11 NC000962_3.78 NC000962_3.80 NC000962_3.82  \\\nERR3129939             0             0             0             0   \nERR3148148             0             0             0             0   \nERR3148149             0             0             0             0   \nERR3148151             0             0             0             0   \nERR3148153             0             0             0             0   \n\n           NC000962_3.88 NC000962_3.102 NC000962_3.104 NC000962_3.108  \\\nERR3129939             0              0              0              0   \nERR3148148             0              0              0              0   \nERR3148149             0              0              0              0   \nERR3148151             0              0              0              0   \nERR3148153             0              0              0              0   \n\n           NC000962_3.117 NC000962_3.120  ... linezolid bedaquiline  \\\nERR3129939              0              0  ...         -           -   \nERR3148148              0              0  ...         -           -   \nERR3148149              0              0  ...         -           -   \nERR3148151              0              0  ...         -           -   \nERR3148153              0              0  ...         -           -   \n\n           clofazimine delamanid  main_lin          sublin          drtype  \\\nERR3129939           -         -  lineage4  lineage4.1.1.3       Sensitive   \nERR3148148           -         -  lineage4  lineage4.1.2.1       Sensitive   \nERR3148149           -         -  lineage4      lineage4.1  Drug-resistant   \nERR3148151           -         -  lineage4  lineage4.1.1.3             MDR   \nERR3148153           -         -  lineage4  lineage4.1.2.1       Sensitive   \n\n           MDR XDR isResistant  \nERR3129939                 0.0  \nERR3148148                 0.0  \nERR3148149                 1.0  \nERR3148151   R             1.0  \nERR3148153                 0.0  \n\n[5 rows x 134283 columns]",
      "text/html": "<div>\n<style scoped>\n    .dataframe tbody tr th:only-of-type {\n        vertical-align: middle;\n    }\n\n    .dataframe tbody tr th {\n        vertical-align: top;\n    }\n\n    .dataframe thead th {\n        text-align: right;\n    }\n</style>\n<table border=\"1\" class=\"dataframe\">\n  <thead>\n    <tr style=\"text-align: right;\">\n      <th></th>\n      <th>NC000962_3.11</th>\n      <th>NC000962_3.78</th>\n      <th>NC000962_3.80</th>\n      <th>NC000962_3.82</th>\n      <th>NC000962_3.88</th>\n      <th>NC000962_3.102</th>\n      <th>NC000962_3.104</th>\n      <th>NC000962_3.108</th>\n      <th>NC000962_3.117</th>\n      <th>NC000962_3.120</th>\n      <th>...</th>\n      <th>linezolid</th>\n      <th>bedaquiline</th>\n      <th>clofazimine</th>\n      <th>delamanid</th>\n      <th>main_lin</th>\n      <th>sublin</th>\n      <th>drtype</th>\n      <th>MDR</th>\n      <th>XDR</th>\n      <th>isResistant</th>\n    </tr>\n  </thead>\n  <tbody>\n    <tr>\n      <th>ERR3129939</th>\n      <td>0</td>\n      <td>0</td>\n      <td>0</td>\n      <td>0</td>\n      <td>0</td>\n      <td>0</td>\n      <td>0</td>\n      <td>0</td>\n      <td>0</td>\n      <td>0</td>\n      <td>...</td>\n      <td>-</td>\n      <td>-</td>\n      <td>-</td>\n      <td>-</td>\n      <td>lineage4</td>\n      <td>lineage4.1.1.3</td>\n      <td>Sensitive</td>\n      <td></td>\n      <td></td>\n      <td>0.0</td>\n    </tr>\n    <tr>\n      <th>ERR3148148</th>\n      <td>0</td>\n      <td>0</td>\n      <td>0</td>\n      <td>0</td>\n      <td>0</td>\n      <td>0</td>\n      <td>0</td>\n      <td>0</td>\n      <td>0</td>\n      <td>0</td>\n      <td>...</td>\n      <td>-</td>\n      <td>-</td>\n      <td>-</td>\n      <td>-</td>\n      <td>lineage4</td>\n      <td>lineage4.1.2.1</td>\n      <td>Sensitive</td>\n      <td></td>\n      <td></td>\n      <td>0.0</td>\n    </tr>\n    <tr>\n      <th>ERR3148149</th>\n      <td>0</td>\n      <td>0</td>\n      <td>0</td>\n      <td>0</td>\n      <td>0</td>\n      <td>0</td>\n      <td>0</td>\n      <td>0</td>\n      <td>0</td>\n      <td>0</td>\n      <td>...</td>\n      <td>-</td>\n      <td>-</td>\n      <td>-</td>\n      <td>-</td>\n      <td>lineage4</td>\n      <td>lineage4.1</td>\n      <td>Drug-resistant</td>\n      <td></td>\n      <td></td>\n      <td>1.0</td>\n    </tr>\n    <tr>\n      <th>ERR3148151</th>\n      <td>0</td>\n      <td>0</td>\n      <td>0</td>\n      <td>0</td>\n      <td>0</td>\n      <td>0</td>\n      <td>0</td>\n      <td>0</td>\n      <td>0</td>\n      <td>0</td>\n      <td>...</td>\n      <td>-</td>\n      <td>-</td>\n      <td>-</td>\n      <td>-</td>\n      <td>lineage4</td>\n      <td>lineage4.1.1.3</td>\n      <td>MDR</td>\n      <td>R</td>\n      <td></td>\n      <td>1.0</td>\n    </tr>\n    <tr>\n      <th>ERR3148153</th>\n      <td>0</td>\n      <td>0</td>\n      <td>0</td>\n      <td>0</td>\n      <td>0</td>\n      <td>0</td>\n      <td>0</td>\n      <td>0</td>\n      <td>0</td>\n      <td>0</td>\n      <td>...</td>\n      <td>-</td>\n      <td>-</td>\n      <td>-</td>\n      <td>-</td>\n      <td>lineage4</td>\n      <td>lineage4.1.2.1</td>\n      <td>Sensitive</td>\n      <td></td>\n      <td></td>\n      <td>0.0</td>\n    </tr>\n  </tbody>\n</table>\n<p>5 rows × 134283 columns</p>\n</div>"
     },
     "execution_count": 200,
     "metadata": {},
     "output_type": "execute_result"
    }
   ],
   "source": [
    "final_df.head()\n"
   ]
  },
  {
   "cell_type": "code",
   "execution_count": null,
   "metadata": {
    "pycharm": {
     "name": "#%%\n"
    }
   },
   "outputs": [],
   "source": []
  },
  {
   "cell_type": "code",
   "execution_count": null,
   "metadata": {
    "pycharm": {
     "name": "#%%\n"
    }
   },
   "outputs": [],
   "source": []
  }
 ],
 "metadata": {
  "kernelspec": {
   "display_name": "PyCharm (drug-resistance-prediction-cambiohack)",
   "language": "python",
   "name": "pycharm-f27e5417"
  },
  "language_info": {
   "codemirror_mode": {
    "name": "ipython",
    "version": 3
   },
   "file_extension": ".py",
   "mimetype": "text/x-python",
   "name": "python",
   "nbconvert_exporter": "python",
   "pygments_lexer": "ipython3",
   "version": "3.7.4"
  }
 },
 "nbformat": 4,
 "nbformat_minor": 1
}