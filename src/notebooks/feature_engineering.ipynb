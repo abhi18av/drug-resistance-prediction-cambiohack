{
 "cells": [
  {
   "cell_type": "code",
   "execution_count": 1,
   "outputs": [],
   "source": [
    "# Import the usual suspects.\n",
    "import pandas as pd\n",
    "import allel\n"
   ],
   "metadata": {
    "collapsed": false,
    "pycharm": {
     "name": "#%%\n"
    }
   }
  },
  {
   "cell_type": "code",
   "execution_count": 2,
   "outputs": [
    {
     "data": {
      "text/plain": "                   rifampicin                         isoniazid  \\\nERR760783    rpoB_p.Ser450Leu                  katG_p.Ser315Thr   \nERR776661    rpoB_p.Ser450Leu                     ahpC_c.-81C>T   \nSRR11098556                 -                                 -   \nERR760911    rpoB_p.Ser450Leu                  katG_p.Ser315Thr   \nSRR9224969   rpoB_p.Ser450Leu  fabG1_c.-15C>T, katG_p.Ser315Thr   \n\n                 pyrazinamide  \\\nERR760783     pncA_p.Gln10Pro   \nERR776661    pncA_p.Met175Val   \nSRR11098556                 -   \nERR760911     pncA_p.Gln10Pro   \nSRR9224969   pncA_p.Gly132Ser   \n\n                                                    ethambutol  \\\nERR760783                                     embB_p.Gly406Ala   \nERR776661    embB_p.Gly406Ser, embB_p.Met306Val, embA_c.-16C>G   \nSRR11098556                                                  -   \nERR760911                                     embB_p.Gly406Ala   \nSRR9224969                                    embB_p.Met306Val   \n\n                                 streptomycin fluoroquinolones moxifloxacin  \\\nERR760783                                   -                -            -   \nERR776661    rpsL_p.Lys43Arg, rpsL_p.Lys88Gln                -            -   \nSRR11098556                                 -                -            -   \nERR760911                                   -                -            -   \nSRR9224969                                  -                -            -   \n\n            ofloxacin levofloxacin ciprofloxacin  ... cycloserine linezolid  \\\nERR760783           -            -             -  ...           -         -   \nERR776661           -            -             -  ...           -         -   \nSRR11098556         -            -             -  ...           -         -   \nERR760911           -            -             -  ...           -         -   \nSRR9224969          -            -             -  ...           -         -   \n\n            bedaquiline clofazimine delamanid  main_lin          sublin  \\\nERR760783             -           -         -  lineage4  lineage4.1.2.1   \nERR776661             -           -         -  lineage4    lineage4.3.2   \nSRR11098556           -           -         -  lineage2    lineage2.2.1   \nERR760911             -           -         -  lineage4  lineage4.1.2.1   \nSRR9224969            -           -         -  lineage4  lineage4.1.2.1   \n\n                drtype MDR XDR  \nERR760783          MDR   R      \nERR776661          MDR   R      \nSRR11098556  Sensitive          \nERR760911          MDR   R      \nSRR9224969         MDR   R      \n\n[5 rows x 26 columns]",
      "text/html": "<div>\n<style scoped>\n    .dataframe tbody tr th:only-of-type {\n        vertical-align: middle;\n    }\n\n    .dataframe tbody tr th {\n        vertical-align: top;\n    }\n\n    .dataframe thead th {\n        text-align: right;\n    }\n</style>\n<table border=\"1\" class=\"dataframe\">\n  <thead>\n    <tr style=\"text-align: right;\">\n      <th></th>\n      <th>rifampicin</th>\n      <th>isoniazid</th>\n      <th>pyrazinamide</th>\n      <th>ethambutol</th>\n      <th>streptomycin</th>\n      <th>fluoroquinolones</th>\n      <th>moxifloxacin</th>\n      <th>ofloxacin</th>\n      <th>levofloxacin</th>\n      <th>ciprofloxacin</th>\n      <th>...</th>\n      <th>cycloserine</th>\n      <th>linezolid</th>\n      <th>bedaquiline</th>\n      <th>clofazimine</th>\n      <th>delamanid</th>\n      <th>main_lin</th>\n      <th>sublin</th>\n      <th>drtype</th>\n      <th>MDR</th>\n      <th>XDR</th>\n    </tr>\n  </thead>\n  <tbody>\n    <tr>\n      <th>ERR760783</th>\n      <td>rpoB_p.Ser450Leu</td>\n      <td>katG_p.Ser315Thr</td>\n      <td>pncA_p.Gln10Pro</td>\n      <td>embB_p.Gly406Ala</td>\n      <td>-</td>\n      <td>-</td>\n      <td>-</td>\n      <td>-</td>\n      <td>-</td>\n      <td>-</td>\n      <td>...</td>\n      <td>-</td>\n      <td>-</td>\n      <td>-</td>\n      <td>-</td>\n      <td>-</td>\n      <td>lineage4</td>\n      <td>lineage4.1.2.1</td>\n      <td>MDR</td>\n      <td>R</td>\n      <td></td>\n    </tr>\n    <tr>\n      <th>ERR776661</th>\n      <td>rpoB_p.Ser450Leu</td>\n      <td>ahpC_c.-81C&gt;T</td>\n      <td>pncA_p.Met175Val</td>\n      <td>embB_p.Gly406Ser, embB_p.Met306Val, embA_c.-16C&gt;G</td>\n      <td>rpsL_p.Lys43Arg, rpsL_p.Lys88Gln</td>\n      <td>-</td>\n      <td>-</td>\n      <td>-</td>\n      <td>-</td>\n      <td>-</td>\n      <td>...</td>\n      <td>-</td>\n      <td>-</td>\n      <td>-</td>\n      <td>-</td>\n      <td>-</td>\n      <td>lineage4</td>\n      <td>lineage4.3.2</td>\n      <td>MDR</td>\n      <td>R</td>\n      <td></td>\n    </tr>\n    <tr>\n      <th>SRR11098556</th>\n      <td>-</td>\n      <td>-</td>\n      <td>-</td>\n      <td>-</td>\n      <td>-</td>\n      <td>-</td>\n      <td>-</td>\n      <td>-</td>\n      <td>-</td>\n      <td>-</td>\n      <td>...</td>\n      <td>-</td>\n      <td>-</td>\n      <td>-</td>\n      <td>-</td>\n      <td>-</td>\n      <td>lineage2</td>\n      <td>lineage2.2.1</td>\n      <td>Sensitive</td>\n      <td></td>\n      <td></td>\n    </tr>\n    <tr>\n      <th>ERR760911</th>\n      <td>rpoB_p.Ser450Leu</td>\n      <td>katG_p.Ser315Thr</td>\n      <td>pncA_p.Gln10Pro</td>\n      <td>embB_p.Gly406Ala</td>\n      <td>-</td>\n      <td>-</td>\n      <td>-</td>\n      <td>-</td>\n      <td>-</td>\n      <td>-</td>\n      <td>...</td>\n      <td>-</td>\n      <td>-</td>\n      <td>-</td>\n      <td>-</td>\n      <td>-</td>\n      <td>lineage4</td>\n      <td>lineage4.1.2.1</td>\n      <td>MDR</td>\n      <td>R</td>\n      <td></td>\n    </tr>\n    <tr>\n      <th>SRR9224969</th>\n      <td>rpoB_p.Ser450Leu</td>\n      <td>fabG1_c.-15C&gt;T, katG_p.Ser315Thr</td>\n      <td>pncA_p.Gly132Ser</td>\n      <td>embB_p.Met306Val</td>\n      <td>-</td>\n      <td>-</td>\n      <td>-</td>\n      <td>-</td>\n      <td>-</td>\n      <td>-</td>\n      <td>...</td>\n      <td>-</td>\n      <td>-</td>\n      <td>-</td>\n      <td>-</td>\n      <td>-</td>\n      <td>lineage4</td>\n      <td>lineage4.1.2.1</td>\n      <td>MDR</td>\n      <td>R</td>\n      <td></td>\n    </tr>\n  </tbody>\n</table>\n<p>5 rows × 26 columns</p>\n</div>"
     },
     "execution_count": 2,
     "metadata": {},
     "output_type": "execute_result"
    }
   ],
   "source": [
    "# Read the final results file from tb-profiler results\n",
    "\n",
    "tbprofiler_df = pd.read_json(\"../data/raw/tbProfiler/tbprofiler.json\", encoding=\"UTF-8\")\n",
    "tbprofiler_df = tbprofiler_df.transpose()\n",
    "tbprofiler_df.head()"
   ],
   "metadata": {
    "collapsed": false,
    "pycharm": {
     "name": "#%%\n"
    }
   }
  },
  {
   "cell_type": "code",
   "execution_count": 3,
   "outputs": [
    {
     "data": {
      "text/plain": "                   rifampicin                         isoniazid  \\\nERR760783    rpoB_p.Ser450Leu                  katG_p.Ser315Thr   \nERR776661    rpoB_p.Ser450Leu                     ahpC_c.-81C>T   \nSRR11098556                 -                                 -   \nERR760911    rpoB_p.Ser450Leu                  katG_p.Ser315Thr   \nSRR9224969   rpoB_p.Ser450Leu  fabG1_c.-15C>T, katG_p.Ser315Thr   \n\n                 pyrazinamide  \\\nERR760783     pncA_p.Gln10Pro   \nERR776661    pncA_p.Met175Val   \nSRR11098556                 -   \nERR760911     pncA_p.Gln10Pro   \nSRR9224969   pncA_p.Gly132Ser   \n\n                                                    ethambutol  \\\nERR760783                                     embB_p.Gly406Ala   \nERR776661    embB_p.Gly406Ser, embB_p.Met306Val, embA_c.-16C>G   \nSRR11098556                                                  -   \nERR760911                                     embB_p.Gly406Ala   \nSRR9224969                                    embB_p.Met306Val   \n\n                                 streptomycin fluoroquinolones moxifloxacin  \\\nERR760783                                   -                -            -   \nERR776661    rpsL_p.Lys43Arg, rpsL_p.Lys88Gln                -            -   \nSRR11098556                                 -                -            -   \nERR760911                                   -                -            -   \nSRR9224969                                  -                -            -   \n\n            ofloxacin levofloxacin ciprofloxacin  ... linezolid bedaquiline  \\\nERR760783           -            -             -  ...         -           -   \nERR776661           -            -             -  ...         -           -   \nSRR11098556         -            -             -  ...         -           -   \nERR760911           -            -             -  ...         -           -   \nSRR9224969          -            -             -  ...         -           -   \n\n            clofazimine delamanid  main_lin          sublin     drtype MDR  \\\nERR760783             -         -  lineage4  lineage4.1.2.1        MDR   R   \nERR776661             -         -  lineage4    lineage4.3.2        MDR   R   \nSRR11098556           -         -  lineage2    lineage2.2.1  Sensitive       \nERR760911             -         -  lineage4  lineage4.1.2.1        MDR   R   \nSRR9224969            -         -  lineage4  lineage4.1.2.1        MDR   R   \n\n            XDR isResistant  \nERR760783                 1  \nERR776661                 1  \nSRR11098556               0  \nERR760911                 1  \nSRR9224969                1  \n\n[5 rows x 27 columns]",
      "text/html": "<div>\n<style scoped>\n    .dataframe tbody tr th:only-of-type {\n        vertical-align: middle;\n    }\n\n    .dataframe tbody tr th {\n        vertical-align: top;\n    }\n\n    .dataframe thead th {\n        text-align: right;\n    }\n</style>\n<table border=\"1\" class=\"dataframe\">\n  <thead>\n    <tr style=\"text-align: right;\">\n      <th></th>\n      <th>rifampicin</th>\n      <th>isoniazid</th>\n      <th>pyrazinamide</th>\n      <th>ethambutol</th>\n      <th>streptomycin</th>\n      <th>fluoroquinolones</th>\n      <th>moxifloxacin</th>\n      <th>ofloxacin</th>\n      <th>levofloxacin</th>\n      <th>ciprofloxacin</th>\n      <th>...</th>\n      <th>linezolid</th>\n      <th>bedaquiline</th>\n      <th>clofazimine</th>\n      <th>delamanid</th>\n      <th>main_lin</th>\n      <th>sublin</th>\n      <th>drtype</th>\n      <th>MDR</th>\n      <th>XDR</th>\n      <th>isResistant</th>\n    </tr>\n  </thead>\n  <tbody>\n    <tr>\n      <th>ERR760783</th>\n      <td>rpoB_p.Ser450Leu</td>\n      <td>katG_p.Ser315Thr</td>\n      <td>pncA_p.Gln10Pro</td>\n      <td>embB_p.Gly406Ala</td>\n      <td>-</td>\n      <td>-</td>\n      <td>-</td>\n      <td>-</td>\n      <td>-</td>\n      <td>-</td>\n      <td>...</td>\n      <td>-</td>\n      <td>-</td>\n      <td>-</td>\n      <td>-</td>\n      <td>lineage4</td>\n      <td>lineage4.1.2.1</td>\n      <td>MDR</td>\n      <td>R</td>\n      <td></td>\n      <td>1</td>\n    </tr>\n    <tr>\n      <th>ERR776661</th>\n      <td>rpoB_p.Ser450Leu</td>\n      <td>ahpC_c.-81C&gt;T</td>\n      <td>pncA_p.Met175Val</td>\n      <td>embB_p.Gly406Ser, embB_p.Met306Val, embA_c.-16C&gt;G</td>\n      <td>rpsL_p.Lys43Arg, rpsL_p.Lys88Gln</td>\n      <td>-</td>\n      <td>-</td>\n      <td>-</td>\n      <td>-</td>\n      <td>-</td>\n      <td>...</td>\n      <td>-</td>\n      <td>-</td>\n      <td>-</td>\n      <td>-</td>\n      <td>lineage4</td>\n      <td>lineage4.3.2</td>\n      <td>MDR</td>\n      <td>R</td>\n      <td></td>\n      <td>1</td>\n    </tr>\n    <tr>\n      <th>SRR11098556</th>\n      <td>-</td>\n      <td>-</td>\n      <td>-</td>\n      <td>-</td>\n      <td>-</td>\n      <td>-</td>\n      <td>-</td>\n      <td>-</td>\n      <td>-</td>\n      <td>-</td>\n      <td>...</td>\n      <td>-</td>\n      <td>-</td>\n      <td>-</td>\n      <td>-</td>\n      <td>lineage2</td>\n      <td>lineage2.2.1</td>\n      <td>Sensitive</td>\n      <td></td>\n      <td></td>\n      <td>0</td>\n    </tr>\n    <tr>\n      <th>ERR760911</th>\n      <td>rpoB_p.Ser450Leu</td>\n      <td>katG_p.Ser315Thr</td>\n      <td>pncA_p.Gln10Pro</td>\n      <td>embB_p.Gly406Ala</td>\n      <td>-</td>\n      <td>-</td>\n      <td>-</td>\n      <td>-</td>\n      <td>-</td>\n      <td>-</td>\n      <td>...</td>\n      <td>-</td>\n      <td>-</td>\n      <td>-</td>\n      <td>-</td>\n      <td>lineage4</td>\n      <td>lineage4.1.2.1</td>\n      <td>MDR</td>\n      <td>R</td>\n      <td></td>\n      <td>1</td>\n    </tr>\n    <tr>\n      <th>SRR9224969</th>\n      <td>rpoB_p.Ser450Leu</td>\n      <td>fabG1_c.-15C&gt;T, katG_p.Ser315Thr</td>\n      <td>pncA_p.Gly132Ser</td>\n      <td>embB_p.Met306Val</td>\n      <td>-</td>\n      <td>-</td>\n      <td>-</td>\n      <td>-</td>\n      <td>-</td>\n      <td>-</td>\n      <td>...</td>\n      <td>-</td>\n      <td>-</td>\n      <td>-</td>\n      <td>-</td>\n      <td>lineage4</td>\n      <td>lineage4.1.2.1</td>\n      <td>MDR</td>\n      <td>R</td>\n      <td></td>\n      <td>1</td>\n    </tr>\n  </tbody>\n</table>\n<p>5 rows × 27 columns</p>\n</div>"
     },
     "execution_count": 3,
     "metadata": {},
     "output_type": "execute_result"
    }
   ],
   "source": [
    "resistance_status_df = tbprofiler_df\n",
    "resistance_status_df['isResistant'] = resistance_status_df.apply(lambda row: 0 if (row.drtype == 'Sensitive') else 1, axis = 1)\n",
    "resistance_status_df.head()\n"
   ],
   "metadata": {
    "collapsed": false,
    "pycharm": {
     "name": "#%%\n"
    }
   }
  },
  {
   "cell_type": "code",
   "execution_count": 4,
   "outputs": [],
   "source": [
    "resistance_status_df.to_json(\"../data/processed/resistance_status.json\")\n"
   ],
   "metadata": {
    "collapsed": false,
    "pycharm": {
     "name": "#%%\n"
    }
   }
  },
  {
   "cell_type": "code",
   "execution_count": 5,
   "outputs": [
    {
     "data": {
      "text/plain": "{'samples': array(['ERR3129939', 'ERR3148148', 'ERR3148149', 'ERR3148151',\n        'ERR3148153', 'ERR3148155', 'ERR3148159', 'ERR3148163',\n        'ERR3148164', 'ERR3148166', 'ERR3148171', 'ERR3148173',\n        'ERR3148176', 'ERR3148179', 'ERR3148180', 'ERR3148182',\n        'ERR3148184', 'ERR3148187', 'ERR3148188', 'ERR3148190',\n        'ERR3148192', 'ERR3148196', 'ERR3148198', 'ERR3148199',\n        'ERR3148200', 'ERR3148205', 'ERR3148206', 'ERR3148207',\n        'ERR3148209', 'ERR3148211', 'ERR3148215', 'ERR3148217',\n        'ERR3148220', 'ERR3148222', 'ERR3148224', 'ERR3148225',\n        'ERR3148226', 'ERR3148227', 'ERR3148230', 'ERR751350', 'ERR751351',\n        'ERR751352', 'ERR751353', 'ERR751356', 'ERR751359', 'ERR751361',\n        'ERR751362', 'ERR751363', 'ERR751366', 'ERR751367', 'ERR751369',\n        'ERR751370', 'ERR751373', 'ERR751375', 'ERR751382', 'ERR751384',\n        'ERR751389', 'ERR751392', 'ERR751393', 'ERR751394', 'ERR751396',\n        'ERR751397', 'ERR751398', 'ERR751399', 'ERR751400', 'ERR751402',\n        'ERR751403', 'ERR751405', 'ERR751406', 'ERR751410', 'ERR751412',\n        'ERR751418', 'ERR751419', 'ERR751420', 'ERR751422', 'ERR751425',\n        'ERR751426', 'ERR751428', 'ERR751432', 'ERR751434', 'ERR751435',\n        'ERR751436', 'ERR751438', 'ERR751439', 'ERR751440', 'ERR751443',\n        'ERR751446', 'ERR751447', 'ERR751450', 'ERR751451', 'ERR751452',\n        'ERR751454', 'ERR751455', 'ERR751456', 'ERR751458', 'ERR751459',\n        'ERR751465', 'ERR751468', 'ERR751469', 'ERR751470', 'ERR751472',\n        'ERR751473', 'ERR751474', 'ERR751476', 'ERR751477', 'ERR751479',\n        'ERR751481', 'ERR751482', 'ERR751483', 'ERR751484', 'ERR751485',\n        'ERR751489', 'ERR751490', 'ERR751492', 'ERR751493', 'ERR751496',\n        'ERR751501', 'ERR751502', 'ERR751503', 'ERR751504', 'ERR751505',\n        'ERR751509', 'ERR751510', 'ERR751511', 'ERR751516', 'ERR751517',\n        'ERR751518', 'ERR751519', 'ERR751521', 'ERR751523', 'ERR751524',\n        'ERR751525', 'ERR751526', 'ERR751527', 'ERR751528', 'ERR751532',\n        'ERR751533', 'ERR751535', 'ERR751544', 'ERR751560', 'ERR751567',\n        'ERR751576', 'ERR751587', 'ERR751591', 'ERR751602', 'ERR751605',\n        'ERR751613', 'ERR751624', 'ERR751626', 'ERR751630', 'ERR757149',\n        'ERR757150', 'ERR757169', 'ERR757172', 'ERR757185', 'ERR760605',\n        'ERR760609', 'ERR760611', 'ERR760733', 'ERR760742', 'ERR760752',\n        'ERR760755', 'ERR760758', 'ERR760761', 'ERR760778', 'ERR760783',\n        'ERR760789', 'ERR760793', 'ERR760795', 'ERR760796', 'ERR760803',\n        'ERR760821', 'ERR760822', 'ERR760837', 'ERR760838', 'ERR760856',\n        'ERR760868', 'ERR760880', 'ERR760885', 'ERR760897', 'ERR760919',\n        'ERR760922', 'ERR760924', 'ERR760926', 'ERR760927', 'ERR772255',\n        'ERR772257', 'ERR775296', 'ERR775299', 'ERR775303', 'ERR775305',\n        'ERR775307', 'ERR775308', 'ERR775312', 'ERR775316', 'ERR775324',\n        'ERR775328', 'ERR775329', 'ERR775333', 'ERR775336', 'ERR775339',\n        'ERR775341', 'ERR775345', 'ERR775346', 'ERR775357', 'ERR775360',\n        'ERR775363', 'ERR775368', 'ERR775387', 'ERR776454', 'ERR776464',\n        'ERR776470', 'ERR776669', 'ERR779848', 'ERR779851', 'ERR779857',\n        'ERR779859', 'ERR779860', 'ERR779866', 'ERR779875', 'ERR779878',\n        'ERR779885', 'ERR779889', 'ERR779894', 'ERR779909', 'ERR779914',\n        'ERR779915', 'ERR779923', 'ERR845307', 'ERR845935', 'ERR850262',\n        'SRR10851590', 'SRR10851592', 'SRR10851598', 'SRR10851606',\n        'SRR10851607', 'SRR10851627', 'SRR10851628', 'SRR10851632',\n        'SRR10851639', 'SRR10851660', 'SRR10851674', 'SRR10851691',\n        'SRR10851696', 'SRR10851699', 'SRR10851701', 'SRR10851704',\n        'SRR10851707', 'SRR10851720', 'SRR10851726', 'SRR10851730',\n        'SRR10851732', 'SRR10851738', 'SRR11098560', 'SRR11922492',\n        'SRR11922528', 'SRR11947360', 'SRR11947378', 'SRR11947384',\n        'SRR11947396', 'SRR1765874', 'SRR3724972', 'SRR3724983',\n        'SRR3724984', 'SRR3732577', 'SRR3732579', 'SRR3732584',\n        'SRR3732596', 'SRR3732621', 'SRR3732645', 'SRR3732651',\n        'SRR3732678', 'SRR3732712', 'SRR5535711', 'SRR5535780',\n        'SRR6389903', 'SRR7517767', 'SRR7517813', 'SRR7517816',\n        'SRR8698480', 'SRR8698482', 'SRR8698491', 'SRR8698504',\n        'SRR8698506', 'SRR9224908', 'SRR9224927', 'SRR9224928',\n        'SRR9224929', 'SRR9224930', 'SRR9224933', 'SRR9224936',\n        'SRR9224941', 'SRR9224942', 'SRR9224952', 'SRR9224958',\n        'SRR9224968', 'SRR9224981', 'SRR9224985', 'SRR9224986',\n        'SRR9224992', 'SRR9224997'], dtype=object),\n 'calldata/GT': array([[[0, 0],\n         [0, 0],\n         [0, 0],\n         ...,\n         [0, 0],\n         [0, 0],\n         [0, 0]],\n \n        [[0, 0],\n         [0, 0],\n         [0, 0],\n         ...,\n         [0, 0],\n         [0, 0],\n         [0, 0]],\n \n        [[0, 0],\n         [0, 0],\n         [0, 0],\n         ...,\n         [0, 0],\n         [0, 0],\n         [0, 0]],\n \n        ...,\n \n        [[0, 0],\n         [0, 0],\n         [0, 0],\n         ...,\n         [0, 0],\n         [0, 0],\n         [0, 0]],\n \n        [[0, 0],\n         [0, 0],\n         [0, 0],\n         ...,\n         [0, 0],\n         [0, 0],\n         [0, 0]],\n \n        [[0, 0],\n         [0, 0],\n         [0, 0],\n         ...,\n         [0, 0],\n         [0, 0],\n         [0, 0]]], dtype=int8),\n 'variants/ALT': array([['C', '', ''],\n        ['C', '', ''],\n        ['C', '', ''],\n        ...,\n        ['T', '', ''],\n        ['A', '', ''],\n        ['T', '', '']], dtype=object),\n 'variants/CHROM': array(['NC000962_3', 'NC000962_3', 'NC000962_3', ..., 'NC000962_3',\n        'NC000962_3', 'NC000962_3'], dtype=object),\n 'variants/FILTER_PASS': array([ True,  True,  True, ...,  True,  True,  True]),\n 'variants/ID': array(['.', '.', '.', ..., '.', '.', '.'], dtype=object),\n 'variants/POS': array([     11,      78,      80, ..., 4411286, 4411405, 4411518]),\n 'variants/QUAL': array([4672.85,  161.19,  197.19, ..., 3712.37, 5095.42, 2917.37],\n       dtype=float32),\n 'variants/REF': array(['A', 'T', 'A', ..., 'G', 'G', 'C'], dtype=object)}"
     },
     "execution_count": 5,
     "metadata": {},
     "output_type": "execute_result"
    }
   ],
   "source": [
    "# see http://alimanfoo.github.io/2017/06/14/read-vcf.html for allel tutorial\n",
    "\n",
    "vcf_df = allel.vcf_to_dataframe(\"../data/interim/haplotypeCaller/cohort.bqsr.filter.snps.vcf\")\n",
    "vcf_df.head()\n"
   ],
   "metadata": {
    "collapsed": false,
    "pycharm": {
     "name": "#%%\n"
    }
   }
  },
  {
   "cell_type": "code",
   "execution_count": 8,
   "outputs": [],
   "source": [
    "vcf_df.to_json(\"../data/processed/vcf_df.json\", orient='table')"
   ],
   "metadata": {
    "collapsed": false,
    "pycharm": {
     "name": "#%%\n"
    }
   }
  },
  {
   "cell_type": "code",
   "execution_count": 11,
   "outputs": [],
   "source": [
    "def vcf_get_index(vcf):\n",
    "    \"\"\"Return index as \"CHR.POS\".\"\"\"\n",
    "    return [\n",
    "        \".\".join([chrom, str(pos)]) for chrom, pos in zip(\n",
    "            vcf[\"variants/CHROM\"],\n",
    "            vcf[\"variants/POS\"]\n",
    "        )\n",
    "    ]\n",
    "\n",
    "def vcf_get_columns(vcf):\n",
    "    \"\"\"Return columns as \"SAMPLE_ID\".\"\"\"\n",
    "    return vcf[\"samples\"]\n",
    "\n",
    "def vcf_to_snp_count(vcf):\n",
    "    \"\"\"Yield snp counts per sample, iterating over the snps in vcf.\"\"\"\n",
    "    for gt in vcf[\"calldata/GT\"]:\n",
    "        # GT value per allele is 0 if ref, >0 if alt.\n",
    "        # see https://samtools.github.io/hts-specs/VCFv4.2.pdf section 1.4.2.\n",
    "        n_snps = [sum(allele > 0) for allele in gt]\n",
    "        yield n_snps\n",
    "\n",
    "# TODO implement a function to only tell the nature of GT -> homo (0) or hetero (1)\n",
    "\n",
    "snps_df = pd.DataFrame(\n",
    "    vcf_to_snp_count(vcf),\n",
    "    index=vcf_get_index(vcf),\n",
    "    columns=vcf_get_columns(vcf)\n",
    ")\n",
    "\n",
    "\n",
    "# snps_df = snps_df.transpose()\n"
   ],
   "metadata": {
    "collapsed": false,
    "pycharm": {
     "name": "#%%\n"
    }
   }
  },
  {
   "cell_type": "code",
   "execution_count": 13,
   "outputs": [],
   "source": [
    "snps_df = snps_df.transpose()\n"
   ],
   "metadata": {
    "collapsed": false,
    "pycharm": {
     "name": "#%%\n"
    }
   }
  },
  {
   "cell_type": "code",
   "execution_count": 14,
   "outputs": [
    {
     "data": {
      "text/plain": "            NC000962_3.11  NC000962_3.78  NC000962_3.80  NC000962_3.82  \\\nERR3129939              0              0              0              0   \nERR3148148              0              0              0              0   \nERR3148149              0              0              0              0   \nERR3148151              0              0              0              0   \nERR3148153              0              0              0              0   \n\n            NC000962_3.88  NC000962_3.102  NC000962_3.104  NC000962_3.108  \\\nERR3129939              0               0               0               0   \nERR3148148              0               0               0               0   \nERR3148149              0               0               0               0   \nERR3148151              0               0               0               0   \nERR3148153              0               0               0               0   \n\n            NC000962_3.117  NC000962_3.120  ...  NC000962_3.4410066  \\\nERR3129939               0               0  ...                   0   \nERR3148148               0               0  ...                   0   \nERR3148149               0               0  ...                   0   \nERR3148151               0               0  ...                   0   \nERR3148153               0               0  ...                   0   \n\n            NC000962_3.4410070  NC000962_3.4410276  NC000962_3.4410309  \\\nERR3129939                   0                   0                   0   \nERR3148148                   0                   0                   0   \nERR3148149                   0                   0                   0   \nERR3148151                   0                   0                   0   \nERR3148153                   0                   0                   0   \n\n            NC000962_3.4410847  NC000962_3.4411128  NC000962_3.4411245  \\\nERR3129939                   0                   0                   0   \nERR3148148                   0                   0                   0   \nERR3148149                   0                   0                   0   \nERR3148151                   0                   0                   0   \nERR3148153                   0                   0                   0   \n\n            NC000962_3.4411286  NC000962_3.4411405  NC000962_3.4411518  \nERR3129939                   0                   0                   0  \nERR3148148                   0                   0                   0  \nERR3148149                   0                   0                   0  \nERR3148151                   0                   0                   0  \nERR3148153                   0                   0                   0  \n\n[5 rows x 134256 columns]",
      "text/html": "<div>\n<style scoped>\n    .dataframe tbody tr th:only-of-type {\n        vertical-align: middle;\n    }\n\n    .dataframe tbody tr th {\n        vertical-align: top;\n    }\n\n    .dataframe thead th {\n        text-align: right;\n    }\n</style>\n<table border=\"1\" class=\"dataframe\">\n  <thead>\n    <tr style=\"text-align: right;\">\n      <th></th>\n      <th>NC000962_3.11</th>\n      <th>NC000962_3.78</th>\n      <th>NC000962_3.80</th>\n      <th>NC000962_3.82</th>\n      <th>NC000962_3.88</th>\n      <th>NC000962_3.102</th>\n      <th>NC000962_3.104</th>\n      <th>NC000962_3.108</th>\n      <th>NC000962_3.117</th>\n      <th>NC000962_3.120</th>\n      <th>...</th>\n      <th>NC000962_3.4410066</th>\n      <th>NC000962_3.4410070</th>\n      <th>NC000962_3.4410276</th>\n      <th>NC000962_3.4410309</th>\n      <th>NC000962_3.4410847</th>\n      <th>NC000962_3.4411128</th>\n      <th>NC000962_3.4411245</th>\n      <th>NC000962_3.4411286</th>\n      <th>NC000962_3.4411405</th>\n      <th>NC000962_3.4411518</th>\n    </tr>\n  </thead>\n  <tbody>\n    <tr>\n      <th>ERR3129939</th>\n      <td>0</td>\n      <td>0</td>\n      <td>0</td>\n      <td>0</td>\n      <td>0</td>\n      <td>0</td>\n      <td>0</td>\n      <td>0</td>\n      <td>0</td>\n      <td>0</td>\n      <td>...</td>\n      <td>0</td>\n      <td>0</td>\n      <td>0</td>\n      <td>0</td>\n      <td>0</td>\n      <td>0</td>\n      <td>0</td>\n      <td>0</td>\n      <td>0</td>\n      <td>0</td>\n    </tr>\n    <tr>\n      <th>ERR3148148</th>\n      <td>0</td>\n      <td>0</td>\n      <td>0</td>\n      <td>0</td>\n      <td>0</td>\n      <td>0</td>\n      <td>0</td>\n      <td>0</td>\n      <td>0</td>\n      <td>0</td>\n      <td>...</td>\n      <td>0</td>\n      <td>0</td>\n      <td>0</td>\n      <td>0</td>\n      <td>0</td>\n      <td>0</td>\n      <td>0</td>\n      <td>0</td>\n      <td>0</td>\n      <td>0</td>\n    </tr>\n    <tr>\n      <th>ERR3148149</th>\n      <td>0</td>\n      <td>0</td>\n      <td>0</td>\n      <td>0</td>\n      <td>0</td>\n      <td>0</td>\n      <td>0</td>\n      <td>0</td>\n      <td>0</td>\n      <td>0</td>\n      <td>...</td>\n      <td>0</td>\n      <td>0</td>\n      <td>0</td>\n      <td>0</td>\n      <td>0</td>\n      <td>0</td>\n      <td>0</td>\n      <td>0</td>\n      <td>0</td>\n      <td>0</td>\n    </tr>\n    <tr>\n      <th>ERR3148151</th>\n      <td>0</td>\n      <td>0</td>\n      <td>0</td>\n      <td>0</td>\n      <td>0</td>\n      <td>0</td>\n      <td>0</td>\n      <td>0</td>\n      <td>0</td>\n      <td>0</td>\n      <td>...</td>\n      <td>0</td>\n      <td>0</td>\n      <td>0</td>\n      <td>0</td>\n      <td>0</td>\n      <td>0</td>\n      <td>0</td>\n      <td>0</td>\n      <td>0</td>\n      <td>0</td>\n    </tr>\n    <tr>\n      <th>ERR3148153</th>\n      <td>0</td>\n      <td>0</td>\n      <td>0</td>\n      <td>0</td>\n      <td>0</td>\n      <td>0</td>\n      <td>0</td>\n      <td>0</td>\n      <td>0</td>\n      <td>0</td>\n      <td>...</td>\n      <td>0</td>\n      <td>0</td>\n      <td>0</td>\n      <td>0</td>\n      <td>0</td>\n      <td>0</td>\n      <td>0</td>\n      <td>0</td>\n      <td>0</td>\n      <td>0</td>\n    </tr>\n  </tbody>\n</table>\n<p>5 rows × 134256 columns</p>\n</div>"
     },
     "execution_count": 14,
     "metadata": {},
     "output_type": "execute_result"
    }
   ],
   "source": [
    "snps_df.head()\n"
   ],
   "metadata": {
    "collapsed": false,
    "pycharm": {
     "name": "#%%\n"
    }
   }
  },
  {
   "cell_type": "code",
   "execution_count": 16,
   "outputs": [],
   "source": [
    "snps_df.to_csv(\"../data/processed/snps_df.csv\")\n",
    "snps_df.to_json(\"../data/processed/snps_df.json\")"
   ],
   "metadata": {
    "collapsed": false,
    "pycharm": {
     "name": "#%%\n"
    }
   }
  },
  {
   "cell_type": "code",
   "execution_count": null,
   "outputs": [],
   "source": [
    "final_df = resistance_status_df.join(snps_df)\n",
    "cols = list(final_df.columns)\n",
    "cols = [*cols[1:], cols[0]]\n",
    "final_df = final_df[cols]\n",
    "final_df.head()"
   ],
   "metadata": {
    "collapsed": false,
    "pycharm": {
     "name": "#%%\n"
    }
   }
  },
  {
   "cell_type": "code",
   "execution_count": 2,
   "outputs": [
    {
     "data": {
      "text/plain": "Empty DataFrame\nColumns: [NC000962_3.82, NC000962_3.88, NC000962_3.102, NC000962_3.104, NC000962_3.108, NC000962_3.117, NC000962_3.120, NC000962_3.135, NC000962_3.138, NC000962_3.150, NC000962_3.155, NC000962_3.156, NC000962_3.159, NC000962_3.160, NC000962_3.187, NC000962_3.189, NC000962_3.192, NC000962_3.204, NC000962_3.207, NC000962_3.210, NC000962_3.213, NC000962_3.219, NC000962_3.225, NC000962_3.228, NC000962_3.231, NC000962_3.237, NC000962_3.246, NC000962_3.255, NC000962_3.267, NC000962_3.270, NC000962_3.273, NC000962_3.333, NC000962_3.371, NC000962_3.467, NC000962_3.571, NC000962_3.576, NC000962_3.582, NC000962_3.591, NC000962_3.600, NC000962_3.609, NC000962_3.610, NC000962_3.636, NC000962_3.645, NC000962_3.654, NC000962_3.660, NC000962_3.663, NC000962_3.669, NC000962_3.672, NC000962_3.675, NC000962_3.678, NC000962_3.682, NC000962_3.684, NC000962_3.690, NC000962_3.693, NC000962_3.705, NC000962_3.708, NC000962_3.741, NC000962_3.750, NC000962_3.756, NC000962_3.771, NC000962_3.777, NC000962_3.786, NC000962_3.795, NC000962_3.805, NC000962_3.813, NC000962_3.822, NC000962_3.828, NC000962_3.831, NC000962_3.837, NC000962_3.840, NC000962_3.843, NC000962_3.846, NC000962_3.849, NC000962_3.876, NC000962_3.877, NC000962_3.885, NC000962_3.897, NC000962_3.903, NC000962_3.909, NC000962_3.912, NC000962_3.918, NC000962_3.921, NC000962_3.927, NC000962_3.933, NC000962_3.942, NC000962_3.945, NC000962_3.955, NC000962_3.963, NC000962_3.966, NC000962_3.975, NC000962_3.984, NC000962_3.990, NC000962_3.993, NC000962_3.996, NC000962_3.1002, NC000962_3.1005, NC000962_3.1008, NC000962_3.1020, NC000962_3.1024, NC000962_3.1035, ...]\nIndex: []\n\n[0 rows x 134257 columns]",
      "text/html": "<div>\n<style scoped>\n    .dataframe tbody tr th:only-of-type {\n        vertical-align: middle;\n    }\n\n    .dataframe tbody tr th {\n        vertical-align: top;\n    }\n\n    .dataframe thead th {\n        text-align: right;\n    }\n</style>\n<table border=\"1\" class=\"dataframe\">\n  <thead>\n    <tr style=\"text-align: right;\">\n      <th></th>\n      <th>NC000962_3.82</th>\n      <th>NC000962_3.88</th>\n      <th>NC000962_3.102</th>\n      <th>NC000962_3.104</th>\n      <th>NC000962_3.108</th>\n      <th>NC000962_3.117</th>\n      <th>NC000962_3.120</th>\n      <th>NC000962_3.135</th>\n      <th>NC000962_3.138</th>\n      <th>NC000962_3.150</th>\n      <th>...</th>\n      <th>NC000962_3.4410847</th>\n      <th>NC000962_3.4411128</th>\n      <th>NC000962_3.4411245</th>\n      <th>NC000962_3.4411286</th>\n      <th>NC000962_3.4411405</th>\n      <th>NC000962_3.4411518</th>\n      <th>isResistant</th>\n      <th>NC000962_3.11</th>\n      <th>NC000962_3.78</th>\n      <th>NC000962_3.80</th>\n    </tr>\n  </thead>\n  <tbody>\n  </tbody>\n</table>\n<p>0 rows × 134257 columns</p>\n</div>"
     },
     "execution_count": 2,
     "metadata": {},
     "output_type": "execute_result"
    }
   ],
   "source": [
    "\n",
    "final_df = pd.read_csv(\"../data/processed/final_df.csv\")\n",
    "#final_df = pd.read_json(\"../data/processed/final_df.json\")\n"
   ],
   "metadata": {
    "collapsed": false,
    "pycharm": {
     "name": "#%%\n"
    }
   }
  },
  {
   "cell_type": "code",
   "execution_count": 3,
   "outputs": [
    {
     "data": {
      "text/plain": "             NC000962_3.82  NC000962_3.88  NC000962_3.102  NC000962_3.104  \\\nSRR10851707              0              0               0               0   \nSRR3732596               2              0               0               0   \nERR751356                0              0               0               0   \nERR751456                0              0               0               0   \nERR751482                0              0               0               0   \n\n             NC000962_3.108  NC000962_3.117  NC000962_3.120  NC000962_3.135  \\\nSRR10851707               0               0               0               0   \nSRR3732596                0               0               0               0   \nERR751356                 0               0               0               0   \nERR751456                 0               0               0               0   \nERR751482                 0               0               0               0   \n\n             NC000962_3.138  NC000962_3.150  ...  NC000962_3.4410847  \\\nSRR10851707               0               0  ...                   0   \nSRR3732596                0               0  ...                   0   \nERR751356                 0               0  ...                   0   \nERR751456                 0               0  ...                   0   \nERR751482                 0               0  ...                   0   \n\n             NC000962_3.4411128  NC000962_3.4411245  NC000962_3.4411286  \\\nSRR10851707                   0                   2                   0   \nSRR3732596                    0                   0                   0   \nERR751356                     0                   0                   0   \nERR751456                     0                   0                   0   \nERR751482                     0                   0                   0   \n\n             NC000962_3.4411405  NC000962_3.4411518  isResistant  \\\nSRR10851707                   0                   0            0   \nSRR3732596                    0                   0            0   \nERR751356                     0                   0            1   \nERR751456                     0                   0            1   \nERR751482                     0                   0            1   \n\n             NC000962_3.11  NC000962_3.78  NC000962_3.80  \nSRR10851707              0              0              0  \nSRR3732596               0              0              0  \nERR751356                0              0              0  \nERR751456                0              0              0  \nERR751482                0              0              0  \n\n[5 rows x 134257 columns]",
      "text/html": "<div>\n<style scoped>\n    .dataframe tbody tr th:only-of-type {\n        vertical-align: middle;\n    }\n\n    .dataframe tbody tr th {\n        vertical-align: top;\n    }\n\n    .dataframe thead th {\n        text-align: right;\n    }\n</style>\n<table border=\"1\" class=\"dataframe\">\n  <thead>\n    <tr style=\"text-align: right;\">\n      <th></th>\n      <th>NC000962_3.82</th>\n      <th>NC000962_3.88</th>\n      <th>NC000962_3.102</th>\n      <th>NC000962_3.104</th>\n      <th>NC000962_3.108</th>\n      <th>NC000962_3.117</th>\n      <th>NC000962_3.120</th>\n      <th>NC000962_3.135</th>\n      <th>NC000962_3.138</th>\n      <th>NC000962_3.150</th>\n      <th>...</th>\n      <th>NC000962_3.4410847</th>\n      <th>NC000962_3.4411128</th>\n      <th>NC000962_3.4411245</th>\n      <th>NC000962_3.4411286</th>\n      <th>NC000962_3.4411405</th>\n      <th>NC000962_3.4411518</th>\n      <th>isResistant</th>\n      <th>NC000962_3.11</th>\n      <th>NC000962_3.78</th>\n      <th>NC000962_3.80</th>\n    </tr>\n  </thead>\n  <tbody>\n    <tr>\n      <th>SRR10851707</th>\n      <td>0</td>\n      <td>0</td>\n      <td>0</td>\n      <td>0</td>\n      <td>0</td>\n      <td>0</td>\n      <td>0</td>\n      <td>0</td>\n      <td>0</td>\n      <td>0</td>\n      <td>...</td>\n      <td>0</td>\n      <td>0</td>\n      <td>2</td>\n      <td>0</td>\n      <td>0</td>\n      <td>0</td>\n      <td>0</td>\n      <td>0</td>\n      <td>0</td>\n      <td>0</td>\n    </tr>\n    <tr>\n      <th>SRR3732596</th>\n      <td>2</td>\n      <td>0</td>\n      <td>0</td>\n      <td>0</td>\n      <td>0</td>\n      <td>0</td>\n      <td>0</td>\n      <td>0</td>\n      <td>0</td>\n      <td>0</td>\n      <td>...</td>\n      <td>0</td>\n      <td>0</td>\n      <td>0</td>\n      <td>0</td>\n      <td>0</td>\n      <td>0</td>\n      <td>0</td>\n      <td>0</td>\n      <td>0</td>\n      <td>0</td>\n    </tr>\n    <tr>\n      <th>ERR751356</th>\n      <td>0</td>\n      <td>0</td>\n      <td>0</td>\n      <td>0</td>\n      <td>0</td>\n      <td>0</td>\n      <td>0</td>\n      <td>0</td>\n      <td>0</td>\n      <td>0</td>\n      <td>...</td>\n      <td>0</td>\n      <td>0</td>\n      <td>0</td>\n      <td>0</td>\n      <td>0</td>\n      <td>0</td>\n      <td>1</td>\n      <td>0</td>\n      <td>0</td>\n      <td>0</td>\n    </tr>\n    <tr>\n      <th>ERR751456</th>\n      <td>0</td>\n      <td>0</td>\n      <td>0</td>\n      <td>0</td>\n      <td>0</td>\n      <td>0</td>\n      <td>0</td>\n      <td>0</td>\n      <td>0</td>\n      <td>0</td>\n      <td>...</td>\n      <td>0</td>\n      <td>0</td>\n      <td>0</td>\n      <td>0</td>\n      <td>0</td>\n      <td>0</td>\n      <td>1</td>\n      <td>0</td>\n      <td>0</td>\n      <td>0</td>\n    </tr>\n    <tr>\n      <th>ERR751482</th>\n      <td>0</td>\n      <td>0</td>\n      <td>0</td>\n      <td>0</td>\n      <td>0</td>\n      <td>0</td>\n      <td>0</td>\n      <td>0</td>\n      <td>0</td>\n      <td>0</td>\n      <td>...</td>\n      <td>0</td>\n      <td>0</td>\n      <td>0</td>\n      <td>0</td>\n      <td>0</td>\n      <td>0</td>\n      <td>1</td>\n      <td>0</td>\n      <td>0</td>\n      <td>0</td>\n    </tr>\n  </tbody>\n</table>\n<p>5 rows × 134257 columns</p>\n</div>"
     },
     "execution_count": 3,
     "metadata": {},
     "output_type": "execute_result"
    }
   ],
   "source": [
    "final_df.head()\n"
   ],
   "metadata": {
    "collapsed": false,
    "pycharm": {
     "name": "#%%\n"
    }
   }
  },
  {
   "cell_type": "code",
   "execution_count": 4,
   "outputs": [],
   "source": [],
   "metadata": {
    "collapsed": false,
    "pycharm": {
     "name": "#%%\n"
    }
   }
  },
  {
   "cell_type": "code",
   "execution_count": null,
   "outputs": [],
   "source": [],
   "metadata": {
    "collapsed": false,
    "pycharm": {
     "name": "#%%\n"
    }
   }
  }
 ],
 "metadata": {
  "kernelspec": {
   "name": "pycharm-f27e5417",
   "language": "python",
   "display_name": "PyCharm (drug-resistance-prediction-cambiohack)"
  },
  "language_info": {
   "codemirror_mode": {
    "name": "ipython",
    "version": 2
   },
   "file_extension": ".py",
   "mimetype": "text/x-python",
   "name": "python",
   "nbconvert_exporter": "python",
   "pygments_lexer": "ipython2",
   "version": "2.7.6"
  }
 },
 "nbformat": 4,
 "nbformat_minor": 0
}