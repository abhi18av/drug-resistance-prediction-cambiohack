{
 "cells": [
  {
   "cell_type": "code",
   "execution_count": null,
   "outputs": [],
   "source": [
    "# Import the usual suspects.\n",
    "import pandas as pd\n",
    "import numpy as np\n",
    "import os\n",
    "\n"
   ],
   "metadata": {
    "collapsed": false,
    "pycharm": {
     "name": "#%%\n"
    }
   }
  },
  {
   "cell_type": "code",
   "execution_count": null,
   "outputs": [],
   "source": [
    "# Read the individual file names from gatk results\n",
    "\n",
    "raw_vcf_files= set(os.listdir(\"./../_resources/final/haplotypeCaller\")[0:-1:2])\n",
    "raw_vcf_genome_names = list(map( lambda elem : elem.split(\".\")[0], raw_vcf_files ))\n",
    "\n",
    "raw_vcf_genome_names.remove('cohort')\n",
    "raw_vcf_genome_names"
   ],
   "metadata": {
    "collapsed": false,
    "pycharm": {
     "name": "#%%\n"
    }
   }
  },
  {
   "cell_type": "code",
   "execution_count": null,
   "outputs": [],
   "source": [
    "# Read the final results file from tb-profiler results\n",
    "\n",
    "raw_tbprofiler_combined_result = pd.read_json(\"./../_resources/raw/tbProfiler/tbprofiler.json\", encoding=\"UTF-8\")"
   ],
   "metadata": {
    "collapsed": false,
    "pycharm": {
     "name": "#%%\n"
    }
   }
  },
  {
   "cell_type": "code",
   "execution_count": null,
   "outputs": [],
   "source": [
    "# Isolate the common genome IDs using set difference\n",
    "list_of_common_genome_ids= set(raw_tbprofiler_combined_result.columns.to_list()).intersection(set(raw_vcf_genome_names))\n",
    "\n",
    "# list_of_common_genome_ids\n",
    "\n",
    "# pd.DataFrame(list_of_common_genome_ids).to_json(path_or_buf= \"./../_resources/synced/common_genome_ids.json\", orient=\"values\")\n"
   ],
   "metadata": {
    "collapsed": false,
    "pycharm": {
     "name": "#%%\n"
    }
   }
  },
  {
   "cell_type": "code",
   "execution_count": null,
   "outputs": [],
   "source": [
    "# Save the tb-profiler data only for the common genomes\n",
    "synced_tbprofiler_df = (raw_tbprofiler_combined_result[list_of_common_genome_ids]).transpose()\n",
    "\n",
    "synced_tbprofiler_df.to_json(path_or_buf= \"./../_resources/synced/tbProfiler_combined_result.json\")\n",
    "synced_tbprofiler_df[['drtype']]"
   ],
   "metadata": {
    "collapsed": false,
    "pycharm": {
     "name": "#%%\n"
    }
   }
  },
  {
   "cell_type": "code",
   "execution_count": null,
   "outputs": [],
   "source": [
    "resistance_status_df = synced_tbprofiler_df[['drtype']]\n",
    "resistance_status_df['isResistant'] = resistance_status_df.apply(lambda row: 0 if (row.drtype == 'Sensitive') else 1, axis = 1)\n",
    "resistance_status_df = resistance_status_df.drop(['drtype'], axis=1)\n",
    "resistance_status_df.head()\n"
   ],
   "metadata": {
    "collapsed": false,
    "pycharm": {
     "name": "#%%\n"
    }
   }
  },
  {
   "cell_type": "code",
   "execution_count": null,
   "outputs": [],
   "source": [
    "# Save only the VCF files which belong to the common genome IDs\n",
    "\n",
    "# Using this code, create a txt file and then create a shell script to move all vcf files there\n",
    "with open('./../_resources/synced/common_genome_ids.txt', 'w') as filehandle:\n",
    "    for listitem in list_of_common_genome_ids:\n",
    "        filehandle.write('%s\\n' % listitem)"
   ],
   "metadata": {
    "collapsed": false,
    "pycharm": {
     "name": "#%%\n"
    }
   }
  },
  {
   "cell_type": "code",
   "execution_count": null,
   "outputs": [],
   "source": [
    "# Read a vcf file\n",
    "\n",
    "# PyVCF package\n",
    "import vcf\n",
    "\n",
    "vcf_reader = vcf.Reader(open(\"./cohort.bqsr.filter.snps.vcf\"), 'r')\n",
    "\n",
    "sample_1 = []\n",
    "\n",
    "def extract_vcf_data (vcf_record):\n",
    "\n",
    "    samples = record.samples\n",
    "    # print(record.POS, \" : \", record.alleles, \" : \", samples[0].gt_alleles, \" : \", samples[1].gt_alleles)\n",
    "    sample_1.append(samples[1].gt_alleles)\n",
    "\n",
    "    # first_allele_name = record.alleles[0]\n",
    "    # second_allele_name =  str(record.alleles[1])\n",
    "    #\n",
    "    # first_allele_is_present = 1 if int(samples.gt_alleles[0]) == 1 else 0\n",
    "    # second_allele_is_present = 1 if int(samples.gt_alleles[1]) == 1 else 0\n",
    "    #\n",
    "    #\n",
    "    #\n",
    "    # print(str(record.POS) + \"_REF_\" + first_allele_name + \" : \" , first_allele_is_present)\n",
    "    # print(str(record.POS) + \"_ALT_\" + first_allele_name + \" : \" , int(not(first_allele_is_present)))\n",
    "    #\n",
    "    # print(str(record.POS) + \"_REF_\" + second_allele_name + \" : \" , second_allele_is_present)\n",
    "    # print(str(record.POS) + \"_ALT_\" + second_allele_name + \" : \" , int(not(second_allele_is_present)))\n",
    "\n",
    "\n",
    "\n",
    "\n",
    "# print( \" POS : \", \" ALLELES : \", \" SAMPLE_1\")\n",
    "for record in vcf_reader:\n",
    "    extract_vcf_data(record)\n",
    "\n",
    "    # print(\"\\n@@@@\\n\")\n",
    "\n",
    "    # print('GT :', record.samples[0].gt_alleles)\n",
    "\n",
    "set_of_alleles = set(tuple(row) for row in sample_1)\n",
    "\n",
    "print(set_of_alleles)\n",
    "\n",
    "# TODO create a cohort_snp_df\n",
    "# TODO prune out NONE allele calls\n",
    "# TODO prune out the complex allele calls\n",
    "\n",
    "\n",
    "# {('0', '0'), ('1', '2'), ('1', '1'), (None, None), ('2', '2'), ('0', '1')}\n",
    "\n",
    "# {('0', '0'), ('1', '2'), ('1', '1'), ('0', '2'), (None, None), ('2', '2'), ('0', '1')}"
   ],
   "metadata": {
    "collapsed": false,
    "pycharm": {
     "name": "#%%\n"
    }
   }
  },
  {
   "cell_type": "code",
   "execution_count": null,
   "outputs": [],
   "source": [
    "import allel\n",
    "\n",
    "cohort_snp_vcf = allel.read_vcf(\"cohort.bqsr.filter.snps.vcf\")\n",
    "for a_key in cohort_snp_vcf.keys():\n",
    "    print(a_key)\n",
    "\n",
    "# for i in zip(cohort_snp_vcf['variants/REF'], cohort_snp_vcf['variants/ALT']):\n",
    "#     print(i[0], \" : \", i[1][0])\n",
    "\n"
   ],
   "metadata": {
    "collapsed": false,
    "pycharm": {
     "name": "#%%\n"
    }
   }
  },
  {
   "cell_type": "code",
   "execution_count": null,
   "outputs": [],
   "source": [
    "cohort_snp_df = allel.vcf_to_dataframe(\"cohort.bqsr.filter.snps.vcf\", fields=\"*\")\n",
    "cohort_snp_df.columns\n",
    "\n",
    "\n",
    "# cohort_snp_df.head()\n",
    "# cohort_snp_vcf['calldata/GT']"
   ],
   "metadata": {
    "collapsed": false,
    "pycharm": {
     "name": "#%%\n"
    }
   }
  },
  {
   "cell_type": "code",
   "execution_count": null,
   "outputs": [],
   "source": [
    "vcf_df = allel.vcf_to_dataframe(\"ERR751350.snps.vcf\", fields=\"*\")\n",
    "vcf_df"
   ],
   "metadata": {
    "collapsed": false,
    "pycharm": {
     "name": "#%%\n"
    }
   }
  },
  {
   "cell_type": "code",
   "execution_count": null,
   "outputs": [],
   "source": [
    "import allel\n",
    "# see http://alimanfoo.github.io/2017/06/14/read-vcf.html for allel tutorial\n",
    "import pandas as pd\n",
    "\n",
    "vcf = allel.read_vcf(\"cohort.bqsr.filter.snps.vcf\")\n",
    "\n",
    "def vcf_get_index(vcf):\n",
    "    \"\"\"Return index as \"CHR.POS\".\"\"\"\n",
    "    return [\n",
    "        \".\".join([chrom, str(pos)]) for chrom, pos in zip(\n",
    "            vcf[\"variants/CHROM\"],\n",
    "            vcf[\"variants/POS\"]\n",
    "        )\n",
    "    ]\n",
    "\n",
    "def vcf_get_columns(vcf):\n",
    "    \"\"\"Return columns as \"SAMPLE_ID\".\"\"\"\n",
    "    return vcf[\"samples\"]\n",
    "\n",
    "def vcf_to_snp_count(vcf):\n",
    "    \"\"\"Yield snp counts per sample, iterating over the snps in vcf.\"\"\"\n",
    "    for gt in vcf[\"calldata/GT\"]:\n",
    "        # GT value per allele is 0 if ref, >0 if alt.\n",
    "        # see https://samtools.github.io/hts-specs/VCFv4.2.pdf section 1.4.2.\n",
    "        n_snps = [sum(allele > 0) for allele in gt]\n",
    "        yield n_snps\n",
    "\n",
    "# TODO implement a function to only tell the nature of GT -> homo (0) or hetero (1)\n",
    "\n",
    "snps_df = pd.DataFrame(\n",
    "    vcf_to_snp_count(vcf),\n",
    "    index=vcf_get_index(vcf),\n",
    "    columns=vcf_get_columns(vcf)\n",
    ")\n"
   ],
   "metadata": {
    "collapsed": false,
    "pycharm": {
     "name": "#%%\n"
    }
   }
  },
  {
   "cell_type": "code",
   "execution_count": null,
   "outputs": [],
   "source": [
    "# snps['ERR3148226'].values\n",
    "snps_df = snps_df.transpose()\n",
    "snps_df.head()"
   ],
   "metadata": {
    "collapsed": false,
    "pycharm": {
     "name": "#%%\n"
    }
   }
  },
  {
   "cell_type": "code",
   "execution_count": null,
   "outputs": [],
   "source": [
    "# snps_df.join(resistance_status_df)\n",
    "final_df = resistance_status_df.join(snps_df)\n",
    "final_df.head()\n",
    "# snps_df.index.to_list()"
   ],
   "metadata": {
    "collapsed": false,
    "pycharm": {
     "name": "#%%\n"
    }
   }
  },
  {
   "cell_type": "code",
   "execution_count": null,
   "outputs": [],
   "source": [],
   "metadata": {
    "collapsed": false,
    "pycharm": {
     "name": "#%%\n"
    }
   }
  },
  {
   "cell_type": "code",
   "execution_count": null,
   "outputs": [],
   "source": [
    "cols = list(final_df.columns)\n",
    "cols = [*cols[1:], cols[0]]\n",
    "final_df = final_df[cols]\n",
    "final_df.head()\n",
    "\n"
   ],
   "metadata": {
    "collapsed": false,
    "pycharm": {
     "name": "#%%\n"
    }
   }
  },
  {
   "cell_type": "code",
   "execution_count": null,
   "outputs": [],
   "source": [
    "final_df.to_json(path_or_buf= \"final_df.json\")"
   ],
   "metadata": {
    "collapsed": false,
    "pycharm": {
     "name": "#%%\n"
    }
   }
  },
  {
   "cell_type": "code",
   "execution_count": null,
   "outputs": [],
   "source": [
    "final_df['isResistant'].value_counts().plot(kind='bar')\n",
    "\n"
   ],
   "metadata": {
    "collapsed": false,
    "pycharm": {
     "name": "#%%\n"
    }
   }
  },
  {
   "cell_type": "code",
   "execution_count": null,
   "outputs": [],
   "source": [
    "final_df['isResistant'].value_counts().plot(kind='bar')\n"
   ],
   "metadata": {
    "collapsed": false,
    "pycharm": {
     "name": "#%%\n"
    }
   }
  },
  {
   "cell_type": "code",
   "execution_count": null,
   "outputs": [],
   "source": [],
   "metadata": {
    "collapsed": false,
    "pycharm": {
     "name": "#%%\n"
    }
   }
  },
  {
   "cell_type": "code",
   "execution_count": null,
   "outputs": [],
   "source": [
    "tbprofiler_df = pd.read_json(\"../data/raw/tbProfiler/tbprofiler.json\", encoding=\"UTF-8\")\n",
    "tbprofiler_df = tbprofiler_df.transpose()\n",
    "tbprofiler_df.head()"
   ],
   "metadata": {
    "collapsed": false,
    "pycharm": {
     "name": "#%%\n"
    }
   }
  },
  {
   "cell_type": "code",
   "execution_count": null,
   "outputs": [],
   "source": [
    "# DASK\n",
    "# tbprofiler_ddf = dd.from_pandas(tbprofiler_df, npartitions=1)\n",
    "# tbprofiler_ddf.head()"
   ],
   "metadata": {
    "collapsed": false,
    "pycharm": {
     "name": "#%%\n"
    }
   }
  },
  {
   "cell_type": "code",
   "execution_count": null,
   "outputs": [],
   "source": [
    "\"\"\"\n",
    "tbprofiler_ddf = dd.read_json(\"../data/raw/tbProfiler/tbprofiler.json\", encoding=\"UTF-8\")\n",
    "tbprofiler_ddf.head()\n",
    "\n",
    "\"\"\""
   ],
   "metadata": {
    "collapsed": false,
    "pycharm": {
     "name": "#%%\n"
    }
   }
  },
  {
   "cell_type": "code",
   "execution_count": null,
   "outputs": [],
   "source": [
    "\"\"\"\n",
    "resistance_status_df = tbprofiler_df\n",
    "resistance_status_df['isResistant'] = resistance_status_df.apply(lambda row: 0 if (row.drtype == 'Sensitive') else 1, axis = 1)\n",
    "resistance_status_df.head()\n",
    "\n",
    "\n",
    "\"\"\""
   ],
   "metadata": {
    "collapsed": false,
    "pycharm": {
     "name": "#%%\n"
    }
   }
  },
  {
   "cell_type": "code",
   "execution_count": null,
   "outputs": [],
   "source": [
    "# DASK\n",
    "# resistance_status_ddf = tbprofiler_ddf\n",
    "# resistance_status_ddf['isResistant'] = resistance_status_ddf.apply(lambda row: 0 if (row.drtype == 'Sensitive') else 1, axis = 1)\n",
    "# resistance_status_ddf.head()"
   ],
   "metadata": {
    "collapsed": false,
    "pycharm": {
     "name": "#%%\n"
    }
   }
  },
  {
   "cell_type": "code",
   "execution_count": null,
   "outputs": [],
   "source": [
    "# resistance_status_ddf.to_json(\"../data/processed/resistance_status_ddf.json\")\n",
    "\n",
    "# resistance_status_ddf = dd.read_json(\"../data/processed/resistance_status_ddf.json\")\n",
    "# resistance_status_ddf.head()"
   ],
   "metadata": {
    "collapsed": false,
    "pycharm": {
     "name": "#%%\n"
    }
   }
  },
  {
   "cell_type": "code",
   "execution_count": null,
   "outputs": [],
   "source": [
    "# resistance_status_df.to_json(\"../data/processed/resistance_status.json\")\n",
    "resistance_status_df = dd.read_json(\"../data/processed/resistance_status.json\")\n",
    "resistance_status_df.head()\n"
   ],
   "metadata": {
    "collapsed": false,
    "pycharm": {
     "name": "#%%\n"
    }
   }
  },
  {
   "cell_type": "code",
   "execution_count": null,
   "outputs": [],
   "source": [
    "from pprint import pprint\n",
    "from pdbio.vcfdataframe import VcfDataFrame\n",
    "\n",
    "#vcf_path = '../data/interim/haplotypeCaller/cohort.bqsr.filter.snps.vcf'\n",
    "\n",
    "vcf_path = '../data/interim/haplotypeCaller/SRR9224997.g.vcf'\n",
    "\n",
    "vcfdf = VcfDataFrame(path=vcf_path)\n",
    "\n",
    "# pprint(vcfdf.header)      # list of header\n",
    "# pprint(vcfdf.samples)     # list of samples\n",
    "vcfdf.df          # VCF dataframe\n",
    "\n",
    "# vcfdf.sort()              # sort by CHROM, POS, and the other\n",
    "# print(vcfdf.df)           # sorted dataframe"
   ],
   "metadata": {
    "collapsed": false,
    "pycharm": {
     "name": "#%%\n"
    }
   }
  },
  {
   "cell_type": "code",
   "execution_count": null,
   "outputs": [],
   "source": [
    "vcf = allel.read_vcf(\"../data/interim/haplotypeCaller/cohort.bqsr.filter.snps.vcf\", fields=\"*\")"
   ],
   "metadata": {
    "collapsed": false,
    "pycharm": {
     "name": "#%%\n"
    }
   }
  },
  {
   "cell_type": "code",
   "execution_count": null,
   "outputs": [],
   "source": [
    "vcf['calldata/GT'][1].tolist()"
   ],
   "metadata": {
    "collapsed": false,
    "pycharm": {
     "name": "#%%\n"
    }
   }
  },
  {
   "cell_type": "code",
   "execution_count": null,
   "outputs": [],
   "source": [
    "[list(item) for item in set(tuple(row) for row in (vcf['calldata/GT'][1]))]"
   ],
   "metadata": {
    "collapsed": false,
    "pycharm": {
     "name": "#%%\n"
    }
   }
  },
  {
   "cell_type": "code",
   "execution_count": null,
   "outputs": [],
   "source": [
    "[sum(allele > 0) for allele in vcf['calldata/GT'][1]]"
   ],
   "metadata": {
    "collapsed": false,
    "pycharm": {
     "name": "#%%\n"
    }
   }
  },
  {
   "cell_type": "code",
   "execution_count": null,
   "outputs": [],
   "source": [
    "np.unique(vcf['calldata/GT'][0])"
   ],
   "metadata": {
    "collapsed": false,
    "pycharm": {
     "name": "#%%\n"
    }
   }
  },
  {
   "cell_type": "code",
   "execution_count": null,
   "outputs": [],
   "source": [
    "def vcf_get_index(vcf):\n",
    "    \"\"\"Return index as \"CHR.POS\".\"\"\"\n",
    "    return [\n",
    "        \".\".join([chrom, str(pos)]) for chrom, pos in zip(\n",
    "            vcf[\"variants/CHROM\"],\n",
    "            vcf[\"variants/POS\"]\n",
    "        )\n",
    "    ]\n",
    "\n",
    "def vcf_get_columns(vcf):\n",
    "    \"\"\"Return columns as \"SAMPLE_ID\".\"\"\"\n",
    "    return vcf[\"samples\"]\n",
    "\n",
    "def vcf_to_snp_count(vcf):\n",
    "    \"\"\"Yield snp counts per sample, iterating over the snps in vcf.\"\"\"\n",
    "    for gt in vcf[\"calldata/GT\"]:\n",
    "        # GT value per allele is 0 if ref, >0 if alt.\n",
    "        # see https://samtools.github.io/hts-specs/VCFv4.2.pdf section 1.4.2.\n",
    "        n_snps = [sum(allele > 0) for allele in gt]\n",
    "        yield n_snps\n",
    "\n",
    "# TODO implement a function to only tell the nature of GT -> homo (0) or hetero (1)\n",
    "\n",
    "def create_snp_df(vcf):\n",
    "\n",
    "    df = pd.DataFrame(\n",
    "            vcf_to_allele(vcf),\n",
    "            index=vcf_get_index(vcf),\n",
    "            columns=vcf_get_columns(vcf))\n",
    "\n",
    "    return df.transpose()\n",
    "\n",
    "snps_df = create_snp_df(vcf)\n"
   ],
   "metadata": {
    "collapsed": false,
    "pycharm": {
     "name": "#%%\n"
    }
   }
  },
  {
   "cell_type": "code",
   "execution_count": null,
   "outputs": [],
   "source": [
    "\n",
    "def vcf_to_allele(vcf):\n",
    "    \"\"\"Yield snp counts per sample, iterating over the snps in vcf.\"\"\"\n",
    "    for gt in vcf[\"calldata/GT\"]:\n",
    "        n_alleles = [list(item) for item in set(tuple(row) for row in gt)]\n",
    "        return n_alleles\n",
    "\n",
    "vcf_to_allele(vcf)"
   ],
   "metadata": {
    "collapsed": false,
    "pycharm": {
     "name": "#%%\n"
    }
   }
  },
  {
   "cell_type": "code",
   "execution_count": null,
   "outputs": [],
   "source": [
    "snps_df.head()"
   ],
   "metadata": {
    "collapsed": false,
    "pycharm": {
     "name": "#%%\n"
    }
   }
  },
  {
   "cell_type": "code",
   "execution_count": null,
   "outputs": [],
   "source": [
    "snps_df['ERR3129939'].value_counts()"
   ],
   "metadata": {
    "collapsed": false,
    "pycharm": {
     "name": "#%%\n"
    }
   }
  },
  {
   "cell_type": "code",
   "execution_count": null,
   "outputs": [],
   "source": [
    "\n",
    "# NOTE doesn't save the data from samples\n",
    "# allel.vcf_to_csv(\"../data/interim/haplotypeCaller/cohort.bqsr.filter.snps.vcf\", output=\"../data/processed/cohort.bqsr.filter.snps.vcf.csv\", fields=\"*\")\n"
   ],
   "metadata": {
    "collapsed": false,
    "pycharm": {
     "name": "#%%\n"
    }
   }
  },
  {
   "cell_type": "code",
   "execution_count": null,
   "outputs": [],
   "source": [
    "# Read as dataframe\n",
    "# see http://alimanfoo.github.io/2017/06/14/read-vcf.html for allel tutorial\n",
    "\n",
    "# NOTE doesn't save the data from samples\n",
    "# vcf_df = allel.vcf_to_dataframe(\"../data/interim/haplotypeCaller/cohort.bqsr.filter.snps.vcf\", fields=\"*\")\n",
    "# vcf_df.head()\n"
   ],
   "metadata": {
    "collapsed": false,
    "pycharm": {
     "name": "#%%\n"
    }
   }
  },
  {
   "cell_type": "markdown",
   "source": [
    "# Multi-label classification\n",
    "\n",
    "https://scikit-learn.org/stable/modules/multiclass.html#multioutput-classification\n",
    "\n"
   ],
   "metadata": {
    "collapsed": false,
    "pycharm": {
     "name": "#%% md\n"
    }
   }
  }
 ],
 "metadata": {
  "kernelspec": {
   "name": "pycharm-f27e5417",
   "language": "python",
   "display_name": "PyCharm (drug-resistance-prediction-cambiohack)"
  },
  "language_info": {
   "codemirror_mode": {
    "name": "ipython",
    "version": 2
   },
   "file_extension": ".py",
   "mimetype": "text/x-python",
   "name": "python",
   "nbconvert_exporter": "python",
   "pygments_lexer": "ipython2",
   "version": "2.7.6"
  }
 },
 "nbformat": 4,
 "nbformat_minor": 0
}