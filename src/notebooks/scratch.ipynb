{
 "cells": [
  {
   "cell_type": "code",
   "execution_count": 189,
   "metadata": {
    "collapsed": true,
    "pycharm": {
     "name": "#%%\n"
    }
   },
   "outputs": [],
   "source": [
    "# Import the usual suspects.\n",
    "import pandas as pd\n",
    "import numpy as np\n",
    "import os\n",
    "\n"
   ]
  },
  {
   "cell_type": "code",
   "source": [
    "# Read the individual file names from gatk results\n",
    "\n",
    "raw_vcf_files= set(os.listdir(\"./../_resources/final/haplotypeCaller\")[0:-1:2])\n",
    "raw_vcf_genome_names = list(map( lambda elem : elem.split(\".\")[0], raw_vcf_files ))\n",
    "\n",
    "raw_vcf_genome_names.remove('cohort')\n",
    "raw_vcf_genome_names"
   ],
   "metadata": {
    "collapsed": false,
    "pycharm": {
     "name": "#%%\n"
    }
   },
   "execution_count": 201,
   "outputs": [
    {
     "data": {
      "text/plain": "['SRR8698491',\n 'ERR760821',\n 'ERR3148171',\n 'ERR760761',\n 'SRR9224942',\n 'SRR8698480',\n 'ERR779923',\n 'ERR751419',\n 'ERR760758',\n 'ERR760783',\n 'ERR751533',\n 'SRR8698506',\n 'ERR779914',\n 'ERR3148153',\n 'ERR751351',\n 'ERR751410',\n 'ERR751602',\n 'SRR5535711',\n 'SRR6389903',\n 'ERR751459',\n 'ERR751458',\n 'ERR751436',\n 'ERR3148188',\n 'ERR3148164',\n 'SRR9224992',\n 'ERR760752',\n 'ERR779909',\n 'ERR775312',\n 'ERR751476',\n 'ERR760803',\n 'ERR751454',\n 'ERR760796',\n 'ERR751398',\n 'ERR751405',\n 'SRR3732712',\n 'ERR3148224',\n 'SRR10851726',\n 'ERR751363',\n 'ERR751397',\n 'ERR751434',\n 'ERR751373',\n 'ERR751352',\n 'SRR10851598',\n 'ERR850262',\n 'ERR751525',\n 'ERR779860',\n 'ERR751394',\n 'SRR9224958',\n 'ERR776464',\n 'ERR3148217',\n 'ERR751501',\n 'ERR751370',\n 'SRR3732596',\n 'ERR3148192',\n 'NC000962_3',\n 'ERR760868',\n 'ERR751425',\n 'ERR3148211',\n 'ERR751389',\n 'ERR751435',\n 'SRR10851660',\n 'SRR9224908',\n 'ERR3148187',\n 'SRR8698504',\n 'SRR9224986',\n 'SRR11947396',\n 'cohort',\n 'SRR9224952',\n 'ERR751362',\n 'ERR3148163',\n 'ERR779894',\n 'ERR757185',\n 'ERR751406',\n 'ERR751455',\n 'SRR3724984',\n 'ERR751412',\n 'ERR779857',\n 'ERR845307',\n 'cohort',\n 'ERR3148176',\n 'ERR751560',\n 'ERR760897',\n 'ERR3148198',\n 'ERR751544',\n 'ERR757149',\n 'SRR9224968',\n 'ERR751517',\n 'ERR751511',\n 'SRR9224933',\n 'ERR751465',\n 'SRR3732678',\n 'SRR9224936',\n 'ERR751356',\n 'ERR751567',\n 'ERR751375',\n 'ERR775360',\n 'ERR751396',\n 'ERR3148190',\n 'ERR3148227',\n 'SRR10851590',\n 'ERR751447',\n 'ERR775303',\n 'ERR3148222',\n 'SRR8698482',\n 'ERR751384',\n 'ERR751468',\n 'SRR7517816',\n 'ERR760927',\n 'ERR751472',\n 'ERR751359',\n 'ERR751456',\n 'SRR3724983',\n 'ERR775346',\n 'ERR751361',\n 'ERR775305',\n 'ERR776470',\n 'SRR3724972',\n 'NC000962_3',\n 'ERR3148215',\n 'SRR11947384',\n 'ERR775363',\n 'ERR751451',\n 'SRR10851691',\n 'SRR3732621',\n 'ERR751535',\n 'ERR760742',\n 'ERR775324',\n 'ERR751469',\n 'SRR11922492',\n 'cohort',\n 'ERR3148220',\n 'ERR751523',\n 'ERR751518',\n 'SRR7517767',\n 'ERR775328',\n 'ERR776454',\n 'ERR751502',\n 'ERR760838',\n 'ERR760609',\n 'ERR775387',\n 'ERR757150',\n 'ERR760822',\n 'ERR751527',\n 'ERR751489',\n 'SRR7517813',\n 'ERR751369',\n 'ERR751470',\n 'SRR10851720',\n 'ERR751493',\n 'ERR775316',\n 'ERR751479',\n 'ERR779878',\n 'ERR760856',\n 'ERR3148149',\n 'ERR775357',\n 'ERR751392',\n 'ERR760733',\n 'ERR3148199',\n 'ERR751473',\n 'ERR751366',\n 'ERR760611',\n 'ERR3148206',\n 'ERR3148148',\n 'ERR751474',\n 'ERR751492',\n 'SRR10851730',\n 'ERR751516',\n 'SRR3732584',\n 'ERR751446',\n 'SRR9224927',\n 'SRR1765874',\n 'NC000962_3',\n 'ERR757169',\n 'ERR760778',\n 'ERR751591',\n 'SRR10851628',\n 'ERR751432',\n 'ERR757172',\n 'ERR3148155',\n 'SRR3732577',\n 'ERR775345',\n 'ERR760789',\n 'ERR751418',\n 'ERR779915',\n 'NC000962_3',\n 'ERR3148196',\n 'ERR751532',\n 'ERR779889',\n 'ERR751402',\n 'SRR3732645',\n 'ERR775329',\n 'ERR3148209',\n 'ERR775336',\n 'ERR751510',\n 'ERR760795',\n 'SRR11922528',\n 'ERR751353',\n 'ERR751624',\n 'ERR751587',\n 'ERR751439',\n 'SRR11947378',\n 'SRR10851732',\n 'SRR10851632',\n 'SRR10851639',\n 'ERR3148184',\n 'SRR3732651',\n 'ERR751382',\n 'SRR9224985',\n 'ERR751403',\n 'ERR3148230',\n 'ERR751438',\n 'ERR779875',\n 'ERR751400',\n 'SRR10851607',\n 'ERR751450',\n 'SRR10851701',\n 'ERR760605',\n 'ERR751422',\n 'ERR751490',\n 'ERR775339',\n 'ERR751496',\n 'SRR9224928',\n 'SRR9224981',\n 'SRR3732579',\n 'ERR751399',\n 'SRR10851592',\n 'SRR10851738',\n 'ERR779885',\n 'SRR10851674',\n 'ERR751481',\n 'ERR760922',\n 'ERR845935',\n 'ERR772257',\n 'ERR3148180',\n 'ERR779859',\n 'ERR3148159',\n 'ERR751484',\n 'ERR751482',\n 'ERR751524',\n 'ERR760926',\n 'ERR779851',\n 'ERR775296',\n 'ERR760793',\n 'ERR3148182',\n 'SRR10851707',\n 'SRR11947360',\n 'ERR3148200',\n 'ERR775299',\n 'ERR751428',\n 'ERR751526',\n 'ERR776669',\n 'SRR9224929',\n 'ERR751509',\n 'ERR751613',\n 'SRR10851606',\n 'ERR751452',\n 'ERR3148226',\n 'ERR775333',\n 'ERR775368',\n 'ERR3148207',\n 'ERR3129939',\n 'ERR772255',\n 'ERR751440',\n 'ERR751576',\n 'ERR760919',\n 'ERR751393',\n 'ERR760755',\n 'cohort',\n 'ERR3148166',\n 'ERR751519',\n 'SRR10851704',\n 'ERR751477',\n 'cohort',\n 'ERR751350',\n 'SRR9224997',\n 'ERR751367',\n 'ERR751626',\n 'ERR751504',\n 'ERR775341',\n 'ERR775307',\n 'ERR775308',\n 'ERR751420',\n 'SRR11098560',\n 'ERR779866',\n 'ERR751503',\n 'ERR751426',\n 'ERR751605',\n 'ERR760880',\n 'ERR751521',\n 'ERR751485',\n 'SRR5535780',\n 'ERR760885',\n 'ERR779848',\n 'ERR751505',\n 'ERR3148173',\n 'ERR751443',\n 'ERR751528',\n 'ERR3148205',\n 'ERR3148179',\n 'ERR3148151',\n 'SRR10851696',\n 'ERR760837',\n 'ERR760924',\n 'SRR9224941',\n 'SRR10851699',\n 'ERR751630',\n 'SRR9224930',\n 'SRR10851627',\n 'ERR751483',\n 'ERR3148225']"
     },
     "execution_count": 201,
     "metadata": {},
     "output_type": "execute_result"
    }
   ]
  },
  {
   "cell_type": "code",
   "execution_count": 202,
   "outputs": [],
   "source": [
    "# Read the final results file from tb-profiler results\n",
    "\n",
    "raw_tbprofiler_combined_result = pd.read_json(\"./../_resources/raw/tbProfiler/tbprofiler.json\", encoding=\"UTF-8\")"
   ],
   "metadata": {
    "collapsed": false,
    "pycharm": {
     "name": "#%%\n"
    }
   }
  },
  {
   "cell_type": "code",
   "execution_count": 203,
   "outputs": [],
   "source": [
    "# Isolate the common genome IDs using set difference\n",
    "list_of_common_genome_ids= set(raw_tbprofiler_combined_result.columns.to_list()).intersection(set(raw_vcf_genome_names))\n",
    "\n",
    "# list_of_common_genome_ids\n",
    "\n",
    "# pd.DataFrame(list_of_common_genome_ids).to_json(path_or_buf= \"./../_resources/synced/common_genome_ids.json\", orient=\"values\")\n"
   ],
   "metadata": {
    "collapsed": false,
    "pycharm": {
     "name": "#%%\n"
    }
   }
  },
  {
   "cell_type": "code",
   "execution_count": 204,
   "outputs": [
    {
     "data": {
      "text/plain": "                     drtype\nSRR10851707       Sensitive\nSRR3732596        Sensitive\nERR751356               MDR\nERR751456               MDR\nERR751482               MDR\n...                     ...\nERR3148209   Drug-resistant\nERR751501    Drug-resistant\nERR775336         Sensitive\nERR775341    Drug-resistant\nERR775312    Drug-resistant\n\n[299 rows x 1 columns]",
      "text/html": "<div>\n<style scoped>\n    .dataframe tbody tr th:only-of-type {\n        vertical-align: middle;\n    }\n\n    .dataframe tbody tr th {\n        vertical-align: top;\n    }\n\n    .dataframe thead th {\n        text-align: right;\n    }\n</style>\n<table border=\"1\" class=\"dataframe\">\n  <thead>\n    <tr style=\"text-align: right;\">\n      <th></th>\n      <th>drtype</th>\n    </tr>\n  </thead>\n  <tbody>\n    <tr>\n      <th>SRR10851707</th>\n      <td>Sensitive</td>\n    </tr>\n    <tr>\n      <th>SRR3732596</th>\n      <td>Sensitive</td>\n    </tr>\n    <tr>\n      <th>ERR751356</th>\n      <td>MDR</td>\n    </tr>\n    <tr>\n      <th>ERR751456</th>\n      <td>MDR</td>\n    </tr>\n    <tr>\n      <th>ERR751482</th>\n      <td>MDR</td>\n    </tr>\n    <tr>\n      <th>...</th>\n      <td>...</td>\n    </tr>\n    <tr>\n      <th>ERR3148209</th>\n      <td>Drug-resistant</td>\n    </tr>\n    <tr>\n      <th>ERR751501</th>\n      <td>Drug-resistant</td>\n    </tr>\n    <tr>\n      <th>ERR775336</th>\n      <td>Sensitive</td>\n    </tr>\n    <tr>\n      <th>ERR775341</th>\n      <td>Drug-resistant</td>\n    </tr>\n    <tr>\n      <th>ERR775312</th>\n      <td>Drug-resistant</td>\n    </tr>\n  </tbody>\n</table>\n<p>299 rows × 1 columns</p>\n</div>"
     },
     "execution_count": 204,
     "metadata": {},
     "output_type": "execute_result"
    }
   ],
   "source": [
    "# Save the tb-profiler data only for the common genomes\n",
    "synced_tbprofiler_df = (raw_tbprofiler_combined_result[list_of_common_genome_ids]).transpose()\n",
    "\n",
    "synced_tbprofiler_df.to_json(path_or_buf= \"./../_resources/synced/tbProfiler_combined_result.json\")\n",
    "synced_tbprofiler_df[['drtype']]"
   ],
   "metadata": {
    "collapsed": false,
    "pycharm": {
     "name": "#%%\n"
    }
   }
  },
  {
   "cell_type": "code",
   "execution_count": 217,
   "outputs": [
    {
     "name": "stderr",
     "output_type": "stream",
     "text": [
      "C:\\tools\\miniconda3\\lib\\site-packages\\ipykernel_launcher.py:2: SettingWithCopyWarning: \n",
      "A value is trying to be set on a copy of a slice from a DataFrame.\n",
      "Try using .loc[row_indexer,col_indexer] = value instead\n",
      "\n",
      "See the caveats in the documentation: https://pandas.pydata.org/pandas-docs/stable/user_guide/indexing.html#returning-a-view-versus-a-copy\n",
      "  \n"
     ]
    },
    {
     "data": {
      "text/plain": "             isResistant\nSRR10851707            0\nSRR3732596             0\nERR751356              1\nERR751456              1\nERR751482              1",
      "text/html": "<div>\n<style scoped>\n    .dataframe tbody tr th:only-of-type {\n        vertical-align: middle;\n    }\n\n    .dataframe tbody tr th {\n        vertical-align: top;\n    }\n\n    .dataframe thead th {\n        text-align: right;\n    }\n</style>\n<table border=\"1\" class=\"dataframe\">\n  <thead>\n    <tr style=\"text-align: right;\">\n      <th></th>\n      <th>isResistant</th>\n    </tr>\n  </thead>\n  <tbody>\n    <tr>\n      <th>SRR10851707</th>\n      <td>0</td>\n    </tr>\n    <tr>\n      <th>SRR3732596</th>\n      <td>0</td>\n    </tr>\n    <tr>\n      <th>ERR751356</th>\n      <td>1</td>\n    </tr>\n    <tr>\n      <th>ERR751456</th>\n      <td>1</td>\n    </tr>\n    <tr>\n      <th>ERR751482</th>\n      <td>1</td>\n    </tr>\n  </tbody>\n</table>\n</div>"
     },
     "execution_count": 217,
     "metadata": {},
     "output_type": "execute_result"
    }
   ],
   "source": [
    "resistance_status_df = synced_tbprofiler_df[['drtype']]\n",
    "resistance_status_df['isResistant'] = resistance_status_df.apply(lambda row: 0 if (row.drtype == 'Sensitive') else 1, axis = 1)\n",
    "resistance_status_df = resistance_status_df.drop(['drtype'], axis=1)\n",
    "resistance_status_df.head()\n"
   ],
   "metadata": {
    "collapsed": false,
    "pycharm": {
     "name": "#%%\n"
    }
   }
  },
  {
   "cell_type": "code",
   "execution_count": 67,
   "outputs": [
    {
     "name": "stdout",
     "output_type": "stream",
     "text": [
      "1\n"
     ]
    }
   ],
   "source": [
    "# Save only the VCF files which belong to the common genome IDs\n",
    "\n",
    "# Using this code, create a txt file and then create a shell script to move all vcf files there\n",
    "with open('./../_resources/synced/common_genome_ids.txt', 'w') as filehandle:\n",
    "    for listitem in list_of_common_genome_ids:\n",
    "        filehandle.write('%s\\n' % listitem)"
   ],
   "metadata": {
    "collapsed": false,
    "pycharm": {
     "name": "#%%\n"
    }
   }
  },
  {
   "cell_type": "code",
   "execution_count": null,
   "outputs": [],
   "source": [
    "# Read a vcf file\n",
    "\n",
    "# PyVCF package\n",
    "import vcf\n",
    "\n",
    "vcf_reader = vcf.Reader(open(\"./cohort.bqsr.filter.snps.vcf\"), 'r')\n",
    "\n",
    "sample_1 = []\n",
    "\n",
    "def extract_vcf_data (vcf_record):\n",
    "\n",
    "    samples = record.samples\n",
    "    # print(record.POS, \" : \", record.alleles, \" : \", samples[0].gt_alleles, \" : \", samples[1].gt_alleles)\n",
    "    sample_1.append(samples[1].gt_alleles)\n",
    "\n",
    "    # first_allele_name = record.alleles[0]\n",
    "    # second_allele_name =  str(record.alleles[1])\n",
    "    #\n",
    "    # first_allele_is_present = 1 if int(samples.gt_alleles[0]) == 1 else 0\n",
    "    # second_allele_is_present = 1 if int(samples.gt_alleles[1]) == 1 else 0\n",
    "    #\n",
    "    #\n",
    "    #\n",
    "    # print(str(record.POS) + \"_REF_\" + first_allele_name + \" : \" , first_allele_is_present)\n",
    "    # print(str(record.POS) + \"_ALT_\" + first_allele_name + \" : \" , int(not(first_allele_is_present)))\n",
    "    #\n",
    "    # print(str(record.POS) + \"_REF_\" + second_allele_name + \" : \" , second_allele_is_present)\n",
    "    # print(str(record.POS) + \"_ALT_\" + second_allele_name + \" : \" , int(not(second_allele_is_present)))\n",
    "\n",
    "\n",
    "\n",
    "\n",
    "# print( \" POS : \", \" ALLELES : \", \" SAMPLE_1\")\n",
    "for record in vcf_reader:\n",
    "    extract_vcf_data(record)\n",
    "\n",
    "    # print(\"\\n@@@@\\n\")\n",
    "\n",
    "    # print('GT :', record.samples[0].gt_alleles)\n",
    "\n",
    "set_of_alleles = set(tuple(row) for row in sample_1)\n",
    "\n",
    "print(set_of_alleles)\n",
    "\n",
    "# TODO create a cohort_snp_df\n",
    "# TODO prune out NONE allele calls\n",
    "# TODO prune out the complex allele calls\n",
    "\n",
    "\n",
    "# {('0', '0'), ('1', '2'), ('1', '1'), (None, None), ('2', '2'), ('0', '1')}\n",
    "\n",
    "# {('0', '0'), ('1', '2'), ('1', '1'), ('0', '2'), (None, None), ('2', '2'), ('0', '1')}"
   ],
   "metadata": {
    "collapsed": false,
    "pycharm": {
     "name": "#%%\n"
    }
   }
  },
  {
   "cell_type": "code",
   "execution_count": null,
   "outputs": [],
   "source": [
    "import allel\n",
    "\n",
    "cohort_snp_vcf = allel.read_vcf(\"cohort.bqsr.filter.snps.vcf\")\n",
    "for a_key in cohort_snp_vcf.keys():\n",
    "    print(a_key)\n",
    "\n",
    "# for i in zip(cohort_snp_vcf['variants/REF'], cohort_snp_vcf['variants/ALT']):\n",
    "#     print(i[0], \" : \", i[1][0])\n",
    "\n"
   ],
   "metadata": {
    "collapsed": false,
    "pycharm": {
     "name": "#%%\n"
    }
   }
  },
  {
   "cell_type": "code",
   "execution_count": null,
   "outputs": [],
   "source": [
    "cohort_snp_df = allel.vcf_to_dataframe(\"cohort.bqsr.filter.snps.vcf\", fields=\"*\")\n",
    "cohort_snp_df.columns\n",
    "\n",
    "\n",
    "# cohort_snp_df.head()\n",
    "# cohort_snp_vcf['calldata/GT']"
   ],
   "metadata": {
    "collapsed": false,
    "pycharm": {
     "name": "#%%\n"
    }
   }
  },
  {
   "cell_type": "code",
   "execution_count": null,
   "outputs": [],
   "source": [
    "vcf_df = allel.vcf_to_dataframe(\"ERR751350.snps.vcf\", fields=\"*\")\n",
    "vcf_df"
   ],
   "metadata": {
    "collapsed": false,
    "pycharm": {
     "name": "#%%\n"
    }
   }
  },
  {
   "cell_type": "code",
   "execution_count": null,
   "outputs": [],
   "source": [
    "import allel\n",
    "# see http://alimanfoo.github.io/2017/06/14/read-vcf.html for allel tutorial\n",
    "import pandas as pd\n",
    "\n",
    "vcf = allel.read_vcf(\"cohort.bqsr.filter.snps.vcf\")\n",
    "\n",
    "def vcf_get_index(vcf):\n",
    "    \"\"\"Return index as \"CHR.POS\".\"\"\"\n",
    "    return [\n",
    "        \".\".join([chrom, str(pos)]) for chrom, pos in zip(\n",
    "            vcf[\"variants/CHROM\"],\n",
    "            vcf[\"variants/POS\"]\n",
    "        )\n",
    "    ]\n",
    "\n",
    "def vcf_get_columns(vcf):\n",
    "    \"\"\"Return columns as \"SAMPLE_ID\".\"\"\"\n",
    "    return vcf[\"samples\"]\n",
    "\n",
    "def vcf_to_snp_count(vcf):\n",
    "    \"\"\"Yield snp counts per sample, iterating over the snps in vcf.\"\"\"\n",
    "    for gt in vcf[\"calldata/GT\"]:\n",
    "        # GT value per allele is 0 if ref, >0 if alt.\n",
    "        # see https://samtools.github.io/hts-specs/VCFv4.2.pdf section 1.4.2.\n",
    "        n_snps = [sum(allele > 0) for allele in gt]\n",
    "        yield n_snps\n",
    "\n",
    "# TODO implement a function to only tell the nature of GT -> homo (0) or hetero (1)\n",
    "\n",
    "snps_df = pd.DataFrame(\n",
    "    vcf_to_snp_count(vcf),\n",
    "    index=vcf_get_index(vcf),\n",
    "    columns=vcf_get_columns(vcf)\n",
    ")\n"
   ],
   "metadata": {
    "collapsed": false,
    "pycharm": {
     "name": "#%%\n"
    }
   }
  },
  {
   "cell_type": "code",
   "execution_count": null,
   "outputs": [],
   "source": [
    "# snps['ERR3148226'].values\n",
    "snps_df = snps_df.transpose()\n",
    "snps_df.head()"
   ],
   "metadata": {
    "collapsed": false,
    "pycharm": {
     "name": "#%%\n"
    }
   }
  },
  {
   "cell_type": "code",
   "execution_count": null,
   "outputs": [],
   "source": [
    "# snps_df.join(resistance_status_df)\n",
    "final_df = resistance_status_df.join(snps_df)\n",
    "final_df.head()\n",
    "# snps_df.index.to_list()"
   ],
   "metadata": {
    "collapsed": false,
    "pycharm": {
     "name": "#%%\n"
    }
   }
  },
  {
   "cell_type": "code",
   "execution_count": null,
   "outputs": [],
   "source": [],
   "metadata": {
    "collapsed": false,
    "pycharm": {
     "name": "#%%\n"
    }
   }
  },
  {
   "cell_type": "code",
   "execution_count": null,
   "outputs": [],
   "source": [
    "cols = list(final_df.columns)\n",
    "cols = [*cols[1:], cols[0]]\n",
    "final_df = final_df[cols]\n",
    "final_df.head()\n",
    "\n"
   ],
   "metadata": {
    "collapsed": false,
    "pycharm": {
     "name": "#%%\n"
    }
   }
  },
  {
   "cell_type": "code",
   "execution_count": null,
   "outputs": [],
   "source": [
    "final_df.to_json(path_or_buf= \"final_df.json\")"
   ],
   "metadata": {
    "collapsed": false,
    "pycharm": {
     "name": "#%%\n"
    }
   }
  },
  {
   "cell_type": "code",
   "execution_count": null,
   "outputs": [],
   "source": [
    "final_df['isResistant'].value_counts().plot(kind='bar')\n",
    "\n"
   ],
   "metadata": {
    "collapsed": false,
    "pycharm": {
     "name": "#%%\n"
    }
   }
  },
  {
   "cell_type": "code",
   "execution_count": 257,
   "outputs": [
    {
     "data": {
      "text/plain": "<AxesSubplot:>"
     },
     "execution_count": 257,
     "metadata": {},
     "output_type": "execute_result"
    },
    {
     "data": {
      "text/plain": "<Figure size 432x288 with 1 Axes>",
      "image/png": "[encoded data removed]"
     },
     "metadata": {
      "needs_background": "light"
     },
     "output_type": "display_data"
    }
   ],
   "source": [
    "final_df['isResistant'].value_counts().plot(kind='bar')\n",
    "\n"
   ],
   "metadata": {
    "collapsed": false,
    "pycharm": {
     "name": "#%%\n"
    }
   }
  }
 ],
 "metadata": {
  "kernelspec": {
   "name": "pycharm-f27e5417",
   "language": "python",
   "display_name": "PyCharm (drug-resistance-prediction-cambiohack)"
  },
  "language_info": {
   "codemirror_mode": {
    "name": "ipython",
    "version": 2
   },
   "file_extension": ".py",
   "mimetype": "text/x-python",
   "name": "python",
   "nbconvert_exporter": "python",
   "pygments_lexer": "ipython2",
   "version": "2.7.6"
  }
 },
 "nbformat": 4,
 "nbformat_minor": 0
}