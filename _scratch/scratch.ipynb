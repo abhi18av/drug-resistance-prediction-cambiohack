{
 "cells": [
  {
   "cell_type": "code",
   "execution_count": 178,
   "metadata": {
    "collapsed": true,
    "pycharm": {
     "name": "#%%\n"
    }
   },
   "outputs": [],
   "source": [
    "# Import the usual suspects.\n",
    "import pandas as pd\n",
    "import numpy as np\n",
    "import os\n",
    "\n"
   ]
  },
  {
   "cell_type": "code",
   "source": [
    "# Read the individual file names from gatk results\n",
    "\n",
    "raw_vcf_files= os.listdir(\"./../_resources/raw/gatkVcfs\")[0:-1:2]\n",
    "raw_vcf_genome_names = list(map( lambda elem : elem.split(\".\")[0], raw_vcf_files ))\n",
    "\n",
    "raw_vcf_genome_names\n"
   ],
   "metadata": {
    "collapsed": false,
    "pycharm": {
     "name": "#%%\n"
    }
   },
   "execution_count": 179,
   "outputs": [
    {
     "data": {
      "text/plain": "['ERR3087504',\n 'ERR3129939',\n 'ERR3148147',\n 'ERR3148148',\n 'ERR3148149',\n 'ERR3148152',\n 'ERR3148153',\n 'ERR3148155',\n 'ERR3148157',\n 'ERR3148158',\n 'ERR3148159',\n 'ERR3148161',\n 'ERR3148162',\n 'ERR3148166',\n 'ERR3148167',\n 'ERR3148171',\n 'ERR3148172',\n 'ERR3148175',\n 'ERR3148176',\n 'ERR3148177',\n 'ERR3148178',\n 'ERR3148181',\n 'ERR3148182',\n 'ERR3148183',\n 'ERR3148184',\n 'ERR3148188',\n 'ERR3148189',\n 'ERR3148191',\n 'ERR3148193',\n 'ERR3148196',\n 'ERR3148197',\n 'ERR3148199',\n 'ERR3148200',\n 'ERR3148203',\n 'ERR3148205',\n 'ERR3148207',\n 'ERR3148208',\n 'ERR3148210',\n 'ERR3148211',\n 'ERR3148213',\n 'ERR3148214',\n 'ERR3148215',\n 'ERR3148218',\n 'ERR3148220',\n 'ERR3148221',\n 'ERR3148222',\n 'ERR3148224',\n 'ERR3148225',\n 'ERR3148226',\n 'ERR3148228',\n 'ERR3148229',\n 'ERR3148230',\n 'ERR751350',\n 'ERR751351',\n 'ERR751352',\n 'ERR751354',\n 'ERR751355',\n 'ERR751357',\n 'ERR751358',\n 'ERR751359',\n 'ERR751362',\n 'ERR751365',\n 'ERR751370',\n 'ERR751371',\n 'ERR751372',\n 'ERR751374',\n 'ERR751376',\n 'ERR751378',\n 'ERR751380',\n 'ERR751381',\n 'ERR751382',\n 'ERR751384',\n 'ERR751386',\n 'ERR751387',\n 'ERR751388',\n 'ERR751391',\n 'ERR751392',\n 'ERR751395',\n 'ERR751398',\n 'ERR751399',\n 'ERR751400',\n 'ERR751402',\n 'ERR751403',\n 'ERR751404',\n 'ERR751407',\n 'ERR751410',\n 'ERR751411',\n 'ERR751413',\n 'ERR751414',\n 'ERR751416',\n 'ERR751417',\n 'ERR751421',\n 'ERR751422',\n 'ERR751424',\n 'ERR751425',\n 'ERR751426',\n 'ERR751430',\n 'ERR751431',\n 'ERR751432',\n 'ERR751436',\n 'ERR751440',\n 'ERR751441',\n 'ERR751444',\n 'ERR751445',\n 'ERR751447',\n 'ERR751448',\n 'ERR751450',\n 'ERR751452',\n 'ERR751454',\n 'ERR751455',\n 'ERR751457',\n 'ERR751458',\n 'ERR751459',\n 'ERR751460',\n 'ERR751461',\n 'ERR751466',\n 'ERR751469',\n 'ERR751470',\n 'ERR751471',\n 'ERR751475',\n 'ERR751477',\n 'ERR751478',\n 'ERR751479',\n 'ERR751481',\n 'ERR751483',\n 'ERR751484',\n 'ERR751485',\n 'ERR751486',\n 'ERR751489',\n 'ERR751491',\n 'ERR751492',\n 'ERR751493',\n 'ERR751496',\n 'ERR751498',\n 'ERR751499',\n 'ERR751500',\n 'ERR751501',\n 'ERR751504',\n 'ERR751505',\n 'ERR751506',\n 'ERR751509',\n 'ERR751510',\n 'ERR751512',\n 'ERR751513',\n 'ERR751514',\n 'ERR751515',\n 'ERR751519',\n 'ERR751521',\n 'ERR751522',\n 'ERR751523',\n 'ERR751525',\n 'ERR751526',\n 'ERR751527',\n 'ERR751528',\n 'ERR751529',\n 'ERR751530',\n 'ERR751532',\n 'ERR751533',\n 'ERR751535',\n 'ERR751537',\n 'ERR751538',\n 'ERR751539',\n 'ERR751541',\n 'ERR751542',\n 'ERR751544',\n 'ERR751545',\n 'ERR751546',\n 'ERR751547',\n 'ERR751548',\n 'ERR751550',\n 'ERR751551',\n 'ERR751552',\n 'ERR751555',\n 'ERR751558',\n 'ERR751560',\n 'ERR751561',\n 'ERR751562',\n 'ERR751563',\n 'ERR751565',\n 'ERR751567',\n 'ERR751570',\n 'ERR751573',\n 'ERR751574',\n 'ERR751575',\n 'ERR751578',\n 'ERR751579',\n 'ERR751581',\n 'ERR751583',\n 'ERR751585',\n 'ERR751586',\n 'ERR751589',\n 'ERR751590',\n 'ERR751591',\n 'ERR751594',\n 'ERR751595',\n 'ERR751596',\n 'ERR751598',\n 'ERR751599',\n 'ERR751601',\n 'ERR751602',\n 'ERR751604',\n 'ERR751605',\n 'ERR751606',\n 'ERR751608',\n 'ERR751611',\n 'ERR751612',\n 'ERR751615',\n 'ERR751616',\n 'ERR751617',\n 'ERR751618',\n 'ERR751622',\n 'ERR751626',\n 'ERR751628',\n 'ERR751630',\n 'ERR751631',\n 'ERR751632',\n 'ERR751634',\n 'ERR757146',\n 'ERR757147',\n 'ERR757148',\n 'ERR757151',\n 'ERR757152',\n 'ERR757160',\n 'ERR757162',\n 'ERR757165',\n 'ERR757166',\n 'ERR757167',\n 'ERR757168',\n 'ERR757170',\n 'ERR757171',\n 'ERR757172',\n 'ERR757173',\n 'ERR757174',\n 'ERR757175',\n 'ERR757176',\n 'ERR757177',\n 'ERR757180',\n 'ERR757181',\n 'ERR757182',\n 'ERR757183',\n 'ERR757187',\n 'ERR760596',\n 'ERR760598',\n 'ERR760599',\n 'ERR760602',\n 'ERR760603',\n 'ERR760604',\n 'ERR760608',\n 'ERR760611',\n 'ERR760731',\n 'ERR760734',\n 'ERR760735',\n 'ERR760737',\n 'ERR760739',\n 'ERR760740',\n 'ERR760741',\n 'ERR760743',\n 'ERR760744',\n 'ERR760748',\n 'ERR760751',\n 'ERR760752',\n 'ERR760753',\n 'ERR760756',\n 'ERR760757',\n 'ERR760759',\n 'ERR760761',\n 'ERR760764',\n 'ERR760767',\n 'ERR760778',\n 'ERR760779',\n 'ERR760782',\n 'ERR760783',\n 'ERR760784',\n 'ERR760785',\n 'ERR760786',\n 'ERR760787',\n 'ERR760788',\n 'ERR760789',\n 'ERR760790',\n 'ERR760791',\n 'ERR760793',\n 'ERR760794',\n 'ERR760795',\n 'ERR760799',\n 'ERR760802',\n 'ERR760809',\n 'ERR760810',\n 'ERR760811',\n 'ERR760812',\n 'ERR760813',\n 'ERR760815',\n 'ERR760818',\n 'ERR760820',\n 'ERR760822',\n 'ERR760823',\n 'ERR760825',\n 'ERR760828',\n 'ERR760830',\n 'ERR760831',\n 'ERR760832',\n 'ERR760833',\n 'ERR760834',\n 'ERR760837',\n 'ERR760840',\n 'ERR760842',\n 'ERR760843',\n 'ERR760845',\n 'ERR760847',\n 'ERR760848',\n 'ERR760851',\n 'ERR760853',\n 'ERR760855',\n 'ERR760856',\n 'ERR760857',\n 'ERR760859',\n 'ERR760860',\n 'ERR760862',\n 'ERR760866',\n 'ERR760867',\n 'ERR760868',\n 'ERR760870',\n 'ERR760873',\n 'ERR760875',\n 'ERR760876',\n 'ERR760878',\n 'ERR760879',\n 'ERR760880',\n 'ERR760882',\n 'ERR760883',\n 'ERR760884',\n 'ERR760885',\n 'ERR760886',\n 'ERR760887',\n 'ERR760888',\n 'ERR760889',\n 'ERR760890',\n 'ERR760891',\n 'ERR760892',\n 'ERR760894',\n 'ERR760895',\n 'ERR760896',\n 'ERR760897',\n 'ERR760899',\n 'ERR760900',\n 'ERR760901',\n 'ERR760902',\n 'ERR760903',\n 'ERR760904',\n 'ERR760906',\n 'ERR760907',\n 'ERR760912',\n 'ERR760914',\n 'ERR760915',\n 'ERR760916',\n 'ERR760920',\n 'ERR760921',\n 'ERR760922',\n 'ERR760924',\n 'ERR760926',\n 'ERR760927',\n 'ERR772255',\n 'ERR772257',\n 'ERR772258',\n 'ERR772260',\n 'ERR772262',\n 'ERR772263',\n 'ERR775294',\n 'ERR775298',\n 'ERR775299',\n 'ERR775300',\n 'ERR775301',\n 'ERR775302',\n 'ERR775304',\n 'ERR775306',\n 'ERR775308',\n 'ERR775309',\n 'ERR775311',\n 'ERR775312',\n 'ERR775313',\n 'ERR775316',\n 'ERR775319',\n 'ERR775320',\n 'ERR775321',\n 'ERR775322',\n 'ERR775324',\n 'ERR775327',\n 'ERR775330',\n 'ERR775335',\n 'ERR775338',\n 'ERR775339',\n 'ERR775340',\n 'ERR775342',\n 'ERR775346',\n 'ERR775349',\n 'ERR775351',\n 'ERR775352',\n 'ERR775355',\n 'ERR775357',\n 'ERR775358',\n 'ERR775359',\n 'ERR775360',\n 'ERR775361',\n 'ERR775362',\n 'ERR775363',\n 'ERR775365',\n 'ERR775366',\n 'ERR775367',\n 'ERR775369',\n 'ERR775370',\n 'ERR775374',\n 'ERR775380',\n 'ERR775381',\n 'ERR775386',\n 'ERR776455',\n 'ERR776463',\n 'ERR776464',\n 'ERR776465',\n 'ERR776467',\n 'ERR776468',\n 'ERR776476',\n 'ERR776659',\n 'ERR776660',\n 'ERR776664',\n 'ERR776665',\n 'ERR776666',\n 'ERR776667',\n 'ERR776669',\n 'ERR776670',\n 'ERR776673',\n 'ERR776674',\n 'ERR776675',\n 'ERR779844',\n 'ERR779846',\n 'ERR779851',\n 'ERR779854',\n 'ERR779855',\n 'ERR779856',\n 'ERR779858',\n 'ERR779860',\n 'ERR779861',\n 'ERR779862',\n 'ERR779863',\n 'ERR779864',\n 'ERR779868',\n 'ERR779869',\n 'ERR779870',\n 'ERR779873',\n 'ERR779876',\n 'ERR779878',\n 'ERR779880',\n 'ERR779881',\n 'ERR779882',\n 'ERR779883',\n 'ERR779884',\n 'ERR779887',\n 'ERR779889',\n 'ERR779890',\n 'ERR779892',\n 'ERR779893',\n 'ERR779894',\n 'ERR779895',\n 'ERR779896',\n 'ERR779897',\n 'ERR779899',\n 'ERR779901',\n 'ERR779902',\n 'ERR779904',\n 'ERR779909',\n 'ERR779910',\n 'ERR779911',\n 'ERR779912',\n 'ERR779916',\n 'ERR779917',\n 'ERR779918',\n 'ERR779919',\n 'ERR779920',\n 'ERR845303',\n 'ERR845305',\n 'ERR845306',\n 'ERR845307',\n 'ERR845327',\n 'ERR845328',\n 'ERR845329',\n 'ERR845936',\n 'ERR845937',\n 'ERR845939',\n 'ERR845941',\n 'ERR850078',\n 'SRR10129601',\n 'SRR10129603',\n 'SRR10130137',\n 'SRR10851589',\n 'SRR10851592',\n 'SRR10851593',\n 'SRR10851594',\n 'SRR10851595',\n 'SRR10851596',\n 'SRR10851598',\n 'SRR10851599',\n 'SRR10851601',\n 'SRR10851603',\n 'SRR10851604',\n 'SRR10851606',\n 'SRR10851609',\n 'SRR10851611',\n 'SRR10851612',\n 'SRR10851614',\n 'SRR10851615',\n 'SRR10851616',\n 'SRR10851618',\n 'SRR10851620',\n 'SRR10851621',\n 'SRR10851624',\n 'SRR10851626',\n 'SRR10851627',\n 'SRR10851631',\n 'SRR10851633',\n 'SRR10851634',\n 'SRR10851635',\n 'SRR10851637',\n 'SRR10851641',\n 'SRR10851642',\n 'SRR10851644',\n 'SRR10851645',\n 'SRR10851646',\n 'SRR10851647',\n 'SRR10851649',\n 'SRR10851650',\n 'SRR10851652',\n 'SRR10851655',\n 'SRR10851658',\n 'SRR10851660',\n 'SRR10851663',\n 'SRR10851666',\n 'SRR10851667',\n 'SRR10851668',\n 'SRR10851671',\n 'SRR10851674',\n 'SRR10851675',\n 'SRR10851678',\n 'SRR10851679',\n 'SRR10851680',\n 'SRR10851682',\n 'SRR10851683',\n 'SRR10851685',\n 'SRR10851689',\n 'SRR10851690',\n 'SRR10851696',\n 'SRR10851697',\n 'SRR10851699',\n 'SRR10851702',\n 'SRR10851704',\n 'SRR10851705',\n 'SRR10851710',\n 'SRR10851711',\n 'SRR10851712',\n 'SRR10851713',\n 'SRR10851714',\n 'SRR10851717',\n 'SRR10851718',\n 'SRR10851719',\n 'SRR10851721',\n 'SRR10851723',\n 'SRR10851728',\n 'SRR10851730',\n 'SRR10851731',\n 'SRR10851736',\n 'SRR10851741',\n 'SRR11098558',\n 'SRR11098559',\n 'SRR11098560',\n 'SRR11608038',\n 'SRR11922480',\n 'SRR11922492',\n 'SRR11922532',\n 'SRR11947358',\n 'SRR11947364',\n 'SRR11947366',\n 'SRR11947380',\n 'SRR11947381',\n 'SRR11947382',\n 'SRR11947384',\n 'SRR11947397',\n 'SRR1765872',\n 'SRR1765877',\n 'SRR1765879',\n 'SRR3724811',\n 'SRR3724960',\n 'SRR3724982',\n 'SRR3724983',\n 'SRR3724984',\n 'SRR3725704',\n 'SRR3725705',\n 'SRR3725707',\n 'SRR3732569',\n 'SRR3732572',\n 'SRR3732576',\n 'SRR3732577',\n 'SRR3732578',\n 'SRR3732579',\n 'SRR3732582',\n 'SRR3732583',\n 'SRR3732584',\n 'SRR3732585',\n 'SRR3732586',\n 'SRR3732587',\n 'SRR3732588',\n 'SRR3732589',\n 'SRR3732592',\n 'SRR3732593',\n 'SRR3732595',\n 'SRR3732620',\n 'SRR3732621',\n 'SRR3732622',\n 'SRR3732641',\n 'SRR3732642',\n 'SRR3732645',\n 'SRR3732650',\n 'SRR3732651',\n 'SRR3732690',\n 'SRR3732700',\n 'SRR3732701',\n 'SRR3732705',\n 'SRR3732714',\n 'SRR3732720',\n 'SRR3732721',\n 'SRR3732723',\n 'SRR5535696',\n 'SRR5535697',\n 'SRR5535699',\n 'SRR5535701',\n 'SRR5535703',\n 'SRR5535705',\n 'SRR5535707',\n 'SRR5535711',\n 'SRR5535717',\n 'SRR5535780',\n 'SRR5535783',\n 'SRR6389897',\n 'SRR6389898',\n 'SRR6389901',\n 'SRR6389902',\n 'SRR6389905',\n 'SRR6389906',\n 'SRR6389908',\n 'SRR6389910',\n 'SRR7517680',\n 'SRR7517741',\n 'SRR7517767',\n 'SRR7517768',\n 'SRR7517769',\n 'SRR7517770',\n 'SRR7517772',\n 'SRR7517775',\n 'SRR7517786',\n 'SRR7517787',\n 'SRR7517800',\n 'SRR7517809',\n 'SRR7517810',\n 'SRR7517811',\n 'SRR7517813',\n 'SRR7517814',\n 'SRR7517827',\n 'SRR7517828',\n 'SRR7517830',\n 'SRR7517832',\n 'SRR7517834',\n 'SRR7517835',\n 'SRR7517836',\n 'SRR8698479',\n 'SRR8698481',\n 'SRR8698484',\n 'SRR8698486',\n 'SRR8698487',\n 'SRR8698488',\n 'SRR8698489',\n 'SRR8698490',\n 'SRR8698491',\n 'SRR8698492',\n 'SRR8698495',\n 'SRR8698497',\n 'SRR8698501',\n 'SRR8698502',\n 'SRR8698503',\n 'SRR8698504',\n 'SRR8698506',\n 'SRR8698507',\n 'SRR8698508',\n 'SRR9224911',\n 'SRR9224912',\n 'SRR9224913',\n 'SRR9224915',\n 'SRR9224918',\n 'SRR9224919',\n 'SRR9224920',\n 'SRR9224922',\n 'SRR9224923',\n 'SRR9224924',\n 'SRR9224926',\n 'SRR9224930',\n 'SRR9224933',\n 'SRR9224934',\n 'SRR9224936',\n 'SRR9224938',\n 'SRR9224939',\n 'SRR9224943',\n 'SRR9224945',\n 'SRR9224948',\n 'SRR9224950',\n 'SRR9224953',\n 'SRR9224957',\n 'SRR9224958',\n 'SRR9224959',\n 'SRR9224961',\n 'SRR9224964',\n 'SRR9224965',\n 'SRR9224966',\n 'SRR9224969',\n 'SRR9224970',\n 'SRR9224972',\n 'SRR9224974',\n 'SRR9224975',\n 'SRR9224976',\n 'SRR9224981',\n 'SRR9224983',\n 'SRR9224984',\n 'SRR9224985',\n 'SRR9224986',\n 'SRR9224987',\n 'SRR9224989',\n 'SRR9224990',\n 'SRR9224991',\n 'SRR9224992',\n 'SRR9224993',\n 'SRR9224994',\n 'SRR9224997',\n 'SRR9224998',\n 'SRR9225000',\n 'SRR9225001',\n 'SRR9225002',\n 'SRR9225003']"
     },
     "execution_count": 179,
     "metadata": {},
     "output_type": "execute_result"
    }
   ]
  },
  {
   "cell_type": "code",
   "execution_count": 180,
   "outputs": [],
   "source": [
    "# Read the final results file from tb-profiler results\n",
    "\n",
    "raw_tbprofiler_combined_result = pd.read_json(\"./../_resources/raw/tbProfiler/tbprofiler.json\", encoding=\"UTF-8\")"
   ],
   "metadata": {
    "collapsed": false,
    "pycharm": {
     "name": "#%%\n"
    }
   }
  },
  {
   "cell_type": "code",
   "execution_count": 181,
   "outputs": [],
   "source": [
    "# Isolate the common genome IDs using set difference\n",
    "list_of_common_genome_ids= set(raw_tbprofiler_combined_result.columns.to_list()).intersection(set(raw_vcf_genome_names))\n",
    "\n",
    "# list_of_common_genome_ids\n",
    "\n",
    "# pd.DataFrame(list_of_common_genome_ids).to_json(path_or_buf= \"./../_resources/synced/common_genome_ids.json\", orient=\"values\")\n"
   ],
   "metadata": {
    "collapsed": false,
    "pycharm": {
     "name": "#%%\n"
    }
   }
  },
  {
   "cell_type": "code",
   "execution_count": 186,
   "outputs": [
    {
     "data": {
      "text/plain": "                     drtype\nSRR8698507        Sensitive\nSRR10851647       Sensitive\nSRR9224984              MDR\nERR760890               MDR\nERR760785               MDR\n...                     ...\nSRR8698479   Drug-resistant\nSRR10851680       Sensitive\nERR779917               MDR\nERR751542               MDR\nERR3148229        Sensitive\n\n[735 rows x 1 columns]",
      "text/html": "<div>\n<style scoped>\n    .dataframe tbody tr th:only-of-type {\n        vertical-align: middle;\n    }\n\n    .dataframe tbody tr th {\n        vertical-align: top;\n    }\n\n    .dataframe thead th {\n        text-align: right;\n    }\n</style>\n<table border=\"1\" class=\"dataframe\">\n  <thead>\n    <tr style=\"text-align: right;\">\n      <th></th>\n      <th>drtype</th>\n    </tr>\n  </thead>\n  <tbody>\n    <tr>\n      <th>SRR8698507</th>\n      <td>Sensitive</td>\n    </tr>\n    <tr>\n      <th>SRR10851647</th>\n      <td>Sensitive</td>\n    </tr>\n    <tr>\n      <th>SRR9224984</th>\n      <td>MDR</td>\n    </tr>\n    <tr>\n      <th>ERR760890</th>\n      <td>MDR</td>\n    </tr>\n    <tr>\n      <th>ERR760785</th>\n      <td>MDR</td>\n    </tr>\n    <tr>\n      <th>...</th>\n      <td>...</td>\n    </tr>\n    <tr>\n      <th>SRR8698479</th>\n      <td>Drug-resistant</td>\n    </tr>\n    <tr>\n      <th>SRR10851680</th>\n      <td>Sensitive</td>\n    </tr>\n    <tr>\n      <th>ERR779917</th>\n      <td>MDR</td>\n    </tr>\n    <tr>\n      <th>ERR751542</th>\n      <td>MDR</td>\n    </tr>\n    <tr>\n      <th>ERR3148229</th>\n      <td>Sensitive</td>\n    </tr>\n  </tbody>\n</table>\n<p>735 rows × 1 columns</p>\n</div>"
     },
     "execution_count": 186,
     "metadata": {},
     "output_type": "execute_result"
    }
   ],
   "source": [
    "# Save the tb-profiler data only for the common genomes\n",
    "synced_tbprofiler_df = (raw_tbprofiler_combined_result[list_of_common_genome_ids]).transpose()\n",
    "\n",
    "synced_tbprofiler_df.to_json(path_or_buf= \"./../_resources/synced/tbProfiler_combined_result.json\")\n",
    "synced_tbprofiler_df[['drtype']]"
   ],
   "metadata": {
    "collapsed": false,
    "pycharm": {
     "name": "#%%\n"
    }
   }
  },
  {
   "cell_type": "code",
   "execution_count": 67,
   "outputs": [
    {
     "name": "stdout",
     "output_type": "stream",
     "text": [
      "1\n"
     ]
    }
   ],
   "source": [
    "# Save only the VCF files which belong to the common genome IDs\n",
    "\n",
    "# Using this code, create a txt file and then create a shell script to move all vcf files there\n",
    "with open('./../_resources/synced/common_genome_ids.txt', 'w') as filehandle:\n",
    "    for listitem in list_of_common_genome_ids:\n",
    "        filehandle.write('%s\\n' % listitem)"
   ],
   "metadata": {
    "collapsed": false,
    "pycharm": {
     "name": "#%%\n"
    }
   }
  },
  {
   "cell_type": "code",
   "execution_count": 112,
   "outputs": [
    {
     "name": "stdout",
     "output_type": "stream",
     "text": [
      "{('0', '0'), ('1', '2'), ('1', '1'), ('0', '2'), (None, None), ('2', '2'), ('0', '1')}\n"
     ]
    }
   ],
   "source": [
    "# Read a vcf file\n",
    "\n",
    "# PyVCF package\n",
    "import vcf\n",
    "\n",
    "vcf_reader = vcf.Reader(open(\"./cohort.bqsr.filter.snps.vcf\"), 'r')\n",
    "\n",
    "sample_1 = []\n",
    "\n",
    "def extract_vcf_data (vcf_record):\n",
    "\n",
    "    samples = record.samples\n",
    "    # print(record.POS, \" : \", record.alleles, \" : \", samples[0].gt_alleles, \" : \", samples[1].gt_alleles)\n",
    "    sample_1.append(samples[1].gt_alleles)\n",
    "\n",
    "    # first_allele_name = record.alleles[0]\n",
    "    # second_allele_name =  str(record.alleles[1])\n",
    "    #\n",
    "    # first_allele_is_present = 1 if int(samples.gt_alleles[0]) == 1 else 0\n",
    "    # second_allele_is_present = 1 if int(samples.gt_alleles[1]) == 1 else 0\n",
    "    #\n",
    "    #\n",
    "    #\n",
    "    # print(str(record.POS) + \"_REF_\" + first_allele_name + \" : \" , first_allele_is_present)\n",
    "    # print(str(record.POS) + \"_ALT_\" + first_allele_name + \" : \" , int(not(first_allele_is_present)))\n",
    "    #\n",
    "    # print(str(record.POS) + \"_REF_\" + second_allele_name + \" : \" , second_allele_is_present)\n",
    "    # print(str(record.POS) + \"_ALT_\" + second_allele_name + \" : \" , int(not(second_allele_is_present)))\n",
    "\n",
    "\n",
    "\n",
    "\n",
    "# print( \" POS : \", \" ALLELES : \", \" SAMPLE_1\")\n",
    "for record in vcf_reader:\n",
    "    extract_vcf_data(record)\n",
    "\n",
    "    # print(\"\\n@@@@\\n\")\n",
    "\n",
    "    # print('GT :', record.samples[0].gt_alleles)\n",
    "\n",
    "set_of_alleles = set(tuple(row) for row in sample_1)\n",
    "\n",
    "print(set_of_alleles)\n",
    "\n",
    "# TODO create a cohort_snp_df\n",
    "# TODO prune out NONE allele calls\n",
    "# TODO prune out the complex allele calls\n",
    "\n",
    "\n",
    "# {('0', '0'), ('1', '2'), ('1', '1'), (None, None), ('2', '2'), ('0', '1')}\n",
    "\n",
    "# {('0', '0'), ('1', '2'), ('1', '1'), ('0', '2'), (None, None), ('2', '2'), ('0', '1')}"
   ],
   "metadata": {
    "collapsed": false,
    "pycharm": {
     "name": "#%%\n"
    }
   }
  },
  {
   "cell_type": "code",
   "execution_count": 174,
   "outputs": [
    {
     "name": "stdout",
     "output_type": "stream",
     "text": [
      "samples\n",
      "calldata/GT\n",
      "variants/ALT\n",
      "variants/CHROM\n",
      "variants/FILTER_PASS\n",
      "variants/ID\n",
      "variants/POS\n",
      "variants/QUAL\n",
      "variants/REF\n"
     ]
    }
   ],
   "source": [
    "import allel\n",
    "\n",
    "cohort_snp_vcf = allel.read_vcf(\"cohort.bqsr.filter.snps.vcf\")\n",
    "for a_key in cohort_snp_vcf.keys():\n",
    "    print(a_key)\n",
    "\n",
    "# for i in zip(cohort_snp_vcf['variants/REF'], cohort_snp_vcf['variants/ALT']):\n",
    "#     print(i[0], \" : \", i[1][0])\n",
    "\n"
   ],
   "metadata": {
    "collapsed": false,
    "pycharm": {
     "name": "#%%\n"
    }
   }
  },
  {
   "cell_type": "code",
   "execution_count": 162,
   "outputs": [
    {
     "data": {
      "text/plain": "Index(['CHROM', 'POS', 'ID', 'REF', 'ALT_1', 'ALT_2', 'ALT_3', 'QUAL', 'AC_1',\n       'AC_2', 'AC_3', 'AF_1', 'AF_2', 'AF_3', 'AN', 'BaseQRankSum', 'DP',\n       'END', 'ExcessHet', 'FS', 'InbreedingCoeff', 'MLEAC_1', 'MLEAC_2',\n       'MLEAC_3', 'MLEAF_1', 'MLEAF_2', 'MLEAF_3', 'MQ', 'MQRankSum', 'QD',\n       'RAW_MQandDP_1', 'RAW_MQandDP_2', 'ReadPosRankSum', 'SOR',\n       'FILTER_PASS', 'FILTER_FS_filter', 'FILTER_LowQual',\n       'FILTER_MQRankSum_filter', 'FILTER_MQ_filter', 'FILTER_QD_filter',\n       'FILTER_ReadPosRankSum_filter', 'FILTER_SOR_filter', 'numalt',\n       'altlen_1', 'altlen_2', 'altlen_3', 'is_snp'],\n      dtype='object')"
     },
     "execution_count": 162,
     "metadata": {},
     "output_type": "execute_result"
    }
   ],
   "source": [
    "cohort_snp_df = allel.vcf_to_dataframe(\"cohort.bqsr.filter.snps.vcf\", fields=\"*\")\n",
    "cohort_snp_df.columns\n",
    "\n",
    "\n",
    "# cohort_snp_df.head()\n",
    "# cohort_snp_vcf['calldata/GT']"
   ],
   "metadata": {
    "collapsed": false,
    "pycharm": {
     "name": "#%%\n"
    }
   }
  },
  {
   "cell_type": "code",
   "execution_count": 129,
   "outputs": [
    {
     "data": {
      "text/plain": "          CHROM      POS ID REF ALT_1  ALT_2  ALT_3         QUAL  AC_1  AC_2  \\\n0    NC000962_3      371  .   C     T    NaN    NaN  3998.060059     2    -1   \n1    NC000962_3     4013  .   T     C    NaN    NaN  4354.060059     2    -1   \n2    NC000962_3     7362  .   G     C    NaN    NaN  5295.060059     2    -1   \n3    NC000962_3    11879  .   A     G    NaN    NaN  4555.060059     2    -1   \n4    NC000962_3    12128  .   C     A    NaN    NaN  4687.060059     2    -1   \n..          ...      ... ..  ..   ...    ...    ...          ...   ...   ...   \n803  NC000962_3  4375628  .   G     T    NaN    NaN  5303.060059     2    -1   \n804  NC000962_3  4379680  .   C     G    NaN    NaN  4979.060059     2    -1   \n805  NC000962_3  4382054  .   T     C    NaN    NaN  4956.060059     2    -1   \n806  NC000962_3  4382275  .   G     T    NaN    NaN  4778.060059     2    -1   \n807  NC000962_3  4388870  .   C     G    NaN    NaN  5303.060059     2    -1   \n\n     ...         QD  ReadPosRankSum    SOR  FILTER_PASS  FILTER_LowQual  \\\n0    ...  28.500000             NaN  0.813        False           False   \n1    ...  28.389999             NaN  0.746        False           False   \n2    ...  30.030001             NaN  1.112        False           False   \n3    ...  35.220001             NaN  0.745        False           False   \n4    ...  29.719999             NaN  0.876        False           False   \n..   ...        ...             ...    ...          ...             ...   \n803  ...  29.080000             NaN  0.917        False           False   \n804  ...  27.450001             NaN  0.788        False           False   \n805  ...  31.049999             NaN  0.862        False           False   \n806  ...  30.790001             NaN  0.831        False           False   \n807  ...  31.000000             NaN  0.809        False           False   \n\n     numalt  altlen_1  altlen_2  altlen_3  is_snp  \n0         1         0         0         0    True  \n1         1         0         0         0    True  \n2         1         0         0         0    True  \n3         1         0         0         0    True  \n4         1         0         0         0    True  \n..      ...       ...       ...       ...     ...  \n803       1         0         0         0    True  \n804       1         0         0         0    True  \n805       1         0         0         0    True  \n806       1         0         0         0    True  \n807       1         0         0         0    True  \n\n[808 rows x 38 columns]",
      "text/html": "<div>\n<style scoped>\n    .dataframe tbody tr th:only-of-type {\n        vertical-align: middle;\n    }\n\n    .dataframe tbody tr th {\n        vertical-align: top;\n    }\n\n    .dataframe thead th {\n        text-align: right;\n    }\n</style>\n<table border=\"1\" class=\"dataframe\">\n  <thead>\n    <tr style=\"text-align: right;\">\n      <th></th>\n      <th>CHROM</th>\n      <th>POS</th>\n      <th>ID</th>\n      <th>REF</th>\n      <th>ALT_1</th>\n      <th>ALT_2</th>\n      <th>ALT_3</th>\n      <th>QUAL</th>\n      <th>AC_1</th>\n      <th>AC_2</th>\n      <th>...</th>\n      <th>QD</th>\n      <th>ReadPosRankSum</th>\n      <th>SOR</th>\n      <th>FILTER_PASS</th>\n      <th>FILTER_LowQual</th>\n      <th>numalt</th>\n      <th>altlen_1</th>\n      <th>altlen_2</th>\n      <th>altlen_3</th>\n      <th>is_snp</th>\n    </tr>\n  </thead>\n  <tbody>\n    <tr>\n      <th>0</th>\n      <td>NC000962_3</td>\n      <td>371</td>\n      <td>.</td>\n      <td>C</td>\n      <td>T</td>\n      <td>NaN</td>\n      <td>NaN</td>\n      <td>3998.060059</td>\n      <td>2</td>\n      <td>-1</td>\n      <td>...</td>\n      <td>28.500000</td>\n      <td>NaN</td>\n      <td>0.813</td>\n      <td>False</td>\n      <td>False</td>\n      <td>1</td>\n      <td>0</td>\n      <td>0</td>\n      <td>0</td>\n      <td>True</td>\n    </tr>\n    <tr>\n      <th>1</th>\n      <td>NC000962_3</td>\n      <td>4013</td>\n      <td>.</td>\n      <td>T</td>\n      <td>C</td>\n      <td>NaN</td>\n      <td>NaN</td>\n      <td>4354.060059</td>\n      <td>2</td>\n      <td>-1</td>\n      <td>...</td>\n      <td>28.389999</td>\n      <td>NaN</td>\n      <td>0.746</td>\n      <td>False</td>\n      <td>False</td>\n      <td>1</td>\n      <td>0</td>\n      <td>0</td>\n      <td>0</td>\n      <td>True</td>\n    </tr>\n    <tr>\n      <th>2</th>\n      <td>NC000962_3</td>\n      <td>7362</td>\n      <td>.</td>\n      <td>G</td>\n      <td>C</td>\n      <td>NaN</td>\n      <td>NaN</td>\n      <td>5295.060059</td>\n      <td>2</td>\n      <td>-1</td>\n      <td>...</td>\n      <td>30.030001</td>\n      <td>NaN</td>\n      <td>1.112</td>\n      <td>False</td>\n      <td>False</td>\n      <td>1</td>\n      <td>0</td>\n      <td>0</td>\n      <td>0</td>\n      <td>True</td>\n    </tr>\n    <tr>\n      <th>3</th>\n      <td>NC000962_3</td>\n      <td>11879</td>\n      <td>.</td>\n      <td>A</td>\n      <td>G</td>\n      <td>NaN</td>\n      <td>NaN</td>\n      <td>4555.060059</td>\n      <td>2</td>\n      <td>-1</td>\n      <td>...</td>\n      <td>35.220001</td>\n      <td>NaN</td>\n      <td>0.745</td>\n      <td>False</td>\n      <td>False</td>\n      <td>1</td>\n      <td>0</td>\n      <td>0</td>\n      <td>0</td>\n      <td>True</td>\n    </tr>\n    <tr>\n      <th>4</th>\n      <td>NC000962_3</td>\n      <td>12128</td>\n      <td>.</td>\n      <td>C</td>\n      <td>A</td>\n      <td>NaN</td>\n      <td>NaN</td>\n      <td>4687.060059</td>\n      <td>2</td>\n      <td>-1</td>\n      <td>...</td>\n      <td>29.719999</td>\n      <td>NaN</td>\n      <td>0.876</td>\n      <td>False</td>\n      <td>False</td>\n      <td>1</td>\n      <td>0</td>\n      <td>0</td>\n      <td>0</td>\n      <td>True</td>\n    </tr>\n    <tr>\n      <th>...</th>\n      <td>...</td>\n      <td>...</td>\n      <td>...</td>\n      <td>...</td>\n      <td>...</td>\n      <td>...</td>\n      <td>...</td>\n      <td>...</td>\n      <td>...</td>\n      <td>...</td>\n      <td>...</td>\n      <td>...</td>\n      <td>...</td>\n      <td>...</td>\n      <td>...</td>\n      <td>...</td>\n      <td>...</td>\n      <td>...</td>\n      <td>...</td>\n      <td>...</td>\n      <td>...</td>\n    </tr>\n    <tr>\n      <th>803</th>\n      <td>NC000962_3</td>\n      <td>4375628</td>\n      <td>.</td>\n      <td>G</td>\n      <td>T</td>\n      <td>NaN</td>\n      <td>NaN</td>\n      <td>5303.060059</td>\n      <td>2</td>\n      <td>-1</td>\n      <td>...</td>\n      <td>29.080000</td>\n      <td>NaN</td>\n      <td>0.917</td>\n      <td>False</td>\n      <td>False</td>\n      <td>1</td>\n      <td>0</td>\n      <td>0</td>\n      <td>0</td>\n      <td>True</td>\n    </tr>\n    <tr>\n      <th>804</th>\n      <td>NC000962_3</td>\n      <td>4379680</td>\n      <td>.</td>\n      <td>C</td>\n      <td>G</td>\n      <td>NaN</td>\n      <td>NaN</td>\n      <td>4979.060059</td>\n      <td>2</td>\n      <td>-1</td>\n      <td>...</td>\n      <td>27.450001</td>\n      <td>NaN</td>\n      <td>0.788</td>\n      <td>False</td>\n      <td>False</td>\n      <td>1</td>\n      <td>0</td>\n      <td>0</td>\n      <td>0</td>\n      <td>True</td>\n    </tr>\n    <tr>\n      <th>805</th>\n      <td>NC000962_3</td>\n      <td>4382054</td>\n      <td>.</td>\n      <td>T</td>\n      <td>C</td>\n      <td>NaN</td>\n      <td>NaN</td>\n      <td>4956.060059</td>\n      <td>2</td>\n      <td>-1</td>\n      <td>...</td>\n      <td>31.049999</td>\n      <td>NaN</td>\n      <td>0.862</td>\n      <td>False</td>\n      <td>False</td>\n      <td>1</td>\n      <td>0</td>\n      <td>0</td>\n      <td>0</td>\n      <td>True</td>\n    </tr>\n    <tr>\n      <th>806</th>\n      <td>NC000962_3</td>\n      <td>4382275</td>\n      <td>.</td>\n      <td>G</td>\n      <td>T</td>\n      <td>NaN</td>\n      <td>NaN</td>\n      <td>4778.060059</td>\n      <td>2</td>\n      <td>-1</td>\n      <td>...</td>\n      <td>30.790001</td>\n      <td>NaN</td>\n      <td>0.831</td>\n      <td>False</td>\n      <td>False</td>\n      <td>1</td>\n      <td>0</td>\n      <td>0</td>\n      <td>0</td>\n      <td>True</td>\n    </tr>\n    <tr>\n      <th>807</th>\n      <td>NC000962_3</td>\n      <td>4388870</td>\n      <td>.</td>\n      <td>C</td>\n      <td>G</td>\n      <td>NaN</td>\n      <td>NaN</td>\n      <td>5303.060059</td>\n      <td>2</td>\n      <td>-1</td>\n      <td>...</td>\n      <td>31.000000</td>\n      <td>NaN</td>\n      <td>0.809</td>\n      <td>False</td>\n      <td>False</td>\n      <td>1</td>\n      <td>0</td>\n      <td>0</td>\n      <td>0</td>\n      <td>True</td>\n    </tr>\n  </tbody>\n</table>\n<p>808 rows × 38 columns</p>\n</div>"
     },
     "execution_count": 129,
     "metadata": {},
     "output_type": "execute_result"
    }
   ],
   "source": [
    "vcf_df = allel.vcf_to_dataframe(\"ERR751350.snps.vcf\", fields=\"*\")\n",
    "vcf_df"
   ],
   "metadata": {
    "collapsed": false,
    "pycharm": {
     "name": "#%%\n"
    }
   }
  },
  {
   "cell_type": "code",
   "execution_count": 187,
   "outputs": [
    {
     "data": {
      "text/plain": "            NC000962_3.1977  NC000962_3.4013  NC000962_3.5780  \\\nERR3148226                2                2                2   \nERR3148228                2                2                0   \n\n            NC000962_3.7362  NC000962_3.7585  NC000962_3.9304  \\\nERR3148226                2                2                2   \nERR3148228                2                2                2   \n\n            NC000962_3.11370  NC000962_3.11879  NC000962_3.13636  \\\nERR3148226                 2                 2                 0   \nERR3148228                 2                 2                 2   \n\n            NC000962_3.14079  ...  NC000962_3.4384417  NC000962_3.4385111  \\\nERR3148226                 0  ...                   2                   0   \nERR3148228                 2  ...                   2                   2   \n\n            NC000962_3.4386228  NC000962_3.4386709  NC000962_3.4393178  \\\nERR3148226                   2                   2                   2   \nERR3148228                   2                   2                   2   \n\n            NC000962_3.4399185  NC000962_3.4400246  NC000962_3.4400863  \\\nERR3148226                   2                   2                   0   \nERR3148228                   0                   2                   2   \n\n            NC000962_3.4404034  NC000962_3.4404832  \nERR3148226                   2                   2  \nERR3148228                   0                   0  \n\n[2 rows x 1655 columns]",
      "text/html": "<div>\n<style scoped>\n    .dataframe tbody tr th:only-of-type {\n        vertical-align: middle;\n    }\n\n    .dataframe tbody tr th {\n        vertical-align: top;\n    }\n\n    .dataframe thead th {\n        text-align: right;\n    }\n</style>\n<table border=\"1\" class=\"dataframe\">\n  <thead>\n    <tr style=\"text-align: right;\">\n      <th></th>\n      <th>NC000962_3.1977</th>\n      <th>NC000962_3.4013</th>\n      <th>NC000962_3.5780</th>\n      <th>NC000962_3.7362</th>\n      <th>NC000962_3.7585</th>\n      <th>NC000962_3.9304</th>\n      <th>NC000962_3.11370</th>\n      <th>NC000962_3.11879</th>\n      <th>NC000962_3.13636</th>\n      <th>NC000962_3.14079</th>\n      <th>...</th>\n      <th>NC000962_3.4384417</th>\n      <th>NC000962_3.4385111</th>\n      <th>NC000962_3.4386228</th>\n      <th>NC000962_3.4386709</th>\n      <th>NC000962_3.4393178</th>\n      <th>NC000962_3.4399185</th>\n      <th>NC000962_3.4400246</th>\n      <th>NC000962_3.4400863</th>\n      <th>NC000962_3.4404034</th>\n      <th>NC000962_3.4404832</th>\n    </tr>\n  </thead>\n  <tbody>\n    <tr>\n      <th>ERR3148226</th>\n      <td>2</td>\n      <td>2</td>\n      <td>2</td>\n      <td>2</td>\n      <td>2</td>\n      <td>2</td>\n      <td>2</td>\n      <td>2</td>\n      <td>0</td>\n      <td>0</td>\n      <td>...</td>\n      <td>2</td>\n      <td>0</td>\n      <td>2</td>\n      <td>2</td>\n      <td>2</td>\n      <td>2</td>\n      <td>2</td>\n      <td>0</td>\n      <td>2</td>\n      <td>2</td>\n    </tr>\n    <tr>\n      <th>ERR3148228</th>\n      <td>2</td>\n      <td>2</td>\n      <td>0</td>\n      <td>2</td>\n      <td>2</td>\n      <td>2</td>\n      <td>2</td>\n      <td>2</td>\n      <td>2</td>\n      <td>2</td>\n      <td>...</td>\n      <td>2</td>\n      <td>2</td>\n      <td>2</td>\n      <td>2</td>\n      <td>2</td>\n      <td>0</td>\n      <td>2</td>\n      <td>2</td>\n      <td>0</td>\n      <td>0</td>\n    </tr>\n  </tbody>\n</table>\n<p>2 rows × 1655 columns</p>\n</div>"
     },
     "execution_count": 187,
     "metadata": {},
     "output_type": "execute_result"
    }
   ],
   "source": [
    "import allel\n",
    "# see http://alimanfoo.github.io/2017/06/14/read-vcf.html for allel tutorial\n",
    "import pandas as pd\n",
    "\n",
    "vcf = allel.read_vcf(\"cohort.bqsr.filter.snps.vcf\")\n",
    "\n",
    "def vcf_get_index(vcf):\n",
    "    \"\"\"Return index as \"CHR.POS\".\"\"\"\n",
    "    return [\n",
    "        \".\".join([chrom, str(pos)]) for chrom, pos in zip(\n",
    "            vcf[\"variants/CHROM\"],\n",
    "            vcf[\"variants/POS\"]\n",
    "        )\n",
    "    ]\n",
    "\n",
    "def vcf_get_columns(vcf):\n",
    "    \"\"\"Return columns as \"SAMPLE_ID\".\"\"\"\n",
    "    return vcf[\"samples\"]\n",
    "\n",
    "def vcf_to_snp_count(vcf):\n",
    "    \"\"\"Yield snp counts per sample, iterating over the snps in vcf.\"\"\"\n",
    "    for gt in vcf[\"calldata/GT\"]:\n",
    "        # GT value per allele is 0 if ref, >0 if alt.\n",
    "        # see https://samtools.github.io/hts-specs/VCFv4.2.pdf section 1.4.2.\n",
    "        n_snps = [sum(allele > 0) for allele in gt]\n",
    "        yield n_snps\n",
    "\n",
    "# TODO implement a function to only tell the nature of GT -> homo (0) or hetero (1)\n",
    "\n",
    "snps_df = pd.DataFrame(\n",
    "    vcf_to_snp_count(vcf),\n",
    "    index=vcf_get_index(vcf),\n",
    "    columns=vcf_get_columns(vcf)\n",
    ")\n",
    "\n",
    "# snps['ERR3148226'].values\n",
    "snps_df.transpose()"
   ],
   "metadata": {
    "collapsed": false,
    "pycharm": {
     "name": "#%%\n"
    }
   }
  },
  {
   "cell_type": "code",
   "execution_count": 175,
   "outputs": [],
   "source": [
    "\n"
   ],
   "metadata": {
    "collapsed": false,
    "pycharm": {
     "name": "#%%\n"
    }
   }
  }
 ],
 "metadata": {
  "kernelspec": {
   "name": "pycharm-f27e5417",
   "language": "python",
   "display_name": "PyCharm (drug-resistance-prediction-cambiohack)"
  },
  "language_info": {
   "codemirror_mode": {
    "name": "ipython",
    "version": 2
   },
   "file_extension": ".py",
   "mimetype": "text/x-python",
   "name": "python",
   "nbconvert_exporter": "python",
   "pygments_lexer": "ipython2",
   "version": "2.7.6"
  }
 },
 "nbformat": 4,
 "nbformat_minor": 0
}