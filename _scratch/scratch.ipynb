{
 "cells": [
  {
   "cell_type": "code",
   "execution_count": 63,
   "metadata": {
    "collapsed": true,
    "pycharm": {
     "name": "#%%\n"
    }
   },
   "outputs": [],
   "source": [
    "# Import the usual suspects.\n",
    "import pandas as pd\n",
    "import os\n",
    "\n"
   ]
  },
  {
   "cell_type": "code",
   "source": [
    "# Read the individual file names from gatk results\n",
    "\n",
    "raw_vcf_files= os.listdir(\"./../_resources/raw/gatkVcf\")[0:-1:2]\n",
    "raw_vcf_genome_names = list(map( lambda elem : elem.split(\".\")[0], raw_vcf_files ))\n",
    "\n",
    "raw_vcf_genome_names\n"
   ],
   "metadata": {
    "collapsed": false,
    "pycharm": {
     "name": "#%%\n"
    }
   },
   "execution_count": null,
   "outputs": []
  },
  {
   "cell_type": "code",
   "execution_count": 51,
   "outputs": [
    {
     "data": {
      "text/plain": "{'ERR3129940',\n 'ERR3148150',\n 'ERR3148151',\n 'ERR3148154',\n 'ERR3148156',\n 'ERR3148160',\n 'ERR3148163',\n 'ERR3148164',\n 'ERR3148165',\n 'ERR3148168',\n 'ERR3148169',\n 'ERR3148170',\n 'ERR3148173',\n 'ERR3148174',\n 'ERR3148179',\n 'ERR3148180',\n 'ERR3148185',\n 'ERR3148186',\n 'ERR3148187',\n 'ERR3148190',\n 'ERR3148192',\n 'ERR3148194',\n 'ERR3148195',\n 'ERR3148198',\n 'ERR3148201',\n 'ERR3148202',\n 'ERR3148204',\n 'ERR3148206',\n 'ERR3148209',\n 'ERR3148212',\n 'ERR3148216',\n 'ERR3148217',\n 'ERR3148219',\n 'ERR3148223',\n 'ERR3148227',\n 'ERR751353',\n 'ERR751356',\n 'ERR751360',\n 'ERR751361',\n 'ERR751363',\n 'ERR751364',\n 'ERR751366',\n 'ERR751367',\n 'ERR751368',\n 'ERR751369',\n 'ERR751373',\n 'ERR751375',\n 'ERR751377',\n 'ERR751379',\n 'ERR751383',\n 'ERR751385',\n 'ERR751389',\n 'ERR751390',\n 'ERR751393',\n 'ERR751394',\n 'ERR751396',\n 'ERR751397',\n 'ERR751401',\n 'ERR751405',\n 'ERR751406',\n 'ERR751408',\n 'ERR751409',\n 'ERR751412',\n 'ERR751415',\n 'ERR751418',\n 'ERR751419',\n 'ERR751420',\n 'ERR751423',\n 'ERR751427',\n 'ERR751428',\n 'ERR751429',\n 'ERR751433',\n 'ERR751434',\n 'ERR751435',\n 'ERR751437',\n 'ERR751438',\n 'ERR751439',\n 'ERR751442',\n 'ERR751443',\n 'ERR751446',\n 'ERR751449',\n 'ERR751451',\n 'ERR751453',\n 'ERR751456',\n 'ERR751462',\n 'ERR751463',\n 'ERR751464',\n 'ERR751465',\n 'ERR751467',\n 'ERR751468',\n 'ERR751472',\n 'ERR751473',\n 'ERR751474',\n 'ERR751476',\n 'ERR751480',\n 'ERR751482',\n 'ERR751487',\n 'ERR751488',\n 'ERR751490',\n 'ERR751494',\n 'ERR751495',\n 'ERR751497',\n 'ERR751502',\n 'ERR751503',\n 'ERR751507',\n 'ERR751508',\n 'ERR751511',\n 'ERR751516',\n 'ERR751517',\n 'ERR751518',\n 'ERR751520',\n 'ERR751524',\n 'ERR751531',\n 'ERR751534',\n 'ERR751536',\n 'ERR751540',\n 'ERR751543',\n 'ERR751549',\n 'ERR751553',\n 'ERR751554',\n 'ERR751556',\n 'ERR751557',\n 'ERR751559',\n 'ERR751564',\n 'ERR751566',\n 'ERR751568',\n 'ERR751569',\n 'ERR751571',\n 'ERR751572',\n 'ERR751576',\n 'ERR751577',\n 'ERR751580',\n 'ERR751582',\n 'ERR751584',\n 'ERR751587',\n 'ERR751588',\n 'ERR751592',\n 'ERR751593',\n 'ERR751597',\n 'ERR751600',\n 'ERR751603',\n 'ERR751607',\n 'ERR751609',\n 'ERR751610',\n 'ERR751613',\n 'ERR751614',\n 'ERR751619',\n 'ERR751620',\n 'ERR751621',\n 'ERR751623',\n 'ERR751624',\n 'ERR751625',\n 'ERR751627',\n 'ERR751629',\n 'ERR751633',\n 'ERR757145',\n 'ERR757149',\n 'ERR757150',\n 'ERR757159',\n 'ERR757161',\n 'ERR757163',\n 'ERR757164',\n 'ERR757169',\n 'ERR757178',\n 'ERR757179',\n 'ERR757184',\n 'ERR757185',\n 'ERR757186',\n 'ERR757188',\n 'ERR757189',\n 'ERR758379',\n 'ERR760595',\n 'ERR760597',\n 'ERR760600',\n 'ERR760601',\n 'ERR760605',\n 'ERR760607',\n 'ERR760609',\n 'ERR760610',\n 'ERR760612',\n 'ERR760732',\n 'ERR760736',\n 'ERR760738',\n 'ERR760742',\n 'ERR760745',\n 'ERR760746',\n 'ERR760747',\n 'ERR760749',\n 'ERR760750',\n 'ERR760754',\n 'ERR760755',\n 'ERR760758',\n 'ERR760760',\n 'ERR760762',\n 'ERR760763',\n 'ERR760765',\n 'ERR760766',\n 'ERR760768',\n 'ERR760781',\n 'ERR760792',\n 'ERR760796',\n 'ERR760797',\n 'ERR760798',\n 'ERR760800',\n 'ERR760801',\n 'ERR760803',\n 'ERR760814',\n 'ERR760816',\n 'ERR760817',\n 'ERR760819',\n 'ERR760821',\n 'ERR760824',\n 'ERR760826',\n 'ERR760827',\n 'ERR760829',\n 'ERR760835',\n 'ERR760836',\n 'ERR760838',\n 'ERR760839',\n 'ERR760841',\n 'ERR760844',\n 'ERR760846',\n 'ERR760849',\n 'ERR760850',\n 'ERR760852',\n 'ERR760854',\n 'ERR760858',\n 'ERR760861',\n 'ERR760863',\n 'ERR760864',\n 'ERR760865',\n 'ERR760869',\n 'ERR760871',\n 'ERR760872',\n 'ERR760874',\n 'ERR760877',\n 'ERR760881',\n 'ERR760893',\n 'ERR760905',\n 'ERR760908',\n 'ERR760909',\n 'ERR760910',\n 'ERR760911',\n 'ERR760913',\n 'ERR760917',\n 'ERR760918',\n 'ERR760919',\n 'ERR760923',\n 'ERR760925',\n 'ERR762352',\n 'ERR762353',\n 'ERR772254',\n 'ERR772256',\n 'ERR772259',\n 'ERR772261',\n 'ERR772264',\n 'ERR772265',\n 'ERR775293',\n 'ERR775295',\n 'ERR775296',\n 'ERR775297',\n 'ERR775303',\n 'ERR775305',\n 'ERR775307',\n 'ERR775310',\n 'ERR775314',\n 'ERR775315',\n 'ERR775317',\n 'ERR775318',\n 'ERR775323',\n 'ERR775325',\n 'ERR775326',\n 'ERR775328',\n 'ERR775329',\n 'ERR775331',\n 'ERR775332',\n 'ERR775333',\n 'ERR775334',\n 'ERR775336',\n 'ERR775337',\n 'ERR775341',\n 'ERR775343',\n 'ERR775344',\n 'ERR775345',\n 'ERR775347',\n 'ERR775348',\n 'ERR775350',\n 'ERR775353',\n 'ERR775354',\n 'ERR775356',\n 'ERR775364',\n 'ERR775368',\n 'ERR775371',\n 'ERR775372',\n 'ERR775373',\n 'ERR775375',\n 'ERR775376',\n 'ERR775377',\n 'ERR775378',\n 'ERR775379',\n 'ERR775382',\n 'ERR775383',\n 'ERR775384',\n 'ERR775385',\n 'ERR775387',\n 'ERR775388',\n 'ERR775389',\n 'ERR776452',\n 'ERR776453',\n 'ERR776454',\n 'ERR776456',\n 'ERR776457',\n 'ERR776458',\n 'ERR776459',\n 'ERR776460',\n 'ERR776461',\n 'ERR776462',\n 'ERR776466',\n 'ERR776469',\n 'ERR776470',\n 'ERR776471',\n 'ERR776472',\n 'ERR776473',\n 'ERR776474',\n 'ERR776475',\n 'ERR776661',\n 'ERR776662',\n 'ERR776663',\n 'ERR776668',\n 'ERR776671',\n 'ERR776672',\n 'ERR779842',\n 'ERR779843',\n 'ERR779845',\n 'ERR779847',\n 'ERR779848',\n 'ERR779849',\n 'ERR779850',\n 'ERR779853',\n 'ERR779857',\n 'ERR779859',\n 'ERR779865',\n 'ERR779866',\n 'ERR779867',\n 'ERR779871',\n 'ERR779872',\n 'ERR779874',\n 'ERR779875',\n 'ERR779877',\n 'ERR779879',\n 'ERR779885',\n 'ERR779886',\n 'ERR779888',\n 'ERR779891',\n 'ERR779898',\n 'ERR779900',\n 'ERR779903',\n 'ERR779905',\n 'ERR779906',\n 'ERR779907',\n 'ERR779908',\n 'ERR779913',\n 'ERR779914',\n 'ERR779915',\n 'ERR779921',\n 'ERR779922',\n 'ERR779923',\n 'ERR779924',\n 'ERR779925',\n 'ERR845304',\n 'ERR845330',\n 'ERR845934',\n 'ERR845935',\n 'ERR850262',\n 'SRR10129602',\n 'SRR10130138',\n 'SRR10130139',\n 'SRR10851590',\n 'SRR10851591',\n 'SRR10851597',\n 'SRR10851600',\n 'SRR10851602',\n 'SRR10851605',\n 'SRR10851607',\n 'SRR10851608',\n 'SRR10851610',\n 'SRR10851613',\n 'SRR10851617',\n 'SRR10851619',\n 'SRR10851622',\n 'SRR10851623',\n 'SRR10851625',\n 'SRR10851628',\n 'SRR10851629',\n 'SRR10851630',\n 'SRR10851632',\n 'SRR10851636',\n 'SRR10851638',\n 'SRR10851639',\n 'SRR10851640',\n 'SRR10851643',\n 'SRR10851648',\n 'SRR10851651',\n 'SRR10851653',\n 'SRR10851654',\n 'SRR10851656',\n 'SRR10851657',\n 'SRR10851659',\n 'SRR10851661',\n 'SRR10851662',\n 'SRR10851664',\n 'SRR10851665',\n 'SRR10851669',\n 'SRR10851670',\n 'SRR10851672',\n 'SRR10851673',\n 'SRR10851676',\n 'SRR10851677',\n 'SRR10851681',\n 'SRR10851684',\n 'SRR10851686',\n 'SRR10851687',\n 'SRR10851688',\n 'SRR10851691',\n 'SRR10851692',\n 'SRR10851693',\n 'SRR10851694',\n 'SRR10851695',\n 'SRR10851698',\n 'SRR10851700',\n 'SRR10851701',\n 'SRR10851703',\n 'SRR10851706',\n 'SRR10851707',\n 'SRR10851708',\n 'SRR10851715',\n 'SRR10851716',\n 'SRR10851720',\n 'SRR10851722',\n 'SRR10851724',\n 'SRR10851725',\n 'SRR10851726',\n 'SRR10851727',\n 'SRR10851729',\n 'SRR10851732',\n 'SRR10851733',\n 'SRR10851734',\n 'SRR10851735',\n 'SRR10851737',\n 'SRR10851738',\n 'SRR10851739',\n 'SRR10851740',\n 'SRR11098556',\n 'SRR11098557',\n 'SRR11608039',\n 'SRR11922491',\n 'SRR11922494',\n 'SRR11922499',\n 'SRR11922500',\n 'SRR11922528',\n 'SRR11947357',\n 'SRR11947360',\n 'SRR11947370',\n 'SRR11947378',\n 'SRR11947379',\n 'SRR11947385',\n 'SRR11947393',\n 'SRR11947396',\n 'SRR1765871',\n 'SRR1765874',\n 'SRR3724676',\n 'SRR3724771',\n 'SRR3724966',\n 'SRR3724972',\n 'SRR3724973',\n 'SRR3724976',\n 'SRR3725697',\n 'SRR3732567',\n 'SRR3732568',\n 'SRR3732570',\n 'SRR3732571',\n 'SRR3732573',\n 'SRR3732574',\n 'SRR3732575',\n 'SRR3732580',\n 'SRR3732581',\n 'SRR3732590',\n 'SRR3732591',\n 'SRR3732594',\n 'SRR3732596',\n 'SRR3732648',\n 'SRR3732649',\n 'SRR3732653',\n 'SRR3732678',\n 'SRR3732681',\n 'SRR3732682',\n 'SRR3732683',\n 'SRR3732685',\n 'SRR3732686',\n 'SRR3732687',\n 'SRR3732692',\n 'SRR3732693',\n 'SRR3732697',\n 'SRR3732699',\n 'SRR3732702',\n 'SRR3732711',\n 'SRR3732712',\n 'SRR3732716',\n 'SRR3732722',\n 'SRR5535689',\n 'SRR5535698',\n 'SRR5535706',\n 'SRR5535709',\n 'SRR5535718',\n 'SRR5535720',\n 'SRR5535777',\n 'SRR6389899',\n 'SRR6389900',\n 'SRR6389903',\n 'SRR6389904',\n 'SRR6389907',\n 'SRR6389909',\n 'SRR6389911',\n 'SRR7517771',\n 'SRR7517801',\n 'SRR7517812',\n 'SRR7517815',\n 'SRR7517816',\n 'SRR7517829',\n 'SRR7517831',\n 'SRR8698478',\n 'SRR8698480',\n 'SRR8698482',\n 'SRR8698483',\n 'SRR8698485',\n 'SRR8698493',\n 'SRR8698494',\n 'SRR8698496',\n 'SRR8698498',\n 'SRR8698499',\n 'SRR8698500',\n 'SRR8698505',\n 'SRR9224908',\n 'SRR9224909',\n 'SRR9224910',\n 'SRR9224914',\n 'SRR9224916',\n 'SRR9224917',\n 'SRR9224921',\n 'SRR9224925',\n 'SRR9224927',\n 'SRR9224928',\n 'SRR9224929',\n 'SRR9224931',\n 'SRR9224932',\n 'SRR9224935',\n 'SRR9224937',\n 'SRR9224940',\n 'SRR9224941',\n 'SRR9224942',\n 'SRR9224944',\n 'SRR9224946',\n 'SRR9224947',\n 'SRR9224949',\n 'SRR9224951',\n 'SRR9224952',\n 'SRR9224954',\n 'SRR9224955',\n 'SRR9224956',\n 'SRR9224960',\n 'SRR9224962',\n 'SRR9224963',\n 'SRR9224967',\n 'SRR9224968',\n 'SRR9224971',\n 'SRR9224973',\n 'SRR9224977',\n 'SRR9224978',\n 'SRR9224979',\n 'SRR9224980',\n 'SRR9224982',\n 'SRR9224988',\n 'SRR9224995',\n 'SRR9224996',\n 'SRR9224999',\n 'SRR9225004'}"
     },
     "execution_count": 51,
     "metadata": {},
     "output_type": "execute_result"
    }
   ],
   "source": [
    "# Read the final results file from tb-profiler results\n",
    "\n",
    "raw_tbprofiler_combined_result = pd.read_json(\"./../_resources/raw/tbProfiler/tbprofiler.json\", encoding=\"UTF-8\")"
   ],
   "metadata": {
    "collapsed": false,
    "pycharm": {
     "name": "#%%\n"
    }
   }
  },
  {
   "cell_type": "code",
   "execution_count": null,
   "outputs": [],
   "source": [
    "# Isolate the common genome IDs using set difference\n",
    "list_of_common_genome_ids= set(raw_tbprofiler_combined_result.columns.to_list()).difference(set(raw_vcf_genome_names))\n",
    "\n",
    "list_of_common_genome_ids"
   ],
   "metadata": {
    "collapsed": false,
    "pycharm": {
     "name": "#%%\n"
    }
   }
  },
  {
   "cell_type": "code",
   "execution_count": 62,
   "outputs": [],
   "source": [
    "# Save the tb-profiler data only for the common genomes\n",
    "synced_tbprofiler_df = raw_tbprofiler_combined_result[list_of_common_genome_ids]\n",
    "\n",
    "synced_tbprofiler_df.to_json(path_or_buf= \"./../_resources/synced/tbProfiler_combined_result.json\")"
   ],
   "metadata": {
    "collapsed": false,
    "pycharm": {
     "name": "#%%\n"
    }
   }
  },
  {
   "cell_type": "code",
   "execution_count": null,
   "outputs": [],
   "source": [
    "# TODO  Save only the VCF files which belong to the common genome IDs"
   ],
   "metadata": {
    "collapsed": false,
    "pycharm": {
     "name": "#%%\n"
    }
   }
  }
 ],
 "metadata": {
  "kernelspec": {
   "name": "pycharm-f27e5417",
   "language": "python",
   "display_name": "PyCharm (drug-resistance-prediction-cambiohack)"
  },
  "language_info": {
   "codemirror_mode": {
    "name": "ipython",
    "version": 2
   },
   "file_extension": ".py",
   "mimetype": "text/x-python",
   "name": "python",
   "nbconvert_exporter": "python",
   "pygments_lexer": "ipython2",
   "version": "2.7.6"
  }
 },
 "nbformat": 4,
 "nbformat_minor": 0
}